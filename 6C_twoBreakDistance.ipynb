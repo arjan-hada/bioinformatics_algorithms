{
 "cells": [
  {
   "cell_type": "code",
   "execution_count": 1,
   "metadata": {
    "collapsed": true
   },
   "outputs": [],
   "source": [
    "from collections import defaultdict\n",
    "\n",
    "\n",
    "def two_break_dist(P, Q):\n",
    "    '''Returns the 2-Break Distance of Circular Chromosomes P and Q.'''\n",
    "\n",
    "    # Construct the break point graph of P and Q.\n",
    "    graph = defaultdict(list)\n",
    "    for perm_cycle in P+Q:\n",
    "        n = len(perm_cycle)\n",
    "        for i in xrange(n):\n",
    "            # Add the edge between consecutive items (both orders since the breakpoint graph is undirected).\n",
    "            # Note: Modulo n in the higher index for the edge between the last and first elements.\n",
    "            graph[perm_cycle[i]].append(-1*perm_cycle[(i+1) % n])\n",
    "            graph[-1*perm_cycle[(i+1) % n]].append(perm_cycle[i])\n",
    "    \n",
    "    # Traverse the breakpoint graph to get the number of connected components.\n",
    "    # BFS to find the number of connected components in the breakpoint graph.\n",
    "    component_count = 0\n",
    "    remaining = set(graph.keys())\n",
    "    while remaining:\n",
    "        component_count += 1\n",
    "        queue = {remaining.pop()}  # Undirected graph, so we can choose a remaining node arbitrarily.\n",
    "        while queue:\n",
    "            # Select an element from the queue and get its remaining children.\n",
    "            current = queue.pop()\n",
    "            new_nodes = {node for node in graph[current] if node in remaining}\n",
    "            # Add the new nodes to the queue, remove them from the remaining nodes.\n",
    "            queue |= new_nodes\n",
    "            remaining -= new_nodes\n",
    "\n",
    "    # Theorem: d(P,Q) = blocks(P,Q) - cycles(P,Q)\n",
    "    return sum(map(len,P)) - component_count"
   ]
  },
  {
   "cell_type": "code",
   "execution_count": 2,
   "metadata": {
    "collapsed": true
   },
   "outputs": [],
   "source": [
    "# Read the input data.\n",
    "with open('input/dataset_288_4.txt') as input_data:\n",
    "    P, Q = [line.strip().lstrip('(').rstrip(')').split(')(') for line in input_data]\n",
    "    P = [map(int, perm_cycle.split()) for perm_cycle in P]\n",
    "    Q = [map(int, perm_cycle.split()) for perm_cycle in Q]\n",
    "\n",
    "# Get the 2-Break Distance.\n",
    "dist = two_break_dist(P, Q)\n",
    "    "
   ]
  },
  {
   "cell_type": "code",
   "execution_count": 3,
   "metadata": {
    "collapsed": false
   },
   "outputs": [
    {
     "name": "stdout",
     "output_type": "stream",
     "text": [
      "9319\n"
     ]
    }
   ],
   "source": [
    "print dist"
   ]
  },
  {
   "cell_type": "code",
   "execution_count": null,
   "metadata": {
    "collapsed": true
   },
   "outputs": [],
   "source": []
  }
 ],
 "metadata": {
  "kernelspec": {
   "display_name": "Python 2",
   "language": "python",
   "name": "python2"
  },
  "language_info": {
   "codemirror_mode": {
    "name": "ipython",
    "version": 2
   },
   "file_extension": ".py",
   "mimetype": "text/x-python",
   "name": "python",
   "nbconvert_exporter": "python",
   "pygments_lexer": "ipython2",
   "version": "2.7.5"
  }
 },
 "nbformat": 4,
 "nbformat_minor": 0
}
