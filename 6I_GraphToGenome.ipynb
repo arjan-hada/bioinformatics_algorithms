{
 "cells": [
  {
   "cell_type": "code",
   "execution_count": 10,
   "metadata": {
    "collapsed": true
   },
   "outputs": [],
   "source": [
    "from collections import defaultdict\n",
    "def graph_to_Genome(colored_edges):\n",
    "    \"\"\"Input: The colored edges ColoredEdges of a genome graph.\n",
    "       Output: The genome P corresponding to this genome graph.\"\"\"\n",
    "    #Find black_edges\n",
    "    black_edges = [(2*i+1, 2*i+2) for i in range(len(genomeGraph))]\n",
    "    #Find the direction of each black edge using colored edges\n",
    "    directed_black_edges = []\n",
    "    for (a, b) in black_edges:\n",
    "        for (x, y) in colored_edges:\n",
    "            if b == x:\n",
    "                directed_black_edges.append((a,b))\n",
    "            elif a == x:\n",
    "                directed_black_edges.append((b,a))\n",
    "    #Form a graph\n",
    "    g = defaultdict(list)\n",
    "    all_edges = directed_black_edges + colored_edges\n",
    "    for k, v in all_edges:\n",
    "        g[k].append(v)\n",
    "        \n",
    "    #Find cycle\n",
    "    \n",
    "    return g\n",
    "\n"
   ]
  },
  {
   "cell_type": "code",
   "execution_count": 40,
   "metadata": {
    "collapsed": false
   },
   "outputs": [
    {
     "name": "stdout",
     "output_type": "stream",
     "text": [
      "defaultdict(<type 'list'>, {1: [2], 2: [4], 3: [6], 4: [3], 5: [1], 6: [5], 7: [9], 8: [7], 9: [10], 10: [12], 11: [8], 12: [11]})\n"
     ]
    }
   ],
   "source": [
    "colored_edges = [(2, 4), (3, 6), (5, 1), (7, 9), (10, 12), (11, 8)]\n",
    "g = graph_to_Genome(colored_edges)\n",
    "print g"
   ]
  },
  {
   "cell_type": "code",
   "execution_count": 41,
   "metadata": {
    "collapsed": false
   },
   "outputs": [
    {
     "name": "stdout",
     "output_type": "stream",
     "text": [
      "[1, 2, 4, 3, 6, 5]\n"
     ]
    }
   ],
   "source": []
  },
  {
   "cell_type": "code",
   "execution_count": 42,
   "metadata": {
    "collapsed": false
   },
   "outputs": [
    {
     "name": "stdout",
     "output_type": "stream",
     "text": [
      "defaultdict(<type 'list'>, {1: [], 2: [], 3: [], 4: [], 5: [], 6: [], 7: [9], 8: [7], 9: [10], 10: [12], 11: [8], 12: [11]})\n"
     ]
    }
   ],
   "source": [
    "print g"
   ]
  },
  {
   "cell_type": "code",
   "execution_count": null,
   "metadata": {
    "collapsed": true
   },
   "outputs": [],
   "source": []
  }
 ],
 "metadata": {
  "kernelspec": {
   "display_name": "Python 2",
   "language": "python",
   "name": "python2"
  },
  "language_info": {
   "codemirror_mode": {
    "name": "ipython",
    "version": 2
   },
   "file_extension": ".py",
   "mimetype": "text/x-python",
   "name": "python",
   "nbconvert_exporter": "python",
   "pygments_lexer": "ipython2",
   "version": "2.7.5"
  }
 },
 "nbformat": 4,
 "nbformat_minor": 0
}
