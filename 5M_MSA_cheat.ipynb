{
 "cells": [
  {
   "cell_type": "code",
   "execution_count": 1,
   "metadata": {
    "collapsed": true
   },
   "outputs": [],
   "source": [
    "def multiple_alignment_3(v, w, u):\n",
    "    '''Returns the alignment of three sequences v, w, and u.'''\n",
    "    # Initialize the matrices.\n",
    "    S = [[[0 for k in xrange(len(u)+1)] for j in xrange(len(w)+1)] for i in xrange(len(v)+1)]\n",
    "    backtrack = [[[0 for k in xrange(len(u)+1)] for j in xrange(len(w)+1)] for i in xrange(len(v)+1)]\n",
    "\n",
    "    # Fill in the Score and Backtrack matrices.\n",
    "    for i in xrange(1, len(v)+1):\n",
    "        for j in xrange(1, len(w)+1):\n",
    "            for k in xrange(1, len(u)+1):\n",
    "                scores = [S[i-1][j-1][k-1] + int(v[i-1] == w[j-1] == u[k-1]), S[i-1][j][k], S[i][j-1][k], S[i][j][k-1], S[i-1][j][k-1], S[i][j-1][k-1]]\n",
    "                backtrack[i][j][k], S[i][j][k] = max(enumerate(scores), key=lambda p: p[1])\n",
    "\n",
    "    # Quick lambda function to insert indels.\n",
    "    insert_indel = lambda word, i: word[:i] + '-' + word[i:]\n",
    "\n",
    "    # Initialize the aligned strings as the input strings.\n",
    "    v_aligned, w_aligned, u_aligned = v, w, u\n",
    "\n",
    "    # Get the position of the highest scoring cell in the matrix and the high score.\n",
    "    i, j, k = len(v), len(w), len(u)\n",
    "    max_score = S[i][j][k]\n",
    "\n",
    "    # Backtrack to the edge of the matrix starting at the highest scoring cell.\n",
    "    while i*j*k != 0:\n",
    "        if backtrack[i][j][k] == 1:\n",
    "            i -= 1\n",
    "            w_aligned = insert_indel(w_aligned, j)\n",
    "            u_aligned = insert_indel(u_aligned, k)\n",
    "        elif backtrack[i][j][k] == 2:\n",
    "            j -= 1\n",
    "            v_aligned = insert_indel(v_aligned, i)\n",
    "            u_aligned = insert_indel(u_aligned, k)\n",
    "        elif backtrack[i][j][k] == 3:\n",
    "            k -= 1\n",
    "            v_aligned = insert_indel(v_aligned, i)\n",
    "            w_aligned = insert_indel(w_aligned, j)\n",
    "        elif backtrack[i][j][k] == 4:\n",
    "            i -= 1\n",
    "            j -= 1\n",
    "            u_aligned = insert_indel(u_aligned, k)\n",
    "        elif backtrack[i][j][k] == 5:\n",
    "            i -= 1\n",
    "            k -= 1\n",
    "            w_aligned = insert_indel(w_aligned, j)\n",
    "        elif backtrack[i][j][k] == 6:\n",
    "            j -= 1\n",
    "            k -= 1\n",
    "            v_aligned = insert_indel(v_aligned, i)\n",
    "        else:\n",
    "            i -= 1\n",
    "            j -= 1\n",
    "            k -= 1\n",
    "\n",
    "    # Prepend the necessary preceeding indels to get match lengths.\n",
    "    while len(v_aligned) != max(len(v_aligned),len(w_aligned),len(u_aligned)):\n",
    "        v_aligned = insert_indel(v_aligned, 0)\n",
    "    while len(w_aligned) != max(len(v_aligned),len(w_aligned),len(u_aligned)):\n",
    "        w_aligned = insert_indel(w_aligned, 0)\n",
    "    while len(u_aligned) != max(len(v_aligned),len(w_aligned),len(u_aligned)):\n",
    "        u_aligned = insert_indel(u_aligned, 0)\n",
    "\n",
    "    return str(max_score), v_aligned, w_aligned, u_aligned"
   ]
  },
  {
   "cell_type": "code",
   "execution_count": 14,
   "metadata": {
    "collapsed": false
   },
   "outputs": [
    {
     "name": "stdout",
     "output_type": "stream",
     "text": [
      "['ACGATTTCAGGGGAAGTACCATGTTAG', 'TTTCGGTTACGCGTGTTCGCTATCGAT', 'GTGAGTAATCTTGGACCTCGTGATGG']\n",
      "14\n",
      "ACGAT---T--TC--AGG--GGAAGTAC-C-AT-GT--------TAG--\n",
      "----T---T--TC---GGTT------ACGCG-T-GT--TCGCTATCGAT\n",
      "---GTGAGTAATCTT-GG--------AC-C--TCGTGA------TGG--\n"
     ]
    }
   ],
   "source": [
    "input = [line.strip() for line in open('input/rosalind_ba5m.txt', 'r')]\n",
    "print input\n",
    "alignment = multiple_alignment_3(input[0], input[1], input[2])\n",
    "print '\\n'.join(alignment)"
   ]
  },
  {
   "cell_type": "code",
   "execution_count": 16,
   "metadata": {
    "collapsed": false
   },
   "outputs": [
    {
     "name": "stdout",
     "output_type": "stream",
     "text": [
      "3\n",
      "--AT-ATCCG-\n",
      "---T---CCGA\n",
      "ATGTA--CTG-\n"
     ]
    }
   ],
   "source": [
    "alignment = multiple_alignment_3('ATATCCG', 'TCCGA', 'ATGTACTG')\n",
    "print '\\n'.join(alignment)"
   ]
  },
  {
   "cell_type": "code",
   "execution_count": 29,
   "metadata": {
    "collapsed": false
   },
   "outputs": [
    {
     "name": "stdout",
     "output_type": "stream",
     "text": [
      "3\n",
      "3\n",
      "2\n",
      "2\n",
      "2\n",
      "2\n",
      "1\n",
      "1\n",
      "1\n",
      "1\n",
      "1\n",
      "['-', 'G', 'C', '-', '-', 'C', 'T', 'A', '-', 'T']\n",
      "['A', 'G', '-', 'C', '-', 'C', '-', '-', '-', 'T']\n",
      "['-', 'G', '-', '-', 'T', 'C', '-', '-', 'A', 'T']\n",
      "--AT-ATC--CG-\n",
      "---T---C-C-GA\n",
      "ATGTA--CT--G-\n"
     ]
    }
   ],
   "source": [
    "a='ATATCCG'\n",
    "b='TCCGA'\n",
    "c='ATGTACTG'\n",
    "abc_list=[]\n",
    "for i in range(len(a)+1):\n",
    "    abc_list.append([])\n",
    "    for j in range(len(b)+1):\n",
    "        abc_list[i].append([])\n",
    "        for k in range(len(c)+1):\n",
    "            abc_list[i][j].append(0)\n",
    "            if i==0 or j ==0 or k==0:\n",
    "                abc_list[i][j][k]=0\n",
    "            elif a[i-1]==b[j-1] and b[j-1]==c[k-1]:\n",
    "                abc_list[i][j][k]=abc_list[i-1][j-1][k-1]+1\n",
    "            else:\n",
    "                abc_list[i][j][k]=max(abc_list[i-1][j][k],abc_list[i][j-1][k],abc_list[i][j][k-1],abc_list[i-1][j-1][k],abc_list[i-1][j][k-1],abc_list[i][j-1][k-1])\n",
    "print abc_list[-1][-1][-1]\n",
    "i=len(a);j=len(b);k=len(c)\n",
    "a_list=[];b_list=[];c_list=[]\n",
    "while i!=0 and j!=0 and k!=0:\n",
    "    m=max(abc_list[i-1][j][k],abc_list[i][j-1][k],abc_list[i][j][k-1],abc_list[i-1][j-1][k],abc_list[i-1][j][k-1],abc_list[i][j-1][k-1])\n",
    "    print m\n",
    "    if a[i-1]==b[j-1] and b[j-1]==c[k-1]:\n",
    "        a_list.append(a[i-1])\n",
    "        b_list.append(b[j-1])\n",
    "        c_list.append(c[k-1])\n",
    "        i-=1;j-=1;k-=1    \n",
    "    elif abc_list[i-1][j][k]==m:\n",
    "        a_list.append(a[i-1])\n",
    "        b_list.append(\"-\")\n",
    "        c_list.append('-')\n",
    "        i-=1\n",
    "    elif abc_list[i][j-1][k]==m:\n",
    "        a_list.append('-')\n",
    "        b_list.append(b[j-1])\n",
    "        c_list.append('-')\n",
    "        j-=1\n",
    "    elif abc_list[i][j][k-1]:\n",
    "        a_list.append('-')\n",
    "        b_list.append('-')\n",
    "        c_list.append(c[k-1])\n",
    "        k-=1\n",
    "    elif abc_list[i-1][j-1][k]==m:\n",
    "        a_list.append(a[i-1])\n",
    "        b_list.append(b[j-1])\n",
    "        c_list.append('-')\n",
    "        i-=1\n",
    "        j-=1\n",
    "    elif abc_list[i-1][j][k-1]==m:\n",
    "        a_list.append(a[i-1])\n",
    "        b_list.append('-')\n",
    "        c_list.append(c[k-1])\n",
    "        i-=1\n",
    "        k-=1\n",
    "    elif abc_list[i][j-1][k-1]==m:\n",
    "        a_list.append('-')\n",
    "        b_list.append(b[j-1])\n",
    "        c_list.append(c[k-1])\n",
    "        j-=1\n",
    "        k-=1\n",
    "print a_list\n",
    "print b_list\n",
    "print c_list\n",
    "now_i=i;now_j=j;now_k=k\n",
    "for l in range(max(i,j,k)):\n",
    "    if now_i>l:\n",
    "        a_list.append(a[i-1])\n",
    "        i-=1\n",
    "    else:\n",
    "        a_list.append('-')\n",
    "    if now_j>l:\n",
    "        b_list.append(b[j-1])\n",
    "        j-=1\n",
    "    else:\n",
    "        b_list.append('-')\n",
    "    if now_k>l:\n",
    "        c_list.append(c[k-1])\n",
    "        k-=1\n",
    "    else:\n",
    "        c_list.append('-')                    \n",
    "print ''.join(a_list[::-1]) \n",
    "print ''.join(b_list[::-1])\n",
    "print ''.join(c_list[::-1])"
   ]
  },
  {
   "cell_type": "code",
   "execution_count": null,
   "metadata": {
    "collapsed": true
   },
   "outputs": [],
   "source": []
  }
 ],
 "metadata": {
  "kernelspec": {
   "display_name": "Python 2",
   "language": "python",
   "name": "python2"
  },
  "language_info": {
   "codemirror_mode": {
    "name": "ipython",
    "version": 2
   },
   "file_extension": ".py",
   "mimetype": "text/x-python",
   "name": "python",
   "nbconvert_exporter": "python",
   "pygments_lexer": "ipython2",
   "version": "2.7.5"
  }
 },
 "nbformat": 4,
 "nbformat_minor": 0
}
