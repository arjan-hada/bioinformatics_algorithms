{
 "cells": [
  {
   "cell_type": "markdown",
   "metadata": {},
   "source": [
    "### Branch-and-Bound Algorithm for Cyclopeptide Sequencing"
   ]
  },
  {
   "cell_type": "code",
   "execution_count": 1,
   "metadata": {
    "collapsed": true
   },
   "outputs": [],
   "source": [
    "aminoacidMass = {'G':57, 'A':71, 'S':87, 'P':97, 'V':99, 'T':101, 'C':103, 'L':113, 'N':114, 'D':115, 'K':128, 'E':129, 'M':131, 'H':137, 'F':147, 'R':156, 'Y':163, 'W':186}\n",
    "def linearSpectrum(peptide):\n",
    "    \"\"\"Input: An amino acid string Peptide.\n",
    "     Output: The linear spectrum of Peptide.\"\"\"\n",
    "    prefixMass = [0]*((len(peptide)+1))\n",
    "    for i in range(len(peptide)):\n",
    "        prefixMass[i+1] = prefixMass[i] + aminoacidMass[peptide[i]]\n",
    "    #print 'prefixMass', prefixMass\n",
    "    linear_spectrum = [0]\n",
    "    for i in range(len(prefixMass)-1):\n",
    "        for j in range(i+1, len(prefixMass)):\n",
    "            linear_spectrum.append(prefixMass[j] - prefixMass[i])\n",
    "    return sorted(linear_spectrum)    "
   ]
  },
  {
   "cell_type": "code",
   "execution_count": 21,
   "metadata": {
    "collapsed": false
   },
   "outputs": [
    {
     "data": {
      "text/plain": [
       "[0, 97, 103, 103, 200, 200, 303]"
      ]
     },
     "execution_count": 21,
     "metadata": {},
     "output_type": "execute_result"
    }
   ],
   "source": [
    "peptide = 'CPC'\n",
    "linearSpectrum(peptide)"
   ]
  },
  {
   "cell_type": "code",
   "execution_count": 3,
   "metadata": {
    "collapsed": true
   },
   "outputs": [],
   "source": [
    "aminoacidMass = {'G':57, 'A':71, 'S':87, 'P':97, 'V':99, 'T':101, 'C':103, 'L':113, 'N':114, 'D':115, 'K':128, 'E':129, 'M':131, 'H':137, 'F':147, 'R':156, 'Y':163, 'W':186}\n",
    "def cyclicSpectrum(peptide):\n",
    "    \"\"\"Input: An amino acid string Peptide.\n",
    "     Output: The cyclic spectrum of Peptide.\"\"\"\n",
    "    prefixMass = [0]*((len(peptide)+1))\n",
    "    for i in range(len(peptide)):\n",
    "        prefixMass[i+1] = prefixMass[i] + aminoacidMass[peptide[i]]\n",
    "    peptideMass = prefixMass[len(peptide)]\n",
    "    cyclic_spectrum = [0]\n",
    "    for i in range(len(prefixMass)-1):\n",
    "        for j in range(i+1, len(prefixMass)):\n",
    "            cyclic_spectrum.append(prefixMass[j] - prefixMass[i])\n",
    "            if i > 0 and j < (len(prefixMass)-1):\n",
    "                cyclic_spectrum.append(peptideMass - (prefixMass[j] - prefixMass[i]))\n",
    "    return sorted(cyclic_spectrum) "
   ]
  },
  {
   "cell_type": "code",
   "execution_count": 4,
   "metadata": {
    "collapsed": false
   },
   "outputs": [
    {
     "name": "stdout",
     "output_type": "stream",
     "text": [
      "[0, 113, 114, 128, 129, 227, 242, 242, 257, 355, 356, 370, 371, 484]\n"
     ]
    }
   ],
   "source": [
    "peptide = 'NKEL'\n",
    "print cyclicSpectrum(peptide)"
   ]
  },
  {
   "cell_type": "code",
   "execution_count": 5,
   "metadata": {
    "collapsed": true
   },
   "outputs": [],
   "source": [
    "aminoacidMass = {'G':57, 'A':71, 'S':87, 'P':97, 'V':99, 'T':101, 'C':103, 'L':113, 'N':114, 'D':115, 'K':128, 'E':129, 'M':131, 'H':137, 'F':147, 'R':156, 'Y':163, 'W':186}"
   ]
  },
  {
   "cell_type": "markdown",
   "metadata": {
    "collapsed": true
   },
   "source": [
    "def expand(peptides):\n",
    "    aminoacid = ['G', 'A', 'S', 'P', 'V', 'T', 'C', 'L', 'N', 'D', 'K', 'E', 'M', 'H', 'F', 'R', 'Y', 'W']\n",
    "    expanded = []\n",
    "    for i in peptides:\n",
    "        for j in aminoacid:\n",
    "            expanded.append(i+j)\n",
    "    return expanded"
   ]
  },
  {
   "cell_type": "code",
   "execution_count": 6,
   "metadata": {
    "collapsed": true
   },
   "outputs": [],
   "source": [
    "def expand(peptides, aa):\n",
    "    expanded = []\n",
    "    for i in peptides:\n",
    "        for j in aa:\n",
    "            expanded.append(i+j)\n",
    "    return expanded"
   ]
  },
  {
   "cell_type": "code",
   "execution_count": 7,
   "metadata": {
    "collapsed": false
   },
   "outputs": [
    {
     "name": "stdout",
     "output_type": "stream",
     "text": [
      "['KK', 'KL', 'KW', 'LK', 'LL', 'LW', 'WK', 'WL', 'WW']\n"
     ]
    }
   ],
   "source": [
    "print expand(['K', 'L', 'W'], ['K', 'L', 'W'])"
   ]
  },
  {
   "cell_type": "code",
   "execution_count": 8,
   "metadata": {
    "collapsed": true
   },
   "outputs": [],
   "source": [
    "aminoacidMass = {'G':57, 'A':71, 'S':87, 'P':97, 'V':99, 'T':101, 'C':103, 'L':113, 'N':114, 'D':115, 'K':128, 'E':129, 'M':131, 'H':137, 'F':147, 'R':156, 'Y':163, 'W':186}\n",
    "def mass(peptide):\n",
    "    massOfPeptide = 0\n",
    "    for i in peptide:\n",
    "        massOfPeptide += aminoacidMass[i]\n",
    "    return massOfPeptide  "
   ]
  },
  {
   "cell_type": "code",
   "execution_count": 9,
   "metadata": {
    "collapsed": false
   },
   "outputs": [
    {
     "data": {
      "text/plain": [
       "374"
      ]
     },
     "execution_count": 9,
     "metadata": {},
     "output_type": "execute_result"
    }
   ],
   "source": [
    "mass('VKF')"
   ]
  },
  {
   "cell_type": "code",
   "execution_count": 10,
   "metadata": {
    "collapsed": false
   },
   "outputs": [],
   "source": [
    "from collections import Counter\n",
    "def isSubset(list1, list2):\n",
    "    c1, c2 = Counter(list1), Counter(list2)\n",
    "    for k, n in c1.items():\n",
    "        if n > c2[k]:\n",
    "            return False\n",
    "    return True"
   ]
  },
  {
   "cell_type": "code",
   "execution_count": 11,
   "metadata": {
    "collapsed": false
   },
   "outputs": [
    {
     "data": {
      "text/plain": [
       "False"
      ]
     },
     "execution_count": 11,
     "metadata": {},
     "output_type": "execute_result"
    }
   ],
   "source": [
    "list1 = [1,5,5,7]\n",
    "list2 = [1,3,4,5,6,7]\n",
    "isSubset(list1, list2)"
   ]
  },
  {
   "cell_type": "code",
   "execution_count": 12,
   "metadata": {
    "collapsed": false
   },
   "outputs": [
    {
     "data": {
      "text/plain": [
       "True"
      ]
     },
     "execution_count": 12,
     "metadata": {},
     "output_type": "execute_result"
    }
   ],
   "source": [
    "list3 = [0, 113, 114, 128, 129, 242, 242, 257, 370, 371, 484]\n",
    "list4 = [0, 113, 114, 128, 129, 227, 242, 242, 257, 355, 356, 370, 371, 484]\n",
    "isSubset(list3, list4)"
   ]
  },
  {
   "cell_type": "code",
   "execution_count": 56,
   "metadata": {
    "collapsed": false
   },
   "outputs": [
    {
     "data": {
      "text/plain": [
       "True"
      ]
     },
     "execution_count": 56,
     "metadata": {},
     "output_type": "execute_result"
    }
   ],
   "source": [
    "isSubset(linearSpectrum('ETC'), [0, 71, 99, 101, 103, 128, 129, 199, 200, 204, 227, 230, 231, 298, 303, 328, 330, 332, 333])"
   ]
  },
  {
   "cell_type": "code",
   "execution_count": 39,
   "metadata": {
    "collapsed": true
   },
   "outputs": [],
   "source": [
    "aminoacidMass = {'G':57, 'A':71, 'S':87, 'P':97, 'V':99, 'T':101, 'C':103, 'L':113, 'N':114, 'D':115, 'K':128, 'E':129, 'M':131, 'H':137, 'F':147, 'R':156, 'Y':163, 'W':186}\n",
    "def cycloPeptideSequencing(spectrum):\n",
    "    \"\"\"Given an ideal spectrum, find the cyclic peptide whose theoretical spectrum matches the experimental.\"\"\"\n",
    "    peptides = [k for k,v in aminoacidMass.items() if v in spectrum]\n",
    "    aa = peptides\n",
    "    hits = []\n",
    "    print 'aminoacid', peptides\n",
    "    while len(peptides) > 0:\n",
    "        peptides = expand(peptides, aa)\n",
    "        print 'peptides', peptides\n",
    "        for peptide in peptides[:]:\n",
    "            if mass(peptide) >= max(spectrum):\n",
    "                if cyclicSpectrum(peptide) == spectrum:\n",
    "                    hits.append(peptide)\n",
    "                peptides.remove(peptide)\n",
    "            elif isSubset(linearSpectrum(peptide), spectrum) is False:\n",
    "                peptides.remove(peptide)\n",
    "        print 'trimmed peptides', peptides\n",
    "    return hits"
   ]
  },
  {
   "cell_type": "code",
   "execution_count": 49,
   "metadata": {
    "collapsed": false
   },
   "outputs": [
    {
     "data": {
      "text/plain": [
       "['AMTL', 'ALTM', 'MALT', 'MTLA', 'LAMT', 'LTMA', 'TMAL', 'TLAM']"
      ]
     },
     "execution_count": 49,
     "metadata": {},
     "output_type": "execute_result"
    }
   ],
   "source": [
    "cycloPeptideSequencing([0, 71, 101, 113, 131, 184, 202, 214, 232, 285, 303, 315, 345, 416])"
   ]
  },
  {
   "cell_type": "code",
   "execution_count": 40,
   "metadata": {
    "collapsed": false
   },
   "outputs": [
    {
     "name": "stdout",
     "output_type": "stream",
     "text": [
      "aminoacid ['K', 'L', 'W']\n",
      "peptides ['KK', 'KL', 'KW', 'LK', 'LL', 'LW', 'WK', 'WL', 'WW']\n",
      "trimmed peptides ['KL', 'KW', 'LK', 'LW', 'WK', 'WL']\n",
      "peptides ['KLK', 'KLL', 'KLW', 'KWK', 'KWL', 'KWW', 'LKK', 'LKL', 'LKW', 'LWK', 'LWL', 'LWW', 'WKK', 'WKL', 'WKW', 'WLK', 'WLL', 'WLW']\n",
      "trimmed peptides []\n"
     ]
    },
    {
     "data": {
      "text/plain": [
       "['KLW', 'KWL', 'LKW', 'LWK', 'WKL', 'WLK']"
      ]
     },
     "execution_count": 40,
     "metadata": {},
     "output_type": "execute_result"
    }
   ],
   "source": [
    "spectrum = [0, 113, 128, 186, 241, 299, 314, 427]\n",
    "cycloPeptideSequencing(spectrum)"
   ]
  },
  {
   "cell_type": "code",
   "execution_count": 41,
   "metadata": {
    "collapsed": false
   },
   "outputs": [
    {
     "name": "stdout",
     "output_type": "stream",
     "text": [
      "aminoacid ['C', 'P', 'T', 'V']\n",
      "peptides ['CC', 'CP', 'CT', 'CV', 'PC', 'PP', 'PT', 'PV', 'TC', 'TP', 'TT', 'TV', 'VC', 'VP', 'VT', 'VV']\n",
      "trimmed peptides ['CP', 'CV', 'PC', 'PT', 'PV', 'TP', 'TV', 'VC', 'VP', 'VT']\n",
      "peptides ['CPC', 'CPP', 'CPT', 'CPV', 'CVC', 'CVP', 'CVT', 'CVV', 'PCC', 'PCP', 'PCT', 'PCV', 'PTC', 'PTP', 'PTT', 'PTV', 'PVC', 'PVP', 'PVT', 'PVV', 'TPC', 'TPP', 'TPT', 'TPV', 'TVC', 'TVP', 'TVT', 'TVV', 'VCC', 'VCP', 'VCT', 'VCV', 'VPC', 'VPP', 'VPT', 'VPV', 'VTC', 'VTP', 'VTT', 'VTV']\n",
      "trimmed peptides ['CPT', 'CPV', 'CVP', 'PCV', 'PTP', 'PTV', 'PVC', 'PVT', 'TPC', 'TPV', 'TVP', 'VCP', 'VPC', 'VPT', 'VTP']\n",
      "peptides ['CPTC', 'CPTP', 'CPTT', 'CPTV', 'CPVC', 'CPVP', 'CPVT', 'CPVV', 'CVPC', 'CVPP', 'CVPT', 'CVPV', 'PCVC', 'PCVP', 'PCVT', 'PCVV', 'PTPC', 'PTPP', 'PTPT', 'PTPV', 'PTVC', 'PTVP', 'PTVT', 'PTVV', 'PVCC', 'PVCP', 'PVCT', 'PVCV', 'PVTC', 'PVTP', 'PVTT', 'PVTV', 'TPCC', 'TPCP', 'TPCT', 'TPCV', 'TPVC', 'TPVP', 'TPVT', 'TPVV', 'TVPC', 'TVPP', 'TVPT', 'TVPV', 'VCPC', 'VCPP', 'VCPT', 'VCPV', 'VPCC', 'VPCP', 'VPCT', 'VPCV', 'VPTC', 'VPTP', 'VPTT', 'VPTV', 'VTPC', 'VTPP', 'VTPT', 'VTPV']\n",
      "trimmed peptides ['CPTP', 'CVPT', 'PCVP', 'PTPC', 'PTPV', 'PVCP', 'TPCV', 'TPVC', 'VCPT', 'VPTP']\n",
      "peptides ['CPTPC', 'CPTPP', 'CPTPT', 'CPTPV', 'CVPTC', 'CVPTP', 'CVPTT', 'CVPTV', 'PCVPC', 'PCVPP', 'PCVPT', 'PCVPV', 'PTPCC', 'PTPCP', 'PTPCT', 'PTPCV', 'PTPVC', 'PTPVP', 'PTPVT', 'PTPVV', 'PVCPC', 'PVCPP', 'PVCPT', 'PVCPV', 'TPCVC', 'TPCVP', 'TPCVT', 'TPCVV', 'TPVCC', 'TPVCP', 'TPVCT', 'TPVCV', 'VCPTC', 'VCPTP', 'VCPTT', 'VCPTV', 'VPTPC', 'VPTPP', 'VPTPT', 'VPTPV']\n",
      "trimmed peptides []\n"
     ]
    },
    {
     "data": {
      "text/plain": [
       "['CPTPV',\n",
       " 'CVPTP',\n",
       " 'PCVPT',\n",
       " 'PTPCV',\n",
       " 'PTPVC',\n",
       " 'PVCPT',\n",
       " 'TPCVP',\n",
       " 'TPVCP',\n",
       " 'VCPTP',\n",
       " 'VPTPC']"
      ]
     },
     "execution_count": 41,
     "metadata": {},
     "output_type": "execute_result"
    }
   ],
   "source": [
    "spectrum2 = [0, 97, 97, 99, 101, 103, 196, 198, 198, 200, 202, 295, 297, 299, 299, 301, 394, 396, 398, 400, 400, 497]\n",
    "cycloPeptideSequencing(spectrum2)"
   ]
  },
  {
   "cell_type": "code",
   "execution_count": 42,
   "metadata": {
    "collapsed": false
   },
   "outputs": [
    {
     "name": "stdout",
     "output_type": "stream",
     "text": [
      "aminoacid ['A', 'C', 'D', 'H', 'M', 'L', 'N', 'P', 'V']\n",
      "peptides ['AA', 'AC', 'AD', 'AH', 'AM', 'AL', 'AN', 'AP', 'AV', 'CA', 'CC', 'CD', 'CH', 'CM', 'CL', 'CN', 'CP', 'CV', 'DA', 'DC', 'DD', 'DH', 'DM', 'DL', 'DN', 'DP', 'DV', 'HA', 'HC', 'HD', 'HH', 'HM', 'HL', 'HN', 'HP', 'HV', 'MA', 'MC', 'MD', 'MH', 'MM', 'ML', 'MN', 'MP', 'MV', 'LA', 'LC', 'LD', 'LH', 'LM', 'LL', 'LN', 'LP', 'LV', 'NA', 'NC', 'ND', 'NH', 'NM', 'NL', 'NN', 'NP', 'NV', 'PA', 'PC', 'PD', 'PH', 'PM', 'PL', 'PN', 'PP', 'PV', 'VA', 'VC', 'VD', 'VH', 'VM', 'VL', 'VN', 'VP', 'VV']\n",
      "trimmed peptides ['AH', 'AM', 'CH', 'CP', 'CV', 'DL', 'DV', 'HA', 'HC', 'MA', 'MN', 'MP', 'LD', 'LL', 'LN', 'NM', 'NL', 'PC', 'PM', 'PV', 'VC', 'VD', 'VP']\n",
      "peptides ['AHA', 'AHC', 'AHD', 'AHH', 'AHM', 'AHL', 'AHN', 'AHP', 'AHV', 'AMA', 'AMC', 'AMD', 'AMH', 'AMM', 'AML', 'AMN', 'AMP', 'AMV', 'CHA', 'CHC', 'CHD', 'CHH', 'CHM', 'CHL', 'CHN', 'CHP', 'CHV', 'CPA', 'CPC', 'CPD', 'CPH', 'CPM', 'CPL', 'CPN', 'CPP', 'CPV', 'CVA', 'CVC', 'CVD', 'CVH', 'CVM', 'CVL', 'CVN', 'CVP', 'CVV', 'DLA', 'DLC', 'DLD', 'DLH', 'DLM', 'DLL', 'DLN', 'DLP', 'DLV', 'DVA', 'DVC', 'DVD', 'DVH', 'DVM', 'DVL', 'DVN', 'DVP', 'DVV', 'HAA', 'HAC', 'HAD', 'HAH', 'HAM', 'HAL', 'HAN', 'HAP', 'HAV', 'HCA', 'HCC', 'HCD', 'HCH', 'HCM', 'HCL', 'HCN', 'HCP', 'HCV', 'MAA', 'MAC', 'MAD', 'MAH', 'MAM', 'MAL', 'MAN', 'MAP', 'MAV', 'MNA', 'MNC', 'MND', 'MNH', 'MNM', 'MNL', 'MNN', 'MNP', 'MNV', 'MPA', 'MPC', 'MPD', 'MPH', 'MPM', 'MPL', 'MPN', 'MPP', 'MPV', 'LDA', 'LDC', 'LDD', 'LDH', 'LDM', 'LDL', 'LDN', 'LDP', 'LDV', 'LLA', 'LLC', 'LLD', 'LLH', 'LLM', 'LLL', 'LLN', 'LLP', 'LLV', 'LNA', 'LNC', 'LND', 'LNH', 'LNM', 'LNL', 'LNN', 'LNP', 'LNV', 'NMA', 'NMC', 'NMD', 'NMH', 'NMM', 'NML', 'NMN', 'NMP', 'NMV', 'NLA', 'NLC', 'NLD', 'NLH', 'NLM', 'NLL', 'NLN', 'NLP', 'NLV', 'PCA', 'PCC', 'PCD', 'PCH', 'PCM', 'PCL', 'PCN', 'PCP', 'PCV', 'PMA', 'PMC', 'PMD', 'PMH', 'PMM', 'PML', 'PMN', 'PMP', 'PMV', 'PVA', 'PVC', 'PVD', 'PVH', 'PVM', 'PVL', 'PVN', 'PVP', 'PVV', 'VCA', 'VCC', 'VCD', 'VCH', 'VCM', 'VCL', 'VCN', 'VCP', 'VCV', 'VDA', 'VDC', 'VDD', 'VDH', 'VDM', 'VDL', 'VDN', 'VDP', 'VDV', 'VPA', 'VPC', 'VPD', 'VPH', 'VPM', 'VPL', 'VPN', 'VPP', 'VPV']\n",
      "trimmed peptides ['AHC', 'AMN', 'AMP', 'CHA', 'CPV', 'CVP', 'DLL', 'DVP', 'HAM', 'HCP', 'HCV', 'MAH', 'MNL', 'MPV', 'LDV', 'LLD', 'LLN', 'LNM', 'NMA', 'NLL', 'PCH', 'PCV', 'PMA', 'PVC', 'PVD', 'VCH', 'VCP', 'VDL', 'VPC', 'VPM']\n",
      "peptides ['AHCA', 'AHCC', 'AHCD', 'AHCH', 'AHCM', 'AHCL', 'AHCN', 'AHCP', 'AHCV', 'AMNA', 'AMNC', 'AMND', 'AMNH', 'AMNM', 'AMNL', 'AMNN', 'AMNP', 'AMNV', 'AMPA', 'AMPC', 'AMPD', 'AMPH', 'AMPM', 'AMPL', 'AMPN', 'AMPP', 'AMPV', 'CHAA', 'CHAC', 'CHAD', 'CHAH', 'CHAM', 'CHAL', 'CHAN', 'CHAP', 'CHAV', 'CPVA', 'CPVC', 'CPVD', 'CPVH', 'CPVM', 'CPVL', 'CPVN', 'CPVP', 'CPVV', 'CVPA', 'CVPC', 'CVPD', 'CVPH', 'CVPM', 'CVPL', 'CVPN', 'CVPP', 'CVPV', 'DLLA', 'DLLC', 'DLLD', 'DLLH', 'DLLM', 'DLLL', 'DLLN', 'DLLP', 'DLLV', 'DVPA', 'DVPC', 'DVPD', 'DVPH', 'DVPM', 'DVPL', 'DVPN', 'DVPP', 'DVPV', 'HAMA', 'HAMC', 'HAMD', 'HAMH', 'HAMM', 'HAML', 'HAMN', 'HAMP', 'HAMV', 'HCPA', 'HCPC', 'HCPD', 'HCPH', 'HCPM', 'HCPL', 'HCPN', 'HCPP', 'HCPV', 'HCVA', 'HCVC', 'HCVD', 'HCVH', 'HCVM', 'HCVL', 'HCVN', 'HCVP', 'HCVV', 'MAHA', 'MAHC', 'MAHD', 'MAHH', 'MAHM', 'MAHL', 'MAHN', 'MAHP', 'MAHV', 'MNLA', 'MNLC', 'MNLD', 'MNLH', 'MNLM', 'MNLL', 'MNLN', 'MNLP', 'MNLV', 'MPVA', 'MPVC', 'MPVD', 'MPVH', 'MPVM', 'MPVL', 'MPVN', 'MPVP', 'MPVV', 'LDVA', 'LDVC', 'LDVD', 'LDVH', 'LDVM', 'LDVL', 'LDVN', 'LDVP', 'LDVV', 'LLDA', 'LLDC', 'LLDD', 'LLDH', 'LLDM', 'LLDL', 'LLDN', 'LLDP', 'LLDV', 'LLNA', 'LLNC', 'LLND', 'LLNH', 'LLNM', 'LLNL', 'LLNN', 'LLNP', 'LLNV', 'LNMA', 'LNMC', 'LNMD', 'LNMH', 'LNMM', 'LNML', 'LNMN', 'LNMP', 'LNMV', 'NMAA', 'NMAC', 'NMAD', 'NMAH', 'NMAM', 'NMAL', 'NMAN', 'NMAP', 'NMAV', 'NLLA', 'NLLC', 'NLLD', 'NLLH', 'NLLM', 'NLLL', 'NLLN', 'NLLP', 'NLLV', 'PCHA', 'PCHC', 'PCHD', 'PCHH', 'PCHM', 'PCHL', 'PCHN', 'PCHP', 'PCHV', 'PCVA', 'PCVC', 'PCVD', 'PCVH', 'PCVM', 'PCVL', 'PCVN', 'PCVP', 'PCVV', 'PMAA', 'PMAC', 'PMAD', 'PMAH', 'PMAM', 'PMAL', 'PMAN', 'PMAP', 'PMAV', 'PVCA', 'PVCC', 'PVCD', 'PVCH', 'PVCM', 'PVCL', 'PVCN', 'PVCP', 'PVCV', 'PVDA', 'PVDC', 'PVDD', 'PVDH', 'PVDM', 'PVDL', 'PVDN', 'PVDP', 'PVDV', 'VCHA', 'VCHC', 'VCHD', 'VCHH', 'VCHM', 'VCHL', 'VCHN', 'VCHP', 'VCHV', 'VCPA', 'VCPC', 'VCPD', 'VCPH', 'VCPM', 'VCPL', 'VCPN', 'VCPP', 'VCPV', 'VDLA', 'VDLC', 'VDLD', 'VDLH', 'VDLM', 'VDLL', 'VDLN', 'VDLP', 'VDLV', 'VPCA', 'VPCC', 'VPCD', 'VPCH', 'VPCM', 'VPCL', 'VPCN', 'VPCP', 'VPCV', 'VPMA', 'VPMC', 'VPMD', 'VPMH', 'VPMM', 'VPML', 'VPMN', 'VPMP', 'VPMV']\n",
      "trimmed peptides ['AHCP', 'AMNL', 'CHAM', 'CPVD', 'DLLN', 'DVPC', 'DVPM', 'HAMN', 'HAMP', 'HCPV', 'HCVP', 'MAHC', 'MNLL', 'MPVD', 'LDVP', 'LLDV', 'LLNM', 'LNMA', 'NMAH', 'NLLD', 'PCHA', 'PMAH', 'PVCH', 'PVDL', 'VDLL', 'VPCH']\n",
      "peptides ['AHCPA', 'AHCPC', 'AHCPD', 'AHCPH', 'AHCPM', 'AHCPL', 'AHCPN', 'AHCPP', 'AHCPV', 'AMNLA', 'AMNLC', 'AMNLD', 'AMNLH', 'AMNLM', 'AMNLL', 'AMNLN', 'AMNLP', 'AMNLV', 'CHAMA', 'CHAMC', 'CHAMD', 'CHAMH', 'CHAMM', 'CHAML', 'CHAMN', 'CHAMP', 'CHAMV', 'CPVDA', 'CPVDC', 'CPVDD', 'CPVDH', 'CPVDM', 'CPVDL', 'CPVDN', 'CPVDP', 'CPVDV', 'DLLNA', 'DLLNC', 'DLLND', 'DLLNH', 'DLLNM', 'DLLNL', 'DLLNN', 'DLLNP', 'DLLNV', 'DVPCA', 'DVPCC', 'DVPCD', 'DVPCH', 'DVPCM', 'DVPCL', 'DVPCN', 'DVPCP', 'DVPCV', 'DVPMA', 'DVPMC', 'DVPMD', 'DVPMH', 'DVPMM', 'DVPML', 'DVPMN', 'DVPMP', 'DVPMV', 'HAMNA', 'HAMNC', 'HAMND', 'HAMNH', 'HAMNM', 'HAMNL', 'HAMNN', 'HAMNP', 'HAMNV', 'HAMPA', 'HAMPC', 'HAMPD', 'HAMPH', 'HAMPM', 'HAMPL', 'HAMPN', 'HAMPP', 'HAMPV', 'HCPVA', 'HCPVC', 'HCPVD', 'HCPVH', 'HCPVM', 'HCPVL', 'HCPVN', 'HCPVP', 'HCPVV', 'HCVPA', 'HCVPC', 'HCVPD', 'HCVPH', 'HCVPM', 'HCVPL', 'HCVPN', 'HCVPP', 'HCVPV', 'MAHCA', 'MAHCC', 'MAHCD', 'MAHCH', 'MAHCM', 'MAHCL', 'MAHCN', 'MAHCP', 'MAHCV', 'MNLLA', 'MNLLC', 'MNLLD', 'MNLLH', 'MNLLM', 'MNLLL', 'MNLLN', 'MNLLP', 'MNLLV', 'MPVDA', 'MPVDC', 'MPVDD', 'MPVDH', 'MPVDM', 'MPVDL', 'MPVDN', 'MPVDP', 'MPVDV', 'LDVPA', 'LDVPC', 'LDVPD', 'LDVPH', 'LDVPM', 'LDVPL', 'LDVPN', 'LDVPP', 'LDVPV', 'LLDVA', 'LLDVC', 'LLDVD', 'LLDVH', 'LLDVM', 'LLDVL', 'LLDVN', 'LLDVP', 'LLDVV', 'LLNMA', 'LLNMC', 'LLNMD', 'LLNMH', 'LLNMM', 'LLNML', 'LLNMN', 'LLNMP', 'LLNMV', 'LNMAA', 'LNMAC', 'LNMAD', 'LNMAH', 'LNMAM', 'LNMAL', 'LNMAN', 'LNMAP', 'LNMAV', 'NMAHA', 'NMAHC', 'NMAHD', 'NMAHH', 'NMAHM', 'NMAHL', 'NMAHN', 'NMAHP', 'NMAHV', 'NLLDA', 'NLLDC', 'NLLDD', 'NLLDH', 'NLLDM', 'NLLDL', 'NLLDN', 'NLLDP', 'NLLDV', 'PCHAA', 'PCHAC', 'PCHAD', 'PCHAH', 'PCHAM', 'PCHAL', 'PCHAN', 'PCHAP', 'PCHAV', 'PMAHA', 'PMAHC', 'PMAHD', 'PMAHH', 'PMAHM', 'PMAHL', 'PMAHN', 'PMAHP', 'PMAHV', 'PVCHA', 'PVCHC', 'PVCHD', 'PVCHH', 'PVCHM', 'PVCHL', 'PVCHN', 'PVCHP', 'PVCHV', 'PVDLA', 'PVDLC', 'PVDLD', 'PVDLH', 'PVDLM', 'PVDLL', 'PVDLN', 'PVDLP', 'PVDLV', 'VDLLA', 'VDLLC', 'VDLLD', 'VDLLH', 'VDLLM', 'VDLLL', 'VDLLN', 'VDLLP', 'VDLLV', 'VPCHA', 'VPCHC', 'VPCHD', 'VPCHH', 'VPCHM', 'VPCHL', 'VPCHN', 'VPCHP', 'VPCHV']\n",
      "trimmed peptides ['AHCPV', 'AMNLL', 'CHAMN', 'CHAMP', 'CPVDL', 'DLLNM', 'DVPCH', 'HAMNL', 'HCPVD', 'MAHCP', 'MNLLD', 'LDVPC', 'LLDVP', 'LLNMA', 'LNMAH', 'NMAHC', 'NLLDV', 'PCHAM', 'PMAHC', 'PVDLL', 'VDLLN', 'VPCHA']\n",
      "peptides ['AHCPVA', 'AHCPVC', 'AHCPVD', 'AHCPVH', 'AHCPVM', 'AHCPVL', 'AHCPVN', 'AHCPVP', 'AHCPVV', 'AMNLLA', 'AMNLLC', 'AMNLLD', 'AMNLLH', 'AMNLLM', 'AMNLLL', 'AMNLLN', 'AMNLLP', 'AMNLLV', 'CHAMNA', 'CHAMNC', 'CHAMND', 'CHAMNH', 'CHAMNM', 'CHAMNL', 'CHAMNN', 'CHAMNP', 'CHAMNV', 'CHAMPA', 'CHAMPC', 'CHAMPD', 'CHAMPH', 'CHAMPM', 'CHAMPL', 'CHAMPN', 'CHAMPP', 'CHAMPV', 'CPVDLA', 'CPVDLC', 'CPVDLD', 'CPVDLH', 'CPVDLM', 'CPVDLL', 'CPVDLN', 'CPVDLP', 'CPVDLV', 'DLLNMA', 'DLLNMC', 'DLLNMD', 'DLLNMH', 'DLLNMM', 'DLLNML', 'DLLNMN', 'DLLNMP', 'DLLNMV', 'DVPCHA', 'DVPCHC', 'DVPCHD', 'DVPCHH', 'DVPCHM', 'DVPCHL', 'DVPCHN', 'DVPCHP', 'DVPCHV', 'HAMNLA', 'HAMNLC', 'HAMNLD', 'HAMNLH', 'HAMNLM', 'HAMNLL', 'HAMNLN', 'HAMNLP', 'HAMNLV', 'HCPVDA', 'HCPVDC', 'HCPVDD', 'HCPVDH', 'HCPVDM', 'HCPVDL', 'HCPVDN', 'HCPVDP', 'HCPVDV', 'MAHCPA', 'MAHCPC', 'MAHCPD', 'MAHCPH', 'MAHCPM', 'MAHCPL', 'MAHCPN', 'MAHCPP', 'MAHCPV', 'MNLLDA', 'MNLLDC', 'MNLLDD', 'MNLLDH', 'MNLLDM', 'MNLLDL', 'MNLLDN', 'MNLLDP', 'MNLLDV', 'LDVPCA', 'LDVPCC', 'LDVPCD', 'LDVPCH', 'LDVPCM', 'LDVPCL', 'LDVPCN', 'LDVPCP', 'LDVPCV', 'LLDVPA', 'LLDVPC', 'LLDVPD', 'LLDVPH', 'LLDVPM', 'LLDVPL', 'LLDVPN', 'LLDVPP', 'LLDVPV', 'LLNMAA', 'LLNMAC', 'LLNMAD', 'LLNMAH', 'LLNMAM', 'LLNMAL', 'LLNMAN', 'LLNMAP', 'LLNMAV', 'LNMAHA', 'LNMAHC', 'LNMAHD', 'LNMAHH', 'LNMAHM', 'LNMAHL', 'LNMAHN', 'LNMAHP', 'LNMAHV', 'NMAHCA', 'NMAHCC', 'NMAHCD', 'NMAHCH', 'NMAHCM', 'NMAHCL', 'NMAHCN', 'NMAHCP', 'NMAHCV', 'NLLDVA', 'NLLDVC', 'NLLDVD', 'NLLDVH', 'NLLDVM', 'NLLDVL', 'NLLDVN', 'NLLDVP', 'NLLDVV', 'PCHAMA', 'PCHAMC', 'PCHAMD', 'PCHAMH', 'PCHAMM', 'PCHAML', 'PCHAMN', 'PCHAMP', 'PCHAMV', 'PMAHCA', 'PMAHCC', 'PMAHCD', 'PMAHCH', 'PMAHCM', 'PMAHCL', 'PMAHCN', 'PMAHCP', 'PMAHCV', 'PVDLLA', 'PVDLLC', 'PVDLLD', 'PVDLLH', 'PVDLLM', 'PVDLLL', 'PVDLLN', 'PVDLLP', 'PVDLLV', 'VDLLNA', 'VDLLNC', 'VDLLND', 'VDLLNH', 'VDLLNM', 'VDLLNL', 'VDLLNN', 'VDLLNP', 'VDLLNV', 'VPCHAA', 'VPCHAC', 'VPCHAD', 'VPCHAH', 'VPCHAM', 'VPCHAL', 'VPCHAN', 'VPCHAP', 'VPCHAV']\n",
      "trimmed peptides ['AHCPVD', 'AMNLLD', 'CHAMNL', 'CPVDLL', 'DLLNMA', 'DVPCHA', 'HAMNLL', 'HCPVDL', 'MAHCPV', 'MNLLDV', 'LDVPCH', 'LLDVPC', 'LLNMAH', 'LNMAHC', 'NMAHCP', 'NLLDVP', 'PCHAMN', 'PVDLLN', 'VDLLNM', 'VPCHAM']\n",
      "peptides ['AHCPVDA', 'AHCPVDC', 'AHCPVDD', 'AHCPVDH', 'AHCPVDM', 'AHCPVDL', 'AHCPVDN', 'AHCPVDP', 'AHCPVDV', 'AMNLLDA', 'AMNLLDC', 'AMNLLDD', 'AMNLLDH', 'AMNLLDM', 'AMNLLDL', 'AMNLLDN', 'AMNLLDP', 'AMNLLDV', 'CHAMNLA', 'CHAMNLC', 'CHAMNLD', 'CHAMNLH', 'CHAMNLM', 'CHAMNLL', 'CHAMNLN', 'CHAMNLP', 'CHAMNLV', 'CPVDLLA', 'CPVDLLC', 'CPVDLLD', 'CPVDLLH', 'CPVDLLM', 'CPVDLLL', 'CPVDLLN', 'CPVDLLP', 'CPVDLLV', 'DLLNMAA', 'DLLNMAC', 'DLLNMAD', 'DLLNMAH', 'DLLNMAM', 'DLLNMAL', 'DLLNMAN', 'DLLNMAP', 'DLLNMAV', 'DVPCHAA', 'DVPCHAC', 'DVPCHAD', 'DVPCHAH', 'DVPCHAM', 'DVPCHAL', 'DVPCHAN', 'DVPCHAP', 'DVPCHAV', 'HAMNLLA', 'HAMNLLC', 'HAMNLLD', 'HAMNLLH', 'HAMNLLM', 'HAMNLLL', 'HAMNLLN', 'HAMNLLP', 'HAMNLLV', 'HCPVDLA', 'HCPVDLC', 'HCPVDLD', 'HCPVDLH', 'HCPVDLM', 'HCPVDLL', 'HCPVDLN', 'HCPVDLP', 'HCPVDLV', 'MAHCPVA', 'MAHCPVC', 'MAHCPVD', 'MAHCPVH', 'MAHCPVM', 'MAHCPVL', 'MAHCPVN', 'MAHCPVP', 'MAHCPVV', 'MNLLDVA', 'MNLLDVC', 'MNLLDVD', 'MNLLDVH', 'MNLLDVM', 'MNLLDVL', 'MNLLDVN', 'MNLLDVP', 'MNLLDVV', 'LDVPCHA', 'LDVPCHC', 'LDVPCHD', 'LDVPCHH', 'LDVPCHM', 'LDVPCHL', 'LDVPCHN', 'LDVPCHP', 'LDVPCHV', 'LLDVPCA', 'LLDVPCC', 'LLDVPCD', 'LLDVPCH', 'LLDVPCM', 'LLDVPCL', 'LLDVPCN', 'LLDVPCP', 'LLDVPCV', 'LLNMAHA', 'LLNMAHC', 'LLNMAHD', 'LLNMAHH', 'LLNMAHM', 'LLNMAHL', 'LLNMAHN', 'LLNMAHP', 'LLNMAHV', 'LNMAHCA', 'LNMAHCC', 'LNMAHCD', 'LNMAHCH', 'LNMAHCM', 'LNMAHCL', 'LNMAHCN', 'LNMAHCP', 'LNMAHCV', 'NMAHCPA', 'NMAHCPC', 'NMAHCPD', 'NMAHCPH', 'NMAHCPM', 'NMAHCPL', 'NMAHCPN', 'NMAHCPP', 'NMAHCPV', 'NLLDVPA', 'NLLDVPC', 'NLLDVPD', 'NLLDVPH', 'NLLDVPM', 'NLLDVPL', 'NLLDVPN', 'NLLDVPP', 'NLLDVPV', 'PCHAMNA', 'PCHAMNC', 'PCHAMND', 'PCHAMNH', 'PCHAMNM', 'PCHAMNL', 'PCHAMNN', 'PCHAMNP', 'PCHAMNV', 'PVDLLNA', 'PVDLLNC', 'PVDLLND', 'PVDLLNH', 'PVDLLNM', 'PVDLLNL', 'PVDLLNN', 'PVDLLNP', 'PVDLLNV', 'VDLLNMA', 'VDLLNMC', 'VDLLNMD', 'VDLLNMH', 'VDLLNMM', 'VDLLNML', 'VDLLNMN', 'VDLLNMP', 'VDLLNMV', 'VPCHAMA', 'VPCHAMC', 'VPCHAMD', 'VPCHAMH', 'VPCHAMM', 'VPCHAML', 'VPCHAMN', 'VPCHAMP', 'VPCHAMV']\n",
      "trimmed peptides ['AHCPVDL', 'AMNLLDV', 'CHAMNLL', 'CPVDLLN', 'DLLNMAH', 'DVPCHAM', 'HAMNLLD', 'HCPVDLL', 'MAHCPVD', 'MNLLDVP', 'LDVPCHA', 'LLDVPCH', 'LLNMAHC', 'LNMAHCP', 'NMAHCPV', 'NLLDVPC', 'PCHAMNL', 'PVDLLNM', 'VDLLNMA', 'VPCHAMN']\n",
      "peptides ['AHCPVDLA', 'AHCPVDLC', 'AHCPVDLD', 'AHCPVDLH', 'AHCPVDLM', 'AHCPVDLL', 'AHCPVDLN', 'AHCPVDLP', 'AHCPVDLV', 'AMNLLDVA', 'AMNLLDVC', 'AMNLLDVD', 'AMNLLDVH', 'AMNLLDVM', 'AMNLLDVL', 'AMNLLDVN', 'AMNLLDVP', 'AMNLLDVV', 'CHAMNLLA', 'CHAMNLLC', 'CHAMNLLD', 'CHAMNLLH', 'CHAMNLLM', 'CHAMNLLL', 'CHAMNLLN', 'CHAMNLLP', 'CHAMNLLV', 'CPVDLLNA', 'CPVDLLNC', 'CPVDLLND', 'CPVDLLNH', 'CPVDLLNM', 'CPVDLLNL', 'CPVDLLNN', 'CPVDLLNP', 'CPVDLLNV', 'DLLNMAHA', 'DLLNMAHC', 'DLLNMAHD', 'DLLNMAHH', 'DLLNMAHM', 'DLLNMAHL', 'DLLNMAHN', 'DLLNMAHP', 'DLLNMAHV', 'DVPCHAMA', 'DVPCHAMC', 'DVPCHAMD', 'DVPCHAMH', 'DVPCHAMM', 'DVPCHAML', 'DVPCHAMN', 'DVPCHAMP', 'DVPCHAMV', 'HAMNLLDA', 'HAMNLLDC', 'HAMNLLDD', 'HAMNLLDH', 'HAMNLLDM', 'HAMNLLDL', 'HAMNLLDN', 'HAMNLLDP', 'HAMNLLDV', 'HCPVDLLA', 'HCPVDLLC', 'HCPVDLLD', 'HCPVDLLH', 'HCPVDLLM', 'HCPVDLLL', 'HCPVDLLN', 'HCPVDLLP', 'HCPVDLLV', 'MAHCPVDA', 'MAHCPVDC', 'MAHCPVDD', 'MAHCPVDH', 'MAHCPVDM', 'MAHCPVDL', 'MAHCPVDN', 'MAHCPVDP', 'MAHCPVDV', 'MNLLDVPA', 'MNLLDVPC', 'MNLLDVPD', 'MNLLDVPH', 'MNLLDVPM', 'MNLLDVPL', 'MNLLDVPN', 'MNLLDVPP', 'MNLLDVPV', 'LDVPCHAA', 'LDVPCHAC', 'LDVPCHAD', 'LDVPCHAH', 'LDVPCHAM', 'LDVPCHAL', 'LDVPCHAN', 'LDVPCHAP', 'LDVPCHAV', 'LLDVPCHA', 'LLDVPCHC', 'LLDVPCHD', 'LLDVPCHH', 'LLDVPCHM', 'LLDVPCHL', 'LLDVPCHN', 'LLDVPCHP', 'LLDVPCHV', 'LLNMAHCA', 'LLNMAHCC', 'LLNMAHCD', 'LLNMAHCH', 'LLNMAHCM', 'LLNMAHCL', 'LLNMAHCN', 'LLNMAHCP', 'LLNMAHCV', 'LNMAHCPA', 'LNMAHCPC', 'LNMAHCPD', 'LNMAHCPH', 'LNMAHCPM', 'LNMAHCPL', 'LNMAHCPN', 'LNMAHCPP', 'LNMAHCPV', 'NMAHCPVA', 'NMAHCPVC', 'NMAHCPVD', 'NMAHCPVH', 'NMAHCPVM', 'NMAHCPVL', 'NMAHCPVN', 'NMAHCPVP', 'NMAHCPVV', 'NLLDVPCA', 'NLLDVPCC', 'NLLDVPCD', 'NLLDVPCH', 'NLLDVPCM', 'NLLDVPCL', 'NLLDVPCN', 'NLLDVPCP', 'NLLDVPCV', 'PCHAMNLA', 'PCHAMNLC', 'PCHAMNLD', 'PCHAMNLH', 'PCHAMNLM', 'PCHAMNLL', 'PCHAMNLN', 'PCHAMNLP', 'PCHAMNLV', 'PVDLLNMA', 'PVDLLNMC', 'PVDLLNMD', 'PVDLLNMH', 'PVDLLNMM', 'PVDLLNML', 'PVDLLNMN', 'PVDLLNMP', 'PVDLLNMV', 'VDLLNMAA', 'VDLLNMAC', 'VDLLNMAD', 'VDLLNMAH', 'VDLLNMAM', 'VDLLNMAL', 'VDLLNMAN', 'VDLLNMAP', 'VDLLNMAV', 'VPCHAMNA', 'VPCHAMNC', 'VPCHAMND', 'VPCHAMNH', 'VPCHAMNM', 'VPCHAMNL', 'VPCHAMNN', 'VPCHAMNP', 'VPCHAMNV']\n",
      "trimmed peptides ['AHCPVDLL', 'AMNLLDVP', 'CHAMNLLD', 'CPVDLLNM', 'DLLNMAHC', 'DVPCHAMN', 'HAMNLLDV', 'HCPVDLLN', 'MAHCPVDL', 'MNLLDVPC', 'LDVPCHAM', 'LLDVPCHA', 'LLNMAHCP', 'LNMAHCPV', 'NMAHCPVD', 'NLLDVPCH', 'PCHAMNLL', 'PVDLLNMA', 'VDLLNMAH', 'VPCHAMNL']\n",
      "peptides ['AHCPVDLLA', 'AHCPVDLLC', 'AHCPVDLLD', 'AHCPVDLLH', 'AHCPVDLLM', 'AHCPVDLLL', 'AHCPVDLLN', 'AHCPVDLLP', 'AHCPVDLLV', 'AMNLLDVPA', 'AMNLLDVPC', 'AMNLLDVPD', 'AMNLLDVPH', 'AMNLLDVPM', 'AMNLLDVPL', 'AMNLLDVPN', 'AMNLLDVPP', 'AMNLLDVPV', 'CHAMNLLDA', 'CHAMNLLDC', 'CHAMNLLDD', 'CHAMNLLDH', 'CHAMNLLDM', 'CHAMNLLDL', 'CHAMNLLDN', 'CHAMNLLDP', 'CHAMNLLDV', 'CPVDLLNMA', 'CPVDLLNMC', 'CPVDLLNMD', 'CPVDLLNMH', 'CPVDLLNMM', 'CPVDLLNML', 'CPVDLLNMN', 'CPVDLLNMP', 'CPVDLLNMV', 'DLLNMAHCA', 'DLLNMAHCC', 'DLLNMAHCD', 'DLLNMAHCH', 'DLLNMAHCM', 'DLLNMAHCL', 'DLLNMAHCN', 'DLLNMAHCP', 'DLLNMAHCV', 'DVPCHAMNA', 'DVPCHAMNC', 'DVPCHAMND', 'DVPCHAMNH', 'DVPCHAMNM', 'DVPCHAMNL', 'DVPCHAMNN', 'DVPCHAMNP', 'DVPCHAMNV', 'HAMNLLDVA', 'HAMNLLDVC', 'HAMNLLDVD', 'HAMNLLDVH', 'HAMNLLDVM', 'HAMNLLDVL', 'HAMNLLDVN', 'HAMNLLDVP', 'HAMNLLDVV', 'HCPVDLLNA', 'HCPVDLLNC', 'HCPVDLLND', 'HCPVDLLNH', 'HCPVDLLNM', 'HCPVDLLNL', 'HCPVDLLNN', 'HCPVDLLNP', 'HCPVDLLNV', 'MAHCPVDLA', 'MAHCPVDLC', 'MAHCPVDLD', 'MAHCPVDLH', 'MAHCPVDLM', 'MAHCPVDLL', 'MAHCPVDLN', 'MAHCPVDLP', 'MAHCPVDLV', 'MNLLDVPCA', 'MNLLDVPCC', 'MNLLDVPCD', 'MNLLDVPCH', 'MNLLDVPCM', 'MNLLDVPCL', 'MNLLDVPCN', 'MNLLDVPCP', 'MNLLDVPCV', 'LDVPCHAMA', 'LDVPCHAMC', 'LDVPCHAMD', 'LDVPCHAMH', 'LDVPCHAMM', 'LDVPCHAML', 'LDVPCHAMN', 'LDVPCHAMP', 'LDVPCHAMV', 'LLDVPCHAA', 'LLDVPCHAC', 'LLDVPCHAD', 'LLDVPCHAH', 'LLDVPCHAM', 'LLDVPCHAL', 'LLDVPCHAN', 'LLDVPCHAP', 'LLDVPCHAV', 'LLNMAHCPA', 'LLNMAHCPC', 'LLNMAHCPD', 'LLNMAHCPH', 'LLNMAHCPM', 'LLNMAHCPL', 'LLNMAHCPN', 'LLNMAHCPP', 'LLNMAHCPV', 'LNMAHCPVA', 'LNMAHCPVC', 'LNMAHCPVD', 'LNMAHCPVH', 'LNMAHCPVM', 'LNMAHCPVL', 'LNMAHCPVN', 'LNMAHCPVP', 'LNMAHCPVV', 'NMAHCPVDA', 'NMAHCPVDC', 'NMAHCPVDD', 'NMAHCPVDH', 'NMAHCPVDM', 'NMAHCPVDL', 'NMAHCPVDN', 'NMAHCPVDP', 'NMAHCPVDV', 'NLLDVPCHA', 'NLLDVPCHC', 'NLLDVPCHD', 'NLLDVPCHH', 'NLLDVPCHM', 'NLLDVPCHL', 'NLLDVPCHN', 'NLLDVPCHP', 'NLLDVPCHV', 'PCHAMNLLA', 'PCHAMNLLC', 'PCHAMNLLD', 'PCHAMNLLH', 'PCHAMNLLM', 'PCHAMNLLL', 'PCHAMNLLN', 'PCHAMNLLP', 'PCHAMNLLV', 'PVDLLNMAA', 'PVDLLNMAC', 'PVDLLNMAD', 'PVDLLNMAH', 'PVDLLNMAM', 'PVDLLNMAL', 'PVDLLNMAN', 'PVDLLNMAP', 'PVDLLNMAV', 'VDLLNMAHA', 'VDLLNMAHC', 'VDLLNMAHD', 'VDLLNMAHH', 'VDLLNMAHM', 'VDLLNMAHL', 'VDLLNMAHN', 'VDLLNMAHP', 'VDLLNMAHV', 'VPCHAMNLA', 'VPCHAMNLC', 'VPCHAMNLD', 'VPCHAMNLH', 'VPCHAMNLM', 'VPCHAMNLL', 'VPCHAMNLN', 'VPCHAMNLP', 'VPCHAMNLV']\n",
      "trimmed peptides ['AHCPVDLLN', 'AMNLLDVPC', 'CHAMNLLDV', 'CPVDLLNMA', 'DLLNMAHCP', 'DVPCHAMNL', 'HAMNLLDVP', 'HCPVDLLNM', 'MAHCPVDLL', 'MNLLDVPCH', 'LDVPCHAMN', 'LLDVPCHAM', 'LLNMAHCPV', 'LNMAHCPVD', 'NMAHCPVDL', 'NLLDVPCHA', 'PCHAMNLLD', 'PVDLLNMAH', 'VDLLNMAHC', 'VPCHAMNLL']\n",
      "peptides ['AHCPVDLLNA', 'AHCPVDLLNC', 'AHCPVDLLND', 'AHCPVDLLNH', 'AHCPVDLLNM', 'AHCPVDLLNL', 'AHCPVDLLNN', 'AHCPVDLLNP', 'AHCPVDLLNV', 'AMNLLDVPCA', 'AMNLLDVPCC', 'AMNLLDVPCD', 'AMNLLDVPCH', 'AMNLLDVPCM', 'AMNLLDVPCL', 'AMNLLDVPCN', 'AMNLLDVPCP', 'AMNLLDVPCV', 'CHAMNLLDVA', 'CHAMNLLDVC', 'CHAMNLLDVD', 'CHAMNLLDVH', 'CHAMNLLDVM', 'CHAMNLLDVL', 'CHAMNLLDVN', 'CHAMNLLDVP', 'CHAMNLLDVV', 'CPVDLLNMAA', 'CPVDLLNMAC', 'CPVDLLNMAD', 'CPVDLLNMAH', 'CPVDLLNMAM', 'CPVDLLNMAL', 'CPVDLLNMAN', 'CPVDLLNMAP', 'CPVDLLNMAV', 'DLLNMAHCPA', 'DLLNMAHCPC', 'DLLNMAHCPD', 'DLLNMAHCPH', 'DLLNMAHCPM', 'DLLNMAHCPL', 'DLLNMAHCPN', 'DLLNMAHCPP', 'DLLNMAHCPV', 'DVPCHAMNLA', 'DVPCHAMNLC', 'DVPCHAMNLD', 'DVPCHAMNLH', 'DVPCHAMNLM', 'DVPCHAMNLL', 'DVPCHAMNLN', 'DVPCHAMNLP', 'DVPCHAMNLV', 'HAMNLLDVPA', 'HAMNLLDVPC', 'HAMNLLDVPD', 'HAMNLLDVPH', 'HAMNLLDVPM', 'HAMNLLDVPL', 'HAMNLLDVPN', 'HAMNLLDVPP', 'HAMNLLDVPV', 'HCPVDLLNMA', 'HCPVDLLNMC', 'HCPVDLLNMD', 'HCPVDLLNMH', 'HCPVDLLNMM', 'HCPVDLLNML', 'HCPVDLLNMN', 'HCPVDLLNMP', 'HCPVDLLNMV', 'MAHCPVDLLA', 'MAHCPVDLLC', 'MAHCPVDLLD', 'MAHCPVDLLH', 'MAHCPVDLLM', 'MAHCPVDLLL', 'MAHCPVDLLN', 'MAHCPVDLLP', 'MAHCPVDLLV', 'MNLLDVPCHA', 'MNLLDVPCHC', 'MNLLDVPCHD', 'MNLLDVPCHH', 'MNLLDVPCHM', 'MNLLDVPCHL', 'MNLLDVPCHN', 'MNLLDVPCHP', 'MNLLDVPCHV', 'LDVPCHAMNA', 'LDVPCHAMNC', 'LDVPCHAMND', 'LDVPCHAMNH', 'LDVPCHAMNM', 'LDVPCHAMNL', 'LDVPCHAMNN', 'LDVPCHAMNP', 'LDVPCHAMNV', 'LLDVPCHAMA', 'LLDVPCHAMC', 'LLDVPCHAMD', 'LLDVPCHAMH', 'LLDVPCHAMM', 'LLDVPCHAML', 'LLDVPCHAMN', 'LLDVPCHAMP', 'LLDVPCHAMV', 'LLNMAHCPVA', 'LLNMAHCPVC', 'LLNMAHCPVD', 'LLNMAHCPVH', 'LLNMAHCPVM', 'LLNMAHCPVL', 'LLNMAHCPVN', 'LLNMAHCPVP', 'LLNMAHCPVV', 'LNMAHCPVDA', 'LNMAHCPVDC', 'LNMAHCPVDD', 'LNMAHCPVDH', 'LNMAHCPVDM', 'LNMAHCPVDL', 'LNMAHCPVDN', 'LNMAHCPVDP', 'LNMAHCPVDV', 'NMAHCPVDLA', 'NMAHCPVDLC', 'NMAHCPVDLD', 'NMAHCPVDLH', 'NMAHCPVDLM', 'NMAHCPVDLL', 'NMAHCPVDLN', 'NMAHCPVDLP', 'NMAHCPVDLV', 'NLLDVPCHAA', 'NLLDVPCHAC', 'NLLDVPCHAD', 'NLLDVPCHAH', 'NLLDVPCHAM', 'NLLDVPCHAL', 'NLLDVPCHAN', 'NLLDVPCHAP', 'NLLDVPCHAV', 'PCHAMNLLDA', 'PCHAMNLLDC', 'PCHAMNLLDD', 'PCHAMNLLDH', 'PCHAMNLLDM', 'PCHAMNLLDL', 'PCHAMNLLDN', 'PCHAMNLLDP', 'PCHAMNLLDV', 'PVDLLNMAHA', 'PVDLLNMAHC', 'PVDLLNMAHD', 'PVDLLNMAHH', 'PVDLLNMAHM', 'PVDLLNMAHL', 'PVDLLNMAHN', 'PVDLLNMAHP', 'PVDLLNMAHV', 'VDLLNMAHCA', 'VDLLNMAHCC', 'VDLLNMAHCD', 'VDLLNMAHCH', 'VDLLNMAHCM', 'VDLLNMAHCL', 'VDLLNMAHCN', 'VDLLNMAHCP', 'VDLLNMAHCV', 'VPCHAMNLLA', 'VPCHAMNLLC', 'VPCHAMNLLD', 'VPCHAMNLLH', 'VPCHAMNLLM', 'VPCHAMNLLL', 'VPCHAMNLLN', 'VPCHAMNLLP', 'VPCHAMNLLV']\n",
      "trimmed peptides []\n"
     ]
    },
    {
     "data": {
      "text/plain": [
       "['AHCPVDLLNM',\n",
       " 'AMNLLDVPCH',\n",
       " 'CHAMNLLDVP',\n",
       " 'CPVDLLNMAH',\n",
       " 'DLLNMAHCPV',\n",
       " 'DVPCHAMNLL',\n",
       " 'HAMNLLDVPC',\n",
       " 'HCPVDLLNMA',\n",
       " 'MAHCPVDLLN',\n",
       " 'MNLLDVPCHA',\n",
       " 'LDVPCHAMNL',\n",
       " 'LLDVPCHAMN',\n",
       " 'LLNMAHCPVD',\n",
       " 'LNMAHCPVDL',\n",
       " 'NMAHCPVDLL',\n",
       " 'NLLDVPCHAM',\n",
       " 'PCHAMNLLDV',\n",
       " 'PVDLLNMAHC',\n",
       " 'VDLLNMAHCP',\n",
       " 'VPCHAMNLLD']"
      ]
     },
     "execution_count": 42,
     "metadata": {},
     "output_type": "execute_result"
    }
   ],
   "source": [
    "spectrum = [0, 71, 97, 99, 103, 113, 113, 114, 115, 131, 137, 196, 200, 202, 208, 214, 226, 227, 228, 240, 245, 299, 311, 311, 316, 327, 337, 339, 340, 341, 358, 408, 414, 424, 429, 436, 440, 442, 453, 455, 471, 507, 527, 537, 539, 542, 551, 554, 556, 566, 586, 622, 638, 640, 651, 653, 657, 664, 669, 679, 685, 735, 752, 753, 754, 756, 766, 777, 782, 782, 794, 848, 853, 865, 866, 867, 879, 885, 891, 893, 897, 956, 962, 978, 979, 980, 980, 990, 994, 996, 1022, 1093]\n",
    "cycloPeptideSequencing(spectrum)"
   ]
  },
  {
   "cell_type": "code",
   "execution_count": 44,
   "metadata": {
    "collapsed": false
   },
   "outputs": [
    {
     "name": "stdout",
     "output_type": "stream",
     "text": [
      "aminoacid ['K', 'L', 'W']\n",
      "peptides ['KK', 'KL', 'KW', 'LK', 'LL', 'LW', 'WK', 'WL', 'WW']\n",
      "trimmed peptides ['KL', 'KW', 'LK', 'LW', 'WK', 'WL']\n",
      "peptides ['KLK', 'KLL', 'KLW', 'KWK', 'KWL', 'KWW', 'LKK', 'LKL', 'LKW', 'LWK', 'LWL', 'LWW', 'WKK', 'WKL', 'WKW', 'WLK', 'WLL', 'WLW']\n",
      "trimmed peptides []\n"
     ]
    },
    {
     "data": {
      "text/plain": [
       "['KLW', 'KWL', 'LKW', 'LWK', 'WKL', 'WLK']"
      ]
     },
     "execution_count": 44,
     "metadata": {},
     "output_type": "execute_result"
    }
   ],
   "source": [
    "spectrum = [0, 113, 128, 186, 241, 299, 314, 427]\n",
    "cycloPeptideSequencing(spectrum)"
   ]
  },
  {
   "cell_type": "code",
   "execution_count": 19,
   "metadata": {
    "collapsed": false
   },
   "outputs": [
    {
     "data": {
      "text/plain": [
       "[113, 128, 186]"
      ]
     },
     "execution_count": 19,
     "metadata": {},
     "output_type": "execute_result"
    }
   ],
   "source": [
    "map(lambda i: aminoacidMass[i], 'LKW')"
   ]
  },
  {
   "cell_type": "code",
   "execution_count": 28,
   "metadata": {
    "collapsed": false
   },
   "outputs": [
    {
     "data": {
      "text/plain": [
       "'113-128-186'"
      ]
     },
     "execution_count": 28,
     "metadata": {},
     "output_type": "execute_result"
    }
   ],
   "source": [
    "'-'.join(str(i) for i in map(lambda i: aminoacidMass[i], 'LKW'))"
   ]
  },
  {
   "cell_type": "code",
   "execution_count": 43,
   "metadata": {
    "collapsed": false
   },
   "outputs": [
    {
     "data": {
      "text/plain": [
       "'103-97-101-97-99 103-99-97-101-97 97-103-99-97-101 97-101-97-103-99 97-101-97-99-103 97-99-103-97-101 101-97-103-99-97 101-97-99-103-97 99-103-97-101-97 99-97-101-97-103'"
      ]
     },
     "execution_count": 43,
     "metadata": {},
     "output_type": "execute_result"
    }
   ],
   "source": [
    "y = ['CPTPV','CVPTP','PCVPT','PTPCV','PTPVC','PVCPT','TPCVP','TPVCP','VCPTP','VPTPC']\n",
    "' '.join(str(z) for z in map(lambda peptide: '-'.join(str(i) for i in map(lambda i: aminoacidMass[i], peptide)), y))"
   ]
  },
  {
   "cell_type": "code",
   "execution_count": 45,
   "metadata": {
    "collapsed": false
   },
   "outputs": [
    {
     "data": {
      "text/plain": [
       "'128-113-186 128-186-113 113-128-186 113-186-128 186-128-113 186-113-128'"
      ]
     },
     "execution_count": 45,
     "metadata": {},
     "output_type": "execute_result"
    }
   ],
   "source": [
    "z = ['KLW', 'KWL', 'LKW', 'LWK', 'WKL', 'WLK']\n",
    "' '.join(str(z) for z in map(lambda peptide: '-'.join(str(i) for i in map(lambda i: aminoacidMass[i], peptide)), z))"
   ]
  },
  {
   "cell_type": "code",
   "execution_count": 12,
   "metadata": {
    "collapsed": false
   },
   "outputs": [
    {
     "name": "stdout",
     "output_type": "stream",
     "text": [
      "line 0 71 97 99 103 113 113 114 115 131 137 196 200 202 208 214 226 227 228 240 245 299 311 311 316 327 337 339 340 341 358 408 414 424 429 436 440 442 453 455 471 507 527 537 539 542 551 554 556 566 586 622 638 640 651 653 657 664 669 679 685 735 752 753 754 756 766 777 782 782 794 848 853 865 866 867 879 885 891 893 897 956 962 978 979 980 980 990 994 996 1022 1093\n",
      "\n",
      "numbers ['0', '71', '97', '99', '103', '113', '113', '114', '115', '131', '137', '196', '200', '202', '208', '214', '226', '227', '228', '240', '245', '299', '311', '311', '316', '327', '337', '339', '340', '341', '358', '408', '414', '424', '429', '436', '440', '442', '453', '455', '471', '507', '527', '537', '539', '542', '551', '554', '556', '566', '586', '622', '638', '640', '651', '653', '657', '664', '669', '679', '685', '735', '752', '753', '754', '756', '766', '777', '782', '782', '794', '848', '853', '865', '866', '867', '879', '885', '891', '893', '897', '956', '962', '978', '979', '980', '980', '990', '994', '996', '1022', '1093']\n",
      "spectrum [0, 71, 97, 99, 103, 113, 113, 114, 115, 131, 137, 196, 200, 202, 208, 214, 226, 227, 228, 240, 245, 299, 311, 311, 316, 327, 337, 339, 340, 341, 358, 408, 414, 424, 429, 436, 440, 442, 453, 455, 471, 507, 527, 537, 539, 542, 551, 554, 556, 566, 586, 622, 638, 640, 651, 653, 657, 664, 669, 679, 685, 735, 752, 753, 754, 756, 766, 777, 782, 782, 794, 848, 853, 865, 866, 867, 879, 885, 891, 893, 897, 956, 962, 978, 979, 980, 980, 990, 994, 996, 1022, 1093]\n"
     ]
    }
   ],
   "source": [
    "#Reading the data\n",
    "f = open('input/cycloseq_data.txt', 'r') \n",
    "for line in f: #line is a string\n",
    "    print 'line', line\n",
    "    numbers = line.split() # split the string on white-space and return a list of numbers as strings\n",
    "    spectrum = map(int, numbers) #convert numbers to integers\n",
    "print 'numbers', numbers\n",
    "print 'spectrum', spectrum"
   ]
  },
  {
   "cell_type": "markdown",
   "metadata": {},
   "source": [
    "### Final algorithm for branch and bound CyclopeptideSequencing"
   ]
  },
  {
   "cell_type": "code",
   "execution_count": 48,
   "metadata": {
    "collapsed": false
   },
   "outputs": [
    {
     "name": "stdout",
     "output_type": "stream",
     "text": [
      "129-115-99-99-87-115-128-163-156 129-156-163-128-115-87-99-99-115 115-129-156-163-128-115-87-99-99 115-128-163-156-129-115-99-99-87 115-87-99-99-115-129-156-163-128 115-99-99-87-115-128-163-156-129 128-115-87-99-99-115-129-156-163 128-163-156-129-115-99-99-87-115 87-115-128-163-156-129-115-99-99 87-99-99-115-129-156-163-128-115 156-129-115-99-99-87-115-128-163 156-163-128-115-87-99-99-115-129 99-115-129-156-163-128-115-87-99 99-87-115-128-163-156-129-115-99 99-99-115-129-156-163-128-115-87 99-99-87-115-128-163-156-129-115 163-128-115-87-99-99-115-129-156 163-156-129-115-99-99-87-115-128\n"
     ]
    }
   ],
   "source": [
    "#spectrum = [0, 113, 128, 186, 241, 299, 314, 427]\n",
    "aminoacid = ['G', 'A', 'S', 'P', 'V', 'T', 'C', 'L', 'N', 'D', 'K', 'E', 'M', 'H', 'F', 'R', 'Y', 'W']\n",
    "aminoacidMass = {'G':57, 'A':71, 'S':87, 'P':97, 'V':99, 'T':101, 'C':103, 'L':113, 'N':114, 'D':115, 'K':128, 'E':129, 'M':131, 'H':137, 'F':147, 'R':156, 'Y':163, 'W':186}\n",
    "def linearSpectrum(peptide):\n",
    "    \"\"\"Input: An amino acid string Peptide.\n",
    "     Output: The linear spectrum of Peptide.\"\"\"\n",
    "    prefixMass = [0]*((len(peptide)+1))\n",
    "    for i in range(len(peptide)):\n",
    "        prefixMass[i+1] = prefixMass[i] + aminoacidMass[peptide[i]]\n",
    "    #print 'prefixMass', prefixMass\n",
    "    linear_spectrum = [0]\n",
    "    for i in range(len(prefixMass)-1):\n",
    "        for j in range(i+1, len(prefixMass)):\n",
    "            linear_spectrum.append(prefixMass[j] - prefixMass[i])\n",
    "    return sorted(linear_spectrum)    \n",
    "\n",
    "def cyclicSpectrum(peptide):\n",
    "    \"\"\"Input: An amino acid string Peptide.\n",
    "     Output: The cyclic spectrum of Peptide.\"\"\"\n",
    "    prefixMass = [0]*((len(peptide)+1))\n",
    "    for i in range(len(peptide)):\n",
    "        prefixMass[i+1] = prefixMass[i] + aminoacidMass[peptide[i]]\n",
    "    peptideMass = prefixMass[len(peptide)]\n",
    "    cyclic_spectrum = [0]\n",
    "    for i in range(len(prefixMass)-1):\n",
    "        for j in range(i+1, len(prefixMass)):\n",
    "            cyclic_spectrum.append(prefixMass[j] - prefixMass[i])\n",
    "            if i > 0 and j < (len(prefixMass)-1):\n",
    "                cyclic_spectrum.append(peptideMass - (prefixMass[j] - prefixMass[i]))\n",
    "    return sorted(cyclic_spectrum) \n",
    "\n",
    "def expand(peptides, aa):\n",
    "    \"\"\"Expands the peptide or aa by only the aminoacids that matches the spectrum\"\"\"\n",
    "    expanded = []\n",
    "    for i in peptides:\n",
    "        for j in aa:\n",
    "            expanded.append(i+j)\n",
    "    return expanded\n",
    "\n",
    "def mass(peptide):\n",
    "    \"\"\"Calculates the mass of peptide using the aminoacidMass dictionary\"\"\"\n",
    "    massOfPeptide = 0\n",
    "    for i in peptide:\n",
    "        massOfPeptide += aminoacidMass[i]\n",
    "    return massOfPeptide\n",
    "\n",
    "from collections import Counter\n",
    "def isSubset(list1, list2):\n",
    "    \"\"\"This function checks if one list is subset of another. Will check if linearSpectrum(peptide) is consistent with spectrum.\"\"\"\n",
    "    c1, c2 = Counter(list1), Counter(list2)\n",
    "    for k, n in c1.items():\n",
    "        if n > c2[k]:\n",
    "            return False\n",
    "    return True\n",
    "\n",
    "def cycloPeptideSequencing(spectrum):\n",
    "    \"\"\"Given an ideal spectrum, find the cyclic peptide whose theoretical spectrum matches the experimental.\"\"\"\n",
    "    peptides = [k for k,v in aminoacidMass.items() if v in spectrum]\n",
    "    aa = peptides\n",
    "    hits = []\n",
    "    while len(peptides) > 0:\n",
    "        peptides = expand(peptides, aa)\n",
    "        for peptide in peptides[:]:\n",
    "            if mass(peptide) >= max(spectrum):\n",
    "                if cyclicSpectrum(peptide) == spectrum:\n",
    "                    hits.append(peptide)\n",
    "                peptides.remove(peptide)\n",
    "            elif isSubset(linearSpectrum(peptide), spectrum) is False:\n",
    "                peptides.remove(peptide)\n",
    "    return hits\n",
    "\n",
    "#Read the data file and convert to list of numbers as integers\n",
    "f = open('input/rosalind_ba4e.txt', 'r') \n",
    "for line in f: #line is a string\n",
    "    numbers = line.split() # split the string on white-space and return a list of numbers as strings\n",
    "    spectrum = map(int, numbers) #convert numbers to integers\n",
    "    \n",
    "#Calling the function\n",
    "ans = cycloPeptideSequencing(spectrum)\n",
    "\n",
    "#Format the output to right format for submission\n",
    "print ' '.join(str(z) for z in map(lambda peptide: '-'.join(str(i) for i in map(lambda i: aminoacidMass[i], peptide)), ans))"
   ]
  },
  {
   "cell_type": "code",
   "execution_count": null,
   "metadata": {
    "collapsed": true
   },
   "outputs": [],
   "source": []
  },
  {
   "cell_type": "code",
   "execution_count": null,
   "metadata": {
    "collapsed": true
   },
   "outputs": [],
   "source": []
  }
 ],
 "metadata": {
  "kernelspec": {
   "display_name": "Python 2",
   "language": "python",
   "name": "python2"
  },
  "language_info": {
   "codemirror_mode": {
    "name": "ipython",
    "version": 2
   },
   "file_extension": ".py",
   "mimetype": "text/x-python",
   "name": "python",
   "nbconvert_exporter": "python",
   "pygments_lexer": "ipython2",
   "version": "2.7.5"
  }
 },
 "nbformat": 4,
 "nbformat_minor": 0
}
