{
 "cells": [
  {
   "cell_type": "code",
   "execution_count": 34,
   "metadata": {
    "collapsed": true
   },
   "outputs": [],
   "source": [
    "def expand(leaderboard, frequent_aa):\n",
    "    \"\"\"Expands each peptide/aminoacid in leaderboard by all 18 aminoacid masses.\"\"\"\n",
    "    return [i+(j,) for i in leaderboard for j in frequent_aa] "
   ]
  },
  {
   "cell_type": "code",
   "execution_count": 38,
   "metadata": {
    "collapsed": false
   },
   "outputs": [
    {
     "name": "stdout",
     "output_type": "stream",
     "text": [
      "[(129,), (137,), (71,), (99,), (57,), (194,)]\n",
      "[(129, 129), (129, 137), (129, 71), (129, 99), (129, 57), (129, 194), (137, 129), (137, 137), (137, 71), (137, 99), (137, 57), (137, 194), (71, 129), (71, 137), (71, 71), (71, 99), (71, 57), (71, 194), (99, 129), (99, 137), (99, 71), (99, 99), (99, 57), (99, 194), (57, 129), (57, 137), (57, 71), (57, 99), (57, 57), (57, 194), (194, 129), (194, 137), (194, 71), (194, 99), (194, 57), (194, 194)]\n"
     ]
    }
   ],
   "source": [
    "x = expand([()], [129, 137, 71, 99, 57, 194])\n",
    "print x\n",
    "print expand(x, [129, 137, 71, 99, 57, 194])"
   ]
  },
  {
   "cell_type": "code",
   "execution_count": 42,
   "metadata": {
    "collapsed": true
   },
   "outputs": [],
   "source": [
    "def cyclicSpectrum(peptide):\n",
    "    \"\"\"Input: (aminoacid masses)\n",
    "     Output: The cyclic spectrum of Peptide.\"\"\"\n",
    "    prefixMass = [0]*((len(peptide)+1))\n",
    "    for i in range(len(peptide)):\n",
    "        prefixMass[i+1] = prefixMass[i] + peptide[i]\n",
    "    peptideMass = prefixMass[len(peptide)]\n",
    "    cyclic_spectrum = [0]\n",
    "    for i in range(len(prefixMass)-1):\n",
    "        for j in range(i+1, len(prefixMass)):\n",
    "            cyclic_spectrum.append(prefixMass[j] - prefixMass[i])\n",
    "            if i > 0 and j < (len(prefixMass)-1):\n",
    "                cyclic_spectrum.append(peptideMass - (prefixMass[j] - prefixMass[i]))\n",
    "    return sorted(cyclic_spectrum) "
   ]
  },
  {
   "cell_type": "code",
   "execution_count": 41,
   "metadata": {
    "collapsed": false
   },
   "outputs": [
    {
     "data": {
      "text/plain": [
       "[0, 113, 114, 128, 129, 227, 242, 242, 257, 355, 356, 370, 371, 484]"
      ]
     },
     "execution_count": 41,
     "metadata": {},
     "output_type": "execute_result"
    }
   ],
   "source": [
    "cyclicSpectrum((113,129,128,114))"
   ]
  },
  {
   "cell_type": "code",
   "execution_count": null,
   "metadata": {
    "collapsed": true
   },
   "outputs": [],
   "source": [
    "from collections import Counter\n",
    "def score_peptide(peptide, spectrum):\n",
    "    \"\"\"Cyclopeptide Scoring Problem: Compute the score of a cyclic peptide against a spectrum.\n",
    "     Input: (aa masses) and a collection of integers Spectrum. \n",
    "     Output: The score of Peptide against Spectrum, Score(Peptide, Spectrum).\"\"\"\n",
    "    spectrum_peptide = cyclicSpectrum(peptide)\n",
    "    c1, c2 = Counter(spectrum_peptide), Counter(spectrum)\n",
    "    return sum([min(n, c2[k]) for k,n in c1.items()])"
   ]
  },
  {
   "cell_type": "code",
   "execution_count": 44,
   "metadata": {
    "collapsed": false
   },
   "outputs": [
    {
     "data": {
      "text/plain": [
       "11"
      ]
     },
     "execution_count": 44,
     "metadata": {},
     "output_type": "execute_result"
    }
   ],
   "source": [
    "score_peptide((114,128,129,113), [0, 99, 113, 114, 128, 227, 257, 299, 355, 356, 370, 371, 484])"
   ]
  },
  {
   "cell_type": "code",
   "execution_count": 45,
   "metadata": {
    "collapsed": false
   },
   "outputs": [
    {
     "data": {
      "text/plain": [
       "1"
      ]
     },
     "execution_count": 45,
     "metadata": {},
     "output_type": "execute_result"
    }
   ],
   "source": [
    "score_peptide((), [0, 99, 113, 114, 128, 227, 257, 299, 355, 356, 370, 371, 484])"
   ]
  },
  {
   "cell_type": "code",
   "execution_count": null,
   "metadata": {
    "collapsed": true
   },
   "outputs": [],
   "source": [
    "def linearSpectrum(peptide):\n",
    "    \"\"\"Input: An amino acid string Peptide.\n",
    "     Output: The linear spectrum of Peptide.\"\"\"\n",
    "    prefixMass = [0]*((len(peptide)+1))\n",
    "    for i in xrange(len(peptide)):\n",
    "        prefixMass[i+1] = prefixMass[i] + peptide[i]\n",
    "    #print 'prefixMass', prefixMass\n",
    "    linear_spectrum = [0]\n",
    "    for i in xrange(len(prefixMass)-1):\n",
    "        for j in xrange(i+1, len(prefixMass)):\n",
    "            linear_spectrum.append(prefixMass[j] - prefixMass[i])\n",
    "    return sorted(linear_spectrum) \n",
    "\n",
    "def score_linear_peptide(peptide, spectrum):\n",
    "    \"\"\"Compute the score of a linear peptide with respect to a spectrum.\n",
    "     Input: An amino acid string Peptide and a collection of integers Spectrum.\n",
    "     Output: The linear score of Peptide with respect to Spectrum, LinearScore(Peptide, Spectrum).\"\"\"\n",
    "    spectrum_linear_peptide = linearSpectrum(peptide)\n",
    "    c3, c4 = Counter(spectrum_linear_peptide), Counter(spectrum)\n",
    "    return sum([min(n, c4[k]) for k,n in c3.items()])\n"
   ]
  },
  {
   "cell_type": "code",
   "execution_count": 46,
   "metadata": {
    "collapsed": false
   },
   "outputs": [
    {
     "data": {
      "text/plain": [
       "8"
      ]
     },
     "execution_count": 46,
     "metadata": {},
     "output_type": "execute_result"
    }
   ],
   "source": [
    "score_linear_peptide((114,128,129,113), [0, 99, 113, 114, 128, 227, 257, 299, 355, 356, 370, 371, 484])"
   ]
  },
  {
   "cell_type": "code",
   "execution_count": null,
   "metadata": {
    "collapsed": true
   },
   "outputs": [],
   "source": [
    "def trim_leaderboard(leaderboard, spectrum, N):\n",
    "    \"\"\"Input: A collection of peptides Leaderboard, a collection of integers Spectrum, and an integer N.\n",
    "     Output: The N highest-scoring linear peptides on Leaderboard with respect to Spectrum.\"\"\"\n",
    "    scores =  [[score_linear_peptide(peptide, spectrum), peptide] for peptide in leaderboard]\n",
    "    sorted_scores = sorted(scores, reverse = True)\n",
    "    if len(leaderboard) <= N:\n",
    "        return [i[1] for i in sorted_scores]\n",
    "    else:\n",
    "        return [i[1] for i in sorted_scores if i[0] >= sorted_scores[int(N)-1][0]]"
   ]
  },
  {
   "cell_type": "code",
   "execution_count": 47,
   "metadata": {
    "collapsed": false
   },
   "outputs": [
    {
     "data": {
      "text/plain": [
       "[(113, 71, 87, 101), (71, 113, 87, 101)]"
      ]
     },
     "execution_count": 47,
     "metadata": {},
     "output_type": "execute_result"
    }
   ],
   "source": [
    "trim_leaderboard([(113,71,87,101), (71,113,87,101), (101,113,113,101), (101,128,71,87)], [0, 71, 87, 101, 113, 158, 184, 188, 259, 271, 372], 2)"
   ]
  },
  {
   "cell_type": "code",
   "execution_count": 50,
   "metadata": {
    "collapsed": true
   },
   "outputs": [],
   "source": [
    "aa = [57, 71, 87, 97, 99, 101, 103, 113, 114, 115, 128, 129, 131, 137, 147, 156, 163, 186]\n",
    "def leaderboard_cyclopeptide_sequencing(spectrum, N):\n",
    "    \"\"\" Input: An integer N and a collection of integers Spectrum.\n",
    "     Output: LeaderPeptide after running LEADERBOARDCYCLOPEPTIDESEQUENCING(Spectrum, N)\"\"\"\n",
    "    leaderboard = expand([()], aa)\n",
    "    leaderpeptide = ()\n",
    "    parentmass = max(spectrum)\n",
    "    while len(leaderboard) > 0:\n",
    "        leaderboard = expand(leaderboard, aa)\n",
    "        for peptide in leaderboard[:]:\n",
    "            mass = sum(peptide)\n",
    "            if mass == parentmass:\n",
    "                if score_peptide(peptide, spectrum) > score_peptide(leaderpeptide, spectrum):\n",
    "                    leaderpeptide = peptide\n",
    "            elif mass > parentmass:\n",
    "                leaderboard.remove(peptide)\n",
    "        leaderboard = trim_leaderboard(leaderboard, spectrum, N)   \n",
    "    return leaderpeptide"
   ]
  },
  {
   "cell_type": "code",
   "execution_count": 51,
   "metadata": {
    "collapsed": false
   },
   "outputs": [
    {
     "name": "stdout",
     "output_type": "stream",
     "text": [
      "(147, 71, 129, 113)\n"
     ]
    }
   ],
   "source": [
    "ans = leaderboard_cyclopeptide_sequencing([0, 71, 113, 129, 147, 200, 218, 260, 313, 331, 347, 389, 460], 10)\n",
    "print ans"
   ]
  },
  {
   "cell_type": "code",
   "execution_count": 1,
   "metadata": {
    "collapsed": true
   },
   "outputs": [],
   "source": [
    "def convolution(spectrum):\n",
    "    \n",
    "    \"\"\"Input: A collection of integers Spectrum.\n",
    "     Output: The list of elements in the convolution of Spectrum. If an element has\n",
    "     multiplicity k, it should appear exactly k times; you may return the elements in any order.\"\"\"\n",
    "    \n",
    "    spectrum = sorted(spectrum)\n",
    "    return [i-j for i in spectrum for j in spectrum if i-j > 0]   "
   ]
  },
  {
   "cell_type": "code",
   "execution_count": 52,
   "metadata": {
    "collapsed": false
   },
   "outputs": [],
   "source": [
    "from collections import Counter\n",
    "def convolution_cyclopeptide_sequencing(M, N, spectrum):\n",
    "    \n",
    "    #Get the sorted convolution\n",
    "    convoluted_spectrum = sorted(convolution(spectrum))\n",
    "    \n",
    "    #Select elements from convolution betweeen 57 and 200\n",
    "    aa = [i for i in convoluted_spectrum if 57<=i<=200]\n",
    "    \n",
    "    #Select the M most frequent elements between 57 and 200 in the convolution with ties\n",
    "    if len(aa) < M:\n",
    "        frequent_aa = aa\n",
    "    else:\n",
    "        c = Counter(aa).most_common()\n",
    "        frequent_aa = [k for (k,v) in c if v >= c[M-1][1]]\n",
    "    \n",
    "    leaderboard = expand([()], frequent_aa)\n",
    "    leaderpeptide = ()\n",
    "    parentmass = max(spectrum)\n",
    "    while len(leaderboard) > 0:\n",
    "        leaderboard = expand(leaderboard, frequent_aa)\n",
    "        for peptide in leaderboard[:]:\n",
    "            mass = sum(peptide)\n",
    "            if mass == parentmass:\n",
    "                if score_peptide(peptide, spectrum) > score_peptide(leaderpeptide, spectrum):\n",
    "                    leaderpeptide = peptide\n",
    "            elif mass > parentmass:\n",
    "                leaderboard.remove(peptide)\n",
    "        leaderboard = trim_leaderboard(leaderboard, spectrum, N)   \n",
    "    return leaderpeptide"
   ]
  },
  {
   "cell_type": "code",
   "execution_count": 55,
   "metadata": {
    "collapsed": false
   },
   "outputs": [
    {
     "data": {
      "text/plain": [
       "'99-71-137-57-72-57'"
      ]
     },
     "execution_count": 55,
     "metadata": {},
     "output_type": "execute_result"
    }
   ],
   "source": [
    "ans = convolution_cyclopeptide_sequencing(20, 60, [57, 57, 71, 99, 129, 137, 170, 186, 194, 208, 228, 265, 285, 299, 307, 323, 356, 364, 394, 422, 493])\n",
    "'-'.join(str(i) for i in ans)"
   ]
  },
  {
   "cell_type": "code",
   "execution_count": 64,
   "metadata": {
    "collapsed": false
   },
   "outputs": [],
   "source": [
    "#Read input data\n",
    "f = open('input/rosalind_ba4i.txt')\n",
    "spectrum = map(int, f.read().strip().split())"
   ]
  },
  {
   "cell_type": "code",
   "execution_count": 65,
   "metadata": {
    "collapsed": false
   },
   "outputs": [
    {
     "data": {
      "text/plain": [
       "'186-186-156-87-99-137-71-99-129-129-97-113-131-99-115'"
      ]
     },
     "execution_count": 65,
     "metadata": {},
     "output_type": "execute_result"
    }
   ],
   "source": [
    "#Call function\n",
    "output = convolution_cyclopeptide_sequencing(20, 373, spectrum)\n",
    "#Get output in desired format\n",
    "'-'.join(str(i) for i in output)"
   ]
  },
  {
   "cell_type": "code",
   "execution_count": null,
   "metadata": {
    "collapsed": true
   },
   "outputs": [],
   "source": [
    "#EXERCISE BREAK: Run ConvolutionCyclopeptideSequencing> on Spectrum25 (reproduced below) with N = 1000 and M = 20. \n",
    "#Identify the 86 highest-scoring linear peptides."
   ]
  }
 ],
 "metadata": {
  "kernelspec": {
   "display_name": "Python 2",
   "language": "python",
   "name": "python2"
  },
  "language_info": {
   "codemirror_mode": {
    "name": "ipython",
    "version": 2
   },
   "file_extension": ".py",
   "mimetype": "text/x-python",
   "name": "python",
   "nbconvert_exporter": "python",
   "pygments_lexer": "ipython2",
   "version": "2.7.5"
  }
 },
 "nbformat": 4,
 "nbformat_minor": 0
}
