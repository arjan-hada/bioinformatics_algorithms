{
 "cells": [
  {
   "cell_type": "markdown",
   "metadata": {},
   "source": [
    "## Where in the genome does DNA replication begin ?"
   ]
  },
  {
   "cell_type": "code",
   "execution_count": 1,
   "metadata": {
    "collapsed": false
   },
   "outputs": [
    {
     "name": "stdout",
     "output_type": "stream",
     "text": [
      "--2015-09-20 11:39:23--  https://stepic.org/media/attachments/lessons/2/Vibrio_cholerae.txt\n",
      "Resolving stepic.org... 54.194.188.166\n",
      "Connecting to stepic.org|54.194.188.166|:443... connected.\n",
      "HTTP request sent, awaiting response... 200 OK\n",
      "Length: 1108251 (1.1M) [text/plain]\n",
      "Saving to: `Vibrio_cholerae.txt'\n",
      "\n",
      "100%[======================================>] 1,108,251    184K/s   in 6.8s    \n",
      "\n",
      "2015-09-20 11:39:32 (160 KB/s) - `Vibrio_cholerae.txt' saved [1108251/1108251]\n",
      "\n"
     ]
    }
   ],
   "source": [
    "#' '.join(str(i) for i in array)\n",
    "!wget https://stepic.org/media/attachments/lessons/2/Vibrio_cholerae.txt"
   ]
  },
  {
   "cell_type": "code",
   "execution_count": 1,
   "metadata": {
    "collapsed": true
   },
   "outputs": [],
   "source": [
    "def PatternCount(text, pattern):\n",
    "    \"\"\"Given: {DNA strings}} Text and Pattern. Return: Count(Text, Pattern).\"\"\"\n",
    "    count = 0\n",
    "    for i in range(len(text) - len(pattern) + 1):\n",
    "        match = True\n",
    "        for j in range(len(pattern)):\n",
    "            if text[i+j] != pattern[j]:\n",
    "                match = False\n",
    "        if match:\n",
    "            count += 1\n",
    "    return count      "
   ]
  },
  {
   "cell_type": "code",
   "execution_count": 2,
   "metadata": {
    "collapsed": false
   },
   "outputs": [
    {
     "data": {
      "text/plain": [
       "5"
      ]
     },
     "execution_count": 2,
     "metadata": {},
     "output_type": "execute_result"
    }
   ],
   "source": [
    "PatternCount('CGCGATACGTTACATACATGATAGACCGCGCGCGATCATATCGCGATTATC', 'CGCG')"
   ]
  },
  {
   "cell_type": "code",
   "execution_count": 38,
   "metadata": {
    "collapsed": false
   },
   "outputs": [
    {
     "data": {
      "text/plain": [
       "2"
      ]
     },
     "execution_count": 38,
     "metadata": {},
     "output_type": "execute_result"
    }
   ],
   "source": [
    "PatternCount('GCGCG', 'GCG')"
   ]
  },
  {
   "cell_type": "code",
   "execution_count": 6,
   "metadata": {
    "collapsed": false,
    "scrolled": true
   },
   "outputs": [
    {
     "data": {
      "text/plain": [
       "27"
      ]
     },
     "execution_count": 6,
     "metadata": {},
     "output_type": "execute_result"
    }
   ],
   "source": [
    "text = 'AATTCTTAGTGTATTCTTACATTCTTAATTCTTAAGCCGGCATTCTTATTATTCTTAATTCTTACAATTCTTACGTATTCTTATGATTCTTAATTCTTAAATTCTTAATGACGTCGATTCTTAGCTATTCTTAAGATTCTTAATTCTTAGATTCTTAGAAGTGCATTAACGCCATTCTTAATTCTTAGCGATTCTTATTCAATTCTTACCAATTCTTACAATTCTTATGATTCTTAAGGAATTCTTATATTCTTACGATTCTTATCAGATTCTTATCAATTCTTAATTCTTACCCGATTCTTAACAGCGTCCATTCTTAGCAAGCATATTCTTAGATTCTTAATTCTTAATTCTTAATTCTTAATTCTTAAGGGATTCTTATTGTGTATTCTTAACTCGGCGATTCTTATATTCTTACCAACCGACATTCTTATAGATTCTTAATTCTTACTATTCTTAAAACCCATTCTTATATTCTTAATTCTTAATTCTTATCATTCTTATTATTCTTAGGTCAGGGCTTATTCTTAATTCTTAATTCTTAAAGAACCATTCTTACATTCTTATATTCTTATTTATTCTTAATTCTTATGAATTCTTAGGCCGTAATTCTTAATTCTTATACCGAATTCTTACGGCAGATTCTTAATTCTTATTATTCTTAATTCTTACAGTCCACATTCTTATAATCATAGGATTCTTAATTCTTAGATTCTTATGTGGGTATTCTTAGGATTGGGTATTCTTATGAGAAATTCTTATATTCTTAATTCTTACTTGTCTGCATTCTTACAATTCTTAATTCTTAAGCATTCTTAATTCAGCCACTACAAAAATTCTTAATCATTCTTACCTATTCTTAATTCTTAGGGGCTAATTCTTAAGGAATTCTTAAATTCTTATTAACCCACTCTAAGACATTAGCATTCTTAATTCTTA'\n",
    "pattern = 'ATTCTTAAT'\n",
    "PatternCount(text, pattern)"
   ]
  },
  {
   "cell_type": "code",
   "execution_count": 29,
   "metadata": {
    "collapsed": false
   },
   "outputs": [
    {
     "data": {
      "text/plain": [
       "30"
      ]
     },
     "execution_count": 29,
     "metadata": {},
     "output_type": "execute_result"
    }
   ],
   "source": [
    "text = 'GAACTCTGTTAAACTCTGCCAACTCTGAGGAACTCTGGTCCCCGAACTCTGCAGGTCTAAACTCTGTAACTCTGTCTGAACTCTGCGGAACTCTGCCCAACTCTGAAACTCTGGTGAAACTCTGAACTCTGCTGAACTCTGTTACTAACTCTGCACTCCCTATGCAGCGAACTCTGCGGTGTAGGAACTCTGGGAAACTCTGGCACAACTCTGTCAACTCTGGTGAAACTCTGAACTCTGAACTCTGAACTCTGTGTAACTCTGTGCAAAACTCTGGGTGAACTCTGCATTGGCCGAATCAATCTAACTCTGCAACTCTGAACTCTGCCAAACTCTGCCAAAAACTCTGGAAACTCTGAAACTCTGGCAACTCTGTTGACTTGGAACTCTGAAACTCTGTTGCCAAACTCTGAACTCTGTGCCAACTCTGCGCTAAACTCTGAACTCTGATGCCAACTCTGAACTCTGTCGGAACTCTGGAGAACTCTGTGTTCCCAAACTCTGCTAACTCTGGTAACTCTGAACTCTGCGGACAAGTCAACTCTGCAACTAACTCTGCAACTCTGAACTCTGAACTCTGCCTAACTCTGCAACTCTGAACTCTGTATAAACTCTGAACTCTGTTTGGCCTTCGCCCCAAACTCTGGAACTCTGATATTATAGCCCCTGGTTAACTCTGAAACTCTGAACTCTGAGAGAACTCTGGAGAACTCTGAACTCTGCCAACTCTGAACTCTGTCACCAACTCTGTGGTCGAACTCTGAACTCTGGACAACTCTGCCAACTCCCAACTCTGAAAACTCTGAACTCTGTACAGAACTCTGACCGTGGAACTCTGAGCCCAGTAACTCTGGCCAGTAACTCTGAAACTCTGATTAACTCTGAAACTCTGAACTCTGAACTCTGGTTAACTCTGAAACTCTGTAGAACTCTGAAACTCTGATGGAAACTCTGCGAACTCTGCAACTCTGGAACTCTGAACTCTGGGAACTCTGGGCAACTCTG'\n",
    "pattern = 'AACTCTGAA'\n",
    "PatternCount(text, pattern)"
   ]
  },
  {
   "cell_type": "code",
   "execution_count": 14,
   "metadata": {
    "collapsed": false
   },
   "outputs": [
    {
     "data": {
      "text/plain": [
       "38"
      ]
     },
     "execution_count": 14,
     "metadata": {},
     "output_type": "execute_result"
    }
   ],
   "source": [
    "text = 'CCAGCGTTTTGCAATAGCGTTTAGCGTTTAGCGTTTGCCAAGCGTTTACCAGCGTTTAAGCGTTTTAAAAGCGTTTCGCAGTAGCGTTTAGCGTTTAGCGTTTGTTAGCGTTTACCTGAGCGTTTATGAGCGTTTTCAGCGTTTGGCGGAGCGTTTAGCGTTTAAGCGTTTGGTGGGATAGCGTTTAGCGTTTATGAAGCGTTTCGTAGAGCGTTTGAGCGTTTGAGCGTTTACAGCGTTTAAGCGTTTAGCGTTTAGCGTTTATAGCGTTTGAGCGTTTGAGAGTAGCGTTTGGTAAGCGTTTAGCGTTTCCATGAGCGTTTGGTAGGCCCAGCGTTTAGCGTTTAGCGTTTAGCGTTTCTCCCTAGCGTTTATAGCGTTTAGCGTTTTTGAATAGCGTTTCAGCGTTTGCCTATCAGAGCGTTTAGCGTTTGGTAGCGTTTAAAGCGTTTTCAGCGTTTAGCGTTTAGCGTTTAAGACGACCAGCGTTTCTTAGAAGCGTTTCACTAGCGTTTAGCGTTTAGTCTGGGTTAGCGTTTAGCGTTTAGCGTTTCAGCGTTTAGCGTTTGTTAGCGTTTAGCGTTTAGCGTTTATGTGAAGCGTTTAAGAGCGTTTAGCGTTTAGCGTTTGAAATGGGCTAAGCGTTTCAGCGTTTCAGCGTTTGGAGCGTTTAGCGTTTCCAGCGTTTGCCCCGGAATATTGTCCAGCGTTTGAGCGTTTAGCGTTTAAGCGTTTAAAGCGTTTCAGCGTTTAACGAGCGTTTAGCGTTTAGCGTTTAGCGTTTGTTCAAGCGTTTCTAGCGTTTTAGCGTTTATGAAGCGTTTAAGCGTTTAGCGTTTGCCAGCGTTTAGATCGCCCGAGCGTTTGGAGCGTTTAGCGTTTTCAGCGTTTAGCGTTTAGCGTTTAGCGTTTAGCGTTTAGCGTTTGGCTGCGAGCGTTTGTATGCAGCGTTTCAGCGTTT'\n",
    "pattern = 'AGCGTTTAG'\n",
    "PatternCount(text, pattern)"
   ]
  },
  {
   "cell_type": "code",
   "execution_count": 3,
   "metadata": {
    "collapsed": false
   },
   "outputs": [],
   "source": [
    "def FrequentWords(text, k):\n",
    "    \"\"\" Input: A string Text and an integer k.\n",
    "     Output: All most frequent k-mers in Text.\"\"\"\n",
    "    frequentPatterns = []\n",
    "    max_count = None\n",
    "    for i in range(len(text) - k + 1):\n",
    "        pattern = text[i:k+i]\n",
    "        count = text.count(pattern)\n",
    "        if max_count is None:\n",
    "            frequentPatterns.append(pattern)\n",
    "            max_count = count\n",
    "        elif max_count == count:\n",
    "            frequentPatterns.append(pattern)\n",
    "        elif max_count < count:\n",
    "            frequentPatterns = []\n",
    "            frequentPatterns.append(pattern)\n",
    "            max_count = count\n",
    "            \n",
    "    return set(frequentPatterns)"
   ]
  },
  {
   "cell_type": "code",
   "execution_count": 116,
   "metadata": {
    "collapsed": false
   },
   "outputs": [
    {
     "name": "stdout",
     "output_type": "stream",
     "text": [
      "set(['TGGTCTTCCTCCC', 'GCGTGGTCTTCCT', 'CGTGGTCTTCCTC', 'GTGGTCTTCCTCC', 'GGCGTGGTCTTCC', 'CGGCGTGGTCTTC'])\n"
     ]
    }
   ],
   "source": [
    "text = 'CGAAAGGCCGGCGTGGTTAAACGTCCTTCCTCCCTAAACGTCTAAACGTCCTGCCTTCCGGCGTGGTCGAAAGGCTAAACGTCCGGCGTGGTCTGCCTTCTAAACGTCCTGCCTTCCGAAAGGCCTGCCTTCCTTCCTCCCCGGCGTGGTTAAACGTCCTTCCTCCCCGGCGTGGTCGAAAGGCCTTCCTCCCCTTCCTCCCCGAAAGGCCTGCCTTCCGAAAGGCCGGCGTGGTCTTCCTCCCCGGCGTGGTTAAACGTCCTTCCTCCCCGAAAGGCCTTCCTCCCCGGCGTGGTCGGCGTGGTCGAAAGGCTAAACGTCTAAACGTCCGGCGTGGTCTTCCTCCCCTTCCTCCCCGGCGTGGTCTTCCTCCCCTGCCTTCCTGCCTTCCTTCCTCCCCGGCGTGGTCGAAAGGCCTGCCTTCCTGCCTTCCTTCCTCCCTAAACGTCCTGCCTTCTAAACGTCCGGCGTGGTCTTCCTCCCCGAAAGGCCGGCGTGGTCGGCGTGGTCGAAAGGCTAAACGTCCTTCCTCCCCTGCCTTCTAAACGTCCGAAAGGCTAAACGTCCTTCCTCCCCGGCGTGGTCGGCGTGGTCTTCCTCCCTAAACGTCTAAACGTCCGGCGTGGTCGGCGTGGTCTTCCTCCCCTGCCTTCTAAACGTCCGGCGTGGTCTTCCTCCCCTTCCTCCCCTGCCTTCCTGCCTTCCGGCGTGGTCTGCCTTCTAAACGTCTAAACGTCCGGCGTGGTTAAACGTCCTGCCTTCCGGCGTGGTCTTCCTCCCCGGCGTGGTCGGCGTGGTCTGCCTTCCTTCCTCCCCGAAAGGCCGAAAGGCCGAAAGGCCGGCGTGGTCGGCGTGGTCGAAAGGCCTGCCTTCCGGCGTGGTTAAACGTCCGAAAGGCCGGCGTGGTCTTCCTCCCTAAACGTCCGAAAGGCCGGCGTGGTCTTCCTCCCCTTCCTCCCTAAACGTCCGAAAGGC'\n",
    "k = 13\n",
    "print FrequentWords(text, k)"
   ]
  },
  {
   "cell_type": "code",
   "execution_count": 4,
   "metadata": {
    "collapsed": false
   },
   "outputs": [
    {
     "data": {
      "text/plain": [
       "{'AGG'}"
      ]
     },
     "execution_count": 4,
     "metadata": {},
     "output_type": "execute_result"
    }
   ],
   "source": [
    "FrequentWords('CGGAGGACTCTAGGTAACGCTTATCAGGTCCATAGGACATTCA', 3)"
   ]
  },
  {
   "cell_type": "code",
   "execution_count": 45,
   "metadata": {
    "collapsed": false
   },
   "outputs": [
    {
     "name": "stdout",
     "output_type": "stream",
     "text": [
      "CPU times: user 3.77 ms, sys: 191 µs, total: 3.96 ms\n",
      "Wall time: 3.8 ms\n"
     ]
    }
   ],
   "source": [
    "%%time\n",
    "text = 'CTGCCCGGTAGATGCATTCAGCCAGATAGATGCATTGCATTTAGCTGCCCGGCTGCCCGGGCATTTAGCTGCCCGGAACATCGCTAAACATCGCTACAGCCAGATAGATGCATTCAGCCAGAGCATTTAGCTGCCCGGCAGCCAGATAGATGCATTAACATCGCTAGCATTTAGAACATCGCTACTGCCCGGCTGCCCGGCAGCCAGACTGCCCGGCAGCCAGAAACATCGCTATAGATGCATTCAGCCAGAGCATTTAGCAGCCAGACAGCCAGACAGCCAGAAACATCGCTAGCATTTAGTAGATGCATTTAGATGCATTGCATTTAGCAGCCAGAAACATCGCTAGCATTTAGAACATCGCTACAGCCAGATAGATGCATTGCATTTAGTAGATGCATTGCATTTAGTAGATGCATTTAGATGCATTGCATTTAGCTGCCCGGGCATTTAGCTGCCCGGTAGATGCATTCTGCCCGGCTGCCCGGAACATCGCTAAACATCGCTAGCATTTAGCAGCCAGAGCATTTAGAACATCGCTAAACATCGCTAAACATCGCTACAGCCAGACAGCCAGACAGCCAGAGCATTTAGCTGCCCGGCTGCCCGGCAGCCAGAGCATTTAGTAGATGCATTGCATTTAGGCATTTAGCAGCCAGACAGCCAGACTGCCCGGTAGATGCATTCAGCCAGATAGATGCATTCAGCCAGATAGATGCATTTAGATGCATTGCATTTAGGCATTTAGAACATCGCTACAGCCAGAAACATCGCTAGCATTTAGTAGATGCATTCAGCCAGACTGCCCGGGCATTTAGAACATCGCTATAGATGCATTCAGCCAGACAGCCAGATAGATGCATTGCATTTAGCAGCCAGAGCATTTAGAACATCGCTATAGATGCATTCAGCCAGAAACATCGCTATAGATGCATTAACATCGCTATAGATGCATTCAGCCAGACAGCCAGACTGCCCGG'\n",
    "k = 11\n",
    "FrequentWords(text, k)"
   ]
  },
  {
   "cell_type": "code",
   "execution_count": 2,
   "metadata": {
    "collapsed": false
   },
   "outputs": [],
   "source": [
    "def patternToNumber(Pattern):\n",
    "    symbolToNumber = {'A':0, 'C':1, 'G':2, 'T':3}\n",
    "    n = len(Pattern)\n",
    "    if n == 0:\n",
    "        return 0\n",
    "    elif n == 1:\n",
    "        return symbolToNumber[Pattern]\n",
    "    else:\n",
    "        return 4*patternToNumber(Pattern[:-1]) + symbolToNumber[Pattern[-1]]"
   ]
  },
  {
   "cell_type": "code",
   "execution_count": 29,
   "metadata": {
    "collapsed": false
   },
   "outputs": [
    {
     "data": {
      "text/plain": [
       "912"
      ]
     },
     "execution_count": 29,
     "metadata": {},
     "output_type": "execute_result"
    }
   ],
   "source": [
    "patternToNumber('ATGCAA')"
   ]
  },
  {
   "cell_type": "code",
   "execution_count": 22,
   "metadata": {
    "collapsed": false
   },
   "outputs": [
    {
     "data": {
      "text/plain": [
       "442308552"
      ]
     },
     "execution_count": 22,
     "metadata": {},
     "output_type": "execute_result"
    }
   ],
   "source": [
    "patternToNumber('ACGGCCTCACCTTAGA')"
   ]
  },
  {
   "cell_type": "code",
   "execution_count": 13,
   "metadata": {
    "collapsed": false
   },
   "outputs": [
    {
     "data": {
      "text/plain": [
       "9904"
      ]
     },
     "execution_count": 13,
     "metadata": {},
     "output_type": "execute_result"
    }
   ],
   "source": [
    "patternToNumber('AAGCGGTAA')"
   ]
  },
  {
   "cell_type": "code",
   "execution_count": 14,
   "metadata": {
    "collapsed": false
   },
   "outputs": [
    {
     "data": {
      "text/plain": [
       "1066391637859380"
      ]
     },
     "execution_count": 14,
     "metadata": {},
     "output_type": "execute_result"
    }
   ],
   "source": [
    "patternToNumber('TTAGCTGAAGGCGTACAACTAATCA')"
   ]
  },
  {
   "cell_type": "code",
   "execution_count": 22,
   "metadata": {
    "collapsed": false
   },
   "outputs": [],
   "source": [
    "def numberToPattern (number, length):\n",
    "    letter_value = {0: 'A', 1: 'C', 2: 'G', 3: 'T'}\n",
    "    sequence = ''\n",
    "    for i in range(length):\n",
    "        ## take the remainder after dividing by 4, convert it to a base and prepend to sequence\n",
    "        sequence = letter_value[number % 4] + sequence\n",
    "        ## now do a floor division to get ready for the next base\n",
    "        number = number // 4\n",
    "    return sequence"
   ]
  },
  {
   "cell_type": "markdown",
   "metadata": {
    "collapsed": true
   },
   "source": [
    "def numberToPattern(n, kmer):\n",
    "    numberToSymbol = {0:'A', 1:'C', 2:'G', 3:'T'}\n",
    "    pattern = ''\n",
    "    while n > 0:\n",
    "        remainder = n%4\n",
    "        pattern = numberToSymbol[remainder] + pattern\n",
    "        n = n/4\n",
    "    if kmer - len(pattern) == 0:\n",
    "        return pattern\n",
    "    else:\n",
    "        return (kmer - len(pattern))*'A' + pattern"
   ]
  },
  {
   "cell_type": "code",
   "execution_count": 23,
   "metadata": {
    "collapsed": false
   },
   "outputs": [
    {
     "data": {
      "text/plain": [
       "'ATGCAA'"
      ]
     },
     "execution_count": 23,
     "metadata": {},
     "output_type": "execute_result"
    }
   ],
   "source": [
    "numberToPattern(912, 6)"
   ]
  },
  {
   "cell_type": "code",
   "execution_count": 24,
   "metadata": {
    "collapsed": false
   },
   "outputs": [
    {
     "data": {
      "text/plain": [
       "'AACGACGTG'"
      ]
     },
     "execution_count": 24,
     "metadata": {},
     "output_type": "execute_result"
    }
   ],
   "source": [
    "numberToPattern(6254, 9)"
   ]
  },
  {
   "cell_type": "code",
   "execution_count": 33,
   "metadata": {
    "collapsed": false
   },
   "outputs": [
    {
     "data": {
      "text/plain": [
       "'A'"
      ]
     },
     "execution_count": 33,
     "metadata": {},
     "output_type": "execute_result"
    }
   ],
   "source": [
    "numberToPattern(0, 1)"
   ]
  },
  {
   "cell_type": "code",
   "execution_count": 75,
   "metadata": {
    "collapsed": false
   },
   "outputs": [
    {
     "data": {
      "text/plain": [
       "'CCCATTC'"
      ]
     },
     "execution_count": 75,
     "metadata": {},
     "output_type": "execute_result"
    }
   ],
   "source": [
    "numberToPattern(5437, 7)"
   ]
  },
  {
   "cell_type": "code",
   "execution_count": 77,
   "metadata": {
    "collapsed": false
   },
   "outputs": [
    {
     "data": {
      "text/plain": [
       "'ACCCATTC'"
      ]
     },
     "execution_count": 77,
     "metadata": {},
     "output_type": "execute_result"
    }
   ],
   "source": [
    "numberToPattern(5437, 8)"
   ]
  },
  {
   "cell_type": "code",
   "execution_count": 94,
   "metadata": {
    "collapsed": false
   },
   "outputs": [
    {
     "data": {
      "text/plain": [
       "26900352"
      ]
     },
     "execution_count": 94,
     "metadata": {},
     "output_type": "execute_result"
    }
   ],
   "source": [
    "patternToNumber('ACGCGGCTCTGAAA')"
   ]
  },
  {
   "cell_type": "code",
   "execution_count": 119,
   "metadata": {
    "collapsed": false
   },
   "outputs": [],
   "source": [
    "def computingFrequencies(text , k):\n",
    "    array =[0]*((4**k))\n",
    "    for i in range(len(text) - k + 1):\n",
    "        pattern = text[i:i+k]\n",
    "        j = patternToNumber(pattern)\n",
    "        array[j] = array[j]+1\n",
    "    return array   "
   ]
  },
  {
   "cell_type": "code",
   "execution_count": 44,
   "metadata": {
    "collapsed": false
   },
   "outputs": [
    {
     "data": {
      "text/plain": [
       "[2, 1, 0, 0, 0, 0, 2, 2, 1, 2, 1, 0, 0, 1, 1, 0]"
      ]
     },
     "execution_count": 44,
     "metadata": {},
     "output_type": "execute_result"
    }
   ],
   "source": [
    "computingFrequencies('ACGCGGCTCTGAAA', 2)\n",
    "#2 1 0 0 0 0 2 2 1 2 1 0 0 1 1 0"
   ]
  },
  {
   "cell_type": "code",
   "execution_count": 39,
   "metadata": {
    "collapsed": false
   },
   "outputs": [
    {
     "data": {
      "text/plain": [
       "2"
      ]
     },
     "execution_count": 39,
     "metadata": {},
     "output_type": "execute_result"
    }
   ],
   "source": [
    "max(ComputingFrequencies('ACGCGGCTCTGAAA', 2))"
   ]
  },
  {
   "cell_type": "code",
   "execution_count": 122,
   "metadata": {
    "collapsed": true
   },
   "outputs": [],
   "source": [
    "def fasterFrequentWords(text , k):\n",
    "    frequentPatterns = set()\n",
    "    frequencyArray = computingFrequencies(text , k)\n",
    "    maxCount = max(frequencyArray)\n",
    "    for i in range(0,4**k-1):\n",
    "        if frequencyArray[i] == maxCount:\n",
    "            pattern = numberToPattern(i, k)\n",
    "            frequentPatterns.add(pattern)\n",
    "    return frequentPatterns"
   ]
  },
  {
   "cell_type": "code",
   "execution_count": 123,
   "metadata": {
    "collapsed": false
   },
   "outputs": [
    {
     "name": "stdout",
     "output_type": "stream",
     "text": [
      "set(['TGGTCTTCCTCCC', 'GCGTGGTCTTCCT', 'CGTGGTCTTCCTC', 'GTGGTCTTCCTCC', 'GGCGTGGTCTTCC', 'CGGCGTGGTCTTC'])\n",
      "CPU times: user 8.98 s, sys: 5.95 s, total: 14.9 s\n",
      "Wall time: 16.1 s\n"
     ]
    }
   ],
   "source": [
    "%%time\n",
    "text = 'CGAAAGGCCGGCGTGGTTAAACGTCCTTCCTCCCTAAACGTCTAAACGTCCTGCCTTCCGGCGTGGTCGAAAGGCTAAACGTCCGGCGTGGTCTGCCTTCTAAACGTCCTGCCTTCCGAAAGGCCTGCCTTCCTTCCTCCCCGGCGTGGTTAAACGTCCTTCCTCCCCGGCGTGGTCGAAAGGCCTTCCTCCCCTTCCTCCCCGAAAGGCCTGCCTTCCGAAAGGCCGGCGTGGTCTTCCTCCCCGGCGTGGTTAAACGTCCTTCCTCCCCGAAAGGCCTTCCTCCCCGGCGTGGTCGGCGTGGTCGAAAGGCTAAACGTCTAAACGTCCGGCGTGGTCTTCCTCCCCTTCCTCCCCGGCGTGGTCTTCCTCCCCTGCCTTCCTGCCTTCCTTCCTCCCCGGCGTGGTCGAAAGGCCTGCCTTCCTGCCTTCCTTCCTCCCTAAACGTCCTGCCTTCTAAACGTCCGGCGTGGTCTTCCTCCCCGAAAGGCCGGCGTGGTCGGCGTGGTCGAAAGGCTAAACGTCCTTCCTCCCCTGCCTTCTAAACGTCCGAAAGGCTAAACGTCCTTCCTCCCCGGCGTGGTCGGCGTGGTCTTCCTCCCTAAACGTCTAAACGTCCGGCGTGGTCGGCGTGGTCTTCCTCCCCTGCCTTCTAAACGTCCGGCGTGGTCTTCCTCCCCTTCCTCCCCTGCCTTCCTGCCTTCCGGCGTGGTCTGCCTTCTAAACGTCTAAACGTCCGGCGTGGTTAAACGTCCTGCCTTCCGGCGTGGTCTTCCTCCCCGGCGTGGTCGGCGTGGTCTGCCTTCCTTCCTCCCCGAAAGGCCGAAAGGCCGAAAGGCCGGCGTGGTCGGCGTGGTCGAAAGGCCTGCCTTCCGGCGTGGTTAAACGTCCGAAAGGCCGGCGTGGTCTTCCTCCCTAAACGTCCGAAAGGCCGGCGTGGTCTTCCTCCCCTTCCTCCCTAAACGTCCGAAAGGC'\n",
    "k = 13\n",
    "print fasterFrequentWords(text, k)"
   ]
  },
  {
   "cell_type": "code",
   "execution_count": 111,
   "metadata": {
    "collapsed": true
   },
   "outputs": [],
   "source": [
    "def findingFrequentWordsBySorting(t,k):\n",
    "    frequentPatterns = set()\n",
    "    index = [0] * (len(t) - k + 1)\n",
    "    count = [0] * (len(t) - k + 1)\n",
    "    for i in range(len(t) -k + 1):\n",
    "        pattern = t[i:i+k]\n",
    "        index[i] = patternToNumber(pattern)\n",
    "        count[i] += 1\n",
    "    index.sort()\n",
    "    for i in range(1,len(t) -k + 1):\n",
    "        if index[i] == index[i-1]:\n",
    "            count[i] = count[i-1] + 1\n",
    "    maxCount = max(count)\n",
    "    for i in range(len(t) -k + 1):\n",
    "        if count[i] == maxCount:\n",
    "            pattern = numberToPattern(index[i],k)\n",
    "            frequentPatterns.add(pattern)\n",
    "    return frequentPatterns"
   ]
  },
  {
   "cell_type": "code",
   "execution_count": 113,
   "metadata": {
    "collapsed": false
   },
   "outputs": [
    {
     "name": "stdout",
     "output_type": "stream",
     "text": [
      "set(['TGGTCTTCCTCCC', 'GCGTGGTCTTCCT', 'CGTGGTCTTCCTC', 'GTGGTCTTCCTCC', 'GGCGTGGTCTTCC', 'CGGCGTGGTCTTC'])\n",
      "CPU times: user 12.3 ms, sys: 7.11 ms, total: 19.4 ms\n",
      "Wall time: 14 ms\n"
     ]
    }
   ],
   "source": [
    "%%time\n",
    "text = 'CGAAAGGCCGGCGTGGTTAAACGTCCTTCCTCCCTAAACGTCTAAACGTCCTGCCTTCCGGCGTGGTCGAAAGGCTAAACGTCCGGCGTGGTCTGCCTTCTAAACGTCCTGCCTTCCGAAAGGCCTGCCTTCCTTCCTCCCCGGCGTGGTTAAACGTCCTTCCTCCCCGGCGTGGTCGAAAGGCCTTCCTCCCCTTCCTCCCCGAAAGGCCTGCCTTCCGAAAGGCCGGCGTGGTCTTCCTCCCCGGCGTGGTTAAACGTCCTTCCTCCCCGAAAGGCCTTCCTCCCCGGCGTGGTCGGCGTGGTCGAAAGGCTAAACGTCTAAACGTCCGGCGTGGTCTTCCTCCCCTTCCTCCCCGGCGTGGTCTTCCTCCCCTGCCTTCCTGCCTTCCTTCCTCCCCGGCGTGGTCGAAAGGCCTGCCTTCCTGCCTTCCTTCCTCCCTAAACGTCCTGCCTTCTAAACGTCCGGCGTGGTCTTCCTCCCCGAAAGGCCGGCGTGGTCGGCGTGGTCGAAAGGCTAAACGTCCTTCCTCCCCTGCCTTCTAAACGTCCGAAAGGCTAAACGTCCTTCCTCCCCGGCGTGGTCGGCGTGGTCTTCCTCCCTAAACGTCTAAACGTCCGGCGTGGTCGGCGTGGTCTTCCTCCCCTGCCTTCTAAACGTCCGGCGTGGTCTTCCTCCCCTTCCTCCCCTGCCTTCCTGCCTTCCGGCGTGGTCTGCCTTCTAAACGTCTAAACGTCCGGCGTGGTTAAACGTCCTGCCTTCCGGCGTGGTCTTCCTCCCCGGCGTGGTCGGCGTGGTCTGCCTTCCTTCCTCCCCGAAAGGCCGAAAGGCCGAAAGGCCGGCGTGGTCGGCGTGGTCGAAAGGCCTGCCTTCCGGCGTGGTTAAACGTCCGAAAGGCCGGCGTGGTCTTCCTCCCTAAACGTCCGAAAGGCCGGCGTGGTCTTCCTCCCCTTCCTCCCTAAACGTCCGAAAGGC'\n",
    "k = 13\n",
    "print findingFrequentWordsBySorting(text, k)"
   ]
  },
  {
   "cell_type": "code",
   "execution_count": 5,
   "metadata": {
    "collapsed": true
   },
   "outputs": [],
   "source": [
    "def reverseComplement(s):\n",
    "    complement = {'A': 'T', 'C': 'G', 'G': 'C', 'T': 'A', 'N':'N'}\n",
    "    t = ''\n",
    "    for base in s:\n",
    "        t = complement[base] + t\n",
    "    return t"
   ]
  },
  {
   "cell_type": "code",
   "execution_count": 6,
   "metadata": {
    "collapsed": false
   },
   "outputs": [
    {
     "data": {
      "text/plain": [
       "'TGTAATC'"
      ]
     },
     "execution_count": 6,
     "metadata": {},
     "output_type": "execute_result"
    }
   ],
   "source": [
    "reverseComplement('GATTACA')"
   ]
  },
  {
   "cell_type": "code",
   "execution_count": 215,
   "metadata": {
    "collapsed": true
   },
   "outputs": [],
   "source": [
    "#Naive exact match algorithm\n",
    "def naive(p, t):\n",
    "    occurences = []\n",
    "    for i in range(len(t) - len(p) + 1): #loop through every position in t where p could start\n",
    "        match = True\n",
    "        for j in range(len(p)): #Loop over characters\n",
    "            if t[i+j] != p[j]: #Compare characters\n",
    "                match = False #mismatch; reject alignments\n",
    "                break\n",
    "        if match:\n",
    "            occurences.append(i) #all characters matched record\n",
    "    return occurences     "
   ]
  },
  {
   "cell_type": "code",
   "execution_count": 216,
   "metadata": {
    "collapsed": false
   },
   "outputs": [
    {
     "data": {
      "text/plain": [
       "'9 80 97 121 150 176 201 208 252 259 266 302 309 337 382 399 415 422 429 472 524 531 554 624 631 662 747 754 761 799 851 888 946 953 968 975 999 1014 1021 1087 1105 1124 1158 1165 1172 1187 1226 1260 1276 1331 1338 1401 1475 1482 1520 1527 1711 1722 1729 1768 1837 1854 1861 1868 1911 1927 1967 1983 1990 2097 2180 2227 2234 2246 2258 2289 2296 2323 2342 2449 2536 2561 2579 2636 2643 2650 2657 2740 2747 2768 2775 2812 2819 2854 2918 2965 2972 3005 3023 3244 3251 3266 3273 3313 3320 3375 3437 3568 3604 3630 3647 3654 3701 3718 3747 3761 3768 3793 3800 3817 3833 3884 3891 3931 3951 3978 4006 4045 4070 4227 4276 4334 4341 4379 4402 4418 4425 4442 4449 4482 4489 4508 4595 4645 4704 4715 4765 4772 4799 4895 4902 4927 4966 4982 5032 5039 5071 5093 5194 5245 5252 5292 5339 5477 5502 5526 5591 5598 5605 5631 5649 5656 5729 5751 5758 5812 5828 5872 5914 6083 6090 6116 6123 6149 6164 6186 6218 6264 6330 6337 6362 6389 6406 6467 6490 6614 6629 6675 6750 6757 6764 6833 6864 6871 6900 6916 6935 7011 7027 7034 7098 7147 7154 7170 7247 7310 7355 7398 7413 7446 7513 7535 7555 7681 7741 7748 7763 7792 7817 7824 7856 7893 7919 7953 8008 8017 8153 8170 8252 8277 8319 8376 8391 8447 8515 8531 8538 8545 8576 8583 8600 8653 8678 8778 8826 8833 8876 8940 8947 8970 8977 8984 9061 9068 9075 9093 9125 9132 9184 9212 9251 9304 9348 9355 9371 9378 9385 9401 9408 9446 9461'"
      ]
     },
     "execution_count": 216,
     "metadata": {},
     "output_type": "execute_result"
    }
   ],
   "source": [
    "t = 'TGAACGTCCTGAACGTTGCGGTGAACGTAAAGGTGAACGTCTTTCGGGATGAGTGAACGTATGAACGTATTTGAACGTCCTGAACGTTGAACGTAGGTGAACGTTGAACGTTTTGAACGTATGAACGTTGAACGTGCCCGGATGAACGTTTGAACGTTGAACGTACTTGAACGTACTGAACGTTGAACGTTTGAACGTCCATGAACGTTGAACGTTGAACGTGAGTGAGTGAACGTTTTCTGAACGTCGCGGTGAACGTTGAACGTTGAACGTTGAACGTGGGAGTGAACGTCATGAACGTGTGAACGTTGAACGTTGAACGTCATTTGAACGTGAATGAACGTTGAACGTATCTGAACGTTCAACCTGAACGTCACTAACATGAACGTTGAACGTAATTGAACGTTGAACGTCTTGAACGTTGAACGTTGAACGTTGAACGTGTCTGAACGTGTGAACGTCACGGATGACGTGAACGTTGAACGTGTGAACGTATGAACGTTACTGAACGTTAGAAGGAGCGGTGAACGTTGAACGTTGAACGTTTGAACGTATGAACGTTGAACGTCTGAACGTTCCTGAACGTTAGTGAACGTCTGAACGTCTTTGAACGTGCTGAACGTATGAACGTTGAACGTTGAACGTCGGCAACGTGAACGTAATGAACGTTGAACGTATGGCATGAACGTGGTCGTGAACGTGTGAACGTCTGAACGTCGTATGAACGTGGCGTTGAACGTCTGATCGTGAACGTTGAACGTTGAACGTTGGCATACGCTATTGAACGTCTCTGAACGTATGAACGTTGATGAACGTTTGAACGTGTGTCTTGTGAACGTTTTGAACGTGTGTGAACGTTGAACGTAGGATGAACGTTCGGTGAACGTGTGAACGTTGTGAACGTTATGAACGTCACCCACTGAACGTGTGCTGAACGTCGGCTGGATGAACGTTGAACGTTGAACGTTTGAACGTTGAACGTTGTCCTGAACGTCTCTCTGAACGTTGAACGTATGAACGTTGAACGTTGAACGTGTTCACTGAACGTGTGAACGTAACATGAACGTAGACATGTGAACGTAAGGAATGAACGTTGAACGTTCCATGAACGTTGAACGTGAGAATGAACGTTGAACGTACATGAACGTCGTGAACGTCTGAACGTTGAACGTTGAACGTTGAACGTATGAACGTTGAACGTTACGTGATGAACGTTTGAACGTCCATGAACGTTGAACGTGCGTGAACGTAGATTTCTACTGAACGTTGAACGTCCTGAACGTTGAACGTTAGTGAACGTGAGGTTGAACGTATGAACGTCCATGAACGTTTGAACGTTGAACGTTGAACGTATGAAGGCTTGAACGTCATGTTGAACGTGCTGAACGTGTGAACGTAAATTGAACGTTGAACGTCAGTCTGAACGTGCTGAACGTGTGAACGTGACATTGAACGTGTACTTTCTGAACGTTTATTGAACGTTGAACGTTGAACGTCTACCATGAACGTCGTGAACGTCCTGAACGTTGAACGTTGAACGTGTGAACGTGGTTGAACGTGCATGCCAATATGAACGTGTGAACGTCGGAACGTGAACGTACGTTTGAACGTCTGAACGTCGAATGAACGTTTTCTGAACGTATGAACGTCGCAGGTGAACGTTATTCCTGAACGTTATGAACGTAATGGTGAACGTTTACTCGACGTGGGCTGAACGTTGAATGAACGTTGAACGTTGAACGTCTACGTCTGAACGTGGTGAACGTAGTGAACGTTGAACGTGATTGAACGTTTTATGAACGTACGTTGAACGTCTCAGAATTGAACGTACTCATCTTGAACGTTGAACGTGAGTGAACGTTGAACGTTGAACGTTGAACGTGGTGAACGTGCCGCAGTGAACGTGTCCCATGAACGTTGAACGTCCTGAACGTTGAACGTTTGAACGTATGAACGTGTGAACGTAGTGAACGTTGAACGTTATGAACGTTGAACGTTGAACGTCATATGGCCGTGTCCGTGAACGTCGTGAACGTGCTGAACGTGGTGAACGTCAAGCCTGAACGTGACTGCTGAACGTTCGGGAGTAATTTCGTGTGAACGTTGCACATGAACGTGGTGAACGTCACATGAACGTGTCTGAACGTTTCTGAACGTTTTAGGTGAACGTGCTGAACGTATGAACGTTGAACGTCAACTGAACGTTAGTGAACGTCCGTGAACGTTTTGAACGTTGAACGTTGGCGTGAACGTTGTGTTGAACGTTGAACGTAGGTCCCTGAACGTACATGAACGTTGAACGTTGAACGTTTGAACGTACCCATGAACGTTGAACGTGCTTATGAACGTTGAACGTATACTGAACGTGTGAACGTAATGAACGTCTCTGAACGTCCTGAACGTGTGAACGTGTGAACGTATTGAACGTTCTGAACGTAGGGACCAAGCATGAACGTTGAACGTCTGAACGTTCAATGAACGTACGCTGAACGTCTGAACGTGGACTGAACGTGGCTGAACGTTCCTTCTGAACGTATGAACGTTGAACGTCAATGAACGTATGAACGTTGAACGTACATTGAACGTTGAACGTGCCTGAACGTTACGATGAACGTAATGCTGAACGTCTGAACGTATGAACGTTGAACGTTGAACGTTGAACGTTGAACGTGTGAACGTCAAGTTGACTGAACGTCGGTTGAACGTATGAACGTGTGAACGTGTTTGAACGTAGCGAGTTTGAACGTTGAACGTTGTTGAACGTGTGATGAACGTTGAACGTTGAACGTCTTTTTGAACGTTCATGAACGTCTGAACGTTGAACGTTGAACGTGTAGCTGAACGTATGAACGTCTGAACGTTGAACGTCACCTGAACGTATCCCTGAACGTCATGAACGTATTGAACGTACCCTCGTCTGAACGTTGAACGTATGAACGTTCGACTGAACGTCCACCTGAACGTGTGAACGTTGAACGTTGAACGTTTAACTGAACGTGAAATGTTGAACGTTGTGAACGTGTTGAACGTTGAACGTATGAACGTACGGTGAACGTAGTTTGAACGTCTAGTGAACGTGTGAACGTCGTGAACGTCCGGAATGAACGTCTTTACGTTGAACGTATGAACGTACATTGGATTGAACGTCTGAACGTATAGAGTGAACGTGTGAACGTTTGAACGTAGTTTTGAACGTCGAGCTGAACGTCGGTCTGAACGTACGAGTAACCATCATTTGAACGTTTGAACGTTGAACGTTGAACGTATGAACGTTGAACGTTGAACGTCGTGTGAACGTTATCTTTGAACGTTATGAACGTTGAACGTTGGGTGAACGTGTGAACGTGATTGAACGTGTGAACGTCGTCGGCAGCGTGAACGTTGAACGTCTGAACGTACTAAACTGAACGTTTGATGTGAACGTGCCTGAACGTTACTGAACGTTGAGGTTGAACGTGACCCAGTGAACGTTTGAACGTAGGCGATGCTGAACGTCGTGAACGTGTTTTGAACGTCGGTTGCGCTGAACGTCCCTGATCCTGAATGAACGTCTGAACGTTTGAACGTCTGAACGTTGAACGTATGAACGTGGGGGTGAACGTACTGAACGTTGAACGTCGTGAACGTGCGTGAACGTTGAACGTCCCTGAACGTTGAACGTTGAACGTGATTGAACGTGTGAACGTATAGTGAACGTGACTTGAACGTTGAACGTAGATGAACGTTGAACGTACCTGAACGTTAAAGTGAACGTTGCCACCTGAACGTTGAACGTTGAACGTTATTGAACGTTTGAACGTTGAACGTTGAACGTGGATGAACGTTGAACGTGCTGAACGTTGAACGTACTGGAGGGCTGAACGTACTGAACGTCGGTGAACGTGTGAACGTTGAACGTTGAACGTGTCTCTCGATGAACGTCATGAACGTCTGAACGTTGAACGTTCATTTTGAACGTTGAACGTCCATGAACGTGCTTGAACGTTGAACGTTCTAATTGAACGTGTGAACGTTGAACGTCGTCTCACTGAACGTGTGAACGTTTTGAACGTTGAACGTTCTGAACGTGCTGAACGTTGAACGTATGAACGTCGCAAGTTGAACGTATGAACGTCGGTGAACGTGTGAACGTTTGAGTGTGAACGTGAGCATTACATTGAACGTTTGAACGTGCTGAACGTCTGTGAACGTAACGCTGAACGTTTGAACGTCATAGTGAACGTTACATGAACGTTGAACGTCTTGAACGTACCGCCCTGAACGTCAGTGAACGTTATGAACGTTGAACGTATGATGAACGTGAATGACTGAACGTTTGAACGTACTAAGGAAACTGAACGTTGAACGTTGAACGTGCTGAACGTATTCACTGAACGTTCTGAACGTTGAACGTGTGAACGTGTGAACGTTGAACGTTATGAACGTTGAACGTTGAACGTACATGAACGTTGAACGTTGAACGTAGTGTCTTCTGAACGTTTATGAACGTTGAACGTTGAACGTAACGATGAACGTTGAACGTATTGAACGTCCGACGTGAACGTTTGTTGAACGTATTGAACGTGCTTGAACGTATTATGAACGTATGAACGTCTTGAACGTTGAACGTCAGGCTGAACGTTACATGAACGTGTAATGAACGTAATGAACGTTGAACGTGGGATGAACGTTTGAACGTAATTGAACGTTCTGGTTGTGAACGTCTGAACGTTGATTGAACGTTGAACGTCTGAACGTGAAATTAATTGAACGTTTGAACGTGGAGTGAACGTTGAACGTTGAACGTGGAGAAGATATCATGAACGTTGAACGTCGGACCTTGAACGTTATGAACGTTCATGAACGTAAAGTCTGAACGTCTATGAACGTATCAGTGAACGTCGGTGTGAACGTGGTGAACGTTGAACGTTGAACGTAGTGAACGTATTGAACGTTGTGAACGTTTGAACGTAGCTGTGAACGTTAGTGAACGTTGTGTTTAGTGAACGTTGAACGTACATGAACGTACCGCTGTGAACGTTTATGAACGTTTTGAACGTTGAACGTTGAACGTGTGAACGTAGTGAACGTGTGAACGTTGAACGTGCAGGCCCTGAACGTTGAACGTCGTGAACGTTTAGTGAACGTCCGGATGAACGTTCTGAACGTGTAGCTGAACGTGGCATGAACGTACGTTGAACGTAGTGAACGTATATGAACGTTGCGCTGAACGTATTGAACGTCTCTCATTGAACGTGTGAACGTCTGAACGTTGAACGTTGAACGTTTGAACGTCTGAACGTCCCGCGGCACTGAACGTTGAACGTCTAACTGAACGTTCTGAACGTTCGCTGAACGTGTGAACGTTGAACGTGAAGTATGTGAACGTATACTGAACGTCTGAACGTCTGAACGTTTGTGAACGTGATGAACGTCCGTGAACGTCATTGAACGTTTTGAACGTCTGAACGTAGGGTTGCTGAACGTGTGAACGTTACTGAACGTTGAACGTCGCTGAACGTTTGAACGTTGAACGTCTGAACGTCATGAACGTTGAACGTACTGAACGTGACTGAACGTATGAACGTGTATCTGAACGTCCTGAACGTAACTGAACGTTGAACGTTGAACGTTGAACGTATGAACGTGGACTGAACGTTGAACGTCACTTGAACGTTGAACGTTGAACGTTTTAACTGAACGTCTGAACGTGCTGTGAACGTCTCGCTTGAACGTAACATGAACGTTCATGAACGTTGAACGTGTTGTGAGTGAACGTTGAACGTTGAACGTATTGAACGTTTGAACGTGTGAACGTCGGCTGAACGTAAGATGAACGTTGAACGTGCTGAACGTTGGGTGAACGTGTTGAACGTCTATAGTGAACGTCACTTGAACGTTGAACGTAAGTGAACGTCATGTGAACGTCACGTGGTGAACGTTGACGTGAACGTTTCTGAACGTAGTTGAACGTCAAGTGAACGTGTGAACGTCGGAAGATCTGAACGTACGCCGTTCATTGAACGTATGAACGTGTGAACGTCAGATGAACGTGTCCAGCTGAACGTCTGAACGTCGGGGCATCAATCTGAACGTACCTGGGATGAACGTTGAACGTTGAACGTTTTGAACGTTCTTGAACGTTGAACGTTGAACGTCTGAACGTCAAGTGAACGTTGAACGTGTGAACGTTGAACGTGGCTATTGTGAACGTTGAACGTCTGAACGTCATGAACGTTTGAACGTTGAACGTGAGGCGGAATGAACGTGTATGAACGTCGCAGCTGAACGTTGAACGTCTTGAACGTATGAACGTTCCTGGCAGTGAACGTGTTGACGGCTATGAACGTATGAACGTTGAACGTTGAACGTTTCCGGGGCAGTGAACGTTGAACGTGGTGAACGTCGTCTGAACGTTGTGAACGTGTGAACGTTGTTGAACGTGTGAACGTATGAACGTCTGAACGTTCTGGCCAGCTATGAACGTGTGAACGTTGAACGTGTGAACGTATGAACGTTGAACGTTATCTGAACGTCTGAGTGAAGTGAACGTGCGGCTTTTGAACGTCACATTTGAACGTTTGAACGTATGAACGTTCTGAACGTGTTGAACGTATGAACGTCGTTGAACGTGTTGAACGTTGAACGTCTGAACGTTGAACGTGTTGAACGTCTTGAACGTCGCGGTGAACGTTTTGAACGTTGAACGTCGTTGATGAACGTATGAACGTTTAGCGGTCTCTGTGAACGTTTAGGTAATTGAACGTGTGATGAACGTTGAACGTTGAACGTTGAACGTTCTGAACGTACCGGCTTTGAACGTCCATGAACGTGTGAACGTAGACGTGAACGTGTGAACGTTGAGTGAACGTATTGAACGTAATTTGAACGTTGAACGTTGAACGTGTGAACGTGCGGGAGTGAACGTTGAACGTCGTGAACGTTGGTGAACGTGGTGAACGTTGGTGAACGTTTGAACGTTCGTGGCGCATGAACGTCTGAACGTAATGAACGTCTCCTTCTTGAACGTCGTGAACGTTGAACGTCGTGAACGTTGAACGTTGCGCGTGTGAACGTATGAACGTATGAACGTGTGAACGTGTGAACGTCTGAACGTAGTGAACGTTGATTGAACGTACACGAGGACGTGTGAACGTAGTGAACGTGATGAACGTTGAACGTTGAACGTCATGAACGTTGAACGTCCTGAACGTGTAATTTGAACGTGTGAACGTCGCTGAACGTGAACATGAACGTATGAACGTATTTGAACGTTGAACGTTTTGACCTGAACGTAGTCTGAACGTGATGGATGAACGTCGTGAACGTAATGAACGTTGAACGTTATGAACGTCTGTTGAACGTAATGAACGTAGTGAACGTTGAACGTGATCTGAACGTTATGAACGTATGAACGTTTGAACGTTGAACGTCTGAACGTTGTGAACGTCTGAACGTGTGAACGTCTGAACGTTGGTGACTAACAACCGGATGCTTGAACGTCTGAACGTTTATGAACGTCTGAACGTATGTGTGAACGTTGGTGCCTGGGAGGCTGAACGTTGAACGTCGTGGCTGAACGTTGAACGTACTGAACGTCAATAATATCTGTATGTGAACGTATCCTCGCTGAACGTGGAACGCCGATTTGAACGTACAGTGAACGTATTCTTGAACGTACCTAGAAAGTGAACGTTCAGCGTGAACGTTGAACGTCCTGAACGTGGGGTGAACGTTACGTGAACGTCTCGTGAACGTGTGATGAACGTTGAACGTTGAACGTGTGAACGTTGAACGTACTACTGAACGTCTCTGAACGTTGAACGTGTGAACGTACTTGAACGTTGAACGTTGAACGTGTGAACGTATGAACGTTATGAACGTTGAACGTTAACTGTGAACGTTCATACTATATGAACGTTGCGAGGCAAGTGAACGTGTGAACGTTGAACGTTTGAACGTAATGAACGTCGTTGAACGTTGAACGTGCTGCGATGGCCCGCTGCAAGTGAACGTGATGTGAACGTAATGAACGTTGTGAACGTTGAACGTCTATGAACGTATGTCTGTGAACGTTTGAACGTACTGGATGAACGTACATGAACGTATGAACGTCAGGTGAACGTCGTGAACGTCAGTCTGAACGTGCTGAACGTGGTGAACGTGCGTAGGGCTGAACGTTGAACGTTCATGAACGTTGAACGTTTGAACGTGGGTGAACGTTAATGAACGTGATGAACGTTTGAACGTATATGAACGTACGCTGAACGTAGTGAACGTTGAACGTCGTGAACGTAGTGAACGTTGAACGTGGCGGAAGTGAACGTTCAAGTGAACGTTTGAACGTTGAACGTCAGTGAACGTGGAATTATTCCTTGATGAACGTATGAACGTTTCTGAACGTTGAACGTGTGAACGTTGAACGTATGATGAACGTCGCATGAACGTGGTGTTACCAACAGCTGTTGTGAACGTTGAACGTAGTGAACGTCTGAACGTCTGAACGTATTGCCAATGAACGTCCTGAACGTCTGGCTGAACGTTGAACGTTATGAACGTTGAACGTTGAACGTTGAACGTCTGAACGTATGAACGTCTGAACGTTGAACGTTGAACGTCGCTGAACGTTGAACGTTTGAACGTCGTCGTTGCCTCGTGAACGTTCTTGAACGTTTGAACGTTGAACGTATTCCGCCCAATGAACGTTGAACGTCTGAACGTGGGCCATTGTTAATGAACGTCATCATGTGAACGTATGAACGTAGGGTGAACGTCTCTCAAATTGAACGTGATTAATCCTGAACGTTGAACGTAATGAACGTGGTTGTGAACGTCTTGTGAACGTTATGAACGTTGAACGTTGAACGTCATGCAGACCGTGAACGTTATGAACGTGGTGAACGTTGAACGTGTGAACGTCCGTTGAACGTACAAATTGAACGTGCTGAACGTTTGAACGTCTGAACGTTGAACGTTGACTGAACGTACTTTTGAACGTTGAACGTTGAACGTTGCGGTTGAACGTCCTTGAACGGATTGAACGTTCCTGAACGTGTGAACGTGCTGAACGTGTGTGAACGTATGAACGTTGAACGTTGAACGTTGAACGTGCGCTGAACGTTGAACGTCCTGAACGTCTGAACGTCTGAACGTTGAACGTTGAACGTGACAAACAGACCTGGTGTGAACGTACAGATGAACGTCGTGAACGTTGAACGTACTCACTGAACGTCTGAACGTTGAACGTGGATGCTGAACGTGTGAACGTACTGTGAACGTTGAACGTGGAAATGAACGTCCAAGGTGAACGTCTATCTGAACGTCTTGAACGTTGGCCCACGATTTTGTGAACGTCCCAATTTGAACGTATGAACGTTGAACGTTGAACGTGATGAACGTTGAACGTTGAACGTTGAACGTCATGAACGTTGAACGTTGAACGTATAAGTGAACGTATGAACGTGACTTGAACGTTGAACGTGTGAACGTTGAACGTACTAATCCCGGATTGAACGTAGTCAATTGAACGTATGAACGTAAC'\n",
    "p = 'TGAACGTTG'\n",
    "x = naive(p,t)\n",
    "' '.join(str(i) for i in x)"
   ]
  },
  {
   "cell_type": "code",
   "execution_count": 57,
   "metadata": {
    "collapsed": false
   },
   "outputs": [],
   "source": [
    "import bisect\n",
    "#Book index analogy\n",
    "class Index(object):\n",
    "    def __init__(self, t, k):\n",
    "        ''' Create index from all substrings of size 'length' '''\n",
    "        self.k = k  # k-mer length (k)\n",
    "        self.index = []\n",
    "        for i in range(len(t) - k + 1):  # for each k-mer\n",
    "            self.index.append((t[i:i+k], i))  # add (k-mer, offset) pair\n",
    "        self.index.sort()  # alphabetize by k-mer\n",
    "    \n",
    "    def query(self, p):\n",
    "        ''' Return index hits for first k-mer of P '''\n",
    "        kmer = p[:self.k]  # query with first k-mer\n",
    "        i = bisect.bisect_left(self.index, (kmer, -1))  # binary search\n",
    "        hits = []\n",
    "        while i < len(self.index):  # collect matching index entries\n",
    "            if self.index[i][0] != kmer:\n",
    "                break\n",
    "            hits.append(self.index[i][1])\n",
    "            i += 1\n",
    "        return hits"
   ]
  },
  {
   "cell_type": "code",
   "execution_count": 58,
   "metadata": {
    "collapsed": false
   },
   "outputs": [],
   "source": [
    "def queryIndex(p, t, index):\n",
    "    k = index.k\n",
    "    offsets = []\n",
    "    for i in index.query(p):\n",
    "        if p[k:] == t[i+k:i+len(p)]:  # verify that rest of P matches\n",
    "            offsets.append(i)\n",
    "    return offsets"
   ]
  },
  {
   "cell_type": "code",
   "execution_count": 82,
   "metadata": {
    "collapsed": false
   },
   "outputs": [
    {
     "data": {
      "text/plain": [
       "'ACAATGAGGTCACTATGTTCGAGCTCTTCAAACCGGCTGCGCATACGCAGCGGCTGCCATCCGATAAGGTGGACAGCGTCTATTCACGCCTTCGTTGGCA'"
      ]
     },
     "execution_count": 82,
     "metadata": {},
     "output_type": "execute_result"
    }
   ],
   "source": [
    "cholera_genome = ''\n",
    "f = open('Vibrio_cholerae.txt')\n",
    "for line in f:\n",
    "    cholera_genome += line.rstrip()\n",
    "cholera_genome[:100]"
   ]
  },
  {
   "cell_type": "code",
   "execution_count": 85,
   "metadata": {
    "collapsed": false
   },
   "outputs": [
    {
     "name": "stdout",
     "output_type": "stream",
     "text": [
      "[60039, 98409, 129189, 152283, 152354, 152411, 163207, 197028, 200160, 357976, 376771, 392723, 532935, 600085, 622755, 1065555]\n"
     ]
    }
   ],
   "source": [
    "p = 'CTTGATCAT'\n",
    "t = cholera_genome\n",
    "index = Index(t, 4)\n",
    "print(queryIndex(p, t, index))"
   ]
  },
  {
   "cell_type": "markdown",
   "metadata": {},
   "source": [
    "Our plan is to slide a window of fixed length L along the genome, looking for a region where a k-mer appears several times in short succession. The parameter value L = 500 reflects the typical length of oriC in bacterial genomes.\n",
    "\n",
    "We defined a k-mer as a \"clump\" if it appears many times within a short interval of the genome. More formally, given integers L and t, a k-mer Pattern forms an (L, t)-clump inside a (longer) string Genome if there is an interval of Genome of length L in which this k-mer appears at least t times. (This definition assumes that the k-mer completely fits within the interval.) For example, TGCA forms a (25,3)-clump in the following Genome:\n",
    "\n",
    "gatcagcataagggtccCTGCAATGCATGACAAGCCTGCAGTtgttttac\n",
    "From our previous examples of oriC regions, ATGATCAAG forms a (500,3)-clump in the Vibrio cholerae genome, and CCTACCACC forms a (500,3)-clump in the Thermotoga petrophila genome. We are now ready to formulate the following problem.\n",
    "\n",
    "Clump Finding Problem: Find patterns forming clumps in a string.\n",
    "     Input: A string Genome, and integers k, L, and t.\n",
    "     Output: All distinct k-mers forming (L, t)-clumps in Genome."
   ]
  },
  {
   "cell_type": "code",
   "execution_count": 53,
   "metadata": {
    "collapsed": true
   },
   "outputs": [],
   "source": [
    "def clumpFinding(genome, k, t, L):\n",
    "    frequentPatterns = set()\n",
    "    clump = [0]*((4**k))\n",
    "    text = genome[0:L]\n",
    "    frequencyArray = computingFrequencies(text, k)\n",
    "    for i in range(4**k):\n",
    "        if frequencyArray[i] >= t:\n",
    "            clump[i] = 1\n",
    "    for i in range(1, len(genome) - L + 1):\n",
    "        firstPattern = genome[i-1:i-1+k]\n",
    "        index = patternToNumber(firstPattern)\n",
    "        frequencyArray[index] = frequencyArray[index] - 1\n",
    "        lastPattern = genome[i+L-k:i+L]\n",
    "        index = patternToNumber(lastPattern)\n",
    "        frequencyArray[index] = frequencyArray[index] + 1\n",
    "        if frequencyArray[index] >= t:\n",
    "            clump[index] = 1\n",
    "    for i in range(4**k):\n",
    "        if clump[i] == 1:\n",
    "            pattern = numberToPattern(i, k)\n",
    "            frequentPatterns.add(pattern)\n",
    "    return frequentPatterns       "
   ]
  },
  {
   "cell_type": "code",
   "execution_count": 54,
   "metadata": {
    "collapsed": false
   },
   "outputs": [
    {
     "name": "stdout",
     "output_type": "stream",
     "text": [
      "set(['CGACA', 'GAAGA'])\n"
     ]
    }
   ],
   "source": [
    "genome = 'CGGACTCGACAGATGTGAAGAACGACAATGTGAAGACTCGACACGACAGAGTGAAGAGAAGAGGAAACATTGTAA'\n",
    "print clumpFinding(genome, 5, 4, 50)"
   ]
  },
  {
   "cell_type": "code",
   "execution_count": 59,
   "metadata": {
    "collapsed": false
   },
   "outputs": [
    {
     "name": "stdout",
     "output_type": "stream",
     "text": [
      "--2015-09-26 12:54:41--  https://stepic.org/media/attachments/lessons/4/E-coli.txt\n",
      "Resolving stepic.org... 54.194.188.166\n",
      "Connecting to stepic.org|54.194.188.166|:443... connected.\n",
      "HTTP request sent, awaiting response... 200 OK\n",
      "Length: 4639675 (4.4M) [text/plain]\n",
      "Saving to: `E-coli.txt'\n",
      "\n",
      "100%[======================================>] 4,639,675    313K/s   in 15s     \n",
      "\n",
      "2015-09-26 12:54:58 (303 KB/s) - `E-coli.txt' saved [4639675/4639675]\n",
      "\n"
     ]
    }
   ],
   "source": [
    "!wget https://stepic.org/media/attachments/lessons/4/E-coli.txt"
   ]
  },
  {
   "cell_type": "code",
   "execution_count": 60,
   "metadata": {
    "collapsed": false
   },
   "outputs": [
    {
     "data": {
      "text/plain": [
       "'AGCTTTTCATTCTGACTGCAACGGGCAATATGTCTCTGTGTGGATTAAAAAAAGAGTGTCTGATAGCAGCTTCTGAACTGGTTACCTGCCGTGAGTAAAT'"
      ]
     },
     "execution_count": 60,
     "metadata": {},
     "output_type": "execute_result"
    }
   ],
   "source": [
    "ecoli_genome = ''\n",
    "f = open('E-coli.txt')\n",
    "for line in f:\n",
    "    ecoli_genome += line.rstrip()\n",
    "ecoli_genome[:100]"
   ]
  },
  {
   "cell_type": "code",
   "execution_count": 63,
   "metadata": {
    "collapsed": false
   },
   "outputs": [
    {
     "data": {
      "text/plain": [
       "1904"
      ]
     },
     "execution_count": 63,
     "metadata": {},
     "output_type": "execute_result"
    }
   ],
   "source": [
    "genome = ecoli_genome\n",
    "len(clumpFinding(genome, 9, 3, 500))\n"
   ]
  },
  {
   "cell_type": "markdown",
   "metadata": {},
   "source": [
    "The reverse half-strand of DNA lives a double stranded life most of the time.\n",
    "The forward half-strand spends a large portion of its life single stranded waiting to be replicated.\n",
    "This leads to difference in nucleotide frequency.\n",
    "Single stranded DNA has a much higher mutation rate than double-stranded DNA.\n",
    "Cytosine deamination- 100 fold higher in forward half strand.\n",
    "Reverse half strand - G low/C high #G-#C is negative decreasing as we walk along reverse half strand.\n",
    "#G-#C is positive increasing as we walk along forward half strand"
   ]
  },
  {
   "cell_type": "markdown",
   "metadata": {},
   "source": [
    "Since we don't know the location of oriC in a circular genome, let's linearize it (i.e., select an arbitrary position and pretend that the genome begins here), resulting in a linear string Genome. We define Skewi(Genome) as the difference between the total number of occurrences of G and the total number of occurrences of C in the first i nucleotides of Genome. The skew diagram is defined by plotting Skewi (Genome) (as i ranges from 0 to |Genome|), where Skew0 (Genome) is set equal to zero. The figure below shows a skew diagram for the DNA string CATGGGCATCGGCCATACGCC.\n",
    "\n",
    "Note that we can compute Skewi+1(Genome) from Skewi(Genome) according to the nucleotide in position i of Genome. If this nucleotide is G, then Skewi+1(Genome) = Skewi(Genome) + 1; if this nucleotide is C, then Skewi+1(Genome)= Skewi(Genome) – 1; otherwise, Skewi+1(Genome) = Skewi(Genome).\n",
    "\n",
    "Sample Input:\n",
    "     CATGGGCATCGGCCATACGCC\n",
    "\n",
    "Sample Output:\n",
    "     0 -1 -1 -1 0 1 2 1 1 1 0 1 2 1 0 0 0 0 -1 0 -1 -2"
   ]
  },
  {
   "cell_type": "code",
   "execution_count": 9,
   "metadata": {
    "collapsed": true
   },
   "outputs": [],
   "source": [
    "def skew(dna):\n",
    "    d = {'A':0, 'C':-1, 'G':1, 'T':0}\n",
    "    skewness = [0] * ((len(dna)) + 1)\n",
    "    for i in range(len(dna)):\n",
    "        skewness[i+1] = skewness[i] + d[dna[i]]\n",
    "    return skewness     "
   ]
  },
  {
   "cell_type": "markdown",
   "metadata": {
    "collapsed": true
   },
   "source": [
    "def skew(dna):\n",
    "    skewness = [0] * ((len(dna)) + 1)\n",
    "    for i in range(len(dna)):\n",
    "        if dna[i] == 'G':\n",
    "            skewness[i+1] = skewness[i] + 1\n",
    "        if dna[i] == 'C':\n",
    "            skewness[i+1] = skewness[i] - 1\n",
    "        if dna[i] == 'A' or dna[i] == 'T':\n",
    "            skewness[i+1] = skewness[i]\n",
    "    return skewness     "
   ]
  },
  {
   "cell_type": "code",
   "execution_count": 18,
   "metadata": {
    "collapsed": false
   },
   "outputs": [
    {
     "data": {
      "text/plain": [
       "[0, -1, -1, -1, 0, 1, 2, 1, 1, 1, 0, 1, 2, 1, 0, 0, 0, 0, -1, 0, -1, -2]"
      ]
     },
     "execution_count": 18,
     "metadata": {},
     "output_type": "execute_result"
    }
   ],
   "source": [
    "array = skew('CATGGGCATCGGCCATACGCC')\n",
    "#' '.join(str(i) for i in array)\n",
    "# '0 -1 -1 -1 0 1 2 1 1 1 0 1 2 1 0 0 0 0 -1 0 -1 -2'\n",
    "array"
   ]
  },
  {
   "cell_type": "code",
   "execution_count": 10,
   "metadata": {
    "collapsed": false
   },
   "outputs": [],
   "source": [
    "def min_skew(dna):\n",
    "    array = skew(dna)\n",
    "    minarray = min(array)\n",
    "    min_index = []\n",
    "    for item in range(len(array)):\n",
    "        if array[item] == minarray:\n",
    "            min_index.append(item)\n",
    "    return min_index"
   ]
  },
  {
   "cell_type": "code",
   "execution_count": 11,
   "metadata": {
    "collapsed": false
   },
   "outputs": [
    {
     "data": {
      "text/plain": [
       "[14]"
      ]
     },
     "execution_count": 11,
     "metadata": {},
     "output_type": "execute_result"
    }
   ],
   "source": [
    "min_skew('CATTCCAGTACTTCGATGATGGCGTGAAGA')"
   ]
  },
  {
   "cell_type": "markdown",
   "metadata": {},
   "source": [
    "Let's follow the 5' → 3' direction of DNA and walk along the chromosome from terC to oriC (along a reverse half-strand), then continue on from oriC to terC (along a forward half-strand). In our previous discussion, we saw that the skew is decreasing along the reverse half-strand and increasing along the forward half-strand. Thus, the skew should achieve a minimum at the position where the reverse half-strand ends and the forward half-strand begins, which is exactly the location of oriC!\n",
    "\n",
    "We have just developed an insight for a new algorithm for locating oriC: it should be found where the skew attains a minimum.\n",
    "\n",
    "Minimum Skew Problem: Find a position in a genome where the skew diagram attains a minimum.\n",
    "     Input: A DNA string Genome.\n",
    "     Output: All integer(s) i minimizing Skewi (Genome) among all values of i (from 0 to |Genome|)."
   ]
  },
  {
   "cell_type": "code",
   "execution_count": 34,
   "metadata": {
    "collapsed": false
   },
   "outputs": [
    {
     "name": "stdout",
     "output_type": "stream",
     "text": [
      "[0, 0, 0, 0, 0, 1, 1, 0, 0, 1, 0, -1, 0, 0, 1, 1, 2, 3, 2, 1, 1, 1, 0, 0, -1, 0, 0, 1, 1, 2, 1, 1, 1, 2, 2, 2, 1, 2, 2, 3, 4, 5, 6, 5, 6, 6, 6, 6, 6, 5, 6, 5, 6, 7, 8, 8, 7, 6, 7, 7, 7]\n"
     ]
    }
   ],
   "source": [
    "print skew('TAAAGACTGCCGAGAGGCCAACACGAGTGCTAGAACGAGGGGCGTAAACGCGGGTCCGAT')"
   ]
  },
  {
   "cell_type": "code",
   "execution_count": 36,
   "metadata": {
    "collapsed": false
   },
   "outputs": [
    {
     "name": "stdout",
     "output_type": "stream",
     "text": [
      "11 24\n"
     ]
    }
   ],
   "source": [
    "array = min_skew('TAAAGACTGCCGAGAGGCCAACACGAGTGCTAGAACGAGGGGCGTAAACGCGGGTCCGAT')\n",
    "print (' '.join(str(i) for i in array))"
   ]
  },
  {
   "cell_type": "markdown",
   "metadata": {
    "collapsed": true
   },
   "source": [
    "We say that position i in k-mers p1 … pk and q1 … qk is a mismatch if pi ≠ qi. For example, CGAAT and CGGAC have two mismatches. The number of mismatches between strings p and q is called the Hamming distance between these strings and is denoted HammingDistance(p, q).\n",
    "\n",
    "Hamming Distance Problem: Compute the Hamming distance between two strings.\n",
    "     Input: Two strings of equal length.\n",
    "     Output: The Hamming distance between these strings."
   ]
  },
  {
   "cell_type": "code",
   "execution_count": 7,
   "metadata": {
    "collapsed": false
   },
   "outputs": [],
   "source": [
    "def hammingDistance(x,y):\n",
    "    nmm = 0\n",
    "    for i in xrange(len(x)):\n",
    "        if x[i] != y[i]:\n",
    "            nmm += 1\n",
    "    return nmm"
   ]
  },
  {
   "cell_type": "code",
   "execution_count": 8,
   "metadata": {
    "collapsed": false
   },
   "outputs": [
    {
     "data": {
      "text/plain": [
       "23"
      ]
     },
     "execution_count": 8,
     "metadata": {},
     "output_type": "execute_result"
    }
   ],
   "source": [
    "hammingDistance('CAGAAAGGAAGGTCCCCATACACCGACGCACCAGTTTA', 'CACGCCGTATGCATAAACGAGCCGCACGAACCAGAGAG')"
   ]
  },
  {
   "cell_type": "code",
   "execution_count": 176,
   "metadata": {
    "collapsed": false
   },
   "outputs": [
    {
     "data": {
      "text/plain": [
       "880"
      ]
     },
     "execution_count": 176,
     "metadata": {},
     "output_type": "execute_result"
    }
   ],
   "source": [
    "p = 'GCGTTTTCGTTACCTTCAACTCCCGGACTGTAGTACATCAAAACTACGTGACGTTTTTAAGAGTATTGAAGAAATTCACATTGATACCTTTGATAGAGTTGTGGGGAGGAAGTCCGGGGACATCGGGGGGGTTCAGCTCTCTAACAGTATGTAAGCAAACCGACGTGGCAAATTGAGGATGTAACGCCACTGCTCGATGGAGGCTTACTTACTTATCGGGAAGGTAAAACGGGTTCACGCAGGTCGGCTTGACTCTGGAAGCCCGATCACGGAGGTGTCATATTAGACGGCCATAAGTTCTCTACAAGATGTTATACGGAAAGGGGATCCATTGACCTGGGGCGCGCAGTAGGCCCTTCTGGGCAACCTTCACTATAGGCAATCAAGCATGCCTCTCCCTCTGCGAGCTCGGGAGCAAGTGCGCCGCTTGTAAATTAGTGAGCGATGAGTTGCCGTTTCGCGTCCCGCCAGTGAGTTCGCATGTGTTCAAATTGGGACGTCGTTTGTACCAGCACGTTATTTTCTAGGTCGCTACACAACCTCAATACAAGCCCGAACGCGCGCGGTCGCCGAATTAGTCGAGTACGTTCCACGCATTGTAGACTCATCTGGGTGAGGTCGCTGCGACCATGTCATGGGACGTAAGCGGCTACCTCTCGGATAGGTGGTCGGCTACACATCGACAATGAAGTACGCGTCATCATCAAAATTTGTCCAATGTAGACCATTCACTGGAGGCCCAGTGGACAGAGATTTATGTTACGATAGCCCAGATAGATACCGATAACACCCCTTGGGGTGTAAGCGTGCGCGCCCTAACAATACCACCTAGAGCGCAAGTTGTAAATGCATCCGCCCTTGGAACGTCTGTACAGTATTACCAGCAACATCGACACCCCAAGTGGGGCGCCATGAGTGATTCATTGTGATTAGGGCTGAGTAACTAGCTTGTTGTTACTCCAGAAGACGCCGGTCACCCGCCTGTTAAAGTTTAAACTGTAAAATGGTCCCGTACGCTCGTTACGGCTGCTGGCCAAGCGGATCTACTCGTTCCGGTGTTCCCTGTTTACAACCTTTCGTTTGACCATACTAACAACCAGTAAGGGTCATGCCGCGTGGAACCCCACCGTAAATTATGGCAGTTGAATGGATCCCGCGCTCATACTAGAGACTCAG'\n",
    "q = 'TTGCCGTCTTAAGCGGGATGAACCTGGCAGGGTGATGGGTCCTCTGACGTAGCTCCGCATTTGTGGGCGTAACTTAAGAGAGTTGGCAGAAAAATATTTCTCGGCAGGCTGGCCTCATGGCTTAAAGTTTACGTTTAAAACTGTTTACTACACTGTGCCTGCTGCCATTGGTTAAAAGCATGCTGAGGTGTCGGTTGGGTGACATCAGCTCTGAGCTCGGCATGGAATCGGCTTGCTTGCATAGACGCCAGGTCGCCGTACAAAACGTTCTAAACTGGTGGGATCCGTAAACGAATAGCTCAGAGATTGATATCAATAGCAGATAGCGCAACATCAAAACCTACATATGTTCGGTGTTAAGAGGGAAGACAGAATGGAAGGGCAGCTCTTCCGAACCCGTGGCTAGTGTCCGTTTGTACGATGTATGGAACAAATAATCAGTTTGCGTTGGAACCCTATGCCAAATCGAGTCGGCGTCACCTTTAGTAACTAGTACTTCCCCTACCTCCTGGACTTGTAGGTCACTGCCGTAATAGGTTCTCATGTGCTACGCACAAGCTGGCACCATACAACGACTGACGACTTCCCCACCTCAACTTCGTTTCCCTAAGTGGGTAGAGAGCCCATGCCCGACCATACATTCAAACGAGTAGGACAGACACGTGAGCATTTTTGTCCACACGCTCGACCAACGCTAATCCTTAGTCGGCAAAGCGACCCTAAGGAGTTGTTGCTATACATAACCCTGAGCGGTTGTGGGTTGAGTTGTGTGCTACACAATCGACGGACGTATGTGCATCAGTATGTCCGAATCCGCGTTGACCCAATAGATTATGCCACCCTATACGCTTACCTCGTTCCTCTCTAAGGGCCCCTGGTATACGACACACAATGCACAATGATACCGACAGCACCCATTCTGTGCCCCAGGGATCCCACTACGTTCGCCTGTGCTACTTGCAACATGCCCCTTTCCACTCCCTCCTTGCGATCTGCGGCGCAGTGGGCGGGGGACTCGCTGAGAACCATCGCACGGCTCGGGGCGAGGGAAGATATGGTCGGTTCTGGACGACATGGGGTGAACTCGTCCTTCTATACTATTGGGGATTCGAAACGTTCTGGACGCAAAGAATATGGCTTAGCCCATGACGAAGGCCAGGGGAATGGCGGTTGGCT'\n",
    "hammingDistance(p,q)"
   ]
  },
  {
   "cell_type": "markdown",
   "metadata": {},
   "source": [
    "We say that a k-mer Pattern appears as a substring of Text with at most d mismatches if there is some k-mer substring Pattern' of Text having d or fewer mismatches with Pattern, i.e., HammingDistance(Pattern, Pattern') ≤ d. Our observation that a DnaA box may appear with slight variations leads to the following generalization of the Pattern Matching Problem.\n",
    "\n",
    "Approximate Pattern Matching Problem: Find all approximate occurrences of a pattern in a string.\n",
    "     Input: Strings Pattern and Text along with an integer d.\n",
    "     Output: All starting positions where Pattern appears as a substring of Text with at most d mismatches."
   ]
  },
  {
   "cell_type": "code",
   "execution_count": 13,
   "metadata": {
    "collapsed": true
   },
   "outputs": [],
   "source": [
    "#Approximate matching\n",
    "def naiveHamming(p, t, maxDistance):\n",
    "    occurences = []\n",
    "    for i in xrange(len(t) - len(p) + 1): #loop through every position in t where p could start\n",
    "        nmm = 0\n",
    "        match = True\n",
    "        for j in xrange(len(p)): #Loop over characters\n",
    "            if t[i+j] != p[j]: #Compare characters\n",
    "                nmm += 1 #mismatch\n",
    "                if nmm > maxDistance: #exceed max hamming distance\n",
    "                    break\n",
    "        if nmm <= maxDistance:\n",
    "            occurences.append(i) #approximate match\n",
    "    return occurences  "
   ]
  },
  {
   "cell_type": "code",
   "execution_count": 83,
   "metadata": {
    "collapsed": false
   },
   "outputs": [
    {
     "data": {
      "text/plain": [
       "61"
      ]
     },
     "execution_count": 83,
     "metadata": {},
     "output_type": "execute_result"
    }
   ],
   "source": [
    "p = 'GTACTA'\n",
    "t = 'ACGGAGTAAGGACTATAGGTTGTATAATTACGACTAAAGACAGAGCCGTTTAGATCGCTCGGTTATTAATTTAGGTGGTTGGCGTCAGTTACATCGAATGCGTATCACCCCGGATAACTCCACTTTGATAAGGTTAAGAGTACTAATGTAACTCGCAGATCTTAATTTGTGGGACACTAGGACGCGCTCCTATATCGTCTGCTTCCTAAAACGTGGGTAACCCAAACTACCATGTTAAATTGTTATAGTCCAAATGTTGCACGTCCAGACGCTAGACGAGGTTTCAGATTTTCCGATTTCAGGCTCAGGAACACCATCAAGTGCCGGTCGATAGAGCAGGAT'\n",
    "len(naiveHamming(p, t, 3))"
   ]
  },
  {
   "cell_type": "code",
   "execution_count": 15,
   "metadata": {
    "collapsed": false
   },
   "outputs": [
    {
     "data": {
      "text/plain": [
       "15"
      ]
     },
     "execution_count": 15,
     "metadata": {},
     "output_type": "execute_result"
    }
   ],
   "source": [
    "len(naiveHamming('CCC', 'CATGCCATTCGCATTGTCCCAGTGA', 2))"
   ]
  },
  {
   "cell_type": "markdown",
   "metadata": {},
   "source": [
    "### CS: Generating the neighborhood of a string"
   ]
  },
  {
   "cell_type": "markdown",
   "metadata": {},
   "source": [
    "Our goal is to generate the d-neighborhood Neighbors(Pattern, d), the set of all k-mers whose Hamming distance from Pattern does not exceed d. As a warm up, we will first generate the 1-neigborhood of Pattern using the following pseudocode."
   ]
  },
  {
   "cell_type": "code",
   "execution_count": 3,
   "metadata": {
    "collapsed": true
   },
   "outputs": [],
   "source": [
    "def immediateNeighbors(pattern):\n",
    "    nt = {'A':['C','G','T'], 'C':['A','G','T'], 'G':['A','C','T'], 'T':['A','C','G']}\n",
    "    neighboorhood = set()\n",
    "    for i in range(len(pattern)):\n",
    "        symbol  = pattern[i]\n",
    "        for x in nt[symbol]:\n",
    "            neighbor = pattern[:i] + x + pattern[i+1:]\n",
    "            neighboorhood.add(neighbor)\n",
    "    return neighboorhood     "
   ]
  },
  {
   "cell_type": "code",
   "execution_count": 158,
   "metadata": {
    "collapsed": false
   },
   "outputs": [
    {
     "data": {
      "text/plain": [
       "{'AAGA',\n",
       " 'ACAA',\n",
       " 'ACCA',\n",
       " 'ACGC',\n",
       " 'ACGG',\n",
       " 'ACGT',\n",
       " 'ACTA',\n",
       " 'AGGA',\n",
       " 'ATGA',\n",
       " 'CCGA',\n",
       " 'GCGA',\n",
       " 'TCGA'}"
      ]
     },
     "execution_count": 158,
     "metadata": {},
     "output_type": "execute_result"
    }
   ],
   "source": [
    "immediateNeighbors('ACGA')"
   ]
  },
  {
   "cell_type": "markdown",
   "metadata": {},
   "source": [
    "Our idea for generating Neighbors(Pattern, d) is as follows. If we remove the first symbol of Pattern (denoted FirstSymbol(Pattern)), then we will obtain a (k − 1)-mer that we denote by Suffix(Pattern).\n",
    "Now, consider a (k − 1)-mer Pattern’ belonging to Neighbors(Suffix(Pattern), d). By the definition of the d-neighborhood Neighbors(Suffix(Pattern), d), we know that HammingDistance(Pattern′, Suffix(Pattern)) is either equal to d or less than d. In the first case, we can add FirstSymbol(Pattern) to the beginning of Pattern’ in order to obtain a k-mer belonging to Neighbors(Pattern, d). In the second case, we can add any symbol to the beginning of Pattern’ and obtain a k-mer belonging to Neighbors(Pattern, d)."
   ]
  },
  {
   "cell_type": "code",
   "execution_count": 16,
   "metadata": {
    "collapsed": false
   },
   "outputs": [],
   "source": [
    "def neighbors(pattern, d):\n",
    "    '''Neighbors generates all k-mers of Hamming distance at most d from Pattern.'''\n",
    "    if d == 0:\n",
    "        return {pattern}\n",
    "    if len(pattern) == 0:\n",
    "        return {}\n",
    "    if len(pattern) == 1:\n",
    "        return {'A', 'C', 'G', 'T'}\n",
    "    neighborhood = set()\n",
    "    suffixneighbors = neighbors(pattern[1:], d)\n",
    "    for text in suffixneighbors:\n",
    "        if hammingDistance(text, pattern[1:]) < d:\n",
    "            for nt in ['A', 'C', 'G', 'T']:\n",
    "                neighborhood.add(nt + text)\n",
    "        else:\n",
    "            neighborhood.add(pattern[0] + text)\n",
    "    return neighborhood           "
   ]
  },
  {
   "cell_type": "code",
   "execution_count": 17,
   "metadata": {
    "collapsed": false
   },
   "outputs": [
    {
     "data": {
      "text/plain": [
       "'AAGGATTCAGCA AAGTATTGACCC AAGTATTGACCA AAGTATTGACCG AAGCATTGAACA AATTATGGAGCA AAGTATTGATGA AATTCTTGAGCA AAGTATTGGGCT AAGTATTGACCT AAGTATTTAGCA AAGTATCGATCA AAGTATTTAGCC AAGTATTTAGCG ATGTACTGAGCA AAGAAGTGAGCA AAGTGTTGCGCA AAGTATTTAGCT ATTTATTGAGCA AACTAGTGAGCA AAGTATCAAGCA AAGCATTAAGCA AAGTACTTAGCA AAGTACTAAGCA AGGGATTGAGCA AAAAATTGAGCA AGATATTGAGCA AGGTATTAAGCA AAGTATTGGGCA AAGTACTGAGTA ATGTATTGCGCA AAATATTGCGCA AAGTGTAGAGCA AACTATTGATCA AAGTACTGACCA AAGAATTGAGCT AAATATTGGGCA AAGAATAGAGCA CAGTACTGAGCA GAGTCTTGAGCA AATTATTGAACA AAGTACTGCGCA AAGAATTGAGCG CACTATTGAGCA AAGTATTCAACA ATGTATTGAGTA ACATATTGAGCA AAGTCTGGAGCA AACTATCGAGCA ACGTATTGAGCG ACGTATTGAGCA ACGTATTGAGCC AAATATTGATCA AAGGACTGAGCA AAGTATAGAGAA ACGTATTGAGCT AGGTACTGAGCA ACGTATTAAGCA AAGAATTGTGCA GAGTAATGAGCA AAGTATGGAGCG AAGTAGTCAGCA GAGTAGTGAGCA CAGTATTAAGCA AAGTATGGGGCA AAGTACCGAGCA AAGTATTTTGCA AAGTATGAAGCA AAATATTGAACA AAGGAATGAGCA TAGTACTGAGCA AGGAATTGAGCA AGGTATTGCGCA GAGTATCGAGCA AATTATTAAGCA AATTATTGAGAA ATGTTTTGAGCA AACTATTCAGCA ACGTAGTGAGCA GAGTATTGAGCC CAGGATTGAGCA AAGTCTTGAGAA CAGTGTTGAGCA TAGTATTGACCA AAGTACAGAGCA AAGTATTGATCA AAGTATTGATCC CAGTATTGAACA AGGTATTGACCA AAGTATTGATCG AAGATTTGAGCA AAGTAGGGAGCA AAGTAGTGAGAA AAATATGGAGCA AGGTATTCAGCA AATCATTGAGCA GATTATTGAGCA AAGCATTTAGCA AGGTATTGAGTA AAGTATTGATCT AAGCCTTGAGCA AACTATTGCGCA ACGTTTTGAGCA AGGTTTTGAGCA AACGATTGAGCA AAGTAGTGTGCA AATTATTGTGCA CCGTATTGAGCA AGGTATAGAGCA AAATGTTGAGCA AAGTGTTGAGTA AAGTGTTGATCA GAGTATTGAGAA GAGCATTGAGCA AAGGATTAAGCA AATTATTGAGTA AAGGATTGAGGA AAGTATTCAGTA AAGTATATAGCA CAGTTTTGAGCA AAGTCTTGAACA ACGTATTGAGGA AAGTGATGAGCA GACTATTGAGCA AAGTATTGAGAA AAGTAGTGAACA AAGTATTGAGAC AACTATTGACCA AAGTATTGTGTA AAGTATTGAGAT AAGCATTGAGCT AAGGATCGAGCA AAGTAGTGATCA AAGCATTGAGCG AAGCATTGAGCA GAGTTTTGAGCA AGGTATTGGGCA AAGTATTGTCCA CAGTATTGACCA AAATAATGAGCA AAGTGTGGAGCA AAGTACTGGGCA TAGCATTGAGCA AAACATTGAGCA AAGAATTGAGTA AAGTATTTACCA TAGTATCGAGCA AAGGGTTGAGCA AAGTAATGTGCA AAGTCCTGAGCA AAGTATTGGACA AAGTCTTCAGCA AAGTTTTGACCA AAGTTTTGATCA AAGAATTCAGCA CAGAATTGAGCA AAGTATTCAGAA GAGTATTTAGCA AAGTATTAAGAA AACTATTGTGCA AAGTATAAAGCA AAGTATTAACCA AAGAACTGAGCA ACGTCTTGAGCA AAATATCGAGCA AAGTACTGAGCT AAGTAGTGAGTA AAGTATTCTGCA AAGGATAGAGCA AAGTATTTCGCA AAGTACTGAGCG AAGAATTGCGCA AAGTATGCAGCA AGGTCTTGAGCA GAGTATTCAGCA AACAATTGAGCA AAGTATCGAGTA AATTATTGATCA AGGTATTGATCA AAGGATTGGGCA AAGTACTGAACA AAGCAATGAGCA AAGGATTGAGCA AAGTATTGCCCA AAGGATTGAGCC GAGAATTGAGCA AAGGATTGAGCG AAGGATTTAGCA ACTTATTGAGCA AACTATTGGGCA AGGTATTGTGCA AAGTCTTGAGGA AAGAATTGGGCA CAGTATTGAGAA TTGTATTGAGCA AAATATTGAGAA AAGTATCGAACA AATTATTGACCA AATTTTTGAGCA AACTACTGAGCA AACTGTTGAGCA AAGTAATGAGAA TAGTATTAAGCA ACGAATTGAGCA AGGTAATGAGCA AAGTATTAAGTA AAGTGTTGTGCA GAGTATTGAACA AAGTATTGAACA AAGAATTGAGCA AAGTATTGAACC AAGCATTGAGGA ACGTATTGCGCA AAGTATTGAACT AAGTTTTGAGTA ATGTATTGACCA TAGTATTGTGCA AAGTCTTGTGCA AAGTGTTTAGCA AAGCATTGAGCC AAGTATTCATCA GAGTGTTGAGCA AAGTATTGGGGA AAATATTCAGCA TAGTATTGAACA AACTATGGAGCA AAGTAATGATCA AAGTATCGGGCA ACGTATTGATCA ACGTACTGAGCA ATGTATTGAGAA AAGTAAGGAGCA AAGTATGGTGCA AAGTATCGAGCG AAGTATCGAGCC TAGTGTTGAGCA AAATATTGAGCT AAGTATACAGCA TAGTATTGAGAA AAGTACTGAGGA AAGTATCGAGCT AAGAGTTGAGCA AAGGATTGCGCA AAGTTTTGCGCA AAGTTTGGAGCA AAGAATTGAGCC AAGTATTGCGCG AAGTATTGCGCA AAGTATTGCGCC AAGTGTTGAGAA AATTATAGAGCA AAGCATAGAGCA AAGTATTGCGCT AAGTATTGACTA ATGTAATGAGCA ATGTATTGAACA AAGTCTTGAGCT AATAATTGAGCA AAGTATTGACAA AAGTCTTGAGCA AAGTCTTGAGCC AAGTCTTGATCA AAGTCTTGAGCG AAGTATTAAACA GAGGATTGAGCA AAGTATGGAGTA AAGAATTAAGCA AAGTATCGAGCA AAGTATTTAGAA TAGTATTGGGCA ACGTATGGAGCA AAGTATAGAGTA AAGTAGTGGGCA GAGTACTGAGCA AAGTTTTGGGCA AAGTACTGTGCA AAGTATTGTGCG CAGTATTGAGCG AAGTATTGTGCA CAGTATTGAGCA AAGTATTGTGCC TAGTATTTAGCA CAGTATTGAGCT AAGTATTGTGCT AAGCATTGATCA CAATATTGAGCA AAAGATTGAGCA TACTATTGAGCA GAGTATTGAGGA AACTATTGAGCT ACGTGTTGAGCA AAGTATAGACCA AGGTATCGAGCA AACTATTGAGCC AACTATTGAGCA AACTATTGAGCG GAGTATAGAGCA AAGTATTGAAGA AATTATTTAGCA AAGTATTGTACA AAGTTTTGAGCG AAGTTTTGAGCA AAGTTTTGAGCC CAGTAGTGAGCA AATTAGTGAGCA AAGTTTTGAGCT AAGTATGGATCA AAGTATTGGGCC AAGTAATGAACA AAGTATTGGTCA AAGTATTGGGCG AAGTATCGTGCA CAGTCTTGAGCA AAGTATGGAGAA CAGTATTGGGCA AAGTCTTAAGCA AAGTATTGACGA TAGTAATGAGCA AGGCATTGAGCA AATTGTTGAGCA AATTATTGCGCA AAGTTTTGAACA TAGTATTCAGCA AAATACTGAGCA AGGTATTGAGAA ATGTCTTGAGCA AAGTGGTGAGCA AAGTATTGAGAG AAGTATCGAGGA AAGTACTCAGCA ATGTAGTGAGCA TAATATTGAGCA AAGTATTTAACA AAGGATTGTGCA ACGTAATGAGCA AGTTATTGAGCA AAGTATTTGGCA AAGTATTGCGGA ACGCATTGAGCA TAGTATTGATCA CAGTATCGAGCA AAGTATTTAGTA AACTATTGAGGA AAGTGTTGACCA AAGTATTGATAA AAGTAATGGGCA TAGTATTGCGCA ACGTATTGAACA CAGTAATGAGCA AAGTATTAAGGA AAGTAGTGCGCA AAGTCATGAGCA TATTATTGAGCA AAGGTTTGAGCA ACGTATTGAGTA AAGTATCGACCA AACTATTTAGCA AAGAATTGAACA AAGTATCTAGCA AAATATAGAGCA AAGTAGTGAGGA AAGTACGGAGCA AACTTTTGAGCA TAGAATTGAGCA AAGTTTCGAGCA CAGCATTGAGCA ACGTATCGAGCA AAATATTGACCA AAGTTATGAGCA AAGAATTGACCA AAGCATTGTGCA AAGTATTGTGGA CAGTATTGAGGA TAGTCTTGAGCA GTGTATTGAGCA AGGTATGGAGCA AAGTGTTCAGCA AAGTTGTGAGCA AAGGATTGACCA AAGTATGGACCA AATTATTGAGCT ACGTATTGGGCA GAGTATTGAGCT ATGGATTGAGCA AAGTTCTGAGCA AATTATTGAGCC AAATATTGAGTA AATTATTGAGCA AATTATTGAGCG GAGTATTGAGCA AATTATCGAGCA AAGTATTATGCA AAGTTTAGAGCA AATTATTGGGCA AAGTATTGAGGT CAGTATTGCGCA AAGTGTTGAACA GAGTATTAAGCA AAGTATTGAGGC AAGTATTGAGGA AAGTATTGAGGG AAGTTTTGAGGA AAATATTGAGCC AAGAATTTAGCA AAATATTGTGCA AAGTCTTGAGTA AAGAATTGAGAA TAGTATGGAGCA ACGTATTGAGAA AAGTATTGATTA AAGAATGGAGCA AGGTATTGAACA AAGTATGTAGCA AAGTATGGAGGA ATGTATTGATCA AAATATTTAGCA AAGTCTTGCGCA AAGTATTCACCA AAGTAGTAAGCA AAGTAACGAGCA AAGCATCGAGCA AAGTTTTGAGAA CAGTATTCAGCA AGGTGTTGAGCA AACTCTTGAGCA AAGCATTGAGAA AAGTATTTATCA AAGTATAGGGCA AAGAAATGAGCA CAGTATTTAGCA AAGTATTAAGCT ACCTATTGAGCA AAGAATTGATCA AACTATTGAACA AAGTATTGCTCA ATGTATCGAGCA AAGTATTAAGCA AAGTATTAAGCC AAGTATTAATCA AAGTATTAAGCG AAGTACTGAGCC ACGTATTCAGCA AAGTATTGGGTA AAGTCTTGGGCA GAGTATTGCGCA ATGTATTGAGGA AAGTAATGAGCG AAGTATCCAGCA AAGTATTGAACG AAGTAGAGAGCA AAGTACTGAGAA AAGTATAGAGCG AAGTATAGAGCA AAGCATGGAGCA AAGTATAGAGCC AAGTAATGAGTA AAGTAATGAGCA ATGAATTGAGCA AAGTATAGAGCT TAGTATTGAGTA CTGTATTGAGCA AAGTGTTAAGCA AAGTATAGAACA AAGGATGGAGCA AAGTATCGCGCA AAGTCTTGACCA AAGTAATGCGCA AAGTATTCCGCA CAGTATTGTGCA GAGTATTGAGCG TAGTAGTGAGCA AAGTATTGAATA AAGTGTCGAGCA AAGGATTGAGAA GAATATTGAGCA GAGTATTGAGTA AAGTAATGACCA AAGTCTCGAGCA AAGTAATTAGCA ATGTATGGAGCA AAGTATTGAGCG AAGTATTGAGCC AAGTATTGAGCA AAGTACTGAGCA AAATATTGAGCG AAATATTGAGCA AAGTAGTGAGCT AAGTATTGAGCT AGGTATTGAGGA ATGTATTCAGCA AAGACTTGAGCA AAGTAATCAGCA AAATATTAAGCA AAGTAGTGAGCA AAGTAGTGAGCC AAGTGTTGGGCA AAGTAATGAGCC AAGTATTCGGCA AAGTAGTGAGCG AAGTAATGAGCT AATGATTGAGCA AGGTATTTAGCA ACGGATTGAGCA AACTATTAAGCA AAGTTTTGTGCA CAGTATTGATCA ATCTATTGAGCA AAGTATTGGCCA AAGTATTCAGGA AAGTTTTCAGCA CAGTATGGAGCA TAGTATTGAGCC GAGTATTGGGCA AAATAGTGAGCA TAGTATAGAGCA GGGTATTGAGCA CATTATTGAGCA AACTATAGAGCA ATGTATTGAGCA ATGTATTGAGCG AAGTCGTGAGCA AAGTATTGCACA AAGTATTCAGCC AAGCATTGCGCA AAGTATTCAGCA AAGTATTCAGCG AAGTAAAGAGCA ATGTATTAAGCA ATGTATTGAGCT CGGTATTGAGCA AAGTATTCAGCT AAGTATAGAGGA AAATTTTGAGCA AGGTATTGAGCC AAGTATGGAGCC AAGTATGGAGCA TAGTATTGAGGA GAGTATTGACCA TGGTATTGAGCA AAGTATGGAGCT AAGCATTCAGCA AAGGATTGAACA AAGTATTGTTCA AAGTGTTGAGCG AAGTGTTGAGCA AAGTGTTGAGCC GAGTATGGAGCA AAGTGTTGAGCT AACTATTGAGTA AAGTACTGATCA AAGTATTGAGTG AAGTATTGCGTA AAGTATAGCGCA AAGTATTGAGTC AAGTATTGAGTA AAGCGTTGAGCA AAGTATTGAGTT AACCATTGAGCA AAGAATCGAGCA AAGCACTGAGCA AAATATTGAGGA AACTAATGAGCA AATTAATGAGCA ATGTGTTGAGCA AATTATTCAGCA AAGTCTTTAGCA AAGTATCGAGAA AAGTATTTAGGA AAGTAGTTAGCA ATGTATTGGGCA ACGTATAGAGCA GCGTATTGAGCA AGCTATTGAGCA TCGTATTGAGCA AAGGATTGATCA AAGTAATGAGGA AAGTATTACGCA AAGTATTGGGAA AAGCATTGAGTA AAGTAATAAGCA ACGTATTGACCA AAGTATTGTGAA AAGCTTTGAGCA TAGTTTTGAGCA CAGTATTGAGTA AAGTATTGAAAA AAGGATTGAGTA TAGGATTGAGCA AACTATTGAGAA AAGTGCTGAGCA AGGTAGTGAGCA AAGGATTGAGCT CAGTATAGAGCA AAGTTTTTAGCA ATGTATTTAGCA AAGCATTGGGCA AAGCAGTGAGCA ATGCATTGAGCA AAGGCTTGAGCA ATATATTGAGCA AAGAATTGAGGA AATTACTGAGCA ACGTATTGTGCA GAGTATTGTGCA AAGTATTAGGCA AAGTAGTGACCA ATGTATTGTGCA AAGTCTAGAGCA AAGGAGTGAGCA TAGTATTGAGCA ATGTATTGAGCC ACGTATTTAGCA AAATCTTGAGCA TAGTATTGAGCG AGGTATTGAGCA AAGTATAGATCA AAGTATGGAACA AGGTATTGAGCG TAGTATTGAGCT AAGTATAGTGCA AGGTATTGAGCT AAGTAGCGAGCA AAGTGTTGAGGA AAGTATTGCGAA ATGTATAGAGCA AAGCATTGACCA AAGTTTTAAGCA AAGTATGGCGCA AATTATTGAGGA CAGTATTGAGCC GAGTATTGATCA'"
      ]
     },
     "execution_count": 17,
     "metadata": {},
     "output_type": "execute_result"
    }
   ],
   "source": [
    "pattern = 'AAGTATTGAGCA'\n",
    "x = neighbors(pattern, 2)\n",
    "' '.join(str(i) for i in x)"
   ]
  },
  {
   "cell_type": "code",
   "execution_count": 19,
   "metadata": {
    "collapsed": false
   },
   "outputs": [
    {
     "data": {
      "text/plain": [
       "31"
      ]
     },
     "execution_count": 19,
     "metadata": {},
     "output_type": "execute_result"
    }
   ],
   "source": [
    "len(neighbors('CCAGTCAATG', 1))"
   ]
  },
  {
   "cell_type": "code",
   "execution_count": 21,
   "metadata": {
    "collapsed": false
   },
   "outputs": [
    {
     "name": "stdout",
     "output_type": "stream",
     "text": [
      "{}\n"
     ]
    }
   ],
   "source": [
    "pattern = ''\n",
    "d = 1\n",
    "result = neighbors(pattern, d)\n",
    "a = repr(result).replace(\",\", \"\")\n",
    "b = a.replace(\"\\'\",\"\")\n",
    "print b.replace(\" \", \"\\n\") "
   ]
  },
  {
   "cell_type": "markdown",
   "metadata": {},
   "source": [
    "1) What is the running time of Neighbors?\n",
    "2) Neighbors generates all k-mers of Hamming distance at most d from Pattern. Modify Neighbors to generate all k-mers of Hamming distance exactly d from Pattern."
   ]
  },
  {
   "cell_type": "code",
   "execution_count": 5,
   "metadata": {
    "collapsed": true
   },
   "outputs": [],
   "source": [
    "#I need to correct this\n",
    "def neighbors_with_exact_d(pattern, d):\n",
    "    '''generate all k-mers of Hamming distance exactly d from Pattern.'''\n",
    "    nt = {'A':['C','G','T'], 'C':['A','G','T'], 'G':['A','C','T'], 'T':['A','C','G']}\n",
    "    if d == 0:\n",
    "        return pattern\n",
    "    if len(pattern) == 1:\n",
    "        return {'A', 'C', 'G', 'T'}\n",
    "    neighborhood = set()\n",
    "    suffixneighbors = neighbors_with_exact_d(pattern[1:], d)\n",
    "    for text in suffixneighbors:\n",
    "        if hammingDistance(text, pattern[1:]) < d:\n",
    "            for x in nt[pattern[0]]:\n",
    "                neighborhood.add(x + text)\n",
    "        else:\n",
    "            neighborhood.add(pattern[0] + text)\n",
    "    return neighborhood           "
   ]
  },
  {
   "cell_type": "code",
   "execution_count": 188,
   "metadata": {
    "collapsed": false
   },
   "outputs": [
    {
     "data": {
      "text/plain": [
       "{'AAG', 'ACA', 'ACC', 'ACT', 'AGG', 'ATG'}"
      ]
     },
     "execution_count": 188,
     "metadata": {},
     "output_type": "execute_result"
    }
   ],
   "source": [
    "pattern = 'ACG'\n",
    "d = 1\n",
    "neighbors_with_exact_d(pattern, d)"
   ]
  },
  {
   "cell_type": "markdown",
   "metadata": {},
   "source": [
    "### CS: Solving the Frequent Words with Mismatches Problem"
   ]
  },
  {
   "cell_type": "markdown",
   "metadata": {},
   "source": [
    "To prevent having to generate all 4^k k-mers in order to solve the Frequent Words with Mismatches Problem, our goal is to consider only those k-mers that are close to a k-mer in Text, i.e., those with Hamming distance at most d from this k-mer. Given a k-mer Pattern, we therefore define its d-neighborhood Neighbors(Pattern, d) as the set of all k-mers that are close to Pattern. For example, Neighbors(ACG, 1) consists of nine 3-mers:\n",
    "\n",
    "ACG    CCG    GCG    TCG    AAG    AGG    ATG    ACA    ACC    ACT\n",
    "\n",
    "STOP and Think: Estimate the size of Neighbors(Pattern, d)."
   ]
  },
  {
   "cell_type": "markdown",
   "metadata": {},
   "source": [
    "We will also use an array Close of size 4^k whose values we initialize to zero. In the following pseudocode, we set Close(i) = 1 whenever Pattern = NumberToPattern(i, k) is close to some k-mer in Text. This allows us to apply ApproximatePatternCount only to close k-mers, a smarter approach than applying it to all k-mers. This pseudocode also calls the function Neighbors(Pattern, d) in order to generate the d-neighborhood of a k-mer Pattern. See CHARGING STATION: Generating the Neighborhood of a String to learn how to implement this function."
   ]
  },
  {
   "cell_type": "markdown",
   "metadata": {},
   "source": [
    "A most frequent k-mer with up to d mismatches in Text is simply a string Pattern maximizing Countd(Text, Pattern) among all k-mers. Note that Pattern does not need to actually appear as a substring of Text; for example, as we already saw, AAAAA is the most frequent 5-mer with 1 mismatch in AACAAGCTGATAAACATTTAAAGAG, even though it does not appear exactly in this string. Keep this in mind while solving the following problem.\n",
    "\n",
    "Frequent Words with Mismatches Problem: Find the most frequent k-mers with mismatches in a string.\n",
    "     Input: A string Text as well as integers k and d. (You may assume k ≤ 12 and d ≤ 3.)\n",
    "     Output: All most frequent k-mers with up to d mismatches in Text."
   ]
  },
  {
   "cell_type": "code",
   "execution_count": 9,
   "metadata": {
    "collapsed": true
   },
   "outputs": [],
   "source": [
    "def frequentWordsWithMismatches(text, k, d):\n",
    "    frequentPatterns = set()\n",
    "    count = [0]*((4**k))\n",
    "    for i in range(len(text) -k + 1):\n",
    "        neighborhood = neighbors(text[i:i+k], d)\n",
    "        for word in neighborhood:\n",
    "            index = patternToNumber(word)\n",
    "            count[index] += 1\n",
    "    maxCount = max(count)\n",
    "    for i in range(4**k):\n",
    "        if count[i] == maxCount:\n",
    "            pattern = numberToPattern(i,k)\n",
    "            frequentPatterns.add(pattern)\n",
    "    return frequentPatterns"
   ]
  },
  {
   "cell_type": "code",
   "execution_count": 11,
   "metadata": {
    "collapsed": false
   },
   "outputs": [
    {
     "data": {
      "text/plain": [
       "'GTAGTTG'"
      ]
     },
     "execution_count": 11,
     "metadata": {},
     "output_type": "execute_result"
    }
   ],
   "source": [
    "text = 'AAGTTGTTTATCGCGAGTTGCGGTATCGCGCCTATAAAAAGTTGTTAAGTTGTTCCTATAAAAGTTGCGGCTGATAGTTTATCGCGAAGTTGTTCCTATAAACTGATAGTTAAGTTGTTAGTTGCGGCCTATAAAAAGTTGTTCCTATAAACCTATAAACCTATAAAAAGTTGTTCTGATAGTTAAGTTGTTAAGTTGTTAAGTTGTTAAGTTGTTAAGTTGTTCCTATAAACTGATAGTTCTGATAGTTCTGATAGTTCTGATAGTTTATCGCGAAGTTGTTAAGTTGTTCTGATAGTTAAGTTGTTCCTATAAATATCGCGCTGATAGTTAGTTGCGGTATCGCGAGTTGCGGAAGTTGTTCCTATAAAAAGTTGTTAGTTGCGGAGTTGCGGAAGTTGTTAGTTGCGGTATCGCGAAGTTGTTCTGATAGTTCTGATAGTTCTGATAGTTTATCGCGAGTTGCGGCTGATAGTTTATCGCGCTGATAGTTAGTTGCGGAGTTGCGGAGTTGCGGTATCGCGAGTTGCGGTATCGCGAGTTGCGGTATCGCGTATCGCGAGTTGCGGAAGTTGTTAGTTGCGGAAGTTGTTAAGTTGTTAAGTTGTTCCTATAAAAGTTGCGGCCTATAAAAGTTGCGGAGTTGCGGAGTTGCGGAAGTTGTTCTGATAGTTTATCGCGTATCGCGCTGATAGTTCTGATAGTTAGTTGCGGTATCGCGCCTATAAACTGATAGTTAGTTGCGGAGTTGCGGCTGATAGTTTATCGCGTATCGCGCCTATAAAAAGTTGTTAAGTTGTTCTGATAGTTCCTATAAA'\n",
    "x = frequentWordsWithMismatches(text, 7, 2)\n",
    "' '.join(str(i) for i in x)"
   ]
  },
  {
   "cell_type": "markdown",
   "metadata": {},
   "source": [
    "We now redefine the Frequent Words Problem to account for both mismatches and reverse complements. Recall that Pattern' refers to the reverse complement of Pattern.\n",
    "\n",
    "Frequent Words with Mismatches and Reverse Complements Problem: Find the most frequent k-mers (with mismatches and reverse complements) in a string.\n",
    "      Input: A DNA string Text as well as integers k and d.\n",
    "      Output: All k-mers Pattern maximizing the sum Countd(Text, Pattern)+ Countd(Text, Pattern')\n",
    "      over all possible k-mers."
   ]
  },
  {
   "cell_type": "code",
   "execution_count": 16,
   "metadata": {
    "collapsed": true
   },
   "outputs": [],
   "source": [
    "def frequentWordsWithMismatchesAndRC(text, k, d):\n",
    "    frequentPatterns = set()\n",
    "    count = [0]*((4**k))\n",
    "    for i in range(len(text) -k + 1):\n",
    "        neighborhood = neighbors(text[i:i+k], d)\n",
    "        cneighborhood = neighbors(reverseComplement(text[i:i+k]), d)\n",
    "        for word in neighborhood:\n",
    "            index = patternToNumber(word)\n",
    "            count[index] += 1\n",
    "        for word in cneighborhood:\n",
    "            index = patternToNumber(word)\n",
    "            count[index] += 1\n",
    "    maxCount = max(count)\n",
    "    for i in range(4**k):\n",
    "        if count[i] == maxCount:\n",
    "            pattern = numberToPattern(i,k)\n",
    "            frequentPatterns.add(pattern)\n",
    "    return frequentPatterns"
   ]
  },
  {
   "cell_type": "code",
   "execution_count": 13,
   "metadata": {
    "collapsed": false
   },
   "outputs": [
    {
     "data": {
      "text/plain": [
       "'TTTTT'"
      ]
     },
     "execution_count": 13,
     "metadata": {},
     "output_type": "execute_result"
    }
   ],
   "source": [
    "text = 'TCGTCGTTGTTGTCTTGATTTTGAGTTGAGTTTCGATTGAGTCTCGAGTCGATTTTTCGTCTTGTCGTCGAGTCGAGTCGTCGTCTTGTTTTGTCTTTCTCTTGTTGAGAGTTTTTTGTCGTCGTCTCGTTGAGTCTCGAGTCTTTCTCGTCGAGTCTCTCTTGTCGTCGTTGTTGTCGTCGAGTTTCGTTGATTTT'\n",
    "x = frequentWordsWithMismatches(text, 5, 3)\n",
    "' '.join(str(i) for i in x)"
   ]
  },
  {
   "cell_type": "code",
   "execution_count": 17,
   "metadata": {
    "collapsed": false
   },
   "outputs": [
    {
     "data": {
      "text/plain": [
       "'GGGGGGG CCCCCCC'"
      ]
     },
     "execution_count": 17,
     "metadata": {},
     "output_type": "execute_result"
    }
   ],
   "source": [
    "text = 'GATGAGTCCCACCAACCCCTACCTCGATGAGTCCCTACCTCCCTACCTCCCACCAACCGATGAGTCGTTACTTTACAACTTTTCCACCAACCCCTACCTCCCTACCTCGATGAGTCACAACTTTTGTTACTTTCCACCAACCGTTACTTTGATGAGTCGTTACTTTCCTACCTCCCACCAACCGTTACTTTCCACCAACCGATGAGTCGATGAGTCCCACCAACCGTTACTTTCCTACCTCACAACTTTTACAACTTTTGTTACTTTCCTACCTCGTTACTTTGTTACTTTCCTACCTCACAACTTTTCCACCAACCCCTACCTCGATGAGTCGATGAGTCGTTACTTTACAACTTTTCCACCAACCCCTACCTCCCACCAACCACAACTTTTGATGAGTCGTTACTTTCCACCAACCGATGAGTCCCACCAACCACAACTTTTCCTACCTCACAACTTTTCCTACCTCACAACTTTTCCACCAACCACAACTTTTCCACCAACCCCTACCTCCCACCAACCACAACTTTTGATGAGTCCCTACCTCACAACTTTTCCACCAACCGTTACTTTGATGAGTCGATGAGTCCCTACCTCGTTACTTTCCACCAACCCCTACCTCACAACTTTTGTTACTTTCCACCAACCCCACCAACCCCACCAACCGATGAGTCACAACTTTTCCTACCTCGTTACTTTCCACCAACCCCTACCTCACAACTTTTCCTACCTCGTTACTTTCCTACCTCCCACCAACCGATGAGTCCCACCAACCGATGAGTCCCACCAACCACAACTTTTGTTACTTTGATGAGTC'\n",
    "x = frequentWordsWithMismatchesAndRC(text, 7, 3)\n",
    "' '.join(str(i) for i in x)"
   ]
  },
  {
   "cell_type": "code",
   "execution_count": 23,
   "metadata": {
    "collapsed": true
   },
   "outputs": [],
   "source": [
    "def minIndex(array):\n",
    "    minarray = min(array)\n",
    "    min_index = []\n",
    "    for item in range(len(array)):\n",
    "        if array[item] == minarray:\n",
    "            min_index.append(item)\n",
    "    return min_index"
   ]
  },
  {
   "cell_type": "code",
   "execution_count": 29,
   "metadata": {
    "collapsed": false
   },
   "outputs": [
    {
     "name": "stdout",
     "output_type": "stream",
     "text": [
      "CPU times: user 11.6 ms, sys: 3.58 ms, total: 15.2 ms\n",
      "Wall time: 12.4 ms\n"
     ]
    }
   ],
   "source": [
    "%%time\n",
    "array \n",
    "minIndex(array)"
   ]
  },
  {
   "cell_type": "code",
   "execution_count": 30,
   "metadata": {
    "collapsed": false
   },
   "outputs": [
    {
     "name": "stdout",
     "output_type": "stream",
     "text": [
      "CPU times: user 21.7 ms, sys: 3.33 ms, total: 25 ms\n",
      "Wall time: 22.3 ms\n"
     ]
    }
   ],
   "source": [
    "%%time\n",
    "array \n",
    "m=min(array)\n",
    "[index for index,element in enumerate(array) if element==m]"
   ]
  },
  {
   "cell_type": "code",
   "execution_count": null,
   "metadata": {
    "collapsed": true
   },
   "outputs": [],
   "source": []
  }
 ],
 "metadata": {
  "kernelspec": {
   "display_name": "Python 2",
   "language": "python",
   "name": "python2"
  },
  "language_info": {
   "codemirror_mode": {
    "name": "ipython",
    "version": 2
   },
   "file_extension": ".py",
   "mimetype": "text/x-python",
   "name": "python",
   "nbconvert_exporter": "python",
   "pygments_lexer": "ipython2",
   "version": "2.7.5"
  }
 },
 "nbformat": 4,
 "nbformat_minor": 0
}
