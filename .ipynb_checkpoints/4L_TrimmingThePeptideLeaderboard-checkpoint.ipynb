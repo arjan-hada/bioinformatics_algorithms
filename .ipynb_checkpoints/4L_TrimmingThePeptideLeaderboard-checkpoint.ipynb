{
 "cells": [
  {
   "cell_type": "code",
   "execution_count": 1,
   "metadata": {
    "collapsed": true
   },
   "outputs": [],
   "source": [
    "aminoacidMass = {'G':57, 'A':71, 'S':87, 'P':97, 'V':99, 'T':101, 'C':103, 'L':113, 'N':114, 'D':115, 'K':128, 'E':129, 'M':131, 'H':137, 'F':147, 'R':156, 'Y':163, 'W':186}\n",
    "def expand(leaderboard):\n",
    "    expanded = []\n",
    "    for i in leaderboard:\n",
    "        expanded += [i+j for j in aminoacidMass.keys()]\n",
    "    return expanded   "
   ]
  },
  {
   "cell_type": "code",
   "execution_count": 2,
   "metadata": {
    "collapsed": false
   },
   "outputs": [
    {
     "name": "stdout",
     "output_type": "stream",
     "text": [
      "['KA', 'KC', 'KE', 'KD', 'KG', 'KF', 'KH', 'KK', 'KM', 'KL', 'KN', 'KP', 'KS', 'KR', 'KT', 'KW', 'KV', 'KY', 'LA', 'LC', 'LE', 'LD', 'LG', 'LF', 'LH', 'LK', 'LM', 'LL', 'LN', 'LP', 'LS', 'LR', 'LT', 'LW', 'LV', 'LY', 'WA', 'WC', 'WE', 'WD', 'WG', 'WF', 'WH', 'WK', 'WM', 'WL', 'WN', 'WP', 'WS', 'WR', 'WT', 'WW', 'WV', 'WY']\n"
     ]
    }
   ],
   "source": [
    "print expand(['K', 'L', 'W'])"
   ]
  },
  {
   "cell_type": "code",
   "execution_count": 3,
   "metadata": {
    "collapsed": true
   },
   "outputs": [],
   "source": [
    "def cyclicSpectrum(peptide):\n",
    "    \"\"\"Input: An amino acid string Peptide.\n",
    "     Output: The cyclic spectrum of Peptide.\"\"\"\n",
    "    prefixMass = [0]*((len(peptide)+1))\n",
    "    for i in range(len(peptide)):\n",
    "        prefixMass[i+1] = prefixMass[i] + aminoacidMass[peptide[i]]\n",
    "    peptideMass = prefixMass[len(peptide)]\n",
    "    cyclic_spectrum = [0]\n",
    "    for i in range(len(prefixMass)-1):\n",
    "        for j in range(i+1, len(prefixMass)):\n",
    "            cyclic_spectrum.append(prefixMass[j] - prefixMass[i])\n",
    "            if i > 0 and j < (len(prefixMass)-1):\n",
    "                cyclic_spectrum.append(peptideMass - (prefixMass[j] - prefixMass[i]))\n",
    "    return sorted(cyclic_spectrum) "
   ]
  },
  {
   "cell_type": "code",
   "execution_count": 4,
   "metadata": {
    "collapsed": true
   },
   "outputs": [],
   "source": [
    "from collections import Counter\n",
    "def score_peptide(peptide, spectrum):\n",
    "    \"\"\"Cyclopeptide Scoring Problem: Compute the score of a cyclic peptide against a spectrum.\n",
    "     Input: An amino acid string Peptide and a collection of integers Spectrum. \n",
    "     Output: The score of Peptide against Spectrum, Score(Peptide, Spectrum).\"\"\"\n",
    "    spectrum_peptide = cyclicSpectrum(peptide)\n",
    "    c1, c2 = Counter(spectrum_peptide), Counter(spectrum)\n",
    "    return sum([min(n, c2[k]) for k,n in c1.items()])"
   ]
  },
  {
   "cell_type": "code",
   "execution_count": 14,
   "metadata": {
    "collapsed": false
   },
   "outputs": [],
   "source": [
    "def linearSpectrum(peptide):\n",
    "    \"\"\"Input: An amino acid string Peptide.\n",
    "     Output: The linear spectrum of Peptide.\"\"\"\n",
    "    prefixMass = [0]*((len(peptide)+1))\n",
    "    for i in range(len(peptide)):\n",
    "        prefixMass[i+1] = prefixMass[i] + aminoacidMass[peptide[i]]\n",
    "    #print 'prefixMass', prefixMass\n",
    "    linear_spectrum = [0]\n",
    "    for i in range(len(prefixMass)-1):\n",
    "        for j in range(i+1, len(prefixMass)):\n",
    "            linear_spectrum.append(prefixMass[j] - prefixMass[i])\n",
    "    return sorted(linear_spectrum)    "
   ]
  },
  {
   "cell_type": "code",
   "execution_count": 17,
   "metadata": {
    "collapsed": true
   },
   "outputs": [],
   "source": [
    "def linear_score(peptide, spectrum):\n",
    "    \"\"\"Compute the score of a linear peptide with respect to a spectrum.\n",
    "     Input: An amino acid string Peptide and a collection of integers Spectrum.\n",
    "     Output: The linear score of Peptide with respect to Spectrum, LinearScore(Peptide, Spectrum).\"\"\"\n",
    "    spectrum_peptide = linearSpectrum(peptide)\n",
    "    c1, c2 = Counter(spectrum_peptide), Counter(spectrum)\n",
    "    return sum([min(n, c2[k]) for k,n in c1.items()])"
   ]
  },
  {
   "cell_type": "code",
   "execution_count": 18,
   "metadata": {
    "collapsed": false
   },
   "outputs": [
    {
     "data": {
      "text/plain": [
       "8"
      ]
     },
     "execution_count": 18,
     "metadata": {},
     "output_type": "execute_result"
    }
   ],
   "source": [
    "linear_score('NKEL', [0, 99, 113, 114, 128, 227, 257, 299, 355, 356, 370, 371, 484])"
   ]
  },
  {
   "cell_type": "code",
   "execution_count": 20,
   "metadata": {
    "collapsed": false
   },
   "outputs": [],
   "source": [
    "#Read the data containing peptide and spectrum to compute linear score wrt spectrum.\n",
    "with open('input/dataset_4913_1.txt') as f:\n",
    "    peptide2, spectrum2 = [line.strip() if i==0 else map(int,line.strip().split()) for i, line in enumerate(f.readlines())]"
   ]
  },
  {
   "cell_type": "code",
   "execution_count": null,
   "metadata": {
    "collapsed": true
   },
   "outputs": [],
   "source": []
  },
  {
   "cell_type": "code",
   "execution_count": 21,
   "metadata": {
    "collapsed": false
   },
   "outputs": [
    {
     "ename": "KeyError",
     "evalue": "'I'",
     "output_type": "error",
     "traceback": [
      "\u001b[0;31m---------------------------------------------------------------------------\u001b[0m",
      "\u001b[0;31mKeyError\u001b[0m                                  Traceback (most recent call last)",
      "\u001b[0;32m<ipython-input-21-f701965753db>\u001b[0m in \u001b[0;36m<module>\u001b[0;34m()\u001b[0m\n\u001b[1;32m      1\u001b[0m \u001b[0;31m#Call function\u001b[0m\u001b[0;34m\u001b[0m\u001b[0;34m\u001b[0m\u001b[0m\n\u001b[0;32m----> 2\u001b[0;31m \u001b[0mlinear_score\u001b[0m\u001b[0;34m(\u001b[0m\u001b[0mpeptide2\u001b[0m\u001b[0;34m,\u001b[0m \u001b[0mspectrum2\u001b[0m\u001b[0;34m)\u001b[0m\u001b[0;34m\u001b[0m\u001b[0m\n\u001b[0m",
      "\u001b[0;32m<ipython-input-17-b917ad973993>\u001b[0m in \u001b[0;36mlinear_score\u001b[0;34m(peptide, spectrum)\u001b[0m\n\u001b[1;32m      3\u001b[0m      \u001b[0mInput\u001b[0m\u001b[0;34m:\u001b[0m \u001b[0mAn\u001b[0m \u001b[0mamino\u001b[0m \u001b[0macid\u001b[0m \u001b[0mstring\u001b[0m \u001b[0mPeptide\u001b[0m \u001b[0;32mand\u001b[0m \u001b[0ma\u001b[0m \u001b[0mcollection\u001b[0m \u001b[0mof\u001b[0m \u001b[0mintegers\u001b[0m \u001b[0mSpectrum\u001b[0m\u001b[0;34m.\u001b[0m\u001b[0;34m\u001b[0m\u001b[0m\n\u001b[1;32m      4\u001b[0m      Output: The linear score of Peptide with respect to Spectrum, LinearScore(Peptide, Spectrum).\"\"\"\n\u001b[0;32m----> 5\u001b[0;31m     \u001b[0mspectrum_peptide\u001b[0m \u001b[0;34m=\u001b[0m \u001b[0mlinearSpectrum\u001b[0m\u001b[0;34m(\u001b[0m\u001b[0mpeptide\u001b[0m\u001b[0;34m)\u001b[0m\u001b[0;34m\u001b[0m\u001b[0m\n\u001b[0m\u001b[1;32m      6\u001b[0m     \u001b[0mc1\u001b[0m\u001b[0;34m,\u001b[0m \u001b[0mc2\u001b[0m \u001b[0;34m=\u001b[0m \u001b[0mCounter\u001b[0m\u001b[0;34m(\u001b[0m\u001b[0mspectrum_peptide\u001b[0m\u001b[0;34m)\u001b[0m\u001b[0;34m,\u001b[0m \u001b[0mCounter\u001b[0m\u001b[0;34m(\u001b[0m\u001b[0mspectrum\u001b[0m\u001b[0;34m)\u001b[0m\u001b[0;34m\u001b[0m\u001b[0m\n\u001b[1;32m      7\u001b[0m     \u001b[0;32mreturn\u001b[0m \u001b[0msum\u001b[0m\u001b[0;34m(\u001b[0m\u001b[0;34m[\u001b[0m\u001b[0mmin\u001b[0m\u001b[0;34m(\u001b[0m\u001b[0mn\u001b[0m\u001b[0;34m,\u001b[0m \u001b[0mc2\u001b[0m\u001b[0;34m[\u001b[0m\u001b[0mk\u001b[0m\u001b[0;34m]\u001b[0m\u001b[0;34m)\u001b[0m \u001b[0;32mfor\u001b[0m \u001b[0mk\u001b[0m\u001b[0;34m,\u001b[0m\u001b[0mn\u001b[0m \u001b[0;32min\u001b[0m \u001b[0mc1\u001b[0m\u001b[0;34m.\u001b[0m\u001b[0mitems\u001b[0m\u001b[0;34m(\u001b[0m\u001b[0;34m)\u001b[0m\u001b[0;34m]\u001b[0m\u001b[0;34m)\u001b[0m\u001b[0;34m\u001b[0m\u001b[0m\n",
      "\u001b[0;32m<ipython-input-14-4097eccf3c33>\u001b[0m in \u001b[0;36mlinearSpectrum\u001b[0;34m(peptide)\u001b[0m\n\u001b[1;32m      4\u001b[0m     \u001b[0mprefixMass\u001b[0m \u001b[0;34m=\u001b[0m \u001b[0;34m[\u001b[0m\u001b[0;36m0\u001b[0m\u001b[0;34m]\u001b[0m\u001b[0;34m*\u001b[0m\u001b[0;34m(\u001b[0m\u001b[0;34m(\u001b[0m\u001b[0mlen\u001b[0m\u001b[0;34m(\u001b[0m\u001b[0mpeptide\u001b[0m\u001b[0;34m)\u001b[0m\u001b[0;34m+\u001b[0m\u001b[0;36m1\u001b[0m\u001b[0;34m)\u001b[0m\u001b[0;34m)\u001b[0m\u001b[0;34m\u001b[0m\u001b[0m\n\u001b[1;32m      5\u001b[0m     \u001b[0;32mfor\u001b[0m \u001b[0mi\u001b[0m \u001b[0;32min\u001b[0m \u001b[0mrange\u001b[0m\u001b[0;34m(\u001b[0m\u001b[0mlen\u001b[0m\u001b[0;34m(\u001b[0m\u001b[0mpeptide\u001b[0m\u001b[0;34m)\u001b[0m\u001b[0;34m)\u001b[0m\u001b[0;34m:\u001b[0m\u001b[0;34m\u001b[0m\u001b[0m\n\u001b[0;32m----> 6\u001b[0;31m         \u001b[0mprefixMass\u001b[0m\u001b[0;34m[\u001b[0m\u001b[0mi\u001b[0m\u001b[0;34m+\u001b[0m\u001b[0;36m1\u001b[0m\u001b[0;34m]\u001b[0m \u001b[0;34m=\u001b[0m \u001b[0mprefixMass\u001b[0m\u001b[0;34m[\u001b[0m\u001b[0mi\u001b[0m\u001b[0;34m]\u001b[0m \u001b[0;34m+\u001b[0m \u001b[0maminoacidMass\u001b[0m\u001b[0;34m[\u001b[0m\u001b[0mpeptide\u001b[0m\u001b[0;34m[\u001b[0m\u001b[0mi\u001b[0m\u001b[0;34m]\u001b[0m\u001b[0;34m]\u001b[0m\u001b[0;34m\u001b[0m\u001b[0m\n\u001b[0m\u001b[1;32m      7\u001b[0m     \u001b[0;31m#print 'prefixMass', prefixMass\u001b[0m\u001b[0;34m\u001b[0m\u001b[0;34m\u001b[0m\u001b[0m\n\u001b[1;32m      8\u001b[0m     \u001b[0mlinear_spectrum\u001b[0m \u001b[0;34m=\u001b[0m \u001b[0;34m[\u001b[0m\u001b[0;36m0\u001b[0m\u001b[0;34m]\u001b[0m\u001b[0;34m\u001b[0m\u001b[0m\n",
      "\u001b[0;31mKeyError\u001b[0m: 'I'"
     ]
    }
   ],
   "source": [
    "#Call function\n",
    "linear_score(peptide2, spectrum2)"
   ]
  },
  {
   "cell_type": "code",
   "execution_count": 6,
   "metadata": {
    "collapsed": false
   },
   "outputs": [],
   "source": [
    "#Read input data\n",
    "with open('input/leaderboard.txt') as f:\n",
    "    n, spectrum = [int(line.strip()) if i==0 else map(int,line.strip().split()) for i, line in enumerate(f.readlines())]"
   ]
  },
  {
   "cell_type": "code",
   "execution_count": 10,
   "metadata": {
    "collapsed": false
   },
   "outputs": [],
   "source": [
    "scores = dict()\n",
    "# Build the intial peptides.\n",
    "seq = filter(lambda L: L[0] != -1, [[score_peptide(peptide,spectrum), peptide] for peptide in expand(aminoacidMass.keys())]) "
   ]
  },
  {
   "cell_type": "code",
   "execution_count": null,
   "metadata": {
    "collapsed": true
   },
   "outputs": [],
   "source": []
  }
 ],
 "metadata": {
  "kernelspec": {
   "display_name": "Python 2",
   "language": "python",
   "name": "python2"
  },
  "language_info": {
   "codemirror_mode": {
    "name": "ipython",
    "version": 2
   },
   "file_extension": ".py",
   "mimetype": "text/x-python",
   "name": "python",
   "nbconvert_exporter": "python",
   "pygments_lexer": "ipython2",
   "version": "2.7.5"
  }
 },
 "nbformat": 4,
 "nbformat_minor": 0
}
