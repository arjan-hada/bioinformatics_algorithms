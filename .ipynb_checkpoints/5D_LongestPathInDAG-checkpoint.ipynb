{
 "cells": [
  {
   "cell_type": "code",
   "execution_count": 38,
   "metadata": {
    "collapsed": false
   },
   "outputs": [
    {
     "data": {
      "text/plain": [
       "[(0, 14, 19),\n",
       " (0, 27, 9),\n",
       " (0, 28, 7),\n",
       " (0, 36, 8),\n",
       " (1, 3, 36),\n",
       " (1, 10, 4),\n",
       " (1, 41, 8),\n",
       " (1, 42, 31),\n",
       " (2, 9, 38),\n",
       " (2, 16, 27),\n",
       " (2, 23, 9),\n",
       " (2, 25, 1),\n",
       " (2, 31, 23),\n",
       " (3, 4, 4),\n",
       " (3, 16, 19),\n",
       " (3, 28, 2),\n",
       " (4, 20, 0),\n",
       " (4, 30, 11),\n",
       " (4, 43, 3),\n",
       " (5, 11, 37),\n",
       " (5, 12, 39),\n",
       " (5, 43, 37),\n",
       " (6, 14, 5),\n",
       " (6, 26, 32),\n",
       " (7, 10, 22),\n",
       " (8, 14, 28),\n",
       " (8, 30, 23),\n",
       " (10, 11, 5),\n",
       " (10, 22, 8),\n",
       " (10, 29, 13),\n",
       " (10, 31, 36),\n",
       " (10, 32, 4),\n",
       " (10, 33, 32),\n",
       " (10, 35, 35),\n",
       " (10, 37, 19),\n",
       " (10, 39, 30),\n",
       " (11, 31, 19),\n",
       " (11, 35, 20),\n",
       " (12, 13, 38),\n",
       " (12, 15, 29),\n",
       " (12, 30, 10),\n",
       " (12, 37, 12),\n",
       " (12, 38, 38),\n",
       " (12, 43, 5),\n",
       " (13, 35, 17),\n",
       " (13, 40, 32),\n",
       " (13, 41, 19),\n",
       " (14, 29, 13),\n",
       " (14, 30, 22),\n",
       " (14, 31, 25),\n",
       " (14, 35, 10),\n",
       " (14, 38, 23),\n",
       " (15, 21, 0),\n",
       " (15, 23, 0),\n",
       " (15, 30, 25),\n",
       " (15, 36, 28),\n",
       " (16, 41, 24),\n",
       " (17, 44, 11),\n",
       " (19, 20, 13),\n",
       " (19, 27, 21),\n",
       " (19, 34, 11),\n",
       " (20, 21, 29),\n",
       " (20, 23, 34),\n",
       " (20, 37, 24),\n",
       " (21, 35, 33),\n",
       " (21, 37, 5),\n",
       " (22, 24, 0),\n",
       " (22, 27, 31),\n",
       " (22, 34, 3),\n",
       " (22, 35, 37),\n",
       " (22, 37, 19),\n",
       " (23, 25, 37),\n",
       " (24, 25, 2),\n",
       " (24, 28, 2),\n",
       " (24, 30, 7),\n",
       " (24, 32, 19),\n",
       " (24, 38, 38),\n",
       " (24, 40, 37),\n",
       " (26, 28, 24),\n",
       " (27, 29, 13),\n",
       " (27, 36, 20),\n",
       " (28, 42, 29),\n",
       " (29, 44, 30),\n",
       " (30, 40, 27),\n",
       " (31, 33, 23),\n",
       " (31, 40, 17),\n",
       " (31, 43, 7),\n",
       " (32, 37, 29),\n",
       " (32, 38, 0),\n",
       " (32, 43, 4),\n",
       " (33, 35, 15),\n",
       " (33, 37, 22),\n",
       " (37, 38, 17),\n",
       " (39, 40, 35)]"
      ]
     },
     "execution_count": 38,
     "metadata": {},
     "output_type": "execute_result"
    }
   ],
   "source": [
    "f = open('input/longest_path_in_DAG.txt', 'r')\n",
    "a = f.read()\n",
    "a = a.strip().split('\\n')\n",
    "source = int(a[0])\n",
    "sink = int(a[1])\n",
    "node0 = [int(line.split('->')[0]) for line in a[2:]]\n",
    "interm = [line.split('->')[1] for line in a[2:]]\n",
    "node1 = [int(i.split(':')[0]) for i in interm]\n",
    "weight = [int(i.split(':')[1]) for i in interm]\n",
    "\n",
    "g = sorted(zip(node0, node1, weight))\n",
    "g"
   ]
  },
  {
   "cell_type": "code",
   "execution_count": 48,
   "metadata": {
    "collapsed": false
   },
   "outputs": [],
   "source": [
    "def longestPath(graph, source, sink):\n",
    "    s = {}\n",
    "    path = {}\n",
    "    for i in range(len(graph)):\n",
    "        s[graph[i][0]] = -float('inf')\n",
    "        s[graph[i][1]] = -float('inf')\n",
    "    s[source] = 0\n",
    "    for i in range(len(graph)):\n",
    "        if s[graph[i][1]] < s[graph[i][0]] + graph[i][2]:\n",
    "            s[graph[i][1]] = s[graph[i][0]] + graph[i][2]\n",
    "            path[graph[i][1]] = graph[i][0]\n",
    "    stack = [sink]\n",
    "    stack.append(path[sink])\n",
    "    return stack"
   ]
  },
  {
   "cell_type": "code",
   "execution_count": 49,
   "metadata": {
    "collapsed": false
   },
   "outputs": [
    {
     "data": {
      "text/plain": [
       "[44, 29]"
      ]
     },
     "execution_count": 49,
     "metadata": {},
     "output_type": "execute_result"
    }
   ],
   "source": [
    "longestPath(g, source, sink)"
   ]
  },
  {
   "cell_type": "code",
   "execution_count": null,
   "metadata": {
    "collapsed": true
   },
   "outputs": [],
   "source": []
  }
 ],
 "metadata": {
  "kernelspec": {
   "display_name": "Python 2",
   "language": "python",
   "name": "python2"
  },
  "language_info": {
   "codemirror_mode": {
    "name": "ipython",
    "version": 2
   },
   "file_extension": ".py",
   "mimetype": "text/x-python",
   "name": "python",
   "nbconvert_exporter": "python",
   "pygments_lexer": "ipython2",
   "version": "2.7.5"
  }
 },
 "nbformat": 4,
 "nbformat_minor": 0
}
