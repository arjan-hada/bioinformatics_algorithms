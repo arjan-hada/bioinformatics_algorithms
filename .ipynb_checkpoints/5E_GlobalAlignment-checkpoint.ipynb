{
 "cells": [
  {
   "cell_type": "code",
   "execution_count": 38,
   "metadata": {
    "collapsed": false
   },
   "outputs": [
    {
     "name": "stdout",
     "output_type": "stream",
     "text": [
      "['A', 'C', 'D', 'E', 'F', 'G', 'H', 'I', 'K', 'L', 'M', 'N', 'P', 'Q', 'R', 'S', 'T', 'V', 'W', 'Y']\n",
      "[[ 4  0 -2 -1 -2  0 -2 -1 -1 -1 -1 -2 -1 -1 -1  1  0  0 -3 -2]\n",
      " [ 0  9 -3 -4 -2 -3 -3 -1 -3 -1 -1 -3 -3 -3 -3 -1 -1 -1 -2 -2]\n",
      " [-2 -3  6  2 -3 -1 -1 -3 -1 -4 -3  1 -1  0 -2  0 -1 -3 -4 -3]\n",
      " [-1 -4  2  5 -3 -2  0 -3  1 -3 -2  0 -1  2  0  0 -1 -2 -3 -2]\n",
      " [-2 -2 -3 -3  6 -3 -1  0 -3  0  0 -3 -4 -3 -3 -2 -2 -1  1  3]\n",
      " [ 0 -3 -1 -2 -3  6 -2 -4 -2 -4 -3  0 -2 -2 -2  0 -2 -3 -2 -3]\n",
      " [-2 -3 -1  0 -1 -2  8 -3 -1 -3 -2  1 -2  0  0 -1 -2 -3 -2  2]\n",
      " [-1 -1 -3 -3  0 -4 -3  4 -3  2  1 -3 -3 -3 -3 -2 -1  3 -3 -1]\n",
      " [-1 -3 -1  1 -3 -2 -1 -3  5 -2 -1  0 -1  1  2  0 -1 -2 -3 -2]\n",
      " [-1 -1 -4 -3  0 -4 -3  2 -2  4  2 -3 -3 -2 -2 -2 -1  1 -2 -1]\n",
      " [-1 -1 -3 -2  0 -3 -2  1 -1  2  5 -2 -2  0 -1 -1 -1  1 -1 -1]\n",
      " [-2 -3  1  0 -3  0  1 -3  0 -3 -2  6 -2  0  0  1  0 -3 -4 -2]\n",
      " [-1 -3 -1 -1 -4 -2 -2 -3 -1 -3 -2 -2  7 -1 -2 -1 -1 -2 -4 -3]\n",
      " [-1 -3  0  2 -3 -2  0 -3  1 -2  0  0 -1  5  1  0 -1 -2 -2 -1]\n",
      " [-1 -3 -2  0 -3 -2  0 -3  2 -2 -1  0 -2  1  5 -1 -1 -3 -3 -2]\n",
      " [ 1 -1  0  0 -2  0 -1 -2  0 -2 -1  1 -1  0 -1  4  1 -2 -3 -2]\n",
      " [ 0 -1 -1 -1 -2 -2 -2 -1 -1 -1 -1  0 -1 -1 -1  1  5  0 -2 -2]\n",
      " [ 0 -1 -3 -2 -1 -3 -3  3 -2  1  1 -3 -2 -2 -3 -2  0  4 -3 -1]\n",
      " [-3 -2 -4 -3  1 -2 -2 -3 -3 -2 -1 -4 -4 -2 -3 -3 -2 -3 11  2]\n",
      " [-2 -2 -3 -2  3 -3  2 -1 -2 -1 -1 -2 -3 -1 -2 -2 -2 -1  2  7]]\n"
     ]
    }
   ],
   "source": [
    "import numpy as np\n",
    "f = open('input/BLOSUM62.txt', 'r')\n",
    "score = [line.strip().split() for line in f]\n",
    "alphabet = score[0]\n",
    "blosum62 = np.array([i[1:] for i in a[1:]], dtype = 'int')\n",
    "print alphabet\n",
    "print blosum62"
   ]
  },
  {
   "cell_type": "code",
   "execution_count": 39,
   "metadata": {
    "collapsed": false
   },
   "outputs": [
    {
     "data": {
      "text/plain": [
       "-3"
      ]
     },
     "execution_count": 39,
     "metadata": {},
     "output_type": "execute_result"
    }
   ],
   "source": [
    "blosum62[alphabet.index('A'), alphabet.index('W')]"
   ]
  },
  {
   "cell_type": "code",
   "execution_count": 40,
   "metadata": {
    "collapsed": false
   },
   "outputs": [
    {
     "data": {
      "text/plain": [
       "4"
      ]
     },
     "execution_count": 40,
     "metadata": {},
     "output_type": "execute_result"
    }
   ],
   "source": [
    "blosum62[alphabet.index('A'), alphabet.index('A')]"
   ]
  },
  {
   "cell_type": "code",
   "execution_count": 65,
   "metadata": {
    "collapsed": false
   },
   "outputs": [],
   "source": [
    "def globalAlignment(x, y, score, sigma):\n",
    "    D = np.zeros((len(x)+1, len(y)+1), dtype = 'int')\n",
    "    \n",
    "    for i in range(1, len(x) + 1):\n",
    "        D[i,0] = D[i-1,0] + sigma\n",
    "        \n",
    "    for j in range(1, len(y) + 1):\n",
    "        D[0,j] = D[0,j-1] + sigma  \n",
    "        \n",
    "    for i in range(1, len(x)+1):\n",
    "        for j in range(1, len(y)+1):\n",
    "            horz = D[i, j-1] + sigma\n",
    "            vert = D[i-1, j] + sigma\n",
    "            diag = D[i-1, j-1] + score[alphabet.index(x[i-1]), alphabet.index(y[j-1])]\n",
    "            D[i,j] = max(horz, vert, diag)\n",
    "    return D"
   ]
  },
  {
   "cell_type": "code",
   "execution_count": 66,
   "metadata": {
    "collapsed": false
   },
   "outputs": [
    {
     "data": {
      "text/plain": [
       "array([[  0,  -5, -10, -15, -20, -25, -30],\n",
       "       [ -5,  -2,  -6, -11, -16, -21, -26],\n",
       "       [-10,  -3,  -5,  -7, -12, -12, -17],\n",
       "       [-15,  -8,   2,  -3,  -7, -12, -14],\n",
       "       [-20, -13,  -3,   6,   1,  -4,  -9],\n",
       "       [-25, -18,  -8,   1,   7,   2,  -3],\n",
       "       [-30, -23, -13,  -4,   2,   6,   1],\n",
       "       [-35, -28, -18,  -9,   2,   1,   4],\n",
       "       [-40, -33, -23, -14,  -3,   1,  -1],\n",
       "       [-45, -38, -28, -19,  -8,   1,   0],\n",
       "       [-50, -43, -33, -24, -13,  -4,   8]])"
      ]
     },
     "execution_count": 66,
     "metadata": {},
     "output_type": "execute_result"
    }
   ],
   "source": [
    "globalAlignment('PLEASANTLY','MEANLY', blosum62, -5)"
   ]
  },
  {
   "cell_type": "code",
   "execution_count": null,
   "metadata": {
    "collapsed": true
   },
   "outputs": [],
   "source": []
  }
 ],
 "metadata": {
  "kernelspec": {
   "display_name": "Python 2",
   "language": "python",
   "name": "python2"
  },
  "language_info": {
   "codemirror_mode": {
    "name": "ipython",
    "version": 2
   },
   "file_extension": ".py",
   "mimetype": "text/x-python",
   "name": "python",
   "nbconvert_exporter": "python",
   "pygments_lexer": "ipython2",
   "version": "2.7.5"
  }
 },
 "nbformat": 4,
 "nbformat_minor": 0
}
