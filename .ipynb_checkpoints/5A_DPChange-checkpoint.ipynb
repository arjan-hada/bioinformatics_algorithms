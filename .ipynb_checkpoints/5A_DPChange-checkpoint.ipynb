{
 "cells": [
  {
   "cell_type": "code",
   "execution_count": 26,
   "metadata": {
    "collapsed": false
   },
   "outputs": [],
   "source": [
    "import numpy\n",
    "def changeDp(money, coins):\n",
    "    D = numpy.zeros((len(coins), (money + 1)), dtype = int)\n",
    "    # Initialize first row of the matrix\n",
    "    D[0,1:] = range(1, money + 1)\n",
    "    for i in range(1, len(coins)):\n",
    "        for j in range(0, money + 1):\n",
    "            if j < coins[i]:\n",
    "                D[i,j] = D[i-1,j]\n",
    "            else:\n",
    "                D[i,j] = min(D[i-1,j],\n",
    "                            D[i,j - coins[i]] + 1)\n",
    "    return D[-1][-1]"
   ]
  },
  {
   "cell_type": "code",
   "execution_count": 27,
   "metadata": {
    "collapsed": false
   },
   "outputs": [
    {
     "data": {
      "text/plain": [
       "3"
      ]
     },
     "execution_count": 27,
     "metadata": {},
     "output_type": "execute_result"
    }
   ],
   "source": [
    "changeDp(12, [1,4,5])"
   ]
  },
  {
   "cell_type": "code",
   "execution_count": 31,
   "metadata": {
    "collapsed": false
   },
   "outputs": [
    {
     "data": {
      "text/plain": [
       "2"
      ]
     },
     "execution_count": 31,
     "metadata": {},
     "output_type": "execute_result"
    }
   ],
   "source": [
    "coins = [50,25,20,10,5,1][::-1]\n",
    "changeDp(40, coins)"
   ]
  },
  {
   "cell_type": "code",
   "execution_count": 33,
   "metadata": {
    "collapsed": false
   },
   "outputs": [
    {
     "data": {
      "text/plain": [
       "735"
      ]
     },
     "execution_count": 33,
     "metadata": {},
     "output_type": "execute_result"
    }
   ],
   "source": [
    "coins = [1,3,5,11,20,21,22]\n",
    "changeDp(16164, coins)"
   ]
  }
 ],
 "metadata": {
  "kernelspec": {
   "display_name": "Python 2",
   "language": "python",
   "name": "python2"
  },
  "language_info": {
   "codemirror_mode": {
    "name": "ipython",
    "version": 2
   },
   "file_extension": ".py",
   "mimetype": "text/x-python",
   "name": "python",
   "nbconvert_exporter": "python",
   "pygments_lexer": "ipython2",
   "version": "2.7.5"
  }
 },
 "nbformat": 4,
 "nbformat_minor": 0
}
