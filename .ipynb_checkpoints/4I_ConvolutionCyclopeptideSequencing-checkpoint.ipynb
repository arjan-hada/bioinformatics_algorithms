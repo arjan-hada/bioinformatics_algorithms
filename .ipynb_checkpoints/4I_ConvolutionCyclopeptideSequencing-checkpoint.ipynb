{
 "cells": [
  {
   "cell_type": "code",
   "execution_count": 34,
   "metadata": {
    "collapsed": true
   },
   "outputs": [],
   "source": [
    "def expand(leaderboard, frequent_aa):\n",
    "    \"\"\"Expands each peptide/aminoacid in leaderboard by all 18 aminoacid masses.\"\"\"\n",
    "    return [i+(j,) for i in leaderboard for j in frequent_aa] "
   ]
  },
  {
   "cell_type": "code",
   "execution_count": 38,
   "metadata": {
    "collapsed": false
   },
   "outputs": [
    {
     "name": "stdout",
     "output_type": "stream",
     "text": [
      "[(129,), (137,), (71,), (99,), (57,), (194,)]\n",
      "[(129, 129), (129, 137), (129, 71), (129, 99), (129, 57), (129, 194), (137, 129), (137, 137), (137, 71), (137, 99), (137, 57), (137, 194), (71, 129), (71, 137), (71, 71), (71, 99), (71, 57), (71, 194), (99, 129), (99, 137), (99, 71), (99, 99), (99, 57), (99, 194), (57, 129), (57, 137), (57, 71), (57, 99), (57, 57), (57, 194), (194, 129), (194, 137), (194, 71), (194, 99), (194, 57), (194, 194)]\n"
     ]
    }
   ],
   "source": [
    "x = expand([()], [129, 137, 71, 99, 57, 194])\n",
    "print x\n",
    "print expand(x, [129, 137, 71, 99, 57, 194])"
   ]
  },
  {
   "cell_type": "code",
   "execution_count": 42,
   "metadata": {
    "collapsed": true
   },
   "outputs": [],
   "source": [
    "def cyclicSpectrum(peptide):\n",
    "    \"\"\"Input: (aminoacid masses)\n",
    "     Output: The cyclic spectrum of Peptide.\"\"\"\n",
    "    prefixMass = [0]*((len(peptide)+1))\n",
    "    for i in range(len(peptide)):\n",
    "        prefixMass[i+1] = prefixMass[i] + peptide[i]\n",
    "    peptideMass = prefixMass[len(peptide)]\n",
    "    cyclic_spectrum = [0]\n",
    "    for i in range(len(prefixMass)-1):\n",
    "        for j in range(i+1, len(prefixMass)):\n",
    "            cyclic_spectrum.append(prefixMass[j] - prefixMass[i])\n",
    "            if i > 0 and j < (len(prefixMass)-1):\n",
    "                cyclic_spectrum.append(peptideMass - (prefixMass[j] - prefixMass[i]))\n",
    "    return sorted(cyclic_spectrum) "
   ]
  },
  {
   "cell_type": "code",
   "execution_count": 41,
   "metadata": {
    "collapsed": false
   },
   "outputs": [
    {
     "data": {
      "text/plain": [
       "[0, 113, 114, 128, 129, 227, 242, 242, 257, 355, 356, 370, 371, 484]"
      ]
     },
     "execution_count": 41,
     "metadata": {},
     "output_type": "execute_result"
    }
   ],
   "source": [
    "cyclicSpectrum((113,129,128,114))"
   ]
  },
  {
   "cell_type": "code",
   "execution_count": null,
   "metadata": {
    "collapsed": true
   },
   "outputs": [],
   "source": [
    "from collections import Counter\n",
    "def score_peptide(peptide, spectrum):\n",
    "    \"\"\"Cyclopeptide Scoring Problem: Compute the score of a cyclic peptide against a spectrum.\n",
    "     Input: (aa masses) and a collection of integers Spectrum. \n",
    "     Output: The score of Peptide against Spectrum, Score(Peptide, Spectrum).\"\"\"\n",
    "    spectrum_peptide = cyclicSpectrum(peptide)\n",
    "    c1, c2 = Counter(spectrum_peptide), Counter(spectrum)\n",
    "    return sum([min(n, c2[k]) for k,n in c1.items()])"
   ]
  },
  {
   "cell_type": "code",
   "execution_count": 44,
   "metadata": {
    "collapsed": false
   },
   "outputs": [
    {
     "data": {
      "text/plain": [
       "11"
      ]
     },
     "execution_count": 44,
     "metadata": {},
     "output_type": "execute_result"
    }
   ],
   "source": [
    "score_peptide((114,128,129,113), [0, 99, 113, 114, 128, 227, 257, 299, 355, 356, 370, 371, 484])"
   ]
  },
  {
   "cell_type": "code",
   "execution_count": 45,
   "metadata": {
    "collapsed": false
   },
   "outputs": [
    {
     "data": {
      "text/plain": [
       "1"
      ]
     },
     "execution_count": 45,
     "metadata": {},
     "output_type": "execute_result"
    }
   ],
   "source": [
    "score_peptide((), [0, 99, 113, 114, 128, 227, 257, 299, 355, 356, 370, 371, 484])"
   ]
  },
  {
   "cell_type": "code",
   "execution_count": null,
   "metadata": {
    "collapsed": true
   },
   "outputs": [],
   "source": [
    "def linearSpectrum(peptide):\n",
    "    \"\"\"Input: An amino acid string Peptide.\n",
    "     Output: The linear spectrum of Peptide.\"\"\"\n",
    "    prefixMass = [0]*((len(peptide)+1))\n",
    "    for i in xrange(len(peptide)):\n",
    "        prefixMass[i+1] = prefixMass[i] + peptide[i]\n",
    "    #print 'prefixMass', prefixMass\n",
    "    linear_spectrum = [0]\n",
    "    for i in xrange(len(prefixMass)-1):\n",
    "        for j in xrange(i+1, len(prefixMass)):\n",
    "            linear_spectrum.append(prefixMass[j] - prefixMass[i])\n",
    "    return sorted(linear_spectrum) \n",
    "\n",
    "def score_linear_peptide(peptide, spectrum):\n",
    "    \"\"\"Compute the score of a linear peptide with respect to a spectrum.\n",
    "     Input: An amino acid string Peptide and a collection of integers Spectrum.\n",
    "     Output: The linear score of Peptide with respect to Spectrum, LinearScore(Peptide, Spectrum).\"\"\"\n",
    "    spectrum_linear_peptide = linearSpectrum(peptide)\n",
    "    c3, c4 = Counter(spectrum_linear_peptide), Counter(spectrum)\n",
    "    return sum([min(n, c4[k]) for k,n in c3.items()])\n"
   ]
  },
  {
   "cell_type": "code",
   "execution_count": 46,
   "metadata": {
    "collapsed": false
   },
   "outputs": [
    {
     "data": {
      "text/plain": [
       "8"
      ]
     },
     "execution_count": 46,
     "metadata": {},
     "output_type": "execute_result"
    }
   ],
   "source": [
    "score_linear_peptide((114,128,129,113), [0, 99, 113, 114, 128, 227, 257, 299, 355, 356, 370, 371, 484])"
   ]
  },
  {
   "cell_type": "code",
   "execution_count": null,
   "metadata": {
    "collapsed": true
   },
   "outputs": [],
   "source": [
    "def trim_leaderboard(leaderboard, spectrum, N):\n",
    "    \"\"\"Input: A collection of peptides Leaderboard, a collection of integers Spectrum, and an integer N.\n",
    "     Output: The N highest-scoring linear peptides on Leaderboard with respect to Spectrum.\"\"\"\n",
    "    scores =  [[score_linear_peptide(peptide, spectrum), peptide] for peptide in leaderboard]\n",
    "    sorted_scores = sorted(scores, reverse = True)\n",
    "    if len(leaderboard) <= N:\n",
    "        return [i[1] for i in sorted_scores]\n",
    "    else:\n",
    "        return [i[1] for i in sorted_scores if i[0] >= sorted_scores[int(N)-1][0]]"
   ]
  },
  {
   "cell_type": "code",
   "execution_count": null,
   "metadata": {
    "collapsed": true
   },
   "outputs": [],
   "source": [
    "trim_leaderboard(['LAST', 'ALST', 'TLLT', 'TQAS'], [0, 71, 87, 101, 113, 158, 184, 188, 259, 271, 372], 2)"
   ]
  },
  {
   "cell_type": "code",
   "execution_count": 1,
   "metadata": {
    "collapsed": true
   },
   "outputs": [],
   "source": [
    "def convolution(spectrum):\n",
    "    \n",
    "    \"\"\"Input: A collection of integers Spectrum.\n",
    "     Output: The list of elements in the convolution of Spectrum. If an element has\n",
    "     multiplicity k, it should appear exactly k times; you may return the elements in any order.\"\"\"\n",
    "    \n",
    "    spectrum = sorted(spectrum)\n",
    "    return [i-j for i in spectrum for j in spectrum if i-j > 0]   "
   ]
  },
  {
   "cell_type": "code",
   "execution_count": 26,
   "metadata": {
    "collapsed": false
   },
   "outputs": [],
   "source": [
    "from collections import Counter\n",
    "def convolution_cyclopeptide_sequencing(M, N, spectrum):\n",
    "    \n",
    "    #Get the sorted convolution\n",
    "    convoluted_spectrum = sorted(convolution(spectrum))\n",
    "    \n",
    "    #Select elements from convolution betweeen 57 and 200\n",
    "    aa = [i for i in convoluted_spectrum if 57<=i<=200]\n",
    "    \n",
    "    #Select the M most frequent elements between 57 and 200 in the convolution with ties\n",
    "    if len(aa) < M:\n",
    "        frequent_aa = aa\n",
    "    else:\n",
    "        c = Counter(aa).most_common()\n",
    "        frequent_aa = [k for (k,v) in c if v >= c[M-1][1]]\n",
    "    return frequent_aa"
   ]
  },
  {
   "cell_type": "code",
   "execution_count": 27,
   "metadata": {
    "collapsed": false
   },
   "outputs": [
    {
     "name": "stdout",
     "output_type": "stream",
     "text": [
      "[(129, 7), (137, 7), (71, 7), (99, 7), (57, 6), (194, 5), (170, 5), (186, 5), (58, 4), (79, 4), (91, 4), (95, 4), (113, 4), (115, 4), (128, 2), (136, 2), (148, 2), (151, 2), (156, 2), (157, 2), (162, 2), (166, 2), (171, 2), (200, 2), (178, 2), (65, 2), (66, 2), (72, 2), (80, 2), (87, 2), (109, 2), (123, 2), (153, 1), (77, 1), (105, 1), (121, 1)]\n",
      "[129, 137, 71, 99, 57, 194, 170, 186, 58, 79, 91, 95, 113, 115, 128, 136, 148, 151, 156, 157, 162, 166, 171, 200, 178, 65, 66, 72, 80, 87, 109, 123]\n"
     ]
    }
   ],
   "source": [
    "print convolution_cyclopeptide_sequencing(20, 60, [57, 57, 71, 99, 129, 137, 170, 186, 194, 208, 228, 265, 285, 299, 307, 323, 356, 364, 394, 422, 493])"
   ]
  },
  {
   "cell_type": "code",
   "execution_count": 32,
   "metadata": {
    "collapsed": false
   },
   "outputs": [
    {
     "data": {
      "text/plain": [
       "(65,)"
      ]
     },
     "execution_count": 32,
     "metadata": {},
     "output_type": "execute_result"
    }
   ],
   "source": [
    "() + (65,)"
   ]
  },
  {
   "cell_type": "code",
   "execution_count": 31,
   "metadata": {
    "collapsed": false
   },
   "outputs": [
    {
     "name": "stdout",
     "output_type": "stream",
     "text": [
      "6\n",
      "5\n",
      "6\n",
      "6\n"
     ]
    }
   ],
   "source": [
    "for i in '6566':\n",
    "    print i"
   ]
  },
  {
   "cell_type": "code",
   "execution_count": null,
   "metadata": {
    "collapsed": true
   },
   "outputs": [],
   "source": []
  }
 ],
 "metadata": {
  "kernelspec": {
   "display_name": "Python 2",
   "language": "python",
   "name": "python2"
  },
  "language_info": {
   "codemirror_mode": {
    "name": "ipython",
    "version": 2
   },
   "file_extension": ".py",
   "mimetype": "text/x-python",
   "name": "python",
   "nbconvert_exporter": "python",
   "pygments_lexer": "ipython2",
   "version": "2.7.5"
  }
 },
 "nbformat": 4,
 "nbformat_minor": 0
}
