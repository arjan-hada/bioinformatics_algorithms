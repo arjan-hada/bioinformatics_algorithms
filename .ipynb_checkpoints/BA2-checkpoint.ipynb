{
 "cells": [
  {
   "cell_type": "markdown",
   "metadata": {},
   "source": [
    "## Which DNA patterns serve as a molecular clock?"
   ]
  },
  {
   "cell_type": "markdown",
   "metadata": {},
   "source": [
    "The daily schedules of animals, plants, and even bacteria are controlled by an internal timekeeper called the circadian clock. Anyone who has experienced the misery of jet lag knows that this clock never stops ticking. Rats and research volunteers alike, when placed in a bunker, naturally maintain a roughly 24-hour cycle of activity and rest in total darkness. And, like any timepiece, the circadian clock can malfunction, resulting in a genetic disease known as delayed sleep-phase syndrome (DSPS).\n",
    "\n",
    "The circadian clock must have some basis on the molecular level, which presents many questions. How do individual cells in animals and plants, let alone bacteria, know when they should slow down or increase the production of certain proteins? Is there a “clock gene”? Can we explain why heart attacks occur more often in the morning, while asthma attacks are more common at night? And can we identify genes that are responsible for “breaking” the circadian clock to cause DSPS?\n",
    "\n",
    "In the early 1970s, Ron Konopka and Seymour Benzer identified mutant flies with abnormal circadian patterns and traced the flies’ mutations to a single gene. Biologists needed two more decades to discover a similar clock gene in mammals, which was just the first piece of the puzzle. Today, many more circadian genes have been discovered; these genes, having names like timeless, clock, and cycle, orchestrate the behavior of hundreds of other genes and display a high degree of evolutionary conservation across species.\n",
    "\n",
    "We will first focus on plants, since maintaining the circadian clock in plants is a matter of life and death. Consider how many plant genes should pay attention to the time when the sun rises and sets; indeed, biologists estimate that over a thousand plant genes are circadian, including the genes related to photosynthesis, photo reception, and flowering. These genes must somehow know what time it is in order to change their gene transcript production, or gene expression, throughout the day."
   ]
  },
  {
   "cell_type": "markdown",
   "metadata": {},
   "source": [
    "It turns out that every plant cell keeps track of day and night independently of other cells, and that just three plant genes, called LCY, CCA1, and TOC1, are the clock’s master timekeepers. Such regulatory genes, and the regulatory proteins that they encode, are often controlled by external factors (e.g., nutrient availability or sunlight) in order to allow organisms to adjust their gene expression.\n",
    "\n",
    "For example, regulatory proteins controlling the circadian clock in plants coordinate circadian activity as follows. TOC1 promotes the expression of LCY and CCA1, whereas LCY and CCA1 repress the expression of TOC1, resulting in a negative feedback loop. In the morning, sunlight activates the transcription of LCY and CCA1, triggering the repression of TOC1 transcription. As light diminishes, so does the production of LCY and CCA1, which in turn do not repress TOC1 any more. Transcription of TOC1 peaks at night and starts promoting the transcription of LCY and CCA1, which in turn repress the transcription of TOC1, and the cycle begins again.\n",
    "\n",
    "LCY, CCA1, and TOC1 are able to control the transcription of other genes because the regulatory proteins that they encode are transcription factors, or master regulatory proteins that turn other genes on and off. A transcription factor regulates a gene by binding to a specific short DNA interval called a regulatory motif, or transcription factor binding site, in the gene's upstream region, a 600-1000 nucleotide-long region preceding the start of the gene. For example, CCA1 binds to AAAAAATCT in the upstream region of many genes regulated by CCA1.\n",
    "\n",
    "The life of a bioinformatician would be easy if regulatory motifs were completely conserved, but the reality is more complex, as regulatory motifs may vary at some positions, e.g., CCA1 may instead bind to AAGAACTCT. But how can we locate these regulatory motifs without knowing what they look like in advance? We need to develop algorithms for motif finding, the problem of discovering a “hidden message” shared by a collection of strings."
   ]
  },
  {
   "cell_type": "markdown",
   "metadata": {},
   "source": [
    "### Motif Enumeration "
   ]
  },
  {
   "cell_type": "markdown",
   "metadata": {},
   "source": [
    "#A brute force algorithm for motif finding\n",
    "\n",
    "Given a collection of strings Dna and an integer d, a k-mer is a (k,d)-motif if it appears in every string from Dna with at most d mismatches. For example, the implanted 15-mer in the strings above represents a (15,4)-motif.\n",
    "\n",
    "Implanted Motif Problem: Find all (k, d)-motifs in a collection of strings.\n",
    "     Input: A collection of strings Dna, and integers k and d.\n",
    "     Output: All (k, d)-motifs in Dna.\n",
    "\n",
    "Brute force (also known as exhaustive search) is a general problem-solving technique that explores all possible solution candidates and checks whether each candidate solves the problem. Such algorithms require little effort to design and are guaranteed to produce a correct solution, but they may take an enormous amount of time, and the number of candidates may be too large to check.\n",
    "\n",
    "A brute force approach for solving the Implanted Motif Problem is based on the observation that any (k, d)-motif must be at most d mismatches apart from some k-mer appearing in one of the strings of Dna. Therefore, we can generate all such k-mers and then check which of them are (k, d)-motifs. If you have forgotten how to generate these k-mers, take a look at CHARGING STATION:Generating the Neighborhood of a String."
   ]
  },
  {
   "cell_type": "code",
   "execution_count": 1,
   "metadata": {
    "collapsed": true
   },
   "outputs": [],
   "source": [
    "def hammingDistance(x,y):\n",
    "    nmm = 0\n",
    "    for i in xrange(len(x)):\n",
    "        if x[i] != y[i]:\n",
    "            nmm += 1\n",
    "    return nmm"
   ]
  },
  {
   "cell_type": "code",
   "execution_count": 2,
   "metadata": {
    "collapsed": true
   },
   "outputs": [],
   "source": [
    "#Approximate matching\n",
    "def approximatePatternMatching(p, t, maxDistance):\n",
    "    \"\"\"Boolean function that returns whether or not pattern appears in text with d mismatches\"\"\"\n",
    "    occurences = False\n",
    "    for i in xrange(len(t) - len(p) + 1): #loop through every position in t where p could start\n",
    "        nmm = 0\n",
    "        match = True\n",
    "        for j in xrange(len(p)): #Loop over characters\n",
    "            if t[i+j] != p[j]: #Compare characters\n",
    "                nmm += 1 #mismatch\n",
    "                if nmm > maxDistance: #exceed max hamming distance\n",
    "                    break\n",
    "        if nmm <= maxDistance:\n",
    "            occurences = True #approximate match\n",
    "            break\n",
    "    return occurences "
   ]
  },
  {
   "cell_type": "code",
   "execution_count": 3,
   "metadata": {
    "collapsed": false
   },
   "outputs": [
    {
     "data": {
      "text/plain": [
       "False"
      ]
     },
     "execution_count": 3,
     "metadata": {},
     "output_type": "execute_result"
    }
   ],
   "source": [
    "p = 'AAAA'\n",
    "t = 'AGCCTGATCGTATGAAT'\n",
    "approximatePatternMatching(p, t, 1)"
   ]
  },
  {
   "cell_type": "code",
   "execution_count": 4,
   "metadata": {
    "collapsed": true
   },
   "outputs": [],
   "source": [
    "def neighbors(pattern, d):\n",
    "    '''Neighbors generates all k-mers of Hamming distance at most d from Pattern.'''\n",
    "    if d == 0:\n",
    "        return {pattern}\n",
    "    if len(pattern) == 0:\n",
    "        return {}\n",
    "    if len(pattern) == 1:\n",
    "        return {'A', 'C', 'G', 'T'}\n",
    "    neighborhood = set()\n",
    "    suffixneighbors = neighbors(pattern[1:], d)\n",
    "    for text in suffixneighbors:\n",
    "        if hammingDistance(text, pattern[1:]) < d:\n",
    "            for nt in ['A', 'C', 'G', 'T']:\n",
    "                neighborhood.add(nt + text)\n",
    "        else:\n",
    "            neighborhood.add(pattern[0] + text)\n",
    "    return neighborhood     "
   ]
  },
  {
   "cell_type": "code",
   "execution_count": 5,
   "metadata": {
    "collapsed": true
   },
   "outputs": [],
   "source": [
    "def occurInAll(dna, pattern, d):\n",
    "    occurence = True\n",
    "    for string in dna:\n",
    "        if approximatePatternMatching(pattern, string, d) == False:\n",
    "            occurence = False\n",
    "            break\n",
    "    return occurence"
   ]
  },
  {
   "cell_type": "code",
   "execution_count": 6,
   "metadata": {
    "collapsed": false
   },
   "outputs": [
    {
     "data": {
      "text/plain": [
       "True"
      ]
     },
     "execution_count": 6,
     "metadata": {},
     "output_type": "execute_result"
    }
   ],
   "source": [
    "dna = ['ATTTGGC', 'TGCCTTA', 'CGGTATC', 'GAAAATT']\n",
    "occurInAll(dna, 'TTT', 1)"
   ]
  },
  {
   "cell_type": "code",
   "execution_count": 7,
   "metadata": {
    "collapsed": false
   },
   "outputs": [],
   "source": [
    "def motifEnumeration(dna, k, d):\n",
    "    '''Input: Integers k and d, followed by a collection of strings dna.\n",
    "       Output: All (k, d)-motifs in dna.'''\n",
    "    patterns = set()\n",
    "    neighborhood = set()\n",
    "    for string in dna:\n",
    "        for i in range(len(string) -k + 1):\n",
    "            pattern = string[i:i+k]\n",
    "            neighborhood = neighbors(pattern,d)\n",
    "            for pattern in neighborhood:\n",
    "                if occurInAll(dna, pattern, d):\n",
    "                    patterns.add(pattern)\n",
    "    return patterns"
   ]
  },
  {
   "cell_type": "code",
   "execution_count": 8,
   "metadata": {
    "collapsed": false
   },
   "outputs": [
    {
     "data": {
      "text/plain": [
       "'ATT TTT GTT ATA'"
      ]
     },
     "execution_count": 8,
     "metadata": {},
     "output_type": "execute_result"
    }
   ],
   "source": [
    "dna = ['ATTTGGC', 'TGCCTTA', 'CGGTATC', 'GAAAATT']\n",
    "x = motifEnumeration(dna, 3, 1)\n",
    "' '.join(str(i) for i in x)"
   ]
  },
  {
   "cell_type": "markdown",
   "metadata": {},
   "source": [
    "### Motif finding problem"
   ]
  },
  {
   "cell_type": "markdown",
   "metadata": {},
   "source": [
    "We can construct the 4 × k count matrix Count(Motifs) counting the number of occurrences of each nucleotide in each column of the motif matrix; the (i, j)-th element of Count(Motifs) stores the number of times that nucleotide i appears in column j of Motifs. We will further divide all of the elements in the count matrix by t, the number of rows in Motifs. This results in a profile matrix P = Profile(Motifs) for which Pi,j is the frequency of the i-th nucleotide in the j-th column of the motif matrix. Note that the elements of any column of the profile matrix sum to 1. The figure below shows the motif, count, and profile matrices for the NF-κB binding sites.\n",
    "\n",
    "Motifs \n",
    "\n",
    "              T   C   G   G   G   G   g   T   T   T   t   t           \n",
    "              c   C   G   G   t   G   A   c   T   T   a   C\n",
    "              a   C   G   G   G   G   A   T   T   T   t   C\n",
    "              T   t   G   G   G   G   A   c   T   T   t   t\n",
    "              a   a   G   G   G   G   A   c   T   T   C   C\n",
    "              T   t   G   G   G   G   A   c   T   T   C   C\n",
    "              T   C   G   G   G   G   A   T   T   c   a   t\n",
    "              T   C   G   G   G   G   A   T   T   c   C   t\n",
    "              T   a   G   G   G   G   A   a   c   T   a   C\n",
    "              T   C   G   G   G   t   A   T   a   a   C   C\n",
    "\n",
    "Score\n",
    "\n",
    "              3 + 4 + 0 + 0 + 1 + 1 + 1 + 5 + 2 + 3 + 6 + 4 = 30     \n",
    "\n",
    "Count \n",
    "\n",
    "         A:   2   2   0   0   0   0   9   1   1   1   3   0          \n",
    "         C:   1   6   0   0   0   0   0   4   1   2   4   6  \n",
    "         G:   0   0  10  10   9   9   1   0   0   0   0   0  \n",
    "         T:   7   2   0   0   1   1   0   5   8   7   3   4  \n",
    "\n",
    "Profile\n",
    "\n",
    "          A:  .2  .2   0   0   0   0  .9  .1  .1  .1  .3   0            \n",
    "          C:  .1  .6   0   0   0   0   0  .4  .1  .2  .4  .6  \n",
    "          G:   0   0   1   1  .9  .9  .1   0   0   0   0   0  \n",
    "          T:  .7  .2   0   0  .1  .1   0  .5  .8  .7  .3  .4  \n",
    "          \n",
    "Consensus        \n",
    " \n",
    "               T   C   G   G   G   G   A   T   T   T   C   C    "
   ]
  },
  {
   "cell_type": "markdown",
   "metadata": {},
   "source": [
    "Entropy is a measure of the uncertainty of a probability distribution ($p_1, …, p_N$), and is defined as follows:\n",
    "\n",
    "<b> Entropy </b> <br />\n",
    "$H_(p_1,…,p_N) = − \\displaystyle\\sum_{i=1}^N p_i log_2 p_i$\n",
    "\n"
   ]
  },
  {
   "cell_type": "markdown",
   "metadata": {},
   "source": [
    "The entropy of the completely conserved third column is 0, which is the minimum possible entropy. On the other hand, a column with equally-likely nucleotides (all probabilities equal to 1/4) has maximum possible entropy −4 · 1/4 · log2(1/4) = 2. In general, the more conserved the column, the smaller its entropy. Thus, entropy offers an improved method of scoring motif matrices: the entropy of a motif matrix is defined as the sum of the entropies of its columns. In this book, we will continue to use Score(Motifs) for simplicity, but the entropy score is used more often in practice."
   ]
  },
  {
   "cell_type": "markdown",
   "metadata": {},
   "source": [
    "Now that we have a good grasp of scoring a collection of k-mers, we are ready to formulate the Motif Finding Problem.\n",
    "\n",
    "Motif Finding Problem: Given a collection of strings, find a set of k-mers, one from each string, that minimizes the score of the resulting motif.\n",
    "     Input: A collection of strings Dna and an integer k.\n",
    "     Output: A collection Motifs of k-mers, one from each string in Dna, minimizing Score(Motifs) among\n",
    "     all possible choices of k-mers.\n",
    "\n",
    "A brute force algorithm for the Motif Finding Problem (referred to as BRUTEFORCEMOTIFSEARCH) considers every possible choice of k-mers Motifs from Dna (one k-mer from each string of n nucleotides) and returns the collection Motifs having minimum score. Because there are n - k + 1 choices of k-mers in each of t sequences, there are (n - k + 1)^t different ways to form Motifs. For each choice of Motifs, the algorithm calculates Score(Motifs), which requires k · t steps. Thus, assuming that k is smaller than n, the overall running time of the algorithm is O(nt · k · t). We need to come up with a faster algorithm!"
   ]
  },
  {
   "cell_type": "code",
   "execution_count": 9,
   "metadata": {
    "collapsed": true
   },
   "outputs": [],
   "source": [
    "def distanceBetwnPatternAndStrings(pattern, dna):\n",
    "    \"\"\"  Input: A string Pattern followed by a collection of strings Dna.\n",
    "     Output: d(Pattern, Dna).\"\"\"\n",
    "    k = len(pattern)\n",
    "    dist = 0\n",
    "    for string in dna:\n",
    "        hammingDist = float('Inf')\n",
    "        for i in range(len(string) -k + 1):\n",
    "            kmer = string[i:i+k]\n",
    "            hDist = hammingDistance(pattern, kmer)\n",
    "            if hammingDist > hDist:\n",
    "                hammingDist = hDist\n",
    "        dist += hammingDist\n",
    "    return dist"
   ]
  },
  {
   "cell_type": "code",
   "execution_count": 10,
   "metadata": {
    "collapsed": false
   },
   "outputs": [
    {
     "data": {
      "text/plain": [
       "5"
      ]
     },
     "execution_count": 10,
     "metadata": {},
     "output_type": "execute_result"
    }
   ],
   "source": [
    "dna = ['TTACCTTAAC', 'GATATCTGTC', 'ACGGCGTTCG', 'CCCTAAAGAG', 'CGTCAGAGGT']\n",
    "distanceBetwnPatternAndStrings('AAA', dna)"
   ]
  },
  {
   "cell_type": "code",
   "execution_count": 75,
   "metadata": {
    "collapsed": false
   },
   "outputs": [],
   "source": [
    "def readFile(filename):\n",
    "    f = open(filename)\n",
    "    for line in f:\n",
    "        line = line.rstrip()\n",
    "        string = line.split()\n",
    "    return string"
   ]
  },
  {
   "cell_type": "code",
   "execution_count": 76,
   "metadata": {
    "collapsed": false
   },
   "outputs": [
    {
     "data": {
      "text/plain": [
       "['GCCCCGACGTCGGTATGCTTGCGATTGGCCCGCCTGCGAGTCAAGGTGAAGTCTAGACAACATATATCGCGACAGGCTGGATCAGTGCAGACCTCAGGTGACCCCCGT',\n",
       " 'AGCGTAAGGAACTATGTCGCCTAAGAGGCGTCTGGTTGACCTGACTACTATAGGATGTATAACCGCCATACGAGTAAGATTACCCAGAGATCCATATCTGATTGCATC',\n",
       " 'AACCCTGGCTTCGTGCCGCCGACTTCCTCAATGGTGGAGGAATCAAGATATCAGTTTCCATTGATGATTGCTGTCACGGCCATCTCTGTGGTAGTGGACTAGCCACTC',\n",
       " 'GTATGGAAGCTAGCGCCTCTTATAAACGATAAACTAAACATATAAGATCAGCCCCGGTTACAATAACGTAATATGGGTCGACCTTCAAGAACTGATACGGTCCGATGA',\n",
       " 'GCTGCGACATCCTAATACCCCTTCGCCGCGAGTGGACTCCAAAAGCGCAGTAGAGACAGTCTTAAGGTCACGACTTCTCCTTATCGCGTGCAAAGCCACCCGATAACA',\n",
       " 'TTCATTAACGGCCTTGATGAAAGTTCATGATTGTCGAATTGGCTTGCTCAGCTAATTATGGGCCGAGCGCCGGGCACCCACCGCAGATGGGGAATCTGGGTGCAGCTC',\n",
       " 'GGGAACGTCGTAACCGGTAGTATTGTGTCGTACCACAGCCCTTATCAGAAAGGGAAGCCTCTGAATGAAGGCACCACGGAGTGCTTCGACTCACACCCGGACCCAAAT',\n",
       " 'AGTCTGTGTGGACATGAGATCAACTGTGCAATGACGCACACCGGTGAGTGAAATGCATTTACTTTGGAAGGAATAACAGGAAGTTGCTAGCCTGTGTGAGATAAAAGA',\n",
       " 'GTGCGTCATTCTCGACTGCGATGAGAGTGTCTCTGCTATAAACACCTGACAGCATTTTCACCTCGGCTTGCCGGATGTGAATAAAGGGGAGGTTTCGCCTTCGGTTTG',\n",
       " 'GCTTCAGCTGCATGATGGTCTAGAAAACATAGTTGAGTGCGTTGTCGCACAGAGATTATATGTGCTGATTGCGTTATACTATCGCCCTAGGGGGTTTGAATCGGCTAT',\n",
       " 'ATGGTCGAAGGAAGTGTATGGGCCGACCTTCCACGCTCTCGAACCTATACAAAACGATGCGTAAGTCCGGGCCGTCACCGCTTTCTGCTAGGATGATCTACTAGTACC',\n",
       " 'CCTTGTTCCTCCACGGGAAATCGAAGAGGCGTACATTCACGCTCTTTCACGCAAAACTCGTTGATTCTGATATGCCATAGGGGGTACTCTAGCTGATGAATCACCAAG',\n",
       " 'TGGTTTTACTATATTTCATATCCGATGGGTTTCTCGCTTCAGGTCCCTGCATGGGCGCCCCAGTTCCCTTGCGTGTGCTCAAAGGATCTGTGTCATAGTCTGCAAGTA',\n",
       " 'AAACCTGTGAAATTGTACGAAGAGGGCCCTGATAAGTGGCAATCGGCTAGCAAAAGAAATGGGATCCCTACCTATCTAAGTGAAACGCGCCTCGTGTCAGGACTTCAT',\n",
       " 'TTGCCGTCCCCAGAATCTGGATCCTCCAGTAACGCGTATCTGTCTGTTCGCTGTGATAAGATGCCCCATGTGCAGTATGCTATAAATCTTCCTCATAGGTAGGGGTCA',\n",
       " 'GCCCCCCGGCCGACACTGTCCTATCGAGAGAGAGAGCGCATATGAGGGCTTACCATCGTCCGTGGTTAAATTGCTATGGCTTGCTCCAAGCCGTTCCAGGTAGATGCG',\n",
       " 'CCTACTGCAGTAGTTACCTTAACTCACGTCGCGTAACCTAAAGCAGGTTACCAATTACGTATTAAAGACGGTCCCCCCGTGGGGGAGGTTCTTATCGGATTGTTCACT',\n",
       " 'CCGGTAAAGACAAAAAAGCGTAATTATCTGTAGAGCCCCCGTGCCGAGAGGCGCTTCTTATGCTTGAATTTCGGCCGGCCCCTAGAGTCGCCGAGTAGTCTCGGCGAC',\n",
       " 'CACAAGTGGCTGTGTATCCTGGCCCTATGGTGGAACTAGAAATGGCGAACGTCATGACGGCAGTAAATTCTGCGTCTCAGATACTTCAATTAATCAATAGAGGAGTGG',\n",
       " 'GTTGCATAATTTCTTTCCTAAGTAATGACCGCGATACTCTGAAAAATCTCATATCGGTGATGCGGCGGCATGGCCCACGGTGCGCGCCTCCTAGTTTGAGCTTGTAGA',\n",
       " 'CCTTGTGCGTCTTGGAACGGTTGGTGATGGCTACTCAAAACAACTCACAATAGAAATTTGCTCTGTTCCACCGCGACGCCTTGGCTCTGAACCATCCGCTTACATGAC',\n",
       " 'GTGGGGCCTATATTGTTTCATTCTTCACCAATTGCGAACCGATACTTGGTCGGAGCTCCTCATAAGTCTGTTTTCAGAGCTGGTCGCCCCTCTCGAAGTGCACTAGCA',\n",
       " 'TCCGCCCATCTGCGATAGGTGGTCCAGAAACAATGATGGACGTATTCATTGCTGGTATCAAATAACGGCTGTTATCTTGCCAGGATGCTAGCCTACAGCCGCGCTTAG',\n",
       " 'GCAATCCGTCGCTTTCATAGCAAATCTGCATGTCATAAATTCTATATATACTAACACGGAGATGCAGCTGTGCACGGTGAGGCGTTTGTGTTCTTTCCTCCCAGTTCG',\n",
       " 'GGAATAAGGTCGTCGCTGCGGTTTACTATTCCGAACATCCGCGACGATCAAGGCATCGCAAGCTAGACCTATGCACGTTGGGTAAGATAGCCGGTGGTGAACGAGGCT',\n",
       " 'AAATAATGAGTAGAGACGAGCAACACTGTTGCTTTAAGACGCCAAATCAGTTTGCAAGGCGTAAGATATCAAGAGAGAAGGCTCCACCCGCCACCCCGAAGGACACAT',\n",
       " 'GTCAGACATCAACCGTACCGCGGCCTTTAACCGGTTTCAATCCTTGAGGGGGCTAGGTCCATGCCCGGTAATACCCACATGCGTTCCTGCGCCTGTGGTCGGGGGCAG',\n",
       " 'TTGATACGGCTGGGATGCGGTTACATGTCACATTGCTGAACGGACAGCAGGGATAAGGGAACAACCCAGACCCGGGGGCGTCATCCCCCGAGTTTCGGTGGAAGACTG',\n",
       " 'TGTGGTGAAGTACGATGCGTCATTGTACGTAAAGGCGAGCAGAACTTCCCGTAATGACCTTCTCGATTAGTAGGGACGAAGTCACACGGGGGCATGTGCTAGTGAGCT',\n",
       " 'AAGCAATCAAAGTTGTGGGTGACCCCAGATAGCGGTCCGTTATTGAGCGCAATGTTAACAGATCCACAGTGAGGAAGGGTTCGCTTCTCTTTGGGGAAGGTATATTGG',\n",
       " 'AATTATGGTCGCTTCACCAGTCGCAAATCCCACTTCCATCCATTCAAGACTTTACCAGCCCGCACACTCTCCAGTGAAATCTACAATGCTAGCCCTTAAAACTTACAA']"
      ]
     },
     "execution_count": 76,
     "metadata": {},
     "output_type": "execute_result"
    }
   ],
   "source": [
    "dna = readFile('dist.txt')\n",
    "dna"
   ]
  },
  {
   "cell_type": "code",
   "execution_count": 48,
   "metadata": {
    "collapsed": false
   },
   "outputs": [
    {
     "data": {
      "text/plain": [
       "68"
      ]
     },
     "execution_count": 48,
     "metadata": {},
     "output_type": "execute_result"
    }
   ],
   "source": [
    "distanceBetwnPatternAndStrings('GGCTTAG', dna)"
   ]
  },
  {
   "cell_type": "code",
   "execution_count": 14,
   "metadata": {
    "collapsed": true
   },
   "outputs": [],
   "source": [
    "def patternToNumber(Pattern):\n",
    "    symbolToNumber = {'A':0, 'C':1, 'G':2, 'T':3}\n",
    "    n = len(Pattern)\n",
    "    if n == 0:\n",
    "        return 0\n",
    "    elif n == 1:\n",
    "        return symbolToNumber[Pattern]\n",
    "    else:\n",
    "        return 4*patternToNumber(Pattern[:-1]) + symbolToNumber[Pattern[-1]]"
   ]
  },
  {
   "cell_type": "code",
   "execution_count": 15,
   "metadata": {
    "collapsed": true
   },
   "outputs": [],
   "source": [
    "def numberToPattern(n, kmer):\n",
    "    numberToSymbol = {0:'A', 1:'C', 2:'G', 3:'T'}\n",
    "    pattern = ''\n",
    "    while n > 0:\n",
    "        remainder = n%4\n",
    "        pattern = numberToSymbol[remainder] + pattern\n",
    "        n = n/4\n",
    "    if kmer - len(pattern) == 0:\n",
    "        return pattern\n",
    "    else:\n",
    "        return (kmer - len(pattern))*'A' + pattern"
   ]
  },
  {
   "cell_type": "code",
   "execution_count": 16,
   "metadata": {
    "collapsed": true
   },
   "outputs": [],
   "source": [
    "def medianString(dna, k):\n",
    "    \"\"\" Input: An integer k, followed by a collection of strings Dna.\n",
    "     Output: A k-mer Pattern that minimizes d(Pattern, Dna) among all k-mers Pattern. (If there are\n",
    "     multiple such strings Pattern, then you may return any one.)\"\"\"\n",
    "    \n",
    "    dist = float('Inf')\n",
    "    median = None\n",
    "    for i in range(4**k):\n",
    "        pattern = numberToPattern(i,k)\n",
    "        distance = distanceBetwnPatternAndStrings(pattern, dna)\n",
    "        if dist > distance:\n",
    "            dist = distance\n",
    "            median = pattern\n",
    "    return median"
   ]
  },
  {
   "cell_type": "code",
   "execution_count": 17,
   "metadata": {
    "collapsed": false
   },
   "outputs": [
    {
     "data": {
      "text/plain": [
       "'GAC'"
      ]
     },
     "execution_count": 17,
     "metadata": {},
     "output_type": "execute_result"
    }
   ],
   "source": [
    "dna = ['AAATTGACGCAT', 'GACGACCACGTT', 'CGTCAGCGCCTG', 'GCTGAGCACCGG', 'AGTTCGGGACAG']\n",
    "medianString(dna, 3)"
   ]
  },
  {
   "cell_type": "code",
   "execution_count": 79,
   "metadata": {
    "collapsed": false
   },
   "outputs": [
    {
     "data": {
      "text/plain": [
       "['ATACATGAGAGAATGCTGCGTTTTGCTAAAGCTCAATCGTAA',\n",
       " 'GAATGGGCTAACCACACTATGATGTTGACGTCTTGGACCATT',\n",
       " 'CAATGCCGCGCCGGGAAGTTATAGATTCGTATGCTGCAAGTC',\n",
       " 'ATGATGGTCCAATAGGTCCCGTTCGACAAAGATCAGCATGCC',\n",
       " 'ATGATGCAACCATCGTCTCTACAGGACCGGAACCTAATAACT',\n",
       " 'GTGTAAATGGTGACCTTCATATAATACTTGGCAAGGCACCAA',\n",
       " 'GGAAAAAGAAACACGATAATGTTGGACCAACTGCCCGTTGAG',\n",
       " 'ATGTTGAATACTAACTGATAGTTCCCGTCCCTATAGTCTTAT',\n",
       " 'GCAGGGGTCGCATGCTTTACTCATCGAGTATAAAGAATGATG',\n",
       " 'TAGGTCGCCGGCATGTTTTTCCAGATGCTGCTGAAAACCCCT']"
      ]
     },
     "execution_count": 79,
     "metadata": {},
     "output_type": "execute_result"
    }
   ],
   "source": [
    "dna = [line.strip() for line in open('median_string.txt', 'r')]\n",
    "dna"
   ]
  },
  {
   "cell_type": "code",
   "execution_count": 80,
   "metadata": {
    "collapsed": false
   },
   "outputs": [
    {
     "data": {
      "text/plain": [
       "'ATGATG'"
      ]
     },
     "execution_count": 80,
     "metadata": {},
     "output_type": "execute_result"
    }
   ],
   "source": [
    "medianString(dna, 6)"
   ]
  },
  {
   "cell_type": "markdown",
   "metadata": {},
   "source": [
    "Why have we reformulated the Motif Finding Problem?\n",
    "\n",
    "To see why we reformulated the Motif Finding Problem as the equivalent Median String Problem, consider the runtime of MEDIANSTRING and BRUTEFORCEMOTIFSEARCH. The former algorithm computes d(Pattern, Dna) for each of the 4k k-mers Pattern. Each computation of d(Pattern, Dna) requires a single pass over each string in Dna, which requires approximately k · n · t operations for t strings of length n in Dna. Therefore, MEDIANSTRING has a running time of O(4k · n · k · t), which in practice compares favorably with the O(nt · k · t) running time of BRUTEFORCEMOTIFSEARCH because the length of a motif (k) typically does not exceed 20 nucleotides, whereas t is measured in the thousands.\n",
    "\n",
    "The Median String Problem teaches an important lesson, which is that sometimes rethinking how a problem is formulated can lead to dramatic improvements in the runtime required to solve it. In this case, our simple observation that Score(Motifs) could just as easily be computed row-by-row as column-by-column produced the faster MEDIANSTRING algorithm.\n",
    "\n",
    "Of course, the ultimate test of a bioinformatics algorithm is how it performs in practice. Unfortunately, since MEDIANSTRING has to consider 4k k-mers, it becomes too slow for the Subtle Motif Problem, for which k = 15. We will run MEDIANSTRING with k = 13 in the hope that it will capture a substring of the correct 15-mer motif. The algorithm still requires half a day to run on our computer and returns the median string AAAAAtAGaGGGG (with distance 29). This 13-mer is not a substring of the implanted pattern AAAAAAAAGGGGGGG. but it does come close.\n",
    "\n",
    "STOP and Think: How can a slightly incorrect median string of length 13 help us find the correct median string of length 15?\n",
    "\n",
    "We have thus far assumed that the value of k is known in advance, which is not the case in practice. As a result, we are forced to run our motif finding algorithms for different values of k and then try to deduce the correct motif length. Since some regulatory motifs are rather long — later in the chapter, we will search for a biologically important motif of length 20 — MEDIANSTRING may be too slow to find them."
   ]
  }
 ],
 "metadata": {
  "kernelspec": {
   "display_name": "Python 2",
   "language": "python",
   "name": "python2"
  },
  "language_info": {
   "codemirror_mode": {
    "name": "ipython",
    "version": 2
   },
   "file_extension": ".py",
   "mimetype": "text/x-python",
   "name": "python",
   "nbconvert_exporter": "python",
   "pygments_lexer": "ipython2",
   "version": "2.7.5"
  }
 },
 "nbformat": 4,
 "nbformat_minor": 0
}
