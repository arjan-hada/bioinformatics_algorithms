{
 "cells": [
  {
   "cell_type": "code",
   "execution_count": 3,
   "metadata": {
    "collapsed": false
   },
   "outputs": [
    {
     "data": {
      "text/plain": [
       "array([[  4.,   0.,  -2.,  -1.,  -2.,   0.,  -2.,  -1.,  -1.,  -1.,  -1.,\n",
       "         -2.,  -1.,  -1.,  -1.,   1.,   0.,   0.,  -3.,  -2.],\n",
       "       [  0.,   9.,  -3.,  -4.,  -2.,  -3.,  -3.,  -1.,  -3.,  -1.,  -1.,\n",
       "         -3.,  -3.,  -3.,  -3.,  -1.,  -1.,  -1.,  -2.,  -2.],\n",
       "       [ -2.,  -3.,   6.,   2.,  -3.,  -1.,  -1.,  -3.,  -1.,  -4.,  -3.,\n",
       "          1.,  -1.,   0.,  -2.,   0.,  -1.,  -3.,  -4.,  -3.],\n",
       "       [ -1.,  -4.,   2.,   5.,  -3.,  -2.,   0.,  -3.,   1.,  -3.,  -2.,\n",
       "          0.,  -1.,   2.,   0.,   0.,  -1.,  -2.,  -3.,  -2.],\n",
       "       [ -2.,  -2.,  -3.,  -3.,   6.,  -3.,  -1.,   0.,  -3.,   0.,   0.,\n",
       "         -3.,  -4.,  -3.,  -3.,  -2.,  -2.,  -1.,   1.,   3.],\n",
       "       [  0.,  -3.,  -1.,  -2.,  -3.,   6.,  -2.,  -4.,  -2.,  -4.,  -3.,\n",
       "          0.,  -2.,  -2.,  -2.,   0.,  -2.,  -3.,  -2.,  -3.],\n",
       "       [ -2.,  -3.,  -1.,   0.,  -1.,  -2.,   8.,  -3.,  -1.,  -3.,  -2.,\n",
       "          1.,  -2.,   0.,   0.,  -1.,  -2.,  -3.,  -2.,   2.],\n",
       "       [ -1.,  -1.,  -3.,  -3.,   0.,  -4.,  -3.,   4.,  -3.,   2.,   1.,\n",
       "         -3.,  -3.,  -3.,  -3.,  -2.,  -1.,   3.,  -3.,  -1.],\n",
       "       [ -1.,  -3.,  -1.,   1.,  -3.,  -2.,  -1.,  -3.,   5.,  -2.,  -1.,\n",
       "          0.,  -1.,   1.,   2.,   0.,  -1.,  -2.,  -3.,  -2.],\n",
       "       [ -1.,  -1.,  -4.,  -3.,   0.,  -4.,  -3.,   2.,  -2.,   4.,   2.,\n",
       "         -3.,  -3.,  -2.,  -2.,  -2.,  -1.,   1.,  -2.,  -1.],\n",
       "       [ -1.,  -1.,  -3.,  -2.,   0.,  -3.,  -2.,   1.,  -1.,   2.,   5.,\n",
       "         -2.,  -2.,   0.,  -1.,  -1.,  -1.,   1.,  -1.,  -1.],\n",
       "       [ -2.,  -3.,   1.,   0.,  -3.,   0.,   1.,  -3.,   0.,  -3.,  -2.,\n",
       "          6.,  -2.,   0.,   0.,   1.,   0.,  -3.,  -4.,  -2.],\n",
       "       [ -1.,  -3.,  -1.,  -1.,  -4.,  -2.,  -2.,  -3.,  -1.,  -3.,  -2.,\n",
       "         -2.,   7.,  -1.,  -2.,  -1.,  -1.,  -2.,  -4.,  -3.],\n",
       "       [ -1.,  -3.,   0.,   2.,  -3.,  -2.,   0.,  -3.,   1.,  -2.,   0.,\n",
       "          0.,  -1.,   5.,   1.,   0.,  -1.,  -2.,  -2.,  -1.],\n",
       "       [ -1.,  -3.,  -2.,   0.,  -3.,  -2.,   0.,  -3.,   2.,  -2.,  -1.,\n",
       "          0.,  -2.,   1.,   5.,  -1.,  -1.,  -3.,  -3.,  -2.],\n",
       "       [  1.,  -1.,   0.,   0.,  -2.,   0.,  -1.,  -2.,   0.,  -2.,  -1.,\n",
       "          1.,  -1.,   0.,  -1.,   4.,   1.,  -2.,  -3.,  -2.],\n",
       "       [  0.,  -1.,  -1.,  -1.,  -2.,  -2.,  -2.,  -1.,  -1.,  -1.,  -1.,\n",
       "          0.,  -1.,  -1.,  -1.,   1.,   5.,   0.,  -2.,  -2.],\n",
       "       [  0.,  -1.,  -3.,  -2.,  -1.,  -3.,  -3.,   3.,  -2.,   1.,   1.,\n",
       "         -3.,  -2.,  -2.,  -3.,  -2.,   0.,   4.,  -3.,  -1.],\n",
       "       [ -3.,  -2.,  -4.,  -3.,   1.,  -2.,  -2.,  -3.,  -3.,  -2.,  -1.,\n",
       "         -4.,  -4.,  -2.,  -3.,  -3.,  -2.,  -3.,  11.,   2.],\n",
       "       [ -2.,  -2.,  -3.,  -2.,   3.,  -3.,   2.,  -1.,  -2.,  -1.,  -1.,\n",
       "         -2.,  -3.,  -1.,  -2.,  -2.,  -2.,  -1.,   2.,   7.]])"
      ]
     },
     "execution_count": 3,
     "metadata": {},
     "output_type": "execute_result"
    }
   ],
   "source": [
    "import numpy as np\n",
    "f = open('input/blosum62_affine.txt', 'r')\n",
    "score = [line.strip().split() for line in f]\n",
    "alphabet = score[0]\n",
    "blosum62 = np.array([i[1:] for i in score[1:]], dtype = np.float64)"
   ]
  },
  {
   "cell_type": "code",
   "execution_count": 14,
   "metadata": {
    "collapsed": true
   },
   "outputs": [],
   "source": [
    "def affine_globalAlign(x, y, score_matrix, sigma, epsilon):\n",
    "    lower = np.zeros((len(x) + 1, len(y) + 1), dtype = np.float64)\n",
    "    middle = np.zeros((len(x) + 1, len(y) + 1), dtype = np.float64)\n",
    "    upper = np.zeros((len(x) + 1, len(y) + 1), dtype = np.float64)\n",
    "    \n",
    "    for i in xrange(1, len(x) + 1):\n",
    "        lower[i,0] = -sigma -(i-1)*epsilon\n",
    "        middle[i,0] = -sigma -(i-1)*epsilon\n",
    "        upper[i,0] = -float('inf')\n",
    "    \n",
    "    for j in xrange(1, len(y) + 1):\n",
    "        lower[0,j] = -float('inf')\n",
    "        middle[0,j] = -sigma -(j-1)*epsilon\n",
    "        upper[0,j] = -sigma -(j-1)*epsilon\n",
    "        \n",
    "    for i in xrange(1, len(x)+1):\n",
    "        for j in xrange(1, len(y)+1):\n",
    "            lower[i, j] = max(lower[i-1, j] - epsilon, middle[i-1, j] - sigma)\n",
    "            upper[i, j] = max(upper[i, j-1] - epsilon, middle[i, j-1] - sigma)\n",
    "            middle[i, j] = max(lower[i, j], \n",
    "                               middle[i-1, j-1] + score_matrix[alphabet.index(x[i-1]), alphabet.index(y[j-1])], \n",
    "                               upper[i, j])\n",
    "                  \n",
    "    return lower, middle, upper"
   ]
  },
  {
   "cell_type": "code",
   "execution_count": 18,
   "metadata": {
    "collapsed": false
   },
   "outputs": [
    {
     "name": "stdout",
     "output_type": "stream",
     "text": [
      "lower [[  0. -inf -inf -inf -inf -inf -inf -inf -inf -inf]\n",
      " [-11. -22. -23. -24. -25. -26. -27. -28. -29. -30.]\n",
      " [-12.  -4. -15. -16. -17. -18. -19. -20. -21. -22.]\n",
      " [-13.  -5.   1. -10. -11. -12. -13. -14. -15. -16.]\n",
      " [-14.  -6.   0.   6.  -5.  -6.  -7.  -8.  -9. -10.]\n",
      " [-15.  -7.  -1.   5.   3.  -6.  -6.  -2. -10.  -9.]\n",
      " [-16.  -8.  -2.   4.   2.   0.  -7.  -3.   2.  -9.]\n",
      " [-17.  -9.  -3.   3.   1.  -1.   1.  -4.   1.   8.]]\n",
      "middle [[  0. -11. -12. -13. -14. -15. -16. -17. -18. -19.]\n",
      " [-11.   7.  -4.  -5.  -6.  -7.  -8.  -9. -10. -11.]\n",
      " [-12.  -4.  12.   1.   0.  -1.  -2.  -3.  -4.  -5.]\n",
      " [-13.  -5.   1.  17.   6.   5.   4.   3.   2.   1.]\n",
      " [-14.  -6.   0.   6.  14.   5.   5.   9.   0.   2.]\n",
      " [-15.  -7.  -1.   5.   3.  11.   3.   2.  13.   2.]\n",
      " [-16.  -8.  -2.   4.   2.   1.  12.   3.   2.  19.]\n",
      " [-17.  -9.  -3.   3.   1.   1.   5.  12.   1.   8.]]\n",
      "upper [[  0. -11. -12. -13. -14. -15. -16. -17. -18. -19.]\n",
      " [-inf -22.  -4.  -5.  -6.  -7.  -8.  -9. -10. -11.]\n",
      " [-inf -23. -15.   1.   0.  -1.  -2.  -3.  -4.  -5.]\n",
      " [-inf -24. -16. -10.   6.   5.   4.   3.   2.   1.]\n",
      " [-inf -25. -17. -11.  -5.   3.   2.   1.   0.  -1.]\n",
      " [-inf -26. -18. -12.  -6.  -7.   0.  -1.  -2.   2.]\n",
      " [-inf -27. -19. -13.  -7.  -8.  -9.   1.   0.  -1.]\n",
      " [-inf -28. -20. -14.  -8.  -9. -10.  -6.   1.   0.]]\n"
     ]
    }
   ],
   "source": [
    "x = 'PRTEINS'\n",
    "y = 'PRTWPSEIN'\n",
    "lower, middle, upper = affine_globalAlign(x, y, blosum62, 11, 1)\n",
    "print 'lower', lower\n",
    "print 'middle', middle\n",
    "print 'upper', upper"
   ]
  },
  {
   "cell_type": "code",
   "execution_count": 27,
   "metadata": {
    "collapsed": true
   },
   "outputs": [],
   "source": [
    "import numpy as np\n",
    "def traceback(lower, middle, upper, x, y, score_matrix, sigma, epsilon):\n",
    "    #get i,j for maximal cell\n",
    "    i, j = np.unravel_index(np.argmax(middle), middle.shape)\n",
    "    alx, aly = [], []\n",
    "    max_score = None\n",
    "    while (i > 0 or j > 0) and middle[i,j] != 0:\n",
    "        if max_score is None or max_score is ms:\n",
    "            ls = lower[i,j]\n",
    "            us = upper[i,j]\n",
    "            ms = middle[i-1, j-1] + score_matrix[alphabet.index(x[i-1]), alphabet.index(y[j-1])]\n",
    "            if ms >= ls and ms >= us:\n",
    "                alx.append(x[i-1]); aly.append(y[j-1])\n",
    "                i -= 1; j -= 1 \n",
    "                max_score = ms\n",
    "            elif ls >= us:\n",
    "                alx.append(x[i-1]); aly.append('-')\n",
    "                max_score = ls\n",
    "            else:\n",
    "                alx.append('-'); aly.append(y[j-1])\n",
    "                max_score = us\n",
    "        elif max_score == ls:\n",
    "            ls = lower[i-1, j] - epsilon\n",
    "            ms = middle[i-1, j] - sigma\n",
    "            if ms >= ls:\n",
    "                alx.append(x[i-1]); aly.append(y[j])\n",
    "                i -= 1\n",
    "                max_score = ms\n",
    "            else:\n",
    "                alx.append(x[i-1]); aly.append('-')\n",
    "                max_score = ls\n",
    "        elif max_score == us:\n",
    "            us = upper[i, j-1] - epsilon\n",
    "            ms = middle[i, j-1] - sigma\n",
    "            if ms >= us:\n",
    "                alx.append(x[i]); aly.append(y[j-1]) \n",
    "                j -= 1\n",
    "                max_score = ms\n",
    "            else:\n",
    "                alx.append('-'); aly.append(y[j-1])\n",
    "                max_score = us\n",
    "    alignment = map(lambda x: ''.join(x), [alx[::-1], aly[::-1]])\n",
    "    return alignment"
   ]
  },
  {
   "cell_type": "code",
   "execution_count": null,
   "metadata": {
    "collapsed": false
   },
   "outputs": [],
   "source": [
    "x = 'PRTEINS'\n",
    "y = 'PRTWPSEIN'\n",
    "traceback(lower, middle, upper, x, y, blosum62, 11, 1)"
   ]
  },
  {
   "cell_type": "code",
   "execution_count": null,
   "metadata": {
    "collapsed": true
   },
   "outputs": [],
   "source": []
  }
 ],
 "metadata": {
  "kernelspec": {
   "display_name": "Python 2",
   "language": "python",
   "name": "python2"
  },
  "language_info": {
   "codemirror_mode": {
    "name": "ipython",
    "version": 2
   },
   "file_extension": ".py",
   "mimetype": "text/x-python",
   "name": "python",
   "nbconvert_exporter": "python",
   "pygments_lexer": "ipython2",
   "version": "2.7.5"
  }
 },
 "nbformat": 4,
 "nbformat_minor": 0
}
