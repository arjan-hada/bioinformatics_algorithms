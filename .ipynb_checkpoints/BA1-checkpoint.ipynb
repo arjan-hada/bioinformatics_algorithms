{
 "cells": [
  {
   "cell_type": "markdown",
   "metadata": {},
   "source": [
    "## Where in the genome does DNA replication begin ?"
   ]
  },
  {
   "cell_type": "code",
   "execution_count": 1,
   "metadata": {
    "collapsed": false
   },
   "outputs": [
    {
     "name": "stdout",
     "output_type": "stream",
     "text": [
      "--2015-09-20 11:39:23--  https://stepic.org/media/attachments/lessons/2/Vibrio_cholerae.txt\n",
      "Resolving stepic.org... 54.194.188.166\n",
      "Connecting to stepic.org|54.194.188.166|:443... connected.\n",
      "HTTP request sent, awaiting response... 200 OK\n",
      "Length: 1108251 (1.1M) [text/plain]\n",
      "Saving to: `Vibrio_cholerae.txt'\n",
      "\n",
      "100%[======================================>] 1,108,251    184K/s   in 6.8s    \n",
      "\n",
      "2015-09-20 11:39:32 (160 KB/s) - `Vibrio_cholerae.txt' saved [1108251/1108251]\n",
      "\n"
     ]
    }
   ],
   "source": [
    "#' '.join(str(i) for i in array)\n",
    "!wget https://stepic.org/media/attachments/lessons/2/Vibrio_cholerae.txt"
   ]
  },
  {
   "cell_type": "code",
   "execution_count": 4,
   "metadata": {
    "collapsed": true
   },
   "outputs": [],
   "source": [
    "def PatternCount(text, pattern):\n",
    "    \"\"\"Given: {DNA strings}} Text and Pattern. Return: Count(Text, Pattern).\"\"\"\n",
    "    count = 0\n",
    "    for i in range(len(text) - len(pattern) + 1):\n",
    "        match = True\n",
    "        for j in range(len(pattern)):\n",
    "            if text[i+j] != pattern[j]:\n",
    "                match = False\n",
    "        if match:\n",
    "            count += 1\n",
    "    return count      "
   ]
  },
  {
   "cell_type": "code",
   "execution_count": 5,
   "metadata": {
    "collapsed": false
   },
   "outputs": [
    {
     "data": {
      "text/plain": [
       "2"
      ]
     },
     "execution_count": 5,
     "metadata": {},
     "output_type": "execute_result"
    }
   ],
   "source": [
    "PatternCount('GCGCG', 'GCG')"
   ]
  },
  {
   "cell_type": "code",
   "execution_count": 6,
   "metadata": {
    "collapsed": false,
    "scrolled": true
   },
   "outputs": [
    {
     "data": {
      "text/plain": [
       "27"
      ]
     },
     "execution_count": 6,
     "metadata": {},
     "output_type": "execute_result"
    }
   ],
   "source": [
    "text = 'AATTCTTAGTGTATTCTTACATTCTTAATTCTTAAGCCGGCATTCTTATTATTCTTAATTCTTACAATTCTTACGTATTCTTATGATTCTTAATTCTTAAATTCTTAATGACGTCGATTCTTAGCTATTCTTAAGATTCTTAATTCTTAGATTCTTAGAAGTGCATTAACGCCATTCTTAATTCTTAGCGATTCTTATTCAATTCTTACCAATTCTTACAATTCTTATGATTCTTAAGGAATTCTTATATTCTTACGATTCTTATCAGATTCTTATCAATTCTTAATTCTTACCCGATTCTTAACAGCGTCCATTCTTAGCAAGCATATTCTTAGATTCTTAATTCTTAATTCTTAATTCTTAATTCTTAAGGGATTCTTATTGTGTATTCTTAACTCGGCGATTCTTATATTCTTACCAACCGACATTCTTATAGATTCTTAATTCTTACTATTCTTAAAACCCATTCTTATATTCTTAATTCTTAATTCTTATCATTCTTATTATTCTTAGGTCAGGGCTTATTCTTAATTCTTAATTCTTAAAGAACCATTCTTACATTCTTATATTCTTATTTATTCTTAATTCTTATGAATTCTTAGGCCGTAATTCTTAATTCTTATACCGAATTCTTACGGCAGATTCTTAATTCTTATTATTCTTAATTCTTACAGTCCACATTCTTATAATCATAGGATTCTTAATTCTTAGATTCTTATGTGGGTATTCTTAGGATTGGGTATTCTTATGAGAAATTCTTATATTCTTAATTCTTACTTGTCTGCATTCTTACAATTCTTAATTCTTAAGCATTCTTAATTCAGCCACTACAAAAATTCTTAATCATTCTTACCTATTCTTAATTCTTAGGGGCTAATTCTTAAGGAATTCTTAAATTCTTATTAACCCACTCTAAGACATTAGCATTCTTAATTCTTA'\n",
    "pattern = 'ATTCTTAAT'\n",
    "PatternCount(text, pattern)"
   ]
  },
  {
   "cell_type": "code",
   "execution_count": 29,
   "metadata": {
    "collapsed": false
   },
   "outputs": [
    {
     "data": {
      "text/plain": [
       "30"
      ]
     },
     "execution_count": 29,
     "metadata": {},
     "output_type": "execute_result"
    }
   ],
   "source": [
    "text = 'GAACTCTGTTAAACTCTGCCAACTCTGAGGAACTCTGGTCCCCGAACTCTGCAGGTCTAAACTCTGTAACTCTGTCTGAACTCTGCGGAACTCTGCCCAACTCTGAAACTCTGGTGAAACTCTGAACTCTGCTGAACTCTGTTACTAACTCTGCACTCCCTATGCAGCGAACTCTGCGGTGTAGGAACTCTGGGAAACTCTGGCACAACTCTGTCAACTCTGGTGAAACTCTGAACTCTGAACTCTGAACTCTGTGTAACTCTGTGCAAAACTCTGGGTGAACTCTGCATTGGCCGAATCAATCTAACTCTGCAACTCTGAACTCTGCCAAACTCTGCCAAAAACTCTGGAAACTCTGAAACTCTGGCAACTCTGTTGACTTGGAACTCTGAAACTCTGTTGCCAAACTCTGAACTCTGTGCCAACTCTGCGCTAAACTCTGAACTCTGATGCCAACTCTGAACTCTGTCGGAACTCTGGAGAACTCTGTGTTCCCAAACTCTGCTAACTCTGGTAACTCTGAACTCTGCGGACAAGTCAACTCTGCAACTAACTCTGCAACTCTGAACTCTGAACTCTGCCTAACTCTGCAACTCTGAACTCTGTATAAACTCTGAACTCTGTTTGGCCTTCGCCCCAAACTCTGGAACTCTGATATTATAGCCCCTGGTTAACTCTGAAACTCTGAACTCTGAGAGAACTCTGGAGAACTCTGAACTCTGCCAACTCTGAACTCTGTCACCAACTCTGTGGTCGAACTCTGAACTCTGGACAACTCTGCCAACTCCCAACTCTGAAAACTCTGAACTCTGTACAGAACTCTGACCGTGGAACTCTGAGCCCAGTAACTCTGGCCAGTAACTCTGAAACTCTGATTAACTCTGAAACTCTGAACTCTGAACTCTGGTTAACTCTGAAACTCTGTAGAACTCTGAAACTCTGATGGAAACTCTGCGAACTCTGCAACTCTGGAACTCTGAACTCTGGGAACTCTGGGCAACTCTG'\n",
    "pattern = 'AACTCTGAA'\n",
    "PatternCount(text, pattern)"
   ]
  },
  {
   "cell_type": "code",
   "execution_count": 14,
   "metadata": {
    "collapsed": false
   },
   "outputs": [
    {
     "data": {
      "text/plain": [
       "38"
      ]
     },
     "execution_count": 14,
     "metadata": {},
     "output_type": "execute_result"
    }
   ],
   "source": [
    "text = 'CCAGCGTTTTGCAATAGCGTTTAGCGTTTAGCGTTTGCCAAGCGTTTACCAGCGTTTAAGCGTTTTAAAAGCGTTTCGCAGTAGCGTTTAGCGTTTAGCGTTTGTTAGCGTTTACCTGAGCGTTTATGAGCGTTTTCAGCGTTTGGCGGAGCGTTTAGCGTTTAAGCGTTTGGTGGGATAGCGTTTAGCGTTTATGAAGCGTTTCGTAGAGCGTTTGAGCGTTTGAGCGTTTACAGCGTTTAAGCGTTTAGCGTTTAGCGTTTATAGCGTTTGAGCGTTTGAGAGTAGCGTTTGGTAAGCGTTTAGCGTTTCCATGAGCGTTTGGTAGGCCCAGCGTTTAGCGTTTAGCGTTTAGCGTTTCTCCCTAGCGTTTATAGCGTTTAGCGTTTTTGAATAGCGTTTCAGCGTTTGCCTATCAGAGCGTTTAGCGTTTGGTAGCGTTTAAAGCGTTTTCAGCGTTTAGCGTTTAGCGTTTAAGACGACCAGCGTTTCTTAGAAGCGTTTCACTAGCGTTTAGCGTTTAGTCTGGGTTAGCGTTTAGCGTTTAGCGTTTCAGCGTTTAGCGTTTGTTAGCGTTTAGCGTTTAGCGTTTATGTGAAGCGTTTAAGAGCGTTTAGCGTTTAGCGTTTGAAATGGGCTAAGCGTTTCAGCGTTTCAGCGTTTGGAGCGTTTAGCGTTTCCAGCGTTTGCCCCGGAATATTGTCCAGCGTTTGAGCGTTTAGCGTTTAAGCGTTTAAAGCGTTTCAGCGTTTAACGAGCGTTTAGCGTTTAGCGTTTAGCGTTTGTTCAAGCGTTTCTAGCGTTTTAGCGTTTATGAAGCGTTTAAGCGTTTAGCGTTTGCCAGCGTTTAGATCGCCCGAGCGTTTGGAGCGTTTAGCGTTTTCAGCGTTTAGCGTTTAGCGTTTAGCGTTTAGCGTTTAGCGTTTGGCTGCGAGCGTTTGTATGCAGCGTTTCAGCGTTT'\n",
    "pattern = 'AGCGTTTAG'\n",
    "PatternCount(text, pattern)"
   ]
  },
  {
   "cell_type": "code",
   "execution_count": 115,
   "metadata": {
    "collapsed": false
   },
   "outputs": [],
   "source": [
    "def FrequentWords(text, k):\n",
    "    \"\"\" Input: A string Text and an integer k.\n",
    "     Output: All most frequent k-mers in Text.\"\"\"\n",
    "    frequentPatterns = []\n",
    "    max_count = None\n",
    "    for i in range(len(text) - k + 1):\n",
    "        pattern = text[i:k+i]\n",
    "        count = text.count(pattern)\n",
    "        if max_count is None:\n",
    "            frequentPatterns.append(pattern)\n",
    "            max_count = count\n",
    "        elif max_count == count:\n",
    "            frequentPatterns.append(pattern)\n",
    "        elif max_count < count:\n",
    "            frequentPatterns = []\n",
    "            frequentPatterns.append(pattern)\n",
    "            max_count = count\n",
    "            \n",
    "    return set(frequentPatterns)"
   ]
  },
  {
   "cell_type": "code",
   "execution_count": 116,
   "metadata": {
    "collapsed": false
   },
   "outputs": [
    {
     "name": "stdout",
     "output_type": "stream",
     "text": [
      "set(['TGGTCTTCCTCCC', 'GCGTGGTCTTCCT', 'CGTGGTCTTCCTC', 'GTGGTCTTCCTCC', 'GGCGTGGTCTTCC', 'CGGCGTGGTCTTC'])\n"
     ]
    }
   ],
   "source": [
    "text = 'CGAAAGGCCGGCGTGGTTAAACGTCCTTCCTCCCTAAACGTCTAAACGTCCTGCCTTCCGGCGTGGTCGAAAGGCTAAACGTCCGGCGTGGTCTGCCTTCTAAACGTCCTGCCTTCCGAAAGGCCTGCCTTCCTTCCTCCCCGGCGTGGTTAAACGTCCTTCCTCCCCGGCGTGGTCGAAAGGCCTTCCTCCCCTTCCTCCCCGAAAGGCCTGCCTTCCGAAAGGCCGGCGTGGTCTTCCTCCCCGGCGTGGTTAAACGTCCTTCCTCCCCGAAAGGCCTTCCTCCCCGGCGTGGTCGGCGTGGTCGAAAGGCTAAACGTCTAAACGTCCGGCGTGGTCTTCCTCCCCTTCCTCCCCGGCGTGGTCTTCCTCCCCTGCCTTCCTGCCTTCCTTCCTCCCCGGCGTGGTCGAAAGGCCTGCCTTCCTGCCTTCCTTCCTCCCTAAACGTCCTGCCTTCTAAACGTCCGGCGTGGTCTTCCTCCCCGAAAGGCCGGCGTGGTCGGCGTGGTCGAAAGGCTAAACGTCCTTCCTCCCCTGCCTTCTAAACGTCCGAAAGGCTAAACGTCCTTCCTCCCCGGCGTGGTCGGCGTGGTCTTCCTCCCTAAACGTCTAAACGTCCGGCGTGGTCGGCGTGGTCTTCCTCCCCTGCCTTCTAAACGTCCGGCGTGGTCTTCCTCCCCTTCCTCCCCTGCCTTCCTGCCTTCCGGCGTGGTCTGCCTTCTAAACGTCTAAACGTCCGGCGTGGTTAAACGTCCTGCCTTCCGGCGTGGTCTTCCTCCCCGGCGTGGTCGGCGTGGTCTGCCTTCCTTCCTCCCCGAAAGGCCGAAAGGCCGAAAGGCCGGCGTGGTCGGCGTGGTCGAAAGGCCTGCCTTCCGGCGTGGTTAAACGTCCGAAAGGCCGGCGTGGTCTTCCTCCCTAAACGTCCGAAAGGCCGGCGTGGTCTTCCTCCCCTTCCTCCCTAAACGTCCGAAAGGC'\n",
    "k = 13\n",
    "print FrequentWords(text, k)"
   ]
  },
  {
   "cell_type": "code",
   "execution_count": 43,
   "metadata": {
    "collapsed": false
   },
   "outputs": [
    {
     "name": "stdout",
     "output_type": "stream",
     "text": [
      "CPU times: user 3.58 ms, sys: 204 µs, total: 3.79 ms\n",
      "Wall time: 3.62 ms\n"
     ]
    }
   ],
   "source": [
    "%%time\n",
    "text = 'CGAAAGGCCGGCGTGGTTAAACGTCCTTCCTCCCTAAACGTCTAAACGTCCTGCCTTCCGGCGTGGTCGAAAGGCTAAACGTCCGGCGTGGTCTGCCTTCTAAACGTCCTGCCTTCCGAAAGGCCTGCCTTCCTTCCTCCCCGGCGTGGTTAAACGTCCTTCCTCCCCGGCGTGGTCGAAAGGCCTTCCTCCCCTTCCTCCCCGAAAGGCCTGCCTTCCGAAAGGCCGGCGTGGTCTTCCTCCCCGGCGTGGTTAAACGTCCTTCCTCCCCGAAAGGCCTTCCTCCCCGGCGTGGTCGGCGTGGTCGAAAGGCTAAACGTCTAAACGTCCGGCGTGGTCTTCCTCCCCTTCCTCCCCGGCGTGGTCTTCCTCCCCTGCCTTCCTGCCTTCCTTCCTCCCCGGCGTGGTCGAAAGGCCTGCCTTCCTGCCTTCCTTCCTCCCTAAACGTCCTGCCTTCTAAACGTCCGGCGTGGTCTTCCTCCCCGAAAGGCCGGCGTGGTCGGCGTGGTCGAAAGGCTAAACGTCCTTCCTCCCCTGCCTTCTAAACGTCCGAAAGGCTAAACGTCCTTCCTCCCCGGCGTGGTCGGCGTGGTCTTCCTCCCTAAACGTCTAAACGTCCGGCGTGGTCGGCGTGGTCTTCCTCCCCTGCCTTCTAAACGTCCGGCGTGGTCTTCCTCCCCTTCCTCCCCTGCCTTCCTGCCTTCCGGCGTGGTCTGCCTTCTAAACGTCTAAACGTCCGGCGTGGTTAAACGTCCTGCCTTCCGGCGTGGTCTTCCTCCCCGGCGTGGTCGGCGTGGTCTGCCTTCCTTCCTCCCCGAAAGGCCGAAAGGCCGAAAGGCCGGCGTGGTCGGCGTGGTCGAAAGGCCTGCCTTCCGGCGTGGTTAAACGTCCGAAAGGCCGGCGTGGTCTTCCTCCCTAAACGTCCGAAAGGCCGGCGTGGTCTTCCTCCCCTTCCTCCCTAAACGTCCGAAAGGC'\n",
    "k = 13\n",
    "FrequentWords(text, k)"
   ]
  },
  {
   "cell_type": "code",
   "execution_count": 45,
   "metadata": {
    "collapsed": false
   },
   "outputs": [
    {
     "name": "stdout",
     "output_type": "stream",
     "text": [
      "CPU times: user 3.77 ms, sys: 191 µs, total: 3.96 ms\n",
      "Wall time: 3.8 ms\n"
     ]
    }
   ],
   "source": [
    "%%time\n",
    "text = 'CTGCCCGGTAGATGCATTCAGCCAGATAGATGCATTGCATTTAGCTGCCCGGCTGCCCGGGCATTTAGCTGCCCGGAACATCGCTAAACATCGCTACAGCCAGATAGATGCATTCAGCCAGAGCATTTAGCTGCCCGGCAGCCAGATAGATGCATTAACATCGCTAGCATTTAGAACATCGCTACTGCCCGGCTGCCCGGCAGCCAGACTGCCCGGCAGCCAGAAACATCGCTATAGATGCATTCAGCCAGAGCATTTAGCAGCCAGACAGCCAGACAGCCAGAAACATCGCTAGCATTTAGTAGATGCATTTAGATGCATTGCATTTAGCAGCCAGAAACATCGCTAGCATTTAGAACATCGCTACAGCCAGATAGATGCATTGCATTTAGTAGATGCATTGCATTTAGTAGATGCATTTAGATGCATTGCATTTAGCTGCCCGGGCATTTAGCTGCCCGGTAGATGCATTCTGCCCGGCTGCCCGGAACATCGCTAAACATCGCTAGCATTTAGCAGCCAGAGCATTTAGAACATCGCTAAACATCGCTAAACATCGCTACAGCCAGACAGCCAGACAGCCAGAGCATTTAGCTGCCCGGCTGCCCGGCAGCCAGAGCATTTAGTAGATGCATTGCATTTAGGCATTTAGCAGCCAGACAGCCAGACTGCCCGGTAGATGCATTCAGCCAGATAGATGCATTCAGCCAGATAGATGCATTTAGATGCATTGCATTTAGGCATTTAGAACATCGCTACAGCCAGAAACATCGCTAGCATTTAGTAGATGCATTCAGCCAGACTGCCCGGGCATTTAGAACATCGCTATAGATGCATTCAGCCAGACAGCCAGATAGATGCATTGCATTTAGCAGCCAGAGCATTTAGAACATCGCTATAGATGCATTCAGCCAGAAACATCGCTATAGATGCATTAACATCGCTATAGATGCATTCAGCCAGACAGCCAGACTGCCCGG'\n",
    "k = 11\n",
    "FrequentWords(text, k)"
   ]
  },
  {
   "cell_type": "code",
   "execution_count": 88,
   "metadata": {
    "collapsed": false
   },
   "outputs": [],
   "source": [
    "def patternToNumber(Pattern):\n",
    "    symbolToNumber = {'A':0, 'C':1, 'G':2, 'T':3}\n",
    "    n = len(Pattern)\n",
    "    if n == 0:\n",
    "        return 0\n",
    "    elif n == 1:\n",
    "        return symbolToNumber[Pattern]\n",
    "    else:\n",
    "        return 4*patternToNumber(Pattern[:-1]) + symbolToNumber[Pattern[-1]]"
   ]
  },
  {
   "cell_type": "code",
   "execution_count": 29,
   "metadata": {
    "collapsed": false
   },
   "outputs": [
    {
     "data": {
      "text/plain": [
       "912"
      ]
     },
     "execution_count": 29,
     "metadata": {},
     "output_type": "execute_result"
    }
   ],
   "source": [
    "patternToNumber('ATGCAA')"
   ]
  },
  {
   "cell_type": "code",
   "execution_count": 22,
   "metadata": {
    "collapsed": false
   },
   "outputs": [
    {
     "data": {
      "text/plain": [
       "442308552"
      ]
     },
     "execution_count": 22,
     "metadata": {},
     "output_type": "execute_result"
    }
   ],
   "source": [
    "patternToNumber('ACGGCCTCACCTTAGA')"
   ]
  },
  {
   "cell_type": "code",
   "execution_count": 13,
   "metadata": {
    "collapsed": false
   },
   "outputs": [
    {
     "data": {
      "text/plain": [
       "9904"
      ]
     },
     "execution_count": 13,
     "metadata": {},
     "output_type": "execute_result"
    }
   ],
   "source": [
    "patternToNumber('AAGCGGTAA')"
   ]
  },
  {
   "cell_type": "code",
   "execution_count": 14,
   "metadata": {
    "collapsed": false
   },
   "outputs": [
    {
     "data": {
      "text/plain": [
       "1066391637859380"
      ]
     },
     "execution_count": 14,
     "metadata": {},
     "output_type": "execute_result"
    }
   ],
   "source": [
    "patternToNumber('TTAGCTGAAGGCGTACAACTAATCA')"
   ]
  },
  {
   "cell_type": "code",
   "execution_count": 89,
   "metadata": {
    "collapsed": true
   },
   "outputs": [],
   "source": [
    "def numberToPattern(n, kmer):\n",
    "    numberToSymbol = {0:'A', 1:'C', 2:'G', 3:'T'}\n",
    "    pattern = ''\n",
    "    while n > 0:\n",
    "        remainder = n%4\n",
    "        pattern = numberToSymbol[remainder] + pattern\n",
    "        n = n/4\n",
    "    if kmer - len(pattern) == 0:\n",
    "        return pattern\n",
    "    else:\n",
    "        return (kmer - len(pattern))*'A' + pattern"
   ]
  },
  {
   "cell_type": "code",
   "execution_count": 31,
   "metadata": {
    "collapsed": false
   },
   "outputs": [
    {
     "data": {
      "text/plain": [
       "'ATGCAA'"
      ]
     },
     "execution_count": 31,
     "metadata": {},
     "output_type": "execute_result"
    }
   ],
   "source": [
    "numberToPattern(912, 6)"
   ]
  },
  {
   "cell_type": "code",
   "execution_count": 32,
   "metadata": {
    "collapsed": false
   },
   "outputs": [
    {
     "data": {
      "text/plain": [
       "'GCGGTAA'"
      ]
     },
     "execution_count": 32,
     "metadata": {},
     "output_type": "execute_result"
    }
   ],
   "source": [
    "numberToPattern(9904, 7)"
   ]
  },
  {
   "cell_type": "code",
   "execution_count": 33,
   "metadata": {
    "collapsed": false
   },
   "outputs": [
    {
     "data": {
      "text/plain": [
       "'A'"
      ]
     },
     "execution_count": 33,
     "metadata": {},
     "output_type": "execute_result"
    }
   ],
   "source": [
    "numberToPattern(0, 1)"
   ]
  },
  {
   "cell_type": "code",
   "execution_count": 75,
   "metadata": {
    "collapsed": false
   },
   "outputs": [
    {
     "data": {
      "text/plain": [
       "'CCCATTC'"
      ]
     },
     "execution_count": 75,
     "metadata": {},
     "output_type": "execute_result"
    }
   ],
   "source": [
    "numberToPattern(5437, 7)"
   ]
  },
  {
   "cell_type": "code",
   "execution_count": 77,
   "metadata": {
    "collapsed": false
   },
   "outputs": [
    {
     "data": {
      "text/plain": [
       "'ACCCATTC'"
      ]
     },
     "execution_count": 77,
     "metadata": {},
     "output_type": "execute_result"
    }
   ],
   "source": [
    "numberToPattern(5437, 8)"
   ]
  },
  {
   "cell_type": "code",
   "execution_count": 94,
   "metadata": {
    "collapsed": false
   },
   "outputs": [
    {
     "data": {
      "text/plain": [
       "26900352"
      ]
     },
     "execution_count": 94,
     "metadata": {},
     "output_type": "execute_result"
    }
   ],
   "source": [
    "patternToNumber('ACGCGGCTCTGAAA')"
   ]
  },
  {
   "cell_type": "code",
   "execution_count": 119,
   "metadata": {
    "collapsed": false
   },
   "outputs": [],
   "source": [
    "def computingFrequencies(text , k):\n",
    "    array =[0]*((4**k))\n",
    "    for i in range(len(text) - k + 1):\n",
    "        pattern = text[i:i+k]\n",
    "        j = patternToNumber(pattern)\n",
    "        array[j] = array[j]+1\n",
    "    return array   "
   ]
  },
  {
   "cell_type": "code",
   "execution_count": 44,
   "metadata": {
    "collapsed": false
   },
   "outputs": [
    {
     "data": {
      "text/plain": [
       "[2, 1, 0, 0, 0, 0, 2, 2, 1, 2, 1, 0, 0, 1, 1, 0]"
      ]
     },
     "execution_count": 44,
     "metadata": {},
     "output_type": "execute_result"
    }
   ],
   "source": [
    "computingFrequencies('ACGCGGCTCTGAAA', 2)\n",
    "#2 1 0 0 0 0 2 2 1 2 1 0 0 1 1 0"
   ]
  },
  {
   "cell_type": "code",
   "execution_count": 39,
   "metadata": {
    "collapsed": false
   },
   "outputs": [
    {
     "data": {
      "text/plain": [
       "2"
      ]
     },
     "execution_count": 39,
     "metadata": {},
     "output_type": "execute_result"
    }
   ],
   "source": [
    "max(ComputingFrequencies('ACGCGGCTCTGAAA', 2))"
   ]
  },
  {
   "cell_type": "code",
   "execution_count": 122,
   "metadata": {
    "collapsed": true
   },
   "outputs": [],
   "source": [
    "def fasterFrequentWords(text , k):\n",
    "    frequentPatterns = set()\n",
    "    frequencyArray = computingFrequencies(text , k)\n",
    "    maxCount = max(frequencyArray)\n",
    "    for i in range(0,4**k-1):\n",
    "        if frequencyArray[i] == maxCount:\n",
    "            pattern = numberToPattern(i, k)\n",
    "            frequentPatterns.add(pattern)\n",
    "    return frequentPatterns"
   ]
  },
  {
   "cell_type": "code",
   "execution_count": 123,
   "metadata": {
    "collapsed": false
   },
   "outputs": [
    {
     "name": "stdout",
     "output_type": "stream",
     "text": [
      "set(['TGGTCTTCCTCCC', 'GCGTGGTCTTCCT', 'CGTGGTCTTCCTC', 'GTGGTCTTCCTCC', 'GGCGTGGTCTTCC', 'CGGCGTGGTCTTC'])\n",
      "CPU times: user 8.98 s, sys: 5.95 s, total: 14.9 s\n",
      "Wall time: 16.1 s\n"
     ]
    }
   ],
   "source": [
    "%%time\n",
    "text = 'CGAAAGGCCGGCGTGGTTAAACGTCCTTCCTCCCTAAACGTCTAAACGTCCTGCCTTCCGGCGTGGTCGAAAGGCTAAACGTCCGGCGTGGTCTGCCTTCTAAACGTCCTGCCTTCCGAAAGGCCTGCCTTCCTTCCTCCCCGGCGTGGTTAAACGTCCTTCCTCCCCGGCGTGGTCGAAAGGCCTTCCTCCCCTTCCTCCCCGAAAGGCCTGCCTTCCGAAAGGCCGGCGTGGTCTTCCTCCCCGGCGTGGTTAAACGTCCTTCCTCCCCGAAAGGCCTTCCTCCCCGGCGTGGTCGGCGTGGTCGAAAGGCTAAACGTCTAAACGTCCGGCGTGGTCTTCCTCCCCTTCCTCCCCGGCGTGGTCTTCCTCCCCTGCCTTCCTGCCTTCCTTCCTCCCCGGCGTGGTCGAAAGGCCTGCCTTCCTGCCTTCCTTCCTCCCTAAACGTCCTGCCTTCTAAACGTCCGGCGTGGTCTTCCTCCCCGAAAGGCCGGCGTGGTCGGCGTGGTCGAAAGGCTAAACGTCCTTCCTCCCCTGCCTTCTAAACGTCCGAAAGGCTAAACGTCCTTCCTCCCCGGCGTGGTCGGCGTGGTCTTCCTCCCTAAACGTCTAAACGTCCGGCGTGGTCGGCGTGGTCTTCCTCCCCTGCCTTCTAAACGTCCGGCGTGGTCTTCCTCCCCTTCCTCCCCTGCCTTCCTGCCTTCCGGCGTGGTCTGCCTTCTAAACGTCTAAACGTCCGGCGTGGTTAAACGTCCTGCCTTCCGGCGTGGTCTTCCTCCCCGGCGTGGTCGGCGTGGTCTGCCTTCCTTCCTCCCCGAAAGGCCGAAAGGCCGAAAGGCCGGCGTGGTCGGCGTGGTCGAAAGGCCTGCCTTCCGGCGTGGTTAAACGTCCGAAAGGCCGGCGTGGTCTTCCTCCCTAAACGTCCGAAAGGCCGGCGTGGTCTTCCTCCCCTTCCTCCCTAAACGTCCGAAAGGC'\n",
    "k = 13\n",
    "print fasterFrequentWords(text, k)"
   ]
  },
  {
   "cell_type": "code",
   "execution_count": 111,
   "metadata": {
    "collapsed": true
   },
   "outputs": [],
   "source": [
    "def findingFrequentWordsBySorting(t,k):\n",
    "    frequentPatterns = set()\n",
    "    index = [0] * (len(t) - k + 1)\n",
    "    count = [0] * (len(t) - k + 1)\n",
    "    for i in range(len(t) -k + 1):\n",
    "        pattern = t[i:i+k]\n",
    "        index[i] = patternToNumber(pattern)\n",
    "        count[i] += 1\n",
    "    index.sort()\n",
    "    for i in range(1,len(t) -k + 1):\n",
    "        if index[i] == index[i-1]:\n",
    "            count[i] = count[i-1] + 1\n",
    "    maxCount = max(count)\n",
    "    for i in range(len(t) -k + 1):\n",
    "        if count[i] == maxCount:\n",
    "            pattern = numberToPattern(index[i],k)\n",
    "            frequentPatterns.add(pattern)\n",
    "    return frequentPatterns"
   ]
  },
  {
   "cell_type": "code",
   "execution_count": 113,
   "metadata": {
    "collapsed": false
   },
   "outputs": [
    {
     "name": "stdout",
     "output_type": "stream",
     "text": [
      "set(['TGGTCTTCCTCCC', 'GCGTGGTCTTCCT', 'CGTGGTCTTCCTC', 'GTGGTCTTCCTCC', 'GGCGTGGTCTTCC', 'CGGCGTGGTCTTC'])\n",
      "CPU times: user 12.3 ms, sys: 7.11 ms, total: 19.4 ms\n",
      "Wall time: 14 ms\n"
     ]
    }
   ],
   "source": [
    "%%time\n",
    "text = 'CGAAAGGCCGGCGTGGTTAAACGTCCTTCCTCCCTAAACGTCTAAACGTCCTGCCTTCCGGCGTGGTCGAAAGGCTAAACGTCCGGCGTGGTCTGCCTTCTAAACGTCCTGCCTTCCGAAAGGCCTGCCTTCCTTCCTCCCCGGCGTGGTTAAACGTCCTTCCTCCCCGGCGTGGTCGAAAGGCCTTCCTCCCCTTCCTCCCCGAAAGGCCTGCCTTCCGAAAGGCCGGCGTGGTCTTCCTCCCCGGCGTGGTTAAACGTCCTTCCTCCCCGAAAGGCCTTCCTCCCCGGCGTGGTCGGCGTGGTCGAAAGGCTAAACGTCTAAACGTCCGGCGTGGTCTTCCTCCCCTTCCTCCCCGGCGTGGTCTTCCTCCCCTGCCTTCCTGCCTTCCTTCCTCCCCGGCGTGGTCGAAAGGCCTGCCTTCCTGCCTTCCTTCCTCCCTAAACGTCCTGCCTTCTAAACGTCCGGCGTGGTCTTCCTCCCCGAAAGGCCGGCGTGGTCGGCGTGGTCGAAAGGCTAAACGTCCTTCCTCCCCTGCCTTCTAAACGTCCGAAAGGCTAAACGTCCTTCCTCCCCGGCGTGGTCGGCGTGGTCTTCCTCCCTAAACGTCTAAACGTCCGGCGTGGTCGGCGTGGTCTTCCTCCCCTGCCTTCTAAACGTCCGGCGTGGTCTTCCTCCCCTTCCTCCCCTGCCTTCCTGCCTTCCGGCGTGGTCTGCCTTCTAAACGTCTAAACGTCCGGCGTGGTTAAACGTCCTGCCTTCCGGCGTGGTCTTCCTCCCCGGCGTGGTCGGCGTGGTCTGCCTTCCTTCCTCCCCGAAAGGCCGAAAGGCCGAAAGGCCGGCGTGGTCGGCGTGGTCGAAAGGCCTGCCTTCCGGCGTGGTTAAACGTCCGAAAGGCCGGCGTGGTCTTCCTCCCTAAACGTCCGAAAGGCCGGCGTGGTCTTCCTCCCCTTCCTCCCTAAACGTCCGAAAGGC'\n",
    "k = 13\n",
    "print findingFrequentWordsBySorting(text, k)"
   ]
  },
  {
   "cell_type": "code",
   "execution_count": 16,
   "metadata": {
    "collapsed": true
   },
   "outputs": [],
   "source": [
    "def reverseComplement(s):\n",
    "    complement = {'A': 'T', 'C': 'G', 'G': 'C', 'T': 'A', 'N':'N'}\n",
    "    t = ''\n",
    "    for base in s:\n",
    "        t = complement[base] + t\n",
    "    return t"
   ]
  },
  {
   "cell_type": "code",
   "execution_count": 17,
   "metadata": {
    "collapsed": false
   },
   "outputs": [
    {
     "data": {
      "text/plain": [
       "'ACCGGGTTTT'"
      ]
     },
     "execution_count": 17,
     "metadata": {},
     "output_type": "execute_result"
    }
   ],
   "source": [
    "reverseComplement('AAAACCCGGT')"
   ]
  },
  {
   "cell_type": "code",
   "execution_count": 19,
   "metadata": {
    "collapsed": true
   },
   "outputs": [],
   "source": [
    "#Naive exact match algorithm\n",
    "def naive(p, t):\n",
    "    occurences = []\n",
    "    for i in range(len(t) - len(p) + 1): #loop through every position in t where p could start\n",
    "        match = True\n",
    "        for j in range(len(p)): #Loop over characters\n",
    "            if t[i+j] != p[j]: #Compare characters\n",
    "                match = False #mismatch; reject alignments\n",
    "                break\n",
    "        if match:\n",
    "            occurences.append(i) #all characters matched record\n",
    "    return occurences     "
   ]
  },
  {
   "cell_type": "code",
   "execution_count": 20,
   "metadata": {
    "collapsed": false
   },
   "outputs": [
    {
     "data": {
      "text/plain": [
       "[0, 5, 9]"
      ]
     },
     "execution_count": 20,
     "metadata": {},
     "output_type": "execute_result"
    }
   ],
   "source": [
    "t = 'AGCTTAGATAGC'\n",
    "p = 'AG'\n",
    "naive(p,t)"
   ]
  },
  {
   "cell_type": "code",
   "execution_count": 57,
   "metadata": {
    "collapsed": false
   },
   "outputs": [],
   "source": [
    "import bisect\n",
    "#Book index analogy\n",
    "class Index(object):\n",
    "    def __init__(self, t, k):\n",
    "        ''' Create index from all substrings of size 'length' '''\n",
    "        self.k = k  # k-mer length (k)\n",
    "        self.index = []\n",
    "        for i in range(len(t) - k + 1):  # for each k-mer\n",
    "            self.index.append((t[i:i+k], i))  # add (k-mer, offset) pair\n",
    "        self.index.sort()  # alphabetize by k-mer\n",
    "    \n",
    "    def query(self, p):\n",
    "        ''' Return index hits for first k-mer of P '''\n",
    "        kmer = p[:self.k]  # query with first k-mer\n",
    "        i = bisect.bisect_left(self.index, (kmer, -1))  # binary search\n",
    "        hits = []\n",
    "        while i < len(self.index):  # collect matching index entries\n",
    "            if self.index[i][0] != kmer:\n",
    "                break\n",
    "            hits.append(self.index[i][1])\n",
    "            i += 1\n",
    "        return hits"
   ]
  },
  {
   "cell_type": "code",
   "execution_count": 58,
   "metadata": {
    "collapsed": false
   },
   "outputs": [],
   "source": [
    "def queryIndex(p, t, index):\n",
    "    k = index.k\n",
    "    offsets = []\n",
    "    for i in index.query(p):\n",
    "        if p[k:] == t[i+k:i+len(p)]:  # verify that rest of P matches\n",
    "            offsets.append(i)\n",
    "    return offsets"
   ]
  },
  {
   "cell_type": "code",
   "execution_count": 82,
   "metadata": {
    "collapsed": false
   },
   "outputs": [
    {
     "data": {
      "text/plain": [
       "'ACAATGAGGTCACTATGTTCGAGCTCTTCAAACCGGCTGCGCATACGCAGCGGCTGCCATCCGATAAGGTGGACAGCGTCTATTCACGCCTTCGTTGGCA'"
      ]
     },
     "execution_count": 82,
     "metadata": {},
     "output_type": "execute_result"
    }
   ],
   "source": [
    "cholera_genome = ''\n",
    "f = open('Vibrio_cholerae.txt')\n",
    "for line in f:\n",
    "    cholera_genome += line.rstrip()\n",
    "cholera_genome[:100]"
   ]
  },
  {
   "cell_type": "code",
   "execution_count": 85,
   "metadata": {
    "collapsed": false
   },
   "outputs": [
    {
     "name": "stdout",
     "output_type": "stream",
     "text": [
      "[60039, 98409, 129189, 152283, 152354, 152411, 163207, 197028, 200160, 357976, 376771, 392723, 532935, 600085, 622755, 1065555]\n"
     ]
    }
   ],
   "source": [
    "p = 'CTTGATCAT'\n",
    "t = cholera_genome\n",
    "index = Index(t, 4)\n",
    "print(queryIndex(p, t, index))"
   ]
  },
  {
   "cell_type": "markdown",
   "metadata": {},
   "source": [
    "Our plan is to slide a window of fixed length L along the genome, looking for a region where a k-mer appears several times in short succession. The parameter value L = 500 reflects the typical length of oriC in bacterial genomes.\n",
    "\n",
    "We defined a k-mer as a \"clump\" if it appears many times within a short interval of the genome. More formally, given integers L and t, a k-mer Pattern forms an (L, t)-clump inside a (longer) string Genome if there is an interval of Genome of length L in which this k-mer appears at least t times. (This definition assumes that the k-mer completely fits within the interval.) For example, TGCA forms a (25,3)-clump in the following Genome:\n",
    "\n",
    "gatcagcataagggtccCTGCAATGCATGACAAGCCTGCAGTtgttttac\n",
    "From our previous examples of oriC regions, ATGATCAAG forms a (500,3)-clump in the Vibrio cholerae genome, and CCTACCACC forms a (500,3)-clump in the Thermotoga petrophila genome. We are now ready to formulate the following problem.\n",
    "\n",
    "Clump Finding Problem: Find patterns forming clumps in a string.\n",
    "     Input: A string Genome, and integers k, L, and t.\n",
    "     Output: All distinct k-mers forming (L, t)-clumps in Genome."
   ]
  },
  {
   "cell_type": "code",
   "execution_count": 53,
   "metadata": {
    "collapsed": true
   },
   "outputs": [],
   "source": [
    "def clumpFinding(genome, k, t, L):\n",
    "    frequentPatterns = set()\n",
    "    clump = [0]*((4**k))\n",
    "    text = genome[0:L]\n",
    "    frequencyArray = computingFrequencies(text, k)\n",
    "    for i in range(4**k):\n",
    "        if frequencyArray[i] >= t:\n",
    "            clump[i] = 1\n",
    "    for i in range(1, len(genome) - L + 1):\n",
    "        firstPattern = genome[i-1:i-1+k]\n",
    "        index = patternToNumber(firstPattern)\n",
    "        frequencyArray[index] = frequencyArray[index] - 1\n",
    "        lastPattern = genome[i+L-k:i+L]\n",
    "        index = patternToNumber(lastPattern)\n",
    "        frequencyArray[index] = frequencyArray[index] + 1\n",
    "        if frequencyArray[index] >= t:\n",
    "            clump[index] = 1\n",
    "    for i in range(4**k):\n",
    "        if clump[i] == 1:\n",
    "            pattern = numberToPattern(i, k)\n",
    "            frequentPatterns.add(pattern)\n",
    "    return frequentPatterns       "
   ]
  },
  {
   "cell_type": "code",
   "execution_count": 54,
   "metadata": {
    "collapsed": false
   },
   "outputs": [
    {
     "name": "stdout",
     "output_type": "stream",
     "text": [
      "set(['CGACA', 'GAAGA'])\n"
     ]
    }
   ],
   "source": [
    "genome = 'CGGACTCGACAGATGTGAAGAACGACAATGTGAAGACTCGACACGACAGAGTGAAGAGAAGAGGAAACATTGTAA'\n",
    "print clumpFinding(genome, 5, 4, 50)"
   ]
  },
  {
   "cell_type": "code",
   "execution_count": 59,
   "metadata": {
    "collapsed": false
   },
   "outputs": [
    {
     "name": "stdout",
     "output_type": "stream",
     "text": [
      "--2015-09-26 12:54:41--  https://stepic.org/media/attachments/lessons/4/E-coli.txt\n",
      "Resolving stepic.org... 54.194.188.166\n",
      "Connecting to stepic.org|54.194.188.166|:443... connected.\n",
      "HTTP request sent, awaiting response... 200 OK\n",
      "Length: 4639675 (4.4M) [text/plain]\n",
      "Saving to: `E-coli.txt'\n",
      "\n",
      "100%[======================================>] 4,639,675    313K/s   in 15s     \n",
      "\n",
      "2015-09-26 12:54:58 (303 KB/s) - `E-coli.txt' saved [4639675/4639675]\n",
      "\n"
     ]
    }
   ],
   "source": [
    "!wget https://stepic.org/media/attachments/lessons/4/E-coli.txt"
   ]
  },
  {
   "cell_type": "code",
   "execution_count": 60,
   "metadata": {
    "collapsed": false
   },
   "outputs": [
    {
     "data": {
      "text/plain": [
       "'AGCTTTTCATTCTGACTGCAACGGGCAATATGTCTCTGTGTGGATTAAAAAAAGAGTGTCTGATAGCAGCTTCTGAACTGGTTACCTGCCGTGAGTAAAT'"
      ]
     },
     "execution_count": 60,
     "metadata": {},
     "output_type": "execute_result"
    }
   ],
   "source": [
    "ecoli_genome = ''\n",
    "f = open('E-coli.txt')\n",
    "for line in f:\n",
    "    ecoli_genome += line.rstrip()\n",
    "ecoli_genome[:100]"
   ]
  },
  {
   "cell_type": "code",
   "execution_count": 63,
   "metadata": {
    "collapsed": false
   },
   "outputs": [
    {
     "data": {
      "text/plain": [
       "1904"
      ]
     },
     "execution_count": 63,
     "metadata": {},
     "output_type": "execute_result"
    }
   ],
   "source": [
    "genome = ecoli_genome\n",
    "len(clumpFinding(genome, 9, 3, 500))\n"
   ]
  },
  {
   "cell_type": "markdown",
   "metadata": {},
   "source": [
    "The reverse half-strand of DNA lives a double stranded life most of the time.\n",
    "The forward half-strand spends a large portion of its life single stranded waiting to be replicated.\n",
    "This leads to difference in nucleotide frequency.\n",
    "Single stranded DNA has a much higher mutation rate than double-stranded DNA.\n",
    "Cytosine deamination- 100 fold higher in forward half strand.\n",
    "Reverse half strand - G low/C high #G-#C is negative decreasing as we walk along reverse half strand.\n",
    "#G-#C is positive increasing as we walk along forward half strand"
   ]
  },
  {
   "cell_type": "markdown",
   "metadata": {},
   "source": [
    "Since we don't know the location of oriC in a circular genome, let's linearize it (i.e., select an arbitrary position and pretend that the genome begins here), resulting in a linear string Genome. We define Skewi(Genome) as the difference between the total number of occurrences of G and the total number of occurrences of C in the first i nucleotides of Genome. The skew diagram is defined by plotting Skewi (Genome) (as i ranges from 0 to |Genome|), where Skew0 (Genome) is set equal to zero. The figure below shows a skew diagram for the DNA string CATGGGCATCGGCCATACGCC.\n",
    "\n",
    "Note that we can compute Skewi+1(Genome) from Skewi(Genome) according to the nucleotide in position i of Genome. If this nucleotide is G, then Skewi+1(Genome) = Skewi(Genome) + 1; if this nucleotide is C, then Skewi+1(Genome)= Skewi(Genome) – 1; otherwise, Skewi+1(Genome) = Skewi(Genome).\n",
    "\n",
    "Sample Input:\n",
    "     CATGGGCATCGGCCATACGCC\n",
    "\n",
    "Sample Output:\n",
    "     0 -1 -1 -1 0 1 2 1 1 1 0 1 2 1 0 0 0 0 -1 0 -1 -2"
   ]
  },
  {
   "cell_type": "code",
   "execution_count": 1,
   "metadata": {
    "collapsed": true
   },
   "outputs": [],
   "source": [
    "def skew(dna):\n",
    "    skewness = [0]\n",
    "    for i in range(len(dna)):\n",
    "        if dna[i] == 'G':\n",
    "            skewness.append(skewness[i] + 1)\n",
    "        if dna[i] == 'C':\n",
    "            skewness.append(skewness[i] - 1)\n",
    "        if dna[i] == 'A' or dna[i] == 'T':\n",
    "            skewness.append(skewness[i])\n",
    "    return skewness     "
   ]
  },
  {
   "cell_type": "code",
   "execution_count": 32,
   "metadata": {
    "collapsed": true
   },
   "outputs": [],
   "source": [
    "def skew(dna):\n",
    "    skewness = [0] * ((len(dna)) + 1)\n",
    "    for i in range(len(dna)):\n",
    "        if dna[i] == 'G':\n",
    "            skewness[i+1] = skewness[i] + 1\n",
    "        if dna[i] == 'C':\n",
    "            skewness[i+1] = skewness[i] - 1\n",
    "        if dna[i] == 'A' or dna[i] == 'T':\n",
    "            skewness[i+1] = skewness[i]\n",
    "    return skewness     "
   ]
  },
  {
   "cell_type": "code",
   "execution_count": 3,
   "metadata": {
    "collapsed": false
   },
   "outputs": [
    {
     "data": {
      "text/plain": [
       "'0 -1 -1 -1 0 1 2 1 1 1 0 1 2 1 0 0 0 0 -1 0 -1 -2'"
      ]
     },
     "execution_count": 3,
     "metadata": {},
     "output_type": "execute_result"
    }
   ],
   "source": [
    "array = skew('CATGGGCATCGGCCATACGCC')\n",
    "' '.join(str(i) for i in array)"
   ]
  },
  {
   "cell_type": "code",
   "execution_count": 42,
   "metadata": {
    "collapsed": false
   },
   "outputs": [],
   "source": [
    "def min_skew(dna):\n",
    "    array = skew(dna)\n",
    "    min_index = [array.index(item) for item in array if item == min(array)]\n",
    "    return min_index"
   ]
  },
  {
   "cell_type": "markdown",
   "metadata": {},
   "source": [
    "Let's follow the 5' → 3' direction of DNA and walk along the chromosome from terC to oriC (along a reverse half-strand), then continue on from oriC to terC (along a forward half-strand). In our previous discussion, we saw that the skew is decreasing along the reverse half-strand and increasing along the forward half-strand. Thus, the skew should achieve a minimum at the position where the reverse half-strand ends and the forward half-strand begins, which is exactly the location of oriC!\n",
    "\n",
    "We have just developed an insight for a new algorithm for locating oriC: it should be found where the skew attains a minimum.\n",
    "\n",
    "Minimum Skew Problem: Find a position in a genome where the skew diagram attains a minimum.\n",
    "     Input: A DNA string Genome.\n",
    "     Output: All integer(s) i minimizing Skewi (Genome) among all values of i (from 0 to |Genome|)."
   ]
  },
  {
   "cell_type": "code",
   "execution_count": 44,
   "metadata": {
    "collapsed": true
   },
   "outputs": [],
   "source": [
    "import numpy as np\n",
    "def min_skew(dna):\n",
    "    array = np.array(skew(dna))\n",
    "    return np.where(array == array.min())"
   ]
  },
  {
   "cell_type": "code",
   "execution_count": 5,
   "metadata": {
    "collapsed": false
   },
   "outputs": [
    {
     "name": "stdout",
     "output_type": "stream",
     "text": [
      "[0, -1, -2, -2, -2, -2, -3, -2, -1, -1, 0, 1, 1, 1, 1, 1, 2, 1, 1, 1, 2, 2, 1, 0, -1, -1, 0, 0, 0, -1, 0, 0, 0, 0, -1, 0, -1, -2, -1, -2, -1, -1, -1, -2, -2, -2, -1, -1, -1, -2, -2, -3, -3, -4, -3, -2, -3, -3, -3, -2, -2, -2, -1, 0, -1, -1, -1, -1, -1, 0, 1, 1, 1, 1, 1, 1, 0, -1, 0, 1, 0, 1, 1, 0, -1, 0, 0, 0, 0, 0, -1, 0, 0, -1, -2, -2, -3, -4, -3, -3, -2]\n"
     ]
    }
   ],
   "source": [
    "print skew('CCTATCGGTGGATTAGCATGTCCCTGTACGTTTCGCCGCGAACTAGTTCACACGGCTTGATGGCAAATGGTTTTTCCGGCGACCGTAATCGTCCACCGAG')"
   ]
  },
  {
   "cell_type": "code",
   "execution_count": 45,
   "metadata": {
    "collapsed": false
   },
   "outputs": [
    {
     "data": {
      "text/plain": [
       "(array([53, 97]),)"
      ]
     },
     "execution_count": 45,
     "metadata": {},
     "output_type": "execute_result"
    }
   ],
   "source": [
    "min_skew('CCTATCGGTGGATTAGCATGTCCCTGTACGTTTCGCCGCGAACTAGTTCACACGGCTTGATGGCAAATGGTTTTTCCGGCGACCGTAATCGTCCACCGAG')\n"
   ]
  },
  {
   "cell_type": "code",
   "execution_count": 35,
   "metadata": {
    "collapsed": false
   },
   "outputs": [
    {
     "data": {
      "text/plain": [
       "(array([89969, 89970, 89971, 90345, 90346]),)"
      ]
     },
     "execution_count": 35,
     "metadata": {},
     "output_type": "execute_result"
    }
   ],
   "source": [
    "dna = 'ATAGACATATATACCGGTATGGTATACGGTTGTTGCTCCGGAGTAACCTCGAATATCAGATGACTTGCTAAAACCTAACGAGCACCGTGAATTGGCAGCTGGTCCATAGTGGATTGTCTTCCGTAAAGTGATTTCGGCTCCACAGCTCTTTGCCCTTTGATATGGGCTTACACTTTAGGAAGAATAGCCAATTTGCCACATCCTTTTTGCGATGTTGTTAAATGCGACTCAGCCTGGCTCGACGGAATGATTTAGGCATACTGCCCAGAAGATATGCATCGATAAGTGCCTCCATAAGGGATAACCCCTGCAAGGTGTATTTCTTCCGGATATTTTCCATTACGCATTTTGGTGACGGCATAGTCCTCCGGTACCCAGCCTGTACTGCACAATCACCGGTTGCGCGGCAACTGATCTCAACCTTCTTTGTAAGCACGCTAGTGTCTGAAACTTAACCTCCCCATTTGACATCTGCAGGATAGCTACTTCGAGCCGTAGGATACGCTTCTCCGAGGCAGTGGCATGAATGACTCGTCTAACTCCTTGCCTGATGGGTTACGAAGCCACAACCACCTGAATTTCGAGCAGGCTGTCGTGGACCGAGATCGATCCGGAGACAGTCCTACCGTACTACTTATAATAGGACTATTAGTTCATTCAGGAGCTACCTTCAAACCTGGTGACGTAACGGCGGTCCCACCTAGGGAGATAATAGCGACCGTTGTTAATGATTCTGTACCAAAAAGGTGGCAGGACCTGATACATTTCTAAAGTGTACGCAGATGTCGCTGTTAAAGTGAAGCTGCTAAATAGGGTCCTACGTTTTGAATAAGGTCTCATGCGATAGATTGATAGCTATGTCATGGGGTAAGCTGCAGAAAGTCACGCTGGACGGAAGTTATAGGTGGCTCAAGTCCCGTAACTACCCCTAAGCGCAAAGGACCGACTCCGCCAGTTTTCTGAGGACGCAACACATCAAAGGGGGTGCACAATACTGTCACAAGGGCCTGGCGATCTTTGTAATACTGGCTGCACTAATGGAGGGACGTGGCAGACGCGACTTAAATCGTTTCTGAACTACATACCAGTACCGCCCTTTCCGGTGAGATCGCACGACAGAGCCTCGTTCTTAAAAGGAAGTGAAAGTTGATGGCAACAACTAAGATAGACCAACGAATCTATGTAATGGTAGCGATTTTACACAGTAGGACCATGAATTCTGCGCTACTCACCATTTTTTCAGGTCTGCTCATGATCAGAGCCAATAATCAAAGCCCAGTCCCAACGCCTTGGGGTACCTACTAGTGTAACATGCCTCGAATTTCAACAAAGATGTTCTATCTAGTCAAAAATGGTCCACATCAGTTAGATTCGCCGAAGACCGTCCCATCATCCATCCAAACTAATGCTATTAATTACAGGCGAATCCCCGACCGTCGGTTATCGCGTACCAGCCTTCGGTCTTTCGCCCAGGGAACCGACTACACCCCGGGCGATTTCAAAAGTCACTCTATCCTACAGGACGAGTTTGGAAAGCTGATTCGATCCGGGCGCGGTGCCTTCATCCGTCTAGGGGCCGAGTGAGCATGTGCGCGTCACTATCACTCCTGTGTTCGCTCGAAGGATCATACAGGTCTCGCCACAATTATGAACTCCGGTCTAGAACAGAGATGCCGCAGTGTCGACATAATAGGGTGCGGATACCAAGCTCTAGAGCAATTGCCAGACCAACTCCGAAACTAGGTCTTTTGGACAGCCGTCTATACCGTTAACACTCTTTCAGCAAGATCCCCTTGAGGAGCGTGGTTATCCAGAAGATAATGATAAACGAGTTAACCTGCGTTGCCAAGGGTCAGTTTAGAAAAGTTGGCCTTCCGGGGCTCCCCGATGTGGCCCCCCAGCTGCGCAACCGCGATACCTGAGACCGGTGGTGGACGAATTACGGACGGGGACTGAGGGATTACTTGCTCAGTAGGTGGAAGGAATTTAGCATACACCGAGTAAAGCGCTGCTTGCCAATGAGTGGAGGCCGATGGACGGGCTTAAAGCGCATGAGCAGGATGACCGGTGCACAATCCCTAGCCCATGAGAAGGTTGGTATGGAGGTACCGGTTCTGACCTGTCAGCCGTCGTGCTTCATGTAGCCTGCGTGACTTTGAGTTCAACTGTACAGGTCTGTACCCGTGAGGCCCCAGAGGACCGGCTGCCACGAAGGGATAAGCTTACTAACCGACCATACTCTAGGGGAGCCCATATTTATTCGGTTGTTCATACCATACGTATTATACTCTTCATGCTACACTTCTACAGCGCGTTTTGTGATCATCGTGTCCTACAACTTGCTATTGAACGTCGAACAACGAAGCTTTACTTCACTAGAGGTGCCACGACATTACGAGTAGGTGAGGGGGTGTGGGAAGTATAGCGTACCGAGCGACAATGGACTAAGTACCATGGCCTCTATGCCAGCTTTCTTAAGGAGTGTACGGCGCAACTCTTCAATTCCAGCTCAGTATAAAGTTACGGTCGCTTGACACTTATTGCCGTTATATCTTGCATAGTACTAGGATTACTAATCATGCTCACCCTCGTGCGTCCTCCCCTTTCTCGCGTGATTCGGCCACGACGCGGCTGTCATTACAGGAAGCATCAATACACGGTAATAAACATACCCGCGTCTGTGTAAGACCCCGCCTACACCAACCGGAAGGTTCTTGACGTCCACGGTCGTGCATGGTGAGAGCACTTATCGGGGACTATGTTCAGTGTGATAAGCGTTGTTAGCGCGTTAATCTCTCACATTCTGCGTTCTATAGGGGCTACATAAAACGTGCGCCGATCAACGTACCGTATACTGCAGTGTATGCCATTACCATGTTTATTGCCATTCCCCAAGATGTAACTAGACTTAGCCGCCGGTTTACCAAGAAACACCGTATCCGTCCGATCTGAAGGAGCGTCCTATTGTTTTACGCGTGACTTCACCGAGTCACATTACCCGACCAACATGAAAACTCTTCAAGGTTAGCTGTGACCGATCGAACGCGGTCATATAATGATATCAGGAGGGGGATCATAGACAGCACTCGCCCACGCTCGGTCGCAGGTTGGTACCTGTTCTATTAGTTGCCACTTACTGAACCTGCTGTGTGATAACCGTTTTAATCAATACGCTCGTTCCGGGCGTGGAGGTGGGCTACATACCATGAAGATCATGGCGTACTGAAGTTTAGTAGGGGCCAACGCTATCGCGATGCGCACGTCCCTGAAACGCAAACAGAAGACGCTCGAACCGCTCGTAAAGGCAGGAGTTCAATCCAGTGGTACGTAGATTGTCATTGGCCTATTCAGCGAGGCTCGGTCCCACAGTTGCACGGAAGTGGCTTCGTGCTGTAGTCATGGAATATAGACGGGCCGTGTACTAAGTCCGCTGAAAAGAACTGGCGCGAGTACAAGGGGCTGCTAGTAGAATATCGCACACGACGACTGAATTAAGGCTACATGTACGTACAAAGAGATTCGCACCGCACCGGTGAGCTCGAGTACAACACAACCCGCCTACATGCTGTGATCACTAAAAAGGACTACGTCTAATGTATTGATACTCTAGCCGATCCCCGGCCCGTGGATCGTCTGGTGTGCTACTGCCCCGTATGTGTACTCGTGCACGCTACCTGCGCTAGCGCGCTCCCTGAGAGCAGGACCTCGAGATGCTGGGCAGGCACTTTTACGTGCGTTGTGTTCGGATCATTTATGCCGCCTATAAGATTCAGGCGTGCCCACGACCGACCAACTTGATTTCGCAAAAGATTATGCTGGCTCTGCACGCATCCGCTCACTTCATAAGGCTCTGTTTTGTAAACCTGAGGTTGTTAAGTGCGTCCTCAACGTTCCACGCTTATGCCATCGGTTCCTTGTTTGAATGTCTCTTGCGCCGATATCTCGATGATCATAGCAAATTTTTCTCGCTCAGCCTCGGAGAAATCGAATTGGAGGCTCAGTTGCGTGCAACCAATAACTGTTAGTTGCTGGAGTACGACTGGGATGCCTGGTCTCGTGAGGTCCGGCAGGATTGCTTGTTTCGGGGTTCTAGAGAGTGCGGCGTAGCTGAGTTTGAGGCGCTATTAGGAACGGCTGGGTAATTTAGACTCGAGCAGCTAACAGATTACTAATGTTTCATATACCACGTCTCCCTGGCGATACAACCCTGTACCCCGGATATGCTACTGTGCGCTCAGTGGAGTTAATACTAGGAAAGAGATCAGGGCACATGGCACATTAACAAACTGCTTGTGAGAATTCATAGGGTGGCGCTTCGCACCAATTTTCTAAATTCCGTCCACTCACCCGCACAGGTGGTGGTTTCCCAGGAAAGGTCCAACGGAATGACACACGCGGGTGCACAAATCCTGCGATGTCCGGTTCCAACGGACCCGTAGGCGTCAGACCGTCGCGACATCGTGCCAACGTCGGGAGCCGTGTTTCCGCATCCGCCAACGGACCGGCGCTGTTGCCTCCACGTTACGCGAGACGCACGTGTGGCGTCTCAACATGGAGATCGGAGTATATCCATACTAGCGGCTGCGTCATGGACAAGGAGCACCATCTAAAGGTCAATAGGTCGCATACATTTTTGTTCGAGCCTCGAAGCGCTTACAGGCGCGACACTTTACGGAAATTATCAACATGACCGAACCTTGCACTGCCCCATGAGGGGTAGAAACGATCTTGCTCGAGGACTATCTTCAGCTTATGCAAACCTACCGGATCTTCTACCTGGTCCATGAGATCTTCCAGCACGGGGCCGCATTCTGGTCATATATGTTTTAGCACCACGAAGGTATTGACGGGTTGAAGACTGGAAAAGCCGATTTATTAGCAGATCTTACAGGGATAGTTGCATATACTCCATTCACGGCCGAGTAGCCGCCCAGAGTTCGACTATTACTCTGTACATGGGCCTCGGGGCATGCTGGTCAGGGGGGTTCTCCAGCCGGAGCCTCGTTGTAGGACCGTGGGACCCCGTGAATACTAGCCTTGTCGGGCGTGACCTACTACCGGCGTACCTGGATGGATTTTCTTCAAATAAGGGTAGGCAGCTCAAATAAACCCAACTATATACAAACTCTGCGATGTTAAGGCGCCTTAGCAGAATTTAGAAATTCGGGGCAGCAACCCAATGGCTCTGTTACGGCATCAAGCATTTAGCCGTTCTCATAAGGGTCAGATCCCATTATCGCTTCTTCAGCCGTTCGCGAATCTAGGTTGATCTCTGAGCGCCCACTCCGAAGTAGTCACCATCGGCCGGCGATAACAAAAAGTGATGGGCGCGACTGCCCGTGCTCGTTCGGCACCGCCTATCAGGTCGGGGACGCGCCGGTTGGACAGTAACAGGATCCCTCAGTTGCCCCAGGTACCTGCTGCTTAGTCTAGATGCCTTAAAAAACGGCATACCCGAATATCCCGTGCAACGTGATTTCCGGGGTATCTACATCAATTCGGGAACAGGGTCGAAATGCGAGTTTCGGTCTGTCGAGCCCCACGCGGTCGGTCATCAGTAACTCGAGAATCCTTAAAACTATTGGATGCTTGAGTATATATCATTTCACGGCTAGAAAACCCCCACATTTCTAGGGAGTCCCGCAGGTGGTCCTTGATAACAACCTCCTACCTGCGAGTAGCTCTAGTATAACTACTCCGCAAAGTGTTTTTAGTCATGGATATAACTTCGGTATCCGCGCAGCAGGTACGGGCAGGGAGCCCAGCATCTTACGTTTTGCCCACAATTTGCTCCCCGCAGTTCGTTGTTCCTTCAAACCTTTGGATCTAACTAAATACAGCTGAGTATATGAGTCACAGTACGGACGTGTTAAGATTGTGCGAGCATCCATAAAACCGTAATGTCAACGTTAGTCGTCAGCTGTACATTCGTACAGCTACTGCCCCCGGACGTACTGTACAACTCCGCCTCTGGACTTGGCGCTGACGCAATAACAGATACGTCAGGCCTCACAGTCTTATCGCTGCCAAAGTCCGGGAGACTGGCCCGCAATTGAAGGAGTCCTGGGCGAGAGCGCCTTCGCTATATCCTGCGGTTTGTAGCTATTACCCGTCGACTGGAGGGTCCATCTGATCTGTTCTGATTCTGGTTCGAGCATAACTAAGTGAAATATGGGGAGGCATGCAAGCACCATCTGCCGATACCCAAGTTACCCAAACCAGGAAGCATTGTGTGTAGTTTCGCGTCACCGGTGCTCGTCACGTATCCGCTATGAGCCAACACGGCATATTTGCCTAAGATGCGGGCATCGCAACGGTACGGTGGGAAGGAGGATAATATCATATCGACCGCCCCAATCCCGTCAAGGAGATGCTCCATCGTGCGCACATGCCCCCGAAGCTGCTAACATACGAGGTGCTCTTTCCACTCACATCGGTATCTCCTCCTTGCCATCCCCTGAGCATCTTTCGCCCGTTTATAATCGGGTGGCTATCCTCATAGTACATAACGCGAGCAGAATGGAGGAGTTCCAAGCTACCGCCAAAGTCTGGCCTATGAGGCCGAGGTTCGCTGAGACCGCTTGCGTACGGAACGGATGAAGCGAAGCCCGCATGAGATATGATTGAAAACCAGAACCGAAAGCTGCTGAAGCTTCGCGGTTCTACTTCGAACGGTGCTTCTGCAGGCGTCCAGCTCAAACTCTGCGGCTCCAACTGAGAGTTGAATTATACAAAGCTAAATATTATTAACGTATCACGCTGTGTACCTTAAGTGTACAGCCCATTTTTGGATAGTAAAGGGAGATCTTATGTTCCTGACGTGCTCGTTTCCCAATGATTAAGCTTAGGCCGTGAGGCCCACTACAGGTGCGAACTCCTTGGCGTGGCTCGCAAGCTGGGCTAGTTGTACATGCGGCCTCGAGTTTCTCGGCAAAACAATTGCGCCCGTATCGCTTAGCCTGGTTTAAGCTTGAAGTTCCTGAAGCCGATCGCGAGAAAGGTATCGTAGAATGCATCGCTGAGGCGATGAGAGAGTTAGGACACGCGACGACCCGCTGGATCCGTGCGCCAAGAATTGAACCGAGTAGACGCGAGTACTGCCGAGAAATGTATGTGAACGGAGCCAGCGAGTAGGCCCTAAGCTCGAATAACGCCTACTTCGCGGTGCCGTGGAACGGGACTTGCAACAATGCTAAAAGAATTCGATGGGCCTGCCTAGGCGCACGAGTAGTAGCCTTATAGAGGTGGGGGACGGTACTGTAGGTCATGTGGGCTTTCAAGGCCTAATCATGGTCGTGCTGCCTTTTTTAGGCTCCTAATGACGATCTTGTGCTTCCTCTGCCACCTGTGCCCTTGGAGTGAGAAACAAAAACAGTTCCATCACGTAGAGTCCTTCCGTCCTGCAAGTAAACTAGCGGTGGGTAAAAAGCGCGTAAGGCAGTAGCATACAAGTCATGTTTCCGATGCTGATACTCAGACGAAATCCCCTCTTATGTCTCCCGGTGCACGCGCCGACCAAGTTTCGCATCAGTGCAATCGTCCGGTGCAGAAGGATGCTTGGGCCCTGGCAACAGCTGTGAAATAGGCGGTTGCGTTAAGTCATTTCGTCGGGTTCTAGAAACTTCTGGGGTGCCTCTCTCATCGCTAGGACGTTTTCACCTGCCACAGAGCCTCAGTTAAGGAGGTGTCATGAGCTCCCGGATATGAGCTGTTAGGGGCCGAGTTGGTTAGCGAAGCAAAGCTCGTAACCCCTAGCGGTCTTTATGGCCCGACGGCATTAGGGAATAAAAAATTAAGGAGGGTCGAAGCTTTGATGAGTTTCTCGAAACCAGAACTGATTTCGGGATGGGTCATACGTTTAAGCGCTTGAGAAGCAGCATATGACATATATTTTCGTCCTTAGGCACTAAATCGAGACCCCAGAGTTCTCTTGACGTAGCCCCATTCATGTTGCGCTGATCCGGCCCGCTAAGAACCTATTAGTCCCCTGTTACACGGTATACACAGAGTTTCCCAACACGGGACGATGCGGAGTTATAGCACCCAAATCTCTATTCATCATATATTCCCGGTGCGCCAGGGCTGTCGCCAGCCTTATTGATTTTTATGAGCAACCGTTCCGACCGCTCTCGGTGGTGGACCATGTTCAGGTGCCTACAGGGAGGCGTTATGATTGGGCGGAACCACAAGTAATAACCCCCTAGAAAAAGTACCAAGAGTACCCTCAAAGGGAGGTGTGTCCACCGGTCAGTTCATGCTGGGCCTGTCCCTAGTGCTGCATCCCCTGATTTAAGCTCTCAACACGGGATAAGCAGCCTGACACCCTCAGTGACATCAACGCCCTTCTCCCACGGTGTCTGCCGTGCGTCTATGCCATAGTACCGTCTTGCTCGCCTACGCGAAAGTGCGCCTACTACAGCTCAATTGGTAGCTACCGACACGTTCGGACAACTATAGCCGTAACACAGCATGCGACAAGATTAAGTATGTATGCGCGTGGTCGCTTAAGGCAGTCCGAGTTGATTAATGTAGTAGCAACTATAAGCTTGCTGCGCCTCTCGAGATGTGCTAACTCAGCCTATACGGCCATTCTTCGTTCGTTAGTCGCCGAGCACTGGCTATCGCCGTCCCCTGTATAGTGGACTCTACGGCATATACTGAGACGCTGAAGAGACTAGATTTTGCTTAAACATCAAAGTTGTTGCCGTCTGTTCATATACGGAGCGGCGATTATGGTGTTATACCCGCTTCACACGGAAGCTAGGCAGAATGCTATCCAGATTGACGTGCATCAAGAGATGGGGAAGCACCCCCCAATACGCCCTCTCTACTAACAAGTCAAGATTGGTGGGTGCAGTGAAAACGCTAAGCCATTAAAGGAGGTGAGAGAAGGGCCCGCGACATCAACTCAAATAAGGTACGCATCAGTCAGTTGCAAGAAATCGATGTGACCTCCAGGCGCGTATACTACTCTGGAAAACTATTGTTATTTGAAGAAGCCCTGTTAGCGTTATACTGGGGTTGCGCTATTAACAGGGACCTTCCCAGCGCAGCATTACAACGCTCGCACTGAGGCAACATCCGGTTACCACCGCTGTACAACCCCGGACACATTCACGCGGTCTAGTATGAGCCTATAACTCTCGATAGGCAACGTTTCAAAAGATCAGCACGTCTATTACCTACCTCAACCCTTTAGCGACAAAAAAAACGAATAAGAAACAAACACTTACCTTGCCGTAGTGCAGCTGCAGTATAGAGAATTGTGTGCCGCATCAGAGCTGGCGTGGTTCGTGGATGCGCCCGATCGGCTGGGACGTAGTACCCTCTAGCTACATTTTTACGTGGGAGATGGTGACGCACTCGACGGTACCGGCGGAGGGCATATAGAAATTGTAGTTCCCTCCATCAGGATCTCAAGGCTAACTGTCAAATGATGGCTGCAAAGCTACCAGCATCCTCGACACGTGCACCTGAGTTGAGAATATCATTGCAAGGTCCGGGATCGATAGGCAGAGGTCTAAATAGGTTAACAGAACACCGCACTGTCTTAACTATCAATGTCGGCGGCATTGTACTTAGCGATTGTATGGGCCTCTTCTCTTGGATAATTGTCTCGGACCTCTCAGCGTACCCGAATGCCGTTATCGAAGACGTGCCGAACGAGCCTATTAATCGTTCTGACTGCGTAATGACATAGTGTTAGACGGCGGCCATCTAGAAATCACGGGATTGCAGTCGTATCAGATGATATTAGCCCGGGCCAGCCTGGTGCAGGCCAAGGGGGGGTCGCGGACAGTTTGTCGAATGGGGAGTCCCGCGTCGCGCATGGTAACTTGGAGGACTGAGACACTGAGCAAGTAACATCCCTCCGGCCTATTCCTAGAAGCGGTAAAACTGTGGGAGCACGCGGCTCGATAACGACATTTCTGTAGCGGCGAACACATGATTCTACAAAAACGCACATCGGACCACCGAACTAGAAAAGAAGCGCTTTTATGATTCCCTGGGTGATATCCCTTTGCTTATAGCGGCCTGCTCGTACATAGTGTTCACTCGCTCGAGCGGCAGTGGCACTGCGGGCCCTGAGAGTTCAGACTGCTCGCCATACGTTGATGGACACTGAACCAATATCGCGGTGCCCGATTTTATAGCTTTGAGTATCCGTTTCATGTGAGCACACTTGAGTGTAGACATACACATGTAGGGGCCTTCTCTGTGCTGCTCTGCGCCAAACTCCGCTCTCAGTCAAAGAAGCCTTCGCAATATGCCGCGAGGCTCAGATATAGCTTAGTCCTAACGCAAGTCCGACTGTATGCGTAGAACAAGCTACTCTTCCCCAAACGGAAGCGCAGTGAGAGGTTTTTGGGAGTACTTTAAAGTCAGCGATCGAAGACTACGTACCGTAACCTGAGCTAGTCTTGTCCTATAACGAGCTTACATTTGACCACGGGTAGCAGCACGCTATTTCCATCTAGACGCATGAGCTAGGGCATCGGGTAGCACGACGAATTGCTTTTATCGGTACCCATGGAAAGAAATGGTGTTTTTGCATCTGGTACATCAGCCCGACTTCCCTCGGGTTAATGGACGGTGGATCCCACGGTGTGAGAGGTTGCGCCAAAGTGTATCCCCCCCTAAACTTTTAGACCCGAGATGGAGCCCTGCAAGAAGGCGGTATCAGGTGGGGTGCGTGGTATAAACAGGCACGTACCCCGACTGCCCTGTTGCGGCCTGACTGATGCTCACTCTGCTGCCGCCTTAGTTGCCGTCGAACTCCCATATCACCTCAGCTTCGCCTTCGAATCGATGAGCCTTTGACAGCTAATTGCAGTCATCGGCATTTAATCAAGTATCACACTAAGCATAAGCTGAACGTCGTCTGCGTAGCTTTAGATTTATTACGTAGTTGGATCTAATCCAATCTTGAAAGAATTAAGACATGTCCCTGCGGTGCCTGCCATTATAGCTGTGTTCCTTTTAATATTTCTTCATTCCTCGAAGACATTTTGGATGCGCTGATTAAATCACCACGGGTCTATACGGGATCACACAAGCATGCCTGGTAGGGCCATTAAACAGACGTAGATACATATCTAAAACTAACGCGCGGGAATTCCCGCTAATGTGGTAGGAGCCTCGACGGAGGGTCATTGTATTTTAAAAATGTACGAGTTCGGGGGACAGGCGCCGGTATACCTCGAGTTATCAAGCAAGAGGGATAAGGATAGGACAGTTCAGTCGTTTGTTCCATCCACTATGCGGCCGTGGAGCTTAGCCGGACGCCAGCGTGGGTATATCCTGCGTTATAGATTTAGGATGAGTACTCCCGATAAAGCACTTGGGGCATACGGTCGGCACTATTAGGGTAATAATTCGGCAAATGATCAGCTCGGTTTATAGCTAATTATATAGCAGTATGAAGTATTTGACGAGTAATGTGGATTTACAATGTATCTTTGGGCTGGGGAGAGACACAAATCCCCGGGTAACCTTGATTTACCATTATCTAATAGACTATCCCGGAGCGCTGTCTTATGGAGCGTAAACCGGGAGACTGGTAATAGTGCCAGATCCACGCCTCACGACCGAGAGCTGCATCCCTTCCTACGTGTCGTGCATGTGTTTAGTACCCTAAGGGAGGACTTGGTAATGCGTCTACCTGGGTCATCCGGGACTAAGGTGAGCAGAGTTAAGCTGCCTGGTTTCTTGATACGTGTCCTAACAATGTGTGGCGTGGCGACATGTCGCACTAGGCATATAGTTAGCAGGTACGCCGTTAAGGTCATTGGGCCGTATCGTTTCGGATTTACCTCTGCAGCTTGAGCCCCCCCGTCGGTTAATTATGCAGTCGACAATTTAGGCTTGTCGGTTGATCTGGCGATGGGACCTCACCTGGATCGAGTGAGTATTCCAACGGCTCCCGAAGAGCCCTGCACTATGTTTTTGTCGTTGATACGTCAAGTGATTCCCACGACGCAATGCAGATCGCCGTGCTGGATATGGGCTATGCGCCCAGGAATCCCTGTCTGGCATCAGGGCGGGGCTATCACCCAGATCAAACACCTAGGAAGTGTTTAACATCGCAAGTATCGGGTTGTCACTCGTATGAACCCCACGGACTAGGTACTGGTCGGAGCCAAACCGGACTCAATAGTTACCGCTCAAGTTTTCCTTTCCTTGCGCATCCGCATTTCAGACCAATAAAACCAGGGTGGTTCCTACTAGTTGGTCTAGTCTAGGTCGGTTCTCGTAATTAATAAACACAATTGCACCTATACGTCCCTGAGCTCTGAATAGATGTCGTAATTGTAGTCCGATGACGCATTAAAGCGGGGTAGTCAACGTAAGGTATAATGAGGCAGAGAAAAGGCATATACTCCGCGCGAGAGTAGGGCCGTCCGACCGCCGGCATACCCATGACGAGAAATCAACAGTGGCGTCTACATGCACTTATCGTTGCGGGCCCTCCATCCTGGGACTGTGGGGGAGTCGGGAAAAGGTATAATCTTACATGACTCTCGTAGAAGGAGAGTCATACATCCTGTGCTGGCCAGTACGGAAGGAAACACCGGCGAGCCAGCTCTAGCGTGGGAAGGACGACCCATTTCCCAGACATGAGAGAAATAAAGTTTAGATTATAGTAGGAGTATCTTACAACGTCCATATGTTGATGTTAGGGTAGACACGCGCCATATCCACCTGGCGGTAGAAGCTGCCCACATCTGATTACAAAACAGCTGGAAGCTTCGAGTTGCGCCTTAATGCGATATGGCTAGGATATCACGGCAGTACTACCCCGCGTCGGGGATAGGATATGTTAGGTACATGGTGGTCGATATAACACGCATCAGCTGCTATGGCGTAGCTGTTTGGACATTTAGTCCTTTTTGTTTTTTCGGGAACTGGACCGACACTACCGTAACAGGAGGTCGCCAGTTCCTGCGTTTCGGGCACAGCACCACTGACCTCGGTGAGGAATCGGTGGTGATTTGGTTTAGTACAGGGAGATGTAATCCTATTGCGGGCGGTTAACAATCTGCTGAGACGTGTCTGCTGAATGATTAGTTGGTATAGTTCAGACGTATCTGCTATGCATTACGGATTATAACAGGCCTGGAGACTGTCCGCCCTTTGCTCCTTTCATAGACGGAACAAAAGACACTTAGGTGGCGACTTGATGGTGACTTTATGGAGTTAAGTACAAAATTTTAAAGAGGTTAGCACCATCCCGACGGTTGATTTAGCTTGCAACGACTCAGGCAAGACGTTCGGTGAAGGTCCAGTAGTCCCCGACATGAGTGGAACGCGGGCCGCCCGGAATACAAGACTTTGATTGGGCGTACTATAATCCGAACCAACGACACCTGGAGGAACAAATCGACTCTCCTCTCGACCCCCTGTTAGATGTACACATGCAAACAGCAGGGATGGTGAACTGAGCCAGCCGAAAGGATGTGCACAAACAAGCGATAGGCCGCCCCGGGACCAACGCATACTCCCTTAATGAGTCCTACGACAAAAGGCCAAGAATCTGATAGAAACACTAGGAAGAAGCATGTTCAGTGGTACACCCTGCAATGCCCACGAGCTTATGAGGCTGCTCGTATCACTATGTCGCCGCCGTAGGCACCGCATCGACCACTTAATCATAGTTAACCCAACGGTGGGGTCTCTGGCGACGATTAGCGTTACGGCTCTGAGGAGGGTAGGGGGCTCAAGGTCCACATCAAATTGCGATCCACAGCGGACCCTTCTGTCTCCGCCGGTGGGGAGCTCATTCGACGTTACGGTCTTCGGCCGCAGTATGTATGAGAGGTAGAGAGGTAACTCCTCCGCCGCATCCTGCCATTCTTGGCCCCTAAGATATTATAGCCTAGCGTCTACAAGTTCTTTATTTCTTTGTGATGTTCTACGCCGTCCGCGAACCTTTAAAACCTACTGTTGACAATCTCACGGCTGGGTTTCAGGAGCGCAGGAGGATATATTACAGTATAAGACTGTAATTTTGTTTGCGAGCATGTTACCTTCACAGGGTGTTTCCGAGATCAGCCTGCCACACGATAACTTTTCACATGCTCGTCGGCGTGGTAGCGGTGTTTTTCCTCACTATGTATTGTATGAACTGCTTTGACCCAGGTCCCCAAAACTTGGAAGACCAAGCAACTGCGTACGCCGCGGTCTATGAACATGAGATATATGCCTTTATGCTAAGGATGATCACATGTCGTTGACACTCCGAGGGCAGCTGGATCTTAGATATTTCGGTGAGACGGGCAAACGCACTCCGATAACCCTGTGGGAATTTTATACGGCCTGAGAGTGCTGGTTGGCGTAGCAAAGATCTTACTTAGCCAAAGATCGCCTTGCTAAGTTCAATCAGGGTCAGAATCGGTTCTTGCATTTAAACCGACGGGGACCGAAATATCCGTAGACGCGAAGTAGACTGCGTTGTTCTTACATCGGAGGATTGCGGTTTCAGACGACGCCACGAGAGCGTGTGCGCCTAGCTTTTTGGCATATAGCTGGTGTACCCGTCATGCGCCAGATTTTGTTTTCGGCCCGGAGCGCGTAATTTGCTCTGTTAAATGGCACCCTGTTCAGAATCGTTGAGGGCAGCCACCTCGGGAGTCACCCTGACATAATTATGTGTCTGACTTGCCCGTTCTGGGTGGGGTGCCCTGATGCCCTCTCTTTAAATTTAATGAGCAAGAACCTCCTAGCATTTTTATAAAACTACAGCCGGGCACTTCTTGAGCACCTAGGAGCTAGATGTGTGACTCAAGATTGCAACGGTATCACTGGGCTTACTTTTTACCTACTCCAGCCGCCTTCTAGACTTGAAATTGTAGTGGTCTAGAGTACAGCCCAATACCATGGTCCCTTGCAGTACATGGAGCTGCGAGGGGTACCTCCACGAAGTCAGGCCTGTGATAACTCATGTCGTCGCGGTTCCCAGGTACGGGGCAGCCGGTGTGATTAAATGTTTATACATGTTCTGGGATACACCACCCAGGCTAGGGTGCTTAGTGTACCAGCCAAGTTCCATGCGCACCCGAGACAGACCTAAGGGGGTCTCCAGGAATAACCTGGTATATTGTGCGTTGTGTTGATTTGCGTTCTCCTCCCGTACCGAAAAGATTTACCCTTCGTCAACGTGACATTCAGAGCCTTTCGGGCGCGCTTCTCGCCCTCATGAATTCATTTGCACTCGATGGATCTTTTAACCGGTGTGCCTCTCATCAGGTAGTCCAGGTAGGTACGGGAGGGATTTGAAACTTAGAACAAATCTGTAGCGCTTAAACCCCTGGCGCCTATCCAACAGAAAAAGATCGCACCTGCTGATGAACCTATCGACCTGAGGAATACGATCCAAATGACGACGGAGTTGGGATTGACATCTTATCCCGTATTACAGACTAACCTCCAATAAGCACGGGAAGCGTGGCTCCAGGTGAACGGAAGATCTTACATCAGTTAGCACGCGAACATGCGGGCGCTGCTACTGCAACACGAATGATAACGGAGAATCAGTGTATGCGCGGTTATCAATAGGTCTACGCATCGTACATTCTTCTACCGTGTACACGGATGAGGGGTTATCACACACTACAACACTCCGACAATCCGACACCTCTGCTTGTCGAGTCTAATCGGTGTGGCCGCAGGGTGAACGCCGTCTATCGAGGCCCTTGTAGATTGTCTAATGGGATCCCGTATGGCGTTGAAATTCAAAAGCCTCGGCGCAGATCGGCGACTTTCTATCTCAAGATCAGTAAAGATCCTGCTTCCGAATTTACCTACACCATCATATCGACTCGCGCAGTTAACTAATACCCACATATTCAAAAACGCGAGTCTTCAAGTGCATATGGTAACAGAGATCGGCCTTTGCATATCTTTACTCTTTATCATTCGAAGCATAGCAGGGCTCGAGCAAGATGGTGAAACCCTTTCAGCTCCCTAGTCTTAACTCTGGCTGTTCCGTGCGCCGAGCCCGACGATAATGACCAAATCAGTAAGATGGCAGACTACTGGTGTGTGTAGAAACCTAACGTACACAGGACCAAAACGGGGGGGTTGCGTGTATGTTCGCGGGTACAGAAGCTGCATATTGAGGTTGGGGTTTTTGCCTCCCGCTACCTGTCTGAGTTAGCCGTATAGGGCTAAACGCGCTCTAAGAGCTCTTTCGGTTCTGGGGCAGTGATTCGCTGTCGACCAGAAAGTGCAGGGTTGCTGGCGACGGGATCGACGGAGTTAAGCCCGCGTAAAATTCCTACAACAATAGAGACCTCGAGAACTAAGTTGCACGTTTGAGATTTACTGAATGCTGAATGGATGACAGAGTAAATCCCCGCGCCCCGTATACCCACAACTCGCTGATACATCGTACATTATAATAACCTGGTACTACCGCTTGAGAATACAGGACCTGGTTTGCAATCTTGAAGTCGTGGAGCTCATCTCTCGAGTCGACCGAAACCCCCATGCATAGCCGTACGCCATTTTCTTTTACCCGCCGTACCGCCAAGATTTTGGACCCTAGCGTAATGACTGAATTGGATGCTAAGATTAAAACAGTACGGAGAGCGTGGGTCTACTCTCGCAGCCTGCAATCCCCCGGTGATTTTTGTAGCGCGCTGCCGCCAGCTTCAGGTGTCGACAGGATGGTACGTTTCGTATTGATTTATTGCCAGGGGTGGCGTGTAAGTCCCTGTATTGAACAGAGCGGCAACTACCACGAAATGGAAAATTCGGTAACTAGTCCAGGTTAACATACTGGTGGCCATCGTTAAGTTTTTGCCGCCTTGTACATGGAGCGTGGAGTTTACACGGGAGTCCTGAGACGGCTGGCGAACCTAACTTCTACCATATCATGCTGTCAAGCGAATGCGAATGCAATCGGTTAAGCCGTAGGGGGGTTAGATTGGACACTTCCATATAGGCTCACGAAGTGGAATCGTAAACATTGACACTCAGCCTGGGACCGTCCGAAGGTTGGTGGAGCGTGAATAGGAGAAGCGGGCTATTGTACAGTGATGGGCTCCGTTCAAGCTTCATTGCTGCGGTTCCATTTCATAAGGTCCCTATTTCGGCGCGATGCCTCAGTGCTATTGGTGTTTTCCCCTTCAGAGGCAATTGTCCATGCGGACGTAACATCTTCCACAGTACTTTTGGCCCTTTGCTTCGACGTTACGCCTTAAATCTACGCAGTACACACCTCGAATGATAGAGAAACCGTTTTAAAATGGGTAACCTATACGGGCTCAGAATGGATTGACTACGCCCGGCTTTGCCGTCTATGACGGTATCGGCATCTTAAAAAAAAATCCGGCGCTGGCATCATGACAGAGTCCGCCCCCAGGCATTAAAAACAACCGAGATATCTTACTGGAACTGTGCGATTATTGAATAAGATCATCCTCGATGCCAACGGGTTAACCCTTTTCACAAGACTCAGCCTTACGCCGCGCATTTGACGAAGATCGAGAATGCAGTAGCTTATACTTATCGAACCCGTATCCGGCGCGCGAGACAGCCATATCCGCCCAGCATTAGTTAACATCGCGGGTTGCGCATAGTGCAGGGCTCGATTTCAAGCGCGGTACTAAGATTGCAAATCCAATGAAGTTATGAATCCTCCGGATACTGCGTGAGGCTAGATTGTGATTCGCGGCCTAAGCGCAACGGTTTCAACTCAGTGCCTTGTTAAATGCTCCAGCGGATCACGCTGACTCCCTTCAGAGGTCCACTTTAACTTCCAAGGCAGCCAAGGCGAAAATGCTGCGAATTACGAAGGAGGCACCAACAATACGTTCATCTAGGCTGAACCAAAGGTATCGCCCCATTTACCTTAACATGGAAGGCGGTATTCACGTACTGGCACACTATGACTTGTTGGATCTGATACATAATCCGAAGTGCTGACAACGCGCGACGTCGGAGCAGGAACAACGGCCCACACTCTGAGCGAGGCCCTAGGGATCCGGGGCCGGTTCTTGAGGGACCAGCTCCGGGGCTAGGCCCGACGGAATTGTGGATAAGTTATCACCAGCTCGCATATTCTAAATTGCAACCGTAAGAAGTCTGCCTATGGTTGAATTTTTTTTGTGCGCGTGGGATCTGTGTCGATCTATAGCGGGAGTGCAAGCGGGGTCCTTCATGTCTGAGTAAGGTTTGCTTAAAAGTTAGCATAAATTTCGGATAAGTCGTTGCTTTGTAATTCCAAGTTGCCACTACTCTCATCCTATCCATAGTCACAGACCCATACGGGTAGAAGTGGTAAGCATTTGTGCGGACATCCGTAGAGATAGCTGTCCGCTGAGAATACCAGAAACACCAAATGGAGCAAAACCCAGGAGTTCTACTCGATCATATTGGAGTTACTAGAGCGCTTAAGTGTGACTTAGAAACTCGAAACCGCGCAGGAGTCGGAAAAGACGATGGGGAGCGCTGAGAAGCGAATATAAGCAACTTTTTGTTTATGATTACGTAAGGTTGCGTACGGGTGTCATCCCCTGTCAGTTCGCGAAAAAGTCCAGGTACTGTAAGTAAAGGGGGATTTTAGCTTCTTGACTACCGAGACGAAGTGCGTCTAGGGAGTAGGCCGGTCCCCGTTTTGGCGGTGGTAATATGATAATAGGAAATGGGCGACACGTTTTATCGAGGGGTAAATGCTAGACCCCCGGGTCGTAAAAAAGGCGATGCCTAATAGAGGTCTAAGAGGGTAGGTGGTAATAAGAAACGGAGTTTATAACAACACCTGAGTTAGGTGAACGTAAAGCTCACACAAGGAAACTGACCACCACGCTTACTCTTGTGGAGAGCAATTACACTCAAATGAGAAAGGATACATAGCGTGTGCGTACGTTGCCCCTTTTTCAGATTAACATTGTTGTAGGTATAGGGTTTTAACTAGCGTAAATGTGCCGAGCCTACCTCCCATACTAGAACAGCTTTAGTGCATAACTGCTAAAGGTGCCGGCGGCCTTTGTGTCCGAACTAAACAACCCGAGTTATCGAATGCAGGGTGGCGCAATGAATGTCAGAAGGTGCCTGAAGGGACATAATGCCCCCAAGCGGGCTCAGCAGCTTCGTAGCGCGAAACAGTTCGATGTCGTATCCGCAATAGGCGCGTACACTTTACCAAAGCATGGGATACAGGTACCCTTTATTCGTTGTAGAGATCCATTAAAAACTTGCGTTTTAAGCCCGACATAAGAATATATCGGCGACCCCCGGCGGTAACATGAATAGGCCGCGCCCACTCGGATTTATCGAGATTCTGCGCACTGGGATCCGATCGGCAATGCTTTGCGCGACAGTTTGGGACACAACCCCCCACTTGCCCTAGAGTCCCCTGTAGCTTGCTGTCTGCTTATTCGGTGACGTGAACGATCGACTCGATAGCGACTGCAGACCAGTTACCGTCCTCTGACGCATACAGGATGAGTTCGCAGCAACTCACTGAATACTCCTGGATCATCGCCATAGAGCTATATCTTAATTTGCCTAGCAAATGCAACGTCGAATGAGGATCATTGCTGCGTCTTTAACTAATCGCAGCCTCCGTTCGACATCCACTTCGAACATGAGAGCGAGTTTGTCGTGGGCGAGAATTAATTGTTAGTAGCAATGATATAATGGAGCGCAAGGAGGCGGGTCGCATTCGGGACGCAGGTTACATTGAAACATCACCTTTTTTGTGTAGTTGCTGCCTTGTCTGCGAACGCTAGTTACTTGCTTTAGACACACCCGGTTCGCGGCCATACCACTCATCAACTGTGTTCAGATCTAGGTTAGAAGTTTTCCCGGCCGGCGACTCTGCTTCATGCATAAAGTACCGACGGACTAGGTGAAGTCTTACGGGCTAGACATATATGCCATGTTCGAAATTAGTCGTCAGTCCTTACGAATGCGCATGTGTCCACGTTGGTGTCGGGTCAAGGATCGAGGTGGATTCGATAGAGTCTACCAGCCGATGTTCGCGTAGGGCTGTACGACTCGCATCTGGCGGTCCGCGCGACGACGGCGTGACAAGCTCTCACCGAAATACGGCTAACCTCATCAGATCTCGTTTATACAAATCTTCCTAAAGTTAAGGGCACCTTGTAGGAGTCGTCACGAATTTACGTCAATTCTGCATATGCGCTGAAGGTCGACCGGAGGGTTAACAGGGAGTTATCACCCAGAGTAGATCGGGGCAACAGACAGTAGATTGGGTGAGATCGCTACCGACTATACCCCAGAATGGAAGTTGTGAGCTAATATAAGTTTGATGTAAGATAGCTGTAATTCTTCGCTAATGCATCCTACTTCAGCAGCCTGGTACGTAGCTTTGTGGTAGGTTAGCCACTTGTTCTTGTAGGAGACTGTGATCCACCCCTTTTTCTCCATCCCATATCAAGTGCTGAGTCCGCACAGCTTCGCCCTATGATCGGTCCGGATCATGATTTTGCATACAATAGATTTGAGGCCGAGAATCAGATTCTCCGATTCTTAGGTTTATTAAACGTGCAGGACCTACCTTGTTTGATTCGATATGCGCTAGAACGTGAACAACGAGGTGATCCGCCATTACCCAGCATACGATCCCGAAACGGGTGTTGTGCCCACGGGTACGTCATTTTATTACTAGGACGGGACCGTGTGAGACAACGAAACCTTCTTGGTTTGCCGCTTTTGTGTTCGCTTAGCGCTTTATAGAGCACGAAGCCCAAGATACGGTGTTCAACAAAAGCTTCTCAGGATGGGTCAAAGTCGTAAACATCGGCTTAATCACAAAGTTCATGAATTCATCTCCTAATGGATTCCTAATTCATGCCTAGATAATATCGTAGGAGTAGCTAACCGACCCCTTTCTCTCCCTGCATGGAGGTCCACGGAAGCGGAAATCTTTCCTGGACTGCGGTAAGGGCGTTTACAAGTAATGTAGATTAATTCCCGCAGAAGTGATTTGTCGTCTACCGACGCGTACCGCATAGGCACCTTTTTACGTCCCCTAAGGCGTAGAAAGAGATACTCTTTGGCCCAGATGGCTGTTCCCGTAGGCATACGTTCCTCACGACCGGGGATCACTCCGTAGCTCGACGAGACATTGCCGAGTATTGAGTCAAGGTCAGAGGTGTTATACTGTTTTATATGAGGGCGGATCTGTCTCTGGATTCAGTGTAAACGAGTCCAGCCTAGCGTTTGATGGATGCTCAATTGAGGACCACTCTCCAGAAGTGATCCCTGTTGATATTCTCACTCCCGAGTGAGAACTGAGTACCTCGATAGGAACAACCGTAGCTATCCCCAAGCCTGTGTTCTGGTCGAACAAATACGGTTCATATGTGCAAACCATGTATTTACTACGGAAAACCAGTTGTACGGTGTGCTCTAGCTAAACTAGAACCCCCATCAAATCGACGCGGCCCCTCGATTCGCTTCTCCGCGCTCAGGCGAGATCCGTTGCGAGCTACTATTCGCAACATGTTGAGCCCCAAACTTCGCACGAAGGAATCCTGGAGTAGAAAGGAACAGGACACGGCTGGCACAGTACCCTAAACAGACCAATTGGGACTACATCGTTTTAAGAAAAGAACGCGCTGGCCAATATGCCGCAGGTGCCCATTCAGTCCACCGGCAGAGATCCAATTACGGTGTATAAGGGAAATTACAGTGCCAGCCTGTATCATTGGACAATTGGAACTCTTTACTCAGTAATGGACGTCCGTTACATCCGTGCCGGAGGCACATTTGTTTTATGGATCGCTGCATGATAGATTGGGCCTTGGCGCTTTAGGTTGAGCTGTCCAGGCCGAACTGATAGTTATCCAAATGAATACGGTAGCCTTATAGTTCGGCCAGATTGAGACTTGCGGACCATTGATGCAGGTACAATGGCAACAGCTATCTCAACGGGGGCTTCATGACAATACCCTTAACTCTAGGAACACGTAATAATCATTTGTTGTGAATCTTGGCCAGAGTTGTATATTTTCTTAGTCAACATCAGTGTGAATCAAGATCTGTTAGAGTTCAGATTCAGGTCGCTAAGCCCTAAAGTCCAAGTAACAGCAACATGGTTAATACTGATTGCAGGATTATCCCTACTATTAAACTACCACTTCCGGGCCGACAGAGGAATAACCGAATATGATACGGCCTGTACTGTTCCCCACTTTTAGAACGGTGGAGTTCGTCGTTGACATAATTTGGACAGAGTGTTAACAACTCCCGTACACCCCAAGTTGTCTGAGCTAGTACTTCTAGAAAGGAATTGAATTCGACCGGGCACTCAATCCGACACACTAAAGACTCGCAGTCGTGCTACGTTCACACAACCACCTTGACGACGTCATTAGAGCCTCGCTGGTAGTGACGTCCCACCCGCCCGTCTCCTGTTCCTTGTTCAGTAGAACTTCCCATCCCTTTACCGTGGCAAACTTAATAGAATAATTATGCAGTAGGCCATGCCAGAGCACCTGTTTCGCATTCTGTGGCAATTCACGTAAAAGTCGAGGCACGCAGGCCGCGTGTTCGGGAGACGCTCAGCTTGGTGACTTTGCTCCGTTACCCGAACTGGTACAACGTCGTCTGCAAGTGAGAATCGACGCAGCGCCTACAGTCATATAGAGGGTCTGGTTCAGCCTATAAACGAACTTCTCAGTATGTGTACTTAGCTCCTAGTATAGATAACGCTGGAGACGCAAAAGGCGTACATACGACGCGTAAACGGAATCCACGTAAGCTAGCGACTCCGTGTCCATGGAGTAGATCAAATTCTCGCTCTGTCTTAATCTCTTGAACCTTAAAAGAAGGCCCATCGTTCTATGTACTGCCAAACTTTTTCTGGTACGTGACGACCTGATCGGAAATAATGATTCGTAGCCCTCGATGTGACAAACACATTGCGAAATGTCTCATCTTATATGCACGTACTGTAAGTCGAGCCAGATTATCGACCCACCATTTACTTGCGCCCTTTGCTTTTGTCGGTCTCTGGTCGGGTCATGGAGATTATTGGACAGCCTGTTAGCCGACCAGGTAAGCGAGTGTTGCGCCAAACACCGAAATCTGGACACGAGGGGTCTTTTCATATTCCACGGATTGCGAGACATAGGAAGATGCAAGCAGGGGGCCCGAGGTCAACCTGACGACTTTGAGTTCCAACATTACCATCTGCTGTATCGACCTCAGTCTGCAATGATACTGAGGTCGAACCACATGGTAAGTGTTCCGACCTCACATTCGTGATCCATGGGCTATCCTAAATCGTCGTAGAGCGACAGGTGTCTATGCTCATGTGAGGCAATGGAAATCCTCCCTTGTGGGTCTGTCGTTATTTCCAGCACGAAAGCAAAGTGCTAGTCACTACCTTCGGTAGGTTTCGCATACATCGTTAACGCCGCAAATCGCAGTTGATAAGAGGGACTTAAGAGATCTCAAGATATTCCACCAATAACAACGCTTCTTAGCGGCCAATTTCTACTGCCCGGGCCAACGTAGTGACGAAGAAAAACATAGGCGATCGACACAGGCATAACGTCACAATAACGACAAGGGTGGTGCCATAAGTGTCGTTGACGAGACAACCGCATGTCAGTCAGAACTTCTGCCCTCCGTTACTCCCGGCCCCCCCAATCCGCATTCCGAGCGACCGTGAACGTGTTTAGGCAAAGCGGGGAAACAAGTTGCAAACGGCTGTCCAATTGAATATATAGCTGAACTATCAAATTTCTGAACCAGTACTGGATGTGTGTACTGCACTGGGGCGGATCTTCCCGGCCAACTTAACGCGATTATGTCCACGGGAGTTTATCTGCCGACGAGGTGGTTGTTGATCCAGAGGCGTCAGCGCTTGAGGTCTCCTTCGATGAGTCTTCATTCAGTAAGCTTGAACGTCCTAGTAAGGAAAGACGCCTCTCAGAGGCTGTCCTATCGCGCGCTAAGCACGCTGTTTGTCTCGTGAGGCGTAAAGGGGACCCCGCAAATCTAAAGGTGTCATAAGTGACCACGCAGACCCGCTTATTAACTCTGCCGCGCTTGGTACGTTTCGCAGACGCAGTCCCCTAGGCGCATAACCTACCATATCTTTTAAGACCGATTGGACGTTAACCGCGAAACGTGTCAATTATGGGGTCCGTTGACTTATAAAACGCAATAACGCAGCGGGGCCGGATGTCCCTCTACAAAGTCGAGCACTAACGAATGCATTTTTACTCAGGGAAGATCTATCCTTGAATAATGTCCTCCAGCATCACAAGGTCATCCTAACCAAAGGGGATCTCGGCAGATTCTTCATCTATCAGTACCAGGGCTTGTACGTTGGCACAGACTTGTAGTAATCAGCAGGTGAAGGTCGTTTTTCGTTGGGGGCGACTTCAGTGGTGTTACCGTAGGCTCTGGCTTGATGATCAGGCCCCAAATGGGCCCCTTCGCGGACATTCACGGCGGGGTGCAAGCAACAGCGCCCCGCGGCGCGGAACTGGTTCCCGCCACCCCATAGTGGGAGAGAGCGCATCTGGAGAGAGGATGATACTGATCCCCAAGAGTCCTTATCTGTAACCTCGTGCTTACGATGTAGAACTAATGAGGGCCTTATGTCTACCAGATTGTCGGGGCATTGCTAGCACATCGAGATCTGTTACGGATGTTCAGTAAACCGGAGCCGCAGGTGGATTCAAGACCACTTATCTGATCCCCTTCATATTGCGTTGGAGTACTTCTTTGTTCCCTAACTACCATCACCCACAGCTTATACGTATGGCGTTGCGTGTTACTTTTACCTTACCTAAGCGGCTGGGTGCGCATGACCTAGAGCCAAGAGTTGTCACTCCGCGCTTCGCCACTTCCTAGAGTGTCACGGCCTAGCGATTTCCACTGGTCGCACGGTTACAAGATGACGTTTTAATTGTTGGATAGTCCGACTTAGCTTCCCTGACGGAACTAAATACATGGTCCACAAACGGGTTGAAGTTGCAACAGATATCCTGCGCGAATAGTTTTGTTTTAAGGGCCTCAGGGCCCCTAGCGTGATGAGAGGGAAAATTTGGGATCTGGTGAGAAAAACCAACTGGCGTCTATAGGAGCTTACTACCTCTTCACGCTTGAACTAACCGCAGTACCCTTATGATGTAAGTCACCTGGCGTTCCACAACTAAGTATCGTGGGGTGCCACACTCGGTCGTGGGAATATAATTACCTATACAGCCCCAACTAAGCTGTAATCTGGCCCCTTGATACTACCACTAACCGGTGGACGATCCGTGTAGGTGAAGGTCTGGTAACTCTATGTCAGTAATAATGAGTCCTCTACGGCTTATACGATGCTTGGACCAAAAACTCTCGCAAAGGCAATTGGACACACTTCACTATACAGTGCCTGCTTTTGGCACCCAGCGGCCTTAACGAGGCGGGTTGTCATTAATCTTCATGAGTCGCAGATGGATGTGATCATTCATGGATACGTTCTTGACCGTTGTTTTTTGCCCCGAGTAATAGGGGGCCAGACCAACCCTGATCCTGGGCAATATAGACGCTGGGCAAAGCACTGTTTAATCAGTTATTATATCATAGTTGTACTGCAGCCATCACCACCCAGGTTATGCCCTGAGGCTGGCATGACTTATCAAGATTCGCATCCAATGCTTGAAGTGCTTGTGGCTTTGAAAGTGTGTAAGGAAAGGTGAGTCCTATTTGATATAATATCTTCCTTTAGAAGATGCCATCAGAGGGCAGAGGTACTACTAATCGGTGCTTCTCCCTCGTCGTGTCCATGGGCCCTGCGCGCTCTGAGCCTCCACCCACTAACCGGCCTCCTACGCCCCCAATGTAAAGGTGCGTCCGAAAACGTACGACAGTTGACATCTGCGACCGACCTTTAGATCTTCGGGAAAAGCTGTTGAGTTCGGATACTACCACTCCGTGCGTCTTAAATACCCATACGATGTGACCAATACGGGCAAAACTACACGGTCCACACTAATATCCGGTCGTGGTCGAGGAAGCCACGCCCTTTGTTGCTCAGGGCAACAGGTGTGTTGAATGCTAGAAGAATCGGTCTGTGTCCCTAACCCCTCAAACATAGCTCTGCGGATTCCCCAATATGAGTAGAATGAGCTGTCCGCGTGTTTTAAAAACGATCGAGAGGGCGTCCGCGTCACACCTGTGTTGCCAGGGGCGAAATGTCAATAGTCGCACAGGCGCTATTTGAGACCGCCGGGACATCTTAGGTCGGTCCATTACCCAAAACATATAAAAGTGGTTGGGTGTCTCTTCGGCCTATAATGTAAACACAGGCACCGGGCTTATTGACGCACGGTGACACTGCAAGCATTCGGATCGTGGCCGCTATGTTTCTCTGCACGACTTGCACGGAGTTACGAATACCGTACGGAAAGAACCTCTATCTTTTAGGCGACGATATAACGTCTCTTTTTGGACACAGCCAATGTATGGAAAGAAGACTAGGGCGGAGCGTAGGGCTATGATATATGTCTACCCGTGTCTTATATTCTCAAGGTTGACTTAGTCACGCGCTGCGGTGGATAGTAGAGGGGCGGCGGCAAGCGGTACCAATGACCCTCATTGATCGATTCGCATGCAAAGACCGGGATTGTCATGACCGGGGCCTCCCCCAATAAATATTATCGAATGCGGTGGGAGGTGTAGACTATTAGGGCCGAATTCTCCTTTTGGTTTAGCCCATATAAATGTGTACTGAACGGATCACGGTCGCCGCACCCACTCGGACGGCTTGACTTTTGGATATTAAAGGACCAGTGTGTTTGGTTGCCTAGGGATCCGTAAGGACTCCAAAAACGAGTGATAAGACATAATGAAGTCTCAATGAAAAGGGTCCGATCTTTCTTGTTACATACGTTACTTAAAATGCGTTGCATGCAATAGCACAGACGTGACCACTAGGGACGGGTCAATTAACCTTCTGATCCAGAAATGTGGATCTGGTACACGAATCTCGGTGTTCACTATGGCACGACGTGCCACGCGTAGGTGCGAGTCATGACGGGGCAACCGAGTTTAGCTATGACGGTGGGTATATCCTACGATCACGATCATCTGTAGGTTTGTGGTCGTCGCTGCAGACCGTTCATCTGATTTGCAGTAAGCGTTATGTTATGGGCCGTAGCTCGCTTAAATGTCTACAACATTCTAACAGCTCGCCTCGGACCGGGTCTTGCAATATTAGCCAAACCACGGACCCGCGATTGCTTCGATTATGACAGGTCGCTACAACAGAGCCAAACTAACGTTCCGGTTTTCTTGCCTTAACTGGGGCTTCCGAGCCAGTAGGGTTGTGGGCCGGTCCGTTTCCGTAAACCGCGTTGATCAATGTTATCTAATCCTTAATGAAAGGTACTTTAACATTTGTTAACGCCAGATAGGTTGCTAAGTTACTTTCAGGCAATGGTTATGTCATAGGGGGGAATATCATCGCAAACCCTCGTTTCAATCGGCGATGTATGCGTACGTACACGCATCCGACCGCGTTGTGCTTCTACGACTCTCCCGGAGCGTTATTCTTCCCTCCGTCAGCTCCAAATTACGGGCGTATTAAACGTCAATGGCCAGAACGCTCAGCAACTGTCGTGGCCGTCAATGTTCTCCCACAGGGACCCAAGACCATTCTCCAATTTTGGGATACATCACATGGAAGTAATTCCAGCTTCCGCCTCCAGGGCGGACACAGCTCTTGACATTCAGCACGTACCAACGACACCTAGCGGTATCTGGTGTCCCGAGTGGCGACGGGGACATCGACAAGCAGCCCTACATGGCTCCGTCAATATCTAATCCGTGAATCCGGACACTACATGGTCAGTGTCGAGCTCTGGCACACGAAGCTTGTTCGGGTTTAGGCAGAGGATCATTTTAATAATACCTGGTGTCCCGGTACAGGAGGCTTTATGTATATAGCCACTTGAGTTTTCTACTTTCGCATTGTTGGACGACGAATCCCTCTGCGGTGGAAAGGCGCGACTGGATCCCCCAAGGCCATAATTGTACATCCGCAGAACTGATTGTCCCCATGGCTGAGCACCGACAATTACGCACTTCAGGTACATTTACTGGTCGGAAACTGTAGGCCCAAAGGCTCAAACCCGACTTTTTACCCAGATCATTTTGTTGTAAATAAATACAGTAGGCAGATTTCCCTGTAGTTTGGCACACCGTTGACTATGGCTCTGGCGGTGTAACACCTGTGAGCTACGTGACAATATTGGATGACTGTGACAGGAGAGACAGAGATTAAAGGTTGGATTGACATCCCATCACCTGCCCCAGGCGTGGAGCCCTCATCCACTGTGGCGTGGAGCAAAATTATCGAAAGAAGGTCGCAAGGTTGATTAGTTATAGGCAAGGGGACAGGACGACACCCCTTGCATGAGCTAAGGATTCGTCCTACAGGCTCGGACTTGTGAAAATAGGACCCCAAACACACCTGCGGATCATGTTCGATTCACTCCGTTTAGCGCATAACGATCATGGGCAAGGAGTTAGTTTTACTCTCCTATTATTCCCAAGATATTACTAACGCAGCCGCGGGTCACGCCAGATCATACTTTAAGATAATGTCAGTAAAAGTCGCCAGTACCAAACATGATATCAACTAGTCGGTATGCTTTTTTGCTAGCTGTGTAGTTTTTAAGGCGTTACGGTTAATGGGGGCAAGGACCAGGGTCCCATGATAGTAGTAGGAGAGTTGCAACGAACGGGGAGATACTTTGGGCCGCAAGTTCGTTCCGCTCTTCCGAACGCGTAGTCATGCAACTAATACACGTTGCTGCAGGCGTTCATTAGATTACTTTTGCCTTGAACATGTCAGCTCAGTACCTGGTGACGGAGCTTCAGGTGTTCTCCTGGAATCTCTGAGCGACATTTCAACGGTCTGAGGGAGCGTCGTCTATCTCACTTGTTACAGAATAAGCGTACATTCGCCCTTGTAAAAGTGAAAATTTCGCACTATGCGAATAGCGTGGTGTTCAGGAGATTTCCGAGCGGAATACTCTACAGTCTACGAAGCAAAACGTAGGAGTGGATCTATACCCAGTACGTAGTTCACCATAAGGCGCATTACCCCTGACTAGTTCGATAAGCGCACGAAATAAAATGATCCAAAGGCATAGGTCAAGATTACGGCCGACCTCGGGGGGTCAGCTCCACACCCTACATGTATGGGCCTAACATTGGGGTACAAAACCATCGATCACTGGGCGTTGCGCTCTACCCGGGAGCCGGAGAGTTGCACGGAACACACCACTGACATGGAGGGTACTGCCCCGCTAATGAATCCTCGCAAGGACGTCGTCGCATATATTTCAGCAAAACACTCCTGTGTGTCATCACGTCCCCATCCTAAGGTTAAACAATACTAGCGCTGGGTAGTGATGCGTTTTAGACTCGGTAATGTTCATAATAAGCCATAAGCACACGTGTGTTGGGGAATCGGGATCAATTGGTAGGTCTACATTGGGTAATAATTGCAATCAGTGGGCGGGACGAGAGAGTCTTAATCCTCGCCTCTGAATGCGACTGTGTTCTGCTGTTTTGGCGTAAGCCCAGATGCTAATCATAACTTTTGACAACTGCGCTATGATATGCAGGTCCAACGTAAGAGACCTATTCATTCGTTACCATTGTGCCATCGACCATGTGTCGATATCAAGCTGAAAGGAGCCTTGGCGCGCCCCGGCAGACAAAAAGCGTTAGTGATTACATGCCTCCTTTTAGCTGGCCTACCTCCAGTAGAGAGGGATTTCTGCCGTCCCCGAATAGGTGGGACCATTGTTCCCGGAGACGCGCGCCGCGTCTATACCACCTTGTGGCTGATGGCCGCTGCTCGCTCAGTCGATGTTGGGAAACCGTCACTGAGATAATGTTTGACAATTACTGTAGGAATGTTAAATCTGCTGATTAAACGCTCGGACATTGTCCCCGAATAAGTAAAGAGGCGAAAATCGATGAGCTTGTGACGACTAGTCAACAATTCAACGTCGACGCTTCAACTTGAGGTAGGACAAAACGAAGATAATAGTCCGTGCCCACGTAAGGAGGCACGTAGTGCTGTTGAATCAGCTGTAAGAGCTACCCTTGGGCAACTCTAAAGGAAGGAATTTATACGCTTACCCACGCTCGGTGGGAGTTTTCTTTGAGGATAGCCTGAGAATAGGGCTTCCCCATACGACTCTAGCGTGTTATTGATTCAGTAGCGGGTCCCCGAAAGCGGCAGCAGTCACGCTAAGGCCGATTACGTGATGCCCCAGTTGTAGAAGGTAACTCCATCGTGTCTATCATACTCCAGCGACCCGAAGAAAGAACTTGCGAAACATCACGTACTCTTCAAACCATTACGATGGTAATGTCGGAGGATTCTCATGTGAATCCGGACAGCGCTATACACAGAACGGGGTCTCCCATCTGTCAGCGCATTGTCCGCGACATTAGTTGGACCTCACAAAGCTTGAGCCCAAAAAAGCACCATCTTGAGCTCCCGAGGTGGGCAGAACTCGCTAATCGGAGTATTGAATGGCCCGCCAAAGAGTTCCCGAGCGATGGCCATTATAACAGGTTACGCTACACACATCCGAGCGTTGCCATTACTTAATCGGAGGAGAATATGGTCCTACAGTTTGTGGACCGATACAGAATCGCTGGTAAACTCACAAGGTAGCATACGTACCAGATCTCTGGTCGTGCTATGGTTAGCACGAGTCGTGAGTCCCCCCCATTCCCTTCGCACAGCTTTGTTTACGCGCCCCAAGATCGATGGTACAAACCCTGATTTCTAGCGCTCCGTTCATATGCTCAAATCGACAATAGCGCGTTGTATGCTTGACTAGGTAGTTTATCGAGGGAGACGACTTTTTATCTCTTCTCTGCTAATACCATCGGAAATGGGGCTAAAAGAATTTCCTACCGTCCGAATAAAAAGCATGGTATCCCGGATCGACCGCCGGGGGAGATCGGGTTCAAATGAGGATACTATCACACCGCAGTTAGAGACCCCCAATAACCATGAAGTTCCAGCTGAGTAAAGCGATGCCACACATTTTTGTCGTTGTTCGGGCCCTCATCCCGCATCCTGATATTGGCGTACCTATGAAGAGGATAATGCACGAACGGCAATTGCGAGTCCAACGGTATAACACTTCGTTAGGTCCACCCTCTCGGGTGCCGCAAAACTGGATGCGAAGCTGTAACAACTCTGGGGCGCCCCACGTAACTACGACGGGTTCACCCAACAGGCAGCCGTACACATAACAGAATTCGAAACGTCTGGGTGGCGGCCTTCAATTCCTCATACAGCCTTAAATGGAGGATTGCGTTTCCTCGTCTACCTCGTGCCACATGAATCCAAGTTTAGCTTGATATAAGAGGCGTCCGACCCCCCTCGTCTGCACCTTGTGTACTGGAGTCGCGTAAGACTCGAGTAAATCAAGGAGGCGAGCCCATAAAACAGCTCAGAAACACGGTCTCTAGAACACACAGCAGAATGAATATCGGGGATATATTGAGGTCCCTACGGCGGACCTATTTCCGGCCAGGACTCAAATAACGTATAGCCTAGAGTATCAGTCTTGACAAGAACCCAGGAAATCATTAGGGGCGGTACAGTTCGCCAACCTAGCAATTTCCACATCGACTGTAGAGTTGTGTCCAATTAAAGAATGGAATCAATTCTGGAATATCACTATACACGTAGTAACCCGGGGGTTCTACTAAAATTGGATACTCAACTAAACTAAGGGACGATACGACTTTCGATGCTCCAACTCAGCTATCTTAGTGGGACAGAAAAGTCCTGCCCAGACACTAGCTCAACATGAGGTCACCGCGGAACCCTTGAACTGGAGCCTTTTTAGTTTCAACGGCCGTCGCCTCCCTACTGTCATTACAAAAGTGGTGGTATACTTGGTGGTAGCATCTCTACCAGCTGCGTGTTCTATACAAGGGTAGATAAGTCCGTTCATTCAAACTACCCTTCACGAACTGGATGTGCCTTTATATAAGGGCTCTCTCGATTTGGGGGAGAATGTGTTTGTTTTGCTGATGGACAAATATTACTCACTTTAGCGCAAGACCCTAGGAACGGATAGTGTAAAGATCCAAGCTCTCGAGCCTCTTAAATAGAAGGACGTACAGCACTTGCAATAGAACGCTACACCCGCTGCTCTAATATTTTTCTTGGTATGGTAAATCGACTGGCATATCTAAAGAGGAACCCTGCACTGTATAAGGACTTAGGATTGATGTATGTCGAGTTAAAATTTGCGGATCGGGAGACCACGCTCTGTCGAAACGCCACTCGGTAGACGTTTGCAGATTCTTGTCTCGCACCCGAATCCTTACTAGAGGTATAGACTGTTGACTGCAAGCTCGGGGCGGTTACACCGGGAGTGGATGTGAGGGAAGGCCAATAGGCACCTTCCGTTCGCATGAGCTGGGCCGGCCTTCGTGGCCCTATACAACTGCAGAGCCACCGTCATACGATTTCACCCAGAGCCCACTCGACAGAGTCACTATCGGAACACAGCAGCGCATTCCGCTTTAGATAATAGATCGTGTGTCAGTGTAGTGGTTAAAAAAGTTCAGTCTACGGCATAGGCAGCGTGGGTGCCGAGCTGTAGCTAACTTGTAGGGCGGACCCTTATATTAGAGTGTCCAGGGCCGTGCTGGGATCCCCGGATACCTCGGTCGCCACCGTACCATCTCGGCAAGGTCGTCGGTTCCCCATCAAGACGTCTGCCGCGGTCGCTTGTGACCCTGCGTCACTCAAGCCACTACGACACACCGTATACCTGGGCGGGGAGGTTGCGCCTTTATAAGGTTCTCCGGTGTGACTTCTCACTCTGGCGTCCAAGGTGGTCTGGAAACCGCGTCCGTTGACCTACATATCAACTCCATAGCTACTCCTTATTCCCGTAAGTTAATCCGAAAAGCACGAAACTCCGAATCGACTCTCCTTTTCCGCCCACAGAAAAACTTTATTCTCCCGCCGACGCTCAGGGACAATGATGAACGGCATCGCTTATCCACTCTTTCAATCCGGTGAAAACAGTGATAACTTCAGTGGGCCTCGCCGCCCGCCGAAGGATAAGAATTCAGGTCAAAACCTCCCGAGGGTAACAAACACCCCCGGTGTTGACTATCTCAAACCGGACGTGTTCCACCCTTGGTCGATTTCTACGGTTTTGTCTGGCGCTCAGATCACCTGACACAAGGGTAACTCCCCGAGCGATAGTCTATCTCCCCATTGTCAGTTTAGACACAAATCCGAAGGTTTTGATACTCCGTATAGACTGTGTAACATAGGAGGGCCAATTTCCAAATAACTCAAAACCAAGCCGCCGTCCGCTAGGATCAAATTGCATGCACCGCCGCGTTTTCTTTATGTGCTGCATAGTAACGGTGGGTAATATCAACATAAGCACCCCCGTGTCGACCAAACAACATGTTGCGAGATTATTACTGGCTACCGATTGTGCCCTATGTGCCAGCCAATAGCGTGGTTTCGAGACTAACGGCCTAGGCGTGGTAACGAATTGCGATGGATCACGACACAATCCATGGTTCGATGCCTCGACTCGAAGGAGGGTGCCGATGACACCTTCTTTTGTTGAGACTTACCATTGCAGTTATTTATATGGAGAAAAAAGGCCACACCTTAGGCCTCTGAGGTATGCCCACATTCGGCCGCATTCTCCTCTCATTGACGATCGTGTCTCCGCCCCTCTTAATAACGTTTATAAATCGCGCCAAGCGGGGGTTTCCTGGTTATAAGGCTTACTCTGGCGGATAGAATATTTACCAGATGATCTACACAATCCCACGCCCCATAGGGGGGGGGACGCTGGCTGACGATCTGAGTTTTGTATCACCCTAATAAACAAGAAGGGGGTGTGATAAGGATGAGTCATTGACGTTCCTAAGGCCAGCTGCTACGACACTTTCAATTGTGAGTGTTCCCCGCTGGCGGAATACTGTTACTGCAGGCGCTGGTTTCAGCTTTAGACAGCGTATCACGAGGTCACCGTGGAGATAAAGCTACGCCAAGGTATTGACTTCGACTTATGCCTGGCATATCAGTTGTTTCTGGGTCTCGCGTTGGAATCAAACGGCGATGAAGGTCAGCGACGACGGAGGCGATTGGTAGGCAACTTAGTGTCCTAATGCAACACTTCTCTTCTTGGGAGGCGGGCCGGACTCGATGTGGCCTTTGCCTTCCGGTTTTATCGGGTAGAGACTCTCCGCCGATGTATGTGGGTTCGAATACAGTCTAAATATACAGGGCCGTGAACACTGAGAGCCAGCGAGGAGAATTCTCGCGACGCGATTTCCTATCAATCAATAGTTCTGTTGAGCGGCCTCAAGCCATTTATCATCGCACGTTCCTGCGGCTCTCCTGTTCCTTCGGCTAGTCGGTAGCCAGGAAGAAATTCATACCCTGCAAATTCCCGAATCCTCGCGAAATTTTGTGCGACATAACTCTTCCTCACACGTTGATTTCCCCTAATTCCCTCAGCGGTTTTAGGATATGCCCGATCGGTGACAGTGCACATGGCGCTCCGCGTCGGGCCTATCGGTCGCCAAAATCGGTGACCCGTGATGCTTCTATGAGTCTCAATCTGGTCGCAATGGGCACAGGTGCCTTAGAGGGCGCGACTCAGCCTCATGTACCGACCATGAGAAGTGTAAATCGAAATCCCTGTTTGCTGCGGCACGGGCGCGAATACAAGATTCGAACCTGCCATAAGCTAGATCTTGGTTCGGGCATATGGTTGATCTAGGGCCTAACGCCCTGTATTGTGTCACGACTCTGAATACTTTTGGCTATGCTCTGTCGAGTGGACGTATACATGGTACAGCCTTTAAGCCGGAGCCGTAAATACCTTCAGCATGGCATGTTCAGCGTGTCGATTGTCTACCCCAAAGGAGAGTCCATCAGATTTATTCGTGTGTCAATGTTAAGGGAAACTTCTGCGACAGATATCGCTTAGGACATTGTCACGTCTGGCGCGCCAGTTTTTGCGTGCGTTAAGTCTAGTGCCTGATTCACGGCTTCCATCGGTCCTAACAGTGGGTAGGTGGGTCGCTTCACGGCGAGATAGTATGGTGCTCCCCTGGCGCCACTAATTAGTTGACCGTTCGGCGTCCGTCGAACACGAAGAAGACGTGCCGAATAACGAATAAAACAGGAGTGTGTAGTTGCCGCCGTCCTAATCATCAAAAGAGAGAAAATGGGTGTTACACACCGGCACGCAATAATATATTCAGTTATGCTGGGAATCTTAAATTCTACTCCCGTACAATCCAGCCCTCCACGAGGTACGAGACAACTGACGCAAACAGTCCCCCAGACACGAACGTAGCCAGGGCAACGTTCTGTCCTAAGGCCCAAACTCGTGTTCGTGTACGTCTCTAAATGCTGAACGGGGTGGCCTCCCCCAGTTCTCTGAGAAGAAGGCTACTTACCGTATATGCCATGGTGTAATTCTCGGTCTTCTGGAAACCACTATTGCGTAAATTTGATTCGATCCCACTACCTTTTTTAGTGAAGTCACTAATGCTTGCGACGATTTACTCGGTTGTCTTATATCGGAGAACCGTTCTTCTCACGCCAGCACAAGGTCTACCTTCCGCCAGTGTTGATGCGCACGCTCGGAGAGCTACCACAGCGAAATACACCCAACAACTTTTTGAACTGAATCGTACCTTCAGGGGACAATGGTGTGTAGTGGTTACAGCAGTTGGGCGATTGCAATCGACGAAGAGCTGTTTGCTGTTGAACACTGTCGACCCGCCATATCGCAGGAAGTGATACTAGCAAACCTAACATGTCATGCGCGTATGAATTCGTGTCTAATCTAATCGCTGTACAGACTCCGGGAAATAGCGCTGCCGCGTTTTTCCTACTACAGGGTGTCATTCCGGCTATTGCGCAGGTGTACACTTGGTCCGCACCTCTGTCGGGCAGTTCGCGTGTCCCAGTGCATCGATGAGTGGCGAGGACCAATTGGGTCCGTGCGGAAGTGTGGACTGCTACTGTGAGTGACTGCGTAAGCCTGACTTCGGTATCGCACTCGTTTCGCCCCCAACGTGCATGAAAGGGGTTATTTAGAGACTCATCAAAGCGACACTCAGACAAAAATTACTAGAAGCGGGGGGGATGCGGGGTATTCACCAGCGCCGGTCGCTAAATTTCTAAGTATTCGCTCACTATGCCTCTTTACGATTATATACACTTCCCAAGTAAACACCTCCGCGGATCGCTCAGGAGGGGTATATAGGTCCCGCGTCCTTATGCTCCCTAGGTGAACAACTTTTTCCTGAAGTTAAATCCAGTCCCCGCCAAAACGTACAGAGTGAATGCCATGACAGGAGTCTCGGGGTAAGGACAGTCTCGAATGCCCCGGCATGACTTGGGGCCTTGGCGAGGATGGTGAGCTTCCGGGTAACTAAAGCGCACCTCCTGATCCGCACCGACGCTAATCAAACAAAGGGCTGTTGCCCCAACATACCCATTGTGCTAAGGCGAAGGCCGTGTTGCCTCGTTTGTTGGGGCAGTCGCGTCTCGTATGATGAGCACATCGCCTCCTAGCTATAGAAAACAGAGACGAGACTCACAAGAGACCGTGACGCATCGAAGGCGTGTGCCTTGGTCCATTGAAATGGCTTCCACTCGGAACCATCATATCTTATCTGCCTTGTACGTTATAACCTGCGCCCCGAGGCATTAGGATTGACCAACGACGTTTACGTTAAGGAAATTTCACCAACGGCTCCTTTCTCGCCCCCAAGGAACCACGCAAGAGTCATGCTGTATCTGCACCCGCTACTGTCCTTAGGCAAAGACGCCCGTTATGCCCATGGCAAAAGTTATCCAGATTCTTCCTGATACTTACGGGGTGTATGTGGGTTGTATAACGTTGGATTTGTGCGAAAAGCGTCAAGGGCTGCATGTTGCCGGACGTGTCACCTTGTCTCGGTAAAAGGTGGTACTCGGACAGGACAATTTCGGGAGCAACCAGGCTAAGATGACAGGGACTCGTATACTGTCACTATCCCGTAATACAAGATGGTTTCCGCGAAGGCGGGCCTCTGTGACATTAAAACTAATTGATGAGTCTCTCCGCAGTAGCTTTAAGTCAAAACCGCGGAAGTGCCTCCAGATAACACACTAACGAGAATAATTCATGCACGCTATCTAAGCGTCAGAGTAACTTGAACCACTGAAATTAGTCACTTTCGCCCAACCGTACATTTATAGGGAAAGACATCTTCCGTCATAGCGGCCGCAAAATTATATGTAAGATCCCTAATATTCGACCGGCACACCTGGAGCTAAGTGTAGGTCGCTTAAGGCACGGCAAATGATGGAGGCTCTTGGAGCGGGCAGTGTTATGGAACTCAGTTACGAGCGAGTCAAGAAAAGGCCGACGAGTCGTCCTAATCTCAGCGCTTTTTGCAGCAGGGTCGACGCCCGTAACCGAAACTCGTAGTAGACCACTACAATAAGTCCGGCTAATGCAGCGAGCGATGGTATCGGGGCATGTTCCCTCGCTTTCAGTGAAAGGAATAGAGCAAACTTCGTAATCTTTCACTGCGGCTTGCGACCGAGGCACTCTGTCTCACGGGTTCACTGACACCAAGCCAGTAACGTTAGGACGATCGCTAAGCAGGCTCCCACCAGCGAAAGCTATGGTCGCCCTGCTAGTAATTGTACGTGTTCTTGCTCAGAGGACAGGTGTTTAGTCTATAACTGCCCATTTAGCCCCACAAGATACCACCTAGCACTAAAGTTTAAGGGCTGGTTCGGCGAGAACAAAGGGTTGTTCCCCAAGCTACTGGTACGACGCGAGTCAAGACCGACTTCTACGTGTCCGCTGTGCCATCGCTCGTCCTGTCTACCAGCTGACGCGGATCCGAGCTAGGGAGTAGTTGGGGCCTTTAAACCCCTATACTCACATCGACCTTTCTTATTCTGTGCCGTAGGCCCACCAGCGTGTCGCAGCGGGCTCCCGCGTTAGCTTAAGGTACCCTCGTCATGAACGTCATCCTCCGATATCTTTGCCTGATCTGATGCATACCCGCGCGCCAGGACTCAACGCACGTGTCCTCTTCCCATGCCTAAGACTTACCTTCAACCACCGATTTCTACTCGCATCAATGCTCTTCCCACGGCAAGTGGATCGCCTATTGATTCTGGGTGGGGCGTTAGCACACATCCCCCGCAGGTTCGCTCCTTGGTGACTTCGTACCGTGTAGACACGGTGGGTGGCGTTTCTTGGCATAGAGAAAGCGTCGGCAGCCTACGGCATAAGAGCGATAGAGGATGCTAGTGTCCACGTTATTGGCTGCCCTACGTACCCGATAGAGCGCTGTCTCGATGAGGCTCGCTAGGGGACTGAAGTATATTGCTCGTCGGAGACGTATCCCACATGCGATCCGAATTGGTAGGAATACGGTTAGAGGCAGCAGGCTAGTATTGCGACGGGTTGTTTGTCCGATTATGCGGCGTTATAGCCTTCCGGGAGACACAATTACTGCCCTGCGTTGCGTTGGGAAAGTCGGACTCCCCTCGATTCTAAATCACGGGAGGAATGGTCTCCTCCCCATATCCGGAAGTCCATCACGAGCGGGGTAGGGGCTGGTAATAGACACACGCCCACTTTCTAATTGCAGCAGACGTCCCGTTATACAGTTGTCTCGCTACGGCCCAATGAAGCGAGCTACTTTAGAGCTGGCTTCAACATTGGACCAGAGAAACGATCCCTCGACCGACTGGACTGCAGTGAAGTCCTCCGTAGCTGTCCCGTATCACTATCTACGAGTCGAAGGTATCCAACCATTCTCTGCTATAGAAATCACTCTTCCGGCCCTTGCCCCGTTACGGATTATTGATGCATACCTAGCGGTTTAGTCCGAAGGGACCGAACGCACGGACCAACCAACCGTGTGGCGTCAAATAGTCGGATGGCTACCGGCCCTCGAGTTACGTTCATACGCCAAGGCTCAGGTCTTATGCTGATCTCAGGATGATCCAGTACTGCCTTCTCGAGGGGGCTAGTCCAGCTTGTCGATGGTTCTTGGGATTCGCGTAGCTTGATTGCAATAGAGCCGACTTTGTGACCTGAGAAGACCCTCGTAGATCTCTCTTTAGGAACGAATGGTATGATGCGACGGGGAAACACGATCCCGCCTGATACATAAGTACTATTAGGCCAGCCTACATCGACCAAAAGGAACCATCCGTCCGTGGAACTAGATCGGCTCTATGAGAGTCCTTCGTGAGTCGTCAATGAGGGGGGTAGTTTGAAAGACGTTGGAACTTATACTTCACTTATTTCCGTCCCGAGTTCGGAGGACGTTGTAACGTATCGGGACACAAATCACTTACACGTTAGCTCATTCTTATCCATACATTGAGAACGAGGTGACAGGTGTATGGTCAATAGTGAGGAGCATAGCAGGGCAGATGTTCAGCAACCGACACGTAAAAACTGGTGGACTTATAATTCGGCTCAACAAGACGCGATTTTTCCTGCAAGTGAAGTCGTAAGCTCTACCAAGCTGCAGGGTTTCTGGAGTGTGAGAAGACATGGACAGCTCTTTGGGTGGGCCGCGCAGTAAAGACAACGTTTTTGAGACGATACACTAGACGGATAATTCTGTGAAGCTTTGATTTACATTAGTGCTACTTTCGGAGCCGCAGCGTCAAGAAATCGGCACCCCGTCGGTAAGCGTGTCGTGTGTACGTTCTTTTATGGTCCCAGAACAGGAAACCTAGATTGCGCCTTTCGTATATATGTGTGGCATGGCGAGACCCATTCGATAAAACGGTCGCTAAGTACCACCCCATTTCCTTTCCCTCTCGTGTCAAACTCTATATTGCCCTCCGCTAAACCTGACATAAGATGAGCCCCGCATGTAGTCAAGCTAAACGGGGCGACTCGCAATAGAGGGCTTGATTCATTCTCCAACCGCGGAAGCCGAAGAAGATCGTCTGGTGAGTTCCGTTGATGGTTATGTCTAGAGCTTGGACGCGAAAAAAGCAATGATGTAAGGGACACTGTGGTCAACGGCTTTGCGCAACGCCGGCCCATCAAGTGAGCAATTTCCTGTCGCCACGCGGTTCTAAACAGTAGCGGAGTCTGTGGTAAGGTGAGATGCAGGAATCATACTGCGATTCCGGTGTAGTCGGGTTGGATGTAAGCAGCGTACCGCATGCATATGATTTTCCGTTTAGGGGGCTTGCTTCTACATACTTGCGGATAGGTGCATCCTTGGGTTGTCCTCGAACCAGCTCCTGCTCCATAAAACCCTGCCTTGTGCCTATTTCTCATAATTTTGTAGAGGGGACGTAAGGAAAGCATAGGACGGAGCCGAATCCTGCAGGCAGAATCCCACTTCTCGAATCTTGTATCACATGGAGGCCGCACACGGGCTAAGATAATTCCGTGGCACAGCCCCAGCCCGCGTCTCCTCACGCGCAGCCCAACTTCGACGACTGTTTCCCACGTCCCCACAAGTTAGGCGTATAATCATTAAACGACCTATGCACGGGTCACAATACTTGCGTAGCCAGCGCCACTCGGCCGTGGCTTACATGGGGCTGCGAGGCCGGTGCTCTTGACCGCGTGTACCAGCGCACTGGAGCCCTGGCACAAGTCTGTTAACCTAATTCTCTGCTTGCTGGTACTAGGATAGTAGGTGATCTAATCTCATAACAGCCCACGTACATTTATATAGATATGCGTTTTAAAACTAGTTACGATTCGATCCTCTTGTAACATAGGTAGCCGATTCGGGAAGGTCTAAGAAAACGGACTGGTATCCAACCAGCTCTACGCATAGTGTAGTCGACGCAGTAAGGTTGATAACTTAGAGGCGGAAGAGAGTGCTAACTTAGGACTCGGATCTGGATAGCACAATTCTATCCTTAGCAAGCGTGCCCGTTGCCTAATTGCCCGCTCATACTGCATAATCCTCTGAGACTGCACCGTCCAGTGACCCGAGAGCTGACCAGCATACGGGGGTAAAACCACCATAATAGGTGACGATACAGGCTGGAACTACAATGGTAGGAAAATTTTACCGGATGTGGCCTTGGGTCCTGAATTTGGGCAGGTTTGACCCGGTAGCAATTAAGGTAACCATCGACTAATCACCAGATTTTATTCGGTTAGCAGTGACTACTTTGCGGGACAAACATGCCGGTACACGTACACATGGAGCGTTCATGCTGAGTCGAAATAGTCTACGCCACATTTCTTGCATAAGGGACCTCATATCTCATGTCCTATGTTCAGCACAGGCTGCAAGCGAGCCGAAACTCGAGATGTCTATCTTCAAAAGGACTCCGAAAAGAGTTACCGTTCAGGTTACGGCGTCTTCGTTTATTCGGACACCTTCAATGAGACTCACCAATATGCTACATTGAAAATAACGTCCCGTTGTAGAACAGTCAACGCGGGACGATGATCGCGACACAACGAAACCGTGATAGCTGTAAACTAAGGACATCTCAAATGCGACTCTGGCTCTTACAAATTCCAGAGAGTGGAAGATACGGGTAACGAAACCGGAACACCTAAGCGCCCCAGCCAGGGTAGAGCCGAACACTTAAGGAAAGTAAATCAAGGTAAGAACCTACTGGACTATATCTTCTTGTAAGACAGTTTCTTACGCCGACCGATCTCACGCGGCTACCGCCAGTGCATGCCACTCACACTATATTACCAACCCGATCGACCCGCCACACTAGCATTAATACAAGACAAGTATCACTGCGAACTCTTAAGATGACACTGATTTAACCAGGGACATCATACTGTCTATGCAGGCGCTGGCTGCTGTTTGGGAGTACGGGTGCAGTCCGTCATATTATAATGGAGCAAGCACCGGGATTCGGTCCCTATTACTTCTATTATTGGTGCCACTATAAGTTAGTATGATGGTCCTGCTGTAGACGATAGACCTCGGGGGCGGGCTGCGGGTAACGATGAATCCCAATTGCAGATCATTAATTAGGGATCTGAATTTCGACGCGGAAGCGACCAGCATCGGGAGGTACCTGTGCATTATTGATACTATGGGAACTATACAGGACGCGGCGCGATGACTGGTCCAAATACGTCCCCCGGCGCTATGCGGTGTCATAAGACTCAGAAGCAACGTCGGGTATCATCTGTGACTTGTGTGCCGGTCACATTGTCTAAGCACATTCGTTTGACACCATGGAGCGCGCTCCCGATCGGGCTGGGACCATCCAAGACTTCTTTATTTCATGTGAGGTCGCGCGGTAATCGAGGCCTGACGGAGGCGAAAGGTAGGGCGACTAACCTTGGGAAATTTGGTGGATACTAGCAAATTGGTTGATTAGAGAAGCCCCCCGCGCAAAAGTCGTATCTCAGCCAGAAGGGGTTCTATGCCATACCCTGCGTCATACGGGCCAGGTATCAATTTTCTAAGTCCCAACAGAACATTTCACTTTGGTACGCTAGACTTAGCGTACATGCATTTCCTATTTCTCACTGTAGAGCTGAGTGCGGGTCAGAAGGCTGGGCTCGAGGGTACTTTTCGGTCGCTGCAACCACCCTAGGAGAGTATTACATATATTTTAGTGGCTAGGGTCCACTGGTTCGAGTGCACCTCGTGCGTGTCTCGCTCATCCAGAAGCATTCCATGTGTAACACACACGCACGCTACACGGTTACCAGACGAACTGGGTGCTCAGCCGCGGCTAGAGTGTATCCTCCTGGGCAGGCTGTAAGTATACGAACATCGTGTTAGAAACACTTAGCAGTTATTCCGGTTACTTCGCTCCGGGAAAGAAGACGTCAAAGTATATAGTGCTCAAGAAGGTGAGTTACTACAGGTCACATGTTTTCCCGCGTCCCGACTGTATGTTTCAGCTCCGCACGAAGTATGGGGCTATGCAAGTCCATACTTGCATATCTATGCATCGGCATTTCGGGGTAATCCCGAAGAGGTAATGATCATTATTATGCGGCCCGAGCCCCCGTCACGGCAACACACATTCAGCCGTTGTGTTGCAAATGTCGCGATCTCCCGCTCGCCAATATCTCTCCCTGCCCGTGTATAGCGTAAAACCCGATAATAGACAAGGGAGCCTGCACCTCTTATGCAAAACGCTCGATTGCTATGGCACTATTATGGGGGCCATAGCCGTAGTAGCAACAGCCCCCGAAGTTGCCCAGACATGAAACTAGCCCTTGAGGCCGTCTCCTCAACTGCCAAGCTCATGTCTTTGTACTGAATACTAAGAGTGCGGAGCACATTGACTAACACATTAACGATATTCTCACTTAAGCTTCATTCGTCGTTACAAGCGGGAAAGGGAGTCTGTCGATTAGGCAAGCGCTTCCTTGGATCTCCATCTGTCCCTTAAAAATATGCAGAAAATGTGACGAGGCGCAGGCATTTAGCGTTCGCTTCCTATGGTGCAAATAAGTGTAGATACCTTGTCACATCGTAGATAGTTGCCCAAGCCAGGCAAGTGAGAACGGCTCGCCTGTATGAAGTGATAGTTCGTCTAGTATTAAAGACATCAGGTGTTTCCGGAGGCAACCGATAAGTTCTAAGCTAAGGTATTCGCGAAAGGGACAAGGCTCACACGAGTCTCCTCAAGCGGCTGATCTCGTATACGTGCTAGTGCATCATAATGTCTCCGTTAGAGAAACATAGCTACCACTTTGTGAACGAACGGCCGTACGTGTTCCCCTACGCGGCGGGTGAATAGCGCTTACGTTGTTAGGCGGTGTATTCCTTATCTAAATCCTGTCACCGATTCCGGGTAAAGGTACGCCGCGGGTAAGGAGATTTAAAGTATAGCGCACTGTAAATTTGCTTGTTGGACCCCAGTGGGTTGACGTTAGAGCCGGATTGTCGAAATGCTGGAGCCAGGAGGCGCCTCCAGTATACCCGTCTTCCATGCAAATTCGCCGTACCAGTAAGTCGCGGTGATGTTCGTAGGGGATTTCTGACAGCTAGTAAACTTTTATGATGATCGAGCCCGGTGGCTATTCTAAAGTTAACATACATGGCGAGAATCGTAAAAAGTCATACTAGACTCCATTGACGTACACCTCACTCTAGGAGTGAAATTCAAAGTGGGCGGATAGGCGGGCCAGACGCAGCGAACAAAACGCGTCGTGGGTCTGTGTAATTAGCCCGTAAAATTACCCATTTTTTATATCCAATTAGGTCTATTATCGTAAAGTATTAAGGTACGTGACTAATTGAATCACGACGAGTGTGAATGGAGCAGGTCCCTTCAATGGAGTGGCCCGCGACTCCACAACGGGGCGGTGACCATTCCGCGGTGGAGACCCACATTCAAAGGGCTTTCTATTCGTGTCGCCCCGCTTTGGAATACCTAATAGAGTGGTCTGGGTAATTTTTTTTTTCACAACCCGGAAGTTACCGAACGATAAGCCTAGCTCGAACCTGCGCGGCTGCCGGTTACCTGGACGTTTACCAATCACAACCATAACACAAATCCCCACGAACCAAGGTAAAGGTGTGTGGATCGGGGAATCTGTAAAACCAACAGCTAGATAGTGGAAGCCAATGTCAACGTTAATTCGAGATGGGTTACATACTCGAACAGTTGCGCTTTTGATACACGTTGGTCCAACGCGTTCGGATGATGTATTTATGTAAAATATTGACGCGGGCCCGTACAAGTGGGTTAGTGCCGAAGGTACGACATGCAGAGCCCCTGATGGGAGTCACCTAATGTCAGACAAAAGCGGGCTTAGGCCCAGCGATCAAGATTGTGACAGATCGAGAAGGCCAGTCAACAGGTGTGCGCTTATCCACAAATGTCCTCGCCAAAAGAATAGTTAAGCGCTTTACGGGTCGTAAACCACCCTGGGCGCATTCCAGAGCGGTTGTAGGGTTCTTTAGTCACTATCAAGGACTACGACAATGCACCGAGCGAGGATAAGCAGGTGGGTGAGATCACCCTGACCGTAACCCATAGTGGTCAACTCGGATAAACTCAATCTTCTCGCAGTTAACCTGGTACGTGCACTTGAGAATATCTAATCTTGACTCTGCTCAGGAGTAGCACAAGATCGTTGATCTCATAATTACATCATAGGTTAGCTATGCGGCTACTGCCAACCACGTCCCCTTAAGAGCTCGGTCATGATCTTGCTGGACCCAATAGAATCTCACCCCGATTGTCTGGATTTAAGATAAATTCAATGGAAAAGGCACGGCTAGAAAAACATTACTCGTCATAGTACCCCATCCAGTATCTCCTACGAACCTCTCTAGTATCCGATGGAAGTATAGTTGGCTAGCCCTTCCCTATACATGTTGAAAAACGTAAGGGAAGGGTTCCTTTTGACTTAAGGCGAGGCCGACCCCAAACCGCGTAGGCCCTGGCAATAGCCAAACATGGGAATCCAGGCCGCCAATTACTTGAGCGCATAAGATGAAAATTCGAGTCGTGCCCGCCTTCGGATGAAATCCGCTTTGCAGGTAGGCCTGTCTAGAGCCAAATCCTTCGTGCTGTGGGTATAGTCCGCTAGGCTTTTCAGCACCCGTCTAATGGCAACGTCGGGCACGAATTTAAAACAATTATATTAACGTAAGCATAACTGATATGGATCCAGAGACCTTCCACTTGTGGGACAGATACAAGTGCTACCGCTAGTTTAGGTCGACGTTTGCATCGCGATTCGGCGTGACCCCGCAGTTAATACACAGGAAAGCGAGAGTTCCCGATGTATCGCGACTTAAAGGAGCGATGGTCAAGAACAACTGGGCCGGTTACTGGGTCTACCTCCTAGGCACCACGTAGGGTCCCTAAAGGGGTCAAAATACGTTCGATATAAACTAGTTAGATGTTATTATGACTTCCGAGTCTTCTCCCCGAACGCATCGGGGCACCATCCGCTCCCATCTACCCGATGTTAGCTAGTCAATATTACATGTACATTCAAAGGGAGTAAATCTGCCCTCGTAATAGGACACTAAGAGATGGATTGCGAGCGTGACACAGTGGAGCTCAGTGATGTCGAAGTGGACTACATTCTATTCGTATACGCGGAGACTATTCTCCCTAGTAGCTGCAAGATTCCTCATACCGACTCCCATGGTACGAGGGGAAATGGAGTTCTTGAAGACAATAGGTCGTACCGTTAACATCGCCCATCGCCTGTTCATCGCTTACAACGCGGTTCCGTGCGGCTTTCTGGCGGAGTCCCACCAGAAAGGCAAACCATAGAGACGGAGTTAGGATAGAATGCCGTCGTAAGTTTTTCCTCACTGATAGTGTTGACGGAGCACTGTCAGTGTTAACGGCTAGGAGCAAATGCGTACGACGATGTTTATTGCGGTGTGTTGGAAGCTAAACGGCAGTTTAAGATAATGCTGATCAACTGCTGACCAAGCCTCGATAGCAAAACTTGAGTGCCTGAGCGACTCGCTATAAGAAGTGGGGCCGTTTAGTAATACTGATTCGTAGACGCCATCACGGAAGTAGGCCTGGCTAGGAGTTAAGCGATATCCGCCAATTTATGGGTAATTGTAAGTCATGAACTTAATTCCAGGAACGCACCTTCACACGGTAACGTTGACGCAAGTCAAGACAGAAAGGGCGGAGCGCGTCAAATAGGGCTGGGCACAGACGCGGCGTCCCATATCAAGCTGGAGGAACCCTAACATAGGCCCCTTAGGGCGCCTGAAGGATCCGATACGTTCTAGAGATGTGTCGGAGGTTAAGCATTGCCTGGGAAACGGACAAAATCGTCTGGGGAAGGAATAAGCCAACGATATTTCAGACAGGTCCCGACTGCCACGTAGCCGGCTAGATGAATGAAGGCGTGGGGAGAAATTAACTCTTCCCGGGGGCCAGCGGGCAGTAACGGGCTTCCTCGCTACGAGGCCCACTCCATGTGCACCGGATTCCTACCCAATTGTCACAGCACCGGATAGCTTATTGCAAAGGGCCACAGAACACCGTCAGCTTTGTTCTCCCGCGGGATGCCTTGCGGTACGGCATTGCAAATACCGTTCTGTGCATTTGTGTAGTGCCTAGTCCGATATTCCCAAACTCGCGGGATGTACATAGCAATCACAGGGTACAACCGCCCAGCGCCTTCCCGCCGTAGAATTGCACACACAGTCATCGTCGCTTCAATCGAACGGGCCGAGCAGCCACCAATTGCGGTACCTCCTTCCGAGTGGCCATAGTCTCACTTACCGAGTAACTCTCGGCGTAGCACAGGACGTCCATCGCTCCCTAAGTTTCAGTGATCTTGAAGTGAGGACATTGGCAGCGCTCCTAAACTGTCTTCAGTTATATTGGGGATACGAGTCGCCTCCCTCATTCTGCCGATGATTAGATACGATAGTGTGACTAAATAAAAATAGAATTATTCACCGCGGCAGAGGGGAGGAAGTTAGGTCATTACTCGCTCATACTTATTTGCACAACGAACGAAACTTGCCGAGAGGTTAGCGGGCGCTCGCGCCTCGAAGCACGCTTCTTTGCGTTTCGTAAGAGTTCACTCTTCGTGGGGCACACACCACCCGGTCGATCAATTGATGAGACACTCTTTTGTGGACAAACATTATCCGGTCGGAGGGTGCTTCTCTGAAAGCTGAACGCACAGGGCAAAGCACCGAAGTTGGTTCTGCAAGGGATTGGAACAAGTTAGATCTTAAAAATGAACTGCGACACACACGATTACCAGCATCAAAGGTCGGCGTCTTCTAACTGTAATTTAAGCCCGAGCGATGTGCATAGTTGACGACTCTCAACTTGCAGGCTCATCCTCTAGGGACTTTGTGTATTCCGGTCCAGATTTACGTGTGCAAATTCGACTTCCCTTATGGTTAGATCCACTGGGTGCGTTTGTCAGATGCACGGCCCTGGCAGATCGGCCCTTCTCCGGGGACGTGGAGTCGAGAGGGTTGCGATCGAACCCAAATACTGACACATTCGATAAACACTGCTAATTACCTGCTCAGTCTCTCGACACCGCTGCCTGCCCTCCGCCTAGACCGTATGACTCGTATTGATCGAGTATAATATGTATTGTTCCTCTTAAATGTAATACCAGATGGCACCATTGGCGGCGTAAAGTAAAGCGTCCTATCTCCAGAGTCACGGCGGAGAGGTTGTCCGACGAGTTAGCTCAAATCCGTTTGCCGGCCTCCAAAATGCACTGAGCGCAATGCACGATTCGGAAAGGCCTCAATGATGATTAGCTACGAGAGCTTAAAATGCCTCCCCTGCTGCTTTTTAACTATTTAAGCGTTTGTATCATTGCTGTGAACATGTGGGACCGGATTTTGTCCTACGTCATCCGTGACTTCGCGTCTCGCTCGTCGCCGAGATCCATCCGACCCACCGGTAGATCCAAAGTACTATTTCACGGAAAGCTCGAGGGCCAGACTTCGTGGACCTCCAGGATAGAATCGAGAAAACGCATGAAAAGTTCGCCGCAACAGTAGCGGCGCTCTTCGAATGTGGGAAGAGGAGGTAGATTCTATGTATCCGCCCAGAGCTCTAGGGAGTAGTCCTAGCGAGACCGGCCAGAAGTGGCTTATAGCGTTACCGGACTTAGCCTTTGCGATCATACTCTACGAATGAGTACTCCTACCGCAAAAACCGACGACAAGCATCAGAGGCCCCTCAGCAACGATTCGCCTTGCTCCGACTGAGTGTTGCCGACTTACGAACGAGCGATCACTAAATTGCAGGCCGGATCTTTGAAGAGTCATTACCGGCGCGCAAAACTGCAGATTTACACTCTGCCCATCGTGCCTACGCTTAAGTGCTTCTCCCATAACCCGGGGCCGGATGCCTAGATAAAGTTATATCACAGGGCCGAATGGACACATCTCGACCTGTTGCTCGTGTAAGCACGAGCCGACACCGAGAACGAGTAGCTCTAATCTTCTCCGGATGTGAAAGAATCTGGACTCCTAGCGATCCCGACCACATGCAAGCAAGGTTGTTTATTTCGGATGTACCTCTACTCATTAGCAGGCGTCTAATTATACCCGGCCGAGTCTGGCTCAATCTTCTCCGCCACTATGTACTCCGTTTATTCCGTTCAGGACCTAAGGGACCTGCGACGTTTTCGCTGTGTCTGCTGGACTATATCCTGAACTCTACTTCAATATACTTAGCCACTTGAGGGCAGATCCAACCGATAGGTAGGGAAAGGCCGGACTACACTATCGCGCACGGCGTCCCGCGCTGTTTCATTAGAGATCAACAGAACTTTATCTATGTCAGTTGCCCCCACCAGCTTTTAAACAAGGGACAATGATATGCCGGCTAAAAAGAACGAGTGTGTTAATCGTTTCCCACGTCCGGACGGCTGCCGATTGGCCGCGTTTTCGGCAGTCCTTCACCGGATACGAGGGTTCATATTGTAACTACCTTGACACGGGTATACTAGCGTCAGAAGCCTTTATTACAGGAAACTGAACTAGTAAGACCAACATCCGTACTAAGTCCGTAGTATCAGCAACGTGGGGGGATGATGTATTGCAGCTACCGGGAAGAAGTGTTTGTCATGGTTCTATGATGTTTGTGCGCCGTGTATAAGGAACCAGGAAGATAGGCACAATGAATAAGGTTACCGATGCTGAGCACACGTTATTAATGGATCTTTGACGGGGCCCTTTTGAATGTCGTGACCCTGGATCAGGGACGCAACGTCCACTCGGCCAGCAAGGTATACTTATGGGGTGCATTGGACCATCGCCGCACAACCCCATACTGTTCCAACATCCGTATGCTCTATCACCAGGAAACTCTCGGTTTGATGCTCATGTTGGACCATAGAACGCCGTTCAATTCTTTTTAGTAGGGGGTGGGTTGGCCATTGCACACGGCATCTGTGTCCTTTCCTGAAATATACGACCCGCTTAAGAATTGGATTCCCTACTCTACGCAATCAGGTGCTCATGGGACTGCGACTTTGAAGCGGAATTTTCTAAACGTGGGCCGGTGCACTCATTGAAGGGATAGCACGATTCACCGGGACTTCGGGGGGATTTTCGATAAACGCGAGGAGCAAGTTGTGTGCGTTGACGATCCGTTGCTGTTGGGACGCCCACATCTTAAATTTCGAACTCTCGGAGGGTTAGGTCCTCGCACGATGAGTGATTGCAAGAGCGGACATCGTTTACGGCGATGGCAGGTCTAAACCGGGAGAGTCGCCAGCATGCGCGCCTTACCCCGACGACCAGAAAACTTCAGTCCGCCGGTCACTCCAACTGTTTTCAGGGCAGCTCTACCGCTAATAACTGCTCTCTCCCCGGAATAAGTCCATCCAAGCTTACTCGAGGGCTATCATGTGTCAAGACGGTTTGGGTCTTACCGGACCTGGGCGTTCGCTGCTCTCCTTGGCTGGAGGTCTATCTACGCGCTACCGTAACGCTTGGCAGTCGCGGCGCTTACAAGCGAATACTAGAAGCTTTAGCCCTATCCTGGAAACTCCTTTAGCGATTAACTCCCAAAACCTGGTTAATTTCACAGGGGGATGACTCCGGTGGGCAAAGTTATGTCTGTGAGGCTGTAGCGCAACAACCCCTTACTCTCGCTACGTAGATCGTACAAGGATCACGCTCAGGTCTATCGTGAGTATTTAATGAAAAATAAAGCACGGAATGATAACAACTCAACTTAGGCGTGTAGCCTCCAGCTATACTGGATTCGCACATCGCAGTCGGTTTGTAACTTCGAGACTACAGACCTTTCATACACTAAGCCATGCGATCACCGTTAGATATACTTTACTTACTTCGGCTATCTAAGGGTAAGCTACCCATCTTTATGTGTGAAGCTAGTATGACGCGTAAGCAGGTTACGTTCCGGGTCATAGTTGCTTGCATATGATTTTTTATCGATTCGCTATGGCGAGTTTAGGGTATTCCCGGGTCTGTGAAACTTTATTAACTCTGCGGCTGAGATCAACGAACTTTAGCTGACATGCTCCTCACTCATCTTTCCAACCAACGGTCAACTAGTGGTGTCTAGTGTGCTTAGTTAGAGATACAATTCATGGTTCTGCCTCTTGGGTGAATTACAACGTGCCCTACTATGAGCAGGATCTGCGGAAGAATTTCACCTTCAGTTTAATAGGATTAGACCAATCTGAACCTGCTTTGTACACGGCTCGGTGGTGCGCTGTAGAGAGCTGCCAGAATCGTCACGGTCATTGTGGTATTAGTAATGGCATAGCTCTATCAATTGTAGCGACACGATGAAACGTTATCCTAGCGGAGGATACTGGGCGGGCGCTAAACTCCCGCGCTGCAGCCGATCATCATGAAAAAGAAGCCTATTTGGCGGTACTTGCGAAGCCTGATCACTGAGGACTACATACAGTTAATAACCGAGAGTAATCATGTGCTCATCCAACATCTGCAGTAATCATCTGCGAGTGGGGGGTTAGATCGCAAGCACAGCGTTCCCAATCGACCCGGACTGCCGCAGTAAAATACTCACCTTATGGCTCTGCCGACTCTACGAGTATTTTGAGCTGAAAAAGGAAAAGACACCCGGATATCTTCCCACTTGAGTCCCGCTCGGCAACACGTCTCTGCAGGCCCACCCGGTCCACTTTGGCGCTTTTTGCAGATACCCGCACTCCTGATCTATACCCTGCGAATTCTGGTCAGGCCCAATATTCGAAAATCAGTGGCTCGGCCTCCAATGATTGTGCCCATCAAGGCCAAGTCACTAGCCAAGCAAGCACAGTTGTGCTGTCGACATAGCACTCATTCCACGGTACTCGTTTTTTCCTCTCGCCGTATTCAGACGGCAGGCGCTTTTCGTATACGGGCCGCCTTCGTCAAGATTACTAGTACTACGTCCTCCTCTGAGTGCTCCTAAGCCTGACGACTTGAAGTTCATTACCACCTTCGTGAACTCATTTTCTAGAGCTGCAACAGATAATTCTAGAGTCTTATTTGTAGGGTTCGAGTGTCTATCCCAAGGCATTGGGCACCTTGTGTTCTTAACAAGGCACGTCTAACCGGCGAGGTCTAACCAACAAGCGTGTACCCGGAGAGTTATCCGCAGCCACCCATCACCTCCACTCGAATCAAACGACACCTAGTGTGTCTCCATCTCTTAAGTTGGGTCTGTGACAGGGCCGCGAAGTAGTCGTGTGGTTCAGTAAGGGACATTCGTTACAAAGTGACACGTGGCTCATTGTACTAGTGTGAACTTTCTCCCGGTGGTTCTAGCGCGCACTCTCTGGCTATGTCGCGTCTATGGTCCCCGTCGGACTTTAACCTGAGGAGGCAGTCTCAAGTTGTCTCCTTTGCGACGTAACATATAGGGGCCAATATGCCTCCACCCCTACTACTGTCATACTTCGCGTTCGGTCCTAGTGGTCCTACTGCAATCTTAGCCGAAACCCCATTCGGAAGTCCTCACTCGCTTTAAACTACTCAAAGGGATGTCAACGAATAGAACACGTTTGGACATAAGTCCATAATTGTTATAGTTCTCGAACAGTCACTCCGTAAGGATTCGCACTAGATCTCGTTATGCAACTCGCGCTATGAACATTGACCCTACAGGGGCGGTTGTGGGTGCCATCTATAAGTATGTTGGCTTGCAAAAGAGTGGCCGTCCCCTACTATGGGGGTAGGACAGGATGTCCAAAATGGTAGTCTAGTGTTTACCTAAAAGATGCACCGTCGAACACAGCTTTATACTTACCTGCAGGGTCCTCTTTATGGCGTTAGCAGACGCGGCTGCATTGGTGGCTCCCCGTATGGGGGTTCTTTGACAGGAAAGGCGGCTTGTGCGTCGATTTACTATGACAGCATTGTACCGCAAAGTCTCGATCGATCATGCACTCGTGTCTGAACGGGTACCTAAAGAAATACCCAGTTCCGTCCGGTACATTAATACGTCCTTATCCTACGTTTCAAGGATTCCATACACAGGACATTTCGAGGTGGTCAGGGGCTCGCAAGGGATATGAATCGCGATCTCATACACTTATTTGGAAAATATGCAACGATGGATCTGCTTCTCCGAAGCGAGCCAAATGTCTCGGGCACTACGGATCCGCGTCTATGTAGGCATGATGGGCACAGCCAGTGCTGATGCTCCTAGCACGCAGCGGGACAGCTTTAGGTGCCCTACCCTCACCGCCGGCCTAAAACTTATCCTCCTCAACATCTTGGACATCGTTAGCACTTCATTACCGACTTTGAATGAAAGGCTCCTGACCATGTCCCGATGCAAGTTTCGTCGGGTAATAGTCACACGCTTGAAAAACCCCAGACGGATCTGAGTGACACTTCGATGGTGTCCGATGTCGCTGGCATTGAAGCCGACGTTGGAAATATCAAGTTGATCAATATTAACCTGTAATTAATTTTCACCACAATGGTAGTGCGTTGTGAGACGCGCCGCGGTTCGCCACAATGCGATTTGCCGAATACTTGCCGCCCTATAGTTTTCACAATGGGGGTACCCGGCGAGTACGCGCGCTACAAGTCAAGAAAGAGTTGCTGGCGGATCTTGGCATCGTCACCGTCTGATAAACACTCTGCTATGTTTTGCCCTGAACCCTCCACGGCTGTGTTCCCAATGGCAGTGACGAATGTTGTCAGAGGGCTGTCACGGCTTACTCGATGTGACCCCAGATGTTTATCAAGTCCCTAAGAGGTCTAACCCCCAAAAACACACCCCATGGGTATATCTCCCTTATGAGCATCACTGACGGTAAAATGGAAAGAAAGTATATCATTGCACTACCGGCGCACCCGGATCTGCGTCATCGAACGACCTGGTATGGCCAAAGACAATAAATAAATGTCTTGTTCCTTATACCTTGAAGGAGGACCGCAAGTGTGTCACAATATACGAGGGGAATAAGGGACTAGAGGCCGCTACCTTTAAAATGTGGGGTCAAGGAAACTGACTCGCCCCGTTACTCAAGCGGTGTGTATTGACTGACTTATGCACCACAGGATGTTAGCGCCGATACGCGAAATGTGCACGACACCGTCCCCACGCTGGGTACTAACACATACACAACTTCACTCCAGCACATCAAGGCATATTAAAACGAGGAGGTGTTCCTATAGTTCCGCTAGCCTATGGAGTTACTGGACACCATGTCGTCTGCGACTCAGACCCATAATTAAAACCTCCGTTTAAACGAACATCTAAGGATCAATGCGCTTCAGCTCTCTAGCATAAGTAGTCGTCCCTGTTAGCCAGGCGCCGCGAGGTAATCGTGAGACTCTGGATTGCGATCCCCCGACGAGAGATTATTGAGCTTTTAGGGGATAAAGCCAAGTCAGCGGACATAATCCATTGGTTTCTGTAAAGTGCGCAGACCTATGCCGCATGGGCGCCGAATCAGGACCGCTGACCCGATGTTGGCAACTCAGTGCGTGTCGCCAGCCCTCGCCTTACCTGCCCGGCCCCGCGACACGGTCTCCCAAAGACCATTGCATCGGTTTGGCCCATCGGGCTGGATGTGTGAACCGTGCAATATCTGCGCCGCGGAGGATTCTCCTATGCCCTACTCACGCTAGCTGCGTAGGCTCCCTGAGTGTTCCTTTCTAATTCTTGTGCCAAGATGTGAGCCCATGGTTGGCGGTCAACAGTCACCGGAGAGTAATACGAATAATATTTAAAAGAGAAAGCATTTGCATGGAGCGTAGCACCTAAGTAATTAACCTCATCCCAGGGTATTAAGTTGCGGAAGTTGATTCGGACACAGAGCGGCGCGACAACGGAGGCCAACTAATCCCTACAATATCGATTCTTATCCGACTCCAATACCATTCGTTCCATCTGCTTCGAACACGACGACTTTGTGTTCCGTTTGTACACGGTGCTCATCCATTGATGTCGTTGTCTACCACTATATCTGCCGGTAGTAGGCTCAGCTCTCGGGCGTAATTGCGGGTCCCTCTGTGTACCAACGCGGGTCCGATCTTCTGAAAGCTGGTATTCCCCGACGGGACTACTCCCCAGTATTGATTTGTGATGAAGGAATTTGCGGTGTGCGATTTTTATTAGGGTGCCTGTGCGGTGGCTTGTGCTCCGACTCAAGGTTCGTGACGCCTACCGAAACGTCAGTTCCTGAAACGTGTGTCCTGCGTAGAGTCACGCGTCTAATTTTACGACGAGTGATCGGATGTGAACAATCAGAATATGAGTTTAATAAGGCGGTCGCCAGGTTGAGCAGCCGTGTGTAGATGCCCTCTGCAAAACCAATAGCTCATATATACCACTTCCTAACATGAATGAAGAGGGCCGCTCACAGAGTGCAGCCATTAAAGTCACTTAGCGAGCAGAGGGAAAATCTCGTTCCTTCTAGCTACGCGCCGAGATCGATCATACGAATATGTCTCAACTCCAACGGGTGTCGAAGGTCTCAAATGATGAAGTTGAGCAGGTACCTGATACATTCGTGGGAGCTTCTATGGTAATCAAAGTTCTCTCATCCAGGACTGTGCCCCTCGTTGGTGAGGTCGACCTTCCAGGCGTCCCTTTTTGGATTCAAAAAGGACACGCCTCTACGCTGAAATGAGACTGACTCCTATCGTTCCACCCCGCTTTCTGTTACTTCTAGGGTATGTCGCGCCCCAAAACCATTGTCACTCACGCGAACCACGGTGTCATTACTCGTGATGCCTTTGGCGGTGAGAAATCAGACTTCACAACTCTTCTGCAGACGACCCTTTTTCGGGCGTTGAATTAAGCAAGGGCACAAGTCGCATACGGAGATAAATGGCTTAGTTGGCGAGGTGTGTTCTATGCGAAATACTAACAGAAGAACCACGTGCAACCGACGGGCATGCCGTCGTCGAATTTGAAGCCGGGCCAGGATCTGAATAAATTAATTGCTCAGACGATAACAGTGAGGGGTCCTGCGTTCGAACGAGACACTCGGGGACAGAGCAACTGTTTTTTTTCCCTGGTTGGACGTCGCCCAACATATGACCTAACACACCATCGGTGTGGGATGCGTTAAACTCAATTTCGGCTGTCAAGAACGACCCAGGTTAGCTTGTCACATCGTACAAAGGATCGAGGAACGAGGTATCTTCTAGATACCGCACTTATGATGATTTCAACGGGCGCGTAGCATCAAAATCGCTGTTCGCTGTGTTACTCCCGGAACACGATCTGGCTCAGCCCGGGAGTCCCTTCGAAAGACATGGACAGTATCGCTCTCTAACATCATTCCCATGTCGACTGACAAGGGCACTCCCGAACATACTGAGAGCAGATAACTACGCAAACTACTTAGTACAGACCACCCCCCGGGTCGTTCAGTATTATTCTACCGCGTAACCCGGTTAAGTCCTTTTGCCCGGCACGAGACTGAACCCCTTGACCGTTGACAAGCCCTCACTAACAGAATCCAAGCTAACCCTACGGAAGGACAATTCTCGCTCGGAAAGACAACGTTAGTCATGACCGAACGAGTAATGAGTGCCATAGAGGTGTCCGGCGGGGTCATGACCGGGCCATTAGGACATATCCACCTGATAAGACTCTTAGGGATGCCCATTCGATCGGAAATACGTCGCGGCCAGGCTTTATTCCTGGTCGTACGCTTGTCGTGGGCACACGGTAATCTGTGAACCGTCGACGACGCATAATAACGATAACAAATCCCCGAACCGTCCCACTCAAGGACCCGAAAACCCTTTGCGCCCTGTTGGCATGATAAGGCTGACTGTCTGGCATAGGCTAGTAATGTTACAGATGCTTTTATCGGCCCGAAATGCTTCTTCCCCTAAATGCTGCCTTTCTCGCCTGTACCGTTCCGGAAAACTTTAGCATTGGGCCTACTTAGTTGCTCGTCGGTTCTCGCCTACACCCAGTGTAAGAAGGCCGAAAGCACTAACATCGATGACCTCTCCCGTTCCAGGTGCATATTTTGGCTCTTATGTTATCTGTCACATACGTTTTCCGGATATATGGTGGTAAATACCGAAACGCAATTCAGCCCAATTGCAGGCGCGTTGCATCCAGCGACATCAGGCTTGGTTTTGGTTGCTTGCTAAGGGCCGCGTCCCATATATCGAGATCTAAAAGACTGACTAGTGAAAAATTTCGAGTGAATGTGGCTTGGGGGTATGATAAAACATCCCGGCGAATTTACTTTGAAAGCCCTGACCAATTTAAGTCATATGGGGTTAGGTCCAAAGTAGAGTTCAGGCCCTTTGTCAATTGTCCTCGTGATATGCGAGCCTAGTCCGACTTGAGGATCCGGGGAAGGCGGGGGCGTTTTGTATCGATCACCGGAAGAAGGCCAGTCCAGTGCCGGGGGGGGTCTGCGGTGATCGTAATATCCCTTGCCAAACGTCATGATGTGGTCCATGGCCCTAAGTAACGTACATGGGGTCGCAGCAGTACTTCCCCGATGTCGGGGAGACTGAGGCACGCAGAATAGTAGGGCTGAAGACCGAGAGGCTTCGTGGCTCTGTAACACGCAGACAATCGTTTCTGGAGAGAAGCACACCTTAAGCCGATCCACGCTGTAATTATAGGACTGTGCAACGCTTAGCAGTTTCCGAGTCGAGCAACAGGTGGCCGCCACGTTGTCCGACGCGGTTACGCGCTTAATTCTACAGAGACGGCATACAAAGTAGTAGAGAGATGGAAGTGCCACCTCTGGAGGTTTAAGTATGTGCACGCTTGGCTAGTGGGCACCGGCGAGGTCCTGGAGTACGCCTCACCTTCACCGCTACCCCTCACCTGAAAGGAGGCAGCCAACAAACCGTGAGGTCTATTCCTAGGCGAAGTCGGGTGATCATCATATGGACTAACCGGTGATTAACGATAACGCTGCTGGATCAGAGCCGAAGTGCCTTTCGTAGTGCCCTGCGAAAGATGCGCAGTGTGGAATTGAATCGAGGCGCCGTGCATGACAATTAATTCCATGTCTGACTTTGTCAGGGCGTCTTCCACGGTGGAGTCCTTGTATGCTTCTACCTCCCATCGCTCTGGGATAATAGATACGGCGGGTATCGTGTATCACGTCATAAAGATAAACCCATTTAGAACTTCCCTGGGGCGAGTCCCGGCCCGAGGCCATTTCTCCGGGGGTAACGCTTCACTTGGGGCGTGCCACTCGGCATGTCTGTTGTCTTCGCCGCACCCTTACGCAGACGAATGACGCTTCACAGGACGTCAGTAGTTTTTCAGCGCTAAGATCGCACAGCGCGGTTCTCTACTAGACAAATTAAAGGCGTCGCACGCTGAAGTGAAAAGAGCTGGTGTGAAAGACATTCAATATGGGAGTTGCATGCGTAGGCCCCGTGGATCATCCCGTACACCTTTCGCAACCATTTCGGCCAATGTTGCGGAACCATTGTAAACTGTTGATTCGAGTACGACTCCGGCCGTATCACCACACAGTGAGGTTAGTTCTCTATGGTGCAGAGGGGATGTCACCGTGCACCAGCAAGTATGTCTCTGGACCAAGCCAATGTGATAACTTGAATTGATTACCGTCGCGCTCGAACACAAGCCGCTGCATAAAACACGGCTGTGCAACCTTCTGCCTAGCAATTAGCAATTAAAACAAGTTAAGCGGAATACGCACACGGCGAAAACCATCCCTAATAGTACGGGCAACTTAATTGCACCCAGTGAATCGATCTAGACAGTCTAACCTTTCACTTCTACATCTCTCGCAGGATCCAGTTCTTGATCTAGGGCCCACTTTAAGGTTAATGCGTTATTTAGCAGGCATGGGTACCAACGACTGCAGTTTGGTCATATCGGGATGCGGGGTTGTTCCTCGGGCACGTTGTGAGTGCGTGTTAGCAAAACAGGTCAGAGATATGAAGGCTCCGACCGCCCTACAGACATTTTATAACGTCCAGCAGAATCTGACCTCAGCAGGGTTCGATATGATTGACTACGAATAGCACCCGCCATTATCTCCCATGTCTCGGATCTTGGCCCCTGGCACTGATCCATTGCTCTCACGCTGGCGAGGGTATTGTGGTTTAGCGCCCGACAACGGTTCAATTCCCTATCACGCTGATCACTAATAAGGTTCCCCCCCAATATCAGGGAGTTTCCCTCTAGCTAAGTTAACATCGGCACCAACCGAACGGACCTTTCATCAGCGCGGTCAGATCACCTTCGCAACGACACGGCAGGAAATTCCCATTCGGGGGTCTTGAGATACGGCGTTTGGACAAAAACAGGTCCTTATCCTAAACAAGCTCAGAGGGATTCAGAGACTACAGACTATGTACAATTTTGCAAATCATGAACATCTGCGGTTGCAATCCCGTCAGATTCGTCAGGCCTTTTAGCACAGACCTTCGTATAGTTGCACCCTAGCCTCTGGGGCGAATACATGACTACATCGTACGAGAACTACGTTTTTCAGTACAGAAACCTTGACTACCCCTGGTTTGAGTTGCGGAGTAGTCGTCTTTTTAGTGACTCTTCTCATGCCATTCCAGGGCACAACGCTACCGAGGAGAAAGTCGGACTGCAGGATTAGTTAGGATACGCACGCTGGTCCATATATACTCTAACCTGATACCCGGAAGCAGCCGCTCGAAATAGATTGGTGGTTCTTCTAATCGTGAGCAGATGTGCATTAAAGGGATTGCTACTGACTTGCGGGTCGTGCTGGTAGGCCTGTAATCCTTTCATGGAGTGGCCCACGACTCCTGTTGGTAGATACGCTGCATAGGAGGCGAAGGGCCCTAGTATTCGCTGAGCTTCTATTACAGTACTAACCTATACTCGAGTTGACCACTGTGGAATCACCCTTGTACTATTTGGCAGACCACCACCACAGGCATGTACCCATACGACCGTTGTCCCCTGCCGAACTGAGATTAAAAGCTCGCTCTAAGTTAGATCCTTATCCAAATAAAAAGGCTCCTCTTTGGGGTGTTGAAAAATTCTCGGGCATGCGAGAGTAGGTGTGACTAAGAATACATTCTGGATCACTTCGAAATTAAAAGACTACCTTTGGATCAGGCCCCGCATTCTATTTCTTCGGGTAGGCATGTATCCGTCTGCACTAAGGTTTGCGAGGTCCTAGACTTACTATGGAATACGCGGGGGTTGGCTACCGTCCATTGCCTTTTTTGGCTGCTCTAGGGGATCTCTAGTCTCTAGTGTGCACTAGACCCATACTAAGGAACCTTTGTTAGCGCGGCCGGACAGGAATCTCGTTGTCCGATTTGAGTGGGTGAATTATTCCGCTCAACCCTTGAGAGTTAGAAATATAACAACTATATGGATCGGACCCTCGCGTGTCGTGAGACCGACTCCATGTGATCGTGCTTCGGACGAACCGACCTTAGATCTTCAGTGCCGACTCTCCGAAAGTGGTGGAGTTTAGAGCCAGGCCTCTCGAGCGGGAATCGACGAGTCACAACGAATGTAACCAGTGTATACCTATATCGCTAGTGCAGGGTGCTGGACAACACGGTCTATGGTCCAAGTTTGAAAAACACTCAACTGAGAGTGTTCATATGTACAGTAGCGCCATTCTCCTATGATTCAGTAGGTCACTCATGTGATCTCGTGCCTAAGTAACAGGTTATGCCAGGAGCCTATGTGTTGAACAGCATCTGACTCTGAACCTTTAAGAGCTAAGCCGTGCTCAATTAATACGCAGGGAGGAGATGTGTAGGGTACACACAGTCGACAAGAGCTGTGTTGTACAAGGTGAATAATGCTAAGTATCGCTTGTTACAGCCGCTCGCCGCCTGCATGCTGACAACAGCTCCGTGAACCGCAAGCTTGGAGTTCATCATGAGCGCCTCATGCCATTAGCAAGTCGACGCTAGACGCATTTGGAATCGAGCCTGAGTTCCCATACCCGCAGGGTCTAGGCAGGAGCGTGGAATCGTGGAATGTGACCGCAGGCATGGAACGCTCCCATGTCCGATATATCACGTCTCTGATAAGACCGGCGCGGTGAGACGCGACTTGCTGTGGCCGTTGTTCTTTCGGCATCATTACTTTTAGATTGATTTGTTGTTTGGGATTACGGTCAGAGTCATAGACGGCGTCCGAAGTATAATCTCACAAATTGTGGTATGTGCCGCAGTTGCCAGTCACCGGCGCATCTATCTCTGACGAGTACGGTAACTCCCCAGCAGCGATATTCCAGAGCACCGGACTCTGCAACGTCTTTTACTGCGCTGGTCAAATGACACGGGGATATTCATGTCGCGCAGGGCGTGTTGTCCATTGCGGGCGCTGATGGATTAAGTTTTTCCTGGGAACCCGAGGAGGAACCATTATGGTGGCCGGCGTAAGCGCTTTAACCCTTACCCTAATAATCAATGGATAGCATCGTAACTCCGCCACATCCGGATCCAGCTAGCGTATGGTTCCGTATCCTTCTTGCCACGTTGTGGCAGGTTTTGCAAGGCTTCCGTCCATGGCTTAGAACCGTCTATTGAGGACTCAAACCGGGTGGTTGGAACTAGCAGTATGTAGCTTGAATATTCACCTTCGGGCAGACTAAAGTCTTGTCCACACCTAACCCGCTTGTCATCCCGAGCCATCGTGACAGCCGACTCGAGTTGCCTTAATCTCACGCTAGGGCAGTTGATAAATGCGACAATGTTGACATAATAGGCAAAGAGCGTCTACATACTAGAGGCAAGAATGTTCCTGAAAGTGATAGGAGCTTGAGTCTACCCCCTTTTCCGAAGCGTGAGCGAGTATGGTAGCATTAACTGCAGCATAACGTGAGACTTGAGCAGGTATCTATGCCATAGTTTTCGGGCTACCAAGCTGGACGGTCTTGATGTTTCAATACTGATGAATTAACAGCGCGTGTATACATCTAAACGAGTTTCCCCAACCGAGGTTCCAGCTCTCATCAGAGTTTTGTGTCGCCGCTATCAGGGGCAGCAGCCTACCCGAACTGTGATCACATTCAATACCTCAGACAATGACGGATTTACGCAATCAAGTGATATCGAATTACGTCTAGGCACTGTTTCACACGACTTTACCCGGTCGATACGCTTTCCCCTAGCCATTCCTCAGCGCCTTCGCCGATAACCTAGCTCCCGACGGCAACCGGGCCGAATGATATATCGGGTTGGTAGGATGTCGATTATTTGTTTGCTCCAGCCTTAGCGGTCATCAGCCCTGGGTGGTCCACTACATTATGCCGCAATCCAACCTGGGAGCACCCCAACCGTCAACAGTCTGGTCGCGTCACGAGCCATAATAGAGGACATACGGGAAACGATTCGTCGCGACCAAATGACGGTCAGCTTCGTCAGAGGCTGGTGCCAACGGATTGACAGATAGTCTGAGGCACCCTGATACAGAAATGCGCGCTGGCGATGAGGCCTTCTTAAGTATTGGCCCTCACCTAGCTCGTCGACGCATAAGACCTTGAACAGTCCCTGAGTTTATCATGGACACTGAGCCGCCACGTTACGCATTGCCGAGCTTCCATCTGAGCATAGGCTAGTCCAAAAGCCGGAGTCATTGAATACTCATCGAGAGAGGTTCTTGTACTACAGCGCTTTGGGAAAGGTCGATCTTATCATTAATCTCCTGCTCCTATGGAAGTTTGCGATGGCGCGATAGCTGTTTGGGTACGGATAATGATAATAGTGTTGGGAGACCCTTTTCCCGCGCTTAATAGACTTATATATAAGCTTTGATGCACTTCCCGACGCCGTGTGAGGTTCGGCGAGTTCTTCCCAGCGCCTCTACGTCTCACGGAAGGGTCTACTGGGTTGATGATTGCTTCTGACTTATAACCTGCGTAATCGTCTTCCAGCCTCACATGGCCGAATTAAAGTGTTGAGAGTGTCTACCCCAATGGAAAGCTAGGTCCCCGCCCTGCTCGCGGTCGAAACGCCAGAAAAATATAACGGCTTTGAGTTGAACAAGTTTCGCTCCATTTTACTGGGCAGGACGATTTCTGACTAGGTCAGTATGAAGTCAGAGGATCTTGTATGATGATGAGTTCAGCTATATCTTAATCTTAACACCTCTCACTTGTAGGTTATCGATTCGAAAATGATGAAATGACCTTTAGTTAGTATTGGAAACTGAAGTCCAACTGGCCGGGTCGCGCGCGGGTCTTAGACCGCAGATGCTCTTTGAATAGGGAGGGCTTTGCCCTTTCTCACGCCCCTGAGGACCTACTCGACTGCCGCTCGACTCCCGTCAGATGAAAACACCGTGCCGCAGTCTTAAGGGAAAGGCGGGGTCCTTGCAATCGATTCTCTGCGTTCTTGCGACGCGTTGTGATAATGTCAATCGCTCAAGACTCATCGTGACCTTCTGAACGAACTCTGGCGTAGAGCTAGGCTGACCACAGCTTTATACGACTTAGCGCACACCGGCTTCACTCGAAACGACGCCGCAAGAGCATCAACCGGAAACGAACGACCTTAACTTCTAACTTAAGATACATATCAATATCTCGAACTTGATTTCAGACCGAAGGTGATTGTGGGGTATCTGCCCTCCACTTTGGCTATTGCGGAAATCGCTGCGATCTCGACGTACCACGGCCCTATAGTAACAGTGCTAGTGTCTAGGGGCGGGACATCGGAGCTCCCGGACGTACCACAGTGCATGCTCTATCTGAATGCCCATTTGTTTATTAATTAATACTCACTCCTTCTCGGTGTCTTAGTTTTTACTGTAAGTAGGAATACAAGAGCGAAGAATGGCTCAACTCCGCCCGTCTAAAAGTCGAGCCGCACAGACTCCGAGACAGATCTCTCCGATTATCACATGCCTTTTCGAGGTGATCCCGGTGGTAAGGGAAGGCCGACCAACGCCCGGCCGCCACGGTCGGTAAGTAAGCGGCACGAACCGCGACATCTACGAACATTATCTTCCGGCGAACTCTACGTCTAGACAGCGTCGCCAGTCAGCGGGTATCTCTTCTGGTATGCATATGTCCGCTTACCGAATACCACGTCGCCAGTTCTAACCTGGGAATAAAGTGCCCCTCCAGGTGACTCCTCAAATGCCTGGAGGCGCGCTAGTCATTTTTCTAACTCCCCGTGCAATTTTGAGGCCGTTCTACCTGACTCTTTTGCTACTGGTCTTAGAATACCGCATACCTCGTAGCAATATCATCTGCTATCCTAACGTCCAGTGTTGCTTTCTGACCCCCACGTATAAATCGCTTTGCAGTAGCGACATACGGAGCTCTAGGGAACTATTTGTAGTTCTGTATTGGCCGTCCGTTGGTCCAGATTTAGAACAACCGACCTATACGAAGGTATGTCAGATACAGATTGGACATGACAACGAAATACGTTCCTGGGCCAGATCCTCTAAGGATTTTCACACTTCTCACTACAGCTGGGGTGCTCTGGACTTCTACGACTAGAGTACCGCGAGAGGCATAGACAATAGACCCGAACCCGGCCTAAGAGGATGAATATGACTTCTAAAATGTATCTTTTAAAGTTTCTGGAGATGTAGATCTAGAGCCGTGATGATAATACGTATTTACGTCTCCCCAGGGATACCTGCTAAGTGCATTCGCTTATCACCCAAGTTGTGCCTCGCACGATAAGATGCCGCACGGTTGGGCCCAGATGATGGACATCTGATGAGTCTCAGCTGCGCTCTCCAATGTCCCAAAAAGACAGGATAGGTTTACGGCATTTGCATCCGTGTGCCTATCGCCATGAGAAGTGTATCGGTCGAGATTAAACTTTGGGCCGGGCACATTTCGGGAATGAGGAATGGCGGAGGCGCCAGGTCTGCAATAAGAACTTCAATGGGAGTTGTCCTATGAGAGCGGACAGGGCTTGTTTCTGGATCACAGGTCCCAAGCTGCCCTGACGCGCATTGTGCTAGAGATACTAGGACTTTGGCTGGCCAACACTGGAGTCTCGCTAGCTACAGAGCGCACCCTGGATACTCGTACGGTATCACTAGAGATGAATATGAAAACGGAGAGGAGAATGGGGGGACCTGGTTGCCTCGCACGAGTGGCCTCAGCCACTCTGCAAGACCGACAAAAATACCTGCTCTCAATACGAGGCTACTAAAAAGGTCCCAGGACGTTTAGGAAAGTGTTGTGGTGTCTAAGCGCTGCCATAACTGGAGACACGCAGATGTCTGCGGCAGGGATCGCATGTGTGTGATCGTGTCCGTGTTTGCAGCGGTGTGCAGGAACTCTCGACTCCCGTTGGCGGCGACGTGTAACAGTGTGCGGATCGAAGCCTGAACCGCGGGTCTCGCCGCCGGTAGCGTTGCGCGAGCGAGCGGGAATCTCAACTCCTGGTGGTTCCAGGGCCTTATAAATATCGTGTACGTCGCAACGCTAAGACAGACCAGGATATTTGATACATTGTCTTAAGCAATTTTTCTGACTCTAACACCGGTGCCATCCCCGCGTCTATGTATTGATTAAAGCTTCGTCAAACAGCGACTACCGGCAGAGCAAAATAACGAGGTCAAAAGGAGGGCGCCATGTTTCCGCTGAGGCCGAAATGGATGCTTCCCCACAGGGGCCCCAGTGCTCACGGTGAACTCTATAAAGTGCGGAATTAGTATCCAGTCCGGTAGGAAGTGGAAGCCCTCGAGAGTTGGTTGCTAGTAAACGCGGAGGACGGCAGGTAGTCTTCTAGCCCTGGAATCACACTAAAGGTTCTAGTCCGCACACAGGCTCCTCGCCCGGGAGACAACTTGAATTATCCCAAACCCCCGGTATCTTAGTTGCTAACGGTAATCGTAAGCTTCGTGAGCGGCACTCCACTTTCTTAACCCTCCATAATTACATGAGTTCCACACTTGCCTCTTTCCCGTACTAGATCATTTGTAATAAACCCATTCACTAAATCATTACTGTGGCAACCCGTGAGTACTAAAAAAACAAAGATTGCGGCGGTGCATGGGAAACGTAACATAAAGCCGTCCACTCTATGATAAAGCCAATAGCCACCGTTCACAGGGCCCTCTCCGGCGTTTTCCAATATAGGTCGTAAAGCCGTGCGACATTCGCAGGATTAATAGTCTACTGGGCATTTTTACTCACAGAGTACCATAGGTTAGCCTTTTTCCTATCTTCACAGCGATGCTTAAGTCTAGTACAAATTAACTCCTGTCATCAATTCCTCCTGTTTAACATGGCATCGACTTTAGCGCGTCCGCTCTTATCCCCATACTCGGTGACGATAGTTATGAATGCAAATTATGGTATATGCTTGGCTTGGCAGTAACCCATCCTGTGCAAAACCGTACATCGTCTTAACGCAATTTTTACTCTCAAGTACTCACTGCACGAGGTGTCGGGTGCCAAACCTTTCCGACTCCGTAAACATGACAGAAGCTCAGCTGTCCGAAAGGAGTACATTGCGCTCATTGCGACGTGCTTGTCCTCCTACATGATATAAGCACCCTCCTAAGGACGTATATGGGGGTCCGCTAGCGTAAAACCTTGTACTATGGCAAGATGTTCCAGGCATCTACTCCGACATTGTATTTCGGGATATCACTACGGCGGCAGCAGCTTCAGTATTGTAATAGCGTGATTTTGGGAAACGCAGCTTAAGCACACCGAATCCTTCGTGCTTGTCATCATAATATAAGGTGTGATATACCGGTCCAACGACAATGCCTTAAACGGCCTATCCTCTGGCTCCGACCAGTCTGCAGCAGATTATGCGCACGCCTCGAAACGGTTGTCTTATAGAGTGGAATACAATTATTGAAGCCATTTTATAAGCATAGGTAAACCATCCTTCAGGAGAAGTAAGGTTATTGTTCGTCGACCCTGCATAATGAAACACTAACTTCTCAACAGGTCGAACAGCTAAACTGAAGTGAGGTTCTCAATGACTGTTAGATTTCCGCGCTGGGGCGTCGATATGGTTTGTAGCGTTAGCAGGCCTATATATCCGATACAAAATTCACATCTCCCTACACATCCTTAAAAGAGGACAACGTAGGAAAAATCGGGATATTTCCAATAGGGCAATAACGTCCACGTATGGCTCGACGCCTAGAATTTATTTCAGTCCTCGGGCGTGTGTAACGTGCGAATGACTGCTCGTTCCCAGGCGGTATAGGCAAAGGGCGTTGTAAGAGTATGTAGCTGGGGGCCCCTCTTTTTTACCGCAGCAAATCGCGACAACCAATCTTTTAGAACCCCTGGTTAGGAGAATTTAATTAACCGGAATCATAACATCACTGAAGCCTAGGCGGATTAACGTGCGCCTCGATGTTGCACTTTTGTTGGCCTGGCTATTACGACCCAAGTGGTGTCGATTGTGGGAACGTGTATTACAGATCAATATTCGGTGCCGGTGGTGCTTTCGATGCTACGGATACCTGTAATAACGTCCTAATCGCCGAAGCAACATCACGGCCAGACCGATTGTCTCAGAGCCAACAATGACACTAGGCCGAAGTGGCACGCCTAATAGATAAAGAGGGGAATCCTCTTTCTGATTACGGTAGCCACCACTTTTACTGGACGGTAATTATGTACCTTCCCCCTTATATGTCAGAATTAGTACACTAGACGGGCGTCTTCCAAGAGTTGTGTTTCAGGCGAACTGTGTGACTAAATTCGGATAATCCGCGATAAATGTGGGGAGTTCCTAGTGAATGATCAAGATCCAGCGAACCAAGTATCTAACTCTTGTGTTCGCCGCCCGAACCATCTATTTGGGTAAAGAGATTAGCCGGTAGTACAAAGTAGCGTGACTCAGTCATATACTCTCACCTTCCGAACCATCAGACGCGAATATGGTGCCCCTGAGTTTTGCTACAGTCGCCGCCATTGTCATATCCCGAGTCTAGATTTAACAGTTCCCTACCCTTCCGCATGTATAGGCAAACAATTACGAGGCCATGAAATTAAGTGTGGAGGGTTAACCGGATTTACGGAGTGCTAGCCATCCAATGTAAAGCCTCTAGTACCGATTGCCGAGTTATTAGATGTTTTCCCCAGAAGCGAGGGGCCGGAATACGGCGATTGTAGAGGGACACTCGTTATAGTCGAGCGACTTGAGCGTGGGTCCCGGTGCTGACTTCCGGGGAAAGCGCAACCAATTACGCATGACCAGGACCGTATTAGATACGCCCTCGTCGAACAGAATGTTGAGTAACTGAGACTACCGAAGAGGGCATATCTTCCTTTGGTTCGGGGTAGGTTGCCCTCGTCACGATGGAGCGCGGCATACGAGTTAGCCGCAACACGCCTACATGAATTTAACAGAACTGGCGAGTATCACACCGTAACTTACCCTGGCGAATCATTAAAGGATCTGACCCAGGTTTCAGATACTAGGTTACTTGGACTGCCTTACCGCTTATCTCTTCCGGATGGATGGGTATCCTTCGTTCGTGTGCTTAGGACTATTTGCACATCCTAACCTTGGTGTAGAGAACGGCTGAGTCGTGCAGACTTTTCCCAGAATCCGGTAATCAAAACTCGATGATGCCCACGTCACAGAATGCTACGTTAAGTGTTCGGGTTTGCTCGTAAACGGCCTACACCTCTCGCCGTAGACCAGCCATGTTCTACAGGACCACCAAGGATTGCGAGAGGAATCCTAACGCAAGACATCAGGAGAGGAGCTTCGACCGGGCTGCGAACGACACAACCGGTCGGTAAGTTTGTGGAGTAAGAAGCGTGCTAGGTATAAGTCCCATATGGGTCAAGGAGCGTCGGGATTGTGGTACGGTTTAAGGGGCAGTAAAGTAAGAGGTTACATGGAGGATCAGGAGTAGGAATTAAGGCCTTTGTAATGACTCCTTCAGAGCACAGCACATACTATGGGAGAAAAAGGGACAGTGGCATAGAGAATCTACGCCGGTCGACCCGGTCAGCACTGTGCTCAGATAAATAAGAAAGTATGGCGCTAGCGCATTTGGATTTAAGGGACGTTCGCTACCTGAGGGTTTCACTCGCAGGCATTTGCTGTCTTCTACGGCTAATCGAACTACACTCTGGGCAGGCTACCGTAGGACGTCCTGTTAGCCTAAATCGTCTCCCACCGTCAGAAACTGATGTTCCCGGATCACAAAAGTTACTGCCTAGCAAACTCATACCTGTCCAATCACCCCCAGACACTAAAAACTATGCGACACCGCAATATAGCTTCACCCTTCTAAGAGGCTCCGACCTACCTTTTTTACTCACATGTTTCATGTCGGCACACTAGCCCTTGGTAACAAGCACAACCAGACCTATCCAGCTGTAAAACCGACCCTGACATCAGACCCTTAGACGCTTGCTTAGATCGCAGCGCACCTTTGTGATGACTTTAAACTCTTCACAACTGCCAGTTTTACACCCCCGTAAGTCGCAGTTAGTATAACCTATAGGGAGTGCAGAATTCATATTAACCCATGTACACGCTATGTGATTAACTTCAGATCAGCACATAGGCAAGGAAGAGTTACGCCTTTGTGTCGGGGTGCTAATCAGTCGACGAGTTTTATTACTAAGGGGTGTTAATGGCTGTAGGGTGACATAGCGGCATCCACGCAGGCGCACGAGCCACCGATGCGCTTGTTTTTGCGCCATTATATAGAACGCCTACCGATCCCGTAGTTAGGCGTGCACCGCAGTTCAGGATTTTGGATGCCTGAAGTTTTAGTTATTGCAAGCGTAGAGAGCTAAGGGTACCACAGACCCGACAGTGCTCCGTGGAACGGATCTACATGTCAAAATGCACAGAACGCGTCCCTTAAGCTCGCGTGCGGACTGTTGCAGCTTGCTAATAAGTGGTCGATCTACATGTAAACGGCTGGCCTTGACTACCACCGTAGCATAGGACAAAAGTAGAGACGAGTCAAGCTTAACCTATAACTTATGCAGGGAAACGCTTGGCGTTACTAAAAGAAGCTGCCGACCTCTTGCAGTCAAGATGCAGTCGAGTTCTTGGAATACTCACTCAACACAGCCACCGTAACTGTTAGTGCTGGGTAACTCTGCGAGCATGGGGTAACTCGTGTTGTTGACCTGTTGGGCTGTCGAGCTAAGCATTCTCACTGCAATGAATACCAGGTTATCCATCATCTCTATCCTTAAGGCTGTTAGCCCATATCCCGTTTCTCTACGGCATTGAGGGCACCTTTTCATAATTCCTGAGGTTTCGCGAGCATCGGATTCGTCTAAGGTCAATGGGGGTGACATAAGGGCACGTGTTCCGGTGACTTTCGTGCACCTTGGATACCTACGTCAAGCGTACCAACCTACTGATGGCCACGTGGTCCCTTGGTTAAAACAACCGCCCCTGCTGTATGCTATCGTGAACTGCTTAGATACTCTAACGGTCCCCCGTCGCGTTTGACTTGGACAACCTCGAATTGTATCGTTCATTAATGAGACTTTCAGCGCTCTTGCCCAGACTGCTATAACAGTTTGTCCCCTATGGCCTGGAGCTCTTTGTATACTATACCGAAGAATCTCTCTGGTTCGCGACCAGCGCGGGACCGGCACACAGTAAGGCCAACCGCCTTCGCTTGGTCCTGGAGGATGGGAGGTCCCCATTTAGAGATTGATGTGAGTGCGAGATCGTTCGACTAGTACGGATCAGCATGACGATCAAATGCCCGATGGCGGTGTCATAGCACCGGAGGTTCTCACTCGGGGTGTTCAGCGTTTGAAGATCGTATATGCTGACAATGAAAGACCCTGTCATCGTGCCTGGTCTAGTTGGTCAATCTTACGACGTGTTGATAACACGGGGTAGCATCCGCTTTAGCCGGTATGATTAATGTCAAGCGCGTCGGATGGTGCACCATACAATGGCGACGAATCGGCTCCATTCAGACTCGCACGCGGTCACTTAGTTAACTTGGCATCCCGTCCACCGATACACATGGCCTATGTATGAGCAACACAGTACATTTAAAGCTTCTAGGAAGAAATTCCCCACCGGGCACCTGACTGTCTACATCATGCTTCTTGACGTACTGCCTAATAATACTCAGTAGATTGATCTGTTTGGAAAATCTGGCATTATTTAATGAACGTCTATCTAGCATGTTTCAGTTGTCCTCCAGATTTAGCGTCCCGACCAGTAATACTCTGGGTTATCCGTAATATGCAAAGAGTAGGGTCTTAAATAGGTACCATCGCTTTTACCTTCGCGCTCATAAGATCGATGACATGAAGCCAGGAGATAACAAAATACATAGGCCCCTAGACAACGTTCCTCACCTCGTGTACGTACGAAATCAAGGATGCTCTGTACTTGTGAGCCTTAGCATAACCCATATCAACATAGAAGCAAGTCAAAGGGCGAAGGTCATACACACGTGCGCCTAATTATGCACACCGGTCTAGCGGAATGGGTTAAGACAGCGGTGTTTAAGTGATGAATAGCACGAAGAAACTAAATTACGGGATGCGAGGCGCCTGCTAGGCTGGCCACCGATGGGCACATTTCTTTAAGGAAGCGGACGGTTAGAAATGACACTTCGTGATCCTTCATCAGTGCCGACAAGGTAGCAGCTGTGCCATTTACCGGCTAGACCATACAGTTTATGGGCATGATATATCGTCATCGTTTAGCATATCTTATTCCGCTTCGCATTATTCCACCCGGTTGTTGTGGACACCCCCTGGACCCCCGCTTAATCCGGACCGTGGCTTGTCTATACCTTACCCCACGACTTCGGGATGTGGATGGGGTCCCTATAGATGTTAACACGTATAAGTGGCCCGCGGTGCGTCTTGCTGTCGTCGGGACATCAGTGATGGTGAACCCCCATCTATCTGCAACCACGGACCTCTATGTGTGAATGGCCGTATGGAATCAGCAGCTCAATAGTTATTAGTAATCGACATATATTAATGGGTCGCACATCTGTGCGAACCTGCAAGTGGACTACCACTTAATTTCTACTGTATCTTTTCCACTACATGCCGAACATCCGCAATCATGCAAGAGTTCAGAATGGAGACCGCAGCGGGCTTGCGTTCTCCGACCAGAGAGTCTCTTCTTCTGTTACGCTAAAGTACTACGCCCTACATGTGGCCGGGGACAAGAGTGGAGAAGGGACGCTGTCCCACTCACCGCCTTTTACCATCGCGGTGTTGTAGCTCCGTACGGGGGTCGCCTACGTAGTCTAGGACAAGAATCCGAAGGGATAGACTCCGGCACTAGTATGTGGCGCGAAGCCGTAGCCGCCAGGAGCGCGATCTGACAAAAGTCCCACCTCCTGAAGGGGCCCACACAGCTGCAGTGACTCTGTCCACGTCTAGAGGGTATCAAGGGGGCTCGCAGTATTGCCACCCATGTCCACGTAGAGGACGGGAACTGTTATTCGATCACTTCGCGTCCAACAGTCCTCTGCGCGCGAGGAATCTTACTGGCTTGTAAGTCGGTTAGTTACTCTACGGAACCCTTATCCCCATGCTCCAGGGAGAAGGTCGACGAGCGGGAGTCGGGAGAAAGAATTTCGCAACACAATACGTAATGGGTGTCGAACGCACTGATGTTGGTGCCGTACCCACGACGCACATCCCTGTTGCACACTCGGCAGCCTTGGACCGGGGCCGAGCAGTCCATCCTGTACGCAAAGCGTGTAAGCTCAGTCGCATCACAACTACCGTATTAGCTTACGCTAAAGTGTTGTGTATTCTGGGAGAATAGGCCACCTGTGGCGGGTTCAGATGAGTTGCATCCGGTGAACTTTGTCTACCCCCCCATCGAAAAAGGATGCCTCAGCTCCGATAGCTATTTGAAGGCCCTGTAATTCATCGGAAGTGGCCCACTCACCACCGCTTCAGACAAGAACGGCCAGGAAGCTGTGAGCTCACCTTCATTTGATTTTCTCGAGTTTAGCTGGATGATGAGACAAGAATATCTCCAGTACGATGGCTGTGCGGGTTTATGAGTCATAAGATGCTAAAGTGATACTTCACTATTTGGAATATAAGAGAAGTACTCTGTAGCGGTACTCCACCGAGTATACTCATTTACCATCTCCCCGGCATGTTACCGTAAGGGGCTTAGAATCCAATACTCAGTACTATGAGGCAGATACCGTTCCGTATTAAAGCCGCAACACGTCATTTCACAATTGTCAGTACAGCTAACCTTTGCATAGAAAACCACGTCAAGCAGTATGTATCCAACTTGAACCATAACTCTGCCCAACCAATGGAGCCCCTACCATGAAAAAATATGCGAGTAGAGGAGGGGCTCAGCCGGGATCGTCTGTCGCCGCTAGGAGTCGAGGGCCAGGGCCCCAGGGGGGACTGTAGCTAAATATAATCGCGCATGGTTTAGACAGCATGACTATAGCGGCACGACCATTGCGTTCTCCCAAGTTTCTTCCAAATTCCAAGAGGCTTCGGACATTGCAACACTTACCAAGCTTAGCGGAATGGATTAAGATTGCTTTGGGGTTCGCATCAAGAAGCGTTTCGCTTCATCAAAGGGAAGATGTCGCTATCGAGGTAGCGATGAAATCTCGTATGGAGCGTGCATGAAAGTCGCCACACGGGCATTCAGCCATCTGATACTCATACAACTTTTTCCTGGACATGGTTTGCTAGTATCTCAATGTGACGCCACATACCCGTGGGTCTCTTTACATCCGTGTCGGCTTCTAAGTTAGCACGCTCAACGTGCAGTTCGTCATGTGGTTGAGCAAGGTGCGGCCAATTATAGCCCTACTCTGGACCGAGCCAGTCCGAATGTCTCCCCCTGAGTCGGCATGAAACACTTGCCAGCGCAAGGTACGCGCGAGTAAATCCGATGCTTCTGCATCTGGTTTCTCCGCGCGCCGTCATTATACTGCACGTCGTCCCTGACGCACCCACTGAGTTTAGAGTTCTGGGAGAGCTCGCGCGATACAATACGAGCCCCTGTGTAAGCCTCGTTTTGGTTCTATCGGAATGTAATAGGATCTTAGTCATAGAATATTCCAGGGATCGGGGAAATCAGGGGAAAGGTCCGGAACTATTAGTGGACTAGTTTAACGTATCTTATCGAATTCCCTCGCCGGCCGGTTACATTCAAGATAACACGTGTGGTTGCTCGTAGTTTGTCAGGAGACGGAACCACACGGTGGTTTCCTTGAACACTTGTGGAGGCACTCTTCTCAGGCTAAGTAAGCGGCAGCTGTCCGTAGTGAGGAGAGACAACTGCAAGGCGTTTTCAGTCCATGGCATTGAGCTCGTAGTAGTGCATCGTGACACGGACCTGTGCACAAATGCCAGACGAAATAACTTTCATAGACCGTACATCTAATTGACTCCTAAGCAGACAGGCAGGCGCTAAAGAGACCAGCATCAAGAGCGTTCCTGCTCTGAGGATCATTGGCGTCCGAGCTCTTTCCAATCTTTACCGACTGGATTAGAAGATTGTCCTTCATGCCCCAGTAACAAATCGGCATGTTTCCTGACAATTGGGTATTGTTATCCGCTAAGGGGACGTTTCGCCGTCGCAATTAATATCCGACGACATGAGCTCGTTTTCTGTGGACGCAGAGGGATCGATGAGGTACTGTGGCCTACGGGCCCCTGACCGCCCCTCGAGCAGGGTTTTGGTGCCCCACGGTGTGGCTTCCGGTTCGCTGTTAAGGCTATAAACGTTCCCCCTCCTCAACGGAGCATAGGCAAGATGGGACATCTTCTGTTGCTGCCAGTATTTTTTCTTTACTTTAGACACTGGCTCTTCTTATATACGCTTACTAGAAACAGTTTCCATAGGTTACACTTCCCGGCATGTGTTGATCTAACTTTATTGCGACGAAGTGCGGCGACCAACCCTCAGACAGGTTATATTGTACCCCGGAGTGAAGATGGTGTAGCTCCTTAGGGACTTAGTCGGTCCGGAGTGCTAGGACCCATCAGGTGCTGGAGGAGCGGCCGTGGAAGGTTCAGGCCTGGTGGCCAGAAAACACGTGTAAGATATGGAGAATGCTGAGCCCCACTATATCCAGACCTCGGGGTCTTTTATTGAAGTACTACATTAGCAAGAATAGAAACGTTTCTGTCTTCTTCATTGGGGGTCGACTAAAATAGCGCATCTCTTGGTTTAATATGCTCCATTTAGCAAAACCGGTTAGACTGTTGACCACTTACGCGGGCGGCGCTAATAACGCGTACGCAGTCTGCTGCGACCAACCCCTATTTGTGTTTAAAGCACCTCCCGCAGCACCTCGGTATTGTTAGTTCACGGTTGGCGTAGAACGGACTTGGACTTTTTCATATTTTTGTACATTGGACGCCGAGCGAATTCACTATATAAATTGTTAGACAGTCCCAGTTCCCTCGGACGAGGCCTTTAGGTCTCATGCACGTTAGAACACAATGAGAATCCCATTGGTCACGCGGTTGCTACGTTAGAAAGGATTCTTCCGAGAAACCTGTCTTATTAAAGCTGAGCACTTTGAAGGTTCTGGGGAACCGCGTCCTGGATGGGACCGTGATAAGGGGGGCGCGAATCGTGGTGATTGGGCTCAGGTTGCCCGAGACTAAACGCTAAGTGTCAGTCCCGGAGGTCAAGATCGGCCTGATTCGTTGCGGACGACCAGAGTGTACTGAACCGGTTCGTTTCCGGAGTACCCCGATGCTCCGGTAACACCTCCATAAAAGGTATTCACCTGATGATCTGACTCCCTCGTGTATCTCGGCGCCTACTGAGAAGACTCACGGAGTTGCGTCCTCAAATAGCAGCTATCTTTTCGCCAGCGGGATCGGCTGAAATACGGAAAGTCCTCTCTTGATCGGGAACGATATAGCATAGTAAACGTGCGGTGTCCGGTGACTACAATGAGGTAAGCCAAGAGTGCGGATGGACAGCTATATCCAGGTGACTAAGCACCTGTACGCTATAGATCTCTCAGCAGCTACGTATGATCTTTCCAATCGAGTCCACCCCTCTAAACCGGGGACAATTGGCGGTAGCATTCGAATTAACGACGTCGGGGACCACAGCGAGTCGAAACAGGTATCTAATTGGAGGTTGCTTTAGTGACGCTGACCTTTCAATTACGTTTTACATTCAGTATTTCGTGCGTCCCACCTCGCAAAACCCGTAGCTATCGAGCGAATTTGATTTCCTACGCCTCGTCGAACATAGTGTCAGTTTATGGGGAGCCTTGCGATACACATTTGGGCACTAACTTGGACACATGGGAAGAAGAATATTCCAGTGCAGTTATACCAGTTGTCATCTAAGCTTAAATCTATCGATACGCATTTCCGCGTTGATTATATGCAAATAACCAGGGCAAACCGATGACACTACTGTACTAAGACCAGTCGTAGGGTCAAATGATCAATGGCAATAACTGGACCAAGTGAACCGATGTCTAGAAAATTTCATGTTGTCGTAATCCCCCCCGGTACCCGGCTAGTCATTACGGAGTACAACGTTGTCAAGTAAGGCGTGTTTAGTATGTGTGCTCCGTCTCTGGGTACCCCTCTTGTCTGCAACGGTTAACTTTGTAGACGTCGTTGCGGTCGCGACTAACGAACGATCGCGCTCTGTTGAGCCAATGATTCCCCCTCTACTAGGTTCCCTTAGAGATAAACTCTCATCTTTCGTGATACGTCTTCGAAGGACCTCAGAGTCTAAACTGATAAACGTTTTATAGATTCCGGATCCATGCGAAACCTTAAGCTCTGTCACTCCAGTGACTTAGCGCGGGCATCAGGGTAATGCTGCCGTTAGGTACGAGTAATCAACACGCGACCGGAAATCGCCAAACTGCCTGCAGCACCTTTAGGTCCCTATAGCCTGCGTTGGTCCCCAAACGTCCGACTTAATCCGCTCCACTGCCCTGCTCATGAGGCACCGGGTCAACGAGGTCCTCCGATGAGTGTACCTTGCTCTAGTGGCCCAGCACAACGAAAGCTCAACAACTTAGCGCTGCAAACGATGGGGCGTGTATCCTAAACATTTGGGTAGCAAACTTTACGGCATCGCACAGTTTGGTTGGGACTGGTCCGAGCGAGGAACAATAGGGTACAAGTGTGGCTGCCACCGGTGTAACGTTTATGGGAAGAGGGGTTACCTCTTATCTAGGGCGGCAGACCCACGTACGGGGGTATGTACCCTCTTAAGTGTGACGTTACTATCATATCTTATGACATCCATCAGTTCACAAAAACGTATACTAATAGCTTTAGTCTATTGACGATTGTAATGTAATGTCTCACACTAGAGGGGATCATAACTATAGCGCGCCGCTATGTTCTCGTCATAGGGACACTACGAAGAGTCTGTAATCTTCTATTCGGCGCGTATGGCTTGTAAACGAGGTTATTTACAGATTCCACAATTAATATGGCTTTTGCGACATGCAAACCGAGTGACGCTTACCACCTTATGTAACCGACGGTTAATGTCGGCACCGGCTATACCACGACTTCCCTGGTATCTCCACCTGCCTGACGAGTGAAGAGATATCCGCAGGCCCTGGAACACATAAGATGTTGCAAGGTAGACGTTGAGTCTTGCTGAGATCAGAGAGACGCAATATTGTAAGGATCCGCCCCAAGCGTACTAGGTCTAACAGCTTCGGCTTGTCCTAGCTCTAATAATTTTACTAAACTCAAAACGCATTATTTGATCCTCACGACATGTCCAACTCGGATACTCGTTCAAGATTCAAATACCTAGGAGTCCGACGAATCATAACTCAGTCAAGAAGTCTACCTCTTTTCGCGTTTAGGGTGCTATCCCTGAACGACGAATGTGGGTATCAAAGACTCCCAACAGAAGTCCCAGATACGCGCGCTTTACTTGTCTATTCCTTTGGGGGATCAATCGCGGCAATGATTGCTCTAAACGGGCGAGCAATCACACAGCGAGAGGAAGAGCTGCTAACCAAGGCAAGGATTAGAGGGTAAAGGCCTTATGTACTTGATGCCCTTTGTTCGTCAGACCGGATCTTTGTTCTCATGGCCGCGCAACTTAGTGCCTCCGGCTATAACCATTTGGCTGTGCCGGGGTAGTGCGTTGATAGCTTCACGACTACCACTGCCATTCCATCTGTCCGATATCATGCTATTCATTTTAACCCGTGAACTACCTAATCCAGGGTAAATCACCCTATGCGGACTGGCTTTTCGAACACCGATTGTGGGTGGTAATCTGGGCTACCAGCGTATTTAAGTCTGTTGTGAAAGAGATTGGCATGTCTTGCTCCTATTTGTGAGTCCAAAAAGTTCGGCGCGTCTGCTTCAGTTATGTCATTGCTTGCCTTCGTTACTGGCTTTATCGTATGGAGTAACTTTACCAATTTTGTCGAATCGTATCCGAAGCAGCGCATGACCATAAGCCTAACTGTAAAGATGCTGACGTGAAAGTTTCCCGAGGGTCGTAGATGGTTCCGAGGACTTACTTAGACCACAACCGTAGACAGCCTGCTAAAACGTTCAAGGGCTATGTATGAATGCACATCATCGTTCCCACCTGACCGAGTTAGACAAGTTTAGATTACGTGTAGAAGAATCGCCTAGCACTCCAGTCTCGTTGCGTAACTTTCCTCGACCGCGGATACAAGAGTGCCAGGGATCTAGCCAGAACCCCCAGATATAATCAAACTGCCTCGGGTATGTAATAAGGAACGACCAAATATATTATTTTTGGGAGAACCTGTCATGAGTATTACGTATAAGCCGAGTATCGGAAGTATTTCACAACCCATTTCGCACTACACAAGTACTGAGTTCCCACGGACACGAATGAGCCCCCAAACTTTACGTCAAAGGAAGGGTCACATACCCTTCAGAAGCTCCATCAGAAGCAAAGTCGACGTCCTTACTTATAATCATTCCTCCCAAGCATGTCATTCGTACAACTTTTAAAGGACCTCTCGCAAGGTTACTGCGTTCTAGGTCCAAAACGTCTAGTAGGTTAACTAGGTTCTCTGCACAGTTGTAGAGCCCAGCTCCCAAACTCAATGCGCATACGCCAACATCAGCAATAACCCGGGGATAATTGAAGGGGACGGTAGCCGTTCCGCGTGGGTAATGGAGCCGGCGTAGGGGTCAGGATTTGGGATCCTGTTTGAGTTAACCTGGACCAAGGGCAAACAGTAACACACCCACCGATTCTTACCATAAGCAGTGCCTAGGCGGGAGTGACGAGGTTCTGCCAAAATGCTACGCTGTACTAGGTGGCTCTCGGCGATAGCATTACCGCATAGATGATTTTGTCCATACCCAGGAGGTCCTATGAGACCCCATCGAGGTCGAAGATGCCGTCCACCCAAGAGGACCCCATGCACGTTCTCCTAGCCGCCGCTAGACCTCTTCCACCCAAAAGTACTCTGTGATCACCGTTATTAGGTATCTGATCTCACGTACGCTTTTGCTTCAACCGCATAAAAATATTAGTTGGTGATATACGTCCACCGTTAAAAGAACTTTTGGCTTCCGATTGCCAACCTATATTATTCTGACTCGCGTAAACAGATGGCTTGTATCGTGCAGTAGCGCCCGAATACCCCTCTCGTGAAGATCGATAGCGACTCTATCTCTCTTCCTATGTATGTGTACTTGTAACGCTCTATGCGCGGTGACGTGCTCAGCGCGACGGGTTAGACGGAGGAACCGATTGAGTTAAAAGGCCGTTCTAAAGTCGTACCCAATATGTTCTCTTCACTCCAGTCTTTCATGTCTCCTACATCCTTTGGTTCCGTCCAGGTCGCTTTTCCCAGATTACTGAGTCCACCGTGAGCCGGCCCCGGGTGGAGGGCCCCTGCTTGATACTGACATGATCAGTCCGATGGTCTGGTGGTGGGTGAAGTACTTCAATCCAAGCTCAATGCATCATGGGCTATTCTGGGGTCGCTTTAGTGCAGTCCCCAAGGCGCCGATGCAGTGTATACTCGCAGTTCGAAACATCCAAAAGCGGGGTGGTATAGTACGGCGTGCGGGCCCGCTCTGGGCCAAACTCGACAAGGGTGGAGGCCCGTCTCTATTTGGCGGGACCTATATCAGGCGAGATCTTAAGGTCACAGGGCCGAAGTTCGTCTCCGCAACCGTCCACTTCTGGATAGATGTTGGAATCTTCTGATAACGAACCGCGACGGCGCGGGCAAGCGTGTTGAGCCGCTTCAATAACTGCAACGTGCCTGTGTAGCGTTACTCACCGAGCTACTTGCATGACGCAGTTGTATAGTATTTAAGGGCGGAAAGCAACTGGATCTTCGGCCCCAGCGGCCCATCTCGAGTTCACATTCATGACCCAGTACCGCGGCTATTCTGGATAGCGCACACATAATTCTCGGAGCGACCCAGGTGCAAGCGAGAGTGATATACGATCGGAAAAGAACGGACGAGGCGATATCCAAAACCATGTGTTCGCTGTCAAGTTCACAACTCTAGGGCTGAACAGACTATTTCCATGCACCTCGGATAATAAGACGTCCCAATGAAGCGAGGGTCAATGAACTCCGTAGTCCCCCAGGCGACTGGCAAGGGACTCTTGTGAACTGATAGTCCGGAGGTGGCTCAAATCAATAGATATATACCTTCCATTCGTACCGGTAACCTATGCGTATTAGGTCATACGGTTTCTGGGCCACTTTGGCCGGTTTGCTGGGACTTCATACCTCTTTCATATTTTTCTATCGAGGGTCCAAGCGTGACACATAATCGGGTAATGACCCAGCGGCTTTGTCTCTTTCAGGTCTCGTCAGCCCCCCTCCTGCCATCGGGTAGGGAAACCCGAAATGAACTAGAATAATTTCAAGGGGCAGATGTATTAGTATCCTTTGACTCATTAATTTTCGTTAAGTGACGGACATACTCCCTACGAGAGGCGCACAAGATTGTGCGTGCTTTCATATGCGAGCTGACTTCGTAGACAATAGGGCAACCCCCCCTTTTATCTTACGACTGGCGAGGCGTCATTGTTGAAGGAGAAGAATCCTCGAACTATCGCAAGCGTCATTTTAAAAAGAACATCGTGAGCACACATGCCCCTAGAGTGTGGCGATGGCTTATGCGCGGGCTGAGATAATATTCCTGGGGCTATGACGCTCTTTAATTCAGTGCTCATGCTATTAATGGTAAGCGGACGGGTTGATATATCAATCCCCTTGTGGTTGGCGGTTGGTAGACTCGCCTTCTTACACGAGTGAAGAGCCGGACCGAAAGTCCTGTTTACCAATGGTCCTCGTACGACACCTGGGTCTCGACACAGGTGTGGACCCATATCGAGCACAGTGCAGGAGTTTATCCTCATGGCTGCTTTCACTTGCGTTATTCTTTAGTCCACGCGGTGCATGCAAGCTCTCGCCACTACGAAAAATACCCTGTCATTTCGAGTTGTGATGACAAAGCTTGCCCAAAAGGACTCGGGCTGGAAACTGCAAGGTACCATTAGCTGGGCATTTGGCCGCCCACTGAGGCACAGTAGAGGTGCACTGCCGCGCAGCCCGATTTAAACCACGATATTAGGCAGGTGCTATCGGATCCTTATGAGACGCGCTGGGTACCGTAGGGAATCTTTGCCGGAACCGGTGTCAGCTTTCCCTGGCGCTCACTTAGGTGGTTACTGATATCATTATCGATACCCTACGCGATCACCTACCTGAGCCCCTGCATTCGCTCGAACGTCGGTATCGCGTGGGGAGATTGCCGGTCGTCATTCGTCTGTAGCGGAAATGGTACTCCCGCCGACCAGCATGGCCTAACGCACTACACTGACCTGAATATCCAACCAGCGCCCCGGTCTGCTCAGCCACCTGATTTATGGGAACCCGAAACTCCGATATTATTTGACTGCTAGATCATATAAGATGGTTAAACGCGGGTCCTCTATCTCGATGGGGAAGAATGGTCACAGTCTCATCCCTCAACGAGTAGTGGGAACGCTTGAGTAACCTGTCTATGCGACATTGAAATGCAGGTAACACCTGTTCCTGGCGTAGCCTTGGCAGCGCCTCCTTTTGGTAAGCATAGATTACCTGAGCATAACCTTCCACGTCAGCAATTCTAACTTTTACCACGGAGGACAGAGTCACGTTTTCGAAGGTCTTGCAGTCAATCCATGTCAAAAGCAGAACCAGGAATCTGCGTAAAAGGCCGGACGAATTAAGCGCATCTGAATGTGGCCCGGCGCTGTGATTATCCCGAAAGCTGTGCTTCAACCTCTTCCACAATATCTCGACGCCGACCAAGTATAAGGGGTAGTCTATTACGAATAAAGTGTGAGGGGTATGAGGAATTAGTGGAATGGGAAAGTAGTTTGGATAACGTTTCCTCTGATTCTTCCAGCGGGCACCAAGCACCATTCCACTTCACCCTCTCTCAAGTCCCGTCAATGGAAGCACGACTTAGAGCCATAGGAAGAGTGGGGTCATTGCTCCCCTCTATCAAGCCGACATATCGGCGGCAGTATCTGGTTAATGTTCCTATCCGCTACGTGAGAAAAGCCTCCGTAATAGTGCCTGGCGCGGACGTCGTCATGTTCGCGTTGCCCATTTCATCGCGAGTCATCTGCCCGTTAGTGAAATCAATCGTGGTCTTTTAGCGCTTCTTCTGCGCCATTCTCCATCAAGGTTTTCTCTGCAGCTCCGTGTTATCGACATGGGGTTCTCTGACAGGGAGGCAGTGGCACTTAGGGCAGCGAGGACTAACTCAAGAATGCGTGCACAACTAGGTAGGTGAAGACGATTAAGCCAAACCCGCTGGGATACATGTATCGCCGGGACCCAATCGATTCACAGTCCATTTGTTCTACTAAGCTGAGCTAGCATAGAGACGGGAGAACGATCTCAGAATGGCCAGGCCGACGCAGACTAGGCGCGCCGACACAGTACTGAACGAAACTCAACAACGAGTCCGCCTGTCTCCCACGGCGAAACGGTGTGGGCGCCCACGACCCTGACTCTACTGAACTCTTGGGCGAAAGAGTCAGCTCTTCTAACCGGTGAGATTCACGTTAAGAACATTTTGTTCCAGATATACCTTACCGGAGTCAAATAAAAAGGGGGTTTTCCGTGGTAATGCGACCCGATCAGCTTAGGTTTCAGCGCAACTTGGAGCCCATGGCACAAGCGTCGCCAGTATTGCAACGCCATGTACGCGAAGTCCCTCGCATGGGTAATAATAGCTGAGATCGATAAGCCGCAGGAAAGGGCGCTATTGGGAAAACAACTATTCGTTGTAGATGTTAAGGTGGCTAGTTAAGAGGTTTTGCTCCCTTGCACCATCGGCTAGACACATCTTAGATTCCGGTCTACGTAGGGCCGTGGGACATTGATCTACCACTGTTTATAGCAGCTATCGACTAAATCTCTGAAAGTAAAATAGGGGCAGTGCTGTCGCGGATTCTATTGACAGACAGGCGCTTGAAAGTGACATAGGGACTAATGGATTTACTCATATGCCAAGTTTTGCGTCTTCCAATTCAGTTCATTTAGCATAGAATTTGGAAACCGGAAGAGTGCTAACTAGAGCGCTCGTCAAATCGCTTGTTTCGGGAGTCAGTCTGAAGAAAGTATTTAGCAAAAATAACAAGGAAAATTAACGCGGTTCCAGATCCTGCCAATTTACACCCCCACAGAAATTGCACACGGATAAATGAACATATGAGATGGCGCGGGTGGAAGTGTCACTGGACCTTGTAGAGTGAGAACGCGTTAACTTTGACCGCAGTTTCGCATGACCGTCACTCGTGAGCTTCTTATTCTCACTTGTACAGAGCGTGCCCGCTATTTGAGGGACATGGTCTGCAAAGACCTATTGAATCTCATCTAAAATGGTGTCCAGTTCACCTTATCCTGTCATGCTGAGTCAACAGTATTGTCAGGGAGGGTGAGATAACAGGTTCAATCCTCCTATGAATAGGTTAGCGCTTAAATTAATCCTCAAGATGAACCTTGGATTTTTGCCAAGAGTATGGTATAACCACCTCATGCCCGAATGTGGACCGACAGCGCTTCCTATCATCCGGCATCGTCATAGGGTTTTGATACCGCTGGAGGTCGAGGATCGGAGGCCCAAATAGCTTCACAGCTCGACTAGATTCCTAGGATGAGTCCGGATCTGGTCAGAAGATATCGGACCTCGGATAGGTAGCGAATCCCATCTAACTTCACACAAGTACCGGGGATCGAGTTGGACCGATTCCTCCAGAATACTCTCCCCATGATCGTACTGAAGTCAGCCACTAAAGGGCGAAACGCAGCGTGCGGGGTGATGGCCACCCCGAAGTGTCTCAGACGTTGGCGGGAGGATCAGGGACTGGCGGAAGCCAATGTGCGGCTTCTTAAAGGCTGCTGAGAGGCTGAATATTTCGTCTCGAACGTATCAATCATGGCCAACACCTTCAAACTTTAACCGTCTTGCTTTTCCTGTGGATTAACTACAAGAAACTACTAATTGACCATATTGGCACTTCAACGTGTTATGCAGGACCATGTTGTATACAGTGCGAATTCTGATGTACCACCCTCACGATGAATGGGACGGGGCGCGAGCTGCAAGAGTGTGTTGATTCACATTGCCTTTGCATCTACGATGAGCCCAAAACTTACAGTCAGTTCCACGCGGGTTCCCTGCTACACATATGCACTAAGAGGGATTACCGTAGAATGTTGTGGGGTTCTCTCTGTGCGCGGTTCGGAAGATGAGCACGTGTTTTTGCCCCTATGCGGTGGTGCTAAGATACAGCTTACGGTGTCCTCGGCGTACAACTGATGCTTCACGGAAAGGTAAGGGCATGCTTCCGATCTCGACAGTTAGTGAGATCTCGGTCTAGTTTCGATCTGGCAATCGTCCGCAGTCATACCTCACAACGAACAGGGCTAATTTTCCGCAGCGTCGATCAATTCGTGACTGTCAGGCGAGTAGCAGAAGTCTTCATTACCTCACTACCTCTGATGTCGTGGATTGCATAATTTTTCACGCACTATCGCTTGTTCACAAATGACTTGATCCCAGTTCTCGCGCCCCATCACAGGAATTGGGGCCATCGAATCGCTAGGCACTCCTATTCCACGATAAAGCCTAGTCACCCTAAGTGTGTAGGCGGTCGCCGGTAATCTGAGACAGATAGATCCGATTACTTCATGTTTAGAAGGCTAACGCAACGAGTATATCACGCCGACATCACGAGTGCAATTTGCATAACAGAGGTATGCATCTTCGAAGTCGTACGGAAGAACGATTACGAGCTCGTCACGCGCACTTCGATTTGTAGTTAAAACACGGGGAGGGATGCTTTTCAGTCAGTACATCGAGACTAGGCAAAGCTTATTGTTGTTCTTTGGTCGTGGTAAGGTTGTTACTGTAAAAGGGCAATCATCCTGGCCGGCTTTAGGCGCTCCCCATGTAGAGGGTTAACGGCCTAAAGATAATATAGAGCGAATGGGTGAATTGAGTGTGCGTCGACTCTAGCGATTTGATGTCAACAGGTTTTCCTGGGTTCATGATACGGAAAAGCGGCACGGCCTTTGTCGAGCGTAAAGAACATTCTTTGGCTGGGGTAACGCATACCTCAGTGGATCTGCCGACGGAGAAAGCTCTAACAGGATAGATCGCTTAGCTAAAGTACTTTCAGTCTCGAGGTTAGCCTGTAACTAACCACCCTGCCACAGGGACTCACGCAATGACTTGCTGTACCACTATTCGGGTGTGGCATAACGATATTAGGCAGTTGAGATGCGGGTAGGTAGCAGTATATGTGGAGTACTTATGCAAGGGGGATGAGCGATGATACGATCCGAAACGTCGACGGGCGCTCATCGAGCCCCGAGTCTCAAAAGATAACAGTACCTGCCACCTTAAATGTAAATGACGCTAATGTACCAGGAAGTCATTTAACTTCCCTACCCGCTCACCGCCGCCATTCTCGGCAAGATTATCGTCCCCCGACTTTGTAGAGCGTTTCGTGCTCCAGCAGAGAATATTTAAAGTAAGCAGCGAACCATGGTAATTTATAGACCGCTTCCCAGTCTTTCAGCACCTGTTTCACCAGCGGTACAGTGGTCCATGCCGTATCCGTACGATCCCCAGTGAAATCACTCCTGAGTGTCTATGACATCTTTTTTAATACATATCCCGTGTTCTCTTCCACTCCAGTATGCCAAAACCACCTGTCATAATAACGGCATAATTGACTAAACGTTCTAATGCCAACTTGGTCCTTAGAATCAGCTTTCTGCTCTACCCCAACACTAACGGTCAGATGTTATCACACATGAGGGGACTCGTAGCGAGTATTAAACACACCGACGAGCATATCCGTAGAGCAGATACTCTTGCCAGCCCCCTGTGAGGGCGTGTCTCTGGCAAGGCATCAAGCAGGTATTGATGCTGTGTAGCGAGTACGTGCACGCGTCCAGTGCCATCATACGGCCTTGAGAACCGATTAAGAGTCCAAGCGCATCGCCGCGGGTTAATTTTCAGCAATGGAAATGGAGGTCGGGGAGAACTAGGCTAGAATAACGAACGAATGACGCAACCCCTTATCGCTCTTTGCTCTAGAGGGCATAGTAGTACGGGGTCGAATATTGAAGCTAGCGTTCCTTTTCCTGAGATCGAGTTACCCGAGTTGTCAGACTTTCCGGATGCGGAAGGCGTCACGAGCCTTGGCGACCCTGCCTACAATCCCCAGGATAAGGTAGCGATGTACCAGGTTATAGCTAGCTTGGAGAATAGTTGATCACGGAGCAGCACCAGGCCATACTTGACCCTGTCTGCGGAGCTAACGACATGGGCATACCCAAAGCTTTCCTTGGGAATATGCCAACGCTAGAGGGAGGACACCTGACTTTTAAAATACAGGTCACTAACGTCGGTAGCGAATGTCGACCGGGGAGCGCAATTTGCTGATGATGACATCGCTCAATACACTTGGTAGGATGCGCCCAGAAGCGCCGGAGATTCATATGGCGTGAAGCATCGTCCCCAGAAGAACCTCCACGTAAGCGACGAGTACCCAAATCACCAACATCATAGCCTGCGACGGAATTCCATTTAGATCACCTGCCCACTGGCATGACAGGAAGCCCGCTCGCCGACCCCTGTTGAGTCCAGGACGTCTAGCGCAACCACCATTAGGTCGCATAGTTAACTTACGTTCTAACCCGTCTTCCACACTTAGTGAAGTTTCGTTCAATTTAGCTGACAAGCTGAGACTAAGGAGCCGGTTCAGCAGTTGAGCATAATGAGTCTTCCCGCAACTGAATTCCGTGAATTTAGAGGGAGCAACTCAGTACGGCAATCCGGTTTGAACGACCTTCGGGATCTCTCCATAAGGCGAAGAGATGGGGATGGGCTGACGATTGGTAAGCTGTACAGAGAACGCGGTTCACGGACAGTACATCAAAGTTAAGAGGCCACGTCCATGGCGACACGAGAAATATACCGAATGTGGGCATATCCCCCTGACGGCCGCAAAGTTAAAGACCGGCCATCAAGGCCGCAGAAAGGACCCTTTCCCCCACTGCGCTTTCATCCTATTCCACACACACACTGACCAGAGGAGAGTCTTGTTATGAGTTTTTGCACAAGTATCATCCGCGTGTATAGCTGTAACGCCCGGACAGACTCGAGGTGAGGTCCCACGTTGCCGTCGTGCGACGTAGGTGTCCTGCCAACACCGTCATTATTAATGTGTATAAGCACCACAAGGCGTTTTCGGCGCAAGATGATATCCGCCCTATGGGACAAACTTGCCTCATAAGAAATGAGTGCGTGCCGATAGGCCCAACCCCACGAACGTTAAACGCCTTACAGGACCCATGGCGAGTGCCAAGTCTGTCTGGTCGAGTGGAGAAAAGTGATGGACAATTATGACCCGCCGCAGGGTGCGGTTGGCAGACCCGCTAGCAGCCAAAATCGGCCCATTGCTTGCCAACATTGGCTTGGGAATACCCGATAACTGTACGCGACGACCGATGTACTTTTATCGATACCTGCCTGTGGCTTCAGCGTCTCAATGTGCTACCTCTCTAAAATGGCCACTCAAACTAAATCTTAATACCGACTCTTGACGGTTCTGGATCTGGGAAGCTCAGAGCCGGGCGCTAAAGGCCCAACTGTATGGTCCAATTACGTAATCCCTCCCTTACTGGACCGGTTTTGACAGAAATCAAACTCTGGTCTTCTTAGATAACGTCTTAAAGTCGCGTACATTTCCAACGCGATATTTACATAAAGCACGTCCTGTCGACTACGCTGCCACGGTTACAAGCCGGACGCAGAGCACTTGAGAGTCAGTGGCGCGATCTTTCGCTGAGTATATGGCAACTGTGGGAGACTGAGCGGGCGCACAGAGTCAGAGCTAGCGCGCTCAGGAATCCTAACTTCAACCCATTACGCTAGAGGCCAAAAATGTTGGATCGCATTACACTTGGACACATTAATCTTGGGACCGGGACTTAGATTACTTAGTGTGAAGTGGTCGAGGCAGTATATTAATTCGAGCGTCTAAATGCCAACAACGCCATATCGTACTCGAGTGGATCAGAAACAACTAGCGGTGATTTCGACCACGCCCTAAGTGAGCCAGCCCCCCAAAACAACCAATATGGCCCCTCTCAGAGCCTTAACTTCCAGGCTACCCACTCATACCACCAGCGATAGGTAGTTCATCACTTCAAGAACGTGCGCGGGATATCCATTCCAAACTCGAGTTTCCTTAGCTGACGCGCCGGTTGGCTTAAATCCGGAATAGACAGTGGGCCCAGCAAATCCACGCCAGGGTGCAATTATAAGCGACGCAGCGAAGGACCCGGCTACGGCCATTTGGCGTCTACGGATCCATCACTGAGTCCCCAGGTTTCTCGCAGGATCCTTTTCTTCTCCGTACCCGTCCGAGTACAACGCCTAGCGGATCGAGACAAATCCTGCAACGCCGCTGGCCGCACGAAGACTAGCAGGCTACAGAGAAGTGGGACGCGAGTTAGCTTTCGCGGGTACATAGCCTCTATTTATGCGAGTTGTAATGCTTCTCTTAACTAGTCGGTAGTCCAATGAGTTGGCTTGTCTCATGACCTTAAAACCTCCCGGTCGTAGCGGATTCGAGGGTACGAGCTTCCTTCCAGCGGGAAACCAACCAGCCAAGTGGATTTTTACATGTGTTAACTCTCTGGAACGTAACATTCATGTCTTTGCCAATTCCCGCGTCAAAACGTTTAAGGTGGATCAAGTCCACGCAATTCAGCGTTGCGTTGAGGCGGAGTCATGCACACTGGTCGTCTCAAACTTGAGAGATTATACTCCCTTCACGACTTACACGGGCTGGAGAGAGCTCGAAGCGACCCGTAGAGAGCGTTAAACGTGAGAGGAACATCCGTGAAGGCTTAGGACACAGTGGGCATTTTTGACGGTTCGATAACCGCGTCGCGTTGTACACGAACAGGGCCGGAAAGGTTCGCGCAGTATGTGCAGTTTACCTAATAGCTGCCCTGGTCAACCCGCCGCTTCGTGAGCATCATGACGCGTGCTGTAAGTTTTTCCGTGCGCTCTCCTATCAACGCTTACAGTCTTCCCTGTCGACGGGTCTGTCGCCGCGTTACAGAATACACCGAGTTATGCCAGCGTCAACTGAGTGTTGCGGCTTACAGCTTCAACTCAGCCCCGACAAAGTTTACTGCATTGACAATGCACAACCTAGTGAACCAAGGCGCCGCACGAAGAATATCCATTGATACTATCCATAGACCCTCTGTTCTGCACATCTGAAGGCTCAGACCTCTAAAAATCTTCCATCCGGTAGGTGACGCGCTTATTGCGATATAATGGGGAACAAATGCCTTAGACAACGAGTTCTTAGCACAATGGCGAGGATCCAATTTAAGCGGGGGACCACGATTAAGTAGCCCAGAAACATCGTAGGCAACATTTAAATTGCACAGCTATCCCCCTAGCTCCTAAGTGTTCACTCCAGACCTCGTGCTGGCAAGAATCTTCAGTTGGATCCCCGTATTACATCAGGCAACATGAAGGCGGAGCCTATCAAGCGCCGATTGGTTGTACTGTCCTGCGACCCGCCTCTAGGATTTCAGGCGAGTCCCTCCCAAGAGGCGGTGGTCTGATGTCAGTGCAATCATGTAAAAACGTGTGCCTACACGGGGGGGCGCCTGAATTGTGAGATTACTTTATTGTGCTATCAGCAATAGACCAGTTCTGCTTAGTTAAGGTCCCCCTGTATCGCAATCCCATGTTGGGTATAGCAGCTAACGAGACGAACTAGAGATCCCATATAAGGCACATCGAAACGCGATTCATGCCAATGAGGCTCCATCCCATGAGGGAGATTGGCGACACACAGATCTATGTGCACTTATTGTTCTCCTGATTTCGCCCCTGTGCCGCAACGCATGAATGGCATGCCACTCAAAAGAGGAAGACGTCCGTGTGCCACGAGTTTCGCTTGACAGTTTCCACACACTACAGGGTTGTTTTGCTGATTGAAGCAGATTGGACGGAAGGGGGCGGAACTTAATAAGGGATAGAGGCGGAGAGGCAACGGGCAAGCATACTCCACGTAGCTTCAAATACGTTTCAAGTTATGGGACGATCGCCGAGACAGATGGTGATCGATACAGGCTAAGGGCTCTCTTCGCGCGTAGTACGGTACTGAAGACCCCTATACAACGCCTGCACCGTCCCTACAGAAGTGAAGACTAATATGAAGACAACGAAGCGGTCTGCTGGTCAGGTGAAGCCGCAATGAAGCGAGGGCATGAAGAGAGGTCGCAGGATGAAGCACATACTCCAGGATTCCGTTAATACATCAGCCCTGGTGCCGATTGCGACTGGCATGAATACTTGCGGCAGCTGTGAGATTATCTGTCCTTGTGAGTGGTACCTGTATGAGGACCGTGTTGCGTGAATAGCCGACTCCGGGTCGGGCGGGTGCCTGGGCTGGTCCTTTCCGACCAAGGCCTCTGACTCAGGATTGGAAACGTCTGAAATATTTAGGTTAGCCGGAAGCCGCTGTCAATTCGTAAATACTAGAGGGCACGTACCCGTAATTGCTTTTGTCAAAACTGACTGGCCGGAAGAACCTGACCTAACCGTATAGGTCATCTTGCTTGTCGCGGGAGGTAGTTTCATGTAGATTGTGGTGGAGGTTTTTGTACGGTAGGAAATATTGCAAGACTTGGCTCCGGTTAGTCACACAAAGCTGCCATTCCGTGGAAGGCTCCAAGGTTGGGCTAGGTTACTCGTCGATCACGCCAGTCCTAGACGTAGGTCCTCCACGTTACGGTGAGGTCTATGGGGCGATTTTATATTATACGCGTTAAAAAATTGCAAAGCGGCTCGTTCAGAGGCACAGCGATATTGTAGCATTTGCGTAGAGGGGAGAGGCTCCATATGCTGGGGTAAGACAGTGGTTACCAGCTCGCGGTGTGATTAATAATCGCTAGGCAGGGACACATTGAGTTGTGAGTAGGACTTCGATGGACTTCGTTGTAAGGACTAAGCATCAGCAACGCCAACGAGGACCATTGAATCGCAGGTAAATCGCCGATCTGGAATTTCGGATTTCCTGTCAAGTCTAAGTAAAGTCTTGTTACATGCACACCACCATTTGACGGCAATCATATACTAGCCTGGTATGCAAGGGGCAATTCGCTGGGGGGTGCGAGAGTTGTAGCGTGGTGGGCGACAAAGGGGTAACTGTAGGCGGAGTAGTCTAACAGTGTGACCCGACCAAATTGTAGTAGGCTTGTGCGCGGGCTTGCCCAAGGCGGGTGTCATTCGTCCGGCCACAGCACCATAAAGTGGGATAGTTAATCACGTCGGTGTGGGTCCTATTGCTGCTAGTATTACTTTGGTCTTCACGAGTTTTTTACAGCGATCATGTTTAAGTGTCGCTCCCCAGAACGACTAGAGTTCTCGTGGCTCCTCAATTACCATTACATAGGCCCTATACAGGAAGGTCTTTGTACCCGATTGATGGTACTCCACGAATTGGCGCATAATGATTAGCTGACCTGAGGTATACCTGTGGGAATATGCCGGCAGTTGAACCGGCTCTCCTGTACAAGATCTGATAAGGTGTTTACATTACGGATACATGATTAGTTTGCCAAACGGAACAGTTTGGCTTATATTGTGCTTGTCCTGACAATGGGCGCAGGTGAGCAATACAAAGTCCCGATTAGCGTCAGTAGACGCCCGTAGGGCCATAGATGCAGTGAAATGGCCAGCGAAACAATACCCATCGAGATGTATGGCAGTCACAGTCAACCGCAACCGCCACTAGACCGCATTACAACCGTACCACGAAGTGCCGGATGGTTGATGTTTGAGAGGGGCAAAATCAGGGGTCTCTTAGCTCAGACAAGCGTCTTTAGCGATGACGAGGATCTCCATGAAGGGTGCGGCCATCTTAATCCTAAGTGGTAACAAGACGTTAGAGAGTCCTAATCAGTTTTACATCGGCAGTACAGGTGACGTGTGGGGCTTACTAGTCTCCCGAGCTAACTTCTTTGCATTGGGTCTGTTCGCTTTACGGATCTCTAGAAAATTTGATACTGTGACTTGACTGAACGACCGAGAGGAAAGTCAAACTCTAGTATCGTTAACTTAGGAAATATCTACCCTAAGTTATTATGAGATCATGAAGATCTAATCCAGCCTATTCCGGTTCCCCCGTCACCGTCCCTGCCGTGCATAACGAGTTGGCCTTATGCCTAGACCAATCCACCGCGCAGCACGTTTCATCGGGCACATGTAAACGAACTTGCTGTGGGCACTACGGATGTGCGGAAATGTTAGCTTGACGGGGGCAGTGAAGTTATTCTGTTCACAAGGTATCAGTTAATTGCGTAGATAGCTAAAATATGTAATTCAGTAGTAGAGCACGGCGGTGGCGGTGCGCGTCATACCCCCACCACTTATTCGCAATCTTCTCCTTGCCTTGGCGTAATCATACTTCTTTGTATCTGCTAAGCTTCTACTTAATACGTAACGATTGTTCTATGGCTTATTTTAATATTATATAAGCATCCTCGTCGCACCTCAAAAATGTATACCAAGACGACCGATTTAGACTAACGTTGGTAAATCACCTATATTGGTCTAGGTCCTGCCGAAATTTGGGCTCTGTCATGTTTATTCACGACCGGGTTGGCGACTCCGTGCCTTGCAGGAACGTATAAACCAAGTAGGCTGTTCAATTAGGTAACCCGGCACCATCATGTAGAACGGCGATCTGCTTCTAGCCTCCTCATGGACGCGGTGCGATCCTGGCAGCGGTTCTTCGGGGAACAGCAATAGAAAGCCAGTCTACTAAATCGTTCTGGTGGACCTTATTGTAGAGCCGCTACGGCCGTATAAGCGGCTTTCAGATTGTGGAGGCGGCAACTCCCTTAACATGCGATCGATTGGTAGGGTGCTTGTAGCTGATGTTAACAATATGTGCTCTACTGCTAGGTAAGGCACTTTTGGGCTACCCGAAAAGCTAGCGCTGGGGGGTTTGGCGTCACCTAGCGTATTTGCGGCAACTTACCATGCCGACATTTACTGGTAACCCTGGACCCTAATATGAGAAAATGCTCATGAACAACACCTCCGCGGGAACGCCCGTATCAGGATGGCGTACCCTCGGGACTTACAGG'\n",
    "min_skew(dna)"
   ]
  },
  {
   "cell_type": "code",
   "execution_count": 27,
   "metadata": {
    "collapsed": false
   },
   "outputs": [
    {
     "name": "stdout",
     "output_type": "stream",
     "text": [
      "[array([0, 5, 7])]\n"
     ]
    }
   ],
   "source": [
    "a = np.array([1,2,3,4,5,1,6,1]) \n",
    "print np.where(a == a.min())"
   ]
  },
  {
   "cell_type": "markdown",
   "metadata": {
    "collapsed": true
   },
   "source": [
    "We say that position i in k-mers p1 … pk and q1 … qk is a mismatch if pi ≠ qi. For example, CGAAT and CGGAC have two mismatches. The number of mismatches between strings p and q is called the Hamming distance between these strings and is denoted HammingDistance(p, q).\n",
    "\n",
    "Hamming Distance Problem: Compute the Hamming distance between two strings.\n",
    "     Input: Two strings of equal length.\n",
    "     Output: The Hamming distance between these strings."
   ]
  },
  {
   "cell_type": "code",
   "execution_count": 162,
   "metadata": {
    "collapsed": false
   },
   "outputs": [],
   "source": [
    "def hammingDistance(x,y):\n",
    "    nmm = 0\n",
    "    for i in xrange(len(x)):\n",
    "        if x[i] != y[i]:\n",
    "            nmm += 1\n",
    "    return nmm"
   ]
  },
  {
   "cell_type": "code",
   "execution_count": 53,
   "metadata": {
    "collapsed": false
   },
   "outputs": [
    {
     "data": {
      "text/plain": [
       "794"
      ]
     },
     "execution_count": 53,
     "metadata": {},
     "output_type": "execute_result"
    }
   ],
   "source": [
    "p = 'TAAAGGCTAGGCGTATCGGACCGCACGAATTTAACGCGAGACTAGATTTCCCAATCGTCCGAATGAGGCGTTCTAATATGGAAGCTTTCAGACACCGAATCTCCGTTGTGGCATCCGTGTCATAGTGTTGCTAGGACGAAACGCCAAAATGCTGCGTCGCATCGGTCTGCTGCACCACCGTTATGGCGACCGCCAACGCTGAAGTCTCGAAGGACCGGGTCTGAGACCGGCACCTAAGTGCGGCTGCCTTCAAGACTCCTGTCGACAGTCTGAGATCTTCCACGCGCGACGGTAAGAGTAGAACTTCTCAGTAACGTCGCCCCTATGACCGAACGCAACCTTCATAATTTCTCCTGGCGTCAAGCCATTTGATGCGCCCAATGTTAGCAACAACTTACTTGCGAAACAAATCCAGGGGTGATTTCCAGTTTCTTCAGGAATAGTGGGGTCGAAAAGTGGACCCCTCTAACGTGTCAAAGACGTCGAAAAGCAGTGACACACCATGCTCTCCGTGCGTTACGCTATCATGGCTCGTCGTCCTCAGTAGGGGGACTTAGTAGTCTGGACAGTAGGTAGGTTCACTATACGCTGCCAAAAAGATTCTACTGCAACGCCTAACTCTCATGTGACTATATGAGTGGGTCATTTGTATGTGTCAGCCAGCTGAGGCATATTCAGGTCGCTTGACAGTATGAAAAGACCCCGCGAGCTCTGCCATCGGCTAGGGATATCTTGGCACCGCTAATCGGATCTAACGTGGCGCATGAAGAAGACAGCTTCATCGTTCGGTAAGAATCCTTCCGCGGAGATGTGTAACACTACGGTTCGTAGGCGGTTACACATAGACTCTTTTCTTTCCGCTAGGGTGTGTAAGATGAACAACGCGGCCTATGTTAATATTAGGCGTCGAGCTCGCGCTAAAGGAACAATTTCTGATATGAAACGGGGGGAACCGGCTGTATTTCCGAATGCTCTGGCGAACGGCTACTCTGTAAGTAGACGCCGTTGCGTTTTGTAACATCCTCTATCAGCCAGTTGTCCTCCCTTATTGCAAACTACATAT'\n",
    "q = 'CCTTCGTATACTCTACGCTCTGAGACCACATACTAAACTCCCACTTCTCCAACGTGCTACAACGTTCACAAGCAGACAGTAAGGAAGCGACGCTCCAGTTACATAGAGAGACTACCAACGTTTAGTTCGCGTCTGGCCTACCACAATTCCGGGTTTCCTTGACCAGCATTAGGAAAGTTGCAGTGCTACTGGAAGTCAAACCAGGATTCCCTAGCGGGGGGGCTTCTCGTTTGTCCGATCGGTAAGATCAGCTGAACAACCAAGGACCAATTCACGTAGATGACTACAGAACTACAGATCGGCCTAGAGGGATGACGCCACCGACGGTACTTAGCGGCCACTAACTAAACCTCTAAGTACCAGTAACGGGTGTCGGTCGTATTTGTGTAAGCACTCTCGCGAAAACCTATGCCAAATCAATTGTGCCCTCAACTTGAATTAGTTCAGGGACTTTTCACGTGGGTATGGCCCATTCATGCCTCTGCTGTGCGGTTTTGCTGTGCGTGGGATCCCGCTGAACTATTCTTCGCGTGCGGTTCAACGCGGGCTTAGCCTCTCCGTTGGAGTTGTAAGGTCCTCTCAGGTCGCGTCATAGATTTAACCAGTGTTACCTAACGGGCGAGCGGGGATTTGGTGAAAATAAAAAAATGCGTGTAGGGTTGCAGAACGTTCGAGAGGTCGTGGTCGAGGCGGAAGTGAATACAGCTAAGCGGCAACGCTTGGTCTCAGACCCTAAGTGGGTTACCATGCCGGCGTACCAGTCTTGGCCGAACGAGGCATCGAGAATAAAACTCAATCTGTTTCGATGGACGTCCTGTCTGGGATAACATTGATCAGCCCTTACGAGGCTTTGCTCTCCTACACCTTACATTAATCCGCCATGGAGTGCTGAGACTGTGCAGCACGGGACGACTTCATCCCAGGTGGTCCTAACCAAACATGTTTCTATCGCGGTCTTTCTACTTAAGATTAGCAACCCCGCTATGCGTATCCGGTAAGATCGCAACGACAAATGTTGATAACAACGCACTGGCGTTTATAATAACTCTTTCAACCTTTCCGC'\n",
    "hammingDistance(p,q)"
   ]
  },
  {
   "cell_type": "markdown",
   "metadata": {},
   "source": [
    "We say that a k-mer Pattern appears as a substring of Text with at most d mismatches if there is some k-mer substring Pattern' of Text having d or fewer mismatches with Pattern, i.e., HammingDistance(Pattern, Pattern') ≤ d. Our observation that a DnaA box may appear with slight variations leads to the following generalization of the Pattern Matching Problem.\n",
    "\n",
    "Approximate Pattern Matching Problem: Find all approximate occurrences of a pattern in a string.\n",
    "     Input: Strings Pattern and Text along with an integer d.\n",
    "     Output: All starting positions where Pattern appears as a substring of Text with at most d mismatches."
   ]
  },
  {
   "cell_type": "code",
   "execution_count": 73,
   "metadata": {
    "collapsed": true
   },
   "outputs": [],
   "source": [
    "#Approximate matching\n",
    "def naiveHamming(p, t, maxDistance):\n",
    "    occurences = []\n",
    "    for i in xrange(len(t) - len(p) + 1): #loop through every position in t where p could start\n",
    "        nmm = 0\n",
    "        match = True\n",
    "        for j in xrange(len(p)): #Loop over characters\n",
    "            if t[i+j] != p[j]: #Compare characters\n",
    "                nmm += 1 #mismatch\n",
    "                if nmm > maxDistance: #exceed max hamming distance\n",
    "                    break\n",
    "        if nmm <= maxDistance:\n",
    "            occurences.append(i) #approximate match\n",
    "    return occurences  "
   ]
  },
  {
   "cell_type": "code",
   "execution_count": 83,
   "metadata": {
    "collapsed": false
   },
   "outputs": [
    {
     "data": {
      "text/plain": [
       "61"
      ]
     },
     "execution_count": 83,
     "metadata": {},
     "output_type": "execute_result"
    }
   ],
   "source": [
    "p = 'GTACTA'\n",
    "t = 'ACGGAGTAAGGACTATAGGTTGTATAATTACGACTAAAGACAGAGCCGTTTAGATCGCTCGGTTATTAATTTAGGTGGTTGGCGTCAGTTACATCGAATGCGTATCACCCCGGATAACTCCACTTTGATAAGGTTAAGAGTACTAATGTAACTCGCAGATCTTAATTTGTGGGACACTAGGACGCGCTCCTATATCGTCTGCTTCCTAAAACGTGGGTAACCCAAACTACCATGTTAAATTGTTATAGTCCAAATGTTGCACGTCCAGACGCTAGACGAGGTTTCAGATTTTCCGATTTCAGGCTCAGGAACACCATCAAGTGCCGGTCGATAGAGCAGGAT'\n",
    "len(naiveHamming(p, t, 3))"
   ]
  },
  {
   "cell_type": "markdown",
   "metadata": {},
   "source": [
    "### CS: Generating the neighborhood of a string"
   ]
  },
  {
   "cell_type": "markdown",
   "metadata": {},
   "source": [
    "Our goal is to generate the d-neighborhood Neighbors(Pattern, d), the set of all k-mers whose Hamming distance from Pattern does not exceed d. As a warm up, we will first generate the 1-neigborhood of Pattern using the following pseudocode."
   ]
  },
  {
   "cell_type": "code",
   "execution_count": 157,
   "metadata": {
    "collapsed": true
   },
   "outputs": [],
   "source": [
    "def immediateNeighbors(pattern):\n",
    "    nt = {'A':['C','G','T'], 'C':['A','G','T'], 'G':['A','C','T'], 'T':['A','C','G']}\n",
    "    neighboorhood = set()\n",
    "    for i in range(len(pattern)):\n",
    "        symbol  = pattern[i]\n",
    "        for x in nt[symbol]:\n",
    "            neighbor = pattern[:i] + x + pattern[i+1:]\n",
    "            neighboorhood.add(neighbor)\n",
    "    return neighboorhood     "
   ]
  },
  {
   "cell_type": "code",
   "execution_count": 158,
   "metadata": {
    "collapsed": false
   },
   "outputs": [
    {
     "data": {
      "text/plain": [
       "{'AAGA',\n",
       " 'ACAA',\n",
       " 'ACCA',\n",
       " 'ACGC',\n",
       " 'ACGG',\n",
       " 'ACGT',\n",
       " 'ACTA',\n",
       " 'AGGA',\n",
       " 'ATGA',\n",
       " 'CCGA',\n",
       " 'GCGA',\n",
       " 'TCGA'}"
      ]
     },
     "execution_count": 158,
     "metadata": {},
     "output_type": "execute_result"
    }
   ],
   "source": [
    "immediateNeighbors('ACGA')"
   ]
  },
  {
   "cell_type": "markdown",
   "metadata": {},
   "source": [
    "Our idea for generating Neighbors(Pattern, d) is as follows. If we remove the first symbol of Pattern (denoted FirstSymbol(Pattern)), then we will obtain a (k − 1)-mer that we denote by Suffix(Pattern).\n",
    "Now, consider a (k − 1)-mer Pattern’ belonging to Neighbors(Suffix(Pattern), d). By the definition of the d-neighborhood Neighbors(Suffix(Pattern), d), we know that HammingDistance(Pattern′, Suffix(Pattern)) is either equal to d or less than d. In the first case, we can add FirstSymbol(Pattern) to the beginning of Pattern’ in order to obtain a k-mer belonging to Neighbors(Pattern, d). In the second case, we can add any symbol to the beginning of Pattern’ and obtain a k-mer belonging to Neighbors(Pattern, d)."
   ]
  },
  {
   "cell_type": "code",
   "execution_count": 163,
   "metadata": {
    "collapsed": false
   },
   "outputs": [],
   "source": [
    "def neighbors(pattern, d):\n",
    "    '''Neighbors generates all k-mers of Hamming distance at most d from Pattern.'''\n",
    "    if d == 0:\n",
    "        return pattern\n",
    "    if len(pattern) == 1:\n",
    "        return {'A', 'C', 'G', 'T'}\n",
    "    neighborhood = set()\n",
    "    suffixneighbors = neighbors(pattern[1:], d)\n",
    "    for text in suffixneighbors:\n",
    "        if hammingDistance(text, pattern[1:]) < d:\n",
    "            for nt in ['A', 'C', 'G', 'T']:\n",
    "                neighborhood.add(nt + text)\n",
    "        else:\n",
    "            neighborhood.add(pattern[0] + text)\n",
    "    return neighborhood           "
   ]
  },
  {
   "cell_type": "code",
   "execution_count": 172,
   "metadata": {
    "collapsed": false
   },
   "outputs": [
    {
     "name": "stdout",
     "output_type": "stream",
     "text": [
      "set([ACC\n",
      "ATG\n",
      "AAG\n",
      "ACG\n",
      "GCG\n",
      "AGG\n",
      "ACA\n",
      "ACT\n",
      "TCG\n",
      "CCG])\n"
     ]
    }
   ],
   "source": [
    "pattern = 'ACG'\n",
    "d = 1\n",
    "result = neighbors(pattern, d)\n",
    "a = repr(result).replace(\",\", \"\")\n",
    "b = a.replace(\"\\'\",\"\")\n",
    "print b.replace(\" \", \"\\n\") "
   ]
  },
  {
   "cell_type": "markdown",
   "metadata": {},
   "source": [
    "1) What is the running time of Neighbors?\n",
    "2) Neighbors generates all k-mers of Hamming distance at most d from Pattern. Modify Neighbors to generate all k-mers of Hamming distance exactly d from Pattern."
   ]
  },
  {
   "cell_type": "code",
   "execution_count": 173,
   "metadata": {
    "collapsed": true
   },
   "outputs": [],
   "source": [
    "def neighbors_with_exact_d(pattern, d):\n",
    "    '''generate all k-mers of Hamming distance exactly d from Pattern.'''\n",
    "    nt = {'A':['C','G','T'], 'C':['A','G','T'], 'G':['A','C','T'], 'T':['A','C','G']}\n",
    "    if d == 0:\n",
    "        return pattern\n",
    "    if len(pattern) == 1:\n",
    "        return {'A', 'C', 'G', 'T'}\n",
    "    neighborhood = set()\n",
    "    suffixneighbors = neighbors(pattern[1:], d)\n",
    "    for text in suffixneighbors:\n",
    "        if hammingDistance(text, pattern[1:]) < d:\n",
    "            for x in nt[pattern[0]]:\n",
    "                neighborhood.add(x + text)\n",
    "        else:\n",
    "            neighborhood.add(pattern[0] + text)\n",
    "    return neighborhood           "
   ]
  },
  {
   "cell_type": "code",
   "execution_count": 174,
   "metadata": {
    "collapsed": false
   },
   "outputs": [
    {
     "data": {
      "text/plain": [
       "{'AAG', 'ACA', 'ACC', 'ACT', 'AGG', 'ATG', 'CCG', 'GCG', 'TCG'}"
      ]
     },
     "execution_count": 174,
     "metadata": {},
     "output_type": "execute_result"
    }
   ],
   "source": [
    "pattern = 'ACG'\n",
    "d = 1\n",
    "neighbors_with_exact_d(pattern, d)"
   ]
  },
  {
   "cell_type": "markdown",
   "metadata": {},
   "source": [
    "### CS: Solving the Frequent Words with Mismatches Problem"
   ]
  }
 ],
 "metadata": {
  "kernelspec": {
   "display_name": "Python 2",
   "language": "python",
   "name": "python2"
  },
  "language_info": {
   "codemirror_mode": {
    "name": "ipython",
    "version": 2
   },
   "file_extension": ".py",
   "mimetype": "text/x-python",
   "name": "python",
   "nbconvert_exporter": "python",
   "pygments_lexer": "ipython2",
   "version": "2.7.5"
  }
 },
 "nbformat": 4,
 "nbformat_minor": 0
}
