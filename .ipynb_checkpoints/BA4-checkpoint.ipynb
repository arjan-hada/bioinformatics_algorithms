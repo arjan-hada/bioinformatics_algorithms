{
 "cells": [
  {
   "cell_type": "markdown",
   "metadata": {},
   "source": [
    "## Protein Translation "
   ]
  },
  {
   "cell_type": "code",
   "execution_count": 67,
   "metadata": {
    "collapsed": false
   },
   "outputs": [
    {
     "name": "stdout",
     "output_type": "stream",
     "text": [
      "['AAA', 'AAC', 'AAG', 'AAU', 'ACA', 'ACC', 'ACG', 'ACU', 'AGA', 'AGC', 'AGG', 'AGU', 'AUA', 'AUC', 'AUG', 'AUU', 'CAA', 'CAC', 'CAG', 'CAU', 'CCA', 'CCC', 'CCG', 'CCU', 'CGA', 'CGC', 'CGG', 'CGU', 'CUA', 'CUC', 'CUG', 'CUU', 'GAA', 'GAC', 'GAG', 'GAU', 'GCA', 'GCC', 'GCG', 'GCU', 'GGA', 'GGC', 'GGG', 'GGU', 'GUA', 'GUC', 'GUG', 'GUU', 'UAA', 'UAC', 'UAG', 'UAU', 'UCA', 'UCC', 'UCG', 'UCU', 'UGA', 'UGC', 'UGG', 'UGU', 'UUA', 'UUC', 'UUG', 'UUU']\n"
     ]
    }
   ],
   "source": [
    "#List of all 64 codons with U\n",
    "import itertools\n",
    "rnacodons = [''.join(binary) for binary in itertools.product('ACGU', repeat = 3)]\n",
    "print rnacodons"
   ]
  },
  {
   "cell_type": "code",
   "execution_count": 68,
   "metadata": {
    "collapsed": false
   },
   "outputs": [
    {
     "name": "stdout",
     "output_type": "stream",
     "text": [
      "['AAA', 'AAC', 'AAG', 'AAT', 'ACA', 'ACC', 'ACG', 'ACT', 'AGA', 'AGC', 'AGG', 'AGT', 'ATA', 'ATC', 'ATG', 'ATT', 'CAA', 'CAC', 'CAG', 'CAT', 'CCA', 'CCC', 'CCG', 'CCT', 'CGA', 'CGC', 'CGG', 'CGT', 'CTA', 'CTC', 'CTG', 'CTT', 'GAA', 'GAC', 'GAG', 'GAT', 'GCA', 'GCC', 'GCG', 'GCT', 'GGA', 'GGC', 'GGG', 'GGT', 'GTA', 'GTC', 'GTG', 'GTT', 'TAA', 'TAC', 'TAG', 'TAT', 'TCA', 'TCC', 'TCG', 'TCT', 'TGA', 'TGC', 'TGG', 'TGT', 'TTA', 'TTC', 'TTG', 'TTT']\n"
     ]
    }
   ],
   "source": [
    "#List of all 64 codons with T\n",
    "import itertools\n",
    "dnacodons = [''.join(binary) for binary in itertools.product('ACGT', repeat = 3)]\n",
    "print dnacodons"
   ]
  },
  {
   "cell_type": "code",
   "execution_count": 60,
   "metadata": {
    "collapsed": false
   },
   "outputs": [],
   "source": [
    "aminoacids = ['K', 'N', 'K', 'N', 'T', 'T','T','T','R','S','R','S','I','I','M','I','Q','H','Q','H','P','P','P','P','R','R','R','R','L','L','L','L','E','D','E','D','A','A','A','A','G','G','G','G','V','V','V','V','*','Y','*','Y','S','S','S','S','*','C','W','C','L','F','L','F']"
   ]
  },
  {
   "cell_type": "code",
   "execution_count": 74,
   "metadata": {
    "collapsed": false
   },
   "outputs": [
    {
     "data": {
      "text/plain": [
       "{'AAA': 'K',\n",
       " 'AAC': 'N',\n",
       " 'AAG': 'K',\n",
       " 'AAU': 'N',\n",
       " 'ACA': 'T',\n",
       " 'ACC': 'T',\n",
       " 'ACG': 'T',\n",
       " 'ACU': 'T',\n",
       " 'AGA': 'R',\n",
       " 'AGC': 'S',\n",
       " 'AGG': 'R',\n",
       " 'AGU': 'S',\n",
       " 'AUA': 'I',\n",
       " 'AUC': 'I',\n",
       " 'AUG': 'M',\n",
       " 'AUU': 'I',\n",
       " 'CAA': 'Q',\n",
       " 'CAC': 'H',\n",
       " 'CAG': 'Q',\n",
       " 'CAU': 'H',\n",
       " 'CCA': 'P',\n",
       " 'CCC': 'P',\n",
       " 'CCG': 'P',\n",
       " 'CCU': 'P',\n",
       " 'CGA': 'R',\n",
       " 'CGC': 'R',\n",
       " 'CGG': 'R',\n",
       " 'CGU': 'R',\n",
       " 'CUA': 'L',\n",
       " 'CUC': 'L',\n",
       " 'CUG': 'L',\n",
       " 'CUU': 'L',\n",
       " 'GAA': 'E',\n",
       " 'GAC': 'D',\n",
       " 'GAG': 'E',\n",
       " 'GAU': 'D',\n",
       " 'GCA': 'A',\n",
       " 'GCC': 'A',\n",
       " 'GCG': 'A',\n",
       " 'GCU': 'A',\n",
       " 'GGA': 'G',\n",
       " 'GGC': 'G',\n",
       " 'GGG': 'G',\n",
       " 'GGU': 'G',\n",
       " 'GUA': 'V',\n",
       " 'GUC': 'V',\n",
       " 'GUG': 'V',\n",
       " 'GUU': 'V',\n",
       " 'UAA': '*',\n",
       " 'UAC': 'Y',\n",
       " 'UAG': '*',\n",
       " 'UAU': 'Y',\n",
       " 'UCA': 'S',\n",
       " 'UCC': 'S',\n",
       " 'UCG': 'S',\n",
       " 'UCU': 'S',\n",
       " 'UGA': '*',\n",
       " 'UGC': 'C',\n",
       " 'UGG': 'W',\n",
       " 'UGU': 'C',\n",
       " 'UUA': 'L',\n",
       " 'UUC': 'F',\n",
       " 'UUG': 'L',\n",
       " 'UUU': 'F'}"
      ]
     },
     "execution_count": 74,
     "metadata": {},
     "output_type": "execute_result"
    }
   ],
   "source": [
    "#Dictionary containing codons as keys and aminoacids as values\n",
    "rnaGeneticCode = dict(zip(rnacodons, aminoacids))\n",
    "rnaGeneticCode"
   ]
  },
  {
   "cell_type": "code",
   "execution_count": 78,
   "metadata": {
    "collapsed": false
   },
   "outputs": [
    {
     "data": {
      "text/plain": [
       "{'AAA': 'K',\n",
       " 'AAC': 'N',\n",
       " 'AAG': 'K',\n",
       " 'AAT': 'N',\n",
       " 'ACA': 'T',\n",
       " 'ACC': 'T',\n",
       " 'ACG': 'T',\n",
       " 'ACT': 'T',\n",
       " 'AGA': 'R',\n",
       " 'AGC': 'S',\n",
       " 'AGG': 'R',\n",
       " 'AGT': 'S',\n",
       " 'ATA': 'I',\n",
       " 'ATC': 'I',\n",
       " 'ATG': 'M',\n",
       " 'ATT': 'I',\n",
       " 'CAA': 'Q',\n",
       " 'CAC': 'H',\n",
       " 'CAG': 'Q',\n",
       " 'CAT': 'H',\n",
       " 'CCA': 'P',\n",
       " 'CCC': 'P',\n",
       " 'CCG': 'P',\n",
       " 'CCT': 'P',\n",
       " 'CGA': 'R',\n",
       " 'CGC': 'R',\n",
       " 'CGG': 'R',\n",
       " 'CGT': 'R',\n",
       " 'CTA': 'L',\n",
       " 'CTC': 'L',\n",
       " 'CTG': 'L',\n",
       " 'CTT': 'L',\n",
       " 'GAA': 'E',\n",
       " 'GAC': 'D',\n",
       " 'GAG': 'E',\n",
       " 'GAT': 'D',\n",
       " 'GCA': 'A',\n",
       " 'GCC': 'A',\n",
       " 'GCG': 'A',\n",
       " 'GCT': 'A',\n",
       " 'GGA': 'G',\n",
       " 'GGC': 'G',\n",
       " 'GGG': 'G',\n",
       " 'GGT': 'G',\n",
       " 'GTA': 'V',\n",
       " 'GTC': 'V',\n",
       " 'GTG': 'V',\n",
       " 'GTT': 'V',\n",
       " 'TAA': '*',\n",
       " 'TAC': 'Y',\n",
       " 'TAG': '*',\n",
       " 'TAT': 'Y',\n",
       " 'TCA': 'S',\n",
       " 'TCC': 'S',\n",
       " 'TCG': 'S',\n",
       " 'TCT': 'S',\n",
       " 'TGA': '*',\n",
       " 'TGC': 'C',\n",
       " 'TGG': 'W',\n",
       " 'TGT': 'C',\n",
       " 'TTA': 'L',\n",
       " 'TTC': 'F',\n",
       " 'TTG': 'L',\n",
       " 'TTT': 'F'}"
      ]
     },
     "execution_count": 78,
     "metadata": {},
     "output_type": "execute_result"
    }
   ],
   "source": [
    "#Dictionary containing dnacodons as keys and aminoacids as values\n",
    "dnaGeneticCode = dict(zip(dnacodons, aminoacids))\n",
    "dnaGeneticCode"
   ]
  },
  {
   "cell_type": "code",
   "execution_count": 63,
   "metadata": {
    "collapsed": true
   },
   "outputs": [],
   "source": [
    "def proteinTranslation(RNA, rnaGeneticCode):\n",
    "    \"\"\"Translate an RNA string into an amino acid string.\n",
    "     Input: An RNA string Pattern and the array GeneticCode.\n",
    "     Output: The translation of Pattern into an amino acid string Peptide.\"\"\"\n",
    "    peptide = ''\n",
    "    for i in range(0,len(RNA),3):\n",
    "        codon = RNA[i:i+3] #3 letter substring from RNA\n",
    "        aa = rnaGeneticCode[codon] #codon to aminoacid using the arrayGeneticCode dictionary\n",
    "        if aa == \"*\": #BREAK IF STOPCODON IS FOUND\n",
    "            break\n",
    "        peptide += aa\n",
    "    return peptide        "
   ]
  },
  {
   "cell_type": "code",
   "execution_count": 64,
   "metadata": {
    "collapsed": false
   },
   "outputs": [
    {
     "data": {
      "text/plain": [
       "'MAMAPRTEINSTRING'"
      ]
     },
     "execution_count": 64,
     "metadata": {},
     "output_type": "execute_result"
    }
   ],
   "source": [
    "RNA = 'AUGGCCAUGGCGCCCAGAACUGAGAUCAAUAGUACCCGUAUUAACGGGUGA'\n",
    "proteinTranslation(RNA, rnaGeneticCode)"
   ]
  },
  {
   "cell_type": "code",
   "execution_count": 21,
   "metadata": {
    "collapsed": false
   },
   "outputs": [
    {
     "ename": "NameError",
     "evalue": "name 'rnaGeneticCode' is not defined",
     "output_type": "error",
     "traceback": [
      "\u001b[0;31m---------------------------------------------------------------------------\u001b[0m",
      "\u001b[0;31mNameError\u001b[0m                                 Traceback (most recent call last)",
      "\u001b[0;32m<ipython-input-21-83850aa61342>\u001b[0m in \u001b[0;36m<module>\u001b[0;34m()\u001b[0m\n\u001b[1;32m      1\u001b[0m \u001b[0maminoacidToCodons\u001b[0m \u001b[0;34m=\u001b[0m \u001b[0;34m{\u001b[0m\u001b[0;34m}\u001b[0m\u001b[0;34m\u001b[0m\u001b[0m\n\u001b[0;32m----> 2\u001b[0;31m \u001b[0;32mfor\u001b[0m \u001b[0mk\u001b[0m\u001b[0;34m,\u001b[0m\u001b[0mv\u001b[0m \u001b[0;32min\u001b[0m \u001b[0mrnaGeneticCode\u001b[0m\u001b[0;34m.\u001b[0m\u001b[0miteritems\u001b[0m\u001b[0;34m(\u001b[0m\u001b[0;34m)\u001b[0m\u001b[0;34m:\u001b[0m\u001b[0;34m\u001b[0m\u001b[0m\n\u001b[0m\u001b[1;32m      3\u001b[0m     \u001b[0maminoacidToCodons\u001b[0m\u001b[0;34m.\u001b[0m\u001b[0msetdefault\u001b[0m\u001b[0;34m(\u001b[0m\u001b[0mv\u001b[0m\u001b[0;34m,\u001b[0m \u001b[0;34m[\u001b[0m\u001b[0;34m]\u001b[0m\u001b[0;34m)\u001b[0m\u001b[0;34m.\u001b[0m\u001b[0mappend\u001b[0m\u001b[0;34m(\u001b[0m\u001b[0mk\u001b[0m\u001b[0;34m)\u001b[0m\u001b[0;34m\u001b[0m\u001b[0m\n\u001b[1;32m      4\u001b[0m \u001b[0maminoacidToCodons\u001b[0m\u001b[0;34m\u001b[0m\u001b[0m\n",
      "\u001b[0;31mNameError\u001b[0m: name 'rnaGeneticCode' is not defined"
     ]
    }
   ],
   "source": [
    "aminoacidToCodons = {}\n",
    "for k,v in rnaGeneticCode.iteritems():\n",
    "    aminoacidToCodons.setdefault(v, []).append(k)\n",
    "aminoacidToCodons"
   ]
  },
  {
   "cell_type": "code",
   "execution_count": 79,
   "metadata": {
    "collapsed": false
   },
   "outputs": [
    {
     "data": {
      "text/plain": [
       "{'*': ['TAG', 'TAA', 'TGA'],\n",
       " 'A': ['GCA', 'GCC', 'GCG', 'GCT'],\n",
       " 'C': ['TGT', 'TGC'],\n",
       " 'D': ['GAT', 'GAC'],\n",
       " 'E': ['GAG', 'GAA'],\n",
       " 'F': ['TTT', 'TTC'],\n",
       " 'G': ['GGT', 'GGG', 'GGA', 'GGC'],\n",
       " 'H': ['CAT', 'CAC'],\n",
       " 'I': ['ATC', 'ATA', 'ATT'],\n",
       " 'K': ['AAG', 'AAA'],\n",
       " 'L': ['CTC', 'CTG', 'CTA', 'CTT', 'TTA', 'TTG'],\n",
       " 'M': ['ATG'],\n",
       " 'N': ['AAC', 'AAT'],\n",
       " 'P': ['CCT', 'CCA', 'CCG', 'CCC'],\n",
       " 'Q': ['CAA', 'CAG'],\n",
       " 'R': ['AGG', 'AGA', 'CGA', 'CGC', 'CGG', 'CGT'],\n",
       " 'S': ['AGC', 'AGT', 'TCG', 'TCA', 'TCC', 'TCT'],\n",
       " 'T': ['ACC', 'ACA', 'ACT', 'ACG'],\n",
       " 'V': ['GTA', 'GTC', 'GTG', 'GTT'],\n",
       " 'W': ['TGG'],\n",
       " 'Y': ['TAT', 'TAC']}"
      ]
     },
     "execution_count": 79,
     "metadata": {},
     "output_type": "execute_result"
    }
   ],
   "source": [
    "aminoacidToDNACodons = {}\n",
    "for k,v in dnaGeneticCode.iteritems():\n",
    "    aminoacidToDNACodons.setdefault(v, []).append(k)\n",
    "aminoacidToDNACodons"
   ]
  },
  {
   "cell_type": "code",
   "execution_count": 20,
   "metadata": {
    "collapsed": false
   },
   "outputs": [
    {
     "ename": "NameError",
     "evalue": "name 'aminoacidToCodons' is not defined",
     "output_type": "error",
     "traceback": [
      "\u001b[0;31m---------------------------------------------------------------------------\u001b[0m",
      "\u001b[0;31mNameError\u001b[0m                                 Traceback (most recent call last)",
      "\u001b[0;32m<ipython-input-20-a73ee8c37aa9>\u001b[0m in \u001b[0;36m<module>\u001b[0;34m()\u001b[0m\n\u001b[1;32m      5\u001b[0m \u001b[0mn\u001b[0m \u001b[0;34m=\u001b[0m \u001b[0;36m1\u001b[0m\u001b[0;34m\u001b[0m\u001b[0m\n\u001b[1;32m      6\u001b[0m \u001b[0;32mfor\u001b[0m \u001b[0mi\u001b[0m \u001b[0;32min\u001b[0m \u001b[0mrange\u001b[0m\u001b[0;34m(\u001b[0m\u001b[0mlen\u001b[0m\u001b[0;34m(\u001b[0m\u001b[0mpeptide\u001b[0m\u001b[0;34m)\u001b[0m\u001b[0;34m)\u001b[0m\u001b[0;34m:\u001b[0m\u001b[0;34m\u001b[0m\u001b[0m\n\u001b[0;32m----> 7\u001b[0;31m     \u001b[0mn\u001b[0m\u001b[0;34m*=\u001b[0m\u001b[0mlen\u001b[0m\u001b[0;34m(\u001b[0m\u001b[0maminoacidToCodons\u001b[0m\u001b[0;34m[\u001b[0m\u001b[0mpeptide\u001b[0m\u001b[0;34m[\u001b[0m\u001b[0mi\u001b[0m\u001b[0;34m]\u001b[0m\u001b[0;34m]\u001b[0m\u001b[0;34m)\u001b[0m\u001b[0;34m\u001b[0m\u001b[0m\n\u001b[0m\u001b[1;32m      8\u001b[0m \u001b[0;32mprint\u001b[0m \u001b[0mn\u001b[0m\u001b[0;34m\u001b[0m\u001b[0m\n",
      "\u001b[0;31mNameError\u001b[0m: name 'aminoacidToCodons' is not defined"
     ]
    }
   ],
   "source": [
    "#EXERCISE BREAK: How many DNA strings of length 30 transcribe and translate into Tyrocidine B1?\n",
    "#Val-Lys-Leu-Phe-Pro-Trp-Phe-Asn-Gln-Tyr\n",
    "#peptide = 'VKLFPWFNQY'\n",
    "peptide = 'LWK'\n",
    "n = 1\n",
    "for i in range(len(peptide)):\n",
    "    n*=len(aminoacidToCodons[peptide[i]])\n",
    "print n    "
   ]
  },
  {
   "cell_type": "markdown",
   "metadata": {},
   "source": [
    "## Peptide Encoding Problem"
   ]
  },
  {
   "cell_type": "markdown",
   "metadata": {},
   "source": [
    "#### Bruteforce algorithm"
   ]
  },
  {
   "cell_type": "code",
   "execution_count": 83,
   "metadata": {
    "collapsed": true
   },
   "outputs": [],
   "source": [
    "def reverseComplement(s):\n",
    "    complement = {'A': 'T', 'C': 'G', 'G': 'C', 'T': 'A', 'N':'N'}\n",
    "    t = ''\n",
    "    for base in s:\n",
    "        t = complement[base] + t\n",
    "    return t"
   ]
  },
  {
   "cell_type": "code",
   "execution_count": 90,
   "metadata": {
    "collapsed": false
   },
   "outputs": [],
   "source": [
    "#Brute force algorithm Developer version\n",
    "def peptideEncodingSubstring(dna, peptide, aminoacidToCodons):\n",
    "     \"\"\"Find substrings of a genome encoding a given amino acid sequence.\n",
    "     Input: A DNA string Text, an amino acid string Peptide, and the array GeneticCode.\n",
    "     Output: All substrings of Text encoding Peptide (if any such substrings exist).\"\"\"\n",
    "        \n",
    "     codons = []\n",
    "     for aa in peptide:\n",
    "         codons.append(aminoacidToDNACodons[aa]) #codons corresponding to each aminoacid\n",
    "     print 'codons', codons\n",
    "     codonCombinations = list(itertools.product(*codons)) #codon combinations corresponding to aminoacid in peptide sequence\n",
    "     print 'codonCombinations', codonCombinations\n",
    "     codingSeqs = [''.join(codons) for codons in codonCombinations] #coding sequences that can code for peptide\n",
    "     print 'codingSeq', codingSeqs\n",
    "     rC = [reverseComplement(i) for i in codingSeqs] #reverse complement of coding sequences to get pattern in reverse strand\n",
    "     print 'rC', rC\n",
    "     output = []\n",
    "     for i in range(len(dna) - 3*len(peptide) + 1):\n",
    "            substring = dna[i:i+3*len(peptide)]\n",
    "            if substring in codingSeqs  or substring in rC: #check if any substring of dna is in list of possible coding seqiences or it's complement\n",
    "                output.append(substring)\n",
    "     return output"
   ]
  },
  {
   "cell_type": "code",
   "execution_count": 91,
   "metadata": {
    "collapsed": false
   },
   "outputs": [
    {
     "name": "stdout",
     "output_type": "stream",
     "text": [
      "codons [['ATG'], ['GCA', 'GCC', 'GCG', 'GCT']]\n",
      "codonCombinations [('ATG', 'GCA'), ('ATG', 'GCC'), ('ATG', 'GCG'), ('ATG', 'GCT')]\n",
      "codingSeq ['ATGGCA', 'ATGGCC', 'ATGGCG', 'ATGGCT']\n",
      "rC ['TGCCAT', 'GGCCAT', 'CGCCAT', 'AGCCAT']\n"
     ]
    },
    {
     "data": {
      "text/plain": [
       "['ATGGCC', 'GGCCAT', 'ATGGCC']"
      ]
     },
     "execution_count": 91,
     "metadata": {},
     "output_type": "execute_result"
    }
   ],
   "source": [
    "dna = 'ATGGCCATGGCCCCCAGAACTGAGATCAATAGTACCCGTATTAACGGGTGA'\n",
    "peptide = 'MA'\n",
    "peptideEncodingSubstring(dna, peptide, aminoacidToCodons)"
   ]
  },
  {
   "cell_type": "code",
   "execution_count": 82,
   "metadata": {
    "collapsed": false
   },
   "outputs": [
    {
     "data": {
      "text/plain": [
       "['AUGGCA', 'AUGGCG', 'AUGGCC', 'AUGGCU']"
      ]
     },
     "execution_count": 82,
     "metadata": {},
     "output_type": "execute_result"
    }
   ],
   "source": [
    "dnastrings = [('AUG', 'GCA'), ('AUG', 'GCG'), ('AUG', 'GCC'), ('AUG', 'GCU')]\n",
    "[''.join(codons) for codons in dnastrings]"
   ]
  },
  {
   "cell_type": "code",
   "execution_count": 107,
   "metadata": {
    "collapsed": true
   },
   "outputs": [],
   "source": [
    "def peptideEncodingSubstring(dna, peptide, aminoacidToCodons):\n",
    "     \"\"\"Find substrings of a genome encoding a given amino acid sequence.\n",
    "     Input: A DNA string Text, an amino acid string Peptide, and the array GeneticCode.\n",
    "     Output: All substrings of Text encoding Peptide (if any such substrings exist).\"\"\"\n",
    "        \n",
    "     codons = []\n",
    "     for aa in peptide:\n",
    "         codons.append(aminoacidToDNACodons[aa]) #codons corresponding to each aminoacid\n",
    "     codonCombinations = list(itertools.product(*codons)) #codon combinations corresponding to aminoacid in peptide sequence\n",
    "     codingSeqs = [''.join(codons) for codons in codonCombinations] #coding sequences that can code for peptide\n",
    "     rC = [reverseComplement(i) for i in codingSeqs] #reverse complement of coding sequences to check for pattern in reverse strand\n",
    "     output = []\n",
    "     for i in range(len(dna) - 3*len(peptide) + 1):\n",
    "            substring = dna[i:i+3*len(peptide)]\n",
    "            if substring in codingSeqs  or substring in rC: #check if any substring of dna is in list of possible coding seqiences or it's complement\n",
    "                output.append(substring)\n",
    "     return output"
   ]
  },
  {
   "cell_type": "code",
   "execution_count": 108,
   "metadata": {
    "collapsed": false
   },
   "outputs": [
    {
     "data": {
      "text/plain": [
       "'GATAAAGGCTGTGATGGGGAACTGTGGAAA TTTCCACAGTTCACCGTCACACCCCTTGTC CTTCCATAGTTCACCGTCGCATCCCTTATC TTTCCAAAGTTCACCATCACAACCCTTGTC GATAAAGGCTGTGACGGGGAGCTCTGGAAG TTTCCAAAGTTCACCATCGCACCCTTTATC GACAAGGGATGTGACGGAGAGCTTTGGAAA CTTCCACAGCTCCCCATCACACCCTTTGTC GACAAAGGTTGCGACGGAGAGTTATGGAAA GATAAGGGGTGCGACGGGGAGCTATGGAAG GACAAGGGATGTGACGGAGAGCTCTGGAAA GACAAGGGGTGTGACGGAGAGCTTTGGAAA TTTCCATAGCTCCCCGTCGCACCCCTTGTC GACAAGGGGTGTGATGGGGAACTTTGGAAG GACAAAGGCTGTGATGGCGAGTTGTGGAAG TTTCCAAAGTTCTCCATCGCACCCCTTATC CTTCCATAACTCGCCATCGCAGCCCTTGTC GATAAAGGTTGCGATGGGGAGCTTTGGAAG'"
      ]
     },
     "execution_count": 108,
     "metadata": {},
     "output_type": "execute_result"
    }
   ],
   "source": [
    "dna = 'TCCGCATCTCGGCTAACCCTCAGACTATAATGGAGTCTAGAGACGCCGTGTTTATTTCTACCCTGGGAGCCACGAGCTGCGGAGCCGACAGCCGTCTGCGGGATGCAACAAGTGCCCGTCAGACCTACTATGTAACCGAGGAGGCGAACACTGCCTCAGCCCTGTAATTGTCGTTATTGAGCGACCGAGTCCGAACCGCTGCCGGGCGTAACGCTCCCGAGCGTGACCATACATGGAGCTTACAGGAAGGAATTAAAACAAACTTCATGTTCCTATTGCGATTCTCGGAGGATAATGATGGGAGATAAGGCTTACCCTGGACTCGACCCAATACGTGAATCTACTGCAGAACAGTTCTGGAGCGCTGAGCGATCAACAGCGTTCATTAGGATCAAGAAACGGTAAGGACCGGGAATATCATGCTACTTAAGGCTACGTTACCGCGTAAAAACGAGGTTTCAGCGATTCGTGAGCAACTCTCCTTGTCATTTTGTTCTACGCCCCCAGATATCGGGCCTGATGCTCATGCTACATATAACTAGACTTAATAGCTCGTCTTCAATCTAATCTTTGCCCGAAACACGTCTTTAGAACTTGTCAAGCATGCTCTCAGTAAAAACATTGTTGCCTTTTCTAGGCCTGATAAAGGCTGTGATGGGGAACTGTGGAAACGAGCCCGAAGGGGGCAAGACACCCGCTTATCAGGAGTCTTTCCACAGTTCACCGTCACACCCCTTGTCACGTCCCAATACTTTTATCTATGCACTTGAGCACTGATTTGCTATGAGCGTACTTAGGAGTTCACGATGTTTGTCACAAATGAGCCCTTCATTCGAGTAACCACTGACAAGGCCAGCGACTTCGTCGAATTTAGGTTTTTCCGAAAGTGTGATTATTTACGCCTCCTGCCCTTGCTACGCGGCACTCCCCTTAACACAGAACAATTGTCCACAGACCTAAAGCACAAAGTGGCACTTATTGATCCTATAGACCTTAGTGCATCGGCATTACGAAGAGAGGGTCAAAGATGGGATTCAATAAACGGAGTGTTATAAGCGACAGAGCACGCTAGTCCAACCGATTTCCCAACTCGGGGAGGTACTGAGGTCATCCCCCTTCCATAGTTCACCGTCGCATCCCTTATCCTCAAGATCCCGTGCGTATGCACCACTATACTAACCCATCTGCTCATTGGACTCGTTTCCAAAGTTCACCATCACAACCCTTGTCGAGTGAGGTTCTAGTCACTCACCGGTCGGTTTAGAAACGGGGTCCTTCAATTTTCAGTTTTCTAAGGCGGAGGGGGATCCGACATGACCTAGAGGAATCTTTCATGCCGCGCCGCCTAGGTCTTTGGGATCCCGTGTGTGTGCTGTCGGGGTGACAATTGGTTGCGGGAAAAATTTCCTTGTACCTAAGATCCAAGATGGCAGGATAGAGTGACATCCGGAATTCTTGGATGTGCAGGCCGGAATTCGATCACTCCGAGTTCAACGTGGTGAGGTTCAACAGCTATACTATTTAACTAATGCTGGGCGGTTCCGGTCCTAGTGTTTGGATCTAGCCGGACCGGAAGCCTACAACAGTGGGCAGCAATATTTGCGAATTCGCCAGATGATTGAACACTCGTCAAAATACAAGGAACGTAGCCATCTCTGCCCTATTAACTTTATTAAACTGCCGCAAAGGCTGACTCACTGACTGTGTTTTGACTTTGCACCCGTCTTTCTTCTTTCAGCGACTCGGGTCTACACGACTACGGTAGGCGCTATGCCTGGCTATCCAAATTCGATGTATGAAGGGCCCAAATATGTAGATGATACGTGGAGTTCTGATGGTATAGTCTCGTTGCACCAACGTCCTGGTCACCCACAGACGCTTGACGCAAAGAAAGCCAGTGCTTTCCGCGACAAAGGCGACAACTATTCGCAGAGAGAAGAATCAACACGATAGCGTGTTTGCCCAACGTAACGACGTATAACATTGGCTGGTGGATAATAAGGAGGGCGTTAAAGCCTGATAAAGGCTGTGACGGGGAGCTCTGGAAGTAGTAAAGTCACTGTCCTGTTACGGCGGAGTGACCGCCTGGGACTTCATCGACTCCGTGTGTCGATCTAGTGGAGGCTCCGATATAACGGATGCACCAGAGATCGGATGAAAATATCGCTCGCTACATCGGTCACTGTCGTATAAGTGACTTCTATAGCAGTGGTTTTTTCGCAGGGGGTGCCGTTGACTTAGCATCCTGAACGACGGCCTATATCCAGATTTCGTCATACCCTGAGGGCTGGGTTTTCCAAAGTTCACCATCGCACCCTTTATCCGTCACATCCCTTATCTGGGGACGGAATACTGGTCTAATGCCCTGAGGTTCTTCTTGGGCGGAACTCTGAGTACGGCTCATAGGAAGGTACGGCGTGACGATCCGCTGAAACGTGGAAAGGCTCTTCATGCAATAGGCGTCTGTACCGTCCTGCCGGCCGACACACGAGATAAGTATGTGCATCTCAAAGCCGGATCACTGACACTATCCGGGGACTTGCCTAGTACCCGACCAGACGTAGTGATCAGTGTGGCTCTTGTGGCATCAGGAACTTCAGCAACGTACCTAGAATCCGCACTTTTGACAGTATTCTGATCTTAGCCCCTGTTGCGGGACGTCAGGTGCCATGGAATAGTCCGAGTTTACTAATGCTCGCACATGTCCGCTCTCCTAGAAGCATTCTAGTAGTGACGCACGACTGCTGCGTCTAGGGTCTACTCCGGAATTCCGATTCGCAGCCAGCAATTACTGAGTCAATGGTACCTCTATACACCGGCTCGGCTCCCCCTTGTATAGTATTACGTTCCTAGAGTTTAGCACAAATCGGACTCAACCAACGATCATCAGCGCTTCCGCTATCGAACCTGAGCTAGAAGGCAGTGCATCCCAGCATACAGTGGCCTATGGTTTTGTAGCGTGTACCCAGACCGTTGCATTGCCAAGGCAGTTAGTGGAGCTTTTGTGTGTGCCAATCTGAATGTTCTGGTATCGACTTTACCCCGAGACGCTGTGGGACGCTTTGACGATAGAATTGTGACGCTCCTTCAAAACTCCGTTTCGCTCCGGCGCGTTGATAGGCCATGCGATTCCCCTCATAAATCGAAACTTGCACATGGGACTGATGCCCAAGCCTTTACCTATTCCATACTTCATGGTTCGAGTAGGGACCATAGACGTTTGGGGTAGATTAGAATAGATAGTAGAAAATTAAGATAAATGGTAGGGACTCATACTCATAGGGTCAGCATAAACTTCGACAATTCGGCCCGGCGAGGTCAGTATCGATTCTACTAATGCACCTGTTGCCTCCTATTACCACTCCTCTCGACTATGAAGGCCGTTCCCACGCCTCGGTAAAATTTTTTCGTCGCTACAAGAAAGCACCCCGTTTTGAGTCAGCAGCATGACACCCTAGAGACTTGGTCAGCCGATGTTAGACAAGGGATGTGACGGAGAGCTTTGGAAAGATCAGACGGACTTCCCTAGTATATTGTATATGCCCTAGGTCCCATTCGCTCACGGACCCAGGATTATCGCCCTGCTTATACGCCACGGTGACGACTCGCCATGTTCCATGGAGGTTAAAGCGGGTGGTCCGCGGATCCGTGGCGTGCACTTTAGATCTCATCACAACAATGCCAGGATCTCATGTTGCTTTATGGATGCCAATCTCAGGGATTCTGGAATGGAGCTTTGAGCATCTCTCAAAGGTGCGGAGTCAGAAATCAGACCTTCCACAGCTCCCCATCACACCCTTTGTCAGTTTCAACCGGAATCGGCGCAGGATACTAGCGAGCCATTGAGGGTCTTTAAGGAACTGCCACATGTTTCCCAGGATCGGTTGAGGCATACCTCATGGCCACCCGAAAGGCATATCATCCGTTGTGTTTGCACCAGGGTGGCAGCTAGTAAGTATAAACCAGTCCCGTCCCTGCGCTTAGGAACGGTTACTTCTAGTGATAATTATCGAGATTATAGGGAGTTCTAGACAAAGGTTGCGACGGAGAGTTATGGAAATAAGATAAGGGGTGCGACGGGGAGCTATGGAAGCACTTCAATACGCGGTCCAGCTACCCAAGTAGTCGCTGTTTGCACCAGAAAGTTACTTAAGTCCACAACAGCCCGCCAACATCTCGCCCGTCGGGGACGCTCACGTTTCTGTGTCCTGCGCCCAATAACTAATTCCCTGAAAGGTCTTAGAAAGCTATTTAAGTAGAGAATTTTCGGCCAATCTTAGCGGCCACTTCAGGACGTTAGCCGTTGACTGGTTAGATACACGACATACAAAAACACTTACGAAGTGTATCTGTCGGGAAATCAGTGTGAAACCTAGCCGTGTGGTAACACGGCACGGAGCTGACAGCTTCTGGGAGTACCTGTTTCTTAATTAAATTAAAGGTCACGTTGTGCACTTAGGCTAGGGACGGGTATTAAGTAGCCATATCTTTAAGATGGCGTCCCTGCCGAAGCTAGTCTTATCCTCGCAATATCTAACGCCGACCTGGAGTAAGCCTCGCAGCAATTTGTGACCAAGTACTGTCCCGCTGAGATTAAGGGAAAAAATTGTACTTAGGCTCACGGCTCAACTCGCGGCATTGCCGCTCGCAACCCCGCTTTTTTGCATTCAGGCTTTATTGTGCTAAAATAGGAACTAGCCCGATGTCCTCCCGGAACTCTGGTCGCCGTGATTAGGGCCGGATTACTCCCGAGTGCCAAAGTTACTAAAGATAGAGAGAATTCCGCTGGTACTTCGATACATGCGATCGTCGTGTTGTTAGGAGGCCCAACTTGTCCAAGGTCGCTCTCGATGCCCGACGAAGACGATAGTGCAAACTACAATCTCCTGGCCGACTGCCTTTCGAATTTGCATTGTCATCAATACCACAGAGCACAGACAGCAACGGTGAAATCCACCGTAGCACGACCTACTTTATGCCGGACAAGGGATGTGACGGAGAGCTCTGGAAAGGGCTGGAGTCAAAAATTTACATGTACCATACGGTCGGGGATCCGCCTTTTCCCGTCCCTAGCGAATGTTTCTTTGCTACTTGCAGTGTCTCCTAGAATAGGGAGCCGGATACGCCTTTCAGTGATAATGTCGCGGCACCAGTGGTCAAGAGAGATAGCCGTAATGTGGTATCGACAAGGGGTGTGACGGAGAGCTTTGGAAACAACACACCTTGGAATGTCTTTTCCATAGCTCCCCGTCGCACCCCTTGTCGGACTTGGTTTAGGCCCCTGCCTTTCTTAAGTGTTTTAGTGTAGATTATTCGTGAGATACCACTTCAGTCACTAGAAAGCAGCCGGAGGGCCTGGGACCCTTTCTATACCAATCAGTTGCGCGATACGCCGAAGGGTGACGGCTGGAGAGCTTTTGGTAAAGATAATTATATGGTCGACCTTTTCCAATGTGGCGTGGCTGGGAGTCGGCCCTCGCGTTTCGTCAGGGTTTAATAGTGTAATCTAGTGGATTGGTTCGAGAGAAGGGAGTAAATAACCAGATATATAGGTAGGTCGCTGCGCTCGCCGAGATTCATTGGTTCCTGCACTCAGTTCTAACTCTTATTTCCACATATACCTCTAGGCTTGTTTCCAATCTGCTCGACCTTCCTGCTATATCCTGCTCGCTAGACATTCGACGACCGTATCAGCCAATAGCATCTTAATGAGTCTATCGATAGGTAGAGCCTCACTCGTGTACGGGGCCCTCGGTCACTTCCGTGTCCGAATCGTGAGACTATTCCAGTAAGACATGGCGTGGAGCCCGTGTTTAGTTAATTCGACCTTAGCCGTAAGTCGGGTTCATCAAGTTATGTAGCGGTAAGGTCGTGTCTCCTGAATACAGCGCTAAAGATCGCTAACACACCGTTTAGTACTAATTACAGTTACAACACTGGGGCTGCGCCCCCTCTCCCCTCGATTCGGGGACACGCTAGGCACTAGCAATCAGGCCGCGAGAAACAGGGGATCTACTGAAGTATCAGATATAATAGACTTGATCCTCTTTACCTGGTCATCGAGAACCATTGTGCAGTCCTAACCCCTGTCATAGAAGGGTAACCGGCCTATCCACCGAACTAGATTAAAGTTCGGAGAATTGAGTCCGCTCAGACGTCTCACTTGTGTTCCGTGGGGCAACGCTTTGCCACTTGCGTGCAGCGTAAACTGCGTCAGACGAGACAAATTCTAACCGTACTTCCGGAGTACGACCACGCACACAGGTTCGTCAGTGGGTCTCCCTGTAACTAGCAAAAGCATAGAGAAACTGCCACATCATAAATGTTTTCTGAACGTTGAAGGTCAAAGTCCATAGATACCTCCAAATGGAGCTTAAAAGAACGGAACCTGATTCAATTATGCACCCCGCTCATGATATCAAATATGTACCTGACCCCGTACTGAACACGGCCCGGCATCATTATTAGCGACGCGCGCGTCGAAGCTATCCTCTTGTATCTGAACGATGAAAACGAGATTGGTCTCCAAATATGTGTACTTTCGATTCATGAAAGAACCCATAACTTCAGGTATGGAGCTCGGCGGAGGAGCTTGGCGACGGGGGCTCTTTGCAATACAGGCATCAGGTAATTGTATCAGTCTATTCGAGGCCGGGAACTGCACGTCGCGCTTGATCGCGATATATTCCAGACAATGGAAGCCATGGTTGGCGCTACGCGCGAAGCCATCAGTGTAGCCTGCATCGCCGGAGGGACACCCGATCCATTGAGAGACAAGGGGTGTGATGGGGAACTTTGGAAGTCGGTGGATAGCTCGACTGCCGACACTGTTCGACTCTTAGCTTAGGCAACACAGCTGTCGAGGTAATTAAAATCTGTTCACCCATACGCCATCTCGACGTAACATTGTGAACAGGCTGTCATCTTAGTCAGGTACGTATAATCCCCGATCAGCAGATCGGTGAGTAAAAGTTCAGGTGCGTCGGCATAAGGGCGTGCATATCGATGTAGCGCGTGGCCGGCGGTTCCACCTGGCCCCTCCCCAGTGAGCATTTAACGAGTGCTCAATGCTTGGAGGATCGCCGTATGCGTTCAAAACGAAGTCTCTCCAGTGATTCGTCTCGCCAGAAGGACGAGGGGTCGTGAACTCGAGGGTGCGTATCCTGGGACCATTTGATACGCAGGATCTGCTCCATCTGTGGCTGAGTTGCGAATTCTGACTACCCCGATGATTTGCTCTTAAGCGGGATGGAGAAGCGTACTAGGTTACGCTCGAAACCTGGGGTGGAGAAGAATAGAGGACCTTCGAATGTTCGATTTAGCCCATTGCCGGAATACAATGCGGCAAGAGACGCACGTTAGAATCTCACGATAGGCTAGGGCGTAGAAAATACCCCTGGACCATTATAAGGGACTAAAGAAATCTTAATCTACAGTTTGCGCAAGGAGCTAGACCCCTAGACCTCACTTTTGATCCGTTGACATATAAGAAGCTGGGTCCATCACTTGCAAACCCTGTGAACGGTAGAGGTGCACATCATTTTTTTGTCAAGCTAACGAAACAGCACGGGTGCGCAAGTGATAATATATTGTTTCCGTGCGCGTGTGCCCAAGGGTGATAGGGACTCGTAGGCTGGACGCACGACTTCTGAATTGGCCAGTGAGTAGCCAACAGGTCACCAGTCTACTTCGCCTACGCCGTATGAGTCAAAGAATTCCAGTGATGTACGGGTGAATTTGCGAGACTCCAATACATGTTTGAGCCTGCTCGGATGATAATATATGCTATCTGCCCTCTATTGCACCGAACACAACAGCGGCGAGGTGACGACGTATCTTAACTCTTGACTATTGAGGGCTCACACTCCAGTTCCCAATAGGGAAGGTAACCATAACACTGGGCGTACCGCATAGAGAGGACAAAGGCTGTGATGGCGAGTTGTGGAAGTAGTGTTCATTCCGATAAGCGTTCTATTTATGAATGATGGTTGGGCGCGCGACGAGTTCATCATTAGGCACCACCATGCCAGGTGAACGCCTCAATAAAGCGCTACGTTGTAGGGCCTAAGTAATTTGCGCCATGCAAACTCGTGTCTAGGACAGCTAGATGTTGCAAAGTCCGCCGACTGACATTTAGAATACATTCCTTAAACAGGCGGTGCTCAGAGCCTAGTGACAAGAGCCGAGGCAATTAGTTAGACCACTCATGCCTTATCGGAATTTCGCATGGACAGAGGAGCACAACCCGCGAGACTTGGGCACACACTTCACTGACAGCCCAATATGTCCAAATGGGTTCTCAGAAAACAAGGATATTGACATACATCGTAGCATGCCTCTTCGCCTGGGAGACCAGTTACCAAGCCTCGTCATGGTCCCTCGTCTTAGGTAGCCCTGTACCCTGGGTATAGCGGGCTCGGGACTGGGTTTCTCTGTGGCAAATGATGGCATAGTCTCGTGGCTTCTGGATCTATTGGCTACGGGATACCTAATTCGCTATTCAGGCAAAGCAGAAGGCGGTCACCGACTTCAACCCATAGATATTACTTAGAGGGTTGCCCCCCGCAATAATTCCAGACTCCCAAATGAATTTCCAAAGTTCTCCATCGCACCCCTTATCGGAGACCTCTGCTTCAGTGTGTCTGGCGTAGGGCGTTACGCGAATTCAGTTGACTGCTTGAATCTTTCGTCTTCCACAGTTCTCCGTCACACTTCCATAACTCGCCATCGCAGCCCTTGTCCGTCGGGACACCGACACCGAGACCTCCGACAGTCACCCATCACAAGCCCTATTATCCTGTTATCTTATGGCTCCTAAGTGTGAGGAAGCCTAGCGCGCCGATCAAAATAAGCAATGGGGGATATAGGTGGGTTCTCATAGGCTAGGGTAAAGAATATCTACAGATTCGAGGCGTTAAATCAATCACAGGAGTTTGAAAAGGAGAGGTGGCGTAGGTCACTCGCGGGGTTATTTACACGTTTATAAGTAAGCCCTGCGGCTGTGGCCTCAGGGCTACTGCTTTTAGAATAAGATAAGAAGAAACTTATTATTTGACAAGAGTCGGTCGTTACCGTTATGCAGCTAACACAATTGAACAATAGATGGACTTGGTGAAGCCCTCCGCGGTTCCCACACTAGTCCTCAAACTGGCGAGCTTTTCGCGTAACGGCAAATATTGACAATCACATGAGGGGACACTCCGAGCCGAGCATCACTGCGCGGTCTTCACCAACACTGACCTAGCGTTACGGCGGACTCCCTGCATTCCTGACTGCTACTGGCCGAGACGTCAATACTGAACCTGGGGCTTAATCTCCGCCTACGACAGATTCTAGCCCGTCACCTCCAAAAACTGATCTCGAGAAAGCCTAGCTCTACTTACCTAACCGCAAGATTAGAACGTTGGAAGATTATCCTCAATCCGGTAAGGTGAGTTTTCCGGCACAGCACCACAGGATTAAGCGCACCTGACTAGAACCTTTAGTAGGCGGGCCGTAATTGGAAAACGCGGCCTATTTATACACGACCAAGCTTACATCTTGGCCGGGTCAGTATAATGATTTAAGGAAAGCGGAGACGGACGTTTTTGCCCGGGAGACCTTGCTAACGCGCCTAGTTTATGAATAGGCCTCATACCTGCTCTAGTTACTGAAGAAACCTAAAATTCGTCCGCCGTCAATTCCCATTGCAAATTAAGTTGCGAGGCGCGGAATAAGGATCAGAAACGTCTTCTGTCTGAAGGTTCGTCTTATCGATAAAGGTTGCGATGGGGAGCTTTGGAAGCGTAAGAAGC'\n",
    "peptide = 'DKGCDGELWK'\n",
    "x = peptideEncodingSubstring(dna, peptide, aminoacidToCodons)\n",
    "' '.join(str(i) for i in x)"
   ]
  },
  {
   "cell_type": "markdown",
   "metadata": {},
   "source": [
    "#### Substring Index and Bisection search"
   ]
  },
  {
   "cell_type": "code",
   "execution_count": 94,
   "metadata": {
    "collapsed": false
   },
   "outputs": [
    {
     "name": "stdout",
     "output_type": "stream",
     "text": [
      "1\n",
      "3\n",
      "4\n"
     ]
    }
   ],
   "source": [
    "#bisect.bisect_left(a,x): Leftmost offset where x can be inserted into a to maintain order\n",
    "a = [1,3,3,6,8,8,9,10]\n",
    "import bisect\n",
    "print bisect.bisect_left(a,2)\n",
    "print bisect.bisect_left(a,4)\n",
    "print bisect.bisect_left(a,8)"
   ]
  },
  {
   "cell_type": "code",
   "execution_count": 95,
   "metadata": {
    "collapsed": true
   },
   "outputs": [],
   "source": [
    "import sys"
   ]
  },
  {
   "cell_type": "code",
   "execution_count": 96,
   "metadata": {
    "collapsed": true
   },
   "outputs": [],
   "source": [
    "#Book index analogy\n",
    "class Index(object):\n",
    "    def __init__(self, t, k):\n",
    "        ''' Create index from all substrings of size 'length' '''\n",
    "        self.k = k  # k-mer length (k)\n",
    "        self.index = []\n",
    "        for i in range(len(t) - k + 1):  # for each k-mer\n",
    "            self.index.append((t[i:i+k], i))  # add (k-mer, offset) pair\n",
    "        self.index.sort()  # alphabetize by k-mer\n",
    "    \n",
    "    def query(self, p):\n",
    "        ''' Return index hits for first k-mer of P '''\n",
    "        kmer = p[:self.k]  # query with first k-mer\n",
    "        i = bisect.bisect_left(self.index, (kmer, -1))  # binary search\n",
    "        hits = []\n",
    "        while i < len(self.index):  # collect matching index entries\n",
    "            if self.index[i][0] != kmer:\n",
    "                break\n",
    "            hits.append(self.index[i][1])\n",
    "            i += 1\n",
    "        return hits"
   ]
  },
  {
   "cell_type": "code",
   "execution_count": 99,
   "metadata": {
    "collapsed": true
   },
   "outputs": [],
   "source": [
    "def queryIndex(p, t, index):\n",
    "    k = index.k\n",
    "    offsets = []\n",
    "    for i in index.query(p):\n",
    "        if p[k:] == t[i+k:i+len(p)]:  # verify that rest of P matches\n",
    "            offsets.append(p)\n",
    "    return offsets"
   ]
  },
  {
   "cell_type": "code",
   "execution_count": 100,
   "metadata": {
    "collapsed": false
   },
   "outputs": [
    {
     "name": "stdout",
     "output_type": "stream",
     "text": [
      "['GGTATTCGGGA', 'GGTATTCGGGA']\n"
     ]
    }
   ],
   "source": [
    "t = 'ACTTGGAGATCTTTGAGGCTAGGTATTCGGGATCGAAGCTCATTTCGGGGATCGATTACGATATGGTGGGTATTCGGGA'\n",
    "p = 'GGTATTCGGGA'\n",
    "index = Index(t, 4)\n",
    "print(queryIndex(p, t, index))"
   ]
  },
  {
   "cell_type": "code",
   "execution_count": 109,
   "metadata": {
    "collapsed": true
   },
   "outputs": [],
   "source": [
    "#Substring Index and Bisection search\n",
    "def peptideEncodingSeq(dna, index, peptide, aminoacidToCodons):\n",
    "     \"\"\"Find substrings of a genome encoding a given amino acid sequence.\n",
    "     Input: A DNA string Text, an amino acid string Peptide, and the array GeneticCode.\n",
    "     Output: All substrings of Text encoding Peptide (if any such substrings exist).\"\"\"\n",
    "        \n",
    "     codons = []\n",
    "     for aa in peptide:\n",
    "         codons.append(aminoacidToDNACodons[aa]) #codons corresponding to each aminoacid\n",
    "     codonCombinations = list(itertools.product(*codons)) #codon combinations corresponding to aminoacid in peptide sequence\n",
    "     codingSeqs = [''.join(codons) for codons in codonCombinations] #coding sequences that can code for peptide\n",
    "     rC = [reverseComplement(i) for i in codingSeqs] #reverse complement of coding sequences to check for pattern in reverse strand\n",
    "     patterns = codingSeqs + rC\n",
    "     output = []\n",
    "     for pattern in patterns:\n",
    "            output.extend(queryIndex(pattern, dna, index)) #Look for pattern in the index of dna and verify for complete match\n",
    "     return output"
   ]
  },
  {
   "cell_type": "code",
   "execution_count": 110,
   "metadata": {
    "collapsed": false
   },
   "outputs": [
    {
     "data": {
      "text/plain": [
       "['ATGGCC', 'ATGGCC', 'GGCCAT']"
      ]
     },
     "execution_count": 110,
     "metadata": {},
     "output_type": "execute_result"
    }
   ],
   "source": [
    "dna = 'ATGGCCATGGCCCCCAGAACTGAGATCAATAGTACCCGTATTAACGGGTGA'\n",
    "index = Index(dna, 5)\n",
    "peptide = 'MA'\n",
    "peptideEncodingSeq(dna, index, peptide, aminoacidToCodons)"
   ]
  },
  {
   "cell_type": "code",
   "execution_count": 111,
   "metadata": {
    "collapsed": false
   },
   "outputs": [
    {
     "data": {
      "text/plain": [
       "'GATAAAGGCTGTGATGGGGAACTGTGGAAA TTTCCACAGTTCACCGTCACACCCCTTGTC CTTCCATAGTTCACCGTCGCATCCCTTATC TTTCCAAAGTTCACCATCACAACCCTTGTC GATAAAGGCTGTGACGGGGAGCTCTGGAAG TTTCCAAAGTTCACCATCGCACCCTTTATC GACAAGGGATGTGACGGAGAGCTTTGGAAA CTTCCACAGCTCCCCATCACACCCTTTGTC GACAAAGGTTGCGACGGAGAGTTATGGAAA GATAAGGGGTGCGACGGGGAGCTATGGAAG GACAAGGGATGTGACGGAGAGCTCTGGAAA GACAAGGGGTGTGACGGAGAGCTTTGGAAA TTTCCATAGCTCCCCGTCGCACCCCTTGTC GACAAGGGGTGTGATGGGGAACTTTGGAAG GACAAAGGCTGTGATGGCGAGTTGTGGAAG TTTCCAAAGTTCTCCATCGCACCCCTTATC CTTCCATAACTCGCCATCGCAGCCCTTGTC GATAAAGGTTGCGATGGGGAGCTTTGGAAG'"
      ]
     },
     "execution_count": 111,
     "metadata": {},
     "output_type": "execute_result"
    }
   ],
   "source": [
    "dna = 'TCCGCATCTCGGCTAACCCTCAGACTATAATGGAGTCTAGAGACGCCGTGTTTATTTCTACCCTGGGAGCCACGAGCTGCGGAGCCGACAGCCGTCTGCGGGATGCAACAAGTGCCCGTCAGACCTACTATGTAACCGAGGAGGCGAACACTGCCTCAGCCCTGTAATTGTCGTTATTGAGCGACCGAGTCCGAACCGCTGCCGGGCGTAACGCTCCCGAGCGTGACCATACATGGAGCTTACAGGAAGGAATTAAAACAAACTTCATGTTCCTATTGCGATTCTCGGAGGATAATGATGGGAGATAAGGCTTACCCTGGACTCGACCCAATACGTGAATCTACTGCAGAACAGTTCTGGAGCGCTGAGCGATCAACAGCGTTCATTAGGATCAAGAAACGGTAAGGACCGGGAATATCATGCTACTTAAGGCTACGTTACCGCGTAAAAACGAGGTTTCAGCGATTCGTGAGCAACTCTCCTTGTCATTTTGTTCTACGCCCCCAGATATCGGGCCTGATGCTCATGCTACATATAACTAGACTTAATAGCTCGTCTTCAATCTAATCTTTGCCCGAAACACGTCTTTAGAACTTGTCAAGCATGCTCTCAGTAAAAACATTGTTGCCTTTTCTAGGCCTGATAAAGGCTGTGATGGGGAACTGTGGAAACGAGCCCGAAGGGGGCAAGACACCCGCTTATCAGGAGTCTTTCCACAGTTCACCGTCACACCCCTTGTCACGTCCCAATACTTTTATCTATGCACTTGAGCACTGATTTGCTATGAGCGTACTTAGGAGTTCACGATGTTTGTCACAAATGAGCCCTTCATTCGAGTAACCACTGACAAGGCCAGCGACTTCGTCGAATTTAGGTTTTTCCGAAAGTGTGATTATTTACGCCTCCTGCCCTTGCTACGCGGCACTCCCCTTAACACAGAACAATTGTCCACAGACCTAAAGCACAAAGTGGCACTTATTGATCCTATAGACCTTAGTGCATCGGCATTACGAAGAGAGGGTCAAAGATGGGATTCAATAAACGGAGTGTTATAAGCGACAGAGCACGCTAGTCCAACCGATTTCCCAACTCGGGGAGGTACTGAGGTCATCCCCCTTCCATAGTTCACCGTCGCATCCCTTATCCTCAAGATCCCGTGCGTATGCACCACTATACTAACCCATCTGCTCATTGGACTCGTTTCCAAAGTTCACCATCACAACCCTTGTCGAGTGAGGTTCTAGTCACTCACCGGTCGGTTTAGAAACGGGGTCCTTCAATTTTCAGTTTTCTAAGGCGGAGGGGGATCCGACATGACCTAGAGGAATCTTTCATGCCGCGCCGCCTAGGTCTTTGGGATCCCGTGTGTGTGCTGTCGGGGTGACAATTGGTTGCGGGAAAAATTTCCTTGTACCTAAGATCCAAGATGGCAGGATAGAGTGACATCCGGAATTCTTGGATGTGCAGGCCGGAATTCGATCACTCCGAGTTCAACGTGGTGAGGTTCAACAGCTATACTATTTAACTAATGCTGGGCGGTTCCGGTCCTAGTGTTTGGATCTAGCCGGACCGGAAGCCTACAACAGTGGGCAGCAATATTTGCGAATTCGCCAGATGATTGAACACTCGTCAAAATACAAGGAACGTAGCCATCTCTGCCCTATTAACTTTATTAAACTGCCGCAAAGGCTGACTCACTGACTGTGTTTTGACTTTGCACCCGTCTTTCTTCTTTCAGCGACTCGGGTCTACACGACTACGGTAGGCGCTATGCCTGGCTATCCAAATTCGATGTATGAAGGGCCCAAATATGTAGATGATACGTGGAGTTCTGATGGTATAGTCTCGTTGCACCAACGTCCTGGTCACCCACAGACGCTTGACGCAAAGAAAGCCAGTGCTTTCCGCGACAAAGGCGACAACTATTCGCAGAGAGAAGAATCAACACGATAGCGTGTTTGCCCAACGTAACGACGTATAACATTGGCTGGTGGATAATAAGGAGGGCGTTAAAGCCTGATAAAGGCTGTGACGGGGAGCTCTGGAAGTAGTAAAGTCACTGTCCTGTTACGGCGGAGTGACCGCCTGGGACTTCATCGACTCCGTGTGTCGATCTAGTGGAGGCTCCGATATAACGGATGCACCAGAGATCGGATGAAAATATCGCTCGCTACATCGGTCACTGTCGTATAAGTGACTTCTATAGCAGTGGTTTTTTCGCAGGGGGTGCCGTTGACTTAGCATCCTGAACGACGGCCTATATCCAGATTTCGTCATACCCTGAGGGCTGGGTTTTCCAAAGTTCACCATCGCACCCTTTATCCGTCACATCCCTTATCTGGGGACGGAATACTGGTCTAATGCCCTGAGGTTCTTCTTGGGCGGAACTCTGAGTACGGCTCATAGGAAGGTACGGCGTGACGATCCGCTGAAACGTGGAAAGGCTCTTCATGCAATAGGCGTCTGTACCGTCCTGCCGGCCGACACACGAGATAAGTATGTGCATCTCAAAGCCGGATCACTGACACTATCCGGGGACTTGCCTAGTACCCGACCAGACGTAGTGATCAGTGTGGCTCTTGTGGCATCAGGAACTTCAGCAACGTACCTAGAATCCGCACTTTTGACAGTATTCTGATCTTAGCCCCTGTTGCGGGACGTCAGGTGCCATGGAATAGTCCGAGTTTACTAATGCTCGCACATGTCCGCTCTCCTAGAAGCATTCTAGTAGTGACGCACGACTGCTGCGTCTAGGGTCTACTCCGGAATTCCGATTCGCAGCCAGCAATTACTGAGTCAATGGTACCTCTATACACCGGCTCGGCTCCCCCTTGTATAGTATTACGTTCCTAGAGTTTAGCACAAATCGGACTCAACCAACGATCATCAGCGCTTCCGCTATCGAACCTGAGCTAGAAGGCAGTGCATCCCAGCATACAGTGGCCTATGGTTTTGTAGCGTGTACCCAGACCGTTGCATTGCCAAGGCAGTTAGTGGAGCTTTTGTGTGTGCCAATCTGAATGTTCTGGTATCGACTTTACCCCGAGACGCTGTGGGACGCTTTGACGATAGAATTGTGACGCTCCTTCAAAACTCCGTTTCGCTCCGGCGCGTTGATAGGCCATGCGATTCCCCTCATAAATCGAAACTTGCACATGGGACTGATGCCCAAGCCTTTACCTATTCCATACTTCATGGTTCGAGTAGGGACCATAGACGTTTGGGGTAGATTAGAATAGATAGTAGAAAATTAAGATAAATGGTAGGGACTCATACTCATAGGGTCAGCATAAACTTCGACAATTCGGCCCGGCGAGGTCAGTATCGATTCTACTAATGCACCTGTTGCCTCCTATTACCACTCCTCTCGACTATGAAGGCCGTTCCCACGCCTCGGTAAAATTTTTTCGTCGCTACAAGAAAGCACCCCGTTTTGAGTCAGCAGCATGACACCCTAGAGACTTGGTCAGCCGATGTTAGACAAGGGATGTGACGGAGAGCTTTGGAAAGATCAGACGGACTTCCCTAGTATATTGTATATGCCCTAGGTCCCATTCGCTCACGGACCCAGGATTATCGCCCTGCTTATACGCCACGGTGACGACTCGCCATGTTCCATGGAGGTTAAAGCGGGTGGTCCGCGGATCCGTGGCGTGCACTTTAGATCTCATCACAACAATGCCAGGATCTCATGTTGCTTTATGGATGCCAATCTCAGGGATTCTGGAATGGAGCTTTGAGCATCTCTCAAAGGTGCGGAGTCAGAAATCAGACCTTCCACAGCTCCCCATCACACCCTTTGTCAGTTTCAACCGGAATCGGCGCAGGATACTAGCGAGCCATTGAGGGTCTTTAAGGAACTGCCACATGTTTCCCAGGATCGGTTGAGGCATACCTCATGGCCACCCGAAAGGCATATCATCCGTTGTGTTTGCACCAGGGTGGCAGCTAGTAAGTATAAACCAGTCCCGTCCCTGCGCTTAGGAACGGTTACTTCTAGTGATAATTATCGAGATTATAGGGAGTTCTAGACAAAGGTTGCGACGGAGAGTTATGGAAATAAGATAAGGGGTGCGACGGGGAGCTATGGAAGCACTTCAATACGCGGTCCAGCTACCCAAGTAGTCGCTGTTTGCACCAGAAAGTTACTTAAGTCCACAACAGCCCGCCAACATCTCGCCCGTCGGGGACGCTCACGTTTCTGTGTCCTGCGCCCAATAACTAATTCCCTGAAAGGTCTTAGAAAGCTATTTAAGTAGAGAATTTTCGGCCAATCTTAGCGGCCACTTCAGGACGTTAGCCGTTGACTGGTTAGATACACGACATACAAAAACACTTACGAAGTGTATCTGTCGGGAAATCAGTGTGAAACCTAGCCGTGTGGTAACACGGCACGGAGCTGACAGCTTCTGGGAGTACCTGTTTCTTAATTAAATTAAAGGTCACGTTGTGCACTTAGGCTAGGGACGGGTATTAAGTAGCCATATCTTTAAGATGGCGTCCCTGCCGAAGCTAGTCTTATCCTCGCAATATCTAACGCCGACCTGGAGTAAGCCTCGCAGCAATTTGTGACCAAGTACTGTCCCGCTGAGATTAAGGGAAAAAATTGTACTTAGGCTCACGGCTCAACTCGCGGCATTGCCGCTCGCAACCCCGCTTTTTTGCATTCAGGCTTTATTGTGCTAAAATAGGAACTAGCCCGATGTCCTCCCGGAACTCTGGTCGCCGTGATTAGGGCCGGATTACTCCCGAGTGCCAAAGTTACTAAAGATAGAGAGAATTCCGCTGGTACTTCGATACATGCGATCGTCGTGTTGTTAGGAGGCCCAACTTGTCCAAGGTCGCTCTCGATGCCCGACGAAGACGATAGTGCAAACTACAATCTCCTGGCCGACTGCCTTTCGAATTTGCATTGTCATCAATACCACAGAGCACAGACAGCAACGGTGAAATCCACCGTAGCACGACCTACTTTATGCCGGACAAGGGATGTGACGGAGAGCTCTGGAAAGGGCTGGAGTCAAAAATTTACATGTACCATACGGTCGGGGATCCGCCTTTTCCCGTCCCTAGCGAATGTTTCTTTGCTACTTGCAGTGTCTCCTAGAATAGGGAGCCGGATACGCCTTTCAGTGATAATGTCGCGGCACCAGTGGTCAAGAGAGATAGCCGTAATGTGGTATCGACAAGGGGTGTGACGGAGAGCTTTGGAAACAACACACCTTGGAATGTCTTTTCCATAGCTCCCCGTCGCACCCCTTGTCGGACTTGGTTTAGGCCCCTGCCTTTCTTAAGTGTTTTAGTGTAGATTATTCGTGAGATACCACTTCAGTCACTAGAAAGCAGCCGGAGGGCCTGGGACCCTTTCTATACCAATCAGTTGCGCGATACGCCGAAGGGTGACGGCTGGAGAGCTTTTGGTAAAGATAATTATATGGTCGACCTTTTCCAATGTGGCGTGGCTGGGAGTCGGCCCTCGCGTTTCGTCAGGGTTTAATAGTGTAATCTAGTGGATTGGTTCGAGAGAAGGGAGTAAATAACCAGATATATAGGTAGGTCGCTGCGCTCGCCGAGATTCATTGGTTCCTGCACTCAGTTCTAACTCTTATTTCCACATATACCTCTAGGCTTGTTTCCAATCTGCTCGACCTTCCTGCTATATCCTGCTCGCTAGACATTCGACGACCGTATCAGCCAATAGCATCTTAATGAGTCTATCGATAGGTAGAGCCTCACTCGTGTACGGGGCCCTCGGTCACTTCCGTGTCCGAATCGTGAGACTATTCCAGTAAGACATGGCGTGGAGCCCGTGTTTAGTTAATTCGACCTTAGCCGTAAGTCGGGTTCATCAAGTTATGTAGCGGTAAGGTCGTGTCTCCTGAATACAGCGCTAAAGATCGCTAACACACCGTTTAGTACTAATTACAGTTACAACACTGGGGCTGCGCCCCCTCTCCCCTCGATTCGGGGACACGCTAGGCACTAGCAATCAGGCCGCGAGAAACAGGGGATCTACTGAAGTATCAGATATAATAGACTTGATCCTCTTTACCTGGTCATCGAGAACCATTGTGCAGTCCTAACCCCTGTCATAGAAGGGTAACCGGCCTATCCACCGAACTAGATTAAAGTTCGGAGAATTGAGTCCGCTCAGACGTCTCACTTGTGTTCCGTGGGGCAACGCTTTGCCACTTGCGTGCAGCGTAAACTGCGTCAGACGAGACAAATTCTAACCGTACTTCCGGAGTACGACCACGCACACAGGTTCGTCAGTGGGTCTCCCTGTAACTAGCAAAAGCATAGAGAAACTGCCACATCATAAATGTTTTCTGAACGTTGAAGGTCAAAGTCCATAGATACCTCCAAATGGAGCTTAAAAGAACGGAACCTGATTCAATTATGCACCCCGCTCATGATATCAAATATGTACCTGACCCCGTACTGAACACGGCCCGGCATCATTATTAGCGACGCGCGCGTCGAAGCTATCCTCTTGTATCTGAACGATGAAAACGAGATTGGTCTCCAAATATGTGTACTTTCGATTCATGAAAGAACCCATAACTTCAGGTATGGAGCTCGGCGGAGGAGCTTGGCGACGGGGGCTCTTTGCAATACAGGCATCAGGTAATTGTATCAGTCTATTCGAGGCCGGGAACTGCACGTCGCGCTTGATCGCGATATATTCCAGACAATGGAAGCCATGGTTGGCGCTACGCGCGAAGCCATCAGTGTAGCCTGCATCGCCGGAGGGACACCCGATCCATTGAGAGACAAGGGGTGTGATGGGGAACTTTGGAAGTCGGTGGATAGCTCGACTGCCGACACTGTTCGACTCTTAGCTTAGGCAACACAGCTGTCGAGGTAATTAAAATCTGTTCACCCATACGCCATCTCGACGTAACATTGTGAACAGGCTGTCATCTTAGTCAGGTACGTATAATCCCCGATCAGCAGATCGGTGAGTAAAAGTTCAGGTGCGTCGGCATAAGGGCGTGCATATCGATGTAGCGCGTGGCCGGCGGTTCCACCTGGCCCCTCCCCAGTGAGCATTTAACGAGTGCTCAATGCTTGGAGGATCGCCGTATGCGTTCAAAACGAAGTCTCTCCAGTGATTCGTCTCGCCAGAAGGACGAGGGGTCGTGAACTCGAGGGTGCGTATCCTGGGACCATTTGATACGCAGGATCTGCTCCATCTGTGGCTGAGTTGCGAATTCTGACTACCCCGATGATTTGCTCTTAAGCGGGATGGAGAAGCGTACTAGGTTACGCTCGAAACCTGGGGTGGAGAAGAATAGAGGACCTTCGAATGTTCGATTTAGCCCATTGCCGGAATACAATGCGGCAAGAGACGCACGTTAGAATCTCACGATAGGCTAGGGCGTAGAAAATACCCCTGGACCATTATAAGGGACTAAAGAAATCTTAATCTACAGTTTGCGCAAGGAGCTAGACCCCTAGACCTCACTTTTGATCCGTTGACATATAAGAAGCTGGGTCCATCACTTGCAAACCCTGTGAACGGTAGAGGTGCACATCATTTTTTTGTCAAGCTAACGAAACAGCACGGGTGCGCAAGTGATAATATATTGTTTCCGTGCGCGTGTGCCCAAGGGTGATAGGGACTCGTAGGCTGGACGCACGACTTCTGAATTGGCCAGTGAGTAGCCAACAGGTCACCAGTCTACTTCGCCTACGCCGTATGAGTCAAAGAATTCCAGTGATGTACGGGTGAATTTGCGAGACTCCAATACATGTTTGAGCCTGCTCGGATGATAATATATGCTATCTGCCCTCTATTGCACCGAACACAACAGCGGCGAGGTGACGACGTATCTTAACTCTTGACTATTGAGGGCTCACACTCCAGTTCCCAATAGGGAAGGTAACCATAACACTGGGCGTACCGCATAGAGAGGACAAAGGCTGTGATGGCGAGTTGTGGAAGTAGTGTTCATTCCGATAAGCGTTCTATTTATGAATGATGGTTGGGCGCGCGACGAGTTCATCATTAGGCACCACCATGCCAGGTGAACGCCTCAATAAAGCGCTACGTTGTAGGGCCTAAGTAATTTGCGCCATGCAAACTCGTGTCTAGGACAGCTAGATGTTGCAAAGTCCGCCGACTGACATTTAGAATACATTCCTTAAACAGGCGGTGCTCAGAGCCTAGTGACAAGAGCCGAGGCAATTAGTTAGACCACTCATGCCTTATCGGAATTTCGCATGGACAGAGGAGCACAACCCGCGAGACTTGGGCACACACTTCACTGACAGCCCAATATGTCCAAATGGGTTCTCAGAAAACAAGGATATTGACATACATCGTAGCATGCCTCTTCGCCTGGGAGACCAGTTACCAAGCCTCGTCATGGTCCCTCGTCTTAGGTAGCCCTGTACCCTGGGTATAGCGGGCTCGGGACTGGGTTTCTCTGTGGCAAATGATGGCATAGTCTCGTGGCTTCTGGATCTATTGGCTACGGGATACCTAATTCGCTATTCAGGCAAAGCAGAAGGCGGTCACCGACTTCAACCCATAGATATTACTTAGAGGGTTGCCCCCCGCAATAATTCCAGACTCCCAAATGAATTTCCAAAGTTCTCCATCGCACCCCTTATCGGAGACCTCTGCTTCAGTGTGTCTGGCGTAGGGCGTTACGCGAATTCAGTTGACTGCTTGAATCTTTCGTCTTCCACAGTTCTCCGTCACACTTCCATAACTCGCCATCGCAGCCCTTGTCCGTCGGGACACCGACACCGAGACCTCCGACAGTCACCCATCACAAGCCCTATTATCCTGTTATCTTATGGCTCCTAAGTGTGAGGAAGCCTAGCGCGCCGATCAAAATAAGCAATGGGGGATATAGGTGGGTTCTCATAGGCTAGGGTAAAGAATATCTACAGATTCGAGGCGTTAAATCAATCACAGGAGTTTGAAAAGGAGAGGTGGCGTAGGTCACTCGCGGGGTTATTTACACGTTTATAAGTAAGCCCTGCGGCTGTGGCCTCAGGGCTACTGCTTTTAGAATAAGATAAGAAGAAACTTATTATTTGACAAGAGTCGGTCGTTACCGTTATGCAGCTAACACAATTGAACAATAGATGGACTTGGTGAAGCCCTCCGCGGTTCCCACACTAGTCCTCAAACTGGCGAGCTTTTCGCGTAACGGCAAATATTGACAATCACATGAGGGGACACTCCGAGCCGAGCATCACTGCGCGGTCTTCACCAACACTGACCTAGCGTTACGGCGGACTCCCTGCATTCCTGACTGCTACTGGCCGAGACGTCAATACTGAACCTGGGGCTTAATCTCCGCCTACGACAGATTCTAGCCCGTCACCTCCAAAAACTGATCTCGAGAAAGCCTAGCTCTACTTACCTAACCGCAAGATTAGAACGTTGGAAGATTATCCTCAATCCGGTAAGGTGAGTTTTCCGGCACAGCACCACAGGATTAAGCGCACCTGACTAGAACCTTTAGTAGGCGGGCCGTAATTGGAAAACGCGGCCTATTTATACACGACCAAGCTTACATCTTGGCCGGGTCAGTATAATGATTTAAGGAAAGCGGAGACGGACGTTTTTGCCCGGGAGACCTTGCTAACGCGCCTAGTTTATGAATAGGCCTCATACCTGCTCTAGTTACTGAAGAAACCTAAAATTCGTCCGCCGTCAATTCCCATTGCAAATTAAGTTGCGAGGCGCGGAATAAGGATCAGAAACGTCTTCTGTCTGAAGGTTCGTCTTATCGATAAAGGTTGCGATGGGGAGCTTTGGAAGCGTAAGAAGC'\n",
    "peptide = 'DKGCDGELWK'\n",
    "index = Index(dna, 10)\n",
    "y = peptideEncodingSeq(dna, index, peptide, aminoacidToCodons)\n",
    "' '.join(str(i) for i in x)"
   ]
  },
  {
   "cell_type": "code",
   "execution_count": 112,
   "metadata": {
    "collapsed": false
   },
   "outputs": [
    {
     "data": {
      "text/plain": [
       "True"
      ]
     },
     "execution_count": 112,
     "metadata": {},
     "output_type": "execute_result"
    }
   ],
   "source": [
    "x.sort()\n",
    "y.sort()\n",
    "x == y"
   ]
  },
  {
   "cell_type": "markdown",
   "metadata": {},
   "source": [
    "## Linear and Cyclic Spectrum"
   ]
  },
  {
   "cell_type": "markdown",
   "metadata": {},
   "source": [
    "EXERCISE BREAK: How many subpeptides does a cyclic peptide of length n have?\n",
    "\n",
    "Sample Input:\n",
    "     31315\n",
    "\n",
    "Sample Output:\n",
    "     980597910\n",
    "\n",
    "Ans = n*(n-1)\n"
   ]
  },
  {
   "cell_type": "code",
   "execution_count": 1,
   "metadata": {
    "collapsed": true
   },
   "outputs": [],
   "source": [
    "aminoacidMass = {'G':57, 'A':71, 'S':87, 'P':97, 'V':99, 'T':101, 'C':103, 'I':113, 'L':113, 'N':114, 'D':115, 'K':128, 'Q':128, 'E':129, 'M':131, 'H':137, 'F':147, 'R':156, 'Y':163, 'W':186}\n",
    "aminoacid = ['G', 'A', 'S', 'P', 'V', 'T', 'C', 'I', 'L', 'N', 'D', 'K', 'Q', 'E', 'M', 'H', 'F', 'R', 'Y', 'W']"
   ]
  },
  {
   "cell_type": "code",
   "execution_count": 2,
   "metadata": {
    "collapsed": true
   },
   "outputs": [],
   "source": [
    "def linearSpectrum(peptide):\n",
    "    aminoacidMass = {'G':57, 'A':71, 'S':87, 'P':97, 'V':99, 'T':101, 'C':103, 'I':113, 'L':113, 'N':114, 'D':115, 'K':128, 'Q':128, 'E':129, 'M':131, 'H':137, 'F':147, 'R':156, 'Y':163, 'W':186}\n",
    "    prefixMass = [0]*((len(peptide)+1))\n",
    "    for i in range(len(peptide)):\n",
    "        prefixMass[i+1] = prefixMass[i] + aminoacidMass[peptide[i]]\n",
    "    #print 'prefixMass', prefixMass\n",
    "    linear_spectrum = [0]\n",
    "    for i in range(len(prefixMass)-1):\n",
    "        for j in range(i+1, len(prefixMass)):\n",
    "            linear_spectrum.append(prefixMass[j] - prefixMass[i])\n",
    "    return sorted(linear_spectrum)       "
   ]
  },
  {
   "cell_type": "code",
   "execution_count": 3,
   "metadata": {
    "collapsed": false
   },
   "outputs": [
    {
     "data": {
      "text/plain": [
       "[0, 113, 114, 128, 129, 242, 242, 257, 370, 371, 484]"
      ]
     },
     "execution_count": 3,
     "metadata": {},
     "output_type": "execute_result"
    }
   ],
   "source": [
    "peptide = 'NQEL'\n",
    "linearSpectrum(peptide)"
   ]
  },
  {
   "cell_type": "code",
   "execution_count": 4,
   "metadata": {
    "collapsed": false
   },
   "outputs": [
    {
     "data": {
      "text/plain": [
       "'0 113 114 128 129 242 242 257 370 371 484'"
      ]
     },
     "execution_count": 4,
     "metadata": {},
     "output_type": "execute_result"
    }
   ],
   "source": [
    "peptide = 'NQEL'\n",
    "x = linearSpectrum(peptide)\n",
    "' '.join(str(i) for i in x)"
   ]
  },
  {
   "cell_type": "code",
   "execution_count": 5,
   "metadata": {
    "collapsed": true
   },
   "outputs": [],
   "source": [
    "def cyclicSpectrum(peptide):\n",
    "    aminoacidMass = {'G':57, 'A':71, 'S':87, 'P':97, 'V':99, 'T':101, 'C':103, 'I':113, 'L':113, 'N':114, 'D':115, 'K':128, 'Q':128, 'E':129, 'M':131, 'H':137, 'F':147, 'R':156, 'Y':163, 'W':186}\n",
    "    prefixMass = [0]*((len(peptide)+1))\n",
    "    for i in range(len(peptide)):\n",
    "        prefixMass[i+1] = prefixMass[i] + aminoacidMass[peptide[i]]\n",
    "    peptideMass = prefixMass[len(peptide)]\n",
    "    cyclic_spectrum = [0]\n",
    "    for i in range(len(prefixMass)-1):\n",
    "        for j in range(i+1, len(prefixMass)):\n",
    "            cyclic_spectrum.append(prefixMass[j] - prefixMass[i])\n",
    "            if i > 0 and j < (len(prefixMass)-1):\n",
    "                cyclic_spectrum.append(peptideMass - (prefixMass[j] - prefixMass[i]))\n",
    "    return sorted(cyclic_spectrum)       "
   ]
  },
  {
   "cell_type": "code",
   "execution_count": 6,
   "metadata": {
    "collapsed": false
   },
   "outputs": [
    {
     "name": "stdout",
     "output_type": "stream",
     "text": [
      "[0, 113, 114, 128, 129, 227, 242, 242, 257, 355, 356, 370, 371, 484]\n"
     ]
    }
   ],
   "source": [
    "peptide = 'NQEL'\n",
    "print cyclicSpectrum(peptide)"
   ]
  },
  {
   "cell_type": "code",
   "execution_count": 7,
   "metadata": {
    "collapsed": false
   },
   "outputs": [
    {
     "data": {
      "text/plain": [
       "'0 57 57 97 99 113 113 113 115 131 131 137 137 154 154 186 188 194 211 228 228 236 244 250 250 262 285 285 291 299 307 319 341 342 348 349 359 375 387 398 404 414 416 422 432 444 461 472 473 479 486 490 513 527 529 535 535 541 543 547 586 592 598 603 610 626 640 644 648 650 658 660 672 697 701 723 723 729 729 757 757 763 763 785 789 814 826 828 836 838 842 846 860 876 883 888 894 900 939 943 945 951 951 957 959 973 996 1000 1007 1013 1014 1025 1042 1054 1064 1070 1072 1082 1088 1099 1111 1127 1137 1138 1144 1145 1167 1179 1187 1195 1201 1201 1224 1236 1236 1242 1250 1258 1258 1275 1292 1298 1300 1332 1332 1349 1349 1355 1355 1371 1373 1373 1373 1387 1389 1429 1429 1486'"
      ]
     },
     "execution_count": 7,
     "metadata": {},
     "output_type": "execute_result"
    }
   ],
   "source": [
    "peptide = 'HGPGMMIDIWVHI'\n",
    "x = cyclicSpectrum(peptide)\n",
    "' '.join(str(i) for i in x)"
   ]
  },
  {
   "cell_type": "code",
   "execution_count": 8,
   "metadata": {
    "collapsed": false
   },
   "outputs": [
    {
     "data": {
      "text/plain": [
       "234.793571496267"
      ]
     },
     "execution_count": 8,
     "metadata": {},
     "output_type": "execute_result"
    }
   ],
   "source": [
    "3454448837656.0/14712706211"
   ]
  },
  {
   "cell_type": "code",
   "execution_count": 9,
   "metadata": {
    "collapsed": false
   },
   "outputs": [
    {
     "data": {
      "text/plain": [
       "1.0201965070079133"
      ]
     },
     "execution_count": 9,
     "metadata": {},
     "output_type": "execute_result"
    }
   ],
   "source": [
    "(234.793571496267)**(1/273.0)"
   ]
  },
  {
   "cell_type": "markdown",
   "metadata": {},
   "source": [
    "EXERCISE BREAK: How many subpeptides does a cyclic peptide of length n have?\n",
    "\n",
    "n*(n+1)/2"
   ]
  },
  {
   "cell_type": "markdown",
   "metadata": {},
   "source": [
    "## Branch-and-Bound Algorithm for Cyclopeptide Sequencing \n"
   ]
  },
  {
   "cell_type": "code",
   "execution_count": 10,
   "metadata": {
    "collapsed": true
   },
   "outputs": [],
   "source": [
    "aminoacidMass = {'G':57, 'A':71, 'S':87, 'P':97, 'V':99, 'T':101, 'C':103, 'L':113, 'N':114, 'D':115, 'K':128, 'E':129, 'M':131, 'H':137, 'F':147, 'R':156, 'Y':163, 'W':186}"
   ]
  },
  {
   "cell_type": "code",
   "execution_count": 11,
   "metadata": {
    "collapsed": true
   },
   "outputs": [],
   "source": [
    "def expand(peptides):\n",
    "    aminoacid = ['G', 'A', 'S', 'P', 'V', 'T', 'C', 'L', 'N', 'D', 'K', 'E', 'M', 'H', 'F', 'R', 'Y', 'W']\n",
    "    expanded = []\n",
    "    for i in peptides:\n",
    "        for j in aminoacid:\n",
    "            expanded.append(i+j)\n",
    "    return expanded"
   ]
  },
  {
   "cell_type": "code",
   "execution_count": 12,
   "metadata": {
    "collapsed": false
   },
   "outputs": [
    {
     "name": "stdout",
     "output_type": "stream",
     "text": [
      "['KG', 'KA', 'KS', 'KP', 'KV', 'KT', 'KC', 'KL', 'KN', 'KD', 'KK', 'KE', 'KM', 'KH', 'KF', 'KR', 'KY', 'KW', 'LG', 'LA', 'LS', 'LP', 'LV', 'LT', 'LC', 'LL', 'LN', 'LD', 'LK', 'LE', 'LM', 'LH', 'LF', 'LR', 'LY', 'LW', 'WG', 'WA', 'WS', 'WP', 'WV', 'WT', 'WC', 'WL', 'WN', 'WD', 'WK', 'WE', 'WM', 'WH', 'WF', 'WR', 'WY', 'WW']\n"
     ]
    }
   ],
   "source": [
    "print expand(['K', 'L', 'W'])"
   ]
  },
  {
   "cell_type": "code",
   "execution_count": 13,
   "metadata": {
    "collapsed": true
   },
   "outputs": [],
   "source": [
    "aminoacidMass = {'G':57, 'A':71, 'S':87, 'P':97, 'V':99, 'T':101, 'C':103, 'L':113, 'N':114, 'D':115, 'K':128, 'E':129, 'M':131, 'H':137, 'F':147, 'R':156, 'Y':163, 'W':186}\n",
    "def mass(peptide):\n",
    "    massOfPeptide = 0\n",
    "    for i in peptide:\n",
    "        massOfPeptide += aminoacidMass[i]\n",
    "    return massOfPeptide  "
   ]
  },
  {
   "cell_type": "code",
   "execution_count": 14,
   "metadata": {
    "collapsed": false
   },
   "outputs": [
    {
     "data": {
      "text/plain": [
       "374"
      ]
     },
     "execution_count": 14,
     "metadata": {},
     "output_type": "execute_result"
    }
   ],
   "source": [
    "mass('VKF')"
   ]
  },
  {
   "cell_type": "code",
   "execution_count": 15,
   "metadata": {
    "collapsed": true
   },
   "outputs": [],
   "source": [
    "aminoacidMass = {'G':57, 'A':71, 'S':87, 'P':97, 'V':99, 'T':101, 'C':103, 'L':113, 'N':114, 'D':115, 'K':128, 'E':129, 'M':131, 'H':137, 'F':147, 'R':156, 'Y':163, 'W':186}\n",
    "def cycloPeptideSequencing(spectrum):\n",
    "    peptides = [k for k,v in aminoacidMass.items() if v in spectrum]\n",
    "    while len(peptides) != 0:\n",
    "        peptides = expand(peptides)\n",
    "        copy = peptides\n",
    "        for peptide in copy:\n",
    "            if mass(peptide) == max(spectrum):\n",
    "                if cyclicSpectrum(peptide) == spectrum:\n",
    "                    return peptide\n",
    "                peptides.remove(peptide)\n",
    "            else:\n",
    "                if not set(linearSpectrum(peptide)).issubset(set(spectrum)):\n",
    "                    peptides.remove(peptide)                 "
   ]
  },
  {
   "cell_type": "code",
   "execution_count": 16,
   "metadata": {
    "collapsed": false
   },
   "outputs": [
    {
     "data": {
      "text/plain": [
       "'LWK'"
      ]
     },
     "execution_count": 16,
     "metadata": {},
     "output_type": "execute_result"
    }
   ],
   "source": [
    "spectrum = [0, 113, 128, 186, 241, 299, 314, 427]\n",
    "cycloPeptideSequencing(spectrum)"
   ]
  },
  {
   "cell_type": "code",
   "execution_count": 41,
   "metadata": {
    "collapsed": false
   },
   "outputs": [
    {
     "data": {
      "text/plain": [
       "True"
      ]
     },
     "execution_count": 41,
     "metadata": {},
     "output_type": "execute_result"
    }
   ],
   "source": [
    "x = [113,128]\n",
    "set(x).issubset(set(spectrum))"
   ]
  },
  {
   "cell_type": "code",
   "execution_count": 27,
   "metadata": {
    "collapsed": false
   },
   "outputs": [
    {
     "data": {
      "text/plain": [
       "[('L', 'W', 'K'),\n",
       " ('L', 'K', 'W'),\n",
       " ('W', 'L', 'K'),\n",
       " ('W', 'K', 'L'),\n",
       " ('K', 'L', 'W'),\n",
       " ('K', 'W', 'L')]"
      ]
     },
     "execution_count": 27,
     "metadata": {},
     "output_type": "execute_result"
    }
   ],
   "source": [
    "[binary for binary in itertools.permutations('LWK',3)]"
   ]
  },
  {
   "cell_type": "code",
   "execution_count": 30,
   "metadata": {
    "collapsed": false
   },
   "outputs": [
    {
     "data": {
      "text/plain": [
       "['LWK', 'LKW', 'WLK', 'WKL', 'KLW', 'KWL']"
      ]
     },
     "execution_count": 30,
     "metadata": {},
     "output_type": "execute_result"
    }
   ],
   "source": [
    "list(map(\"\".join, itertools.permutations('LWK')))"
   ]
  },
  {
   "cell_type": "code",
   "execution_count": 36,
   "metadata": {
    "collapsed": false
   },
   "outputs": [
    {
     "data": {
      "text/plain": [
       "['LWK', 'LKW', 'WLK', 'WKL', 'KLW', 'KWL']"
      ]
     },
     "execution_count": 36,
     "metadata": {},
     "output_type": "execute_result"
    }
   ],
   "source": [
    "x = list(map(\"\".join, itertools.permutations('LWK')))\n",
    "x"
   ]
  },
  {
   "cell_type": "code",
   "execution_count": 37,
   "metadata": {
    "collapsed": false
   },
   "outputs": [
    {
     "data": {
      "text/plain": [
       "[113, 128, 186]"
      ]
     },
     "execution_count": 37,
     "metadata": {},
     "output_type": "execute_result"
    }
   ],
   "source": [
    "map(lambda i: aminoacidMass[i], 'LKW')"
   ]
  },
  {
   "cell_type": "code",
   "execution_count": 35,
   "metadata": {
    "collapsed": false
   },
   "outputs": [
    {
     "data": {
      "text/plain": [
       "'113-128-186'"
      ]
     },
     "execution_count": 35,
     "metadata": {},
     "output_type": "execute_result"
    }
   ],
   "source": [
    "'-'.join(str(i) for i in map(lambda i: aminoacidMass[i], 'LKW'))"
   ]
  },
  {
   "cell_type": "code",
   "execution_count": 39,
   "metadata": {
    "collapsed": false
   },
   "outputs": [
    {
     "data": {
      "text/plain": [
       "'113-186-128 113-128-186 186-113-128 186-128-113 128-113-186 128-186-113'"
      ]
     },
     "execution_count": 39,
     "metadata": {},
     "output_type": "execute_result"
    }
   ],
   "source": [
    "' '.join(str(z) for z in map(lambda peptide: '-'.join(str(i) for i in map(lambda i: aminoacidMass[i], peptide)), x))"
   ]
  },
  {
   "cell_type": "code",
   "execution_count": 40,
   "metadata": {
    "collapsed": false
   },
   "outputs": [
    {
     "data": {
      "text/plain": [
       "[('L', 'W', 'K'),\n",
       " ('L', 'K', 'W'),\n",
       " ('W', 'L', 'K'),\n",
       " ('W', 'K', 'L'),\n",
       " ('K', 'L', 'W'),\n",
       " ('K', 'W', 'L')]"
      ]
     },
     "execution_count": 40,
     "metadata": {},
     "output_type": "execute_result"
    }
   ],
   "source": [
    "list(itertools.permutations('LWK'))"
   ]
  },
  {
   "cell_type": "code",
   "execution_count": 41,
   "metadata": {
    "collapsed": false
   },
   "outputs": [
    {
     "data": {
      "text/plain": [
       "'113-186-128'"
      ]
     },
     "execution_count": 41,
     "metadata": {},
     "output_type": "execute_result"
    }
   ],
   "source": [
    "'-'.join(str(i) for i in map(lambda i: aminoacidMass[i], ('L', 'W', 'K')))"
   ]
  },
  {
   "cell_type": "code",
   "execution_count": null,
   "metadata": {
    "collapsed": true
   },
   "outputs": [],
   "source": []
  }
 ],
 "metadata": {
  "kernelspec": {
   "display_name": "Python 2",
   "language": "python",
   "name": "python2"
  },
  "language_info": {
   "codemirror_mode": {
    "name": "ipython",
    "version": 2
   },
   "file_extension": ".py",
   "mimetype": "text/x-python",
   "name": "python",
   "nbconvert_exporter": "python",
   "pygments_lexer": "ipython2",
   "version": "2.7.5"
  }
 },
 "nbformat": 4,
 "nbformat_minor": 0
}
