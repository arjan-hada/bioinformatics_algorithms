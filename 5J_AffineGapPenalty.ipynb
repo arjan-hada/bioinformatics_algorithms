{
 "cells": [
  {
   "cell_type": "code",
   "execution_count": 1,
   "metadata": {
    "collapsed": false
   },
   "outputs": [],
   "source": [
    "import numpy as np\n",
    "f = open('input/blosum62_affine.txt', 'r')\n",
    "score = [line.strip().split() for line in f]\n",
    "alphabet = score[0]\n",
    "blosum62 = np.array([i[1:] for i in score[1:]], dtype = np.float64)"
   ]
  },
  {
   "cell_type": "code",
   "execution_count": 2,
   "metadata": {
    "collapsed": true
   },
   "outputs": [],
   "source": [
    "def affine_globalAlign(x, y, score_matrix, sigma, epsilon):\n",
    "    \"\"\"Returns three levels for global alignment graph with affine gap penalty. \n",
    "    Affine penalty for a gap of length k as σ + ε · (k − 1).\n",
    "    sigma - gap opening penalty; epsilon- gap extension penalty\"\"\"\n",
    "    \n",
    "    #Initialize the numpy array\n",
    "    lower = np.zeros((len(x) + 1, len(y) + 1), dtype = np.float64)\n",
    "    middle = np.zeros((len(x) + 1, len(y) + 1), dtype = np.float64)\n",
    "    upper = np.zeros((len(x) + 1, len(y) + 1), dtype = np.float64)\n",
    "    \n",
    "    #Fill in the first column of three levels\n",
    "    for i in xrange(1, len(x) + 1):\n",
    "        lower[i,0] = -sigma -(i-1)*epsilon\n",
    "        middle[i,0] = -sigma -(i-1)*epsilon\n",
    "        upper[i,0] = -float('inf')\n",
    "        \n",
    "    #Fill in the first row of three levels\n",
    "    for j in xrange(1, len(y) + 1):\n",
    "        lower[0,j] = -float('inf')\n",
    "        middle[0,j] = -sigma -(j-1)*epsilon\n",
    "        upper[0,j] = -sigma -(j-1)*epsilon\n",
    "    \n",
    "    # Middle level- diagonal edges of weight score(x_i, y_j) representing matches and mismatches. \n",
    "    #Lower level- only vertical edges with weight −ε to represent gap extensions in x\n",
    "    #Upper level- only horizontal edges with weights −ε to represent gap extensions in y\n",
    "    for i in xrange(1, len(x)+1):\n",
    "        for j in xrange(1, len(y)+1):\n",
    "            lower[i, j] = max(lower[i-1, j] - epsilon, middle[i-1, j] - sigma)\n",
    "            upper[i, j] = max(upper[i, j-1] - epsilon, middle[i, j-1] - sigma)\n",
    "            middle[i, j] = max(lower[i, j], \n",
    "                               middle[i-1, j-1] + score_matrix[alphabet.index(x[i-1]), alphabet.index(y[j-1])], \n",
    "                               upper[i, j])\n",
    "                  \n",
    "    return lower, middle, upper"
   ]
  },
  {
   "cell_type": "code",
   "execution_count": 4,
   "metadata": {
    "collapsed": false
   },
   "outputs": [
    {
     "name": "stdout",
     "output_type": "stream",
     "text": [
      "[[  0. -inf -inf -inf -inf -inf -inf -inf -inf -inf]\n",
      " [-11. -22. -23. -24. -25. -26. -27. -28. -29. -30.]\n",
      " [-12.  -4. -15. -16. -17. -18. -19. -20. -21. -22.]\n",
      " [-13.  -5.   1. -10. -11. -12. -13. -14. -15. -16.]\n",
      " [-14.  -6.   0.   6.  -5.  -6.  -7.  -8.  -9. -10.]\n",
      " [-15.  -7.  -1.   5.   3.  -6.  -6.  -2. -10.  -9.]\n",
      " [-16.  -8.  -2.   4.   2.   0.  -7.  -3.   2.  -9.]\n",
      " [-17.  -9.  -3.   3.   1.  -1.   1.  -4.   1.   8.]]\n",
      "[[  0. -11. -12. -13. -14. -15. -16. -17. -18. -19.]\n",
      " [-11.   7.  -4.  -5.  -6.  -7.  -8.  -9. -10. -11.]\n",
      " [-12.  -4.  12.   1.   0.  -1.  -2.  -3.  -4.  -5.]\n",
      " [-13.  -5.   1.  17.   6.   5.   4.   3.   2.   1.]\n",
      " [-14.  -6.   0.   6.  14.   5.   5.   9.   0.   2.]\n",
      " [-15.  -7.  -1.   5.   3.  11.   3.   2.  13.   2.]\n",
      " [-16.  -8.  -2.   4.   2.   1.  12.   3.   2.  19.]\n",
      " [-17.  -9.  -3.   3.   1.   1.   5.  12.   1.   8.]]\n",
      "[[  0. -11. -12. -13. -14. -15. -16. -17. -18. -19.]\n",
      " [-inf -22.  -4.  -5.  -6.  -7.  -8.  -9. -10. -11.]\n",
      " [-inf -23. -15.   1.   0.  -1.  -2.  -3.  -4.  -5.]\n",
      " [-inf -24. -16. -10.   6.   5.   4.   3.   2.   1.]\n",
      " [-inf -25. -17. -11.  -5.   3.   2.   1.   0.  -1.]\n",
      " [-inf -26. -18. -12.  -6.  -7.   0.  -1.  -2.   2.]\n",
      " [-inf -27. -19. -13.  -7.  -8.  -9.   1.   0.  -1.]\n",
      " [-inf -28. -20. -14.  -8.  -9. -10.  -6.   1.   0.]]\n"
     ]
    }
   ],
   "source": [
    "x = 'PRTEINS'\n",
    "y = 'PRTWPSEIN'\n",
    "lower, middle, upper = affine_globalAlign(x, y, blosum62, 11, 1)\n",
    "print lower\n",
    "print middle\n",
    "print upper"
   ]
  },
  {
   "cell_type": "code",
   "execution_count": 22,
   "metadata": {
    "collapsed": true
   },
   "outputs": [],
   "source": [
    "import numpy as np\n",
    "def traceback(lower, middle, upper, x, y, score_matrix, sigma, epsilon):\n",
    "    \"\"\"Traceback in the three level matrix to get the global alignment with affine gap penalty\"\"\"\n",
    "    #get i,j for maximal cell\n",
    "    i, j = len(x), len(y)\n",
    "    alx, aly = [], []\n",
    "    traceback = middle #Start traceback in the middle\n",
    "    while i*j != 0:\n",
    "        if traceback is middle:\n",
    "            ls = lower[i,j]\n",
    "            us = upper[i,j]\n",
    "            ms = middle[i-1, j-1] + score_matrix[alphabet.index(x[i-1]), alphabet.index(y[j-1])]\n",
    "            max_score = max(ls, us, ms)\n",
    "            if max_score == ms:\n",
    "                alx.append(x[i-1]); aly.append(y[j-1])\n",
    "                i -= 1; j -= 1 \n",
    "                traceback = middle\n",
    "            elif max_score == ls:\n",
    "                traceback = lower\n",
    "            else:\n",
    "                traceback = upper\n",
    "        \n",
    "        elif traceback is lower:\n",
    "            ls = lower[i-1, j] - epsilon\n",
    "            ms = middle[i-1, j] - sigma\n",
    "            max_score = max(ls, ms)\n",
    "            if max_score == ls:\n",
    "                alx.append(x[i-1]); aly.append('-')\n",
    "                i -= 1\n",
    "                traceback = lower\n",
    "            else:\n",
    "                alx.append(x[i-1]); aly.append('-')\n",
    "                i -= 1\n",
    "                traceback = middle\n",
    "                \n",
    "        elif traceback is upper:\n",
    "            us = upper[i, j-1] - epsilon\n",
    "            ms = middle[i, j-1] - sigma\n",
    "            max_score = max(us, ms)\n",
    "            if max_score == us:\n",
    "                alx.append('-'); aly.append(y[j-1]) \n",
    "                j -= 1\n",
    "                traceback = upper\n",
    "            else:\n",
    "                alx.append('-'); aly.append(y[j-1])\n",
    "                j -= 1\n",
    "                traceback = middle\n",
    "                \n",
    "    alignment = map(lambda x: ''.join(x), [alx[::-1], aly[::-1]])\n",
    "    return alignment"
   ]
  },
  {
   "cell_type": "code",
   "execution_count": 26,
   "metadata": {
    "collapsed": false
   },
   "outputs": [
    {
     "name": "stdout",
     "output_type": "stream",
     "text": [
      "PRT---EINS\n",
      "PRTWPSEIN-\n"
     ]
    }
   ],
   "source": [
    "x = 'PRTEINS'\n",
    "y = 'PRTWPSEIN'\n",
    "lower, middle, upper = affine_globalAlign(x, y, blosum62, 11, 1)\n",
    "algn = traceback(lower, middle, upper, x, y, blosum62, 11, 1)\n",
    "print '\\n'.join(algn)"
   ]
  },
  {
   "cell_type": "code",
   "execution_count": 27,
   "metadata": {
    "collapsed": false
   },
   "outputs": [
    {
     "name": "stdout",
     "output_type": "stream",
     "text": [
      "AHRQPQ\n",
      "AHE--D\n"
     ]
    }
   ],
   "source": [
    "x = 'AHRQPQ'\n",
    "y = 'AHED'\n",
    "lower, middle, upper = affine_globalAlign(x, y, blosum62, 11, 1)\n",
    "algn = traceback(lower, middle, upper, x, y, blosum62, 11, 1)\n",
    "print '\\n'.join(algn)"
   ]
  },
  {
   "cell_type": "code",
   "execution_count": 28,
   "metadata": {
    "collapsed": false
   },
   "outputs": [
    {
     "name": "stdout",
     "output_type": "stream",
     "text": [
      "IVSPGIENID---HLEIKAIRWGWEPRIMTAWKGQQMYRQPFSSFFVPPRRSLQQEW----PH-NWAHHS-RIMEQSINAICG\n",
      "IVSPGIENINQYGHLEHK---WIWEPRIMTAWKGQQMYRQPFSSFFVPPRRSLQQEWHWWPTHINWAHHSNQLMEQSINAICV\n"
     ]
    }
   ],
   "source": [
    "x, y = [i.strip() for i in open('input/dataset_249_8.txt', 'r')]\n",
    "lower, middle, upper = affine_globalAlign(x, y, blosum62, 11, 1)\n",
    "algn = traceback(lower, middle, upper, x, y, blosum62, 11, 1)\n",
    "print int(middle[len(x), len(y)])\n",
    "print '\\n'.join(algn)"
   ]
  },
  {
   "cell_type": "code",
   "execution_count": 32,
   "metadata": {
    "collapsed": false
   },
   "outputs": [
    {
     "name": "stdout",
     "output_type": "stream",
     "text": [
      "332\n",
      "WHHKILVADTRLRYVPAIMDDMGVRHFDWMQYNMQMHQNDFNPRHQNKRKKCSWNRIKPNWFGQNGSRKHLKQWDDI---LFNIKTWRSTIAM\n",
      "WHHKIKVADTRLRYVPAIMDDMGVRHFHWMQYCMQMHQNDFNPR----RIKCSWNRIKPNCTDIN----CFGCWDNMVMDLFNIKTWRSTIAM\n"
     ]
    }
   ],
   "source": [
    "x, y = [i.strip() for i in open('input/rosalind_ba5j.txt', 'r')]\n",
    "lower, middle, upper = affine_globalAlign(x, y, blosum62, 11, 1)\n",
    "algn = traceback(lower, middle, upper, x, y, blosum62, 11, 1)\n",
    "print int(middle[len(x), len(y)])\n",
    "print '\\n'.join(algn)"
   ]
  },
  {
   "cell_type": "code",
   "execution_count": null,
   "metadata": {
    "collapsed": true
   },
   "outputs": [],
   "source": []
  }
 ],
 "metadata": {
  "kernelspec": {
   "display_name": "Python 2",
   "language": "python",
   "name": "python2"
  },
  "language_info": {
   "codemirror_mode": {
    "name": "ipython",
    "version": 2
   },
   "file_extension": ".py",
   "mimetype": "text/x-python",
   "name": "python",
   "nbconvert_exporter": "python",
   "pygments_lexer": "ipython2",
   "version": "2.7.5"
  }
 },
 "nbformat": 4,
 "nbformat_minor": 0
}
