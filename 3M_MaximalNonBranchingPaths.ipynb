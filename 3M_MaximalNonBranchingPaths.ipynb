{
 "cells": [
  {
   "cell_type": "code",
   "execution_count": 3,
   "metadata": {
    "collapsed": false
   },
   "outputs": [],
   "source": [
    "def classify_nodes(g):\n",
    "    \"\"\"Returns balanced and unbalanced nodes as seperate lists from a graph of edges\"\"\"\n",
    "    balanced, unbalanced = [], []\n",
    "    out = reduce(lambda a,b: a+b, g.values())\n",
    "    for node in set(out + g.keys()):\n",
    "        indegrees = out.count(node)\n",
    "        if node in g:\n",
    "            outdegrees = len(g[node])\n",
    "        else:\n",
    "            outdegrees = 0\n",
    " \n",
    "        if indegrees == outdegrees == 1:\n",
    "            balanced.append(node)\n",
    "        else:\n",
    "            unbalanced.append(node)\n",
    "    return balanced, unbalanced"
   ]
  },
  {
   "cell_type": "code",
   "execution_count": 24,
   "metadata": {
    "collapsed": false
   },
   "outputs": [
    {
     "name": "stdout",
     "output_type": "stream",
     "text": [
      "balanced [2, 3, 4, 6, 7, 10, 11, 12, 21, 23]\n",
      "unbalanced [1, 8, 9, 25]\n"
     ]
    }
   ],
   "source": [
    "g = {1:[2], 2:[3], 3:[4], 4:[21], 6:[7], 7:[6], 10:[11], 11:[12], 12:[10], 21:[23], 23:[25], 25:[8,9]}\n",
    "#g = {1:[2], 2:[3], 3:[4,5]}\n",
    "balanced, unbalanced = classify_nodes(g)\n",
    "print 'balanced', balanced\n",
    "print 'unbalanced', unbalanced"
   ]
  },
  {
   "cell_type": "code",
   "execution_count": 40,
   "metadata": {
    "collapsed": true
   },
   "outputs": [],
   "source": [
    "def maximalNonBranchingPaths(g):\n",
    "    \"\"\" Input: The adjacency list of a graph whose nodes are integers.\n",
    "     Output: The collection of all maximal nonbranching paths in this graph.\"\"\"\n",
    "    balanced, unbalanced = classify_nodes(g)\n",
    "    paths = []\n",
    "    for node in g:\n",
    "        if node in unbalanced:\n",
    "            if len(g[node]) > 0:\n",
    "                while len(g[node]) > 0:\n",
    "                    w = g[node].pop()\n",
    "                    nonbranchingPath = [node,w]\n",
    "                    while w in balanced:\n",
    "                        w = g[w].pop()\n",
    "                        nonbranchingPath.append(w)\n",
    "                    paths.append(nonbranchingPath)\n",
    "    for node in g:\n",
    "        if len(g[node]) > 0:\n",
    "            if node in balanced:\n",
    "                cycle = [node]\n",
    "                w = g[node].pop()\n",
    "                while w in balanced:\n",
    "                    cycle.append(w)\n",
    "                    if cycle[0] == cycle[-1]: \n",
    "                        break\n",
    "                    w = g[w].pop()\n",
    "                paths.append(cycle)\n",
    "    return paths"
   ]
  },
  {
   "cell_type": "code",
   "execution_count": 43,
   "metadata": {
    "collapsed": false
   },
   "outputs": [
    {
     "data": {
      "text/plain": [
       "[[1, 3], [3, 5], [4, 5], [5, 6], [5, 6], [6, 7], [6, 2, 3]]"
      ]
     },
     "execution_count": 43,
     "metadata": {},
     "output_type": "execute_result"
    }
   ],
   "source": [
    "g = {1:[3], 2:[3], 3:[5], 4:[5], 5:[6,6], 6:[2,7]}\n",
    "maximalNonBranchingPaths(g)"
   ]
  },
  {
   "cell_type": "code",
   "execution_count": 42,
   "metadata": {
    "collapsed": false
   },
   "outputs": [
    {
     "data": {
      "text/plain": [
       "[[1, 2, 3, 4, 21, 23, 25], [25, 9], [25, 8], [6, 6], [10, 11, 12, 10]]"
      ]
     },
     "execution_count": 42,
     "metadata": {},
     "output_type": "execute_result"
    }
   ],
   "source": [
    "g = {1:[2], 2:[3], 3:[4], 4:[21], 6:[6], 10:[11], 11:[12], 12:[10], 21:[23], 23:[25], 25:[8,9]}\n",
    "maximalNonBranchingPaths(g)"
   ]
  },
  {
   "cell_type": "code",
   "execution_count": 44,
   "metadata": {
    "collapsed": true
   },
   "outputs": [],
   "source": [
    "#Complete solution for MaximalNonBranchingPaths algorithm\n",
    "def read_input(filename):\n",
    "    f = open(filename, 'r')\n",
    "    g = dict()\n",
    "    for line in f:\n",
    "        line = line.strip()\n",
    "        line = line.split(' -> ')\n",
    "        g[int(line[0])] = [int(x) for x in line[1].split(',')]\n",
    "    return g\n",
    "\n",
    "def classify_nodes(g):\n",
    "    \"\"\"Returns balanced and unbalanced nodes as seperate lists from a graph of edges\"\"\"\n",
    "    balanced, unbalanced = [], []\n",
    "    out = reduce(lambda a,b: a+b, g.values())\n",
    "    for node in set(out + g.keys()):\n",
    "        indegrees = out.count(node)\n",
    "        if node in g:\n",
    "            outdegrees = len(g[node])\n",
    "        else:\n",
    "            outdegrees = 0\n",
    " \n",
    "        if indegrees == outdegrees == 1:\n",
    "            balanced.append(node)\n",
    "        else:\n",
    "            unbalanced.append(node)\n",
    "    return balanced, unbalanced\n",
    "\n",
    "def maximalNonBranchingPaths(g):\n",
    "    \"\"\" Input: The adjacency list of a graph whose nodes are integers.\n",
    "     Output: The collection of all maximal nonbranching paths in this graph.\"\"\"\n",
    "    balanced, unbalanced = classify_nodes(g)\n",
    "    paths = []\n",
    "    for node in g:\n",
    "        if node in unbalanced:\n",
    "            if len(g[node]) > 0:\n",
    "                while len(g[node]) > 0:\n",
    "                    w = g[node].pop()\n",
    "                    nonbranchingPath = [node,w]\n",
    "                    while w in balanced:\n",
    "                        w = g[w].pop()\n",
    "                        nonbranchingPath.append(w)\n",
    "                    paths.append(nonbranchingPath)\n",
    "    for node in g:\n",
    "        if len(g[node]) > 0:\n",
    "            if node in balanced:\n",
    "                cycle = [node]\n",
    "                w = g[node].pop()\n",
    "                while w in balanced:\n",
    "                    cycle.append(w)\n",
    "                    if cycle[0] == cycle[-1]: \n",
    "                        break\n",
    "                    w = g[w].pop()\n",
    "                paths.append(cycle)\n",
    "    return paths"
   ]
  },
  {
   "cell_type": "code",
   "execution_count": 48,
   "metadata": {
    "collapsed": false
   },
   "outputs": [
    {
     "name": "stdout",
     "output_type": "stream",
     "text": [
      "2->395->87->307->393->251->124\n",
      "20->333\n",
      "20->121->150->178->380->323->378->6->267->212->95->209->230->333\n",
      "35->2\n",
      "35->394->29->227->62->229->132->170->122->129->2\n",
      "44->51\n",
      "44->27->368->370->85->221->375->298->296->76->365->32->17->361->51\n",
      "51->384->125->162->43->352->149->119->347->214->291->3->9->8->66->35\n",
      "98->311\n",
      "98->1->183->390->278->185->143->181->269->311\n",
      "112->366\n",
      "124->383\n",
      "124->82->148->57->241->116->359->305->134->22->373->97->207->383\n",
      "159->244->280->0->362->44\n",
      "163->338\n",
      "163->199->249->74->268->274->313->224->169->318->348->337->90->356->177->68->338\n",
      "175->228->256->339\n",
      "190->332->156->117->99->160->67->30->93->213->139->78->306->389\n",
      "197->77->203->286->344->299->52->123->7->75->240->285->358\n",
      "233->284\n",
      "233->355->258->84->59->208->80->284\n",
      "252->364->167->104->107->226->387->163\n",
      "259->159\n",
      "259->223->279->18->349->26->154->200->159\n",
      "265->322->91->61->46->45->287->196->242->144->138->36->319\n",
      "266->350->182->135->48->382->131->335->86->281->71->239->237->353->304\n",
      "284->297->31->28->50->232->255->54->151->202->398->250->19->115->172->259\n",
      "292->266\n",
      "292->114->174->354->262->180->391->142->386->266\n",
      "311->10->351->215->11->24->165->20\n",
      "319->197\n",
      "319->254->105->328->197\n",
      "333->128->23->187->192->146->21->317->5->60->292\n",
      "338->330->283->100->308->42->201->233\n",
      "339->112\n",
      "339->55->188->72->198->152->264->273->376->315->367->225->191->70->310->171->218->257->112\n",
      "358->175\n",
      "358->65->79->379->58->176->179->113->293->110->111->25->53->175\n",
      "366->252\n",
      "366->83->34->334->260->309->238->261->277->271->302->325->94->234->168->252\n",
      "383->161->210->275->96->130->236->69->40->98\n",
      "389->265\n",
      "389->16->377->217->158->312->92->321->155->56->357->397->64->153->265\n",
      "4->289->108->140->372->320->343->189->222->102->109->331->41->186->290->253->147->248->246->314->4\n",
      "12->127->301->294->204->195->270->220->164->374->371->326->103->324->118->392->38->345->388->194->12\n",
      "13->120->47->341->157->101->288->126->247->245->235->263->136->342->89->231->243->327->193->81->13\n",
      "14->295->166->360->216->363->49->329->133->106->399->381->369->39->15->33->336->300->276->141->14\n",
      "37->205->272->211->137->173->145->88->63->206->282->219->184->303->396->385->346->340->316->73->37\n"
     ]
    }
   ],
   "source": [
    "g = read_input('input/dataset_6207_2.txt')\n",
    "paths = maximalNonBranchingPaths(g)\n",
    "for path in paths:\n",
    "    x = '->'.join(str(i) for i in path)\n",
    "    print x"
   ]
  },
  {
   "cell_type": "code",
   "execution_count": null,
   "metadata": {
    "collapsed": true
   },
   "outputs": [],
   "source": []
  }
 ],
 "metadata": {
  "kernelspec": {
   "display_name": "Python 2",
   "language": "python",
   "name": "python2"
  },
  "language_info": {
   "codemirror_mode": {
    "name": "ipython",
    "version": 2
   },
   "file_extension": ".py",
   "mimetype": "text/x-python",
   "name": "python",
   "nbconvert_exporter": "python",
   "pygments_lexer": "ipython2",
   "version": "2.7.5"
  }
 },
 "nbformat": 4,
 "nbformat_minor": 0
}
