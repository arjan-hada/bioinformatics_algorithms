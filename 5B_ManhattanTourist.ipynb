{
 "cells": [
  {
   "cell_type": "code",
   "execution_count": 42,
   "metadata": {},
   "outputs": [],
   "source": [
    "import numpy as np\n",
    "def manhattanTourist(n, m, down, right):\n",
    "    D = np.zeros((n+1, m+1), dtype = np.int)\n",
    "    for i in range(1, n+1):\n",
    "        D[i,0] = D[i-1,0] + down[i-1,0]\n",
    "    for j in range(1, m+1):\n",
    "        D[0,j] = D[0,j-1] + right[0,j-1]\n",
    "    for i in range(1, n+1):\n",
    "        for j in range(1, m+1):\n",
    "            D[i,j] = max(D[i-1,j] + down[i-1,j], D[i,j-1] + right[i,j-1])\n",
    "    return D[-1][-1]"
   ]
  },
  {
   "cell_type": "code",
   "execution_count": 43,
   "metadata": {},
   "outputs": [
    {
     "data": {
      "text/plain": [
       "34"
      ]
     },
     "execution_count": 43,
     "metadata": {},
     "output_type": "execute_result"
    }
   ],
   "source": [
    "down = np.array([[1, 0, 2, 4, 3],[4, 6, 5, 2, 1], [4, 4, 5, 2, 1], [5, 6, 8, 5, 3]])\n",
    "right = np.array([[3, 2, 4, 0], [3, 2, 4, 2], [0, 7, 3, 3], [3, 3, 0, 2], [1, 3, 2, 2]])\n",
    "manhattanTourist(4, 4, down, right)"
   ]
  },
  {
   "cell_type": "code",
   "execution_count": 63,
   "metadata": {},
   "outputs": [],
   "source": [
    "#Read input data\n",
    "f = open('input/rosalind_ba5b.txt')\n",
    "n, m = map(int, f.readline().strip().split())\n",
    "down, right = [[row.split() for row in matrix.split('\\n')] for matrix in f.read().strip().split('\\n-\\n')]\n",
    "down = np.array(down).astype(int)\n",
    "right = np.array(right).astype(int)"
   ]
  },
  {
   "cell_type": "code",
   "execution_count": 56,
   "metadata": {},
   "outputs": [
    {
     "data": {
      "text/plain": [
       "103"
      ]
     },
     "execution_count": 56,
     "metadata": {},
     "output_type": "execute_result"
    }
   ],
   "source": [
    "manhattanTourist(n, m, down, right)"
   ]
  },
  {
   "cell_type": "code",
   "execution_count": null,
   "metadata": {
    "collapsed": true
   },
   "outputs": [],
   "source": []
  }
 ],
 "metadata": {
  "kernelspec": {
   "display_name": "Python 2",
   "language": "python",
   "name": "python2"
  },
  "language_info": {
   "codemirror_mode": {
    "name": "ipython",
    "version": 2
   },
   "file_extension": ".py",
   "mimetype": "text/x-python",
   "name": "python",
   "nbconvert_exporter": "python",
   "pygments_lexer": "ipython2",
   "version": "2.7.13"
  }
 },
 "nbformat": 4,
 "nbformat_minor": 1
}
