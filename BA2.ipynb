{
 "cells": [
  {
   "cell_type": "markdown",
   "metadata": {},
   "source": [
    "## Which DNA patterns serve as a molecular clock?"
   ]
  },
  {
   "cell_type": "markdown",
   "metadata": {},
   "source": [
    "The daily schedules of animals, plants, and even bacteria are controlled by an internal timekeeper called the circadian clock. Anyone who has experienced the misery of jet lag knows that this clock never stops ticking. Rats and research volunteers alike, when placed in a bunker, naturally maintain a roughly 24-hour cycle of activity and rest in total darkness. And, like any timepiece, the circadian clock can malfunction, resulting in a genetic disease known as delayed sleep-phase syndrome (DSPS).\n",
    "\n",
    "The circadian clock must have some basis on the molecular level, which presents many questions. How do individual cells in animals and plants, let alone bacteria, know when they should slow down or increase the production of certain proteins? Is there a “clock gene”? Can we explain why heart attacks occur more often in the morning, while asthma attacks are more common at night? And can we identify genes that are responsible for “breaking” the circadian clock to cause DSPS?\n",
    "\n",
    "In the early 1970s, Ron Konopka and Seymour Benzer identified mutant flies with abnormal circadian patterns and traced the flies’ mutations to a single gene. Biologists needed two more decades to discover a similar clock gene in mammals, which was just the first piece of the puzzle. Today, many more circadian genes have been discovered; these genes, having names like timeless, clock, and cycle, orchestrate the behavior of hundreds of other genes and display a high degree of evolutionary conservation across species.\n",
    "\n",
    "We will first focus on plants, since maintaining the circadian clock in plants is a matter of life and death. Consider how many plant genes should pay attention to the time when the sun rises and sets; indeed, biologists estimate that over a thousand plant genes are circadian, including the genes related to photosynthesis, photo reception, and flowering. These genes must somehow know what time it is in order to change their gene transcript production, or gene expression, throughout the day."
   ]
  },
  {
   "cell_type": "markdown",
   "metadata": {},
   "source": [
    "It turns out that every plant cell keeps track of day and night independently of other cells, and that just three plant genes, called LCY, CCA1, and TOC1, are the clock’s master timekeepers. Such regulatory genes, and the regulatory proteins that they encode, are often controlled by external factors (e.g., nutrient availability or sunlight) in order to allow organisms to adjust their gene expression.\n",
    "\n",
    "For example, regulatory proteins controlling the circadian clock in plants coordinate circadian activity as follows. TOC1 promotes the expression of LCY and CCA1, whereas LCY and CCA1 repress the expression of TOC1, resulting in a negative feedback loop. In the morning, sunlight activates the transcription of LCY and CCA1, triggering the repression of TOC1 transcription. As light diminishes, so does the production of LCY and CCA1, which in turn do not repress TOC1 any more. Transcription of TOC1 peaks at night and starts promoting the transcription of LCY and CCA1, which in turn repress the transcription of TOC1, and the cycle begins again.\n",
    "\n",
    "LCY, CCA1, and TOC1 are able to control the transcription of other genes because the regulatory proteins that they encode are transcription factors, or master regulatory proteins that turn other genes on and off. A transcription factor regulates a gene by binding to a specific short DNA interval called a regulatory motif, or transcription factor binding site, in the gene's upstream region, a 600-1000 nucleotide-long region preceding the start of the gene. For example, CCA1 binds to AAAAAATCT in the upstream region of many genes regulated by CCA1.\n",
    "\n",
    "The life of a bioinformatician would be easy if regulatory motifs were completely conserved, but the reality is more complex, as regulatory motifs may vary at some positions, e.g., CCA1 may instead bind to AAGAACTCT. But how can we locate these regulatory motifs without knowing what they look like in advance? We need to develop algorithms for motif finding, the problem of discovering a “hidden message” shared by a collection of strings."
   ]
  },
  {
   "cell_type": "markdown",
   "metadata": {},
   "source": [
    "### Motif Enumeration "
   ]
  },
  {
   "cell_type": "markdown",
   "metadata": {},
   "source": [
    "#A brute force algorithm for motif finding\n",
    "\n",
    "Given a collection of strings Dna and an integer d, a k-mer is a (k,d)-motif if it appears in every string from Dna with at most d mismatches. For example, the implanted 15-mer in the strings above represents a (15,4)-motif.\n",
    "\n",
    "Implanted Motif Problem: Find all (k, d)-motifs in a collection of strings.\n",
    "     Input: A collection of strings Dna, and integers k and d.\n",
    "     Output: All (k, d)-motifs in Dna.\n",
    "\n",
    "Brute force (also known as exhaustive search) is a general problem-solving technique that explores all possible solution candidates and checks whether each candidate solves the problem. Such algorithms require little effort to design and are guaranteed to produce a correct solution, but they may take an enormous amount of time, and the number of candidates may be too large to check.\n",
    "\n",
    "A brute force approach for solving the Implanted Motif Problem is based on the observation that any (k, d)-motif must be at most d mismatches apart from some k-mer appearing in one of the strings of Dna. Therefore, we can generate all such k-mers and then check which of them are (k, d)-motifs. If you have forgotten how to generate these k-mers, take a look at CHARGING STATION:Generating the Neighborhood of a String."
   ]
  },
  {
   "cell_type": "code",
   "execution_count": 231,
   "metadata": {
    "collapsed": true
   },
   "outputs": [],
   "source": [
    "def hammingDistance(x,y):\n",
    "    nmm = 0\n",
    "    for i in xrange(len(x)):\n",
    "        if x[i] != y[i]:\n",
    "            nmm += 1\n",
    "    return nmm"
   ]
  },
  {
   "cell_type": "code",
   "execution_count": 2,
   "metadata": {
    "collapsed": true
   },
   "outputs": [],
   "source": [
    "#Approximate matching\n",
    "def approximatePatternMatching(p, t, maxDistance):\n",
    "    \"\"\"Boolean function that returns whether or not pattern appears in text with d mismatches\"\"\"\n",
    "    occurences = False\n",
    "    for i in xrange(len(t) - len(p) + 1): #loop through every position in t where p could start\n",
    "        nmm = 0\n",
    "        match = True\n",
    "        for j in xrange(len(p)): #Loop over characters\n",
    "            if t[i+j] != p[j]: #Compare characters\n",
    "                nmm += 1 #mismatch\n",
    "                if nmm > maxDistance: #exceed max hamming distance\n",
    "                    break\n",
    "        if nmm <= maxDistance:\n",
    "            occurences = True #approximate match\n",
    "            break\n",
    "    return occurences "
   ]
  },
  {
   "cell_type": "code",
   "execution_count": 3,
   "metadata": {
    "collapsed": false
   },
   "outputs": [
    {
     "data": {
      "text/plain": [
       "False"
      ]
     },
     "execution_count": 3,
     "metadata": {},
     "output_type": "execute_result"
    }
   ],
   "source": [
    "p = 'AAAA'\n",
    "t = 'AGCCTGATCGTATGAAT'\n",
    "approximatePatternMatching(p, t, 1)"
   ]
  },
  {
   "cell_type": "code",
   "execution_count": 4,
   "metadata": {
    "collapsed": true
   },
   "outputs": [],
   "source": [
    "def neighbors(pattern, d):\n",
    "    '''Neighbors generates all k-mers of Hamming distance at most d from Pattern.'''\n",
    "    if d == 0:\n",
    "        return {pattern}\n",
    "    if len(pattern) == 0:\n",
    "        return {}\n",
    "    if len(pattern) == 1:\n",
    "        return {'A', 'C', 'G', 'T'}\n",
    "    neighborhood = set()\n",
    "    suffixneighbors = neighbors(pattern[1:], d)\n",
    "    for text in suffixneighbors:\n",
    "        if hammingDistance(text, pattern[1:]) < d:\n",
    "            for nt in ['A', 'C', 'G', 'T']:\n",
    "                neighborhood.add(nt + text)\n",
    "        else:\n",
    "            neighborhood.add(pattern[0] + text)\n",
    "    return neighborhood     "
   ]
  },
  {
   "cell_type": "code",
   "execution_count": 5,
   "metadata": {
    "collapsed": true
   },
   "outputs": [],
   "source": [
    "def occurInAll(dna, pattern, d):\n",
    "    occurence = True\n",
    "    for string in dna:\n",
    "        if approximatePatternMatching(pattern, string, d) == False:\n",
    "            occurence = False\n",
    "            break\n",
    "    return occurence"
   ]
  },
  {
   "cell_type": "code",
   "execution_count": 6,
   "metadata": {
    "collapsed": false
   },
   "outputs": [
    {
     "data": {
      "text/plain": [
       "True"
      ]
     },
     "execution_count": 6,
     "metadata": {},
     "output_type": "execute_result"
    }
   ],
   "source": [
    "dna = ['ATTTGGC', 'TGCCTTA', 'CGGTATC', 'GAAAATT']\n",
    "occurInAll(dna, 'TTT', 1)"
   ]
  },
  {
   "cell_type": "code",
   "execution_count": 11,
   "metadata": {
    "collapsed": false
   },
   "outputs": [],
   "source": [
    "def motifEnumeration(dna, k, d):\n",
    "    '''Input: Integers k and d, followed by a collection of strings dna.\n",
    "       Output: All (k, d)-motifs in dna.'''\n",
    "    patterns = set()\n",
    "    neighborhood = set()\n",
    "    for string in dna:\n",
    "        for i in range(len(string) -k + 1):\n",
    "            pattern = string[i:i+k]\n",
    "            neighborhood = neighbors(pattern,d)\n",
    "            for pattern in neighborhood:\n",
    "                if occurInAll(dna, pattern, d):\n",
    "                    patterns.add(pattern)\n",
    "    return patterns"
   ]
  },
  {
   "cell_type": "code",
   "execution_count": 12,
   "metadata": {
    "collapsed": false
   },
   "outputs": [
    {
     "data": {
      "text/plain": [
       "'ATT TTT GTT ATA'"
      ]
     },
     "execution_count": 12,
     "metadata": {},
     "output_type": "execute_result"
    }
   ],
   "source": [
    "dna = ['ATTTGGC', 'TGCCTTA', 'CGGTATC', 'GAAAATT']\n",
    "x = motifEnumeration(dna, 3, 1)\n",
    "' '.join(str(i) for i in x)"
   ]
  },
  {
   "cell_type": "markdown",
   "metadata": {},
   "source": [
    "### Motif finding problem"
   ]
  },
  {
   "cell_type": "markdown",
   "metadata": {},
   "source": [
    "We can construct the 4 × k count matrix Count(Motifs) counting the number of occurrences of each nucleotide in each column of the motif matrix; the (i, j)-th element of Count(Motifs) stores the number of times that nucleotide i appears in column j of Motifs. We will further divide all of the elements in the count matrix by t, the number of rows in Motifs. This results in a profile matrix P = Profile(Motifs) for which Pi,j is the frequency of the i-th nucleotide in the j-th column of the motif matrix. Note that the elements of any column of the profile matrix sum to 1. The figure below shows the motif, count, and profile matrices for the NF-κB binding sites.\n",
    "\n",
    "Motifs \n",
    "\n",
    "              T   C   G   G   G   G   g   T   T   T   t   t           \n",
    "              c   C   G   G   t   G   A   c   T   T   a   C\n",
    "              a   C   G   G   G   G   A   T   T   T   t   C\n",
    "              T   t   G   G   G   G   A   c   T   T   t   t\n",
    "              a   a   G   G   G   G   A   c   T   T   C   C\n",
    "              T   t   G   G   G   G   A   c   T   T   C   C\n",
    "              T   C   G   G   G   G   A   T   T   c   a   t\n",
    "              T   C   G   G   G   G   A   T   T   c   C   t\n",
    "              T   a   G   G   G   G   A   a   c   T   a   C\n",
    "              T   C   G   G   G   t   A   T   a   a   C   C\n",
    "\n",
    "Score\n",
    "\n",
    "              3 + 4 + 0 + 0 + 1 + 1 + 1 + 5 + 2 + 3 + 6 + 4 = 30     \n",
    "\n",
    "Count \n",
    "\n",
    "         A:   2   2   0   0   0   0   9   1   1   1   3   0          \n",
    "         C:   1   6   0   0   0   0   0   4   1   2   4   6  \n",
    "         G:   0   0  10  10   9   9   1   0   0   0   0   0  \n",
    "         T:   7   2   0   0   1   1   0   5   8   7   3   4  \n",
    "\n",
    "Profile\n",
    "\n",
    "          A:  .2  .2   0   0   0   0  .9  .1  .1  .1  .3   0            \n",
    "          C:  .1  .6   0   0   0   0   0  .4  .1  .2  .4  .6  \n",
    "          G:   0   0   1   1  .9  .9  .1   0   0   0   0   0  \n",
    "          T:  .7  .2   0   0  .1  .1   0  .5  .8  .7  .3  .4  \n",
    "          \n",
    "Consensus        \n",
    " \n",
    "               T   C   G   G   G   G   A   T   T   T   C   C    "
   ]
  },
  {
   "cell_type": "markdown",
   "metadata": {},
   "source": [
    "Entropy is a measure of the uncertainty of a probability distribution ($p_1, …, p_N$), and is defined as follows:\n",
    "\n",
    "<b> Entropy </b> <br />\n",
    "$H_(p_1,…,p_N) = − \\displaystyle\\sum_{i=1}^N p_i log_2 p_i$\n",
    "\n"
   ]
  },
  {
   "cell_type": "markdown",
   "metadata": {},
   "source": [
    "The entropy of the completely conserved third column is 0, which is the minimum possible entropy. On the other hand, a column with equally-likely nucleotides (all probabilities equal to 1/4) has maximum possible entropy −4 · 1/4 · log2(1/4) = 2. In general, the more conserved the column, the smaller its entropy. Thus, entropy offers an improved method of scoring motif matrices: the entropy of a motif matrix is defined as the sum of the entropies of its columns. In this book, we will continue to use Score(Motifs) for simplicity, but the entropy score is used more often in practice."
   ]
  },
  {
   "cell_type": "markdown",
   "metadata": {},
   "source": [
    "Now that we have a good grasp of scoring a collection of k-mers, we are ready to formulate the Motif Finding Problem.\n",
    "\n",
    "Motif Finding Problem: Given a collection of strings, find a set of k-mers, one from each string, that minimizes the score of the resulting motif.\n",
    "     Input: A collection of strings Dna and an integer k.\n",
    "     Output: A collection Motifs of k-mers, one from each string in Dna, minimizing Score(Motifs) among\n",
    "     all possible choices of k-mers.\n",
    "\n",
    "A brute force algorithm for the Motif Finding Problem (referred to as BRUTEFORCEMOTIFSEARCH) considers every possible choice of k-mers Motifs from Dna (one k-mer from each string of n nucleotides) and returns the collection Motifs having minimum score. Because there are n - k + 1 choices of k-mers in each of t sequences, there are (n - k + 1)^t different ways to form Motifs. For each choice of Motifs, the algorithm calculates Score(Motifs), which requires k · t steps. Thus, assuming that k is smaller than n, the overall running time of the algorithm is O(nt · k · t). We need to come up with a faster algorithm!"
   ]
  },
  {
   "cell_type": "code",
   "execution_count": 232,
   "metadata": {
    "collapsed": true
   },
   "outputs": [],
   "source": [
    "def distanceBetwnPatternAndStrings(pattern, dna):\n",
    "    \"\"\"  Input: A string Pattern followed by a collection of strings Dna.\n",
    "     Output: d(Pattern, Dna).\"\"\"\n",
    "    k = len(pattern)\n",
    "    dist = 0\n",
    "    for string in dna:\n",
    "        hammingDist = float('Inf')\n",
    "        for i in range(len(string) -k + 1):\n",
    "            kmer = string[i:i+k]\n",
    "            hDist = hammingDistance(pattern, kmer)\n",
    "            if hammingDist > hDist:\n",
    "                hammingDist = hDist\n",
    "        dist += hammingDist\n",
    "    return dist"
   ]
  },
  {
   "cell_type": "code",
   "execution_count": 16,
   "metadata": {
    "collapsed": false
   },
   "outputs": [
    {
     "data": {
      "text/plain": [
       "5"
      ]
     },
     "execution_count": 16,
     "metadata": {},
     "output_type": "execute_result"
    }
   ],
   "source": [
    "dna = ['TTACCTTAAC', 'GATATCTGTC', 'ACGGCGTTCG', 'CCCTAAAGAG', 'CGTCAGAGGT']\n",
    "distanceBetwnPatternAndStrings('AAA', dna)"
   ]
  },
  {
   "cell_type": "code",
   "execution_count": 17,
   "metadata": {
    "collapsed": false
   },
   "outputs": [],
   "source": [
    "def readFile(filename):\n",
    "    f = open(filename)\n",
    "    for line in f:\n",
    "        line = line.rstrip()\n",
    "        string = line.split()\n",
    "    return string"
   ]
  },
  {
   "cell_type": "code",
   "execution_count": 76,
   "metadata": {
    "collapsed": false
   },
   "outputs": [
    {
     "data": {
      "text/plain": [
       "['GCCCCGACGTCGGTATGCTTGCGATTGGCCCGCCTGCGAGTCAAGGTGAAGTCTAGACAACATATATCGCGACAGGCTGGATCAGTGCAGACCTCAGGTGACCCCCGT',\n",
       " 'AGCGTAAGGAACTATGTCGCCTAAGAGGCGTCTGGTTGACCTGACTACTATAGGATGTATAACCGCCATACGAGTAAGATTACCCAGAGATCCATATCTGATTGCATC',\n",
       " 'AACCCTGGCTTCGTGCCGCCGACTTCCTCAATGGTGGAGGAATCAAGATATCAGTTTCCATTGATGATTGCTGTCACGGCCATCTCTGTGGTAGTGGACTAGCCACTC',\n",
       " 'GTATGGAAGCTAGCGCCTCTTATAAACGATAAACTAAACATATAAGATCAGCCCCGGTTACAATAACGTAATATGGGTCGACCTTCAAGAACTGATACGGTCCGATGA',\n",
       " 'GCTGCGACATCCTAATACCCCTTCGCCGCGAGTGGACTCCAAAAGCGCAGTAGAGACAGTCTTAAGGTCACGACTTCTCCTTATCGCGTGCAAAGCCACCCGATAACA',\n",
       " 'TTCATTAACGGCCTTGATGAAAGTTCATGATTGTCGAATTGGCTTGCTCAGCTAATTATGGGCCGAGCGCCGGGCACCCACCGCAGATGGGGAATCTGGGTGCAGCTC',\n",
       " 'GGGAACGTCGTAACCGGTAGTATTGTGTCGTACCACAGCCCTTATCAGAAAGGGAAGCCTCTGAATGAAGGCACCACGGAGTGCTTCGACTCACACCCGGACCCAAAT',\n",
       " 'AGTCTGTGTGGACATGAGATCAACTGTGCAATGACGCACACCGGTGAGTGAAATGCATTTACTTTGGAAGGAATAACAGGAAGTTGCTAGCCTGTGTGAGATAAAAGA',\n",
       " 'GTGCGTCATTCTCGACTGCGATGAGAGTGTCTCTGCTATAAACACCTGACAGCATTTTCACCTCGGCTTGCCGGATGTGAATAAAGGGGAGGTTTCGCCTTCGGTTTG',\n",
       " 'GCTTCAGCTGCATGATGGTCTAGAAAACATAGTTGAGTGCGTTGTCGCACAGAGATTATATGTGCTGATTGCGTTATACTATCGCCCTAGGGGGTTTGAATCGGCTAT',\n",
       " 'ATGGTCGAAGGAAGTGTATGGGCCGACCTTCCACGCTCTCGAACCTATACAAAACGATGCGTAAGTCCGGGCCGTCACCGCTTTCTGCTAGGATGATCTACTAGTACC',\n",
       " 'CCTTGTTCCTCCACGGGAAATCGAAGAGGCGTACATTCACGCTCTTTCACGCAAAACTCGTTGATTCTGATATGCCATAGGGGGTACTCTAGCTGATGAATCACCAAG',\n",
       " 'TGGTTTTACTATATTTCATATCCGATGGGTTTCTCGCTTCAGGTCCCTGCATGGGCGCCCCAGTTCCCTTGCGTGTGCTCAAAGGATCTGTGTCATAGTCTGCAAGTA',\n",
       " 'AAACCTGTGAAATTGTACGAAGAGGGCCCTGATAAGTGGCAATCGGCTAGCAAAAGAAATGGGATCCCTACCTATCTAAGTGAAACGCGCCTCGTGTCAGGACTTCAT',\n",
       " 'TTGCCGTCCCCAGAATCTGGATCCTCCAGTAACGCGTATCTGTCTGTTCGCTGTGATAAGATGCCCCATGTGCAGTATGCTATAAATCTTCCTCATAGGTAGGGGTCA',\n",
       " 'GCCCCCCGGCCGACACTGTCCTATCGAGAGAGAGAGCGCATATGAGGGCTTACCATCGTCCGTGGTTAAATTGCTATGGCTTGCTCCAAGCCGTTCCAGGTAGATGCG',\n",
       " 'CCTACTGCAGTAGTTACCTTAACTCACGTCGCGTAACCTAAAGCAGGTTACCAATTACGTATTAAAGACGGTCCCCCCGTGGGGGAGGTTCTTATCGGATTGTTCACT',\n",
       " 'CCGGTAAAGACAAAAAAGCGTAATTATCTGTAGAGCCCCCGTGCCGAGAGGCGCTTCTTATGCTTGAATTTCGGCCGGCCCCTAGAGTCGCCGAGTAGTCTCGGCGAC',\n",
       " 'CACAAGTGGCTGTGTATCCTGGCCCTATGGTGGAACTAGAAATGGCGAACGTCATGACGGCAGTAAATTCTGCGTCTCAGATACTTCAATTAATCAATAGAGGAGTGG',\n",
       " 'GTTGCATAATTTCTTTCCTAAGTAATGACCGCGATACTCTGAAAAATCTCATATCGGTGATGCGGCGGCATGGCCCACGGTGCGCGCCTCCTAGTTTGAGCTTGTAGA',\n",
       " 'CCTTGTGCGTCTTGGAACGGTTGGTGATGGCTACTCAAAACAACTCACAATAGAAATTTGCTCTGTTCCACCGCGACGCCTTGGCTCTGAACCATCCGCTTACATGAC',\n",
       " 'GTGGGGCCTATATTGTTTCATTCTTCACCAATTGCGAACCGATACTTGGTCGGAGCTCCTCATAAGTCTGTTTTCAGAGCTGGTCGCCCCTCTCGAAGTGCACTAGCA',\n",
       " 'TCCGCCCATCTGCGATAGGTGGTCCAGAAACAATGATGGACGTATTCATTGCTGGTATCAAATAACGGCTGTTATCTTGCCAGGATGCTAGCCTACAGCCGCGCTTAG',\n",
       " 'GCAATCCGTCGCTTTCATAGCAAATCTGCATGTCATAAATTCTATATATACTAACACGGAGATGCAGCTGTGCACGGTGAGGCGTTTGTGTTCTTTCCTCCCAGTTCG',\n",
       " 'GGAATAAGGTCGTCGCTGCGGTTTACTATTCCGAACATCCGCGACGATCAAGGCATCGCAAGCTAGACCTATGCACGTTGGGTAAGATAGCCGGTGGTGAACGAGGCT',\n",
       " 'AAATAATGAGTAGAGACGAGCAACACTGTTGCTTTAAGACGCCAAATCAGTTTGCAAGGCGTAAGATATCAAGAGAGAAGGCTCCACCCGCCACCCCGAAGGACACAT',\n",
       " 'GTCAGACATCAACCGTACCGCGGCCTTTAACCGGTTTCAATCCTTGAGGGGGCTAGGTCCATGCCCGGTAATACCCACATGCGTTCCTGCGCCTGTGGTCGGGGGCAG',\n",
       " 'TTGATACGGCTGGGATGCGGTTACATGTCACATTGCTGAACGGACAGCAGGGATAAGGGAACAACCCAGACCCGGGGGCGTCATCCCCCGAGTTTCGGTGGAAGACTG',\n",
       " 'TGTGGTGAAGTACGATGCGTCATTGTACGTAAAGGCGAGCAGAACTTCCCGTAATGACCTTCTCGATTAGTAGGGACGAAGTCACACGGGGGCATGTGCTAGTGAGCT',\n",
       " 'AAGCAATCAAAGTTGTGGGTGACCCCAGATAGCGGTCCGTTATTGAGCGCAATGTTAACAGATCCACAGTGAGGAAGGGTTCGCTTCTCTTTGGGGAAGGTATATTGG',\n",
       " 'AATTATGGTCGCTTCACCAGTCGCAAATCCCACTTCCATCCATTCAAGACTTTACCAGCCCGCACACTCTCCAGTGAAATCTACAATGCTAGCCCTTAAAACTTACAA']"
      ]
     },
     "execution_count": 76,
     "metadata": {},
     "output_type": "execute_result"
    }
   ],
   "source": [
    "dna = readFile('dist.txt')\n",
    "dna"
   ]
  },
  {
   "cell_type": "code",
   "execution_count": 48,
   "metadata": {
    "collapsed": false
   },
   "outputs": [
    {
     "data": {
      "text/plain": [
       "68"
      ]
     },
     "execution_count": 48,
     "metadata": {},
     "output_type": "execute_result"
    }
   ],
   "source": [
    "distanceBetwnPatternAndStrings('GGCTTAG', dna)"
   ]
  },
  {
   "cell_type": "code",
   "execution_count": 21,
   "metadata": {
    "collapsed": true
   },
   "outputs": [],
   "source": [
    "def patternToNumber(Pattern):\n",
    "    symbolToNumber = {'A':0, 'C':1, 'G':2, 'T':3}\n",
    "    n = len(Pattern)\n",
    "    if n == 0:\n",
    "        return 0\n",
    "    elif n == 1:\n",
    "        return symbolToNumber[Pattern]\n",
    "    else:\n",
    "        return 4*patternToNumber(Pattern[:-1]) + symbolToNumber[Pattern[-1]]"
   ]
  },
  {
   "cell_type": "code",
   "execution_count": 235,
   "metadata": {
    "collapsed": true
   },
   "outputs": [],
   "source": [
    "def numberToPattern (number, length):\n",
    "    letter_value = {0: 'A', 1: 'C', 2: 'G', 3: 'T'}\n",
    "    sequence = ''\n",
    "    for i in range(length):\n",
    "        ## take the remainder after dividing by 4, convert it to a base and prepend to sequence\n",
    "        sequence = letter_value[number % 4] + sequence\n",
    "        ## now do a floor division to get ready for the next base\n",
    "        number = number // 4\n",
    "    return sequence"
   ]
  },
  {
   "cell_type": "code",
   "execution_count": 240,
   "metadata": {
    "collapsed": true
   },
   "outputs": [],
   "source": [
    "def medianString(dna, k):\n",
    "    \"\"\" Input: An integer k, followed by a collection of strings Dna.\n",
    "     Output: A k-mer Pattern that minimizes d(Pattern, Dna) among all k-mers Pattern. (If there are\n",
    "     multiple such strings Pattern, then you may return any one.)\"\"\"\n",
    "    \n",
    "    dist = float('Inf')\n",
    "    median = None\n",
    "    for i in range(4**k):\n",
    "        pattern = numberToPattern(i,k)\n",
    "        distance = distanceBetwnPatternAndStrings(pattern, dna)\n",
    "        if dist > distance:\n",
    "            dist = distance\n",
    "            median = pattern\n",
    "    return median"
   ]
  },
  {
   "cell_type": "code",
   "execution_count": 237,
   "metadata": {
    "collapsed": false
   },
   "outputs": [
    {
     "data": {
      "text/plain": [
       "'GAC'"
      ]
     },
     "execution_count": 237,
     "metadata": {},
     "output_type": "execute_result"
    }
   ],
   "source": [
    "dna = ['AAATTGACGCAT', 'GACGACCACGTT', 'CGTCAGCGCCTG', 'GCTGAGCACCGG', 'AGTTCGGGACAG']\n",
    "medianString(dna, 3)"
   ]
  },
  {
   "cell_type": "code",
   "execution_count": 25,
   "metadata": {
    "collapsed": false
   },
   "outputs": [
    {
     "data": {
      "text/plain": [
       "['TGCTCAATGCGCGGGCTTTGTAAGCTAGGAATCAATAGCTCG',\n",
       " 'AGCACGGATCTTGGAAAGACGTAAGCTTCGTCTGATGTGCTT',\n",
       " 'GACATCTCGGCTGCGCTTCGACCACCGTGCTGAAAGCCCACC',\n",
       " 'CCATAACTACTAGTAGAATCCTCTTGAGAATCAGGTGCGCTT',\n",
       " 'AAAGAAGCGCTTTGTGAATCACCTGATTGAAAACGACTGACG',\n",
       " 'GCCGAAAGAGTTATTGAGTTCGAAACTGGCGGGCTTTCATAA',\n",
       " 'TATGATACCAGCGGGCCCCGAGTTGGTTGCGAGCTTTTGCTA',\n",
       " 'GTACCCGATAGAAGCAGAGTACCAACTCCATGCGGCGCGCTT',\n",
       " 'ATTACTAAACCAGACGTTTCTTGCGGAAAGGGGCTTGTGTGA',\n",
       " 'CCTGCGGATTGGGGGCTTCCCTAAAATTTCAACGAAACTGCA']"
      ]
     },
     "execution_count": 25,
     "metadata": {},
     "output_type": "execute_result"
    }
   ],
   "source": [
    "dna = [line.strip() for line in open('rosalind_ba2b.txt', 'r')]\n",
    "dna"
   ]
  },
  {
   "cell_type": "code",
   "execution_count": 26,
   "metadata": {
    "collapsed": false
   },
   "outputs": [
    {
     "data": {
      "text/plain": [
       "'GCGCTT'"
      ]
     },
     "execution_count": 26,
     "metadata": {},
     "output_type": "execute_result"
    }
   ],
   "source": [
    "medianString(dna, 6)"
   ]
  },
  {
   "cell_type": "code",
   "execution_count": 79,
   "metadata": {
    "collapsed": false
   },
   "outputs": [
    {
     "data": {
      "text/plain": [
       "['ATACATGAGAGAATGCTGCGTTTTGCTAAAGCTCAATCGTAA',\n",
       " 'GAATGGGCTAACCACACTATGATGTTGACGTCTTGGACCATT',\n",
       " 'CAATGCCGCGCCGGGAAGTTATAGATTCGTATGCTGCAAGTC',\n",
       " 'ATGATGGTCCAATAGGTCCCGTTCGACAAAGATCAGCATGCC',\n",
       " 'ATGATGCAACCATCGTCTCTACAGGACCGGAACCTAATAACT',\n",
       " 'GTGTAAATGGTGACCTTCATATAATACTTGGCAAGGCACCAA',\n",
       " 'GGAAAAAGAAACACGATAATGTTGGACCAACTGCCCGTTGAG',\n",
       " 'ATGTTGAATACTAACTGATAGTTCCCGTCCCTATAGTCTTAT',\n",
       " 'GCAGGGGTCGCATGCTTTACTCATCGAGTATAAAGAATGATG',\n",
       " 'TAGGTCGCCGGCATGTTTTTCCAGATGCTGCTGAAAACCCCT']"
      ]
     },
     "execution_count": 79,
     "metadata": {},
     "output_type": "execute_result"
    }
   ],
   "source": [
    "dna = [line.strip() for line in open('median_string.txt', 'r')]\n",
    "dna"
   ]
  },
  {
   "cell_type": "code",
   "execution_count": 80,
   "metadata": {
    "collapsed": false
   },
   "outputs": [
    {
     "data": {
      "text/plain": [
       "'ATGATG'"
      ]
     },
     "execution_count": 80,
     "metadata": {},
     "output_type": "execute_result"
    }
   ],
   "source": [
    "medianString(dna, 6)"
   ]
  },
  {
   "cell_type": "code",
   "execution_count": 242,
   "metadata": {
    "collapsed": false
   },
   "outputs": [
    {
     "data": {
      "text/plain": [
       "['AAAAAAA',\n",
       " 'AAAAAAC',\n",
       " 'AAAAAAG',\n",
       " 'AAAAACC',\n",
       " 'AAAACCA',\n",
       " 'AAACACC',\n",
       " 'AAACCAC',\n",
       " 'AAATCCT',\n",
       " 'AACCACC',\n",
       " 'AATCCTA']"
      ]
     },
     "execution_count": 242,
     "metadata": {},
     "output_type": "execute_result"
    }
   ],
   "source": [
    "dna = ['CTCGATGAGTAGGAAAGTAGTTTCACTGGGCGAACCACCCCGGCGCTAATCCTAGTGCCC',\n",
    "'GCAATCCTACCCGAGGCCACATATCAGTAGGAACTAGAACCACCACGGGTGGCTAGTTTC',\n",
    "'GGTGTTGAACCACGGGGTTAGTTTCATCTATTGTAGGAATCGGCTTCAAATCCTACACAG']\n",
    "medianString(dna, 7)"
   ]
  },
  {
   "cell_type": "markdown",
   "metadata": {},
   "source": [
    "Why have we reformulated the Motif Finding Problem?\n",
    "\n",
    "To see why we reformulated the Motif Finding Problem as the equivalent Median String Problem, consider the runtime of MEDIANSTRING and BRUTEFORCEMOTIFSEARCH. The former algorithm computes d(Pattern, Dna) for each of the 4k k-mers Pattern. Each computation of d(Pattern, Dna) requires a single pass over each string in Dna, which requires approximately k · n · t operations for t strings of length n in Dna. Therefore, MEDIANSTRING has a running time of $O(4^k · n · k · t)$, which in practice compares favorably with the $O(n^t · k · t)$ running time of BRUTEFORCEMOTIFSEARCH because the length of a motif (k) typically does not exceed 20 nucleotides, whereas t is measured in the thousands.\n",
    "\n",
    "The Median String Problem teaches an important lesson, which is that sometimes rethinking how a problem is formulated can lead to dramatic improvements in the runtime required to solve it. In this case, our simple observation that Score(Motifs) could just as easily be computed row-by-row as column-by-column produced the faster MEDIANSTRING algorithm.\n",
    "\n",
    "Of course, the ultimate test of a bioinformatics algorithm is how it performs in practice. Unfortunately, since MEDIANSTRING has to consider 4k k-mers, it becomes too slow for the Subtle Motif Problem, for which k = 15. We will run MEDIANSTRING with k = 13 in the hope that it will capture a substring of the correct 15-mer motif. The algorithm still requires half a day to run on our computer and returns the median string AAAAAtAGaGGGG (with distance 29). This 13-mer is not a substring of the implanted pattern AAAAAAAAGGGGGGG. but it does come close.\n",
    "\n",
    "STOP and Think: How can a slightly incorrect median string of length 13 help us find the correct median string of length 15?\n",
    "\n",
    "We have thus far assumed that the value of k is known in advance, which is not the case in practice. As a result, we are forced to run our motif finding algorithms for different values of k and then try to deduce the correct motif length. Since some regulatory motifs are rather long — later in the chapter, we will search for a biologically important motif of length 20 — MEDIANSTRING may be too slow to find them."
   ]
  },
  {
   "cell_type": "markdown",
   "metadata": {},
   "source": [
    "### Greedy motif search"
   ]
  },
  {
   "cell_type": "code",
   "execution_count": 3,
   "metadata": {
    "collapsed": true
   },
   "outputs": [],
   "source": [
    "def profileMostProbablekmer(text, k , matrix):\n",
    "    '''Input: A string Text, an integer k, and a 4 × k matrix Profile.\n",
    "     Output: A Profile-most probable k-mer in Text.'''\n",
    "    maxp = None\n",
    "    probablekmer = None\n",
    "    for i in range(len(text)-k+1):\n",
    "        kmer = text[i:i+k]\n",
    "        pt = 1\n",
    "        for j in range(k):\n",
    "            p = matrix[kmer[j]][j]\n",
    "            pt *=p\n",
    "        if maxp == None or pt > maxp:\n",
    "            maxp = pt\n",
    "            probablekmer = kmer\n",
    "    return probablekmer"
   ]
  },
  {
   "cell_type": "code",
   "execution_count": 101,
   "metadata": {
    "collapsed": false
   },
   "outputs": [
    {
     "data": {
      "text/plain": [
       "'CCGAG'"
      ]
     },
     "execution_count": 101,
     "metadata": {},
     "output_type": "execute_result"
    }
   ],
   "source": [
    "matrix = {'A':[0.2,0.2,0.3,0.2,0.3], 'C':[0.4,0.3,0.1,0.5,0.1], 'G':[0.3,0.3,0.5,0.2,0.4], 'T':[0.1,0.2,0.1,0.1,0.2]}\n",
    "text = 'ACCTGTTTATTGCCTAAGTTCCGAACAAACCCAATATAGCCCGAGGGCCT'\n",
    "k =  5\n",
    "profileMostProbablekmer(text, k , matrix)"
   ]
  },
  {
   "cell_type": "code",
   "execution_count": 248,
   "metadata": {
    "collapsed": false
   },
   "outputs": [
    {
     "data": {
      "text/plain": [
       "'AAGCAGAGTTTA'"
      ]
     },
     "execution_count": 248,
     "metadata": {},
     "output_type": "execute_result"
    }
   ],
   "source": [
    "matrix = {'A':[0.2,0.3,0.4,0.5,0.6,0.7,0.8,0.1,0.2,0.3,0.4,0.5], 'C':[0.3,0.2,0.1,0.1,0.2,0.1,0.1,0.4,0.3,0.2,0.2,0.1], 'G':[0.2,0.1,0.4,0.3,0.1,0.1,0.1,0.3,0.1,0.1,0.2,0.1], 'T':[0.3,0.4,0.1,0.1,0.1,0.1,0.0,0.2,0.4,0.4,0.2,0.3]}\n",
    "text = 'TTACCATGGGACCGCTGACTGATTTCTGGCGTCAGCGTGATGCTGGTGTGGATGACATTCCGGTGCGCTTTGTAAGCAGAGTTTA'\n",
    "k =  12\n",
    "profileMostProbablekmer(text, k , matrix)"
   ]
  },
  {
   "cell_type": "code",
   "execution_count": 28,
   "metadata": {
    "collapsed": false
   },
   "outputs": [
    {
     "data": {
      "text/plain": [
       "'GATTATGG'"
      ]
     },
     "execution_count": 28,
     "metadata": {},
     "output_type": "execute_result"
    }
   ],
   "source": [
    "matrix = {'A':(0.28, 0.36, 0.12, 0.24, 0.32, 0.2, 0.32, 0.28), \n",
    "          'C':(0.24, 0.24, 0.32, 0.2, 0.24, 0.16, 0.32, 0.24), \n",
    "          'G':(0.28, 0.24, 0.12, 0.2, 0.16, 0.36, 0.24, 0.32), \n",
    "          'T':(0.2, 0.16, 0.44, 0.36, 0.28, 0.28, 0.12, 0.16)}\n",
    "text = 'CGGCGTGCCGTAAGTATCCCCTGGTCGATTATGGAGGATACTTAAAAAGCCCAATCTTTCTATCGAGGGGTTTATGCGCAGCGCTGTCTTAGGGGCGCGTATAGAGTGGTAAGTAGTAACCTTTGGTGGGGACGAATAATTTGTTTAAAGCATGTATGAACATCAGGCAAATCGGAGAGCTGCGCGGCGCTGGGTAAAGG'\n",
    "k =  8\n",
    "profileMostProbablekmer(text, k , matrix)"
   ]
  },
  {
   "cell_type": "markdown",
   "metadata": {},
   "source": [
    "motifs = ['GGC', 'TTC', 'AAG', 'CTC']\n",
    "x = []\n",
    "for i in range(len(motifs[0])):\n",
    "    y = ''\n",
    "    for j in range(len(motifs)):\n",
    "        y += motifs[j][i]\n",
    "    x.append(y)\n",
    "print x"
   ]
  },
  {
   "cell_type": "markdown",
   "metadata": {},
   "source": [
    "motifs = ['GCG','AAG','AAG','ACG','CAA']\n",
    "z = zip(*motifs)\n",
    "z"
   ]
  },
  {
   "cell_type": "markdown",
   "metadata": {},
   "source": [
    "motifs = ['GGC', 'TTC', 'AAG', 'CTC']\n",
    "z = zip(*motifs)\n",
    "print z\n",
    "#z = ['GTAC', 'GTAT', 'CCGC']\n",
    "d = {}\n",
    "n = float(len(motifs))\n",
    "print n\n",
    "for i in range(len(z)):\n",
    "    d.setdefault('A', []).append(z[i].count('A')/n)\n",
    "    d.setdefault('C', []).append(z[i].count('C')/n)\n",
    "    d.setdefault('G', []).append(z[i].count('G')/n)\n",
    "    d.setdefault('T', []).append(z[i].count('T')/n)\n",
    "print d "
   ]
  },
  {
   "cell_type": "code",
   "execution_count": 243,
   "metadata": {
    "collapsed": true
   },
   "outputs": [],
   "source": [
    "def motifsToProfile(motifs):\n",
    "    '''Given a list of motifs, the functions converts it into dictionary containing frequency profile of each nucleotide.'''\n",
    "    z = zip(*motifs)\n",
    "    d = {}\n",
    "    n = float(len(motifs))\n",
    "    for i in range(len(z)):\n",
    "        d.setdefault('A', []).append(z[i].count('A')/n)\n",
    "        d.setdefault('C', []).append(z[i].count('C')/n)\n",
    "        d.setdefault('G', []).append(z[i].count('G')/n)\n",
    "        d.setdefault('T', []).append(z[i].count('T')/n)\n",
    "    return d"
   ]
  },
  {
   "cell_type": "code",
   "execution_count": 245,
   "metadata": {
    "collapsed": false
   },
   "outputs": [
    {
     "data": {
      "text/plain": [
       "{'A': [0.25, 0.0, 0.25],\n",
       " 'C': [0.25, 0.5, 0.5],\n",
       " 'G': [0.5, 0.0, 0.0],\n",
       " 'T': [0.0, 0.5, 0.25]}"
      ]
     },
     "execution_count": 245,
     "metadata": {},
     "output_type": "execute_result"
    }
   ],
   "source": [
    "motifs = ['GTC', 'CCC', 'ATA', 'GCT']\n",
    "motifsToProfile(motifs)"
   ]
  },
  {
   "cell_type": "markdown",
   "metadata": {},
   "source": [
    "def scoreMotifs(motifs):\n",
    "    '''This function computes the score of list of motifs'''\n",
    "    z = []\n",
    "    for i in range(len(motifs[0])):\n",
    "        y = ''\n",
    "        for j in range(len(motifs)):\n",
    "            y += motifs[j][i]\n",
    "        z.append(y)\n",
    "    totalscore = 0\n",
    "    for string in z:\n",
    "        score = len(string)-max([string.count('A'),string.count('C'), string.count('G'), string.count('T')])\n",
    "        totalscore += score\n",
    "    return totalscore  "
   ]
  },
  {
   "cell_type": "code",
   "execution_count": 6,
   "metadata": {
    "collapsed": true
   },
   "outputs": [],
   "source": [
    "def scoreMotifs(motifs):\n",
    "    '''This function computes the score of list of motifs'''\n",
    "    z = zip(*motifs)\n",
    "    totalscore = 0\n",
    "    for string in z:\n",
    "        score = len(string)-max([string.count('A'),string.count('C'), string.count('G'), string.count('T')])\n",
    "        totalscore += score\n",
    "    return totalscore "
   ]
  },
  {
   "cell_type": "code",
   "execution_count": 118,
   "metadata": {
    "collapsed": false
   },
   "outputs": [
    {
     "data": {
      "text/plain": [
       "5"
      ]
     },
     "execution_count": 118,
     "metadata": {},
     "output_type": "execute_result"
    }
   ],
   "source": [
    "motifs = ['GCG','AAG','AAG','ACG','CAA']\n",
    "scoreMotifs(motifs)"
   ]
  },
  {
   "cell_type": "code",
   "execution_count": 34,
   "metadata": {
    "collapsed": true
   },
   "outputs": [],
   "source": [
    "def greedyMotifSearch(dna, k, t):\n",
    "    '''Input: Integers k and t, followed by a collection of strings Dna.\n",
    "    Output: A collection of strings BestMotifs resulting from applying GREEDYMOTIFSEARCH(Dna,k,t).\n",
    "    If at any step you find more than one Profile-most probable k-mer in a given string, use the\n",
    "    one occurring first.'''\n",
    "    bestMotifs = [i[:k] for i in dna]\n",
    "    for i in range(len(dna[0])-k+1):\n",
    "        motifs = [dna[0][i:i+k]]\n",
    "        for j in range(1,t):\n",
    "            profile = motifsToProfile(motifs)\n",
    "            kmer = profileMostProbablekmer(dna[j], k , profile)\n",
    "            motifs.append(kmer)\n",
    "        if scoreMotifs(motifs) < scoreMotifs(bestMotifs):\n",
    "            bestMotifs = motifs\n",
    "    return bestMotifs"
   ]
  },
  {
   "cell_type": "code",
   "execution_count": 120,
   "metadata": {
    "collapsed": false
   },
   "outputs": [
    {
     "data": {
      "text/plain": [
       "['CAG', 'CAG', 'CAA', 'CAA', 'CAA']"
      ]
     },
     "execution_count": 120,
     "metadata": {},
     "output_type": "execute_result"
    }
   ],
   "source": [
    "dna = ['GGCGTTCAGGCA','AAGAATCAGTCA','CAAGGAGTTCGC','CACGTCAATCAC','CAATAATATTCG']\n",
    "greedyMotifSearch(dna, 3, 5)"
   ]
  },
  {
   "cell_type": "code",
   "execution_count": 35,
   "metadata": {
    "collapsed": false
   },
   "outputs": [
    {
     "data": {
      "text/plain": [
       "'AGCAAATAGAGG CCAAAGATGGGC GGCCGACCTACC TAAGCGTCGTGA AGTCAGTGGGGC TGAGAGAGTGGC CGTGCATCTTGG CGTGCATCGTGG TGTGGATGTTCC GGAGCGTTTGGC TGTGCATGTTCA CGACGACTTTGC AATCCATATAGC TTCCTGCCAATC CATGAACATAGC GATGCATCTACA TGCGAATGTAGC GGTGCATGTTTA TACCCGTTTAGC AGTGCATGGTTC TGTGCGACTGCC TGTGCATCTTTG TGCGCGAGGGGG AGTGCATGATGA GGTGCATCATTA'"
      ]
     },
     "execution_count": 35,
     "metadata": {},
     "output_type": "execute_result"
    }
   ],
   "source": [
    "dna = [line.strip() for line in open('rosalind_ba2d.txt', 'r')]\n",
    "x = greedyMotifSearch(dna, 12, 25)\n",
    "' '.join(str(i) for i in x)"
   ]
  },
  {
   "cell_type": "code",
   "execution_count": 179,
   "metadata": {
    "collapsed": false
   },
   "outputs": [
    {
     "data": {
      "text/plain": [
       "'TAACTTTCGACG ACGGTAAGTCAA CCGACCTCGATA CCCGGTGACCCG TCGCCTTCGCAG TCGGCAGATAAG AAGGCATCTAAG TAACCTTCGCAG GGTAAGTCATAC AAAGTTTCTTCG TAACCTTCGAAG CAGGTTTCAAAA CGGCCTTCGAAG TACCATTCGAAC TAGCTGTCACTG TCGCATTCGTCC TAGCACGCTAAG CCGACTTAGTAA GCGCCTTCGTAC TCAACAGCATAG TAGGCATATATG TGGACTTACTAA TCGAAATGGCCG ACGGTTGCTTAC TCGAATTCCTCA'"
      ]
     },
     "execution_count": 179,
     "metadata": {},
     "output_type": "execute_result"
    }
   ],
   "source": [
    "dna = [line.strip() for line in open('greedyMotif.txt', 'r')]\n",
    "x = greedyMotifSearch(dna, 12, 25)\n",
    "' '.join(str(i) for i in x)"
   ]
  },
  {
   "cell_type": "code",
   "execution_count": 7,
   "metadata": {
    "collapsed": true
   },
   "outputs": [],
   "source": [
    "def motifsToProfileLaplace(motifs):\n",
    "    '''Given a list of motifs, the functions converts it into dictionary containing frequency profile of each nucleotide.'''\n",
    "    z = zip(*motifs)\n",
    "    d = {}\n",
    "    n = float(len(motifs))\n",
    "    for i in range(len(z)):\n",
    "        d.setdefault('A', []).append((z[i].count('A')+1)/(2*n))\n",
    "        d.setdefault('C', []).append((z[i].count('C')+1)/(2*n))\n",
    "        d.setdefault('G', []).append((z[i].count('G')+1)/(2*n))\n",
    "        d.setdefault('T', []).append((z[i].count('T')+1)/(2*n))\n",
    "    return d"
   ]
  },
  {
   "cell_type": "code",
   "execution_count": 247,
   "metadata": {
    "collapsed": false
   },
   "outputs": [
    {
     "data": {
      "text/plain": [
       "{'A': [0.25, 0.125, 0.25],\n",
       " 'C': [0.25, 0.375, 0.375],\n",
       " 'G': [0.375, 0.125, 0.125],\n",
       " 'T': [0.125, 0.375, 0.25]}"
      ]
     },
     "execution_count": 247,
     "metadata": {},
     "output_type": "execute_result"
    }
   ],
   "source": [
    "motifs = ['GTC', 'CCC', 'ATA', 'GCT']\n",
    "motifsToProfileLaplace(motifs)"
   ]
  },
  {
   "cell_type": "code",
   "execution_count": 123,
   "metadata": {
    "collapsed": true
   },
   "outputs": [],
   "source": [
    "def greedyMotifSearchUsingLaplace(dna, k, t):\n",
    "    '''Input: Integers k and t, followed by a collection of strings Dna.\n",
    "     Output: A collection of strings BestMotifs resulting from applying GREEDYMOTIFSEARCH(Dna,k,t) with\n",
    "     pseudocounts. If at any step you find more than one Profile-most probable k-mer in a given string,\n",
    "     use the one occurring first.'''\n",
    "    bestMotifs = [i[:k] for i in dna]\n",
    "    for i in range(len(dna[0])-k+1):\n",
    "        motifs = [dna[0][i:i+k]]\n",
    "        for j in range(1,t):\n",
    "            profile = motifsToProfileLaplace(motifs)\n",
    "            kmer = profileMostProbablekmer(dna[j], k , profile)\n",
    "            motifs.append(kmer)\n",
    "        if scoreMotifs(motifs) < scoreMotifs(bestMotifs):\n",
    "            bestMotifs = motifs\n",
    "    return bestMotifs"
   ]
  },
  {
   "cell_type": "code",
   "execution_count": 124,
   "metadata": {
    "collapsed": false
   },
   "outputs": [
    {
     "data": {
      "text/plain": [
       "['TTC', 'ATC', 'TTC', 'ATC', 'TTC']"
      ]
     },
     "execution_count": 124,
     "metadata": {},
     "output_type": "execute_result"
    }
   ],
   "source": [
    "dna = ['GGCGTTCAGGCA','AAGAATCAGTCA','CAAGGAGTTCGC','CACGTCAATCAC','CAATAATATTCG']\n",
    "greedyMotifSearchUsingLaplace(dna, 3, 5)"
   ]
  },
  {
   "cell_type": "code",
   "execution_count": 200,
   "metadata": {
    "collapsed": false
   },
   "outputs": [
    {
     "data": {
      "text/plain": [
       "'TATCGGGGTTCC GTTCGGAGTGCC TGTCGGCGTCCC ACTCGGAGTGCC AGTCGGGGTACC CTTCGGCGTCCC CGTCGGCGTCCC CATCGGTGTCCC AGTCGGTGTCCC ACTCGGGGTTCC TTTCGGCGTCCC TCTCGGTGTACC TCTCGGGGTGCC CTTCGGCGTGCC TATCGGTGTCCC CTTCGGCGTACC CGTCGGTGTTCC CATCGGCGTACC GGTCGGAGTACC GCTCGGTGTACC TGTCGGTGTTCC GATCGGCGTCCC ATTCGGCGTTCC TCTCGGCGTGCC CCTCGGTGTGCC'"
      ]
     },
     "execution_count": 200,
     "metadata": {},
     "output_type": "execute_result"
    }
   ],
   "source": [
    "dna = [line.strip() for line in open('greedyMotif2.txt', 'r')]\n",
    "x = greedyMotifSearchUsingLaplace(dna, 12, 25)\n",
    "' '.join(str(i) for i in x)"
   ]
  },
  {
   "cell_type": "code",
   "execution_count": 249,
   "metadata": {
    "collapsed": true
   },
   "outputs": [],
   "source": [
    "def motifsFromProfile(dna, k , profile):\n",
    "    '''Computes the profileMostProbablekmer for each text in dna and returns it as a list.'''\n",
    "    return [profileMostProbablekmer(text, k , profile) for text in dna]"
   ]
  },
  {
   "cell_type": "code",
   "execution_count": 126,
   "metadata": {
    "collapsed": false
   },
   "outputs": [
    {
     "data": {
      "text/plain": [
       "['CCGAG', 'CCGCT']"
      ]
     },
     "execution_count": 126,
     "metadata": {},
     "output_type": "execute_result"
    }
   ],
   "source": [
    "matrix = {'A':(0.2,0.2,0.3,0.2,0.3), 'C':(0.4,0.3,0.1,0.5,0.1), 'G':(0.3,0.3,0.5,0.2,0.4), 'T':(0.1,0.2,0.1,0.1,0.2)}\n",
    "dna = ['ACCTGTTTATTGCCTAAGTTCCGAACAAACCCAATATAGCCCGAGGGCCT', 'ACCGCTTTATTGCCTAAGTTCCGAACAAACCCAATATAGCCCGAGAGCCC']\n",
    "k =  5\n",
    "motifsFromProfile(dna, k , matrix)"
   ]
  },
  {
   "cell_type": "code",
   "execution_count": 251,
   "metadata": {
    "collapsed": false
   },
   "outputs": [
    {
     "data": {
      "text/plain": [
       "['GTC', 'GCC', 'ATA', 'GCT']"
      ]
     },
     "execution_count": 251,
     "metadata": {},
     "output_type": "execute_result"
    }
   ],
   "source": [
    "matrix = {'A': [0.25, 0.125, 0.25],\n",
    " 'C': [0.25, 0.375, 0.375],\n",
    " 'G': [0.375, 0.125, 0.125],\n",
    " 'T': [0.125, 0.375, 0.25]}\n",
    "dna = ['ATGAGGTC', 'GCCCTAGA', 'AAATAGAT', 'TTGTGCTA']\n",
    "k =  3\n",
    "motifsFromProfile(dna, k , matrix)"
   ]
  },
  {
   "cell_type": "code",
   "execution_count": 8,
   "metadata": {
    "collapsed": false
   },
   "outputs": [],
   "source": [
    "def random_kmers(dna, k):\n",
    "    '''Returns a collection of randomly chosen k-mers in Dna. t is the number of items in dna list'''\n",
    "    import random\n",
    "    motifs = []\n",
    "    for text in dna:\n",
    "        i = random.randrange(0,len(dna[0])-k+1)\n",
    "        motifs.append(text[i:i+k])\n",
    "    return motifs"
   ]
  },
  {
   "cell_type": "code",
   "execution_count": 14,
   "metadata": {
    "collapsed": false
   },
   "outputs": [
    {
     "data": {
      "text/plain": [
       "['TTCAGTAA', 'GGTGCCAG', 'CGAGACCG', 'CAGGTGCA', 'AATCCACC']"
      ]
     },
     "execution_count": 14,
     "metadata": {},
     "output_type": "execute_result"
    }
   ],
   "source": [
    "dna = ['CGCCCCTCTCGGGGGTGTTCAGTAAACGGCCA','GGGCGAGGTATGTGTAAGTGCCAAGGTGCCAG','TAGTACCGAGACCGAAAGAAGTATACAGGCGT','TAGATCAAGTTTCAGGTGCACGTCGGTGAACC',\n",
    "     'AATCCACCAGCTCCACGTGCAATGTTGGCCTA']\n",
    "random_kmers(dna, 8)"
   ]
  },
  {
   "cell_type": "code",
   "execution_count": 55,
   "metadata": {
    "collapsed": false
   },
   "outputs": [],
   "source": [
    "def randomizedMotifSearch(dna, k):\n",
    "    '''Input: A collection of strings dna followed by integer k.\n",
    "     Output: BestMotif resulting from running randomizedMotifSearch(dna, k) one\n",
    "     time. Remember to use pseudocounts!'''\n",
    "    motifs = random_kmers(dna, k)\n",
    "    bestMotifs = motifs\n",
    "    while True:\n",
    "        profile = motifsToProfileLaplace(motifs)\n",
    "        motifs = motifsFromProfile(dna, k , profile)\n",
    "        if scoreMotifs(motifs) < scoreMotifs(bestMotifs):\n",
    "            bestMotifs = motifs\n",
    "        else:\n",
    "            return bestMotifs"
   ]
  },
  {
   "cell_type": "markdown",
   "metadata": {
    "collapsed": false
   },
   "source": [
    "dna = ['CGCCCCTCTCGGGGGTGTTCAGTAAACGGCCA','GGGCGAGGTATGTGTAAGTGCCAAGGTGCCAG','TAGTACCGAGACCGAAAGAAGTATACAGGCGT','TAGATCAAGTTTCAGGTGCACGTCGGTGAACC',\n",
    "     'AATCCACCAGCTCCACGTGCAATGTTGGCCTA']\n",
    "bestMotifs = None\n",
    "bestScore = None\n",
    "n = 0\n",
    "while n <= 5000:\n",
    "    n += 1\n",
    "    motifs = randomizedMotifSearch(dna, 8)\n",
    "    score = scoreMotifs(motifs)\n",
    "    if bestScore == None or score <= bestScore:\n",
    "        bestScore = score\n",
    "        bestMotifs = motifs\n",
    "print bestMotifs, bestScore"
   ]
  },
  {
   "cell_type": "code",
   "execution_count": 56,
   "metadata": {
    "collapsed": true
   },
   "outputs": [],
   "source": [
    "def looprandomizedMotifSearch(dna, k, nloop):\n",
    "    '''Input: A collection of strings dna followed by integers k and nloop(number of times randomizedMotifSearch(dna, k) will be run.\n",
    "     Output: A collection BestMotifs resulting from running randomizedMotifSearch(dna, k) 1,000\n",
    "     times'''\n",
    "    bestMotifs = None\n",
    "    bestScore = None\n",
    "    n = 0\n",
    "    while n <= nloop:\n",
    "        n += 1\n",
    "        motifs = randomizedMotifSearch(dna, k)\n",
    "        score = scoreMotifs(motifs)\n",
    "        if bestScore is None or score < bestScore:\n",
    "            bestScore = score\n",
    "            bestMotifs = motifs\n",
    "    return bestMotifs, bestScore"
   ]
  },
  {
   "cell_type": "code",
   "execution_count": 46,
   "metadata": {
    "collapsed": false
   },
   "outputs": [
    {
     "data": {
      "text/plain": [
       "(['AACGGCCA', 'AAGTGCCA', 'TAGTACCG', 'AAGTTTCA', 'ACGTGCAA'], 9)"
      ]
     },
     "execution_count": 46,
     "metadata": {},
     "output_type": "execute_result"
    }
   ],
   "source": [
    "dna = ['CGCCCCTCTCGGGGGTGTTCAGTAAACGGCCA','GGGCGAGGTATGTGTAAGTGCCAAGGTGCCAG','TAGTACCGAGACCGAAAGAAGTATACAGGCGT','TAGATCAAGTTTCAGGTGCACGTCGGTGAACC',\n",
    "     'AATCCACCAGCTCCACGTGCAATGTTGGCCTA']\n",
    "looprandomizedMotifSearch(dna, 8, 2000)"
   ]
  },
  {
   "cell_type": "code",
   "execution_count": 60,
   "metadata": {
    "collapsed": false
   },
   "outputs": [
    {
     "data": {
      "text/plain": [
       "(['CGATAA',\n",
       "  'GGTTAA',\n",
       "  'GGTATA',\n",
       "  'GGTTAA',\n",
       "  'GGTTAC',\n",
       "  'GGTTAA',\n",
       "  'GGCCAA',\n",
       "  'GGTTAA'],\n",
       " 7)"
      ]
     },
     "execution_count": 60,
     "metadata": {},
     "output_type": "execute_result"
    }
   ],
   "source": [
    "#Debug dataset 1\n",
    "dna = ['AATTGGCACATCATTATCGATAACGATTCGCCGCATTGCC', 'GGTTAACATCGAATAACTGACACCTGCTCTGGCACCGCTC', 'AATTGGCGGCGGTATAGCCAGATAGTGCCAATAATTTCCT',\n",
    "      'GGTTAATGGTGAAGTGTGGGTTATGGGGAAAGGCAGACTG', 'AATTGGACGGCAACTACGGTTACAACGCAGCAAGAATATT', 'GGTTAACTGTTGTTGCTAACACCGTTAAGCGACGGCAACT',\n",
    "      'AATTGGCCAACGTAGGCGCGGCTTGGCATCTCGGTGTGTG', 'GGTTAAAAGGCGCATCTTACTCTTTTCGCTTTCAAAAAAA']\n",
    "looprandomizedMotifSearch(dna, 6, 2000)"
   ]
  },
  {
   "cell_type": "code",
   "execution_count": 49,
   "metadata": {
    "collapsed": false
   },
   "outputs": [
    {
     "data": {
      "text/plain": [
       "7"
      ]
     },
     "execution_count": 49,
     "metadata": {},
     "output_type": "execute_result"
    }
   ],
   "source": [
    "#Debug dataset 1 ans\n",
    "motifs = ['CGATAA', 'GGTTAA', 'GGTATA', 'GGTTAA', 'GGTTAC', 'GGTTAA', 'GGCCAA', 'GGTTAA']\n",
    "scoreMotifs(motifs)"
   ]
  },
  {
   "cell_type": "code",
   "execution_count": 61,
   "metadata": {
    "collapsed": false
   },
   "outputs": [
    {
     "data": {
      "text/plain": [
       "(['TTAACC',\n",
       "  'ATAACT',\n",
       "  'TTAACC',\n",
       "  'TGAAGT',\n",
       "  'TTAACC',\n",
       "  'TTAAGC',\n",
       "  'TTAACC',\n",
       "  'TGAACA'],\n",
       " 8)"
      ]
     },
     "execution_count": 61,
     "metadata": {},
     "output_type": "execute_result"
    }
   ],
   "source": [
    "#Debug dataset 2\n",
    "dna = ['GCACATCATTAAACGATTCGCCGCATTGCCTCGATTAACC', 'TCATAACTGACACCTGCTCTGGCACCGCTCATCCAAGGCC', 'AAGCGGGTATAGCCAGATAGTGCCAATAATTTCCTTAACC',\n",
    "      'AGTCGGTGGTGAAGTGTGGGTTATGGGGAAAGGCAAGGCC', 'AACCGGACGGCAACTACGGTTACAACGCAGCAAGTTAACC', 'AGGCGTCTGTTGTTGCTAACACCGTTAAGCGACGAAGGCC', \n",
    "      'AAGCTTCCAACATCGTCTTGGCATCTCGGTGTGTTTAACC', 'AATTGAACATCTTACTCTTTTCGCTTTCAAAAAAAAGGCC']\n",
    "looprandomizedMotifSearch(dna, 6, 2000)"
   ]
  },
  {
   "cell_type": "code",
   "execution_count": 62,
   "metadata": {
    "collapsed": false
   },
   "outputs": [
    {
     "data": {
      "text/plain": [
       "8"
      ]
     },
     "execution_count": 62,
     "metadata": {},
     "output_type": "execute_result"
    }
   ],
   "source": [
    "#Debug dataset 2 ans\n",
    "motifs = ['TTAACC', 'ATAACT', 'TTAACC', 'TGAAGT', 'TTAACC', 'TTAAGC', 'TTAACC', 'TGAACA']\n",
    "scoreMotifs(motifs)"
   ]
  },
  {
   "cell_type": "code",
   "execution_count": 92,
   "metadata": {
    "collapsed": false
   },
   "outputs": [
    {
     "data": {
      "text/plain": [
       "9"
      ]
     },
     "execution_count": 92,
     "metadata": {},
     "output_type": "execute_result"
    }
   ],
   "source": [
    "#ans\n",
    "motifs = ['TCTCGGGG','CCAAGGTG','TACAGGCG','TTCAGGTG','TCCACGTG']\n",
    "scoreMotifs(motifs)"
   ]
  },
  {
   "cell_type": "code",
   "execution_count": 3,
   "metadata": {
    "collapsed": false
   },
   "outputs": [
    {
     "data": {
      "text/plain": [
       "['CTGCCAAAACGTTCGTTGGGTTTAGTAGGAGCCGAGGGCCACCTTTAGAACCTTCGCTGTTGAATAAGTTGCCAAGAAGCGCTATAGGCATTAGCTTTTGCCTGCGGGATCTCCAAGCGGGAATACTTTGCTACCAAAGTTAATACAATCGCCTGCTCAGAAACTGCCAAAACGTTCG',\n",
       " 'TTGGGTTTAGTAGGAGCCGAGGGCCACCTTTAGAACCTTCGCTGTTGAATACTGAGCATGGTACGCAGTTGCCAAGAAGCGCTATAGGCATTAGCTTTTGCCTGCGGGATCTCCAAGCGGGAATACTTTGCTACCAAAGTTAATACAATCGCCTGCTCAGAAACTGCCAAAACGTTCG',\n",
       " 'TGCTCACGTGAAACGACCCTTAGTGTAGTGGCCTACTCTGGCAATATCACGCCCACCTCTTCTAGTATGGTCCATGGAGAAAGCACATTGACCTTGGTTTATATTAAATGTTCATTTGCGTGATGGAGGGGCAGCCAGTTAGCCCAACGCTATTCCCTCCCATCTGGTTTATCTTCCA',\n",
       " 'TAAGCCACATCAGTGCTGTCAGCGGTGGATATAGGCAATAGCAACCTCGTTAGTGCTTTATGCCAGCGGATTCAGCTGGCAGGTGTACGCAGGGGGATCATTCAGTGCCAGGTAATAGACCAACCCGGAATTAGGCACTCCGGCCTATCCCCCTAGCATGATCGTCAGCCTCCTATAA',\n",
       " 'CCCGTATTTTAGATTCTATCCAGATTCTAGCTGACCAAGCCACGCGCGATAAATACCGGGTCAATAGTTAGTCTTAGCTTTTGTTTATTCTCGCCTCACCACTTAAAGTCCCTGTTAGCGCTCCGTCCGTCAGCAGTATGTCTGGCCGGGGTACGCAGCCAAATCAAAGGCCACTAAA',\n",
       " 'CTTGCGCAAGCCACCTCTCGATACATTCTGAGCGCCGAACACGAGCGTAAGTGCCAGCTCTAGTCGCATGCCTGATAACATTACCCAGGCTGATGAAAAGGATTACTCAACAATGGATTGCACGAGTCTAAACGGTTTTGCTTTCTGGACACACTGGCAATGGTAGCTTGCCTGTCTT',\n",
       " 'GGAAGCAGCGGAGAGTATCCACATGGGGTGAAGTGGAGGCTTGAGACCGCTATGAATGGTACGCTCGTTCGGCAGGAGCTCCCCACAAACGCGTGTATTTCCAGCCTTGGGATACAGAGCTATAGATAGTTGAGGCCGCTATGTGGGTAGACAGGAGGTCGACTAGAGACGCAGTGCA',\n",
       " 'CGTGTCCCGCTGGCAATGGCGTGCTAGCTAGTATAGCTCCTCCAAGCTGTAAGATGCTGTCTCCAAACCAACTTGGGGGCTAAATGTACCTTGTGAGGCTTCCTCATGGAAGGAACTTCGAAAATTAATAGGACAGACAACCTGAAGCGCTACCCGATTGCTTGTAATGGGTTCAGGG',\n",
       " 'CCACCTCTAACACATAGTCTACATCGTGGGCTGTTGATGGTACGCCCTAGGACTCGGGCGAAACTGGAGCTACGTCACTTTATACTACGTATTTTTCAACGCAAGGGAGTGCATAAATGCCTTTAATTCCGCAAAGCTTACGACTACCTCAACGTGAGTAACTGGGGCGTCTAGTAGG',\n",
       " 'ATTCATCCTTAATTCTGGGCTTTCTAAATGGCGCTGGATGTGGTACGCGTGTGGATATAATCATGGACGTAAAGCACTGCGAACCGGGACGGAAGACTCATTAGACGGCACCGTAATTACTAATACCAAGCACTATCGCCTACCACTAACTCGTCCAAGGCTTCCAGACCGGTAGAGG',\n",
       " 'AGTAACAGTTAGACTCAAGGTGACCACGGAGACACTTGGTTCGATATTGAAGCTGGACTTGGTACGCTCAACCTGCAAATTGGTCAATTAGCGAGAAATTTCGATCCGAATCCCACCCTGATGACCATCGGAAATGTGGGCGGGTATGTCGGCTGTAAGCCCTGTCCCCCCCACTGCT',\n",
       " 'TCCACCGCCGTTAACGGCCCAGACCAGCAGATCCCTAATGATCAAGATTAGACACAAGGGCATGTTACCGAGCTCGAGTCTGGCGCAGGTACGCGAGCTCTACACATGTGCTCCACGACTTCTGCTTTCGCAGCTTATCCAATGCCATCTCTGCCCTCGTCAAGTCACATAGCACTTC',\n",
       " 'CACAGCTAATGGGGGATGGAAGTGGCTCTTATTATGGCAATGGTACCGGCAGTAGGCGTATACGCTACAGTCTTGGGAGGCTCTATGTCGCTGAGCGGCCCGTACGATGCTAATCTCCCTGCTAACACGCACTTCGATGAATATTCGTGACCGACGGCAGGGAGGCGAAGAAGGCGTA',\n",
       " 'CCCTGGCAACCATACGCGCCGTTCTGTGAATCAGTACTCGGGTAAAAGCTTGATCTCTGGCCCCTGGCCCCTCCGACATGCCGTTACGACCACAGGTCGGTCCTACTTAGTAGAAACTTGTTTATCCGCTTGTGACGGTGTGTACCGACTCAGGGGACTTATGCACTCGCACCCTGAG',\n",
       " 'TTTGGGTAAACACCTTTCTAGCGGGAACTCACCAGATCTCTCATTGGCGAATTGACCTGCTCTTGGCTTCTTCGCAACAAACGCCGAACAGCTCCTACGTAGTAGTCAGTGGTCACTGACAAATTGTTTCGGAGTAAGGTCTGAAAAAGGCTGGCAATGGTGATCAGCCCAGACCAGA',\n",
       " 'ATTAACATGCCTCGACTGACAGACGTAGAGTCGGGGGCTGCCAGGAGATTAAGCTGTGACGTCGTACGGCAGGTGAGGAAAGTCCCCGACATATGGTTCACCTGAGACGCAATGGTACGCGCAACGTAGAGTCGATTGGGAGGTCGCTGGAATGTTAGGGTGGCTCGCTGGCAATGGC',\n",
       " 'GATAAGTATCTGGCAGAAGTACGCCGACCTGGTTGCTTTGAATGCGACAATTGAAACAAATGACTCCTTGGGCAAGGGTGTGGTCCCCACTCGACACGCGGATGGCGTATGGATAACTCGACGGGAATCACCAGTCCATTCGGTCTTTACTAGCTCATAACTGTTAAAAAGTGTTGGG',\n",
       " 'GACTCGTCCAATGGTACGCGACGGTTCCTCCTTTGAAATTCTCAGCTAAATGGTCACCGTCTGTCCTTCAACGCTGACCGGACCGACCTATTCTCCGTTAGTTCGGCCCCGCCCTACTTATAGCATCGAGAAGCTTGTTAATTCAATTACGGCTCGGGATGACGGGTCGCAGTTGGTC',\n",
       " 'CTTACAATGGTAGTCCGGTTAGCGGTGGAATGCATTGTAACGGCGCCGGCGTATTGTACTACGCCGCTCCCCTCAAGTTTACTTGGGTGGGCAGGCCGACCCCCGCTTCCTTAAGCTTTGTAGACAGATGTTTAAACAGCAGGGCAATGGTACGACAGTCCTCTGGTCGGAAACCCAC',\n",
       " 'GGACAAGTCTGATAACATTCTCATAAAGCATAGATCTGGCAATGAAGCGCCACTCCCCCACAACCGGTTTAAGAGGCTGGCGAGACGGTCCGTACGGTTGTGAATGCGCGTGCCCGATGAGTAAGCGGCGTACAACCGTTATGACCCATATAATTGAGCCAATTATCGTGATCATTGT']"
      ]
     },
     "execution_count": 3,
     "metadata": {},
     "output_type": "execute_result"
    }
   ],
   "source": [
    "dna = [line.strip() for line in open('dataset_161_5.txt', 'r')]\n",
    "dna"
   ]
  },
  {
   "cell_type": "code",
   "execution_count": 37,
   "metadata": {
    "collapsed": false
   },
   "outputs": [
    {
     "data": {
      "text/plain": [
       "'TGCTCCAGCCCCGCT TGACGGACCCGGGTT TGAACTGACCGGGTT TGAACAACAGTGGTT TGAAGGTCCCGGGTT GTTACAACCCGGGTT TATGCAACCCGGGTT TGAACAACCCACTTT TGATACACCCGGGTT CTAACAACCCGGGTG TGTCGAACCCGGGTT TGAACAACCCGAAGT AGAACAACCCGGGAC TGAACAACCCGGCAC TGAAATTCCCGGGTT TGAACAACCGAAGTT TGAACGGACCGGGTT TGAACACATCGGGTT TGAACAAGGGGGGTT TGAACAGGTCGGGTT'"
      ]
     },
     "execution_count": 37,
     "metadata": {},
     "output_type": "execute_result"
    }
   ],
   "source": [
    "bestMotifs,bestScore = looprandomizedMotifSearch(dna, 15, 2000)\n",
    "' '.join(str(i) for i in bestMotifs)"
   ]
  },
  {
   "cell_type": "code",
   "execution_count": 38,
   "metadata": {
    "collapsed": false
   },
   "outputs": [
    {
     "data": {
      "text/plain": [
       "64"
      ]
     },
     "execution_count": 38,
     "metadata": {},
     "output_type": "execute_result"
    }
   ],
   "source": [
    "bestScore"
   ]
  },
  {
   "cell_type": "markdown",
   "metadata": {},
   "source": [
    "#EXERCISE BREAK: Compute the probability that ten randomly selected 15-mers from the ten 600-nucleotide long strings in the Subtle Motif Problem capture at least one implanted 15-mer. (Allowable error: 0.000001)\n",
    "\n",
    "kmers = 600-15+1 = 586\n",
    "\n",
    "P(capturing the 15-mer in string 1) = 1/586\n",
    "\n",
    "P(not capturing the 15-mer in string 1) = 585/586\n",
    "\n",
    "P(not capturing the 15-mer in 10 strings) = (585/586)**10 \n",
    "\n",
    "probability (capturing at least one 15-mer) = 1- (585/586)**10 "
   ]
  },
  {
   "cell_type": "code",
   "execution_count": 64,
   "metadata": {
    "collapsed": false
   },
   "outputs": [
    {
     "data": {
      "text/plain": [
       "0.015253942906766849"
      ]
     },
     "execution_count": 64,
     "metadata": {},
     "output_type": "execute_result"
    }
   ],
   "source": [
    "#EXERCISE BREAK: Compute the probability that ten randomly selected 15-mers from ten 600-nucleotide long strings \n",
    "#(as in the Subtle Motif Problem) capture at least two implanted 15-mers. (Allowable error: 0.000001)\n",
    "\n",
    "1- ((585.0/586)**9)*(1/586.0) - ((585.0/586)**10)"
   ]
  },
  {
   "cell_type": "markdown",
   "metadata": {},
   "source": [
    "### Gibbs Sampling"
   ]
  },
  {
   "cell_type": "code",
   "execution_count": 9,
   "metadata": {
    "collapsed": true
   },
   "outputs": [],
   "source": [
    "import random\n",
    "def Random(p):\n",
    "    wheel = [0]*(len(p)+1)\n",
    "    #Normalization of probability distribution\n",
    "    s = sum(p)\n",
    "    if s!= float(1):\n",
    "        p = [float(i)/sum(p) for i in p]\n",
    "    #Make a roulette wheel\n",
    "    for index in range(len(p)):\n",
    "        wheel[index+1] = wheel[index] + p[index]\n",
    "    #print wheel\n",
    "    #Rolling a biased dice\n",
    "    r = random.random() #Randomly generate a number between 0 and 1\n",
    "    #print r\n",
    "    for i in range(len(wheel)-1):\n",
    "        if wheel[i] < r < wheel[i+1]:\n",
    "            result = i\n",
    "    return result"
   ]
  },
  {
   "cell_type": "code",
   "execution_count": 200,
   "metadata": {
    "collapsed": false
   },
   "outputs": [
    {
     "name": "stdout",
     "output_type": "stream",
     "text": [
      "1\n"
     ]
    }
   ],
   "source": [
    "print Random([0.2,0.7,0.1, 0.2])"
   ]
  },
  {
   "cell_type": "code",
   "execution_count": 10,
   "metadata": {
    "collapsed": false
   },
   "outputs": [],
   "source": [
    "def profileRandomlyGeneratedkmer(text, k , matrix):\n",
    "    '''Input: A string Text, an integer k, and a 4 × k matrix Profile.\n",
    "     Output: A Profile-most probable k-mer in Text.'''\n",
    "    prob = []\n",
    "    for i in range(len(text)-k+1):\n",
    "        kmer = text[i:i+k]\n",
    "        pt = 1\n",
    "        for j in range(k):\n",
    "            p = matrix[kmer[j]][j]\n",
    "            pt *=p\n",
    "        prob.append(pt)\n",
    "    #print prob\n",
    "    kmer_index = Random(prob)\n",
    "    randomkmer = text[kmer_index:kmer_index+k]\n",
    "    return randomkmer"
   ]
  },
  {
   "cell_type": "code",
   "execution_count": 172,
   "metadata": {
    "collapsed": false
   },
   "outputs": [
    {
     "data": {
      "text/plain": [
       "'CCGAG'"
      ]
     },
     "execution_count": 172,
     "metadata": {},
     "output_type": "execute_result"
    }
   ],
   "source": [
    "matrix = {'A':[0.2,0.2,0.3,0.2,0.3], 'C':[0.4,0.3,0.1,0.5,0.1], 'G':[0.3,0.3,0.5,0.2,0.4], 'T':[0.1,0.2,0.1,0.1,0.2]}\n",
    "text = 'ACCTGTTTATTGCCTAAGTTCCGAACAAACCCAATATAGCCCGAGGGCCT'\n",
    "k =  5\n",
    "profileRandomlyGeneratedkmer(text, k , matrix)"
   ]
  },
  {
   "cell_type": "code",
   "execution_count": 11,
   "metadata": {
    "collapsed": true
   },
   "outputs": [],
   "source": [
    "def gibbsSampler(dna, k, t, N):\n",
    "    motifs = random_kmers(dna, k)\n",
    "    bestMotifs = motifs\n",
    "    for j in range(N):\n",
    "        i = random.randrange(0,t)\n",
    "        del motifs[i]\n",
    "        profile = motifsToProfileLaplace(motifs)\n",
    "        motifi = profileRandomlyGeneratedkmer(dna[i], k , profile)\n",
    "        motifs.insert(i, motifi)\n",
    "        if scoreMotifs(motifs) < scoreMotifs(bestMotifs):\n",
    "            bestMotifs = motifs\n",
    "    return bestMotifs"
   ]
  },
  {
   "cell_type": "code",
   "execution_count": 168,
   "metadata": {
    "collapsed": false
   },
   "outputs": [
    {
     "data": {
      "text/plain": [
       "['TCTCGGGG', 'CAAGGTGC', 'TACCGAGA', 'TCAGGTGC', 'CCAGCTCC']"
      ]
     },
     "execution_count": 168,
     "metadata": {},
     "output_type": "execute_result"
    }
   ],
   "source": [
    "dna = ['CGCCCCTCTCGGGGGTGTTCAGTAACCGGCCA',\n",
    "     'GGGCGAGGTATGTGTAAGTGCCAAGGTGCCAG',\n",
    "     'TAGTACCGAGACCGAAAGAAGTATACAGGCGT',\n",
    "     'TAGATCAAGTTTCAGGTGCACGTCGGTGAACC',\n",
    "     'AATCCACCAGCTCCACGTGCAATGTTGGCCTA']\n",
    "gibbsSampler(dna, 8, 5, 100)"
   ]
  },
  {
   "cell_type": "code",
   "execution_count": 12,
   "metadata": {
    "collapsed": true
   },
   "outputs": [],
   "source": [
    "def loopGibbsSampler(dna, k, t, N):\n",
    "    bestMotifs = None\n",
    "    bestScore = None\n",
    "    n = 0\n",
    "    while n <= 20:\n",
    "        n += 1\n",
    "        motifs = gibbsSampler(dna, k, t, N)\n",
    "        score = scoreMotifs(motifs)\n",
    "        if bestScore is None or score < bestScore:\n",
    "            bestScore = score\n",
    "            bestMotifs = motifs\n",
    "    return bestMotifs, bestScore"
   ]
  },
  {
   "cell_type": "code",
   "execution_count": 13,
   "metadata": {
    "collapsed": false
   },
   "outputs": [
    {
     "data": {
      "text/plain": [
       "(['CAGTAACC', 'AAGGTGCC', 'CCGAGACC', 'CAGGTGCA', 'CACGTGCA'], 11)"
      ]
     },
     "execution_count": 13,
     "metadata": {},
     "output_type": "execute_result"
    }
   ],
   "source": [
    "dna = ['CGCCCCTCTCGGGGGTGTTCAGTAACCGGCCA',\n",
    "     'GGGCGAGGTATGTGTAAGTGCCAAGGTGCCAG',\n",
    "     'TAGTACCGAGACCGAAAGAAGTATACAGGCGT',\n",
    "     'TAGATCAAGTTTCAGGTGCACGTCGGTGAACC',\n",
    "     'AATCCACCAGCTCCACGTGCAATGTTGGCCTA']\n",
    "loopGibbsSampler(dna, 8, 5, 100)"
   ]
  },
  {
   "cell_type": "code",
   "execution_count": 137,
   "metadata": {
    "collapsed": false
   },
   "outputs": [
    {
     "data": {
      "text/plain": [
       "9"
      ]
     },
     "execution_count": 137,
     "metadata": {},
     "output_type": "execute_result"
    }
   ],
   "source": [
    "#Sample ans\n",
    "motifs = ['TCTCGGGG','CCAAGGTG','TACAGGCG','TTCAGGTG','TCCACGTG']\n",
    "scoreMotifs(motifs)"
   ]
  },
  {
   "cell_type": "code",
   "execution_count": 14,
   "metadata": {
    "collapsed": false
   },
   "outputs": [
    {
     "data": {
      "text/plain": [
       "['TAAGGCTCGATTCATCGCTGATATCAGTTATTTGGCTCACGGTTTCTGATTCCCCGGATGTGAAGCTAGGGAGACAGACCTTGGGAGTGATAGAACGTACTTAAACCCCTCGTCGCCAGTCGGCGCGATTGCTGCAGCGCTTAATAACTAAGTAAGACTAGCTACGCAAGTTTTGGCCTCCCATATCGAAAGTGAATAAGCTCAATGGATAGCTCCCCACGTAACGGGGCAGTCTTAACAGCGGAGCTTGCTCGCTTGCAGATCCGGTAGGAGTCAGTCATGGACTTCGTAAATCCGCGTCCGTCGGCAGGGCCTAAATAAGGCTCGATTCAT',\n",
       " 'CGCTGATATCAGTTATTTGACCTGCAAGCTCTTAGCTCACGGTTTCTGATTCCCCGGATGTGAAGCTAGGGAGACAGACCTTGGGAGTGATAGAACGTACTTAAACCCCTCGTCGCCAGTCGGCGCGATTGCTGCAGCGCTTAATAACTAAGTAAGACTAGCTACGCAAGTTTTGGCCTCCCATATCGAAAGTGAATAAGCTCAATGGATAGCTCCCCACGTAACGGGGCAGTCTTAACAGCGGAGCTTGCTCGCTTGCAGATCCGGTAGGAGTCAGTCATGGACTTCGTAAATCCGCGTCCGTCGGCAGGGCCTAAATAAGGCTCGATTCAT',\n",
       " 'CAGATGGCAGGGCCGCCAGTGTTGGTTCCAAGGAATATGCTAGGCTCGGATACAGTCGAAGTAGCCCTCTCCGGATGAACTCTTGAGTACTTATAAAGTATTTCCTCCAACCTTCTAGCTGGGCCCAACCCCACCGCTCTTACATGCCATTAAGAGGTCCGTAATGATAGCACTGAATGAAAGAAGCACTAAGTAGATATAGCGGCACTAATACAATGTTTCCTTTTTTGTGTCGATACACATAGCACTCATGTCCAGGCGCGGAATGGTCGAGTACAGTTTTACGCATAAGATCCCTTTATGAGCTTGGCGGTTATATTCGCAACAGCAAGA',\n",
       " 'GGGTTAATGAGATTTACCTGTCATCACGCTCTAGCTGGCCTCTGGCTCTCATCCCCCAGCACCAACAAACCGACACATAAATGTCCCCGAATACGCCTTTGGACCCACTGCGTGAAAAGGATGTAGGTACGCGCAACTTGTTACAGAAGTTTACTTGGTTGTCACGATTTATCAACTTGTTTTAGCATACCCCTGTGCTCTTAATAGGGTCTTAAATCGCCGTGACATGGTCAAACGCCCGATCAAAGGGGGTACTGCAGTCTTTTGCGCATGCGTCTAGCGCGAGCTGAGTTTGCTGTTTAGACGATACGATTAACCTCAATTTCGGGATTA',\n",
       " 'TTCGCGCTTGCCACTCGTTCATGTAAGGTATGACGCCCGTCGCGTAACCGCTGGCGCTCATCTCCCGCGATAATAGGGCTATTGGATGAACGAGATTAGACATGACACTAGCAGGTCCGGTCAACCGCATCAATTCAGCACAACTAAATTCCAGCACGGTGTCGCGCAAAAATAAGAACTCTTGCTCAGCGCTACAACAGCCTTAATTTGGGTCGCCCACCGCATCCCCCTAGCGGTTTACTTTCGAAACGATGCACACGTTGCTTATGCAGACCGAATTCAGGTTGAGCCCGCCCGAAGCTCTTCGAGACGCCCGCTTCCGGGTGTTTAACA',\n",
       " 'GTGTGCAACCAACCATGATCATTACTGTACAACACCAAACTATATAATTCTATCAGAGTAAGCAAGGGGAAAGGGATTACCGTCCTACAGTCCGCAGGGGCGATGAGTGAGAGAATATCAGAGGATCCAGAGACTAGGAGGGATATATCGTGCTAGAGACTTAACTATAATAGCGCAGTGCAATGGAAATCTCGCCATGCCCGACCCAACTCCGCCTTTTCCGGGGTCGGTTAATCTCGTATCTATGGGCGCATAGATCAGCCCCCTAATTTTAAACCTAGGCAGTCGAATGACCGCTTACGGGCAACCGACCTTCCGAAGCTCTTATCCCGC',\n",
       " 'TCGCGAGCGCTAAAAAGGACGATCCATGCGTTTATGCATGCGACGTGGTCTTAATGAAATCCGATTTCTATTCCACTAGTCAGCGATTTTCTAAGCGGGCGCTACCGTCAGTGCAGTGTCTACAACGTCGCGAGTTGAAGTTATACACAGTCATGGGTCGTGCCAGAATCGAGTGCGCAGTTTAACGTCAGATTACCCCGAAGCTGACAAGGTACCCCGCAAGTGCCAGTTCTAGCAGTTCTAAAAGTACTCTTAAGATAAAATGTGTTTGTTCCGAAAGACTACACTTAGCTCAATGTAAACGCGGCGGATTCACCCATTATGATCTGAGGC',\n",
       " 'ATTATCCCAGTCCCGCATGCCTTCCGAGTCCCCTCTCTCATTCAACACAGGTAGCCCCGGCCCCTGCTCACCCGACCGGACGGCCAGTGAAGTTCCTGAGTGTAAAGCACCTGAACTAAGAAAGGGGGACAGGTACCATGTAAGTTGTGGAGGATTGTGCCTAGATATATTCTGGCGCTACGTACTAATGCGAGTCTAAGACCTGCATAGACGTGCGCAAAGGTACGCTGTCCACCCCGCTAATTAATGCCTGAGTTATGTCAGATTACAATAACAACCCCGAAATGCTTATGCTGGCCCCCTGATGGCTTCAGTTAATCGTCTACGCAACGC',\n",
       " 'GTTTAACAATGTATGTCTAGAATGAGTCCCTAGATGGGCCGGTACTTGTAACTACTTGGTAATTTACTACACTGCTCCGCTCCCGGAAAGCGGAGGTACTGTCCCCGAAGCTCTATAAAAAAGTGCCACGGGACTGTGACGAACCACCGAGAGTGTTCCACATTGAGGCCATCGGTTCGCTGCTTATGTTCTAGCGACCTGAATTACAAATCACACTCGATTGCTGGCTGCTGCGACGCAAGGTGGAGTACGCATTGGCAAAGTTATAGTTAAACATGCTCCAAAGCTAACCGACCACAAGACCCGGACCGTCGAGGCACTCGCCCCTTGTAG',\n",
       " 'GTTACCTCCCGTAGTAGGTCCCGACAGGCACACACCTGGTACGCTCGAACGGCTTCGATGGACAGCCATGTCGAAGCTCTTACTGCTCTTTGTAGTCCTCGAGTCCCTGGTGACTAGGCTCCGAAGCTCAAATCAAAGAAGGCCGTTCATCACTGATCAAGTGCAGGTTCGTAAACTCCTCAGCTTTGGCACAGTCGCCTCCCGAACCGTCTTCGATTGGGGCGCTCTGTCGTGACGACGAATGGTAGCCCCGAGCTTCATGTACTGCATCGCGGCGCGTCGGGGTCTCAGAATGGCTATTAGGCGTAAACCGTAAGGGCAACCACTGTTATT',\n",
       " 'GATTATATATAGCGGTGGGTCCCATCGGCGGGCTTAATGCCTCAGGAGTATTGCCATTTTTACCCCATTGTCTTCGGCCTACAACGTCTCGACGTTAAACCTCTAGATAGACCTTATTTTTCCTGAGGCGTTCAATTGCTGAGGATCCGCACGACCCGCGTAGACAATACCGATGAATACTCGGAGCGTAGGAATAAGTCGAAACGATCCGCCTAAATGAAACTGGGCTGCCAAAGGGAGGGTCCGATTAGATTCCGGCTTACTTTACCCTACCTATTGGGACCCCGAAGTAGTTACTCTCGTAGCTCAATGCGAAAAGGCCATGACGAGCCA',\n",
       " 'GGGCAGATACGAGAGCACAACTCACAGTGCAAGATATCTGTTAAACTTACTAAGAAGCTCTTACGACCAGGCACCTGTGCCGACTGCAAGAAGGAATAATTTTGGGTCGATTCTCGAATTACTCTGCTCCGAGCGCGTTTTAGAGCAACGGGGGAGTAGCCTATATCCATTTGTTAGATCGTGCATCAGGGCTGCAGGTGCTATTCTTTAGAACCGGCAGCTACATTCCGGGCCGGGCCAGCTACTCATATTCCCGCGATACTGGCGAAGGGGGTTGCCTTTTTTCGAGAGCCTCGTCGGGTGACTGCTTTCAAATGTCGATAAGTGTGCCGT',\n",
       " 'GACTCGTGCTTTATAACTAAGCACCGCCACTGCATTGCCCCATACCGCATAGGTGATACCTTTGCTCCCACGCGAGATCCCCGATAGTGGACGCGTTTCATTCATACCTGGTCTCTCGAGATCCGGAGTCTAGCAACAGCCTCGGGCGGGCGAAATGGATTTCCAACCTAGGCGCAAGCCAGAGAACACCGTTAAGCTCTTAATAGATCACCTAAGAGGTATGCGGGAGACCAACAGGAACATTCATGGATGCGCTCTGTACACTTTGACTCTGGCAGTCCCGGGGAGCGCGCTCAATTGGGAAGCGCTCATATTTTAGATTGCGCTGGGTAG',\n",
       " 'TCTGATCAAGAAGACAATACCGGGAGATCACCCCGCAGACCACGGCACAAGGTAGACCCTATAGCTCTTATCGGCCGATTTCGTGCCCGCTTCAAAACCAACTTCAGGCAACAGCTCATCTTGTCTCCCGGTGCTATATTCTTTCCGTCATCTTCTTGGCAAGACCGGGAGCGCGGTCATGTTCCCGGCGCATCGGGCATATAGTGGGCCTGAAAGTTCGATCGGTTATCCTGGGTCTTAATGTCCGACGTCCTGAAAACGAAGAAGTGTTGTACAGGCCGTCGTCCCCGCCGGGTAGGCTGGATATAACACTAAAGGTAAAAGCTCCGAGTA',\n",
       " 'GCTGAGACCAGGACGCCCGTTATTAGTTTATCATTGTATAGCCTCACAGGCTGACCCTACATCGGTATCGCAGAGGTGCCCGCTCACGTGCGCAGACTTAAGAAGCTATAACAAACAGTCTGGCACACGCAGAACTCACAAACATCGATCCGGTCTCCCGGCTGCGTCTCAGCGTATCTCTCAAAGTCTCAGAATTGATGGCCCATGGGGCGCATACATGTGACAAATTGTCAAATTCACTATACGCTATAATGGACTATAAGCGTAGCCCGGACCCCGACCGTCTTACGTTATGTTTTACTTCACCGCAGTGATACTTTACAAAGCCATAGC',\n",
       " 'GGTTAACTTTTTCCCGCCGCTAGGATTACCCCGTTTCTCTTACGTCTAATTGTGGCTCGGAACGGTATCGTGAATAAGTTGCTATACGCAGTCACGCACCTGCGCAAAGTCAAATCTCTTTAAATTGAAGATTTATATCGCCCCAGCGGTAAGGGCTAGTGTTCCGCAATTTTTTGTACGGTGAAAGGCTCATGCTGTCAACGGCTACTGCACCGGAGTAACACGGTCGGCGACTTTATATCTATAAATATTTGCAGCTAAGATCACGTGAGCTTCAACCGTGTAAGGTCCGTTGCGCGTAAATCGAAAACTAAACGGTAAAGGATCACTGCC',\n",
       " 'ATGACCGTCTTACACCCCGAAGCCTGTACGTCGATCCTGAAGCACCTACACACTAGAAGCCCGAACGCGTGTAGAACTAGGCACGTACACGGATGCAAAAATTCTCAGTCCAAGATTGGAAGCAAACGTAACCTACTTTCGAAGTCTTTAATAGTCTAAGAAACATAGCCTAACGGGACGTAAATACGCCCCGTATAAATTACCACACTACTTAGGAATGTGTAGTAGAACTATGAGGGTGAAAATGAATGCGCTCTACTACAGTAAGGTGAATTTAAAATCTCGTCGACTTCTAACAGACGTACCGGGACGTACACCATGTACAACGGTCGA',\n",
       " 'ATAGTAACACTGCGAGCTAGCACACGGTACATTACTCTTGGTTATGAGGTAATGGGCGGCCCGTAGGGCAAGAAACCCCGCGCCTCTTATTTCTTGCGTGGTCAAGAGGCCGACAGAAACAAAATGGTGCACATACAAGAGACCTCTGGCTATTGGAGACCAAAGGAACGCCCACACGCGATCCGAGAGTAACGCGCTAATAAACCAGCTAACCGTGCGCGACCCATCGGATCGGGCTATCATGGTATAAGAAATCCGGAGTGCAAACCGCGCATTAAGGGGTCCAAGCAGTAATCCTCGACTATACTGCTTGCATAAACTCGTGGTAGAGAC',\n",
       " 'AAAGATTCAGATCTCGGATCTGATTACACGCGTGCTCATCTGCAGAAAAAATTCATCCGTGCTGCCAGATCTCTGCTAGACTATTGGTGGGGGGTAGCGTTAGCTGGGCCGCATAGAACCCCGAAGCTCGGGTAGGCGACCCGATTCGGGTGATATTCCGGTAGCTATCGAACAATGGCGTCGCTCTCCATCCGTTATTCACATTCGGCTAGAAATTGTTCGACTCGGAAATCAGCTTAATCTACTATCTAGGGCAGAGAATCTGCCGGCCTCGGTGTTCCTCCCTGGTAAGCGGAAGGCACGCTCTGGCAGCGTTATATCCTAGCTCGCCGA',\n",
       " 'GGCCCTTATCGCAGCTCTAGAAGAGGGGTTTGCACCCACCAGCTCTTAACAGGGTTACGTTCACCGTTTGTTGCCTGTCGCCTAATCTACCTAATACCTAAGTTCCTTGCAATAATAGGCTTTCCACCTTCAGCTGTCTACTGTTATTACAGTGGGGCATGATTTGGAACGGGTGTACTCTGGTTTGTCATACTGATAGTGTACGAGCATATCTTACGGGCACAAGGGACTCGGTTAGTCCGCAGAATCTAGCAGCGGGAAGCTTACGGTCCAAAACTGGGAAATAGCGGATTCCTCATCTTGGAAAAATTGGCCAGACTTCGAATCTGACGC']"
      ]
     },
     "execution_count": 14,
     "metadata": {},
     "output_type": "execute_result"
    }
   ],
   "source": [
    "dna = [line.strip() for line in open('dataset_163_4.txt', 'r')]\n",
    "dna"
   ]
  },
  {
   "cell_type": "code",
   "execution_count": 15,
   "metadata": {
    "collapsed": false
   },
   "outputs": [
    {
     "data": {
      "text/plain": [
       "'TCATCGCTGATATCA ACCTGCAAGCTCTTA ACCCCACCGCTCTTA ACCCCTGTGCTCTTA CGCCCGAAGCTCTTC CTTCCGAAGCTCTTA CCCCGCAAGTGCCAG ACCCCGAAATGCTTA TCCCCGAAGCTCTAT ATGTCGAAGCTCTTA ACCCCGAAGTAGTTA ACTAAGAAGCTCTTA ACCGTTAAGCTCTTA ACCCTATAGCTCTTA ACCCCGACCGTCTTA ACCCCGTTTCTCTTA ACCCCGAAGCCTGTA ACCCCGCGCCTCTTA ACCCCGAAGCTCGGG ACCCACCAGCTCTTA'"
      ]
     },
     "execution_count": 15,
     "metadata": {},
     "output_type": "execute_result"
    }
   ],
   "source": [
    "bestMotifs,bestScore = loopGibbsSampler(dna, 15, 20, 2000)\n",
    "' '.join(str(i) for i in bestMotifs)"
   ]
  },
  {
   "cell_type": "code",
   "execution_count": 16,
   "metadata": {
    "collapsed": false
   },
   "outputs": [
    {
     "data": {
      "text/plain": [
       "70"
      ]
     },
     "execution_count": 16,
     "metadata": {},
     "output_type": "execute_result"
    }
   ],
   "source": [
    "bestScore"
   ]
  },
  {
   "cell_type": "code",
   "execution_count": 1,
   "metadata": {
    "collapsed": true
   },
   "outputs": [],
   "source": [
    "x = 'TGCTCCAGCCCCGCT TGACGGACCCGGGTT TGAACTGACCGGGTT TGAACAACAGTGGTT TGAAGGTCCCGGGTT GTTACAACCCGGGTT TATGCAACCCGGGTT TGAACAACCCACTTT TGATACACCCGGGTT CTAACAACCCGGGTG TGTCGAACCCGGGTT TGAACAACCCGAAGT AGAACAACCCGGGAC TGAACAACCCGGCAC TGAAATTCCCGGGTT TGAACAACCGAAGTT TGAACGGACCGGGTT TGAACACATCGGGTT TGAACAAGGGGGGTT TGAACAGGTCGGGTT'"
   ]
  },
  {
   "cell_type": "code",
   "execution_count": 5,
   "metadata": {
    "collapsed": false
   },
   "outputs": [
    {
     "name": "stdout",
     "output_type": "stream",
     "text": [
      "TGCTCCAGCCCCGCT\n",
      "TGACGGACCCGGGTT\n",
      "TGAACTGACCGGGTT\n",
      "TGAACAACAGTGGTT\n",
      "TGAAGGTCCCGGGTT\n",
      "GTTACAACCCGGGTT\n",
      "TATGCAACCCGGGTT\n",
      "TGAACAACCCACTTT\n",
      "TGATACACCCGGGTT\n",
      "CTAACAACCCGGGTG\n",
      "TGTCGAACCCGGGTT\n",
      "TGAACAACCCGAAGT\n",
      "AGAACAACCCGGGAC\n",
      "TGAACAACCCGGCAC\n",
      "TGAAATTCCCGGGTT\n",
      "TGAACAACCGAAGTT\n",
      "TGAACGGACCGGGTT\n",
      "TGAACACATCGGGTT\n",
      "TGAACAAGGGGGGTT\n",
      "TGAACAGGTCGGGTT\n"
     ]
    }
   ],
   "source": [
    "for word in x.split(): print word"
   ]
  },
  {
   "cell_type": "code",
   "execution_count": null,
   "metadata": {
    "collapsed": true
   },
   "outputs": [],
   "source": []
  }
 ],
 "metadata": {
  "kernelspec": {
   "display_name": "Python 2",
   "language": "python",
   "name": "python2"
  },
  "language_info": {
   "codemirror_mode": {
    "name": "ipython",
    "version": 2
   },
   "file_extension": ".py",
   "mimetype": "text/x-python",
   "name": "python",
   "nbconvert_exporter": "python",
   "pygments_lexer": "ipython2",
   "version": "2.7.5"
  }
 },
 "nbformat": 4,
 "nbformat_minor": 0
}
