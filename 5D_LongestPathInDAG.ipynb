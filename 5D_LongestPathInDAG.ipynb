{
 "cells": [
  {
   "cell_type": "code",
   "execution_count": 1,
   "metadata": {
    "collapsed": false
   },
   "outputs": [
    {
     "data": {
      "text/plain": [
       "[(0, 3, 26),\n",
       " (0, 9, 31),\n",
       " (0, 13, 28),\n",
       " (0, 24, 30),\n",
       " (1, 7, 2),\n",
       " (1, 13, 7),\n",
       " (1, 15, 27),\n",
       " (1, 16, 4),\n",
       " (1, 21, 34),\n",
       " (1, 28, 1),\n",
       " (1, 31, 28),\n",
       " (2, 3, 23),\n",
       " (2, 10, 21),\n",
       " (2, 13, 2),\n",
       " (2, 19, 32),\n",
       " (2, 27, 11),\n",
       " (2, 29, 14),\n",
       " (2, 31, 31),\n",
       " (3, 15, 19),\n",
       " (3, 16, 6),\n",
       " (3, 19, 39),\n",
       " (3, 20, 36),\n",
       " (4, 18, 35),\n",
       " (4, 19, 20),\n",
       " (4, 22, 26),\n",
       " (4, 23, 17),\n",
       " (4, 34, 4),\n",
       " (5, 17, 31),\n",
       " (5, 24, 20),\n",
       " (5, 29, 3),\n",
       " (6, 14, 24),\n",
       " (7, 25, 14),\n",
       " (7, 30, 1),\n",
       " (7, 33, 4),\n",
       " (8, 14, 16),\n",
       " (8, 22, 33),\n",
       " (9, 21, 29),\n",
       " (9, 29, 4),\n",
       " (10, 12, 34),\n",
       " (10, 23, 5),\n",
       " (11, 14, 25),\n",
       " (11, 15, 7),\n",
       " (11, 23, 5),\n",
       " (11, 26, 24),\n",
       " (11, 34, 23),\n",
       " (12, 13, 10),\n",
       " (12, 21, 33),\n",
       " (12, 24, 1),\n",
       " (13, 14, 13),\n",
       " (13, 16, 34),\n",
       " (13, 17, 37),\n",
       " (13, 18, 35),\n",
       " (13, 19, 2),\n",
       " (13, 33, 22),\n",
       " (13, 34, 3),\n",
       " (14, 18, 18),\n",
       " (14, 23, 9),\n",
       " (15, 19, 17),\n",
       " (15, 22, 35),\n",
       " (15, 25, 26),\n",
       " (15, 34, 38),\n",
       " (16, 17, 8),\n",
       " (16, 30, 28),\n",
       " (16, 31, 35),\n",
       " (17, 27, 15),\n",
       " (17, 34, 36),\n",
       " (18, 19, 7),\n",
       " (18, 30, 12),\n",
       " (18, 31, 11),\n",
       " (18, 32, 38),\n",
       " (19, 21, 32),\n",
       " (19, 22, 19),\n",
       " (19, 24, 37),\n",
       " (19, 31, 23),\n",
       " (20, 22, 39),\n",
       " (20, 23, 38),\n",
       " (21, 25, 29),\n",
       " (22, 26, 24),\n",
       " (24, 29, 7),\n",
       " (24, 32, 5),\n",
       " (24, 33, 30),\n",
       " (24, 34, 22),\n",
       " (25, 29, 7),\n",
       " (25, 32, 23),\n",
       " (25, 33, 10),\n",
       " (26, 34, 28),\n",
       " (27, 28, 9),\n",
       " (27, 31, 26),\n",
       " (27, 33, 17),\n",
       " (28, 31, 33),\n",
       " (28, 34, 31),\n",
       " (29, 33, 33),\n",
       " (30, 33, 26),\n",
       " (31, 33, 35),\n",
       " (32, 33, 23),\n",
       " (32, 34, 0)]"
      ]
     },
     "execution_count": 1,
     "metadata": {},
     "output_type": "execute_result"
    }
   ],
   "source": [
    "f = open('input/dataset_245_7.txt', 'r')\n",
    "a = f.read()\n",
    "a = a.strip().split('\\n')\n",
    "source = int(a[0])\n",
    "sink = int(a[1])\n",
    "node0 = [int(line.split('->')[0]) for line in a[2:]]\n",
    "interm = [line.split('->')[1] for line in a[2:]]\n",
    "node1 = [int(i.split(':')[0]) for i in interm]\n",
    "weight = [int(i.split(':')[1]) for i in interm]\n",
    "\n",
    "g = sorted(zip(node0, node1, weight))\n",
    "g"
   ]
  },
  {
   "cell_type": "code",
   "execution_count": 2,
   "metadata": {
    "collapsed": false
   },
   "outputs": [],
   "source": [
    "def longestPath(graph, source, sink):\n",
    "    s = {}\n",
    "    path = {}\n",
    "    for i in range(len(graph)):\n",
    "        s[graph[i][0]] = -float('inf')\n",
    "        s[graph[i][1]] = -float('inf')\n",
    "    s[source] = 0\n",
    "    for i in range(len(graph)):\n",
    "        if s[graph[i][1]] < s[graph[i][0]] + graph[i][2]:\n",
    "            s[graph[i][1]] = s[graph[i][0]] + graph[i][2]\n",
    "            path[graph[i][1]] = graph[i][0]\n",
    "    stack = [sink]\n",
    "    stack.append(path[sink])\n",
    "    while stack[-1] != source:\n",
    "        stack.append(path[stack[-1]])\n",
    "    return [s[sink],stack[::-1]]"
   ]
  },
  {
   "cell_type": "code",
   "execution_count": 3,
   "metadata": {
    "collapsed": false
   },
   "outputs": [
    {
     "name": "stdout",
     "output_type": "stream",
     "text": [
      "63\n",
      "16->17->27->28->34\n"
     ]
    }
   ],
   "source": [
    "length, longest_path = longestPath(g, source, sink)\n",
    "print length\n",
    "print '->'.join(str(i) for i in longest_path)"
   ]
  },
  {
   "cell_type": "code",
   "execution_count": 4,
   "metadata": {
    "collapsed": false
   },
   "outputs": [
    {
     "data": {
      "text/plain": [
       "[9, [0, 2, 3, 4]]"
      ]
     },
     "execution_count": 4,
     "metadata": {},
     "output_type": "execute_result"
    }
   ],
   "source": [
    "g = [(0, 1, 7),(0, 2, 4),(2, 3, 2),(1, 4, 1),(3, 4, 3)]\n",
    "longestPath(g, 0, 4)"
   ]
  },
  {
   "cell_type": "code",
   "execution_count": 6,
   "metadata": {
    "collapsed": false
   },
   "outputs": [
    {
     "data": {
      "text/plain": [
       "[14, ['a', 'd', 'f', 'g']]"
      ]
     },
     "execution_count": 6,
     "metadata": {},
     "output_type": "execute_result"
    }
   ],
   "source": [
    "g = [('a', 'b', 5),('a', 'c', 6),('a', 'd', 5),('b', 'c', 2),('b', 'f', 4), ('c', 'e', 4), ('c', 'f', 3), \n",
    "     ('c', 'g', 5), ('d', 'e', 6), ('d', 'f', 8), ('e', 'g', 2), ('f', 'g', 1)]\n",
    "longestPath(g, 'a', 'g')"
   ]
  },
  {
   "cell_type": "code",
   "execution_count": null,
   "metadata": {
    "collapsed": true
   },
   "outputs": [],
   "source": [
    "\n",
    "d -> e: 6\n",
    "d -> f: 8\n",
    "e -> g: 2\n",
    "f -> g: 1"
   ]
  }
 ],
 "metadata": {
  "kernelspec": {
   "display_name": "Python 2",
   "language": "python",
   "name": "python2"
  },
  "language_info": {
   "codemirror_mode": {
    "name": "ipython",
    "version": 2
   },
   "file_extension": ".py",
   "mimetype": "text/x-python",
   "name": "python",
   "nbconvert_exporter": "python",
   "pygments_lexer": "ipython2",
   "version": "2.7.5"
  }
 },
 "nbformat": 4,
 "nbformat_minor": 0
}
