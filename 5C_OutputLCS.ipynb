{
 "cells": [
  {
   "cell_type": "code",
   "execution_count": 4,
   "metadata": {
    "collapsed": true
   },
   "outputs": [],
   "source": [
    "def backtrack(D, x, y):\n",
    "    \"\"\"Backtrack for LCS; returns LCS as string\"\"\"\n",
    "    i, j = len(x), len(y) # start in lower right\n",
    "    st = []\n",
    "    while i > 0 and j > 0:\n",
    "        # get three contributions\n",
    "        distDiag, distVer, distHor = 0, 0, 0\n",
    "        if i > 0 and j > 0:\n",
    "            delta = -1 if x[i-1] == y[j-1] else 1\n",
    "            distDiag = D[i-1, j-1] + delta\n",
    "        if i > 0: distVer = D[i-1, j]\n",
    "        if j > 0: distHor = D[i, j-1]\n",
    "        if distDiag <= distVer and distDiag <= distHor:\n",
    "            # diagonal is best, thus, this char is part of LCS\n",
    "            st.append(x[i-1])\n",
    "            i -= 1; j -= 1 # move up and left\n",
    "        elif distVer <= distHor: i-= 1 # vertical is best; move up\n",
    "        else: j-= 1 # horizontal is best; move left\n",
    "    # reverse it, then return string-ized LCS\n",
    "    return (''.join(st))[::-1]"
   ]
  },
  {
   "cell_type": "code",
   "execution_count": 5,
   "metadata": {
    "collapsed": false
   },
   "outputs": [],
   "source": [
    "import numpy\n",
    "def lcsDp(x, y):\n",
    "    \"\"\"Longest common subsequence(LCS) of x and y. Uses backtracking with dynamic programming.\"\"\"\n",
    "    D = numpy.zeros((len(x) + 1, len(y) + 1), dtype = int)\n",
    "    for i in xrange(1, len(x) + 1):\n",
    "        for j in xrange(1, len(y) + 1):\n",
    "            delta = -1 if x[i-1] == y[j-1] else 1\n",
    "            distDiag = D[i-1, j-1] + delta\n",
    "            distHor = D[i, j-1]\n",
    "            distVer = D[i-1, j]\n",
    "            D[i,j] = min(distDiag, distHor, distVer)\n",
    "    return backtrack(D, x, y), D"
   ]
  },
  {
   "cell_type": "code",
   "execution_count": 6,
   "metadata": {
    "collapsed": false
   },
   "outputs": [
    {
     "name": "stdout",
     "output_type": "stream",
     "text": [
      "LCS is: CGAC\n",
      "[[ 0  0  0  0  0  0  0]\n",
      " [ 0  0  0 -1 -1 -1 -1]\n",
      " [ 0 -1 -1 -1 -1 -2 -2]\n",
      " [ 0 -1 -1 -2 -2 -2 -3]\n",
      " [ 0 -1 -1 -2 -3 -3 -3]\n",
      " [ 0 -1 -2 -2 -3 -3 -3]\n",
      " [ 0 -1 -2 -2 -3 -4 -4]]\n"
     ]
    }
   ],
   "source": [
    "lcs, D = lcsDp('GCGATC', 'CTGACG')\n",
    "print 'LCS is:', lcs\n",
    "print D"
   ]
  },
  {
   "cell_type": "code",
   "execution_count": 31,
   "metadata": {
    "collapsed": true
   },
   "outputs": [],
   "source": [
    "#Read the input data\n",
    "x, y = (i.strip() for i in open('input/rosalind_ba5c.txt', 'r'))"
   ]
  },
  {
   "cell_type": "code",
   "execution_count": 32,
   "metadata": {
    "collapsed": false
   },
   "outputs": [
    {
     "data": {
      "text/plain": [
       "'GAATGAACAAGAGTCAAGGTTACCGCAACGGTGAATGTACCACAAGCTTGCAATTCCGATAGGGGGTGGTATACAGGCCGGTTGTTACCCAATCGCTTAAAATTTAAGCGGCAGTTTCCAACTGGATAACGGACCCGGCACCAGCGCGGTCAAGATAATGCGGTGGGGCGAGGAGGATAAATGGGAGTGGCCCGCGGCCTCACGGTACTCAAACTGTGGGGTATAAACGTCCTTAGAACCGCTTTGCGGGCCGGCCCTGCAGGTCAAATCAGATGCCAAAACGGGCCACATTAACGCCCCAACTTCCGGAACCCTTCTTGCGCGCGAGATATTCCAGGCATACTAGATTCCCGACCGCTGAGGTTGACATAGCTGGGCCTCGGACTCAAAAACTGCCGCGATGAACACGTCACCATCATGAATGTGAATTCAAGACAAAAAGGACCGCATCCTACCCATAGATTCACAGTTACCGCGGGGATCCCAGCCACAAGCAGCTTTAATATATATGAATTAAAAGGTCTTTACGTCTTCGTGGAGTGCCGAACTGAAGTGAGGCCCTCAACCACACTTGGGAGTTGTGCCCGTGTAG'"
      ]
     },
     "execution_count": 32,
     "metadata": {},
     "output_type": "execute_result"
    }
   ],
   "source": [
    "#Call function\n",
    "lcs, D = lcsDp(x,y)\n",
    "lcs"
   ]
  },
  {
   "cell_type": "code",
   "execution_count": null,
   "metadata": {
    "collapsed": true
   },
   "outputs": [],
   "source": []
  }
 ],
 "metadata": {
  "kernelspec": {
   "display_name": "Python 2",
   "language": "python",
   "name": "python2"
  },
  "language_info": {
   "codemirror_mode": {
    "name": "ipython",
    "version": 2
   },
   "file_extension": ".py",
   "mimetype": "text/x-python",
   "name": "python",
   "nbconvert_exporter": "python",
   "pygments_lexer": "ipython2",
   "version": "2.7.5"
  }
 },
 "nbformat": 4,
 "nbformat_minor": 0
}
