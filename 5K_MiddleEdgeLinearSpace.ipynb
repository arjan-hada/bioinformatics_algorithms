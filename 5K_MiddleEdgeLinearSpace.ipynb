{
 "cells": [
  {
   "cell_type": "code",
   "execution_count": 1,
   "metadata": {
    "collapsed": false
   },
   "outputs": [
    {
     "name": "stdout",
     "output_type": "stream",
     "text": [
      "['A', 'C', 'D', 'E', 'F', 'G', 'H', 'I', 'K', 'L', 'M', 'N', 'P', 'Q', 'R', 'S', 'T', 'V', 'W', 'Y', '-']\n",
      "[[ 4  0 -2 -1 -2  0 -2 -1 -1 -1 -1 -2 -1 -1 -1  1  0  0 -3 -2 -5]\n",
      " [ 0  9 -3 -4 -2 -3 -3 -1 -3 -1 -1 -3 -3 -3 -3 -1 -1 -1 -2 -2 -5]\n",
      " [-2 -3  6  2 -3 -1 -1 -3 -1 -4 -3  1 -1  0 -2  0 -1 -3 -4 -3 -5]\n",
      " [-1 -4  2  5 -3 -2  0 -3  1 -3 -2  0 -1  2  0  0 -1 -2 -3 -2 -5]\n",
      " [-2 -2 -3 -3  6 -3 -1  0 -3  0  0 -3 -4 -3 -3 -2 -2 -1  1  3 -5]\n",
      " [ 0 -3 -1 -2 -3  6 -2 -4 -2 -4 -3  0 -2 -2 -2  0 -2 -3 -2 -3 -5]\n",
      " [-2 -3 -1  0 -1 -2  8 -3 -1 -3 -2  1 -2  0  0 -1 -2 -3 -2  2 -5]\n",
      " [-1 -1 -3 -3  0 -4 -3  4 -3  2  1 -3 -3 -3 -3 -2 -1  3 -3 -1 -5]\n",
      " [-1 -3 -1  1 -3 -2 -1 -3  5 -2 -1  0 -1  1  2  0 -1 -2 -3 -2 -5]\n",
      " [-1 -1 -4 -3  0 -4 -3  2 -2  4  2 -3 -3 -2 -2 -2 -1  1 -2 -1 -5]\n",
      " [-1 -1 -3 -2  0 -3 -2  1 -1  2  5 -2 -2  0 -1 -1 -1  1 -1 -1 -5]\n",
      " [-2 -3  1  0 -3  0  1 -3  0 -3 -2  6 -2  0  0  1  0 -3 -4 -2 -5]\n",
      " [-1 -3 -1 -1 -4 -2 -2 -3 -1 -3 -2 -2  7 -1 -2 -1 -1 -2 -4 -3 -5]\n",
      " [-1 -3  0  2 -3 -2  0 -3  1 -2  0  0 -1  5  1  0 -1 -2 -2 -1 -5]\n",
      " [-1 -3 -2  0 -3 -2  0 -3  2 -2 -1  0 -2  1  5 -1 -1 -3 -3 -2 -5]\n",
      " [ 1 -1  0  0 -2  0 -1 -2  0 -2 -1  1 -1  0 -1  4  1 -2 -3 -2 -5]\n",
      " [ 0 -1 -1 -1 -2 -2 -2 -1 -1 -1 -1  0 -1 -1 -1  1  5  0 -2 -2 -5]\n",
      " [ 0 -1 -3 -2 -1 -3 -3  3 -2  1  1 -3 -2 -2 -3 -2  0  4 -3 -1 -5]\n",
      " [-3 -2 -4 -3  1 -2 -2 -3 -3 -2 -1 -4 -4 -2 -3 -3 -2 -3 11  2 -5]\n",
      " [-2 -2 -3 -2  3 -3  2 -1 -2 -1 -1 -2 -3 -1 -2 -2 -2 -1  2  7 -5]\n",
      " [-5 -5 -5 -5 -5 -5 -5 -5 -5 -5 -5 -5 -5 -5 -5 -5 -5 -5 -5 -5 -5]]\n"
     ]
    }
   ],
   "source": [
    "import numpy as np\n",
    "f = open('input/BLOSUM62.txt', 'r')\n",
    "score = [line.strip().split() for line in f]\n",
    "alphabet = score[0]\n",
    "blosum62 = np.array([i[1:] for i in score[1:]], dtype = 'int')\n",
    "print alphabet\n",
    "print blosum62"
   ]
  },
  {
   "cell_type": "code",
   "execution_count": 2,
   "metadata": {
    "collapsed": true
   },
   "outputs": [],
   "source": [
    "def globalAlignment(x, y, score):\n",
    "    \"\"\" Calculate global alignment value of sequences x and y using\n",
    "        dynamic programming.  Return global alignment value. \"\"\"\n",
    "    \n",
    "    D = np.zeros((len(x)+1, len(y)+1), dtype = 'int')\n",
    "    \n",
    "    for i in range(1, len(x) + 1):\n",
    "        D[i,0] = D[i-1,0] + score[alphabet.index(x[i-1]), alphabet.index('-')]\n",
    "        \n",
    "    for j in range(1, len(y) + 1):\n",
    "        D[0,j] = D[0,j-1] + score[alphabet.index('-'), alphabet.index(y[j-1])]\n",
    "        \n",
    "    for i in range(1, len(x)+1):\n",
    "        for j in range(1, len(y)+1):\n",
    "            horz = D[i, j-1] + score[alphabet.index('-'), alphabet.index(y[j-1])]\n",
    "            vert = D[i-1, j] + score[alphabet.index(x[i-1]), alphabet.index('-')]\n",
    "            diag = D[i-1, j-1] + score[alphabet.index(x[i-1]), alphabet.index(y[j-1])]\n",
    "            D[i,j] = max(horz, vert, diag)\n",
    "    return D, D[-1][-1]"
   ]
  },
  {
   "cell_type": "code",
   "execution_count": 4,
   "metadata": {
    "collapsed": false
   },
   "outputs": [
    {
     "name": "stdout",
     "output_type": "stream",
     "text": [
      "[[  0  -5 -10 -15 -20 -25 -30 -35]\n",
      " [ -5  -2  -6 -11 -16 -21 -26 -31]\n",
      " [-10  -3  -5  -7 -12 -17 -17 -22]\n",
      " [-15  -8   2  -3  -7 -12 -17 -19]\n",
      " [-20 -13  -3   6   1  -4  -9 -14]\n",
      " [-25 -18  -8   1  10   5   0  -5]\n",
      " [-30 -23 -13  -4   5   8   4  -1]\n",
      " [-35 -28 -18  -9   0  11   6   2]\n",
      " [-40 -33 -23 -14  -5   6  10   5]\n",
      " [-45 -38 -28 -19 -10   1  10   9]\n",
      " [-50 -43 -33 -24 -15  -4   5  17]]\n",
      "17\n"
     ]
    }
   ],
   "source": [
    "D, max_score = globalAlignment('PLEASANTLY','MEASNLY', blosum62)\n",
    "print (D)\n",
    "print (max_score)"
   ]
  },
  {
   "cell_type": "code",
   "execution_count": 9,
   "metadata": {
    "collapsed": true
   },
   "outputs": [],
   "source": [
    "def fromSource(x, y, score):\n",
    "    \"\"\"Find the score from the source (0,0) to each node in the middle column\"\"\"\n",
    "    D = np.zeros((len(x)+1, len(y)/2 +1), dtype = 'int')\n",
    "    \n",
    "    for i in range(1, len(x) + 1):\n",
    "        D[i,0] = D[i-1,0] + score[alphabet.index(x[i-1]), alphabet.index('-')]\n",
    "        \n",
    "    for j in range(1, len(y)/2 + 1):\n",
    "        D[0,j] = D[0,j-1] + score[alphabet.index('-'), alphabet.index(y[j-1])]\n",
    "        \n",
    "    for i in range(1, len(x)+1):\n",
    "        for j in range(1, len(y)/2 +1):\n",
    "            horz = D[i, j-1] + score[alphabet.index('-'), alphabet.index(y[j-1])]\n",
    "            vert = D[i-1, j] + score[alphabet.index(x[i-1]), alphabet.index('-')]\n",
    "            diag = D[i-1, j-1] + score[alphabet.index(x[i-1]), alphabet.index(y[j-1])]\n",
    "            D[i,j] = max(horz, vert, diag)\n",
    "    return D   "
   ]
  },
  {
   "cell_type": "code",
   "execution_count": 15,
   "metadata": {
    "collapsed": false
   },
   "outputs": [
    {
     "name": "stdout",
     "output_type": "stream",
     "text": [
      "[[  0  -5 -10 -15]\n",
      " [ -5  -2  -6 -11]\n",
      " [-10  -3  -5  -7]\n",
      " [-15  -8   2  -3]\n",
      " [-20 -13  -3   6]\n",
      " [-25 -18  -8   1]\n",
      " [-30 -23 -13  -4]\n",
      " [-35 -28 -18  -9]\n",
      " [-40 -33 -23 -14]\n",
      " [-45 -38 -28 -19]\n",
      " [-50 -43 -33 -24]]\n",
      "[-15 -11  -7  -3   6   1  -4  -9 -14 -19 -24]\n"
     ]
    }
   ],
   "source": [
    "x,y = 'PLEASANTLY','MEASNLY'\n",
    "sourceToMiddle = fromSource(x, y, blosum62)\n",
    "print (sourceToMiddle)\n",
    "print (sourceToMiddle[:,len(y)/2])"
   ]
  },
  {
   "cell_type": "code",
   "execution_count": 39,
   "metadata": {
    "collapsed": false
   },
   "outputs": [],
   "source": [
    "def fromSink(x, y, score):\n",
    "    \"\"\"Find the score from the sink to each node in the middle column by travelling backwards\"\"\"\n",
    "    x, y = x[::-1],y[::-1]\n",
    "    D = np.zeros((len(x)+1, (len(y) - len(y)/2) +1), dtype = 'int')\n",
    "    for i in range(1, len(x) + 1):\n",
    "        D[i,0] = D[i-1,0] + score[alphabet.index(x[i-1]), alphabet.index('-')]\n",
    "        \n",
    "    for j in range(1, (len(y) - len(y)/2) + 1):\n",
    "        D[0,j] = D[0,j-1] + score[alphabet.index('-'), alphabet.index(y[j-1])]\n",
    "        \n",
    "    for i in range(1, len(x)+1):\n",
    "        for j in range(1, (len(y) - len(y)/2) + 1):\n",
    "            horz = D[i, j-1] + score[alphabet.index('-'), alphabet.index(y[j-1])]\n",
    "            vert = D[i-1, j] + score[alphabet.index(x[i-1]), alphabet.index('-')]\n",
    "            diag = D[i-1, j-1] + score[alphabet.index(x[i-1]), alphabet.index(y[j-1])]\n",
    "            D[i,j] = max(horz, vert, diag)\n",
    "    return D   "
   ]
  },
  {
   "cell_type": "code",
   "execution_count": 42,
   "metadata": {
    "collapsed": false
   },
   "outputs": [
    {
     "name": "stdout",
     "output_type": "stream",
     "text": [
      "[[  0  -5 -10 -15 -20]\n",
      " [ -5   7   2  -3  -8]\n",
      " [-10   2  11   6   1]\n",
      " [-15  -3   6  11   7]\n",
      " [-20  -8   1  12  12]\n",
      " [-25 -13  -4   7  13]\n",
      " [-30 -18  -9   2  11]\n",
      " [-35 -23 -14  -3   6]\n",
      " [-40 -28 -19  -8   1]\n",
      " [-45 -33 -24 -13  -4]\n",
      " [-50 -38 -29 -18  -9]]\n",
      "[ -9  -4   1   6  11  13  12   7   1  -8 -20]\n"
     ]
    }
   ],
   "source": [
    "x,y = 'PLEASANTLY','MEASNLY'\n",
    "sinkToMiddle = fromSink(x, y, blosum62)\n",
    "print (sinkToMiddle)\n",
    "print (sinkToMiddle[:,(len(y) - len(y)/2)][::-1])"
   ]
  },
  {
   "cell_type": "code",
   "execution_count": 76,
   "metadata": {
    "collapsed": true
   },
   "outputs": [],
   "source": [
    "def middleEdge(x, y, score):\n",
    "    # Find middle node\n",
    "    sourceToMiddle = fromSource(x, y, score)\n",
    "    sinkToMiddle = fromSink(x, y, score)\n",
    "    length = sourceToMiddle[:,len(y)/2] + sinkToMiddle[:,(len(y) - len(y)/2)][::-1]\n",
    "    i = length.argmax()\n",
    "    j = len(y)/2\n",
    "    # Find middle edge\n",
    "    a, b = len(x)-i, len(y)-j #Middle node in sinkToMiddle 2D array\n",
    "    # Find which node led to a, b\n",
    "    horz = sinkToMiddle[a, b-1] + score[alphabet.index('-'), alphabet.index(y[::-1][b-1])]\n",
    "    vert = sinkToMiddle[a-1, b] + score[alphabet.index(x[::-1][a-1]), alphabet.index('-')]\n",
    "    diag = sinkToMiddle[a-1, b-1] + score[alphabet.index(x[::-1][a-1]), alphabet.index(y[::-1][b-1])]\n",
    "    #  Find which node led into the middle node when you did the backwards search from the sink.\n",
    "    if diag >= vert and diag >= horz:\n",
    "        k,l = len(x) -(a-1), len(y) - (b-1)\n",
    "    elif vert >= horz:\n",
    "        k,l = len(x) -(a-1), len(y) - b\n",
    "    else:\n",
    "        k,l = len(x) - a, len(y) - (b-1)\n",
    "    return (i,j), (k,l)"
   ]
  },
  {
   "cell_type": "code",
   "execution_count": 78,
   "metadata": {
    "collapsed": false
   },
   "outputs": [
    {
     "data": {
      "text/plain": [
       "((4, 3), (5, 4))"
      ]
     },
     "execution_count": 78,
     "metadata": {},
     "output_type": "execute_result"
    }
   ],
   "source": [
    "x,y = 'PLEASANTLY','MEASNLY'\n",
    "middleEdge(x, y, blosum62)"
   ]
  },
  {
   "cell_type": "code",
   "execution_count": 80,
   "metadata": {
    "collapsed": false
   },
   "outputs": [
    {
     "data": {
      "text/plain": [
       "((514, 520), (515, 521))"
      ]
     },
     "execution_count": 80,
     "metadata": {},
     "output_type": "execute_result"
    }
   ],
   "source": [
    "x, y = [i.strip() for i in open('input/rosalind_ba5k.txt', 'r')]\n",
    "middleEdge(x, y, blosum62)"
   ]
  },
  {
   "cell_type": "code",
   "execution_count": null,
   "metadata": {
    "collapsed": true
   },
   "outputs": [],
   "source": []
  }
 ],
 "metadata": {
  "kernelspec": {
   "display_name": "Python 2",
   "language": "python",
   "name": "python2"
  },
  "language_info": {
   "codemirror_mode": {
    "name": "ipython",
    "version": 2
   },
   "file_extension": ".py",
   "mimetype": "text/x-python",
   "name": "python",
   "nbconvert_exporter": "python",
   "pygments_lexer": "ipython2",
   "version": "2.7.5"
  }
 },
 "nbformat": 4,
 "nbformat_minor": 0
}
