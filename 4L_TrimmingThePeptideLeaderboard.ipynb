{
 "cells": [
  {
   "cell_type": "code",
   "execution_count": 6,
   "metadata": {
    "collapsed": false
   },
   "outputs": [],
   "source": [
    "aminoacidMass = {'G':57, 'A':71, 'S':87, 'P':97, 'V':99, 'T':101, 'C':103, 'I':113, 'L':113, 'N':114, 'D':115, 'K':128, 'Q':128, 'E':129, 'M':131, 'H':137, 'F':147, 'R':156, 'Y':163, 'W':186}\n",
    "def linearSpectrum(peptide):\n",
    "    \"\"\"Input: An amino acid string Peptide.\n",
    "     Output: The linear spectrum of Peptide.\"\"\"\n",
    "    prefixMass = [0]*((len(peptide)+1))\n",
    "    for i in xrange(len(peptide)):\n",
    "        prefixMass[i+1] = prefixMass[i] + aminoacidMass[peptide[i]]\n",
    "    #print 'prefixMass', prefixMass\n",
    "    linear_spectrum = [0]\n",
    "    for i in xrange(len(prefixMass)-1):\n",
    "        for j in xrange(i+1, len(prefixMass)):\n",
    "            linear_spectrum.append(prefixMass[j] - prefixMass[i])\n",
    "    return sorted(linear_spectrum)    "
   ]
  },
  {
   "cell_type": "code",
   "execution_count": 7,
   "metadata": {
    "collapsed": true
   },
   "outputs": [],
   "source": [
    "from collections import Counter\n",
    "def score_linear_peptide(peptide, spectrum):\n",
    "    \"\"\"Compute the score of a linear peptide with respect to a spectrum.\n",
    "     Input: An amino acid string Peptide and a collection of integers Spectrum.\n",
    "     Output: The linear score of Peptide with respect to Spectrum, LinearScore(Peptide, Spectrum).\"\"\"\n",
    "    spectrum_linear_peptide = linearSpectrum(peptide)\n",
    "    c3, c4 = Counter(spectrum_linear_peptide), Counter(spectrum)\n",
    "    return sum([min(n, c4[k]) for k,n in c3.items()])"
   ]
  },
  {
   "cell_type": "code",
   "execution_count": 41,
   "metadata": {
    "collapsed": false
   },
   "outputs": [
    {
     "data": {
      "text/plain": [
       "8"
      ]
     },
     "execution_count": 41,
     "metadata": {},
     "output_type": "execute_result"
    }
   ],
   "source": [
    "score_linear_peptide('NKEL', [0, 99, 113, 114, 128, 227, 257, 299, 355, 356, 370, 371, 484])"
   ]
  },
  {
   "cell_type": "code",
   "execution_count": 9,
   "metadata": {
    "collapsed": false
   },
   "outputs": [
    {
     "data": {
      "text/plain": [
       "7"
      ]
     },
     "execution_count": 9,
     "metadata": {},
     "output_type": "execute_result"
    }
   ],
   "source": [
    "score_linear_peptide('PEEP', [0, 97, 129, 129, 129, 194, 226, 323, 323, 355, 452])"
   ]
  },
  {
   "cell_type": "code",
   "execution_count": 44,
   "metadata": {
    "collapsed": false
   },
   "outputs": [],
   "source": [
    "#Read the data containing peptide and spectrum to compute linear score wrt spectrum.\n",
    "f = open('input/rosalind_ba4k.txt')\n",
    "peptide2, spectrum2 = [line.strip() if i==0 else map(int,line.strip().split()) for i, line in enumerate(f.readlines())]"
   ]
  },
  {
   "cell_type": "code",
   "execution_count": 45,
   "metadata": {
    "collapsed": false
   },
   "outputs": [
    {
     "data": {
      "text/plain": [
       "544"
      ]
     },
     "execution_count": 45,
     "metadata": {},
     "output_type": "execute_result"
    }
   ],
   "source": [
    "#Call function\n",
    "score_linear_peptide(peptide2, spectrum2)"
   ]
  },
  {
   "cell_type": "code",
   "execution_count": 12,
   "metadata": {
    "collapsed": true
   },
   "outputs": [],
   "source": [
    "def trim_leaderboard(leaderboard, spectrum, N):\n",
    "    \"\"\"Input: A collection of peptides Leaderboard, a collection of integers Spectrum, and an integer N.\n",
    "     Output: The N highest-scoring linear peptides on Leaderboard with respect to Spectrum.\"\"\"\n",
    "    scores =  [[score_linear_peptide(peptide, spectrum), peptide] for peptide in leaderboard]\n",
    "    sorted_scores = sorted(scores, reverse = True)\n",
    "    if len(leaderboard) <= N:\n",
    "        return [i[1] for i in sorted_scores]\n",
    "    else:\n",
    "        return [i[1] for i in sorted_scores if i[0] >= sorted_scores[int(N)-1][0]]"
   ]
  },
  {
   "cell_type": "code",
   "execution_count": 13,
   "metadata": {
    "collapsed": false
   },
   "outputs": [
    {
     "name": "stdout",
     "output_type": "stream",
     "text": [
      "[[11, 'LAST'], [9, 'ALST'], [3, 'TLLT'], [5, 'TQAS']]\n",
      "[[11, 'LAST'], [9, 'ALST'], [5, 'TQAS'], [3, 'TLLT']]\n"
     ]
    },
    {
     "data": {
      "text/plain": [
       "['LAST', 'ALST']"
      ]
     },
     "execution_count": 13,
     "metadata": {},
     "output_type": "execute_result"
    }
   ],
   "source": [
    "trim_leaderboard(['LAST', 'ALST', 'TLLT', 'TQAS'], [0, 71, 87, 101, 113, 158, 184, 188, 259, 271, 372], 2)"
   ]
  },
  {
   "cell_type": "markdown",
   "metadata": {},
   "source": [
    "### Final algorithm for Trimming the peptide leaderboard"
   ]
  },
  {
   "cell_type": "code",
   "execution_count": 49,
   "metadata": {
    "collapsed": false
   },
   "outputs": [
    {
     "name": "stdout",
     "output_type": "stream",
     "text": [
      "LTACRNHQLANICHAKPFRLTQMSYCHYRNTNGRHW\n",
      "QVDATLPIACGMFHSWHDAWSHPMKKDHCPIIGMKQ\n",
      "MKCEPISVEKVVPMMDTPPLERRDSFYDRWSIDYVK\n",
      "HFNLTPCQNNVIAWFGRKITYPHEHSMDQYYEGVWD\n",
      "IFFFRVDTYGYSRQHNYCAGYMSACGPENCLIVWLC\n",
      "WHIFFLDVNFCMMPVNCGQGVAYIWNPQEIIGAKAL\n",
      "KWNRAVQIAKWTITNMIFPHHVVITLIQSRGSRVRM\n",
      "PIKTLNPMMEIWIAGPWDMDGVSVIMWSPIAIREKK\n",
      "KFDNGWNGGWEWCLIFEQWQLCAIVRIPTYQDGHDA\n",
      "TMPHISIRFGTYYHYRVMVLRIRGSDNGRFHKLNHH\n",
      "KCDMATDQYWRGGEFPGFTMEIHHCWIFQWSPCKPA\n",
      "GYYYMWPVQANTKNNIFWLWAFMAKRRLSTYWAIYL\n",
      "STENTCTSVPEQESQCCHENFVMPGCRQWDLGRESD\n",
      "NILYRSAQGKFHGANSHFMWWRLLPYWGAGFLLIPQ\n",
      "GFVKITARLVCYGYEQRWEFCLYGVGWCYKTSTQHD\n"
     ]
    }
   ],
   "source": [
    "aminoacidMass = {'G':57, 'A':71, 'S':87, 'P':97, 'V':99, 'T':101, 'C':103, 'I':113, 'L':113, 'N':114, 'D':115, 'K':128, 'Q':128, 'E':129, 'M':131, 'H':137, 'F':147, 'R':156, 'Y':163, 'W':186}\n",
    "def linearSpectrum(peptide):\n",
    "    \"\"\"Input: An amino acid string Peptide.\n",
    "     Output: The linear spectrum of Peptide.\"\"\"\n",
    "    prefixMass = [0]*((len(peptide)+1))\n",
    "    for i in xrange(len(peptide)):\n",
    "        prefixMass[i+1] = prefixMass[i] + aminoacidMass[peptide[i]]\n",
    "    #print 'prefixMass', prefixMass\n",
    "    linear_spectrum = [0]\n",
    "    for i in xrange(len(prefixMass)-1):\n",
    "        for j in xrange(i+1, len(prefixMass)):\n",
    "            linear_spectrum.append(prefixMass[j] - prefixMass[i])\n",
    "    return sorted(linear_spectrum)    \n",
    "\n",
    "from collections import Counter\n",
    "def score_linear_peptide(peptide, spectrum):\n",
    "    \"\"\"Compute the score of a linear peptide with respect to a spectrum.\n",
    "     Input: An amino acid string Peptide and a collection of integers Spectrum.\n",
    "     Output: The linear score of Peptide with respect to Spectrum, LinearScore(Peptide, Spectrum).\"\"\"\n",
    "    spectrum_linear_peptide = linearSpectrum(peptide)\n",
    "    c3, c4 = Counter(spectrum_linear_peptide), Counter(spectrum)\n",
    "    return sum([min(n, c4[k]) for k,n in c3.items()])\n",
    "\n",
    "def trim_leaderboard(leaderboard, spectrum, N):\n",
    "    \"\"\"Input: A collection of peptides Leaderboard, a collection of integers Spectrum, and an integer N.\n",
    "     Output: The N highest-scoring linear peptides on Leaderboard with respect to Spectrum.\"\"\"\n",
    "    scores =  [[score_linear_peptide(peptide, spectrum), peptide] for peptide in leaderboard]\n",
    "    sorted_scores = sorted(scores, reverse = True)\n",
    "    if len(leaderboard) <= N:\n",
    "        return [i[1] for i in sorted_scores]\n",
    "    else:\n",
    "        return [i[1] for i in sorted_scores if i[0] >= sorted_scores[int(N)-1][0]]\n",
    "\n",
    "#Reading the iput from .txt file\n",
    "f = open('input/rosalind_ba4l.txt', 'r')\n",
    "leaderboard, spectrum, n = [line.split() for line in f]\n",
    "spectrum = map(int, spectrum)\n",
    "N = int(n.pop())\n",
    "\n",
    "#Calling the function\n",
    "ans = trim_leaderboard(leaderboard, spectrum, N)\n",
    "\n",
    "#Print the output in desired format\n",
    "for i in ans:\n",
    "    print i"
   ]
  },
  {
   "cell_type": "code",
   "execution_count": 46,
   "metadata": {
    "collapsed": false
   },
   "outputs": [
    {
     "data": {
      "text/plain": [
       "15"
      ]
     },
     "execution_count": 46,
     "metadata": {},
     "output_type": "execute_result"
    }
   ],
   "source": [
    "len(leaderboard)"
   ]
  },
  {
   "cell_type": "code",
   "execution_count": null,
   "metadata": {
    "collapsed": true
   },
   "outputs": [],
   "source": []
  }
 ],
 "metadata": {
  "kernelspec": {
   "display_name": "Python 2",
   "language": "python",
   "name": "python2"
  },
  "language_info": {
   "codemirror_mode": {
    "name": "ipython",
    "version": 2
   },
   "file_extension": ".py",
   "mimetype": "text/x-python",
   "name": "python",
   "nbconvert_exporter": "python",
   "pygments_lexer": "ipython2",
   "version": "2.7.5"
  }
 },
 "nbformat": 4,
 "nbformat_minor": 0
}
