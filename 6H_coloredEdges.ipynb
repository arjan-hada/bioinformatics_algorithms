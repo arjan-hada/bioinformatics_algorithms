{
 "cells": [
  {
   "cell_type": "code",
   "execution_count": 1,
   "metadata": {
    "collapsed": true
   },
   "outputs": [],
   "source": [
    "def chromosomeToCycle(chromosome):\n",
    "    \"\"\" Input: A chromosome Chromosome containing n synteny blocks.\n",
    "        Output: The sequence Nodes of integers between 1 and 2n resulting from applying ChromosomeToCycle\n",
    "        to Chromosome.\"\"\"\n",
    "    nodes = [0]*(2*len(chromosome))\n",
    "    for j in range(len(chromosome)):\n",
    "        i = chromosome[j]\n",
    "        if i > 0:\n",
    "            nodes[2*j] = 2*i - 1\n",
    "            nodes[2*j + 1] = 2*i\n",
    "        if i < 0:\n",
    "            nodes[2*j] = -2*i\n",
    "            nodes[2*j + 1] = -2*i - 1\n",
    "    return nodes"
   ]
  },
  {
   "cell_type": "code",
   "execution_count": 7,
   "metadata": {
    "collapsed": true
   },
   "outputs": [],
   "source": [
    "def coloredEdges(genome):\n",
    "    \"\"\"Input: A genome P.\n",
    "       Output: The collection of colored edges in the genome graph of P in the form (x, y).\"\"\"\n",
    "    edges = []\n",
    "    for chromosome in genome:\n",
    "        nodes = chromosomeToCycle(chromosome)\n",
    "        nodes.append(nodes[0]) #makes it easier to get edges\n",
    "        for j in range(len(chromosome)):\n",
    "            edges.append((nodes[2*j+1], nodes[2*j+2]))\n",
    "    return edges"
   ]
  },
  {
   "cell_type": "code",
   "execution_count": 8,
   "metadata": {
    "collapsed": false
   },
   "outputs": [
    {
     "data": {
      "text/plain": [
       "[(2, 4), (3, 6), (5, 1), (8, 9), (10, 12), (11, 7)]"
      ]
     },
     "execution_count": 8,
     "metadata": {},
     "output_type": "execute_result"
    }
   ],
   "source": [
    "genome = [[1, -2, -3], [4, 5, -6]]\n",
    "coloredEdges(genome)"
   ]
  },
  {
   "cell_type": "code",
   "execution_count": 25,
   "metadata": {
    "collapsed": false
   },
   "outputs": [],
   "source": [
    "#Reading the input in right format\n",
    "f = open('input/rosalind_ba6h.txt')\n",
    "genome = map(lambda x: map(int, x.split()), f.read().strip().lstrip('(').rstrip(')').split(')('))"
   ]
  },
  {
   "cell_type": "code",
   "execution_count": 26,
   "metadata": {
    "collapsed": false
   },
   "outputs": [
    {
     "name": "stdout",
     "output_type": "stream",
     "text": [
      "[(2, 4), (3, 5), (6, 8), (7, 10), (9, 11), (12, 13), (14, 15), (16, 18), (17, 20), (19, 22), (21, 24), (23, 25), (26, 27), (28, 30), (29, 32), (31, 33), (34, 36), (35, 38), (37, 40), (39, 42), (41, 43), (44, 45), (46, 47), (48, 1), (50, 51), (52, 54), (53, 55), (56, 57), (58, 60), (59, 62), (61, 63), (64, 65), (66, 67), (68, 70), (69, 72), (71, 74), (73, 75), (76, 77), (78, 80), (79, 82), (81, 83), (84, 86), (85, 87), (88, 90), (89, 92), (91, 94), (93, 95), (96, 97), (98, 100), (99, 101), (102, 103), (104, 106), (105, 108), (107, 109), (110, 49), (112, 113), (114, 115), (116, 118), (117, 120), (119, 121), (122, 124), (123, 125), (126, 127), (128, 130), (129, 132), (131, 133), (134, 135), (136, 138), (137, 139), (140, 142), (141, 144), (143, 146), (145, 147), (148, 150), (149, 151), (152, 154), (153, 156), (155, 158), (157, 159), (160, 162), (161, 163), (164, 111), (165, 167), (168, 170), (169, 171), (172, 173), (174, 176), (175, 178), (177, 180), (179, 181), (182, 184), (183, 185), (186, 187), (188, 189), (190, 192), (191, 194), (193, 196), (195, 198), (197, 200), (199, 201), (202, 203), (204, 205), (206, 208), (207, 210), (209, 211), (212, 166), (213, 215), (216, 218), (217, 220), (219, 221), (222, 223), (224, 225), (226, 227), (228, 229), (230, 231), (232, 233), (234, 236), (235, 237), (238, 239), (240, 242), (241, 243), (244, 246), (245, 247), (248, 249), (250, 251), (252, 254), (253, 256), (255, 258), (257, 214), (259, 262), (261, 263), (264, 265), (266, 267), (268, 270), (269, 272), (271, 273), (274, 276), (275, 277), (278, 280), (279, 281), (282, 284), (283, 286), (285, 288), (287, 289), (290, 292), (291, 294), (293, 296), (295, 297), (298, 300), (299, 301), (302, 303), (304, 305), (306, 260), (308, 309), (310, 312), (311, 314), (313, 316), (315, 317), (318, 320), (319, 321), (322, 324), (323, 325), (326, 327), (328, 329), (330, 332), (331, 334), (333, 336), (335, 338), (337, 340), (339, 342), (341, 344), (343, 345), (346, 347), (348, 350), (349, 351), (352, 354), (353, 356), (355, 357), (358, 360), (359, 362), (361, 307), (364, 366), (365, 367), (368, 370), (369, 371), (372, 374), (373, 376), (375, 377), (378, 379), (380, 382), (381, 383), (384, 386), (385, 387), (388, 389), (390, 391), (392, 394), (393, 395), (396, 398), (397, 400), (399, 401), (402, 404), (403, 406), (405, 407), (408, 410), (409, 363)]\n"
     ]
    }
   ],
   "source": [
    "print (coloredEdges(genome))"
   ]
  },
  {
   "cell_type": "code",
   "execution_count": null,
   "metadata": {
    "collapsed": true
   },
   "outputs": [],
   "source": []
  }
 ],
 "metadata": {
  "kernelspec": {
   "display_name": "Python 2",
   "language": "python",
   "name": "python2"
  },
  "language_info": {
   "codemirror_mode": {
    "name": "ipython",
    "version": 2
   },
   "file_extension": ".py",
   "mimetype": "text/x-python",
   "name": "python",
   "nbconvert_exporter": "python",
   "pygments_lexer": "ipython2",
   "version": "2.7.5"
  }
 },
 "nbformat": 4,
 "nbformat_minor": 0
}
