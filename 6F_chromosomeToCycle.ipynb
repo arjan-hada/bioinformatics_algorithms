{
 "cells": [
  {
   "cell_type": "code",
   "execution_count": 16,
   "metadata": {
    "collapsed": true
   },
   "outputs": [],
   "source": [
    "def chromosomeToCycle(chromosome):\n",
    "    \"\"\" Input: A chromosome Chromosome containing n synteny blocks.\n",
    "        Output: The sequence Nodes of integers between 1 and 2n resulting from applying ChromosomeToCycle\n",
    "        to Chromosome.\"\"\"\n",
    "    nodes = [0]*(2*len(chromosome))\n",
    "    for j in range(len(chromosome)):\n",
    "        i = chromosome[j]\n",
    "        if i > 0:\n",
    "            nodes[2*j] = 2*i - 1\n",
    "            nodes[2*j + 1] = 2*i\n",
    "        if i < 0:\n",
    "            nodes[2*j] = -2*i\n",
    "            nodes[2*j + 1] = -2*i - 1\n",
    "    return nodes"
   ]
  },
  {
   "cell_type": "code",
   "execution_count": 17,
   "metadata": {
    "collapsed": false
   },
   "outputs": [
    {
     "data": {
      "text/plain": [
       "[1, 2, 4, 3, 6, 5, 7, 8]"
      ]
     },
     "execution_count": 17,
     "metadata": {},
     "output_type": "execute_result"
    }
   ],
   "source": [
    "chromosome = [1, -2, -3, 4]\n",
    "chromosomeToCycle(chromosome)"
   ]
  },
  {
   "cell_type": "code",
   "execution_count": 28,
   "metadata": {
    "collapsed": false
   },
   "outputs": [
    {
     "name": "stdout",
     "output_type": "stream",
     "text": [
      "(2 1 3 4 5 6 8 7 10 9 11 12 14 13 16 15 18 17 19 20 21 22 24 23 26 25 27 28 30 29 31 32 33 34 35 36 38 37 39 40 41 42 44 43 45 46 48 47 50 49 51 52 54 53 56 55 58 57 60 59 62 61 63 64 65 66 67 68 69 70 72 71 73 74 75 76 77 78 79 80 82 81 84 83 85 86 87 88 89 90 91 92 94 93 95 96 98 97 99 100 101 102 103 104 106 105 108 107 109 110 111 112 113 114 115 116 117 118 119 120 122 121 123 124 125 126 127 128 129 130 131 132)\n"
     ]
    }
   ],
   "source": [
    "f = open('input/rosalind_ba6f.txt')\n",
    "chromosome = map(int, f.read().strip().lstrip('(').rstrip(')').split())\n",
    "ans = chromosomeToCycle(chromosome)\n",
    "output = '(' + ' '.join(str(i) for i in ans) + ')'\n",
    "print (output)"
   ]
  },
  {
   "cell_type": "code",
   "execution_count": 26,
   "metadata": {
    "collapsed": false
   },
   "outputs": [
    {
     "name": "stdout",
     "output_type": "stream",
     "text": [
      "[0, 0, 0, 0, 0]\n"
     ]
    }
   ],
   "source": [
    "x = [0]*5\n",
    "print x"
   ]
  },
  {
   "cell_type": "code",
   "execution_count": null,
   "metadata": {
    "collapsed": true
   },
   "outputs": [],
   "source": []
  }
 ],
 "metadata": {
  "kernelspec": {
   "display_name": "Python 2",
   "language": "python",
   "name": "python2"
  },
  "language_info": {
   "codemirror_mode": {
    "name": "ipython",
    "version": 2
   },
   "file_extension": ".py",
   "mimetype": "text/x-python",
   "name": "python",
   "nbconvert_exporter": "python",
   "pygments_lexer": "ipython2",
   "version": "2.7.5"
  }
 },
 "nbformat": 4,
 "nbformat_minor": 0
}
